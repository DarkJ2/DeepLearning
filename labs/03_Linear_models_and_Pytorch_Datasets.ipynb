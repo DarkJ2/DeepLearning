{
  "nbformat": 4,
  "nbformat_minor": 0,
  "metadata": {
    "colab": {
      "provenance": [],
      "collapsed_sections": [
        "8htU_ACVGQY5",
        "5z1iX6ltDTx8",
        "Tvpx3YbdcKlK",
        "ndnx7HJxkvXH",
        "SYYP8rCj2-Ae",
        "Q4l1TIvepi6H",
        "zFEIytCKlMsQ",
        "DUhUSCRNoTQb"
      ],
      "toc_visible": true
    },
    "kernelspec": {
      "name": "python3",
      "display_name": "Python 3"
    }
  },
  "cells": [
    {
      "cell_type": "markdown",
      "metadata": {
        "id": "4C5Ct9yoZKYa"
      },
      "source": [
        "# Deep Learning & Applied AI\n",
        "\n",
        "# Tutorial 3: Linear models and Pytorch Datasets\n",
        "\n",
        "In this tutorial, we will cover:\n",
        "\n",
        "- Linear models\n",
        "- Pytorch Dataset and DataLoader\n",
        "\n",
        "Based on original material by Dr. Luca Moschella (moschella@di.uniroma1.it) and Dr. Antonio Norelli (norelli@di.uniroma1.it)\n",
        "\n",
        "Course:\n",
        "\n",
        "- Website and notebooks will be available at https://erodola.github.io/DLAI-s2-2025/\n",
        "\n",
        "#### Instructions\n",
        "We encourage you to form small groups of 2-3 people to read and discuss the notebooks together.\n",
        "\n",
        "Run the code and play with it! It is very easy to edit the code locally and make small experiments. Try whatever comes to your mind, this is the best way to learn! Python notebooks are designed to be used in this way, that's why we chose them for the DLAI lab sessions.\n",
        "\n",
        "There will be some exercises, try to do them by yourself, and when everyone in your group has finished, compare the solutions with each other.\n",
        "\n",
        "When something is not clear or you have a question, raise your hand and we will come to you, or directly approach us.\n",
        "\n",
        "Some sections in the notebooks are marked with 📖. This is additional content for further reading outside of class. You may want to go through it at home or during class if you finish early. (Some sections are \"more optional\" than others, those marked with more books 📖📖)\n",
        "\n",
        "Let's start!"
      ]
    },
    {
      "cell_type": "markdown",
      "metadata": {
        "id": "dHLO4Z-T_yxB"
      },
      "source": [
        "### Import dependencies"
      ]
    },
    {
      "cell_type": "markdown",
      "source": [
        "In this notebook you will discover **Plotly**, a powerful plotting library (there are many [visualization libraries](https://pyviz.org/overviews/index.html) for Python).\n",
        "Effectively communicating your findings through plots and visualizations is an essential part of any scientific or engineering project.\n",
        "Plotly is a modern library that makes interactive plots very easy to produce, and is very popular also outside of the DL community.\n",
        "\n",
        "[Here](https://plot.ly/python/) you can find its documentation."
      ],
      "metadata": {
        "id": "GHKiAWxOGLb1"
      }
    },
    {
      "cell_type": "code",
      "metadata": {
        "id": "pRePt-K1_yw9"
      },
      "source": [
        "import torch\n",
        "import numpy as np\n",
        "import plotly.express as px\n",
        "from plotly.subplots import make_subplots\n",
        "import plotly.graph_objects as go"
      ],
      "execution_count": 1,
      "outputs": []
    },
    {
      "cell_type": "markdown",
      "source": [
        "### A note on reproducibility\n",
        "\n",
        "As mentioned in the previous notebooks, we are going to ensure that all the RNGs used in different parts of this notebook produce the same sequence of numbers each time."
      ],
      "metadata": {
        "id": "pcNRBDwVUlkl"
      }
    },
    {
      "cell_type": "code",
      "metadata": {
        "id": "2tGN_bJOcfd3"
      },
      "source": [
        "# Reproducibility stuff\n",
        "\n",
        "import random\n",
        "torch.manual_seed(42)      # PyTorch CPU\n",
        "np.random.seed(42)         # NumPy\n",
        "random.seed(0)             # Python built-in\n",
        "torch.cuda.manual_seed(0)  # PyTorch GPU"
      ],
      "execution_count": 2,
      "outputs": []
    },
    {
      "cell_type": "markdown",
      "source": [
        "For some operations, cuDNN (NVIDIA's library for deep neural networks) uses algorithms that can produce different results on different runs, *even* with the same inputs and the same seed. Below we set `deterministic = True`, forcing cuDNN to use deterministic algorithms where possible. This might limit cuDNN to a subset of algorithms that might not be  the most efficient, but will produce the same results across different runs."
      ],
      "metadata": {
        "id": "WB-2WlPSU8Fl"
      }
    },
    {
      "cell_type": "code",
      "source": [
        "torch.backends.cudnn.deterministic = True"
      ],
      "metadata": {
        "id": "rNcVjPZPVJuf"
      },
      "execution_count": 3,
      "outputs": []
    },
    {
      "cell_type": "markdown",
      "source": [
        "Finally, when `benchmark = True`, cuDNN will automatically find the most efficient algorithms for your specific operations based on your network architecture and input sizes. This can greatly improve performance. However, since the selection of algorithms might change from one run to another, this can lead to non-deterministic behavior. Setting it to `benchmark = False` prevents cuDNN from dynamically selecting algorithms, thus improving reproducibility at the cost of potential performance gains."
      ],
      "metadata": {
        "id": "YDdgn57QVLI5"
      }
    },
    {
      "cell_type": "code",
      "source": [
        "torch.backends.cudnn.benchmark = False"
      ],
      "metadata": {
        "id": "Vl8AGAIfVS9J"
      },
      "execution_count": 4,
      "outputs": []
    },
    {
      "cell_type": "markdown",
      "source": [
        "Enough about reproducibility, let's move on to the meat!"
      ],
      "metadata": {
        "id": "4AOnQMcxVTa7"
      }
    },
    {
      "cell_type": "markdown",
      "metadata": {
        "id": "GPHftSvUaIhe"
      },
      "source": [
        "##Linear models\n"
      ]
    },
    {
      "cell_type": "markdown",
      "source": [
        "Today we'll work with **linear models**. Don't underestimate their power! Linear models are simple, but they are at the heart of several effective pipelines. They will provide solid baselines for our experiments at the very least, and are a useful tool to study more advanced topics in modern deep learning."
      ],
      "metadata": {
        "id": "sCRBI35LWCvt"
      }
    },
    {
      "cell_type": "markdown",
      "metadata": {
        "id": "0PAIT1NjFUhk"
      },
      "source": [
        "###The regression problem\n"
      ]
    },
    {
      "cell_type": "markdown",
      "source": [
        "####The general definition\n",
        "We observe a phenomenon $\\mathcal{P}$ where a variable of interest $t$ depends on another variable $x$.\n",
        "\n",
        "**Problem**: Given a set of $N$ paired observations $(x, t)$, $\\mathbf{D}=\\{(x_1, t_1),...,(x_N, t_N)\\}$, and a new *input* instance $x_i$, find the corresponding *target* $t_i$."
      ],
      "metadata": {
        "id": "8htU_ACVGQY5"
      }
    },
    {
      "cell_type": "markdown",
      "metadata": {
        "id": "i8kq5mSFOHul"
      },
      "source": [
        "####Our workspace\n",
        "\n",
        "In our workspace, the underlying law governing our phenomenon $\\mathcal{P}$ links $t$ to a $x \\in [0,1]$ through a $\\sin$ function.\n",
        "For our purposes, we are going to synthetically generate a set of observations --our *dataset*-- following this rule:\n",
        "\n",
        "$$t=\\sin(2\\pi x) + 0.1\\epsilon \\;\\;\\;\\;\\;\\;\\;\\;\\; \\epsilon \\sim \\mathcal{N}(0,1)$$\n",
        "\n",
        "where $\\sim \\mathcal{N}(0,1)$ means \"*sampled from a gaussian distribution with $\\mu=0$ and $\\sigma=1$*\".\n",
        "\n",
        "In this way, we are simulating the measurement process of any phenomenon: there is a global and general regularity (that we wish to discover) but all observations are plagued by uncertainty, here modeled with gaussian noise. Uncertainty usually comes from the finite precision of our measuring instrument, but may also be due to sources of variability we do not care about. Sometimes the problem we are tackling is intrinsically stochastic --such as measurements in quantum mechanics or idealized scenarios like the multi-armed bandit-- and we want to figure out just the non-stochastic part of the underlying rule.\n",
        "\n",
        "This is our dataset:"
      ]
    },
    {
      "cell_type": "code",
      "metadata": {
        "id": "qJyjckvQE-aZ"
      },
      "source": [
        "x = np.random.rand(10)\n",
        "t = np.sin(2 * np.pi * x) + 0.1 * np.random.randn(10)"
      ],
      "execution_count": 7,
      "outputs": []
    },
    {
      "cell_type": "code",
      "metadata": {
        "id": "IMJNXRXZGJS0",
        "colab": {
          "base_uri": "https://localhost:8080/",
          "height": 542
        },
        "outputId": "59c68ffb-a413-4297-f480-903f8286d58c"
      },
      "source": [
        "fig = px.scatter(x=x, y=t)\n",
        "fig.show()"
      ],
      "execution_count": 8,
      "outputs": [
        {
          "output_type": "display_data",
          "data": {
            "text/html": [
              "<html>\n",
              "<head><meta charset=\"utf-8\" /></head>\n",
              "<body>\n",
              "    <div>            <script src=\"https://cdnjs.cloudflare.com/ajax/libs/mathjax/2.7.5/MathJax.js?config=TeX-AMS-MML_SVG\"></script><script type=\"text/javascript\">if (window.MathJax && window.MathJax.Hub && window.MathJax.Hub.Config) {window.MathJax.Hub.Config({SVG: {font: \"STIX-Web\"}});}</script>                <script type=\"text/javascript\">window.PlotlyConfig = {MathJaxConfig: 'local'};</script>\n",
              "        <script charset=\"utf-8\" src=\"https://cdn.plot.ly/plotly-2.35.2.min.js\"></script>                <div id=\"b273b37f-4d08-4456-920a-b61186b84abf\" class=\"plotly-graph-div\" style=\"height:525px; width:100%;\"></div>            <script type=\"text/javascript\">                                    window.PLOTLYENV=window.PLOTLYENV || {};                                    if (document.getElementById(\"b273b37f-4d08-4456-920a-b61186b84abf\")) {                    Plotly.newPlot(                        \"b273b37f-4d08-4456-920a-b61186b84abf\",                        [{\"hovertemplate\":\"x=%{x}\\u003cbr\\u003ey=%{y}\\u003cextra\\u003e\\u003c\\u002fextra\\u003e\",\"legendgroup\":\"\",\"marker\":{\"color\":\"#636efa\",\"symbol\":\"circle\"},\"mode\":\"markers\",\"name\":\"\",\"orientation\":\"v\",\"showlegend\":false,\"x\":[0.6842330265121569,0.4401524937396013,0.12203823484477883,0.4951769101112702,0.034388521115218396,0.9093204020787821,0.2587799816000169,0.662522284353982,0.31171107608941095,0.5200680211778108],\"xaxis\":\"x\",\"y\":[-1.0486487112416474,0.3869196454153727,0.7676729883959035,0.047436557496369894,0.20282730585504244,-0.5695375823995514,0.8506265291850891,-0.9246977353735738,0.8797012417622012,-0.02004501905253346],\"yaxis\":\"y\",\"type\":\"scatter\"}],                        {\"template\":{\"data\":{\"histogram2dcontour\":[{\"type\":\"histogram2dcontour\",\"colorbar\":{\"outlinewidth\":0,\"ticks\":\"\"},\"colorscale\":[[0.0,\"#0d0887\"],[0.1111111111111111,\"#46039f\"],[0.2222222222222222,\"#7201a8\"],[0.3333333333333333,\"#9c179e\"],[0.4444444444444444,\"#bd3786\"],[0.5555555555555556,\"#d8576b\"],[0.6666666666666666,\"#ed7953\"],[0.7777777777777778,\"#fb9f3a\"],[0.8888888888888888,\"#fdca26\"],[1.0,\"#f0f921\"]]}],\"choropleth\":[{\"type\":\"choropleth\",\"colorbar\":{\"outlinewidth\":0,\"ticks\":\"\"}}],\"histogram2d\":[{\"type\":\"histogram2d\",\"colorbar\":{\"outlinewidth\":0,\"ticks\":\"\"},\"colorscale\":[[0.0,\"#0d0887\"],[0.1111111111111111,\"#46039f\"],[0.2222222222222222,\"#7201a8\"],[0.3333333333333333,\"#9c179e\"],[0.4444444444444444,\"#bd3786\"],[0.5555555555555556,\"#d8576b\"],[0.6666666666666666,\"#ed7953\"],[0.7777777777777778,\"#fb9f3a\"],[0.8888888888888888,\"#fdca26\"],[1.0,\"#f0f921\"]]}],\"heatmap\":[{\"type\":\"heatmap\",\"colorbar\":{\"outlinewidth\":0,\"ticks\":\"\"},\"colorscale\":[[0.0,\"#0d0887\"],[0.1111111111111111,\"#46039f\"],[0.2222222222222222,\"#7201a8\"],[0.3333333333333333,\"#9c179e\"],[0.4444444444444444,\"#bd3786\"],[0.5555555555555556,\"#d8576b\"],[0.6666666666666666,\"#ed7953\"],[0.7777777777777778,\"#fb9f3a\"],[0.8888888888888888,\"#fdca26\"],[1.0,\"#f0f921\"]]}],\"heatmapgl\":[{\"type\":\"heatmapgl\",\"colorbar\":{\"outlinewidth\":0,\"ticks\":\"\"},\"colorscale\":[[0.0,\"#0d0887\"],[0.1111111111111111,\"#46039f\"],[0.2222222222222222,\"#7201a8\"],[0.3333333333333333,\"#9c179e\"],[0.4444444444444444,\"#bd3786\"],[0.5555555555555556,\"#d8576b\"],[0.6666666666666666,\"#ed7953\"],[0.7777777777777778,\"#fb9f3a\"],[0.8888888888888888,\"#fdca26\"],[1.0,\"#f0f921\"]]}],\"contourcarpet\":[{\"type\":\"contourcarpet\",\"colorbar\":{\"outlinewidth\":0,\"ticks\":\"\"}}],\"contour\":[{\"type\":\"contour\",\"colorbar\":{\"outlinewidth\":0,\"ticks\":\"\"},\"colorscale\":[[0.0,\"#0d0887\"],[0.1111111111111111,\"#46039f\"],[0.2222222222222222,\"#7201a8\"],[0.3333333333333333,\"#9c179e\"],[0.4444444444444444,\"#bd3786\"],[0.5555555555555556,\"#d8576b\"],[0.6666666666666666,\"#ed7953\"],[0.7777777777777778,\"#fb9f3a\"],[0.8888888888888888,\"#fdca26\"],[1.0,\"#f0f921\"]]}],\"surface\":[{\"type\":\"surface\",\"colorbar\":{\"outlinewidth\":0,\"ticks\":\"\"},\"colorscale\":[[0.0,\"#0d0887\"],[0.1111111111111111,\"#46039f\"],[0.2222222222222222,\"#7201a8\"],[0.3333333333333333,\"#9c179e\"],[0.4444444444444444,\"#bd3786\"],[0.5555555555555556,\"#d8576b\"],[0.6666666666666666,\"#ed7953\"],[0.7777777777777778,\"#fb9f3a\"],[0.8888888888888888,\"#fdca26\"],[1.0,\"#f0f921\"]]}],\"mesh3d\":[{\"type\":\"mesh3d\",\"colorbar\":{\"outlinewidth\":0,\"ticks\":\"\"}}],\"scatter\":[{\"fillpattern\":{\"fillmode\":\"overlay\",\"size\":10,\"solidity\":0.2},\"type\":\"scatter\"}],\"parcoords\":[{\"type\":\"parcoords\",\"line\":{\"colorbar\":{\"outlinewidth\":0,\"ticks\":\"\"}}}],\"scatterpolargl\":[{\"type\":\"scatterpolargl\",\"marker\":{\"colorbar\":{\"outlinewidth\":0,\"ticks\":\"\"}}}],\"bar\":[{\"error_x\":{\"color\":\"#2a3f5f\"},\"error_y\":{\"color\":\"#2a3f5f\"},\"marker\":{\"line\":{\"color\":\"#E5ECF6\",\"width\":0.5},\"pattern\":{\"fillmode\":\"overlay\",\"size\":10,\"solidity\":0.2}},\"type\":\"bar\"}],\"scattergeo\":[{\"type\":\"scattergeo\",\"marker\":{\"colorbar\":{\"outlinewidth\":0,\"ticks\":\"\"}}}],\"scatterpolar\":[{\"type\":\"scatterpolar\",\"marker\":{\"colorbar\":{\"outlinewidth\":0,\"ticks\":\"\"}}}],\"histogram\":[{\"marker\":{\"pattern\":{\"fillmode\":\"overlay\",\"size\":10,\"solidity\":0.2}},\"type\":\"histogram\"}],\"scattergl\":[{\"type\":\"scattergl\",\"marker\":{\"colorbar\":{\"outlinewidth\":0,\"ticks\":\"\"}}}],\"scatter3d\":[{\"type\":\"scatter3d\",\"line\":{\"colorbar\":{\"outlinewidth\":0,\"ticks\":\"\"}},\"marker\":{\"colorbar\":{\"outlinewidth\":0,\"ticks\":\"\"}}}],\"scattermapbox\":[{\"type\":\"scattermapbox\",\"marker\":{\"colorbar\":{\"outlinewidth\":0,\"ticks\":\"\"}}}],\"scatterternary\":[{\"type\":\"scatterternary\",\"marker\":{\"colorbar\":{\"outlinewidth\":0,\"ticks\":\"\"}}}],\"scattercarpet\":[{\"type\":\"scattercarpet\",\"marker\":{\"colorbar\":{\"outlinewidth\":0,\"ticks\":\"\"}}}],\"carpet\":[{\"aaxis\":{\"endlinecolor\":\"#2a3f5f\",\"gridcolor\":\"white\",\"linecolor\":\"white\",\"minorgridcolor\":\"white\",\"startlinecolor\":\"#2a3f5f\"},\"baxis\":{\"endlinecolor\":\"#2a3f5f\",\"gridcolor\":\"white\",\"linecolor\":\"white\",\"minorgridcolor\":\"white\",\"startlinecolor\":\"#2a3f5f\"},\"type\":\"carpet\"}],\"table\":[{\"cells\":{\"fill\":{\"color\":\"#EBF0F8\"},\"line\":{\"color\":\"white\"}},\"header\":{\"fill\":{\"color\":\"#C8D4E3\"},\"line\":{\"color\":\"white\"}},\"type\":\"table\"}],\"barpolar\":[{\"marker\":{\"line\":{\"color\":\"#E5ECF6\",\"width\":0.5},\"pattern\":{\"fillmode\":\"overlay\",\"size\":10,\"solidity\":0.2}},\"type\":\"barpolar\"}],\"pie\":[{\"automargin\":true,\"type\":\"pie\"}]},\"layout\":{\"autotypenumbers\":\"strict\",\"colorway\":[\"#636efa\",\"#EF553B\",\"#00cc96\",\"#ab63fa\",\"#FFA15A\",\"#19d3f3\",\"#FF6692\",\"#B6E880\",\"#FF97FF\",\"#FECB52\"],\"font\":{\"color\":\"#2a3f5f\"},\"hovermode\":\"closest\",\"hoverlabel\":{\"align\":\"left\"},\"paper_bgcolor\":\"white\",\"plot_bgcolor\":\"#E5ECF6\",\"polar\":{\"bgcolor\":\"#E5ECF6\",\"angularaxis\":{\"gridcolor\":\"white\",\"linecolor\":\"white\",\"ticks\":\"\"},\"radialaxis\":{\"gridcolor\":\"white\",\"linecolor\":\"white\",\"ticks\":\"\"}},\"ternary\":{\"bgcolor\":\"#E5ECF6\",\"aaxis\":{\"gridcolor\":\"white\",\"linecolor\":\"white\",\"ticks\":\"\"},\"baxis\":{\"gridcolor\":\"white\",\"linecolor\":\"white\",\"ticks\":\"\"},\"caxis\":{\"gridcolor\":\"white\",\"linecolor\":\"white\",\"ticks\":\"\"}},\"coloraxis\":{\"colorbar\":{\"outlinewidth\":0,\"ticks\":\"\"}},\"colorscale\":{\"sequential\":[[0.0,\"#0d0887\"],[0.1111111111111111,\"#46039f\"],[0.2222222222222222,\"#7201a8\"],[0.3333333333333333,\"#9c179e\"],[0.4444444444444444,\"#bd3786\"],[0.5555555555555556,\"#d8576b\"],[0.6666666666666666,\"#ed7953\"],[0.7777777777777778,\"#fb9f3a\"],[0.8888888888888888,\"#fdca26\"],[1.0,\"#f0f921\"]],\"sequentialminus\":[[0.0,\"#0d0887\"],[0.1111111111111111,\"#46039f\"],[0.2222222222222222,\"#7201a8\"],[0.3333333333333333,\"#9c179e\"],[0.4444444444444444,\"#bd3786\"],[0.5555555555555556,\"#d8576b\"],[0.6666666666666666,\"#ed7953\"],[0.7777777777777778,\"#fb9f3a\"],[0.8888888888888888,\"#fdca26\"],[1.0,\"#f0f921\"]],\"diverging\":[[0,\"#8e0152\"],[0.1,\"#c51b7d\"],[0.2,\"#de77ae\"],[0.3,\"#f1b6da\"],[0.4,\"#fde0ef\"],[0.5,\"#f7f7f7\"],[0.6,\"#e6f5d0\"],[0.7,\"#b8e186\"],[0.8,\"#7fbc41\"],[0.9,\"#4d9221\"],[1,\"#276419\"]]},\"xaxis\":{\"gridcolor\":\"white\",\"linecolor\":\"white\",\"ticks\":\"\",\"title\":{\"standoff\":15},\"zerolinecolor\":\"white\",\"automargin\":true,\"zerolinewidth\":2},\"yaxis\":{\"gridcolor\":\"white\",\"linecolor\":\"white\",\"ticks\":\"\",\"title\":{\"standoff\":15},\"zerolinecolor\":\"white\",\"automargin\":true,\"zerolinewidth\":2},\"scene\":{\"xaxis\":{\"backgroundcolor\":\"#E5ECF6\",\"gridcolor\":\"white\",\"linecolor\":\"white\",\"showbackground\":true,\"ticks\":\"\",\"zerolinecolor\":\"white\",\"gridwidth\":2},\"yaxis\":{\"backgroundcolor\":\"#E5ECF6\",\"gridcolor\":\"white\",\"linecolor\":\"white\",\"showbackground\":true,\"ticks\":\"\",\"zerolinecolor\":\"white\",\"gridwidth\":2},\"zaxis\":{\"backgroundcolor\":\"#E5ECF6\",\"gridcolor\":\"white\",\"linecolor\":\"white\",\"showbackground\":true,\"ticks\":\"\",\"zerolinecolor\":\"white\",\"gridwidth\":2}},\"shapedefaults\":{\"line\":{\"color\":\"#2a3f5f\"}},\"annotationdefaults\":{\"arrowcolor\":\"#2a3f5f\",\"arrowhead\":0,\"arrowwidth\":1},\"geo\":{\"bgcolor\":\"white\",\"landcolor\":\"#E5ECF6\",\"subunitcolor\":\"white\",\"showland\":true,\"showlakes\":true,\"lakecolor\":\"white\"},\"title\":{\"x\":0.05},\"mapbox\":{\"style\":\"light\"}}},\"xaxis\":{\"anchor\":\"y\",\"domain\":[0.0,1.0],\"title\":{\"text\":\"x\"}},\"yaxis\":{\"anchor\":\"x\",\"domain\":[0.0,1.0],\"title\":{\"text\":\"y\"}},\"legend\":{\"tracegroupgap\":0},\"margin\":{\"t\":60}},                        {\"responsive\": true}                    ).then(function(){\n",
              "                            \n",
              "var gd = document.getElementById('b273b37f-4d08-4456-920a-b61186b84abf');\n",
              "var x = new MutationObserver(function (mutations, observer) {{\n",
              "        var display = window.getComputedStyle(gd).display;\n",
              "        if (!display || display === 'none') {{\n",
              "            console.log([gd, 'removed!']);\n",
              "            Plotly.purge(gd);\n",
              "            observer.disconnect();\n",
              "        }}\n",
              "}});\n",
              "\n",
              "// Listen for the removal of the full notebook cells\n",
              "var notebookContainer = gd.closest('#notebook-container');\n",
              "if (notebookContainer) {{\n",
              "    x.observe(notebookContainer, {childList: true});\n",
              "}}\n",
              "\n",
              "// Listen for the clearing of the current output cell\n",
              "var outputEl = gd.closest('.output');\n",
              "if (outputEl) {{\n",
              "    x.observe(outputEl, {childList: true});\n",
              "}}\n",
              "\n",
              "                        })                };                            </script>        </div>\n",
              "</body>\n",
              "</html>"
            ]
          },
          "metadata": {}
        }
      ]
    },
    {
      "cell_type": "markdown",
      "metadata": {
        "id": "SN_Ao9LRMr7s"
      },
      "source": [
        "It seems we have very little to work with! Just a handful of noisy points.\n",
        "\n",
        "How is it possible to devise a rule $f$ that is valid in general --i.e. for all the *infinite* points $x_i$ between 0 and 1 shall occur $t_i=f(x_i)$-- from such a *finite* set of observations?\n",
        "\n",
        "If we collect just 10 points and each of them agrees with a precise rule, why does that give us *any grounds* --even probabilistic grounds-- to expect the 11[$^{st}$](https://translate.google.com/translate?sl=it&tl=en&u=https://it.wikipedia.org/wiki/Tacchino_induttivista) point to follow the same rule?\n",
        "\n",
        "This is the essence of the so called [*Problem of induction*](https://ar5iv.labs.arxiv.org/html/1108.1791#S7) raised by David Hume more than two centuries ago. Still today this problem is at the core of the philosophical debate on the nature of knowledge."
      ]
    },
    {
      "cell_type": "markdown",
      "metadata": {
        "id": "mhRdUyWpwX-v"
      },
      "source": [
        "### Where to restart from?"
      ]
    },
    {
      "cell_type": "markdown",
      "source": [
        "We will take a very pragmatic point of view. Even if induction cannot be justified in general, we note that \"often it seems to work\". Therefore we proceed with our quest to find $f$.\n",
        "\n",
        "First of all, we observe that the quality of our guess $f$ depends crucially on how much information about the phenomenon $\\mathcal{P}$ we are given in advance, i.e. what **priors** do we have.\n",
        "\n",
        "\n",
        "\n",
        "**EXERCISE**: Suppose you have to guess this general rule $f$ to make predictions for new $x_i \\in [0,1]$. In which of the following scenarios would you like to find yourself to make the most accurate predictions?\n",
        "\n",
        "Write down a ranking from best to worst scenario, and then compare your ranking with those of your neighbors.\n",
        "\n",
        "For each scenario below, we give you a description of the available priors together with a plot.\n",
        "\n",
        "\n",
        "> **Scenario A**\n",
        ">\n",
        "> *priors:*\n",
        "> - 20 observations $(x_i,t_i)$ in the interval $[0,1]$ affected by a gaussian noise $0.1*\\epsilon$ where $\\epsilon \\sim \\mathcal{N}(0,1)$.\n",
        "\n",
        "> **Scenario B**\n",
        ">\n",
        "> *priors:*\n",
        "> - 20 observations $(x_i,t_i)$ in the interval $[0,1]$ affected by a gaussian noise $0.5*\\epsilon$ where $\\epsilon \\sim \\mathcal{N}(0,1)$\n",
        "\n",
        "> **Scenario C**\n",
        ">\n",
        "> *priors:*\n",
        "> - 40 observations $(x_i,t_i)$ in the interval $[0,1]$ affected by a gaussian noise $0.1*\\epsilon$ where $\\epsilon \\sim \\mathcal{N}(0,1)$\n",
        "\n",
        "> **Scenario D**\n",
        ">\n",
        "> *priors:*\n",
        "> - 100 observations $(x_i,t_i)$ in the interval $[0,0.3]$ affected by a gaussian noise $0.1*\\epsilon$ where $\\epsilon \\sim \\mathcal{N}(0,1)$\n",
        "\n",
        "> **Scenario E**\n",
        ">\n",
        "> *priors:*\n",
        "> - 10 observations $(x_i,t_i)$ in the interval $[0,1]$ affected by a gaussian noise $0.1*\\epsilon$ where $\\epsilon \\sim \\mathcal{N}(0,1)$\n",
        "> - you know that $f$ is in the form $f(x)=\\sin(kx)$ with $k\\in \\mathbb{R}$\n"
      ],
      "metadata": {
        "id": "4P5vTHieHC2R"
      }
    },
    {
      "cell_type": "code",
      "metadata": {
        "id": "3drUw3Pc8RWr",
        "colab": {
          "base_uri": "https://localhost:8080/",
          "height": 542
        },
        "outputId": "e50d3239-2f30-4d44-a7c2-f11ce34af42d",
        "cellView": "form"
      },
      "source": [
        "# @title Scenario plots\n",
        "\n",
        "xA = np.random.rand(20)\n",
        "tA = np.sin(2 * np.pi * xA) + 0.1 * np.random.randn(20)\n",
        "\n",
        "xB = np.random.rand(20)\n",
        "tB = np.sin(2 * np.pi * xB) + 0.5 * np.random.randn(20)\n",
        "\n",
        "xC = np.random.rand(40)\n",
        "tC = np.sin(2 * np.pi * xC) + 0.1 * np.random.randn(40)\n",
        "\n",
        "xD = np.random.rand(100) * 0.3\n",
        "tD = np.sin(2 * np.pi * xD) + 0.1 * np.random.randn(100)\n",
        "\n",
        "xE = np.random.rand(10)\n",
        "tE = np.sin(2 * np.pi * xE) + 0.1 * np.random.randn(10)\n",
        "\n",
        "fig = make_subplots(\n",
        "    rows=1, cols=5,\n",
        "    subplot_titles=(\"Scenario A\", \"Scenario B\", \"Scenario C\", \"Scenario D\", \"Scenario E\"))\n",
        "\n",
        "fig.add_trace(go.Scatter(x=xA, y=tA, mode='markers', marker=dict(color=\"mediumpurple\")),\n",
        "              row=1, col=1)\n",
        "\n",
        "fig.add_trace(go.Scatter(x=xB, y=tB, mode='markers', marker=dict(color=\"mediumpurple\")),\n",
        "              row=1, col=2)\n",
        "\n",
        "fig.add_trace(go.Scatter(x=xC, y=tC, mode='markers', marker=dict(color=\"mediumpurple\")),\n",
        "              row=1, col=3)\n",
        "\n",
        "fig.add_trace(go.Scatter(x=xD, y=tD, mode='markers', marker=dict(color=\"mediumpurple\")),\n",
        "              row=1, col=4)\n",
        "\n",
        "fig.add_trace(go.Scatter(x=xE, y=tE, mode='markers', marker=dict(color=\"crimson\")),\n",
        "              row=1, col=5)\n",
        "\n",
        "fig.update_xaxes(title_text=\"x\", range=[0, 1])\n",
        "fig.update_yaxes(title_text=\"\", range=[-1.7, 1.7])\n",
        "fig.update_layout(showlegend=False)\n",
        "\n",
        "fig.show()"
      ],
      "execution_count": 9,
      "outputs": [
        {
          "output_type": "display_data",
          "data": {
            "text/html": [
              "<html>\n",
              "<head><meta charset=\"utf-8\" /></head>\n",
              "<body>\n",
              "    <div>            <script src=\"https://cdnjs.cloudflare.com/ajax/libs/mathjax/2.7.5/MathJax.js?config=TeX-AMS-MML_SVG\"></script><script type=\"text/javascript\">if (window.MathJax && window.MathJax.Hub && window.MathJax.Hub.Config) {window.MathJax.Hub.Config({SVG: {font: \"STIX-Web\"}});}</script>                <script type=\"text/javascript\">window.PlotlyConfig = {MathJaxConfig: 'local'};</script>\n",
              "        <script charset=\"utf-8\" src=\"https://cdn.plot.ly/plotly-2.35.2.min.js\"></script>                <div id=\"f6cbd6ff-1b4e-4acc-8b72-24a86a440d81\" class=\"plotly-graph-div\" style=\"height:525px; width:100%;\"></div>            <script type=\"text/javascript\">                                    window.PLOTLYENV=window.PLOTLYENV || {};                                    if (document.getElementById(\"f6cbd6ff-1b4e-4acc-8b72-24a86a440d81\")) {                    Plotly.newPlot(                        \"f6cbd6ff-1b4e-4acc-8b72-24a86a440d81\",                        [{\"marker\":{\"color\":\"mediumpurple\"},\"mode\":\"markers\",\"x\":[0.28093450968738076,0.5426960831582485,0.14092422497476265,0.8021969807540397,0.07455064367977082,0.9868869366005173,0.7722447692966574,0.1987156815341724,0.005522117123602399,0.8154614284548342,0.7068573438476171,0.7290071680409873,0.7712703466859457,0.07404465173409036,0.3584657285442726,0.11586905952512971,0.8631034258755935,0.6232981268275579,0.3308980248526492,0.06355835028602363],\"y\":[0.8705365802192851,-0.3846818724155903,0.8554543826207287,-0.8110763556679967,0.44427202338142047,0.01805466909720481,-0.9540847400018206,0.8840199554118202,0.07082908460743861,-0.7627956862719802,-0.9670666614918682,-0.8348491898953868,-1.2530572311780204,0.5308242206655154,0.7853268906959825,0.635497203917229,-0.7487620873404333,-0.8982621670694335,0.851607281915934,0.4245298073885303],\"type\":\"scatter\",\"xaxis\":\"x\",\"yaxis\":\"y\"},{\"marker\":{\"color\":\"mediumpurple\"},\"mode\":\"markers\",\"x\":[0.41038292303562973,0.7555511385430487,0.22879816549162246,0.07697990982879299,0.289751452913768,0.16122128725400442,0.9296976523425731,0.808120379564417,0.6334037565104235,0.8714605901877177,0.8036720768991145,0.18657005888603584,0.8925589984899778,0.5393422419156507,0.8074401551640625,0.8960912999234932,0.3180034749718639,0.11005192452767676,0.22793516254194168,0.4271077886262563],\"y\":[0.6818539515404183,-0.8688641591067978,0.9936967171722246,0.3477457646981489,0.26128497974262554,0.6380920719285549,-0.5988546862058993,-1.3351977316096275,-0.8240836867135304,-0.5206303929506569,-0.0005813251107350537,1.008916664447697,-0.4961781136826361,-0.28190775669467,-1.894962484611281,-0.6207316593791731,0.940212028006829,1.8692963931099829,0.894224727314771,0.5929245452671424],\"type\":\"scatter\",\"xaxis\":\"x2\",\"yaxis\":\"y2\"},{\"marker\":{\"color\":\"mediumpurple\"},\"mode\":\"markers\",\"x\":[0.1448948720912231,0.489452760277563,0.9856504541106007,0.2420552715115004,0.6721355474058786,0.7616196153287176,0.23763754399239967,0.7282163486118596,0.3677831327192532,0.6323058305935795,0.6335297107608947,0.5357746840747585,0.0902897700544083,0.835302495589238,0.32078006497173583,0.18651851039985423,0.040775141554763916,0.5908929431882418,0.6775643618422824,0.016587828927856152,0.512093058299281,0.22649577519793795,0.6451727904094499,0.17436642900499144,0.690937738102466,0.3867353463005374,0.9367299887367345,0.13752094414599325,0.3410663510502585,0.11347352124058907,0.9246936182785628,0.877339353380981,0.2579416277151556,0.659984046034179,0.8172222002012158,0.5552008115994623,0.5296505783560065,0.24185229090045168,0.09310276780589921,0.8972157579533268],\"y\":[0.8157382709732779,0.14440405243992852,-0.2137338239925532,0.8667086839758521,-0.8304976340118538,-0.9676376178938132,1.0220340519569329,-0.9560029959664403,0.6704301804115017,-0.7155840981748505,-0.7146626362783912,-0.2943260391087311,0.7239406072252842,-0.8123896784566127,0.783598973978691,0.987157377423228,0.1559360987626725,-0.4618470014536899,-0.7823458546729788,0.02196758009696942,0.020427778965450963,1.0303929998140877,-0.7086139479240819,1.0788715019514212,-0.9564681295154236,0.5777202630217191,-0.4761002223154964,0.6789103952522175,0.8330087470289952,0.6882023292859967,-0.4280358124404098,-0.613918973975714,1.000055506421681,-0.6989208013427997,-0.9385858562138569,-0.06790787723966513,-0.12265753700401644,0.9129741399155361,0.4450950778746713,-0.5536002186704019],\"type\":\"scatter\",\"xaxis\":\"x3\",\"yaxis\":\"y3\"},{\"marker\":{\"color\":\"mediumpurple\"},\"mode\":\"markers\",\"x\":[0.2821375753058743,0.2861785731007762,0.2744593170661345,0.11104761007663332,0.004636984958660229,0.2784955687763176,0.1284552444951943,0.28999644571310085,0.28908599312677585,0.255902836640208,0.0883346676208757,0.11552931858057758,0.25534100145505706,0.0950766015468833,0.05084782400582775,0.16704037873750505,0.2808464322482343,0.2088089390024919,0.17101835102680948,0.02915294813123056,0.18450216800975092,0.297016155031279,0.04202520457095721,0.155498895709121,0.26321192157838663,0.22223058532626133,0.20910472229858038,0.21074522519613278,0.10784734536592655,0.088077553279348,0.24280834664355408,0.24303401840375422,0.2601216955740311,0.2739721657669414,0.15340271965828134,0.15045488840615986,0.23948855369003252,0.19498917923332953,0.210590063177311,0.2387378008308303,0.2670016025452699,0.10139854705546074,0.1126748857919832,0.028194581952260697,0.1734840422988522,0.010782682139022625,0.13967940543973803,0.16279339041227298,0.08596237563848531,0.17724997817070323,0.009150074981714829,0.011204456624764325,0.24678016819789747,0.10805719242337887,0.038118153795565435,0.1566729780164413,0.23099806592958325,0.06474630824905295,0.18686714274570007,0.0256042394981304,0.01550451635058231,0.1594063894704444,0.16219053648303194,0.19122897044946197,0.21782740011679846,0.29275562383876036,0.1548901044903586,0.09688694188237379,0.23855585843061108,0.08124967537862227,0.13169142621169083,0.023536914402679788,0.007605223024637253,0.2887945244033775,0.25079403615366175,0.2087922618281094,0.12268588332428096,0.05198829602125373,0.046931112801325815,0.07507286944937859,0.16476799941183615,0.21437877681001868,0.19805921301531937,0.08398016908378285,0.28645958419895823,0.22136907500873054,0.1663062157534202,0.18351622387030567,0.12588001872833696,0.07431929685034723,0.10679180359537847,0.22735383313931073,0.0043180465889267605,0.03482179215207487,0.013800792606525824,0.01221864069569104,0.2566381752033022,0.2110973578140071,0.14225214872619754,0.02935024819530044],\"y\":[0.6555553207897444,0.8718358617275223,0.9629572658579796,0.5177035972071397,0.19237204444928557,0.8410004465951312,0.6782857426746876,0.9816627724187567,1.1141227048232971,0.85572608098426,0.643279295833538,0.6648262338902198,0.9012861012138131,0.6086917354573249,0.3339848671157989,0.8071753786352239,0.9882570240497244,0.9281635863272949,0.8907229505173463,0.24836383952875205,1.0751095526361132,0.8329009551053919,0.47429772313749635,0.6336296649849278,0.9813778936448045,1.0436485969801026,0.9952681016819106,0.9074670494795622,0.6061321797955758,0.476289148103613,0.9400427885320635,1.08400251947762,1.0336799733905235,0.9193870426917962,0.9113579309927207,0.8414236170746964,1.0791060094388019,1.003820620559458,0.8865990130190403,0.9414792759332502,1.0690290773817313,0.655908593489587,0.648193061046491,0.18795938910389706,1.0144083814305151,0.008540634482929743,0.8239374203139204,0.8333826374462585,0.49246867906790026,1.0072130379802353,0.14000158577799965,0.15169250377077187,1.1303432450634041,0.6300714458108433,0.30541555101193885,0.8019165093481129,1.0252977924620288,0.38267018748846054,0.9320501422358367,0.219698838092681,0.015441668160009275,1.051562276922967,0.7510208601379127,0.8111724788637341,1.0954489826871132,1.0432986289858308,0.8891042437257213,0.6346840667750412,0.9961912242848237,0.39889402475540314,0.7437828348200868,0.07963215297777282,0.14527881552719576,0.9557332553696483,0.9174378349054296,0.9345295385704491,0.7380441951652637,0.26450150569075653,0.20840000535575287,0.47876712263491117,0.8844957388442033,0.9243635424316096,0.9001138147800959,0.526720545462931,0.8290667604096825,0.8431163930182556,0.7930463716663192,0.8926675345620871,0.7420965287196145,0.5977111600543437,0.7075297361890126,0.9738999844508717,0.02522613770197049,0.11679742179318969,0.08475299688853796,0.04783072714358377,1.031402166583047,0.8875517227348597,0.8313904252544813,0.33664345699630144],\"type\":\"scatter\",\"xaxis\":\"x4\",\"yaxis\":\"y4\"},{\"marker\":{\"color\":\"crimson\"},\"mode\":\"markers\",\"x\":[0.9621725484745419,0.37487057952370406,0.28571208628186073,0.8685991281894603,0.22359583851945264,0.9632225394406113,0.012154474689816341,0.969878826707639,0.04315991195057611,0.8911431136980711],\"y\":[-0.21303621159113037,0.7089407874401529,0.9846985970586408,-0.812266630716034,0.9887207763674203,-0.1792287314153398,0.22140896622421402,-0.09220204616944626,0.48318840773633953,-0.708608221746836],\"type\":\"scatter\",\"xaxis\":\"x5\",\"yaxis\":\"y5\"}],                        {\"template\":{\"data\":{\"histogram2dcontour\":[{\"type\":\"histogram2dcontour\",\"colorbar\":{\"outlinewidth\":0,\"ticks\":\"\"},\"colorscale\":[[0.0,\"#0d0887\"],[0.1111111111111111,\"#46039f\"],[0.2222222222222222,\"#7201a8\"],[0.3333333333333333,\"#9c179e\"],[0.4444444444444444,\"#bd3786\"],[0.5555555555555556,\"#d8576b\"],[0.6666666666666666,\"#ed7953\"],[0.7777777777777778,\"#fb9f3a\"],[0.8888888888888888,\"#fdca26\"],[1.0,\"#f0f921\"]]}],\"choropleth\":[{\"type\":\"choropleth\",\"colorbar\":{\"outlinewidth\":0,\"ticks\":\"\"}}],\"histogram2d\":[{\"type\":\"histogram2d\",\"colorbar\":{\"outlinewidth\":0,\"ticks\":\"\"},\"colorscale\":[[0.0,\"#0d0887\"],[0.1111111111111111,\"#46039f\"],[0.2222222222222222,\"#7201a8\"],[0.3333333333333333,\"#9c179e\"],[0.4444444444444444,\"#bd3786\"],[0.5555555555555556,\"#d8576b\"],[0.6666666666666666,\"#ed7953\"],[0.7777777777777778,\"#fb9f3a\"],[0.8888888888888888,\"#fdca26\"],[1.0,\"#f0f921\"]]}],\"heatmap\":[{\"type\":\"heatmap\",\"colorbar\":{\"outlinewidth\":0,\"ticks\":\"\"},\"colorscale\":[[0.0,\"#0d0887\"],[0.1111111111111111,\"#46039f\"],[0.2222222222222222,\"#7201a8\"],[0.3333333333333333,\"#9c179e\"],[0.4444444444444444,\"#bd3786\"],[0.5555555555555556,\"#d8576b\"],[0.6666666666666666,\"#ed7953\"],[0.7777777777777778,\"#fb9f3a\"],[0.8888888888888888,\"#fdca26\"],[1.0,\"#f0f921\"]]}],\"heatmapgl\":[{\"type\":\"heatmapgl\",\"colorbar\":{\"outlinewidth\":0,\"ticks\":\"\"},\"colorscale\":[[0.0,\"#0d0887\"],[0.1111111111111111,\"#46039f\"],[0.2222222222222222,\"#7201a8\"],[0.3333333333333333,\"#9c179e\"],[0.4444444444444444,\"#bd3786\"],[0.5555555555555556,\"#d8576b\"],[0.6666666666666666,\"#ed7953\"],[0.7777777777777778,\"#fb9f3a\"],[0.8888888888888888,\"#fdca26\"],[1.0,\"#f0f921\"]]}],\"contourcarpet\":[{\"type\":\"contourcarpet\",\"colorbar\":{\"outlinewidth\":0,\"ticks\":\"\"}}],\"contour\":[{\"type\":\"contour\",\"colorbar\":{\"outlinewidth\":0,\"ticks\":\"\"},\"colorscale\":[[0.0,\"#0d0887\"],[0.1111111111111111,\"#46039f\"],[0.2222222222222222,\"#7201a8\"],[0.3333333333333333,\"#9c179e\"],[0.4444444444444444,\"#bd3786\"],[0.5555555555555556,\"#d8576b\"],[0.6666666666666666,\"#ed7953\"],[0.7777777777777778,\"#fb9f3a\"],[0.8888888888888888,\"#fdca26\"],[1.0,\"#f0f921\"]]}],\"surface\":[{\"type\":\"surface\",\"colorbar\":{\"outlinewidth\":0,\"ticks\":\"\"},\"colorscale\":[[0.0,\"#0d0887\"],[0.1111111111111111,\"#46039f\"],[0.2222222222222222,\"#7201a8\"],[0.3333333333333333,\"#9c179e\"],[0.4444444444444444,\"#bd3786\"],[0.5555555555555556,\"#d8576b\"],[0.6666666666666666,\"#ed7953\"],[0.7777777777777778,\"#fb9f3a\"],[0.8888888888888888,\"#fdca26\"],[1.0,\"#f0f921\"]]}],\"mesh3d\":[{\"type\":\"mesh3d\",\"colorbar\":{\"outlinewidth\":0,\"ticks\":\"\"}}],\"scatter\":[{\"fillpattern\":{\"fillmode\":\"overlay\",\"size\":10,\"solidity\":0.2},\"type\":\"scatter\"}],\"parcoords\":[{\"type\":\"parcoords\",\"line\":{\"colorbar\":{\"outlinewidth\":0,\"ticks\":\"\"}}}],\"scatterpolargl\":[{\"type\":\"scatterpolargl\",\"marker\":{\"colorbar\":{\"outlinewidth\":0,\"ticks\":\"\"}}}],\"bar\":[{\"error_x\":{\"color\":\"#2a3f5f\"},\"error_y\":{\"color\":\"#2a3f5f\"},\"marker\":{\"line\":{\"color\":\"#E5ECF6\",\"width\":0.5},\"pattern\":{\"fillmode\":\"overlay\",\"size\":10,\"solidity\":0.2}},\"type\":\"bar\"}],\"scattergeo\":[{\"type\":\"scattergeo\",\"marker\":{\"colorbar\":{\"outlinewidth\":0,\"ticks\":\"\"}}}],\"scatterpolar\":[{\"type\":\"scatterpolar\",\"marker\":{\"colorbar\":{\"outlinewidth\":0,\"ticks\":\"\"}}}],\"histogram\":[{\"marker\":{\"pattern\":{\"fillmode\":\"overlay\",\"size\":10,\"solidity\":0.2}},\"type\":\"histogram\"}],\"scattergl\":[{\"type\":\"scattergl\",\"marker\":{\"colorbar\":{\"outlinewidth\":0,\"ticks\":\"\"}}}],\"scatter3d\":[{\"type\":\"scatter3d\",\"line\":{\"colorbar\":{\"outlinewidth\":0,\"ticks\":\"\"}},\"marker\":{\"colorbar\":{\"outlinewidth\":0,\"ticks\":\"\"}}}],\"scattermapbox\":[{\"type\":\"scattermapbox\",\"marker\":{\"colorbar\":{\"outlinewidth\":0,\"ticks\":\"\"}}}],\"scatterternary\":[{\"type\":\"scatterternary\",\"marker\":{\"colorbar\":{\"outlinewidth\":0,\"ticks\":\"\"}}}],\"scattercarpet\":[{\"type\":\"scattercarpet\",\"marker\":{\"colorbar\":{\"outlinewidth\":0,\"ticks\":\"\"}}}],\"carpet\":[{\"aaxis\":{\"endlinecolor\":\"#2a3f5f\",\"gridcolor\":\"white\",\"linecolor\":\"white\",\"minorgridcolor\":\"white\",\"startlinecolor\":\"#2a3f5f\"},\"baxis\":{\"endlinecolor\":\"#2a3f5f\",\"gridcolor\":\"white\",\"linecolor\":\"white\",\"minorgridcolor\":\"white\",\"startlinecolor\":\"#2a3f5f\"},\"type\":\"carpet\"}],\"table\":[{\"cells\":{\"fill\":{\"color\":\"#EBF0F8\"},\"line\":{\"color\":\"white\"}},\"header\":{\"fill\":{\"color\":\"#C8D4E3\"},\"line\":{\"color\":\"white\"}},\"type\":\"table\"}],\"barpolar\":[{\"marker\":{\"line\":{\"color\":\"#E5ECF6\",\"width\":0.5},\"pattern\":{\"fillmode\":\"overlay\",\"size\":10,\"solidity\":0.2}},\"type\":\"barpolar\"}],\"pie\":[{\"automargin\":true,\"type\":\"pie\"}]},\"layout\":{\"autotypenumbers\":\"strict\",\"colorway\":[\"#636efa\",\"#EF553B\",\"#00cc96\",\"#ab63fa\",\"#FFA15A\",\"#19d3f3\",\"#FF6692\",\"#B6E880\",\"#FF97FF\",\"#FECB52\"],\"font\":{\"color\":\"#2a3f5f\"},\"hovermode\":\"closest\",\"hoverlabel\":{\"align\":\"left\"},\"paper_bgcolor\":\"white\",\"plot_bgcolor\":\"#E5ECF6\",\"polar\":{\"bgcolor\":\"#E5ECF6\",\"angularaxis\":{\"gridcolor\":\"white\",\"linecolor\":\"white\",\"ticks\":\"\"},\"radialaxis\":{\"gridcolor\":\"white\",\"linecolor\":\"white\",\"ticks\":\"\"}},\"ternary\":{\"bgcolor\":\"#E5ECF6\",\"aaxis\":{\"gridcolor\":\"white\",\"linecolor\":\"white\",\"ticks\":\"\"},\"baxis\":{\"gridcolor\":\"white\",\"linecolor\":\"white\",\"ticks\":\"\"},\"caxis\":{\"gridcolor\":\"white\",\"linecolor\":\"white\",\"ticks\":\"\"}},\"coloraxis\":{\"colorbar\":{\"outlinewidth\":0,\"ticks\":\"\"}},\"colorscale\":{\"sequential\":[[0.0,\"#0d0887\"],[0.1111111111111111,\"#46039f\"],[0.2222222222222222,\"#7201a8\"],[0.3333333333333333,\"#9c179e\"],[0.4444444444444444,\"#bd3786\"],[0.5555555555555556,\"#d8576b\"],[0.6666666666666666,\"#ed7953\"],[0.7777777777777778,\"#fb9f3a\"],[0.8888888888888888,\"#fdca26\"],[1.0,\"#f0f921\"]],\"sequentialminus\":[[0.0,\"#0d0887\"],[0.1111111111111111,\"#46039f\"],[0.2222222222222222,\"#7201a8\"],[0.3333333333333333,\"#9c179e\"],[0.4444444444444444,\"#bd3786\"],[0.5555555555555556,\"#d8576b\"],[0.6666666666666666,\"#ed7953\"],[0.7777777777777778,\"#fb9f3a\"],[0.8888888888888888,\"#fdca26\"],[1.0,\"#f0f921\"]],\"diverging\":[[0,\"#8e0152\"],[0.1,\"#c51b7d\"],[0.2,\"#de77ae\"],[0.3,\"#f1b6da\"],[0.4,\"#fde0ef\"],[0.5,\"#f7f7f7\"],[0.6,\"#e6f5d0\"],[0.7,\"#b8e186\"],[0.8,\"#7fbc41\"],[0.9,\"#4d9221\"],[1,\"#276419\"]]},\"xaxis\":{\"gridcolor\":\"white\",\"linecolor\":\"white\",\"ticks\":\"\",\"title\":{\"standoff\":15},\"zerolinecolor\":\"white\",\"automargin\":true,\"zerolinewidth\":2},\"yaxis\":{\"gridcolor\":\"white\",\"linecolor\":\"white\",\"ticks\":\"\",\"title\":{\"standoff\":15},\"zerolinecolor\":\"white\",\"automargin\":true,\"zerolinewidth\":2},\"scene\":{\"xaxis\":{\"backgroundcolor\":\"#E5ECF6\",\"gridcolor\":\"white\",\"linecolor\":\"white\",\"showbackground\":true,\"ticks\":\"\",\"zerolinecolor\":\"white\",\"gridwidth\":2},\"yaxis\":{\"backgroundcolor\":\"#E5ECF6\",\"gridcolor\":\"white\",\"linecolor\":\"white\",\"showbackground\":true,\"ticks\":\"\",\"zerolinecolor\":\"white\",\"gridwidth\":2},\"zaxis\":{\"backgroundcolor\":\"#E5ECF6\",\"gridcolor\":\"white\",\"linecolor\":\"white\",\"showbackground\":true,\"ticks\":\"\",\"zerolinecolor\":\"white\",\"gridwidth\":2}},\"shapedefaults\":{\"line\":{\"color\":\"#2a3f5f\"}},\"annotationdefaults\":{\"arrowcolor\":\"#2a3f5f\",\"arrowhead\":0,\"arrowwidth\":1},\"geo\":{\"bgcolor\":\"white\",\"landcolor\":\"#E5ECF6\",\"subunitcolor\":\"white\",\"showland\":true,\"showlakes\":true,\"lakecolor\":\"white\"},\"title\":{\"x\":0.05},\"mapbox\":{\"style\":\"light\"}}},\"xaxis\":{\"anchor\":\"y\",\"domain\":[0.0,0.16799999999999998],\"title\":{\"text\":\"x\"},\"range\":[0,1]},\"yaxis\":{\"anchor\":\"x\",\"domain\":[0.0,1.0],\"title\":{\"text\":\"\"},\"range\":[-1.7,1.7]},\"xaxis2\":{\"anchor\":\"y2\",\"domain\":[0.208,0.376],\"title\":{\"text\":\"x\"},\"range\":[0,1]},\"yaxis2\":{\"anchor\":\"x2\",\"domain\":[0.0,1.0],\"title\":{\"text\":\"\"},\"range\":[-1.7,1.7]},\"xaxis3\":{\"anchor\":\"y3\",\"domain\":[0.416,0.584],\"title\":{\"text\":\"x\"},\"range\":[0,1]},\"yaxis3\":{\"anchor\":\"x3\",\"domain\":[0.0,1.0],\"title\":{\"text\":\"\"},\"range\":[-1.7,1.7]},\"xaxis4\":{\"anchor\":\"y4\",\"domain\":[0.624,0.792],\"title\":{\"text\":\"x\"},\"range\":[0,1]},\"yaxis4\":{\"anchor\":\"x4\",\"domain\":[0.0,1.0],\"title\":{\"text\":\"\"},\"range\":[-1.7,1.7]},\"xaxis5\":{\"anchor\":\"y5\",\"domain\":[0.832,1.0],\"title\":{\"text\":\"x\"},\"range\":[0,1]},\"yaxis5\":{\"anchor\":\"x5\",\"domain\":[0.0,1.0],\"title\":{\"text\":\"\"},\"range\":[-1.7,1.7]},\"annotations\":[{\"font\":{\"size\":16},\"showarrow\":false,\"text\":\"Scenario A\",\"x\":0.08399999999999999,\"xanchor\":\"center\",\"xref\":\"paper\",\"y\":1.0,\"yanchor\":\"bottom\",\"yref\":\"paper\"},{\"font\":{\"size\":16},\"showarrow\":false,\"text\":\"Scenario B\",\"x\":0.292,\"xanchor\":\"center\",\"xref\":\"paper\",\"y\":1.0,\"yanchor\":\"bottom\",\"yref\":\"paper\"},{\"font\":{\"size\":16},\"showarrow\":false,\"text\":\"Scenario C\",\"x\":0.5,\"xanchor\":\"center\",\"xref\":\"paper\",\"y\":1.0,\"yanchor\":\"bottom\",\"yref\":\"paper\"},{\"font\":{\"size\":16},\"showarrow\":false,\"text\":\"Scenario D\",\"x\":0.708,\"xanchor\":\"center\",\"xref\":\"paper\",\"y\":1.0,\"yanchor\":\"bottom\",\"yref\":\"paper\"},{\"font\":{\"size\":16},\"showarrow\":false,\"text\":\"Scenario E\",\"x\":0.9159999999999999,\"xanchor\":\"center\",\"xref\":\"paper\",\"y\":1.0,\"yanchor\":\"bottom\",\"yref\":\"paper\"}],\"showlegend\":false},                        {\"responsive\": true}                    ).then(function(){\n",
              "                            \n",
              "var gd = document.getElementById('f6cbd6ff-1b4e-4acc-8b72-24a86a440d81');\n",
              "var x = new MutationObserver(function (mutations, observer) {{\n",
              "        var display = window.getComputedStyle(gd).display;\n",
              "        if (!display || display === 'none') {{\n",
              "            console.log([gd, 'removed!']);\n",
              "            Plotly.purge(gd);\n",
              "            observer.disconnect();\n",
              "        }}\n",
              "}});\n",
              "\n",
              "// Listen for the removal of the full notebook cells\n",
              "var notebookContainer = gd.closest('#notebook-container');\n",
              "if (notebookContainer) {{\n",
              "    x.observe(notebookContainer, {childList: true});\n",
              "}}\n",
              "\n",
              "// Listen for the clearing of the current output cell\n",
              "var outputEl = gd.closest('.output');\n",
              "if (outputEl) {{\n",
              "    x.observe(outputEl, {childList: true});\n",
              "}}\n",
              "\n",
              "                        })                };                            </script>        </div>\n",
              "</body>\n",
              "</html>"
            ]
          },
          "metadata": {}
        }
      ]
    },
    {
      "cell_type": "markdown",
      "metadata": {
        "id": "uQDNfE2ADPUG"
      },
      "source": [
        "If you want to learn more, [here](http://bit.ly/3BLUE1BROWN2TWY9iI) you can find a nice discussion about an analogous exercise:\n",
        "> Three Amazon resellers offer a book at essentially the same price. These are their ratings:\n",
        ">\n",
        "> - 100% positive out of 10 reviews\n",
        "> - 96% positive out of 50 reviews\n",
        "> - 93% positive out of 200 reviews\n",
        ">\n",
        "> Which rating is better?\n",
        "\n",
        "> **EXERCISE (optional)**: You probably realized that in the previous exercise you wanted to be in the scenario with the largest amount of relevant information about the phenomenon $\\mathcal{P}$. Now a tricky question: the dataset of which scenario, A or B, contains more *absolute* information? (i.e. Shannon information)\n",
        ">\n",
        ">Answer [here](http://bit.ly/VeritasiumRandom3b0rPBe), or more directly [here](https://en.wikipedia.org/wiki/Quantities_of_information#Self-information)."
      ]
    },
    {
      "cell_type": "markdown",
      "metadata": {
        "id": "yTDKBC5GL7MI"
      },
      "source": [
        "### Being linear in the parameters does not mean linear in the input\n",
        "\n",
        "In this tutorial we will restrict our search of $f$ among parametrized functions $f_\\theta$ that depend *linearly* on their finite set of parameters $\\theta = \\{a,b,c,...\\}$.\n",
        "\n",
        "Possible choices of $f$ are\n",
        "- $f_1(x) = ax + b$\n",
        "- $f_2(x) = ax^2 + bx + c$\n",
        "- $f_3(x) = a \\sin(2 \\pi x) + bx + c$"
      ]
    },
    {
      "cell_type": "code",
      "metadata": {
        "id": "1C9ECfD-Q65g",
        "colab": {
          "base_uri": "https://localhost:8080/",
          "height": 542
        },
        "outputId": "1aee6c0b-3c97-4c04-ae6e-4027f4eb1af6"
      },
      "source": [
        "# @title Some random plots of these linear models\n",
        "\n",
        "\n",
        "x_funcs = np.arange(0., 1.1, 2./51)\n",
        "theta_funcs = np.random.randn(10, 3)\n",
        "\n",
        "fig = make_subplots(\n",
        "    rows=1, cols=3,\n",
        "    subplot_titles=(\"f1\", \"f2\", \"f3\"))\n",
        "\n",
        "for a, b in theta_funcs[:,:2]:\n",
        "    fig.add_trace(go.Scatter(x=x_funcs, y=a*x_funcs + b, mode='lines'),\n",
        "                row=1, col=1)\n",
        "\n",
        "for a, b, c in theta_funcs:\n",
        "    fig.add_trace(go.Scatter(x=x_funcs, y=a*x_funcs**2 + b*x_funcs + c, mode='lines'),\n",
        "                row=1, col=2)\n",
        "\n",
        "for a, b, c in theta_funcs:\n",
        "    fig.add_trace(go.Scatter(x=x_funcs, y=a*np.sin(2 * np.pi * x_funcs) + b*x_funcs + c, mode='lines'),\n",
        "                row=1, col=3)\n",
        "\n",
        "for i in range(3):\n",
        "    fig.add_trace(go.Scatter(x=x, y=t, mode='markers', marker=dict(color=\"mediumpurple\")),\n",
        "                row=1, col=i + 1)\n",
        "\n",
        "fig.update_xaxes(title_text=\"x\", range = [0,1])\n",
        "fig.update_yaxes(title_text=\"t\", range = [-2,2])\n",
        "fig.update_layout(showlegend=False)\n",
        "\n",
        "fig.show()"
      ],
      "execution_count": 10,
      "outputs": [
        {
          "output_type": "display_data",
          "data": {
            "text/html": [
              "<html>\n",
              "<head><meta charset=\"utf-8\" /></head>\n",
              "<body>\n",
              "    <div>            <script src=\"https://cdnjs.cloudflare.com/ajax/libs/mathjax/2.7.5/MathJax.js?config=TeX-AMS-MML_SVG\"></script><script type=\"text/javascript\">if (window.MathJax && window.MathJax.Hub && window.MathJax.Hub.Config) {window.MathJax.Hub.Config({SVG: {font: \"STIX-Web\"}});}</script>                <script type=\"text/javascript\">window.PlotlyConfig = {MathJaxConfig: 'local'};</script>\n",
              "        <script charset=\"utf-8\" src=\"https://cdn.plot.ly/plotly-2.35.2.min.js\"></script>                <div id=\"d40c0447-cac9-4ad6-b614-a9d0aaf2dc9f\" class=\"plotly-graph-div\" style=\"height:525px; width:100%;\"></div>            <script type=\"text/javascript\">                                    window.PLOTLYENV=window.PLOTLYENV || {};                                    if (document.getElementById(\"d40c0447-cac9-4ad6-b614-a9d0aaf2dc9f\")) {                    Plotly.newPlot(                        \"d40c0447-cac9-4ad6-b614-a9d0aaf2dc9f\",                        [{\"mode\":\"lines\",\"x\":[0.0,0.0392156862745098,0.0784313725490196,0.11764705882352941,0.1568627450980392,0.19607843137254902,0.23529411764705882,0.27450980392156865,0.3137254901960784,0.3529411764705882,0.39215686274509803,0.43137254901960786,0.47058823529411764,0.5098039215686274,0.5490196078431373,0.5882352941176471,0.6274509803921569,0.6666666666666666,0.7058823529411764,0.7450980392156863,0.7843137254901961,0.8235294117647058,0.8627450980392157,0.9019607843137255,0.9411764705882353,0.9803921568627451,1.0196078431372548,1.0588235294117647,1.0980392156862746],\"y\":[0.18334200573835174,0.2175506581587705,0.25175931057918927,0.285967962999608,0.32017661542002673,0.3543852678404455,0.38859392026086426,0.422802572681283,0.4570112251017018,0.4912198775221205,0.5254285299425392,0.559637182362958,0.5938458347833768,0.6280544872037954,0.6622631396242142,0.696471792044633,0.7306804444650519,0.7648890968854705,0.7990977493058893,0.8333064017263081,0.8675150541467267,0.9017237065671455,0.9359323589875643,0.9701410114079831,1.0043496638284017,1.0385583162488206,1.0727669686692392,1.106975621089658,1.1411842735100768],\"type\":\"scatter\",\"xaxis\":\"x\",\"yaxis\":\"y\"},{\"mode\":\"lines\",\"x\":[0.0,0.0392156862745098,0.0784313725490196,0.11764705882352941,0.1568627450980392,0.19607843137254902,0.23529411764705882,0.27450980392156865,0.3137254901960784,0.3529411764705882,0.39215686274509803,0.43137254901960786,0.47058823529411764,0.5098039215686274,0.5490196078431373,0.5882352941176471,0.6274509803921569,0.6666666666666666,0.7058823529411764,0.7450980392156863,0.7843137254901961,0.8235294117647058,0.8627450980392157,0.9019607843137255,0.9411764705882353,0.9803921568627451,1.0196078431372548,1.0588235294117647,1.0980392156862746],\"y\":[-0.8397218421807761,-0.8714198141554879,-0.9031177861301997,-0.9348157581049115,-0.9665137300796234,-0.9982117020543352,-1.029909674029047,-1.061607646003759,-1.0933056179784706,-1.1250035899531825,-1.1567015619278942,-1.188399533902606,-1.2200975058773178,-1.2517954778520297,-1.2834934498267416,-1.3151914218014533,-1.3468893937761652,-1.3785873657508771,-1.4102853377255888,-1.4419833097003005,-1.4736812816750124,-1.5053792536497244,-1.537077225624436,-1.568775197599148,-1.6004731695738599,-1.6321711415485716,-1.6638691135232833,-1.6955670854979954,-1.727265057472707],\"type\":\"scatter\",\"xaxis\":\"x\",\"yaxis\":\"y\"},{\"mode\":\"lines\",\"x\":[0.0,0.0392156862745098,0.0784313725490196,0.11764705882352941,0.1568627450980392,0.19607843137254902,0.23529411764705882,0.27450980392156865,0.3137254901960784,0.3529411764705882,0.39215686274509803,0.43137254901960786,0.47058823529411764,0.5098039215686274,0.5490196078431373,0.5882352941176471,0.6274509803921569,0.6666666666666666,0.7058823529411764,0.7450980392156863,0.7843137254901961,0.8235294117647058,0.8627450980392157,0.9019607843137255,0.9411764705882353,0.9803921568627451,1.0196078431372548,1.0588235294117647,1.0980392156862746],\"y\":[-0.525755021680761,-0.6090450500850672,-0.6923350784893734,-0.7756251068936795,-0.8589151352979856,-0.9422051637022918,-1.025495192106598,-1.1087852205109041,-1.1920752489152102,-1.2753652773195163,-1.3586553057238224,-1.4419453341281288,-1.5252353625324349,-1.608525390936741,-1.6918154193410473,-1.7751054477453532,-1.8583954761496595,-1.9416855045539654,-2.0249755329582717,-2.108265561362578,-2.191555589766884,-2.2748456181711902,-2.3581356465754966,-2.4414256749798025,-2.524715703384109,-2.6080057317884147,-2.6912957601927205,-2.774585788597027,-2.857875817001333],\"type\":\"scatter\",\"xaxis\":\"x\",\"yaxis\":\"y\"},{\"mode\":\"lines\",\"x\":[0.0,0.0392156862745098,0.0784313725490196,0.11764705882352941,0.1568627450980392,0.19607843137254902,0.23529411764705882,0.27450980392156865,0.3137254901960784,0.3529411764705882,0.39215686274509803,0.43137254901960786,0.47058823529411764,0.5098039215686274,0.5490196078431373,0.5882352941176471,0.6274509803921569,0.6666666666666666,0.7058823529411764,0.7450980392156863,0.7843137254901961,0.8235294117647058,0.8627450980392157,0.9019607843137255,0.9411764705882353,0.9803921568627451,1.0196078431372548,1.0588235294117647,1.0980392156862746],\"y\":[0.34175597577715944,0.347653771325246,0.35355156687333256,0.35944936242141917,0.36534715796950573,0.3712449535175923,0.3771427490656789,0.38304054461376547,0.388938340161852,0.3948361357099386,0.40073393125802514,0.40663172680611176,0.4125295223541983,0.4184273179022849,0.4243251134503715,0.43022290899845805,0.4361207045465446,0.4420185000946312,0.44791629564271773,0.45381409119080435,0.4597118867388909,0.46560968228697747,0.4715074778350641,0.47740527338315064,0.4833030689312372,0.48920086447932376,0.4950986600274103,0.5009964555754969,0.5068942511235836],\"type\":\"scatter\",\"xaxis\":\"x\",\"yaxis\":\"y\"},{\"mode\":\"lines\",\"x\":[0.0,0.0392156862745098,0.0784313725490196,0.11764705882352941,0.1568627450980392,0.19607843137254902,0.23529411764705882,0.27450980392156865,0.3137254901960784,0.3529411764705882,0.39215686274509803,0.43137254901960786,0.47058823529411764,0.5098039215686274,0.5490196078431373,0.5882352941176471,0.6274509803921569,0.6666666666666666,0.7058823529411764,0.7450980392156863,0.7843137254901961,0.8235294117647058,0.8627450980392157,0.9019607843137255,0.9411764705882353,0.9803921568627451,1.0196078431372548,1.0588235294117647,1.0980392156862746],\"y\":[-0.5769036556624031,-0.5396321325962835,-0.5023606095301638,-0.46508908646404423,-0.42781756339792465,-0.390546040331805,-0.3532745172656854,-0.31600299419956573,-0.27873147113344615,-0.24145994806732657,-0.20418842500120693,-0.1669169019350873,-0.1296453788689677,-0.09237385580284807,-0.05510233273672838,-0.017830809670608794,0.01944071339551079,0.05671223646163037,0.09398375952774995,0.13125528259386965,0.16852680565998923,0.20579832872610881,0.2430698517922285,0.2803413748583481,0.3176128979244677,0.35488442099058726,0.39215594405670695,0.42942746712282653,0.46669899018894634],\"type\":\"scatter\",\"xaxis\":\"x\",\"yaxis\":\"y\"},{\"mode\":\"lines\",\"x\":[0.0,0.0392156862745098,0.0784313725490196,0.11764705882352941,0.1568627450980392,0.19607843137254902,0.23529411764705882,0.27450980392156865,0.3137254901960784,0.3529411764705882,0.39215686274509803,0.43137254901960786,0.47058823529411764,0.5098039215686274,0.5490196078431373,0.5882352941176471,0.6274509803921569,0.6666666666666666,0.7058823529411764,0.7450980392156863,0.7843137254901961,0.8235294117647058,0.8627450980392157,0.9019607843137255,0.9411764705882353,0.9803921568627451,1.0196078431372548,1.0588235294117647,1.0980392156862746],\"y\":[-1.3202332070206422,-1.3009422591184263,-1.2816513112162105,-1.2623603633139944,-1.2430694154117785,-1.2237784675095627,-1.2044875196073468,-1.1851965717051307,-1.1659056238029148,-1.146614675900699,-1.1273237279984831,-1.1080327800962673,-1.0887418321940512,-1.0694508842918353,-1.0501599363896195,-1.0308689884874034,-1.0115780405851877,-0.9922870926829717,-0.9729961447807558,-0.9537051968785399,-0.934414248976324,-0.915123301074108,-0.8958323531718921,-0.8765414052696763,-0.8572504573674603,-0.8379595094652444,-0.8186685615630286,-0.7993776136608126,-0.7800866657585966],\"type\":\"scatter\",\"xaxis\":\"x\",\"yaxis\":\"y\"},{\"mode\":\"lines\",\"x\":[0.0,0.0392156862745098,0.0784313725490196,0.11764705882352941,0.1568627450980392,0.19607843137254902,0.23529411764705882,0.27450980392156865,0.3137254901960784,0.3529411764705882,0.39215686274509803,0.43137254901960786,0.47058823529411764,0.5098039215686274,0.5490196078431373,0.5882352941176471,0.6274509803921569,0.6666666666666666,0.7058823529411764,0.7450980392156863,0.7843137254901961,0.8235294117647058,0.8627450980392157,0.9019607843137255,0.9411764705882353,0.9803921568627451,1.0196078431372548,1.0588235294117647,1.0980392156862746],\"y\":[-0.4691756521047048,-0.42292309835092884,-0.3766705445971529,-0.3304179908433769,-0.28416543708960096,-0.237912883335825,-0.19166032958204904,-0.14540777582827302,-0.09915522207449712,-0.05290266832072121,-0.006650114566945198,0.03960243918683082,0.08585499294060672,0.13210754669438263,0.17836010044815875,0.22461265420193466,0.27086520795571056,0.31711776170948647,0.36337031546326237,0.4096228692170385,0.4558754229708144,0.5021279767245903,0.5483805304783664,0.5946330842321423,0.6408856379859182,0.6871381917396941,0.73339074549347,0.7796432992472462,0.8258958530010223],\"type\":\"scatter\",\"xaxis\":\"x\",\"yaxis\":\"y\"},{\"mode\":\"lines\",\"x\":[0.0,0.0392156862745098,0.0784313725490196,0.11764705882352941,0.1568627450980392,0.19607843137254902,0.23529411764705882,0.27450980392156865,0.3137254901960784,0.3529411764705882,0.39215686274509803,0.43137254901960786,0.47058823529411764,0.5098039215686274,0.5490196078431373,0.5882352941176471,0.6274509803921569,0.6666666666666666,0.7058823529411764,0.7450980392156863,0.7843137254901961,0.8235294117647058,0.8627450980392157,0.9019607843137255,0.9411764705882353,0.9803921568627451,1.0196078431372548,1.0588235294117647,1.0980392156862746],\"y\":[-0.11453984525261789,-0.0614468109716213,-0.008353776690624717,0.04473925759037185,0.09783229187136845,0.15092532615236498,0.20401836043336158,0.25711139471435823,0.3102044289953548,0.3632974632763513,0.41639049755734786,0.4694835318383445,0.5225765661193411,0.5756696004003377,0.6287626346813344,0.681855668962331,0.7349487032433275,0.788041737524324,0.8411347718053206,0.8942278060863171,0.9473208403673137,1.0004138746483102,1.053506908929307,1.1065999432103035,1.1596929774913,1.2127860117722966,1.2658790460532932,1.31897208033429,1.3720651146152867],\"type\":\"scatter\",\"xaxis\":\"x\",\"yaxis\":\"y\"},{\"mode\":\"lines\",\"x\":[0.0,0.0392156862745098,0.0784313725490196,0.11764705882352941,0.1568627450980392,0.19607843137254902,0.23529411764705882,0.27450980392156865,0.3137254901960784,0.3529411764705882,0.39215686274509803,0.43137254901960786,0.47058823529411764,0.5098039215686274,0.5490196078431373,0.5882352941176471,0.6274509803921569,0.6666666666666666,0.7058823529411764,0.7450980392156863,0.7843137254901961,0.8235294117647058,0.8627450980392157,0.9019607843137255,0.9411764705882353,0.9803921568627451,1.0196078431372548,1.0588235294117647,1.0980392156862746],\"y\":[-0.5993750229537729,-0.6619015978084539,-0.724428172663135,-0.786954747517816,-0.8494813223724971,-0.9120078972271781,-0.9745344720818592,-1.0370610469365404,-1.0995876217912213,-1.1621141966459025,-1.2246407715005834,-1.2871673463552646,-1.3496939212099455,-1.4122204960646267,-1.4747470709193078,-1.5372736457739888,-1.5998002206286699,-1.662326795483351,-1.724853370338032,-1.787379945192713,-1.849906520047394,-1.9124330949020751,-1.9749596697567564,-2.0374862446114372,-2.1000128194661185,-2.1625393943207993,-2.22506596917548,-2.2875925440301614,-2.3501191188848427],\"type\":\"scatter\",\"xaxis\":\"x\",\"yaxis\":\"y\"},{\"mode\":\"lines\",\"x\":[0.0,0.0392156862745098,0.0784313725490196,0.11764705882352941,0.1568627450980392,0.19607843137254902,0.23529411764705882,0.27450980392156865,0.3137254901960784,0.3529411764705882,0.39215686274509803,0.43137254901960786,0.47058823529411764,0.5098039215686274,0.5490196078431373,0.5882352941176471,0.6274509803921569,0.6666666666666666,0.7058823529411764,0.7450980392156863,0.7843137254901961,0.8235294117647058,0.8627450980392157,0.9019607843137255,0.9411764705882353,0.9803921568627451,1.0196078431372548,1.0588235294117647,1.0980392156862746],\"y\":[-0.45006547147924364,-0.44822309525317533,-0.446380719027107,-0.4445383428010387,-0.4426959665749704,-0.44085359034890204,-0.4390112141228337,-0.4371688378967654,-0.4353264616706971,-0.4334840854446288,-0.4316417092185605,-0.4297993329924922,-0.42795695676642387,-0.42611458054035556,-0.4242722043142872,-0.4224298280882189,-0.4205874518621506,-0.41874507563608226,-0.41690269941001395,-0.41506032318394565,-0.41321794695787734,-0.411375570731809,-0.40953319450574066,-0.40769081827967235,-0.40584844205360404,-0.40400606582753573,-0.4021636896014674,-0.4003213133753991,-0.3984789371493308],\"type\":\"scatter\",\"xaxis\":\"x\",\"yaxis\":\"y\"},{\"mode\":\"lines\",\"x\":[0.0,0.0392156862745098,0.0784313725490196,0.11764705882352941,0.1568627450980392,0.19607843137254902,0.23529411764705882,0.27450980392156865,0.3137254901960784,0.3529411764705882,0.39215686274509803,0.43137254901960786,0.47058823529411764,0.5098039215686274,0.5490196078431373,0.5882352941176471,0.6274509803921569,0.6666666666666666,0.7058823529411764,0.7450980392156863,0.7843137254901961,0.8235294117647058,0.8627450980392157,0.9019607843137255,0.9411764705882353,0.9803921568627451,1.0196078431372548,1.0588235294117647,1.0980392156862746],\"y\":[2.1898029332176723,2.1983343315768398,2.209548761498393,2.223446222982332,2.2400267160286567,2.2592902406373674,2.281236796808464,2.3058663845419463,2.333179003837814,2.363174654696068,2.3958533371167072,2.431215051099733,2.4692597966451437,2.5099875737529405,2.5533983824231234,2.599492222655692,2.648269094450646,2.699728997807986,2.7538719327277117,2.8106978992098233,2.8702068972543207,2.932398926861204,2.997273988030473,3.0648320807621277,3.1350732050561683,3.2079973609125942,3.2836045483314065,3.3618947673126045,3.4428680178561883],\"type\":\"scatter\",\"xaxis\":\"x2\",\"yaxis\":\"y2\"},{\"mode\":\"lines\",\"x\":[0.0,0.0392156862745098,0.0784313725490196,0.11764705882352941,0.1568627450980392,0.19607843137254902,0.23529411764705882,0.27450980392156865,0.3137254901960784,0.3529411764705882,0.39215686274509803,0.43137254901960786,0.47058823529411764,0.5098039215686274,0.5490196078431373,0.5882352941176471,0.6274509803921569,0.6666666666666666,0.7058823529411764,0.7450980392156863,0.7843137254901961,0.8235294117647058,0.8627450980392157,0.9019607843137255,0.9411764705882353,0.9803921568627451,1.0196078431372548,1.0588235294117647,1.0980392156862746],\"y\":[-0.5993926454440222,-0.6335659714893354,-0.6702254129836457,-0.7093709699269529,-0.7510026423192572,-0.7951204301605584,-0.8417243334508567,-0.890814352190152,-0.9423904863784444,-0.9964527360157336,-1.05300110110202,-1.1120355816373033,-1.1735561776215835,-1.237562889054861,-1.3040557159371353,-1.3730346582684065,-1.444499716048675,-1.5184508892779403,-1.5948881779562023,-1.6738115820834618,-1.7552211016597181,-1.8391167366849714,-1.925498487159222,-2.0143663530824694,-2.1057203344547135,-2.199560431275955,-2.295886643546193,-2.394698971265429,-2.4959974144336616],\"type\":\"scatter\",\"xaxis\":\"x2\",\"yaxis\":\"y2\"},{\"mode\":\"lines\",\"x\":[0.0,0.0392156862745098,0.0784313725490196,0.11764705882352941,0.1568627450980392,0.19607843137254902,0.23529411764705882,0.27450980392156865,0.3137254901960784,0.3529411764705882,0.39215686274509803,0.43137254901960786,0.47058823529411764,0.5098039215686274,0.5490196078431373,0.5882352941176471,0.6274509803921569,0.6666666666666666,0.7058823529411764,0.7450980392156863,0.7843137254901961,0.8235294117647058,0.8627450980392157,0.9019607843137255,0.9411764705882353,0.9803921568627451,1.0196078431372548,1.0588235294117647,1.0980392156862746],\"y\":[-0.759132661553698,-0.783016781164877,-0.8134334520234527,-0.8503826741294249,-0.8938644474827937,-0.9438787720835591,-1.000425647931721,-1.0635050750272796,-1.1331170533702344,-1.2092615829605862,-1.291938663798334,-1.381148295883479,-1.4768904792160202,-1.579165213795958,-1.6879724996232928,-1.8033123366980235,-1.925184725020151,-2.053589664589675,-2.1885271554065957,-2.329997197470913,-2.4779997907826266,-2.632534935341737,-2.793602631148244,-2.9612028782021476,-3.1353356765034475,-3.3160010260521435,-3.5031989268482366,-3.696929378891727,-3.897192382182614],\"type\":\"scatter\",\"xaxis\":\"x2\",\"yaxis\":\"y2\"},{\"mode\":\"lines\",\"x\":[0.0,0.0392156862745098,0.0784313725490196,0.11764705882352941,0.1568627450980392,0.19607843137254902,0.23529411764705882,0.27450980392156865,0.3137254901960784,0.3529411764705882,0.39215686274509803,0.43137254901960786,0.47058823529411764,0.5098039215686274,0.5490196078431373,0.5882352941176471,0.6274509803921569,0.6666666666666666,0.7058823529411764,0.7450980392156863,0.7843137254901961,0.8235294117647058,0.8627450980392157,0.9019607843137255,0.9411764705882353,0.9803921568627451,1.0196078431372548,1.0588235294117647,1.0980392156862746],\"y\":[1.8761708392158862,1.8898043204443273,1.9039003738726181,1.918458999500759,1.9334801973287499,1.9489639673565906,1.9649103095842813,1.9813192240118218,1.9981907106392123,2.015524769466453,2.033321400493543,2.0515806037204833,2.0703023791472734,2.089486726773914,2.109133646600404,2.129243138626744,2.149815202852934,2.170849839278974,2.1923470479048635,2.2143068287306034,2.2367291817561927,2.2596141069816325,2.282961604406922,2.306771674032061,2.3310443158570506,2.35577952988189,2.380977316106579,2.4066376745311184,2.4327606051555075],\"type\":\"scatter\",\"xaxis\":\"x2\",\"yaxis\":\"y2\"},{\"mode\":\"lines\",\"x\":[0.0,0.0392156862745098,0.0784313725490196,0.11764705882352941,0.1568627450980392,0.19607843137254902,0.23529411764705882,0.27450980392156865,0.3137254901960784,0.3529411764705882,0.39215686274509803,0.43137254901960786,0.47058823529411764,0.5098039215686274,0.5490196078431373,0.5882352941176471,0.6274509803921569,0.6666666666666666,0.7058823529411764,0.7450980392156863,0.7843137254901961,0.8235294117647058,0.8627450980392157,0.9019607843137255,0.9411764705882353,0.9803921568627451,1.0196078431372548,1.0588235294117647,1.0980392156862746],\"y\":[-0.898414671348358,-0.9195767157638984,-0.9378155034683708,-0.9531310344617749,-0.9655233087441109,-0.9749923263153786,-0.9815380871755781,-0.9851605913247093,-0.9858598387627724,-0.9836358294897674,-0.978488563505694,-0.9704180408105525,-0.9594242614043428,-0.9455072252870649,-0.9286669324587187,-0.9089033829193043,-0.8862165766688217,-0.8606065137072709,-0.8320731940346521,-0.8006166176509648,-0.7662367845562095,-0.7289336947503859,-0.6887073482334941,-0.6455577450055341,-0.599484885066506,-0.5504887684164096,-0.4985693950552451,-0.443726764983012,-0.3859608781997109],\"type\":\"scatter\",\"xaxis\":\"x2\",\"yaxis\":\"y2\"},{\"mode\":\"lines\",\"x\":[0.0,0.0392156862745098,0.0784313725490196,0.11764705882352941,0.1568627450980392,0.19607843137254902,0.23529411764705882,0.27450980392156865,0.3137254901960784,0.3529411764705882,0.39215686274509803,0.43137254901960786,0.47058823529411764,0.5098039215686274,0.5490196078431373,0.5882352941176471,0.6274509803921569,0.6666666666666666,0.7058823529411764,0.7450980392156863,0.7843137254901961,0.8235294117647058,0.8627450980392157,0.9019607843137255,0.9411764705882353,0.9803921568627451,1.0196078431372548,1.0588235294117647,1.0980392156862746],\"y\":[1.8314587658543537,1.7804414223595135,1.7309370943864157,1.6829457819350604,1.6364674850054473,1.5915022035975768,1.5480499377114487,1.5061106873470629,1.4656844525044197,1.4267712331835187,1.3893710293843604,1.3534838411069443,1.3191096683512709,1.2862485111173396,1.2549003694051508,1.2250652432147047,1.1967431325460007,1.1699340373990395,1.1446379577738202,1.1208548936703435,1.0985848450886095,1.0778278120286175,1.0585837944903682,1.0408527924738615,1.0246348059790968,1.009929835006075,0.9967378795547953,0.9850589396252581,0.9748930152174632],\"type\":\"scatter\",\"xaxis\":\"x2\",\"yaxis\":\"y2\"},{\"mode\":\"lines\",\"x\":[0.0,0.0392156862745098,0.0784313725490196,0.11764705882352941,0.1568627450980392,0.19607843137254902,0.23529411764705882,0.27450980392156865,0.3137254901960784,0.3529411764705882,0.39215686274509803,0.43137254901960786,0.47058823529411764,0.5098039215686274,0.5490196078431373,0.5882352941176471,0.6274509803921569,0.6666666666666666,0.7058823529411764,0.7450980392156863,0.7843137254901961,0.8235294117647058,0.8627450980392157,0.9019607843137255,0.9411764705882353,0.9803921568627451,1.0196078431372548,1.0588235294117647,1.0980392156862746],\"y\":[-1.7131345290908775,-1.7297197486340512,-1.7426773169024188,-1.7520072338959807,-1.7577094996147364,-1.7597841140586863,-1.7582310772278302,-1.753050389122168,-1.7442420497417002,-1.7318060590864262,-1.7157424171563462,-1.6960511239514602,-1.6727321794717684,-1.6457855837172706,-1.6152113366879668,-1.581009438383857,-1.5431798888049415,-1.5017226879512198,-1.4566378358226924,-1.4079253324193586,-1.3555851777412191,-1.2996173717882735,-1.240021914560522,-1.1767988060579648,-1.1099480462806015,-1.0394696352284323,-0.9653635729014571,-0.8876298592996756,-0.8062684944230882],\"type\":\"scatter\",\"xaxis\":\"x2\",\"yaxis\":\"y2\"},{\"mode\":\"lines\",\"x\":[0.0,0.0392156862745098,0.0784313725490196,0.11764705882352941,0.1568627450980392,0.19607843137254902,0.23529411764705882,0.27450980392156865,0.3137254901960784,0.3529411764705882,0.39215686274509803,0.43137254901960786,0.47058823529411764,0.5098039215686274,0.5490196078431373,0.5882352941176471,0.6274509803921569,0.6666666666666666,0.7058823529411764,0.7450980392156863,0.7843137254901961,0.8235294117647058,0.8627450980392157,0.9019607843137255,0.9411764705882353,0.9803921568627451,1.0196078431372548,1.0588235294117647,1.0980392156862746],\"y\":[1.2378163119734618,1.2354066331118296,1.237161113801648,1.2430797540429173,1.2531625538356372,1.2674095131798078,1.2858206320754293,1.3083959105225014,1.335135348521024,1.3660389460709974,1.4011067031724216,1.4403386198252968,1.4837346960296223,1.5312949317853985,1.5830193270926258,1.6389078819513034,1.6989605963614318,1.763177470323011,1.831558503836041,1.9041036969005216,1.9808130495164529,2.061686561683835,2.1467242334026677,2.2359260646729515,2.329292055494685,2.4268222058678703,2.5285165157925054,2.6343749852685923,2.7443976142961297],\"type\":\"scatter\",\"xaxis\":\"x2\",\"yaxis\":\"y2\"},{\"mode\":\"lines\",\"x\":[0.0,0.0392156862745098,0.0784313725490196,0.11764705882352941,0.1568627450980392,0.19607843137254902,0.23529411764705882,0.27450980392156865,0.3137254901960784,0.3529411764705882,0.39215686274509803,0.43137254901960786,0.47058823529411764,0.5098039215686274,0.5490196078431373,0.5882352941176471,0.6274509803921569,0.6666666666666666,0.7058823529411764,0.7450980392156863,0.7843137254901961,0.8235294117647058,0.8627450980392157,0.9019607843137255,0.9411764705882353,0.9803921568627451,1.0196078431372548,1.0588235294117647,1.0980392156862746],\"y\":[0.005243699718183166,-0.02071322568606993,-0.051574196176964675,-0.08733921175450107,-0.12800827241867913,-0.1735813781694988,-0.22405852900696016,-0.2794397249310632,-0.33972496594180784,-0.40491425203919407,-0.4750075832232221,-0.5500049594938917,-0.629906380851203,-0.7147118472951558,-0.8044213588257506,-0.8990349154429867,-0.9985525171468647,-1.1029741639373842,-1.2122998558145452,-1.3265295927783483,-1.4456633748287926,-1.569701201965879,-1.6986430741896068,-1.832488991499976,-1.9712389538969872,-2.1148929613806398,-2.2634510139509336,-2.4169131116078706,-2.5752792543514484],\"type\":\"scatter\",\"xaxis\":\"x2\",\"yaxis\":\"y2\"},{\"mode\":\"lines\",\"x\":[0.0,0.0392156862745098,0.0784313725490196,0.11764705882352941,0.1568627450980392,0.19607843137254902,0.23529411764705882,0.27450980392156865,0.3137254901960784,0.3529411764705882,0.39215686274509803,0.43137254901960786,0.47058823529411764,0.5098039215686274,0.5490196078431373,0.5882352941176471,0.6274509803921569,0.6666666666666666,0.7058823529411764,0.7450980392156863,0.7843137254901961,0.8235294117647058,0.8627450980392157,0.9019607843137255,0.9411764705882353,0.9803921568627451,1.0196078431372548,1.0588235294117647,1.0980392156862746],\"y\":[0.6228499323474987,0.6052725560630605,0.5878396798747845,0.5705513037826707,0.5534074277867191,0.5364080518869297,0.5195531760833025,0.5028428003758376,0.486276924764535,0.4698555492493945,0.45357867383041617,0.43744629850760014,0.42145842328094635,0.4056150481504548,0.38991617311612536,0.3743617981779582,0.35895192333595327,0.34368654859011055,0.3285656739404301,0.31358929938691177,0.29875742492955576,0.2840700505683619,0.2695271763033303,0.25512880213446093,0.24087492806175376,0.22676555408520882,0.21280068020482606,0.1989803064206056,0.18530443273254726],\"type\":\"scatter\",\"xaxis\":\"x2\",\"yaxis\":\"y2\"},{\"mode\":\"lines\",\"x\":[0.0,0.0392156862745098,0.0784313725490196,0.11764705882352941,0.1568627450980392,0.19607843137254902,0.23529411764705882,0.27450980392156865,0.3137254901960784,0.3529411764705882,0.39215686274509803,0.43137254901960786,0.47058823529411764,0.5098039215686274,0.5490196078431373,0.5882352941176471,0.6274509803921569,0.6666666666666666,0.7058823529411764,0.7450980392156863,0.7843137254901961,0.8235294117647058,0.8627450980392157,0.9019607843137255,0.9411764705882353,0.9803921568627451,1.0196078431372548,1.0588235294117647,1.0980392156862746],\"y\":[2.1898029332176723,2.409763787425496,2.61687197110126,2.799051193773308,2.9457310269775334,3.048485422911461,3.101541699355744,3.102129245054808,3.0506468816147967,2.9506387722346124,2.808580332530316,2.6334870757510256,2.4363700205322356,2.229570557895479,2.0260149556034497,1.838433532375872,1.678591668628325,1.5565791053977165,1.4802004621544254,1.4545037899601319,1.4814756382495857,1.5599210550713123,1.6855357695080655,1.851166196016496,2.047241554830646,2.262352005708877,2.48393787220317,2.6990483230814015,2.8951236818955524],\"type\":\"scatter\",\"xaxis\":\"x3\",\"yaxis\":\"y3\"},{\"mode\":\"lines\",\"x\":[0.0,0.0392156862745098,0.0784313725490196,0.11764705882352941,0.1568627450980392,0.19607843137254902,0.23529411764705882,0.27450980392156865,0.3137254901960784,0.3529411764705882,0.39215686274509803,0.43137254901960786,0.47058823529411764,0.5098039215686274,0.5490196078431373,0.5882352941176471,0.6274509803921569,0.6666666666666666,0.7058823529411764,0.7450980392156863,0.7843137254901961,0.8235294117647058,0.8627450980392157,0.9019607843137255,0.9411764705882353,0.9803921568627451,1.0196078431372548,1.0588235294117647,1.0980392156862746],\"y\":[-0.5993926454440222,-0.8294779555030345,-1.0476538928887684,-1.2427304840172138,-1.4049130973694766,-1.526394099256337,-1.6018244827377113,-1.6286369804201712,-1.6072011431395439,-1.5408010168258448,-1.4354367660047016,-1.2994622270914191,-1.1430802854797688,-0.9777265587416386,-0.8153786152490263,-0.6678324556466728,-0.5459899621280504,-0.45920035794490854,-0.41469545703148214,-0.41715281812681493,-0.46841319156316774,-0.5673693266659608,-0.7100328564796753,-0.8897752195723954,-1.0977280657656623,-1.3233189588298764,-1.554910016419719,-1.7805009094839337,-1.9884537556772013],\"type\":\"scatter\",\"xaxis\":\"x3\",\"yaxis\":\"y3\"},{\"mode\":\"lines\",\"x\":[0.0,0.0392156862745098,0.0784313725490196,0.11764705882352941,0.1568627450980392,0.19607843137254902,0.23529411764705882,0.27450980392156865,0.3137254901960784,0.3529411764705882,0.39215686274509803,0.43137254901960786,0.47058823529411764,0.5098039215686274,0.5490196078431373,0.5882352941176471,0.6274509803921569,0.6666666666666666,0.7058823529411764,0.7450980392156863,0.7843137254901961,0.8235294117647058,0.8627450980392157,0.9019607843137255,0.9411764705882353,0.9803921568627451,1.0196078431372548,1.0588235294117647,1.0980392156862746],\"y\":[-0.759132661553698,-1.29779781277986,-1.80516973209118,-2.2518454905432064,-2.6120885792492134,-2.865383552228482,-2.9976752850607538,-3.002217990530032,-2.87998270551014,-2.6395986343870934,-2.2968318922350304,-1.8736331348520783,-1.3968116046380703,-0.8964156880684307,-0.40391780901665153,0.04968669850846963,0.4357518984742077,0.7297116429005708,0.9125635177379274,0.9720167051210666,0.9032344240855292,0.709126101777316,0.400171626224501,-0.00621170311967667,-0.48672128699579287,-1.01357684613019,-1.5561985203387252,-2.083054079473124,-2.563563663349242],\"type\":\"scatter\",\"xaxis\":\"x3\",\"yaxis\":\"y3\"},{\"mode\":\"lines\",\"x\":[0.0,0.0392156862745098,0.0784313725490196,0.11764705882352941,0.1568627450980392,0.19607843137254902,0.23529411764705882,0.27450980392156865,0.3137254901960784,0.3529411764705882,0.39215686274509803,0.43137254901960786,0.47058823529411764,0.5098039215686274,0.5490196078431373,0.5882352941176471,0.6274509803921569,0.6666666666666666,0.7058823529411764,0.7450980392156863,0.7843137254901961,0.8235294117647058,0.8627450980392157,0.9019607843137255,0.9411764705882353,0.9803921568627451,1.0196078431372548,1.0588235294117647,1.0980392156862746],\"y\":[1.8761708392158862,1.926256142284999,1.9741255608429829,2.017697063381966,2.055148238858953,2.085026381490428,2.1063362430837604,2.1186001521268483,2.1218868680745895,2.1168074278564504,2.1044782355015363,2.0864536244939877,2.0646319665056905,2.041140998114205,2.0182092924748627,1.998031639845642,1.9826364688060658,1.9737633167409308,1.9727577511225012,1.9804900889896415,1.9973028244654274,2.022989940013331,2.0568093511588894,2.0975277329394024,2.1434950202894116,2.1927440820821325,2.2431095479039587,2.29235860969668,2.3383258970466887],\"type\":\"scatter\",\"xaxis\":\"x3\",\"yaxis\":\"y3\"},{\"mode\":\"lines\",\"x\":[0.0,0.0392156862745098,0.0784313725490196,0.11764705882352941,0.1568627450980392,0.19607843137254902,0.23529411764705882,0.27450980392156865,0.3137254901960784,0.3529411764705882,0.39215686274509803,0.43137254901960786,0.47058823529411764,0.5098039215686274,0.5490196078431373,0.5882352941176471,0.6274509803921569,0.6666666666666666,0.7058823529411764,0.7450980392156863,0.7843137254901961,0.8235294117647058,0.8627450980392157,0.9019607843137255,0.9411764705882353,0.9803921568627451,1.0196078431372548,1.0588235294117647,1.0980392156862746],\"y\":[-0.898414671348358,-0.6892169300677908,-0.49402262278133624,-0.3259892902577993,-0.19663378394975373,-0.11513657759134588,-0.08778721032745385,-0.11760436000747954,-0.2041534965449996,-0.3435731301977547,-0.5288080692110213,-0.7500355966333171,-0.9952588226131927,-1.251031370062361,-1.503269618230287,-1.738103439700958,-1.9427140410839874,-2.1061082966880567,-2.2197828006777782,-2.2782375248944273,-2.279308054260517,-2.2242963307138615,-2.117892007936324,-1.9678891675335648,-1.784715508744467,-1.580802451506905,-1.3698342025146184,-1.1659211452770555,-0.9827474864879572],\"type\":\"scatter\",\"xaxis\":\"x3\",\"yaxis\":\"y3\"},{\"mode\":\"lines\",\"x\":[0.0,0.0392156862745098,0.0784313725490196,0.11764705882352941,0.1568627450980392,0.19607843137254902,0.23529411764705882,0.27450980392156865,0.3137254901960784,0.3529411764705882,0.39215686274509803,0.43137254901960786,0.47058823529411764,0.5098039215686274,0.5490196078431373,0.5882352941176471,0.6274509803921569,0.6666666666666666,0.7058823529411764,0.7450980392156863,0.7843137254901961,0.8235294117647058,0.8627450980392157,0.9019607843137255,0.9411764705882353,0.9803921568627451,1.0196078431372548,1.0588235294117647,1.0980392156862746],\"y\":[1.8314587658543537,1.8996707497134249,1.9606348538667668,2.007541014957376,2.034428355535328,2.0365452575835943,2.0106363893638513,1.9551393474019216,1.8702790352319132,1.758054077844565,1.6221160924903735,1.4675491086208075,1.3005624613548634,1.128115709587506,0.9574982359847231,0.7958889236016751,0.6499225073544679,0.5252887953740311,0.42638896972826235,0.3560697280549934,0.315451325580298,0.30385990483799397,0.31886820078995104,0.3564421625085037,0.4111846345728647,0.47666137832993005,0.5457897393374926,0.6112664830945582,0.6660089551589194],\"type\":\"scatter\",\"xaxis\":\"x3\",\"yaxis\":\"y3\"},{\"mode\":\"lines\",\"x\":[0.0,0.0392156862745098,0.0784313725490196,0.11764705882352941,0.1568627450980392,0.19607843137254902,0.23529411764705882,0.27450980392156865,0.3137254901960784,0.3529411764705882,0.39215686274509803,0.43137254901960786,0.47058823529411764,0.5098039215686274,0.5490196078431373,0.5882352941176471,0.6274509803921569,0.6666666666666666,0.7058823529411764,0.7450980392156863,0.7843137254901961,0.8235294117647058,0.8627450980392157,0.9019607843137255,0.9411764705882353,0.9803921568627451,1.0196078431372548,1.0588235294117647,1.0980392156862746],\"y\":[-1.7131345290908775,-1.4438519467812516,-1.191947097664904,-0.9737479933607069,-0.8035466119544343,-0.6927355749421402,-0.6491199630786109,-0.6764458416707861,-0.7741739752775952,-0.9375124008349949,-1.1577058915898504,-1.4225648264472424,-1.7172015177817435,-2.024929519000703,-2.32827158817182,-2.610015420535164,-2.85425337718648,-3.0473434039478997,-3.1787330950378365,-3.2415971230445972,-3.2332495305271802,-3.155305978304067,-3.0135861496391305,-2.8177622057098892,-2.5807745278020517,-2.318050038982118,-2.046570323409048,-1.7838458345891133,-1.5468581566812751],\"type\":\"scatter\",\"xaxis\":\"x3\",\"yaxis\":\"y3\"},{\"mode\":\"lines\",\"x\":[0.0,0.0392156862745098,0.0784313725490196,0.11764705882352941,0.1568627450980392,0.19607843137254902,0.23529411764705882,0.27450980392156865,0.3137254901960784,0.3529411764705882,0.39215686274509803,0.43137254901960786,0.47058823529411764,0.5098039215686274,0.5490196078431373,0.5882352941176471,0.6274509803921569,0.6666666666666666,0.7058823529411764,0.7450980392156863,0.7843137254901961,0.8235294117647058,0.8627450980392157,0.9019607843137255,0.9411764705882353,0.9803921568627451,1.0196078431372548,1.0588235294117647,1.0980392156862746],\"y\":[1.2378163119734618,1.5635526006707507,1.8693410916946753,2.1364389565900495,2.3484405178132994,2.4922682521889397,2.5589627534475166,2.544223935266899,2.448670782836765,2.2778039623600415,2.0416735471065564,1.7542719314013926,1.432688604263241,1.0960778395444786,0.7645016604144356,0.45771797022129923,0.19398705405482786,-0.011031454370814542,-0.145224510554534,-0.20075736132405964,-0.17454681193836974,-0.06844746994365081,0.11086028448739982,0.35227383445490157,0.6409389924286097,0.9591472842001558,1.2874056492415302,1.6056139410130774,1.8942790989867866],\"type\":\"scatter\",\"xaxis\":\"x3\",\"yaxis\":\"y3\"},{\"mode\":\"lines\",\"x\":[0.0,0.0392156862745098,0.0784313725490196,0.11764705882352941,0.1568627450980392,0.19607843137254902,0.23529411764705882,0.27450980392156865,0.3137254901960784,0.3529411764705882,0.39215686274509803,0.43137254901960786,0.47058823529411764,0.5098039215686274,0.5490196078431373,0.5882352941176471,0.6274509803921569,0.6666666666666666,0.7058823529411764,0.7450980392156863,0.7843137254901961,0.8235294117647058,0.8627450980392157,0.9019607843137255,0.9411764705882353,0.9803921568627451,1.0196078431372548,1.0588235294117647,1.0980392156862746],\"y\":[0.005243699718183166,-0.4071639848429734,-0.7960795582204208,-1.1394299767039582,-1.4178946111590556,-1.6160723314220424,-1.72341182893904,-1.7348489804602958,-1.6511127521170617,-1.478681165400212,-1.229389984965334,-0.9197177659187918,-0.5697904481098722,-0.20216562603353452,0.15953006810844356,0.4920281577747965,0.7738238806554666,0.9864752080948032,1.1157168566338265,1.1523219985478068,1.0926596187821938,0.9389138505125177,0.698952040116369,0.38584951124165046,0.017099735133567436,-0.38644238222734056,-0.8018202642438367,-1.205362381604746,-1.5741121577128308],\"type\":\"scatter\",\"xaxis\":\"x3\",\"yaxis\":\"y3\"},{\"mode\":\"lines\",\"x\":[0.0,0.0392156862745098,0.0784313725490196,0.11764705882352941,0.1568627450980392,0.19607843137254902,0.23529411764705882,0.27450980392156865,0.3137254901960784,0.3529411764705882,0.39215686274509803,0.43137254901960786,0.47058823529411764,0.5098039215686274,0.5490196078431373,0.5882352941176471,0.6274509803921569,0.6666666666666666,0.7058823529411764,0.7450980392156863,0.7843137254901961,0.8235294117647058,0.8627450980392157,0.9019607843137255,0.9411764705882353,0.9803921568627451,1.0196078431372548,1.0588235294117647,1.0980392156862746],\"y\":[0.6228499323474987,0.616659517413038,0.6097768958888895,0.601551674705176,0.5914145620388147,0.5789117560282121,0.5637323571865697,0.5457271486360574,0.5249176097216252,0.5014946185269433,0.47580692166846217,0.4483400678626832,0.41968707780827397,0.3905126221018789,0.36151287106102753,0.33337344177087275,0.3067279826108337,0.2821198970095262,0.25996951854773637,0.24054872023436585,0.22396449171067612,0.21015247642033058,0.19888085913977027,0.18976436903826388,0.18228755239699695,0.1758359091723523,0.1697330125641579,0.16328136933951326,0.15580455269824628],\"type\":\"scatter\",\"xaxis\":\"x3\",\"yaxis\":\"y3\"},{\"marker\":{\"color\":\"mediumpurple\"},\"mode\":\"markers\",\"x\":[0.6842330265121569,0.4401524937396013,0.12203823484477883,0.4951769101112702,0.034388521115218396,0.9093204020787821,0.2587799816000169,0.662522284353982,0.31171107608941095,0.5200680211778108],\"y\":[-1.0486487112416474,0.3869196454153727,0.7676729883959035,0.047436557496369894,0.20282730585504244,-0.5695375823995514,0.8506265291850891,-0.9246977353735738,0.8797012417622012,-0.02004501905253346],\"type\":\"scatter\",\"xaxis\":\"x\",\"yaxis\":\"y\"},{\"marker\":{\"color\":\"mediumpurple\"},\"mode\":\"markers\",\"x\":[0.6842330265121569,0.4401524937396013,0.12203823484477883,0.4951769101112702,0.034388521115218396,0.9093204020787821,0.2587799816000169,0.662522284353982,0.31171107608941095,0.5200680211778108],\"y\":[-1.0486487112416474,0.3869196454153727,0.7676729883959035,0.047436557496369894,0.20282730585504244,-0.5695375823995514,0.8506265291850891,-0.9246977353735738,0.8797012417622012,-0.02004501905253346],\"type\":\"scatter\",\"xaxis\":\"x2\",\"yaxis\":\"y2\"},{\"marker\":{\"color\":\"mediumpurple\"},\"mode\":\"markers\",\"x\":[0.6842330265121569,0.4401524937396013,0.12203823484477883,0.4951769101112702,0.034388521115218396,0.9093204020787821,0.2587799816000169,0.662522284353982,0.31171107608941095,0.5200680211778108],\"y\":[-1.0486487112416474,0.3869196454153727,0.7676729883959035,0.047436557496369894,0.20282730585504244,-0.5695375823995514,0.8506265291850891,-0.9246977353735738,0.8797012417622012,-0.02004501905253346],\"type\":\"scatter\",\"xaxis\":\"x3\",\"yaxis\":\"y3\"}],                        {\"template\":{\"data\":{\"histogram2dcontour\":[{\"type\":\"histogram2dcontour\",\"colorbar\":{\"outlinewidth\":0,\"ticks\":\"\"},\"colorscale\":[[0.0,\"#0d0887\"],[0.1111111111111111,\"#46039f\"],[0.2222222222222222,\"#7201a8\"],[0.3333333333333333,\"#9c179e\"],[0.4444444444444444,\"#bd3786\"],[0.5555555555555556,\"#d8576b\"],[0.6666666666666666,\"#ed7953\"],[0.7777777777777778,\"#fb9f3a\"],[0.8888888888888888,\"#fdca26\"],[1.0,\"#f0f921\"]]}],\"choropleth\":[{\"type\":\"choropleth\",\"colorbar\":{\"outlinewidth\":0,\"ticks\":\"\"}}],\"histogram2d\":[{\"type\":\"histogram2d\",\"colorbar\":{\"outlinewidth\":0,\"ticks\":\"\"},\"colorscale\":[[0.0,\"#0d0887\"],[0.1111111111111111,\"#46039f\"],[0.2222222222222222,\"#7201a8\"],[0.3333333333333333,\"#9c179e\"],[0.4444444444444444,\"#bd3786\"],[0.5555555555555556,\"#d8576b\"],[0.6666666666666666,\"#ed7953\"],[0.7777777777777778,\"#fb9f3a\"],[0.8888888888888888,\"#fdca26\"],[1.0,\"#f0f921\"]]}],\"heatmap\":[{\"type\":\"heatmap\",\"colorbar\":{\"outlinewidth\":0,\"ticks\":\"\"},\"colorscale\":[[0.0,\"#0d0887\"],[0.1111111111111111,\"#46039f\"],[0.2222222222222222,\"#7201a8\"],[0.3333333333333333,\"#9c179e\"],[0.4444444444444444,\"#bd3786\"],[0.5555555555555556,\"#d8576b\"],[0.6666666666666666,\"#ed7953\"],[0.7777777777777778,\"#fb9f3a\"],[0.8888888888888888,\"#fdca26\"],[1.0,\"#f0f921\"]]}],\"heatmapgl\":[{\"type\":\"heatmapgl\",\"colorbar\":{\"outlinewidth\":0,\"ticks\":\"\"},\"colorscale\":[[0.0,\"#0d0887\"],[0.1111111111111111,\"#46039f\"],[0.2222222222222222,\"#7201a8\"],[0.3333333333333333,\"#9c179e\"],[0.4444444444444444,\"#bd3786\"],[0.5555555555555556,\"#d8576b\"],[0.6666666666666666,\"#ed7953\"],[0.7777777777777778,\"#fb9f3a\"],[0.8888888888888888,\"#fdca26\"],[1.0,\"#f0f921\"]]}],\"contourcarpet\":[{\"type\":\"contourcarpet\",\"colorbar\":{\"outlinewidth\":0,\"ticks\":\"\"}}],\"contour\":[{\"type\":\"contour\",\"colorbar\":{\"outlinewidth\":0,\"ticks\":\"\"},\"colorscale\":[[0.0,\"#0d0887\"],[0.1111111111111111,\"#46039f\"],[0.2222222222222222,\"#7201a8\"],[0.3333333333333333,\"#9c179e\"],[0.4444444444444444,\"#bd3786\"],[0.5555555555555556,\"#d8576b\"],[0.6666666666666666,\"#ed7953\"],[0.7777777777777778,\"#fb9f3a\"],[0.8888888888888888,\"#fdca26\"],[1.0,\"#f0f921\"]]}],\"surface\":[{\"type\":\"surface\",\"colorbar\":{\"outlinewidth\":0,\"ticks\":\"\"},\"colorscale\":[[0.0,\"#0d0887\"],[0.1111111111111111,\"#46039f\"],[0.2222222222222222,\"#7201a8\"],[0.3333333333333333,\"#9c179e\"],[0.4444444444444444,\"#bd3786\"],[0.5555555555555556,\"#d8576b\"],[0.6666666666666666,\"#ed7953\"],[0.7777777777777778,\"#fb9f3a\"],[0.8888888888888888,\"#fdca26\"],[1.0,\"#f0f921\"]]}],\"mesh3d\":[{\"type\":\"mesh3d\",\"colorbar\":{\"outlinewidth\":0,\"ticks\":\"\"}}],\"scatter\":[{\"fillpattern\":{\"fillmode\":\"overlay\",\"size\":10,\"solidity\":0.2},\"type\":\"scatter\"}],\"parcoords\":[{\"type\":\"parcoords\",\"line\":{\"colorbar\":{\"outlinewidth\":0,\"ticks\":\"\"}}}],\"scatterpolargl\":[{\"type\":\"scatterpolargl\",\"marker\":{\"colorbar\":{\"outlinewidth\":0,\"ticks\":\"\"}}}],\"bar\":[{\"error_x\":{\"color\":\"#2a3f5f\"},\"error_y\":{\"color\":\"#2a3f5f\"},\"marker\":{\"line\":{\"color\":\"#E5ECF6\",\"width\":0.5},\"pattern\":{\"fillmode\":\"overlay\",\"size\":10,\"solidity\":0.2}},\"type\":\"bar\"}],\"scattergeo\":[{\"type\":\"scattergeo\",\"marker\":{\"colorbar\":{\"outlinewidth\":0,\"ticks\":\"\"}}}],\"scatterpolar\":[{\"type\":\"scatterpolar\",\"marker\":{\"colorbar\":{\"outlinewidth\":0,\"ticks\":\"\"}}}],\"histogram\":[{\"marker\":{\"pattern\":{\"fillmode\":\"overlay\",\"size\":10,\"solidity\":0.2}},\"type\":\"histogram\"}],\"scattergl\":[{\"type\":\"scattergl\",\"marker\":{\"colorbar\":{\"outlinewidth\":0,\"ticks\":\"\"}}}],\"scatter3d\":[{\"type\":\"scatter3d\",\"line\":{\"colorbar\":{\"outlinewidth\":0,\"ticks\":\"\"}},\"marker\":{\"colorbar\":{\"outlinewidth\":0,\"ticks\":\"\"}}}],\"scattermapbox\":[{\"type\":\"scattermapbox\",\"marker\":{\"colorbar\":{\"outlinewidth\":0,\"ticks\":\"\"}}}],\"scatterternary\":[{\"type\":\"scatterternary\",\"marker\":{\"colorbar\":{\"outlinewidth\":0,\"ticks\":\"\"}}}],\"scattercarpet\":[{\"type\":\"scattercarpet\",\"marker\":{\"colorbar\":{\"outlinewidth\":0,\"ticks\":\"\"}}}],\"carpet\":[{\"aaxis\":{\"endlinecolor\":\"#2a3f5f\",\"gridcolor\":\"white\",\"linecolor\":\"white\",\"minorgridcolor\":\"white\",\"startlinecolor\":\"#2a3f5f\"},\"baxis\":{\"endlinecolor\":\"#2a3f5f\",\"gridcolor\":\"white\",\"linecolor\":\"white\",\"minorgridcolor\":\"white\",\"startlinecolor\":\"#2a3f5f\"},\"type\":\"carpet\"}],\"table\":[{\"cells\":{\"fill\":{\"color\":\"#EBF0F8\"},\"line\":{\"color\":\"white\"}},\"header\":{\"fill\":{\"color\":\"#C8D4E3\"},\"line\":{\"color\":\"white\"}},\"type\":\"table\"}],\"barpolar\":[{\"marker\":{\"line\":{\"color\":\"#E5ECF6\",\"width\":0.5},\"pattern\":{\"fillmode\":\"overlay\",\"size\":10,\"solidity\":0.2}},\"type\":\"barpolar\"}],\"pie\":[{\"automargin\":true,\"type\":\"pie\"}]},\"layout\":{\"autotypenumbers\":\"strict\",\"colorway\":[\"#636efa\",\"#EF553B\",\"#00cc96\",\"#ab63fa\",\"#FFA15A\",\"#19d3f3\",\"#FF6692\",\"#B6E880\",\"#FF97FF\",\"#FECB52\"],\"font\":{\"color\":\"#2a3f5f\"},\"hovermode\":\"closest\",\"hoverlabel\":{\"align\":\"left\"},\"paper_bgcolor\":\"white\",\"plot_bgcolor\":\"#E5ECF6\",\"polar\":{\"bgcolor\":\"#E5ECF6\",\"angularaxis\":{\"gridcolor\":\"white\",\"linecolor\":\"white\",\"ticks\":\"\"},\"radialaxis\":{\"gridcolor\":\"white\",\"linecolor\":\"white\",\"ticks\":\"\"}},\"ternary\":{\"bgcolor\":\"#E5ECF6\",\"aaxis\":{\"gridcolor\":\"white\",\"linecolor\":\"white\",\"ticks\":\"\"},\"baxis\":{\"gridcolor\":\"white\",\"linecolor\":\"white\",\"ticks\":\"\"},\"caxis\":{\"gridcolor\":\"white\",\"linecolor\":\"white\",\"ticks\":\"\"}},\"coloraxis\":{\"colorbar\":{\"outlinewidth\":0,\"ticks\":\"\"}},\"colorscale\":{\"sequential\":[[0.0,\"#0d0887\"],[0.1111111111111111,\"#46039f\"],[0.2222222222222222,\"#7201a8\"],[0.3333333333333333,\"#9c179e\"],[0.4444444444444444,\"#bd3786\"],[0.5555555555555556,\"#d8576b\"],[0.6666666666666666,\"#ed7953\"],[0.7777777777777778,\"#fb9f3a\"],[0.8888888888888888,\"#fdca26\"],[1.0,\"#f0f921\"]],\"sequentialminus\":[[0.0,\"#0d0887\"],[0.1111111111111111,\"#46039f\"],[0.2222222222222222,\"#7201a8\"],[0.3333333333333333,\"#9c179e\"],[0.4444444444444444,\"#bd3786\"],[0.5555555555555556,\"#d8576b\"],[0.6666666666666666,\"#ed7953\"],[0.7777777777777778,\"#fb9f3a\"],[0.8888888888888888,\"#fdca26\"],[1.0,\"#f0f921\"]],\"diverging\":[[0,\"#8e0152\"],[0.1,\"#c51b7d\"],[0.2,\"#de77ae\"],[0.3,\"#f1b6da\"],[0.4,\"#fde0ef\"],[0.5,\"#f7f7f7\"],[0.6,\"#e6f5d0\"],[0.7,\"#b8e186\"],[0.8,\"#7fbc41\"],[0.9,\"#4d9221\"],[1,\"#276419\"]]},\"xaxis\":{\"gridcolor\":\"white\",\"linecolor\":\"white\",\"ticks\":\"\",\"title\":{\"standoff\":15},\"zerolinecolor\":\"white\",\"automargin\":true,\"zerolinewidth\":2},\"yaxis\":{\"gridcolor\":\"white\",\"linecolor\":\"white\",\"ticks\":\"\",\"title\":{\"standoff\":15},\"zerolinecolor\":\"white\",\"automargin\":true,\"zerolinewidth\":2},\"scene\":{\"xaxis\":{\"backgroundcolor\":\"#E5ECF6\",\"gridcolor\":\"white\",\"linecolor\":\"white\",\"showbackground\":true,\"ticks\":\"\",\"zerolinecolor\":\"white\",\"gridwidth\":2},\"yaxis\":{\"backgroundcolor\":\"#E5ECF6\",\"gridcolor\":\"white\",\"linecolor\":\"white\",\"showbackground\":true,\"ticks\":\"\",\"zerolinecolor\":\"white\",\"gridwidth\":2},\"zaxis\":{\"backgroundcolor\":\"#E5ECF6\",\"gridcolor\":\"white\",\"linecolor\":\"white\",\"showbackground\":true,\"ticks\":\"\",\"zerolinecolor\":\"white\",\"gridwidth\":2}},\"shapedefaults\":{\"line\":{\"color\":\"#2a3f5f\"}},\"annotationdefaults\":{\"arrowcolor\":\"#2a3f5f\",\"arrowhead\":0,\"arrowwidth\":1},\"geo\":{\"bgcolor\":\"white\",\"landcolor\":\"#E5ECF6\",\"subunitcolor\":\"white\",\"showland\":true,\"showlakes\":true,\"lakecolor\":\"white\"},\"title\":{\"x\":0.05},\"mapbox\":{\"style\":\"light\"}}},\"xaxis\":{\"anchor\":\"y\",\"domain\":[0.0,0.2888888888888889],\"title\":{\"text\":\"x\"},\"range\":[0,1]},\"yaxis\":{\"anchor\":\"x\",\"domain\":[0.0,1.0],\"title\":{\"text\":\"t\"},\"range\":[-2,2]},\"xaxis2\":{\"anchor\":\"y2\",\"domain\":[0.35555555555555557,0.6444444444444445],\"title\":{\"text\":\"x\"},\"range\":[0,1]},\"yaxis2\":{\"anchor\":\"x2\",\"domain\":[0.0,1.0],\"title\":{\"text\":\"t\"},\"range\":[-2,2]},\"xaxis3\":{\"anchor\":\"y3\",\"domain\":[0.7111111111111111,1.0],\"title\":{\"text\":\"x\"},\"range\":[0,1]},\"yaxis3\":{\"anchor\":\"x3\",\"domain\":[0.0,1.0],\"title\":{\"text\":\"t\"},\"range\":[-2,2]},\"annotations\":[{\"font\":{\"size\":16},\"showarrow\":false,\"text\":\"f1\",\"x\":0.14444444444444446,\"xanchor\":\"center\",\"xref\":\"paper\",\"y\":1.0,\"yanchor\":\"bottom\",\"yref\":\"paper\"},{\"font\":{\"size\":16},\"showarrow\":false,\"text\":\"f2\",\"x\":0.5,\"xanchor\":\"center\",\"xref\":\"paper\",\"y\":1.0,\"yanchor\":\"bottom\",\"yref\":\"paper\"},{\"font\":{\"size\":16},\"showarrow\":false,\"text\":\"f3\",\"x\":0.8555555555555556,\"xanchor\":\"center\",\"xref\":\"paper\",\"y\":1.0,\"yanchor\":\"bottom\",\"yref\":\"paper\"}],\"showlegend\":false},                        {\"responsive\": true}                    ).then(function(){\n",
              "                            \n",
              "var gd = document.getElementById('d40c0447-cac9-4ad6-b614-a9d0aaf2dc9f');\n",
              "var x = new MutationObserver(function (mutations, observer) {{\n",
              "        var display = window.getComputedStyle(gd).display;\n",
              "        if (!display || display === 'none') {{\n",
              "            console.log([gd, 'removed!']);\n",
              "            Plotly.purge(gd);\n",
              "            observer.disconnect();\n",
              "        }}\n",
              "}});\n",
              "\n",
              "// Listen for the removal of the full notebook cells\n",
              "var notebookContainer = gd.closest('#notebook-container');\n",
              "if (notebookContainer) {{\n",
              "    x.observe(notebookContainer, {childList: true});\n",
              "}}\n",
              "\n",
              "// Listen for the clearing of the current output cell\n",
              "var outputEl = gd.closest('.output');\n",
              "if (outputEl) {{\n",
              "    x.observe(outputEl, {childList: true});\n",
              "}}\n",
              "\n",
              "                        })                };                            </script>        </div>\n",
              "</body>\n",
              "</html>"
            ]
          },
          "metadata": {}
        }
      ]
    },
    {
      "cell_type": "markdown",
      "metadata": {
        "id": "CENyGHlSp_FX"
      },
      "source": [
        "###Loss landscapes\n",
        "\n",
        "Let's focus now on the simple $f(x) = ax + b$.\n",
        "Given our dataset $(\\mathbf{x}, \\mathbf{t})$ we will choose the parameters $a$ and $b$ that minimize a global error $E$, also known as *loss*.\n",
        "\n",
        "The standard choice for $E$ in a regression problem is the Mean Squared Error, defined as:\n",
        "\n",
        "$$E(\\theta) = \\frac{1}{N} \\sum_{i=1}^N(f_\\theta(x_i) - t_i)^2$$\n",
        "\n",
        "Notice that apart from normalization factors, the MSE corresponds to the squared $L_2$ norm of the residual vector, namely $E=\\|f_\\theta(\\mathbf{x}) - \\mathbf{t}\\|_2^2$ (here $f_\\theta$ operates element-wise).\n",
        "\n",
        "Let's now compute the MSE **loss landscape** for our dataset, so that we can visualize it. The landscape is simply defined as the value of the loss function computed over a subset of the parameter domain.\n",
        "\n",
        "\n",
        "\n"
      ]
    },
    {
      "cell_type": "code",
      "metadata": {
        "id": "OXuXlT5Sx-UE"
      },
      "source": [
        "resolution = 51\n",
        "\n",
        "mse_losses = np.empty((resolution, resolution))\n",
        "a_range = np.linspace(-5, 5, resolution)\n",
        "b_range = np.linspace(-5, 5, resolution)\n",
        "\n",
        "for i, a in enumerate(a_range):\n",
        "    for j, b in enumerate(b_range):\n",
        "        y_pred = a * x + b\n",
        "        residuals = t - y_pred\n",
        "        loss = np.einsum('i,i->', residuals, residuals)\n",
        "        mse_losses[i][j] = loss\n",
        "\n",
        "# let's ignore the division by N for this exercise"
      ],
      "execution_count": 11,
      "outputs": []
    },
    {
      "cell_type": "markdown",
      "metadata": {
        "id": "VDZ63eJt6Uj5"
      },
      "source": [
        ">**EXERCISE** Vectorize the piece of code above. i.e. the two `for` cycles should disappear."
      ]
    },
    {
      "cell_type": "code",
      "metadata": {
        "id": "uAiwop63Qc1Q",
        "cellView": "both",
        "colab": {
          "base_uri": "https://localhost:8080/"
        },
        "outputId": "cc282e0d-c7ad-4563-8478-94eae08892c9"
      },
      "source": [
        "# ✏️ your code here\n",
        "# #This creates y_pred with shape (51,_,10)\n",
        "# y_pred=(a_range[:,None,None]*x[None,None,:])+b_range[:,None,None]\n",
        "# r=t[None,None,:]-y_pred\n",
        "# #Sum the r to the power of 2 along the third dimension\n",
        "# L = np.sum(r**2, axis=2)\n",
        "# #allclose tells if 2 arrays are point by point equal\n",
        "# np.allclose(L, mse_losses)\n",
        "#Einsum version\n",
        "inter=np.einsum('i,j->ij',a_range,x)\n",
        "print(inter.shape)\n",
        "y_pred=inter[:,:,None]+b_range[None,None,:]\n",
        "print(y_pred.shape)\n",
        "r=t[None,:,None]-y_pred\n",
        "print(r.shape)\n",
        "loss=np.einsum('ijk,ijk->ik',r,r)\n",
        "print(loss.shape)\n",
        "np.allclose(loss, mse_losses)\n",
        "#y_pred=np.einsum('ij,ij->ij',inter,b_range)\n",
        "#r=np.einsum('ij,j->ij',)\n"
      ],
      "execution_count": 58,
      "outputs": [
        {
          "output_type": "stream",
          "name": "stdout",
          "text": [
            "(51, 10)\n",
            "(51, 10, 51)\n",
            "(51, 10, 51)\n",
            "(51, 51)\n"
          ]
        },
        {
          "output_type": "execute_result",
          "data": {
            "text/plain": [
              "True"
            ]
          },
          "metadata": {},
          "execution_count": 58
        }
      ]
    },
    {
      "cell_type": "code",
      "source": [
        "# @title 👀 Solution (without einsum)\n",
        "\n",
        "Y_pred = x[None, None, :] * a_range[:, None, None] + b_range[None, :, None] # let broadcasting do the job!\n",
        "R = t[None, None, :] - Y_pred\n",
        "L = np.sum(R**2, axis=2)\n",
        "np.allclose(L, mse_losses)"
      ],
      "metadata": {
        "id": "J14M4HzfaTrb",
        "colab": {
          "base_uri": "https://localhost:8080/"
        },
        "outputId": "2bf06668-6839-4a32-b670-963ee7282d84"
      },
      "execution_count": 40,
      "outputs": [
        {
          "output_type": "execute_result",
          "data": {
            "text/plain": [
              "True"
            ]
          },
          "metadata": {},
          "execution_count": 40
        }
      ]
    },
    {
      "cell_type": "code",
      "metadata": {
        "id": "AutBpNSt0nAI",
        "colab": {
          "base_uri": "https://localhost:8080/"
        },
        "outputId": "22c39d3f-6cc2-465a-cea1-7baa43882333"
      },
      "source": [
        "# @title 👀 Solution (with einsum)\n",
        "\n",
        "a_times_x = np.einsum('i,j->ij', a_range, x)\n",
        "Y_pred = a_times_x[:, :, None] + b_range[None, None, :]\n",
        "residuals = t[None, :, None] - Y_pred\n",
        "L = np.einsum('ijk->ik', residuals ** 2)\n",
        "np.allclose(L, mse_losses)"
      ],
      "execution_count": 34,
      "outputs": [
        {
          "output_type": "execute_result",
          "data": {
            "text/plain": [
              "True"
            ]
          },
          "metadata": {},
          "execution_count": 34
        }
      ]
    },
    {
      "cell_type": "code",
      "metadata": {
        "id": "6B6SVoGH3kvN",
        "colab": {
          "base_uri": "https://localhost:8080/",
          "height": 542
        },
        "outputId": "d3b29b96-a1bc-4937-e6d8-b85594ee6cb4"
      },
      "source": [
        "# @title MSE loss landscape plot\n",
        "fig = go.Figure(data=[go.Surface(z=mse_losses, x=a_range, y=b_range)])\n",
        "fig.update_traces(contours_z=dict(show=True, usecolormap=True,\n",
        "                                  highlightcolor=\"limegreen\", project_z=True))\n",
        "fig.update_layout(\n",
        "    title=\"MSE loss landscape\",\n",
        "    scene = dict(\n",
        "                xaxis_title='a',\n",
        "                yaxis_title='b',\n",
        "                zaxis_title='loss')\n",
        ")\n",
        "\n",
        "\n",
        "fig.show()"
      ],
      "execution_count": 59,
      "outputs": [
        {
          "output_type": "display_data",
          "data": {
            "text/html": [
              "<html>\n",
              "<head><meta charset=\"utf-8\" /></head>\n",
              "<body>\n",
              "    <div>            <script src=\"https://cdnjs.cloudflare.com/ajax/libs/mathjax/2.7.5/MathJax.js?config=TeX-AMS-MML_SVG\"></script><script type=\"text/javascript\">if (window.MathJax && window.MathJax.Hub && window.MathJax.Hub.Config) {window.MathJax.Hub.Config({SVG: {font: \"STIX-Web\"}});}</script>                <script type=\"text/javascript\">window.PlotlyConfig = {MathJaxConfig: 'local'};</script>\n",
              "        <script charset=\"utf-8\" src=\"https://cdn.plot.ly/plotly-2.35.2.min.js\"></script>                <div id=\"cb7d59c2-d026-4548-917e-98ed40a8a9ff\" class=\"plotly-graph-div\" style=\"height:525px; width:100%;\"></div>            <script type=\"text/javascript\">                                    window.PLOTLYENV=window.PLOTLYENV || {};                                    if (document.getElementById(\"cb7d59c2-d026-4548-917e-98ed40a8a9ff\")) {                    Plotly.newPlot(                        \"cb7d59c2-d026-4548-917e-98ed40a8a9ff\",                        [{\"x\":[-5.0,-4.8,-4.6,-4.4,-4.2,-4.0,-3.8,-3.5999999999999996,-3.4,-3.2,-3.0,-2.8,-2.5999999999999996,-2.4,-2.1999999999999997,-2.0,-1.7999999999999998,-1.5999999999999996,-1.4,-1.1999999999999997,-1.0,-0.7999999999999998,-0.5999999999999996,-0.39999999999999947,-0.1999999999999993,0.0,0.20000000000000018,0.40000000000000036,0.6000000000000005,0.8000000000000007,1.0,1.2000000000000002,1.4000000000000004,1.6000000000000005,1.8000000000000007,2.0,2.2,2.4000000000000004,2.6000000000000005,2.8000000000000007,3.0,3.200000000000001,3.4000000000000004,3.5999999999999996,3.8000000000000007,4.0,4.200000000000001,4.4,4.600000000000001,4.800000000000001,5.0],\"y\":[-5.0,-4.8,-4.6,-4.4,-4.2,-4.0,-3.8,-3.5999999999999996,-3.4,-3.2,-3.0,-2.8,-2.5999999999999996,-2.4,-2.1999999999999997,-2.0,-1.7999999999999998,-1.5999999999999996,-1.4,-1.1999999999999997,-1.0,-0.7999999999999998,-0.5999999999999996,-0.39999999999999947,-0.1999999999999993,0.0,0.20000000000000018,0.40000000000000036,0.6000000000000005,0.8000000000000007,1.0,1.2000000000000002,1.4000000000000004,1.6000000000000005,1.8000000000000007,2.0,2.2,2.4000000000000004,2.6000000000000005,2.8000000000000007,3.0,3.200000000000001,3.4000000000000004,3.5999999999999996,3.8000000000000007,4.0,4.200000000000001,4.4,4.600000000000001,4.800000000000001,5.0],\"z\":[[537.0943291949831,508.3886452037198,480.4829612124567,453.3772772211937,427.07159322993056,401.5659092386674,376.8602252474043,352.95454125614106,329.848857264878,307.5431732736149,286.03748928235177,265.33180529108864,245.42612129982547,226.32043730856236,208.0147533172992,190.50906932603613,173.803385334773,157.89770134350985,142.79201735224675,128.48633336098362,114.98064936972051,102.27496537845738,90.36928138719423,79.2635973959311,68.95791340466796,59.45222941340488,50.746545422141736,42.840861430878604,35.735177439615484,29.429493448352353,23.923809457089245,19.218125465826116,15.312441474562986,12.20675748329986,9.901073492036733,8.395389500773613,7.689705509510487,7.784021518247363,8.678337526984238,10.372653535721117,12.866969544457982,16.16128555319488,20.25560156193174,25.149917570668592,30.8442335794055,37.33854958814236,44.63286559687926,52.72718160561611,61.62149761435303,71.31581362308988,81.81012963182671],[523.5031899395669,495.1525772244336,467.6019645093003,440.85135179416716,414.90073907903377,389.75012636390056,365.3995136487672,341.8489009336339,319.09828821850067,297.1476755033674,275.9970627882341,255.6464500731008,236.09583735796753,217.34522464283424,199.39461192770096,182.2439992125677,165.89338649743436,150.34277378230112,135.5921610671678,121.64154835203453,108.49093563690128,96.14032292176796,84.58971020663468,73.83909749150138,63.888484776368095,54.737872061234846,46.38725934610156,38.83664663096827,32.08603391583498,26.135421200701696,20.984808485568433,16.634195770435145,13.083583055301862,10.332970340168576,8.382357625035294,7.231744909902015,6.881132194768732,7.33051947963545,8.57990676450217,10.62929404936889,13.478681334235599,17.128068619102336,21.57745590396904,26.82684318883574,32.87623047370249,39.725617758569186,47.37500504343595,55.82439232830262,65.07377961316939,75.12316689803608,85.97255418290275],[510.1219375735236,482.1263961345202,454.9308546955166,428.5353132565133,402.9397718175099,378.14423037850634,354.14868893950296,330.9531475004994,308.557606061496,286.9620646224927,266.1665231834892,246.17098174448572,226.9754403054822,208.5798988664788,190.98435742747535,174.18881598847196,158.19327454946853,142.99773311046505,128.60219167146164,115.00665023245817,102.21110879345474,90.21556735445128,79.02002591544783,68.6244844764444,59.02894303744095,50.23340159843754,42.23786015943409,35.04231872043065,28.646777281427198,23.051235842423758,18.255694403420335,14.260152964416893,11.064611525413447,8.669070086410006,7.073528647406567,6.277987208403131,6.28244576939969,7.086904330396251,8.691362891392814,11.095821452389377,14.300280013385928,18.304738574382508,23.109197135379056,28.713655696375593,35.118114257372184,42.32257281836873,50.32703137936532,59.13148994036185,68.73594850135845,79.140407062355,90.34486562335152],[496.95057209685297,469.31010193397935,442.4696317711057,416.4291616082322,391.18869144535853,366.74822128248496,343.1077511196113,320.2672809567377,298.22681079386416,276.9863406309905,256.54587046811696,236.9054003052433,218.06493014236975,200.02445997949616,182.78398981662252,166.34351965374896,150.70304949087534,135.86257932800174,121.82210916512815,108.58163900225452,96.14116883938095,84.50069867650734,73.66022851363374,63.61975835076014,54.379288187886516,45.93881802501295,38.29834786213935,31.457877699265747,25.41740753639214,20.17693737351854,15.736467210644957,12.095997047771355,9.255526884897757,7.215056722024155,5.9745865591505565,5.534116396276961,5.893646233403361,7.053176070529766,9.012705907656171,11.772235744782574,15.331765581908963,19.69129541903539,24.850825256161777,30.810355093288155,37.56988493041459,45.129414767540965,53.48894460466741,62.64847444179378,72.60800427892023,83.36753411604661,94.92706395317296],[483.98909350955506,456.7036946228112,430.2182957360675,404.53289684932383,379.64749796258,355.5620990758363,332.2767001890925,309.79130130234864,288.10590241560493,267.22050352886123,247.13510464211745,227.84970575537363,209.36430686862988,191.67890798188614,174.7935090951424,158.70811020839864,143.42271132165487,128.93731243491112,115.25191354816737,102.3665146614236,90.28111577467985,78.9957168879361,68.51031800119232,58.82491911444856,49.93952022770479,41.85412134096107,34.56872245421731,28.08332356747355,22.397924680729787,17.51252579398603,13.427126907242286,10.141728020498526,7.6563291337547685,5.970930247011012,5.0855313602672565,5.000132473523501,5.714733586779745,7.2293347000359915,9.543935813292237,12.658536926548486,16.573138039804718,21.287739153060983,26.80234026631721,33.11694137957343,40.23154249282972,48.146143606085936,56.86074471934223,66.37534583259843,76.68994694585473,87.80454805911094,99.71914917236714],[471.2375018116298,444.30717420101587,418.17684659040185,392.8465189797881,368.31619136917413,344.5858637585602,321.65553614794624,299.52520853733233,278.19488092671844,257.66455331610456,237.93422570549063,219.00389809487666,200.87357048426276,183.54324287364886,167.01291526303493,151.28258765242106,136.35226004180714,122.22193243119318,108.8916048205793,96.36127720996538,84.63094959935147,73.70062198873754,63.57029437812362,54.2399667675097,45.709639156895776,37.9793115462819,31.048983935667977,24.91865632505406,19.58832871444014,15.058001103826227,11.327673493212325,8.397345882598408,6.267018271984494,4.93669066137058,4.406363050756667,4.676035440142754,5.74570782952884,7.615380218914929,10.28505260830102,13.754724997687111,18.024397387073183,23.0940697764593,28.963742165845368,35.633414555231425,43.10308694461755,51.372759334003604,60.442431723389745,70.3121041127758,80.98177650216195,92.45144889154798,104.72112128093404],[458.6957970030772,432.12054066859315,406.345284334109,381.370027999625,357.194771665141,333.8195153306569,311.2442589961728,289.4690026616887,268.49374632720463,248.31848999272063,228.9432336582365,210.36797732375243,192.59272098926834,175.61746465478427,159.4422083203002,144.06695198581616,129.49169565133207,115.71643931684798,102.74118298236394,90.56592664787985,79.1906703133958,68.61541397891172,58.840157644427634,49.86490130994356,41.68964497545948,34.31438864097544,27.73913230649136,21.963875972007283,16.988619637523207,12.813363303039136,9.438106968555077,6.862850634071005,5.087594299586932,4.112337965102862,3.937081630618792,4.56182529613472,5.98656896165065,8.211312627166583,11.236056292682514,15.060799958198448,19.68554362371436,25.110287289230317,31.335030954746227,38.35977462026213,46.1845182857781,54.809261951294005,64.23400561680998,74.45874928232588,85.48349294784185,97.30823661335776,109.93298027887366],[446.3639790838974,420.14379402554323,394.72360896718897,370.10342390883477,346.2832388504806,323.2630537921263,301.042868733772,279.62268367541776,259.00249861706357,239.1823135587094,220.16212850035515,201.9419434420009,184.52175838364664,167.90157332529242,152.0813882669382,137.061203208584,122.84101815022976,109.42083309187551,96.80064803352128,84.98046297516706,73.96027791681284,63.74009285845861,54.319907800104374,45.699722741750136,37.879537683395895,30.859352625041694,24.63916756668746,19.218982508333227,14.598797449978996,10.778612391624762,7.758427333270546,5.538242274916314,4.118057216562084,3.4978721582078562,3.67768709985363,4.657502041499399,6.4373169831451715,9.017131924790945,12.396946866436721,16.5767618080825,21.55657674972825,27.336391691374054,33.916206633019804,41.296021574665545,49.47583651631136,58.4556514579571,68.23546639960293,78.81528134124866,90.1950962828945,102.37491122454023,115.35472616618594],[434.24204805409033,408.37693427186593,383.3118204896415,359.04670670741723,335.5815929251928,312.9164791429684,291.05136536074394,269.9862515785196,249.72113779629524,230.25602401407087,211.5909102318465,193.72579644962204,176.66068266739768,160.3955688851733,144.93045510294888,130.26534132072453,116.40022753850013,103.33511375627575,91.06999997405137,79.60488619182698,68.93977240960261,59.074658627378206,50.00954484515381,41.744431062929415,34.27931728070503,27.614203498480663,21.74908971625627,16.683975934031878,12.418862151807492,8.953748369583103,6.288634587358726,4.423520805134338,3.35840702290995,3.0932932406855644,3.6281794584611795,4.963065676236789,7.097951894012404,10.03283811178802,13.76772432956364,18.302610547339256,23.637496765114854,29.772382982890502,36.70726920066609,44.44215541844167,52.977041636217336,62.31192785399291,72.44681407176859,83.38170028954414,95.11658650731984,107.65147272509542,120.98635894287096],[422.330003913656,396.81996140756144,372.10991890146687,348.19987639537237,325.0898338892778,302.77979138318324,281.26974887708866,260.55970637099415,240.64966386489965,221.5396213588051,203.22957885271055,185.71953634661597,169.00949384052137,153.0994513344269,137.98940882833233,123.67936632223781,110.16932381614325,97.45928131004868,85.54923880395417,74.43919629785961,64.12915379176508,54.61911128567052,45.90906877957597,37.99902627348142,30.888983767386872,24.57894126129235,19.0688987551978,14.35885624910325,10.448813743008701,7.338771236914155,5.028728730819619,3.518686224725073,2.8086437186305275,2.8986012125359846,3.7885587064414414,5.478516200346892,7.9684736942523475,11.258431188157807,15.348388682063266,20.23834617596873,25.92830366987416,32.41826116377966,39.708218657685094,47.79817615159051,56.688133645496016,66.37809113940145,76.86804863330696,88.15800612721236,100.24796362111789,113.1379211150233,126.8278786089287],[410.62784666259427,385.4728754326296,361.1179042026649,337.5629329727002,314.8079617427356,292.8529905127708,271.6980192828061,251.3430480528413,231.7880768228767,213.03310559291202,195.07813436294728,177.92316313298258,161.56819190301783,146.01322067305318,131.25824944308846,117.30327821312378,104.14830698315907,91.79333575319433,80.23836452322965,69.48339329326495,59.52842206330025,50.373450833335546,42.018479603370835,34.46350837340613,27.70853714344142,21.75356591347674,16.598594683512033,12.243623453547325,8.688652223582622,5.9336809936179185,3.9787097636532236,2.8237385336885197,2.4687673037238174,2.9137960737591166,4.1588248437944175,6.203853613829708,9.048882383865008,12.69391115390031,17.138939923935613,22.383968693970914,28.428997464006194,35.27402623404153,42.9190550040768,51.36408377411206,60.60911254414742,70.65414131418268,81.49917008421804,93.14419885425329,105.58922762428867,118.8342563943239,132.87928516435915],[399.1355763009053,374.3356763470705,350.3357763932356,327.1358764394008,304.73597648556597,283.1360765317311,262.33617657789614,242.3362766240613,223.13637667022647,204.73647671639162,187.13657676255673,170.33667680872188,154.33677685488698,139.13687690105218,124.73697694721729,111.13707699338244,98.33717703954758,86.3372770857127,75.13737713187787,64.73747717804301,55.137577224208144,46.33767727037328,38.33777731653841,31.137877362703545,24.73797740886868,19.138077455033844,14.33817750119898,10.338277547364115,7.138377593529253,4.738477639694393,3.1385776858595396,2.338677732024679,2.338777778189819,3.138877824354961,4.738977870520104,7.1390779166852365,10.339177962850378,14.339278009015526,19.13937805518067,24.739478101345817,31.139578147510935,38.339678193676114,46.33977823984122,55.139878286006336,64.73997833217153,75.14007837833664,86.34017842450183,98.34027847066693,111.14037851683213,124.74047856299724,139.14057860916233],[387.8531928285891,363.4083641508841,339.763535473179,316.9187067954741,294.8738781177691,273.629049440064,253.18422076235902,233.53939208465397,214.69456340694893,196.64973472924396,179.40490605153892,162.9600773738339,147.31524869612886,132.47042001842385,118.42559134071882,105.18076266301384,92.73593398530882,81.09110530760378,70.24627662989877,60.201447952193746,50.95661927448876,42.511790596783726,34.866961919078705,28.02213324137368,21.97730456366866,16.73247588596366,12.287647208258637,8.642818530553617,5.797989852848599,3.7531611751435814,2.508332497438569,2.0635038197335507,2.418675142028534,3.573846464323519,5.529017786618505,8.284189108913479,11.839360431208465,16.19453175350345,21.349703075798438,27.304874398093432,34.06004572038839,41.61521704268341,49.97038836497837,59.125559687273324,69.08073100956835,79.8359023318633,91.39107365415833,103.74624497645328,116.90141629874833,130.85658762104327,145.6117589433382],[376.78069624564563,352.6909388440704,329.4011814424952,306.9114240409201,285.2216666393449,264.33190923776976,244.24215183619452,224.95239443461935,206.4626370330442,188.77287963146904,171.88312222989384,155.79336482831866,140.50360742674349,126.0138500251683,112.32409262359312,99.43433522201798,87.34457782044277,76.05482041886759,65.56506301729242,55.87530561571723,46.98554821414207,38.89579081256689,31.60603341099171,25.116276009416527,19.426518607841352,14.536761206266194,10.447003804691015,7.157246403115835,4.667489001540659,2.9777315999654834,2.0879741983903117,1.9982167968151359,2.708459395239961,4.218701993664788,6.528944592089617,9.63918719051443,13.54942978893926,18.259672387364088,23.76991498578892,30.080157584213747,37.19040018263855,45.100642781063414,53.81088537948821,63.32112797791301,73.63137057633787,84.74161317476266,96.65185577318756,109.36209837161233,122.87234097003724,137.182583568462,152.2928261668868],[365.9180865520748,342.1834004266294,319.248714301184,297.1140281757388,275.7793420502935,255.24465592484808,235.50996979940277,216.57528367395741,198.4405975485121,181.1059114230668,164.57122529762145,148.83653917217606,133.90185304673074,119.76716692128542,106.43248079584008,93.89779467039477,82.16310854494944,71.22842241950408,61.093736294058765,51.75905016861342,43.22436404316811,35.48967791772276,28.554991792277423,22.420305666832085,17.085619541386748,12.550933415941433,8.816247290496097,5.881561165050762,3.746875039605428,2.412188914160096,1.8775027887147657,2.142816663269433,3.208130537824102,5.073444412378771,7.738758286933443,11.2040721614881,15.469386036042767,20.534699910597443,26.40001378515212,33.065327659706796,40.530641534261434,48.79595540881615,57.86126928337079,67.7265831579254,78.39189703248013,89.85721090703476,102.1225247815895,115.18783865614412,129.05315253069887,143.71846640525348,159.1837802798081],[355.2653637478767,331.8857488985612,309.30613404924566,287.52651919993025,266.5469043506147,246.36728950129924,226.98767465198372,208.40805980266822,190.62844495335275,173.64883010403724,157.46921525472175,142.08960040540626,127.50998555609075,113.73037070677529,100.7507558574598,88.57114100814431,77.19152615882881,66.61191130951332,56.83229646019783,47.852681610882335,39.67306676156685,32.293451912251356,25.71383706293586,19.93422221362036,14.954607364304866,10.774992514989393,7.395377665673898,4.815762816358404,3.036147967042913,2.0565331177274224,1.8769182684119328,2.4973034190964416,3.9176885697809523,6.138073720465465,9.158458871149978,12.978844021834474,17.59922917251899,23.019614323203502,29.239999473888016,36.260384624572524,44.08076977525701,52.701154925941566,62.12154007662605,72.34192522731053,83.3623103779951,95.18269552867957,107.80308067936413,121.22346583004858,135.44385098073317,150.46423613141764,166.28462128210208],[344.82252783305125,321.79798425986564,299.57344068668,278.1488971134944,257.5243535403087,237.69980996712303,218.67526639393736,200.4507228207517,183.0261792475661,166.40163567438046,150.5770921011948,135.55254852800914,121.32800495482348,107.90346138163785,95.27891780845218,83.45437423526654,72.42983066208089,62.20528708889523,52.7807435157096,44.15619994252395,36.331656369338305,29.30711279615265,23.082569222966995,17.658025649781344,13.033482076595693,9.20893850341006,6.184394930224407,3.9598513570387572,2.535307783853108,1.9107642106674605,2.086220637481812,3.0616770642961644,4.837133491110519,7.412589917924873,10.788046344739229,14.963502771553564,19.938959198367918,25.714415625182276,32.28987205199664,39.665328478811,47.84078490562533,56.81624133243972,66.59169775925403,77.16715418606836,88.54261061288278,100.71806703969708,113.69352346651151,127.46897989332581,142.04443632014022,157.41989274695453,173.59534917376882],[334.5895788075986,311.9201065105428,290.050634213487,268.98116191643123,248.71168961937542,229.2422173223196,210.57274502526377,192.70327272820793,175.63380043115214,159.36432813409635,143.89485583704055,129.2253835399847,115.3559112429289,102.2864389458731,90.0169666488173,78.5474943517615,67.8780220547057,58.008549757649874,48.93907746059408,40.66960516353827,33.20013286648248,26.530660569426658,20.66118827237085,15.591715975315038,11.322243678259232,7.852771381203437,5.183299084147629,3.3138267870918217,2.244354490036016,1.9748821929802118,2.5054098959244047,3.8359375988685995,5.9664653018127956,8.896993004756993,12.627520707701194,17.15804841064537,22.488576113589566,28.619103816533773,35.54963151947797,43.28015922242217,51.81068692536634,61.141214628310586,71.27174233125476,82.20227003419889,93.93279773714315,106.4633254400873,119.79385314303155,133.9243808459757,148.85490854891998,164.58543625186414,181.11596395480825],[324.5665166715187,302.2521156505927,280.7377146296667,260.0233136087408,240.1089125878148,220.99451156688883,202.68011054596286,185.16570952503685,168.4513085041109,152.53690748318496,137.422506462259,123.10810544133301,109.59370442040705,96.8793033994811,84.96490237855514,73.85050135762918,63.53610033670321,54.021699315777234,45.307298294851286,37.392897273925314,30.278496252999354,23.964095232073387,18.44969421114742,13.73529319022145,9.820892169295485,6.706491148369533,4.392090127443566,2.877689106517601,2.1632880855916374,2.248887064665675,3.134486043739708,4.820085022813745,7.3056840018877836,10.591282980961825,14.676881960035864,19.562480939109882,25.248079918183926,31.733678897257967,39.01927787633201,47.10487685540606,55.99047583448006,65.67607481355415,76.16167379262815,87.44727277170213,99.53287175077624,112.41847072985024,126.10406970892436,140.5896686879983,155.87526766707242,171.96086664614643,188.8464656252204],[314.7533414248114,292.7940116800153,271.63468193521913,251.27535219042306,231.71602244562695,212.95669270083079,194.99736295603464,177.8380332112385,161.47870346644243,145.9193737216463,131.16004397685018,117.20071423205403,104.04138448725791,91.68205474246179,80.12272499766567,69.36339525286957,59.40406550807344,50.244735763277305,41.88540601848119,34.32607627368507,27.56674652888895,21.607416784092823,16.4480870392967,12.08875729450057,8.529427549704447,5.770097804908337,3.8107680601122134,2.651438315316091,2.2921085705199706,2.732778825723851,3.9734490809277263,6.014119336131606,8.854789591335487,12.49545984653937,16.936130101743252,22.176800356947112,28.217470612150997,35.05814086735488,42.69881112255877,51.139481377762664,60.3801516329665,70.42082188817044,81.26149214337428,92.90216239857813,105.34283265378207,118.58350290898588,132.62417316418984,147.46484341939367,163.10551367459763,179.54618392980146,196.78685418500527],[305.1500530674769,283.5457945988106,262.74153613014425,242.7372776614781,223.53301919281176,205.12876072414548,187.52450225547915,170.7202437868129,154.7159853181466,139.51172684948034,125.10746838081407,111.50320991214778,98.69895144348149,86.69469297481521,75.49043450614892,65.08617603748266,55.48191756881637,46.67765910015009,38.673400631483815,31.469142162817533,25.064883694151256,19.460625225484975,14.656366756818691,10.652108288152409,7.447849819486128,5.043591350819857,3.439332882153575,2.6350744134872945,2.6308159448210158,3.4265574761547386,5.022299007488455,7.418040538822176,10.6137820701559,14.609523601489624,19.405265132823352,25.001006664157053,31.396748195490776,38.5924897268245,46.58823125815823,55.383972789491956,64.97971432082565,75.37545585215943,86.57119738349311,98.56693891482678,111.36268044616057,124.95842197749425,139.35416350882804,154.54990504016172,170.54564657149552,187.34138810282917,204.93712963416283],[295.756651599515,274.50746440697856,254.05827721444209,234.40909002190574,215.55990282936932,197.5107156368328,180.2615284442964,163.81234125175993,148.16315405922353,133.3139668666871,119.26477967415065,106.0155924816142,93.56640528907776,81.91721809654135,71.06803090400489,61.01884371146846,51.769656518932024,43.320469326395575,35.67128213385915,28.82209494132271,22.772907748786274,17.523720556249835,13.074533363713392,9.425346171176955,6.576158978640516,4.5269717861040855,3.277784593567647,2.8285974010312103,3.179410208494775,4.330223015958341,6.281035823421897,9.031848630885461,12.582661438349028,16.933474245812597,22.084287053276164,28.035099860739702,34.78591266820328,42.33672547566684,50.68753828313042,59.83835109059399,69.78916389805752,80.53997670552114,92.09078951298466,104.4416023204482,117.59241512791182,131.54322793537534,146.29404074283897,161.8448535503025,178.19566635776613,195.34647916522965,213.29729197269313],[286.5731370209259,265.6790211045193,245.58490518811266,226.29078927170616,207.79667335529956,190.10255743889292,173.2084415224863,157.11432560607972,141.82020968967316,127.32609377326656,113.63197785685995,100.73786194045336,88.64374602404675,77.34963010764017,66.85551419123357,57.161398274826986,48.267282358420374,40.17316644201378,32.8790505256072,26.384934609200595,20.690818692794004,15.796702776387406,11.702586859980807,8.408470943574212,5.914355027167616,4.220239110761029,3.326123194354433,3.2320072779478393,3.9378913615412463,5.443775445134655,7.749659528728053,10.85554361232146,14.761427695914868,19.46731177950828,24.97319586310169,31.279079946695077,38.38496403028849,46.2908481138819,54.99673219747531,64.50261628106873,74.80850036466211,85.91438444825557,97.82026853184894,110.5261526154423,124.03203669903576,138.3379207826291,153.44380486622262,169.34968894981597,186.05557303340947,203.5614571170028,221.86734120059612],[277.59950933170956,257.06046469143274,237.321420051156,218.38237541087926,200.24333077060254,182.90428613032577,166.36524149004896,150.62619684977219,135.68715220949548,121.54810756921874,108.20906292894198,95.6700182886652,83.93097364838843,72.99192900811171,62.85288436783495,53.51383972755821,44.97479508728145,37.23575044700469,30.29670580672795,24.15766116645119,18.818616526174445,14.279571885897692,10.540527245620938,7.601482605344183,5.46243796506743,4.123393324790684,3.584348684513931,3.8453040442371798,4.906259403960431,6.767214763683682,9.42817012340692,12.889125483130172,17.15008084285342,22.211036202576672,28.071991562299928,34.73294692202315,42.19390228174641,50.45485764146967,59.515813001192925,69.37676836091619,80.0377237206394,91.4986790803627,103.75963444008592,116.82058979980911,130.68154515953245,145.34250051925565,160.80345587897898,177.06441123870215,194.1253665984255,211.98632195814866,230.64727731787187],[268.8357685318658,248.6517951677189,229.26782180357196,210.6838484394251,192.8998750752782,175.91590171113126,159.73192834698432,144.3479549828374,129.76398161869054,115.98000825454363,102.99603489039671,90.81206152624979,79.42808816210287,68.84411479795598,59.06014143380905,50.07616806966215,41.89219470551524,34.50822134136831,27.92424797722142,22.140274613074503,17.156301248927605,12.97232788478069,9.588354520633777,7.004381156486867,5.220407792339957,4.236434428193053,4.052461064046143,4.668487699899234,6.084514335752328,8.300540971605422,11.316567607458502,15.132594243311594,19.74862087916469,25.164647515017787,31.380674150870885,38.39670078672395,46.212727422577046,54.82875405843015,64.24478069428325,74.46080733013635,85.47683396598939,97.29286060184255,109.90888723769561,123.32491387354864,137.54094050940182,152.55696714525484,168.372993781108,184.98902041696104,202.4050470528142,220.62107368866725,239.6371003245203],[260.2819146213949,240.45301253337777,221.42411044536067,203.1952083573437,185.7663062693266,169.13740418130948,153.30850209329242,138.27960000527534,124.0506979172583,110.62179582924124,97.99289374122418,86.16399165320708,75.13508956519001,64.90618747717295,55.47728538915588,46.848383301138824,39.01948121312175,31.990579125104674,25.761677037087615,20.33277494907054,15.70387286105348,11.874970773036406,8.846068685019336,6.6171665970022655,5.188264508985198,4.5593624209681325,4.730460332951063,5.701558244933997,7.47265615691693,10.043754068899865,13.414851980882787,17.58594989286572,22.557047804848658,28.328145716831592,34.89924362881453,42.27034154079743,50.44143945278037,59.41253736476332,69.18363527674626,79.7547331887292,91.12583110071209,103.2969290126951,116.26802692467798,130.03912483666085,144.61022274864388,159.98132066062675,176.15241857260975,193.12351648459264,210.89461439657566,229.46571230855852,248.8368102205414],[251.93794760029658,232.46411678840934,213.7902859765221,195.91645516463495,178.8426243527477,162.56879354086044,147.0949627289732,132.42113191708597,118.54730110519876,105.47347029331156,93.19963948142433,81.72580866953709,71.05197785764983,61.17814704576264,52.10431623387541,43.830485421988186,36.35665461010096,29.682823798213725,23.808992986326512,18.735162174439278,14.461331362552059,10.98750055066483,8.313669738777602,6.439838926890374,5.366008115003149,5.092177303115925,5.6183464912287,6.9445156793414755,9.070684867454252,11.99685405556703,15.723023243679794,20.24919243179257,25.57536161990535,31.701530808018134,38.627699996130914,46.35386918424366,54.88003837235644,64.20620756046922,74.332376748582,85.25854593669479,96.98471512480754,109.51088431292038,122.83705350103311,136.96322268914582,151.88939187725867,167.61556106537142,184.14173025348424,201.46789944159696,219.59406862970985,238.52023781782253,258.2464070059352],[243.80386746857104,224.68510793281365,206.36634839705624,188.8475888612989,172.12882932554155,156.21006978978411,141.09131025402672,126.77255071826931,113.25379118251197,100.53503164675459,88.61627211099719,77.4975125752398,67.1787530394824,57.65999350372503,48.94123396796764,41.022474432210274,33.90371489645288,27.584955360695496,22.06619582493812,17.347436289180727,13.42867675342335,10.309917217665966,7.991157681908579,6.472398146151196,5.753638610393814,5.834879074636431,6.716119538879049,8.397360003121667,10.878600467364286,14.159840931606908,18.241081395849513,23.122321860092132,28.803562324334756,35.28480278857738,42.56604325282,50.64728371706259,59.528524181305215,69.20976464554784,79.69100510979047,90.9722455740331,103.05348603827568,115.93472650251834,129.61596696676094,144.09720743100348,159.3784478952462,175.45968835948872,192.34092882373145,210.022169287974,228.50340975221673,247.78465021645926,267.8658906807018],[235.8796742262182,217.11598596659064,199.15229770696308,181.9886094473356,165.62492118770803,150.06123292808047,135.2975446684529,121.3338564088254,108.17016814919785,95.80647988957033,84.24279162994277,73.47910337031522,63.51541511068766,54.351726851060135,45.9880385914326,38.424350331805066,31.660662072177516,25.696973812549974,20.533285552922436,16.169597293294892,12.605909033667356,9.842220774039813,7.878532514412272,6.714844254784731,6.3511559951571925,6.787467735529651,8.02377947590211,10.060091216274571,12.896402956647037,16.5327146970195,20.969026437391946,26.20533817776441,32.24164991813687,39.07796165850934,46.714273398881815,55.15058513925425,64.3868968796267,74.42320861999917,85.25952036037164,96.89583210074412,109.33214384111653,122.56845558148906,136.6047673218615,151.44107906223388,167.07739080260643,183.51370254297882,200.75001428335136,218.78632602372375,237.62263776409634,257.2589495044687,277.6952612448411],[228.16536787323807,209.75675088974035,192.1481339062426,175.339516922745,159.33089993924727,144.12228295574954,129.71366597225185,116.10504898875413,103.29643200525646,91.28781502175877,80.07919803826105,69.67058105476336,60.06196407126564,51.25334708776796,43.24473010427025,36.03611312077257,29.62749613727486,24.01887915377716,19.210262170279474,15.20164518678177,11.993028203284073,9.584411219786375,7.975794236288675,7.167177252790978,7.158560269293282,7.949943285795582,9.541326302297886,11.93270931880019,15.124092335302493,19.1154753518048,23.906858368307084,29.49824138480939,35.88962440131169,43.08100741781401,51.07239043431632,59.86377345081859,69.4551564673209,79.84653948382322,91.03792250032554,103.02930551682783,115.8206885333301,129.4120715498325,143.80345456633472,158.99483758283696,174.98622059933936,191.7776036158416,209.368986632344,227.76036964884622,246.95175266534864,266.9431356818509,287.7345186983531],[220.66094840963066,202.6074027022628,185.35385699489493,168.90031128752713,153.24676558015926,138.39321987279138,124.3396741654235,111.08612845805564,98.63258275068779,86.97903704331995,76.12549133595209,66.07194562858422,56.81839992121635,48.36485421384851,40.71130850648065,33.8577627991128,27.80421709174494,22.550671384377075,18.097125677009224,14.443579969641364,11.590034262273507,9.536488554905649,8.282942847537791,7.829397140169936,8.17585143280208,9.322305725434221,11.268760018066365,14.01521431069851,17.56166860333066,21.908122895962805,27.054577188594934,33.00103148122707,39.747485773859225,47.29394006649138,55.640394359123526,64.78684865175565,74.73330294438779,85.47975723701995,97.0262115296521,109.37266582228426,122.51912011491635,136.4655744075486,151.21202870018064,166.75848299281273,183.10493728544498,200.25139157807706,218.1978458707093,236.94430016334138,256.4907544559736,276.8372087486057,297.9836630412378],[213.36641583539597,195.66794140415794,178.76946697291987,162.67099254168193,147.3725181104439,132.8740436792059,119.17556924796786,106.27709481672983,94.17862038549183,82.88014595425383,72.3816715230158,62.68319709177778,53.78472266053976,45.68624822930176,38.38777379806373,31.889299366825732,26.190824935587713,21.29235050434969,17.19387607311168,13.895401641873665,11.396927210635653,9.698452779397636,8.79997834815962,8.701503916921608,9.403029485683595,10.904555054445577,13.206080623207562,16.30760619196955,20.20913176073154,24.91065732949353,30.412182898255494,36.71370846701749,43.815234035779476,51.71675960454147,60.418285173303474,69.91981074206544,80.22133631082741,91.32286187958942,103.22438744835141,115.92591301711343,129.42743858587536,143.72896415463742,158.83048972339935,174.73201529216126,191.43354086092336,208.93506642968526,227.23659199844735,246.33811756720925,266.2396431359714,286.9411687047333,308.4426942734952],[206.281770150534,188.93836699542575,172.3949638403176,156.65156068520946,141.70815753010126,127.5647543749931,114.22135121988491,101.67794806477671,89.93454490966857,78.9911417545604,68.84773859945223,59.50433544434405,50.96093228923588,43.217529134127716,36.27412597901954,30.130722823911377,24.787319668803196,20.243916513695023,16.500513358586854,13.557110203478679,11.413707048370508,10.070303893262334,9.526900738154163,9.783497583045992,10.840094427937824,12.696691272829646,15.353288117721476,18.809884962613307,23.06648180750514,28.123078652396977,33.97967549728878,40.63627234218062,48.09286918707245,56.34946603196428,65.40606287685613,75.26265972174792,85.91925656663977,97.3758534115316,109.63245025642345,122.6890471013153,136.54564394620706,151.20224079109897,166.65883763599072,182.91543448088248,199.97203132577442,217.8286281706662,236.48522501555811,255.94182186044986,276.19841870534185,297.25501555023357,319.11161239512535],[199.40701135504466,182.41867947606636,166.23034759708798,150.8420157181097,136.25368383913138,122.46535196015304,109.47702008117469,97.28868820219635,85.90035632321803,75.31202444423973,65.52369256526137,56.53536068628304,48.34702880730471,40.95869692832638,34.37036504934805,28.58203317036973,23.593701291391397,19.40536941241306,16.01703753343474,13.428705654456405,11.640373775478078,10.652041896499748,10.463710017521418,11.075378138543089,12.487046259564764,14.698714380586429,17.7103825016081,21.522050622629774,26.13371874365145,31.545386864673127,37.75705498569478,44.76872310671645,52.58039122773813,61.192059348759805,70.60372746978149,80.81539559080312,91.8270637118248,103.6387318328465,116.25039995386817,129.66206807488987,143.87373619591148,158.88540431693323,174.69707243795483,191.30874055897647,208.72040867999823,226.93207680101983,245.94374492204162,265.7554130430632,286.367081164085,307.7787492851066,329.99041740612813],[192.74213944892813,176.1088788460796,160.2756182432311,145.24235764038266,131.00909703753416,117.57583643468567,104.94257583183717,93.10931522898868,82.0760546261402,71.84279402329173,62.409533420443225,53.776272817594744,45.94301221474625,38.909751611897775,32.67649100904927,27.243230406200794,22.609969803352307,18.776709200503817,15.743448597655334,13.510187994806847,12.07692739195836,11.443666789109875,11.610406186261386,12.5771455834129,14.343884980564418,16.910624377715923,20.277363774867435,24.444103172018956,29.410842569170477,35.177581966321995,41.74432136347348,49.11106076062501,57.277800157776525,66.24453955492804,76.01127895207956,86.57801834923106,97.94475774638258,110.11149714353408,123.07823654068561,136.84497593783715,151.4117153349886,166.7784547321402,182.94519412929162,199.91193352644308,217.67867292359472,236.24541232074614,255.6121517178978,275.77889111504925,296.7456305122008,318.5123699093523,341.0791093065037],[186.28715443218425,170.00896510546562,154.53077577874694,139.85258645202833,125.97439712530972,112.89620779859105,100.6180184718724,89.13982914515374,78.4616398184351,68.58345049171646,59.50526116499781,51.22707183827916,43.74888251156051,37.07069318484187,31.192503858123224,26.114314531404585,21.836125204685935,18.357935877967286,15.679746551248645,13.801557224529995,12.723367897811354,12.445178571092708,12.96698924437406,14.288799917655417,16.410610590936777,19.33242126421812,23.054231937499473,27.57604261078083,32.897853284062194,39.01966395734355,45.94147463062488,53.66328530390624,62.18509597718761,71.50690665046896,81.62871732375034,92.55052799703165,104.27233867031302,116.79414934359437,130.11596001687576,144.2377706901571,159.1595813634384,174.88139203671986,191.40320271000115,208.72501338328243,226.8468240565639,245.7686347298452,265.4904454031266,286.0122560764079,307.3340667496894,329.4558774229707,352.377688096252],[180.04205630481312,164.1189382542243,148.9958202036355,134.6727021530467,121.14958410245794,108.4264660518691,96.5033480012803,85.3802299506915,75.05711190010271,65.5339938495139,56.810875798925096,48.887757748336284,41.764639697747484,35.44152164715868,29.918403596569874,25.19528554598108,21.272167495392274,18.149049444803467,15.825931394214667,14.30281334362586,13.579695293037059,13.656577242448254,14.533459191859453,16.210341141270654,18.68722309068185,21.964105040093038,26.04098698950424,30.917868938915444,36.594750888326644,43.071632837737845,50.34851478714902,58.425396736560224,67.30227868597143,76.97916063538263,87.45604258479385,98.73292453420501,110.8098064836162,123.68668843302741,137.36357038243864,151.84045233184986,167.11733428126098,183.19421623067228,200.07109818008342,217.74798012949452,236.22486207890583,255.50174402831698,275.5786259777282,296.45550792713937,318.13238987655075,340.60927182596186,363.8861537753729],[174.0068450668147,158.43879829235573,143.67075151789678,129.70270474343783,116.53465796897888,104.16661119451989,92.59856442006092,81.83051764560196,71.86247087114302,62.69442409668406,54.32637732222509,46.75833054776612,39.990283773307155,34.02223699884821,28.854190224389246,24.486143449930285,20.918096675471322,18.15004990101236,16.1820031265534,15.01395635209444,14.64590957763548,15.077862803176517,16.309816028717556,18.3417692542586,21.173722479799647,24.805675705340672,29.237628930881716,34.46958215642275,40.501535381963805,47.33348860750484,54.96544183304586,63.39739505858691,72.62934828412796,82.661301509669,93.49325473521006,105.12520796075106,117.5571611862921,130.78911441183317,144.8210676373742,159.65302086291527,175.28497408845624,191.71692731399736,208.94888053953832,226.98083376507935,245.81278699062045,265.44474021616145,285.8766934417026,307.10864666724353,329.14059989278473,351.97255311832566,375.6045063438666],[168.181520718189,152.96854521985986,138.55556972153073,124.94259422320165,112.12961872487251,100.11664322654339,88.90366772821426,78.49069222988514,68.87771673155603,60.064741233226925,52.0517657348978,44.83879023656867,38.42581473823955,32.81283923991044,27.99986374158132,23.986888243252203,20.773912744923084,18.360937246593963,16.74796174826485,15.93498624993573,15.92201075160661,16.7090352532775,18.29605975494838,20.683084256619264,23.87010875829015,27.857133259961017,32.6441577616319,38.231182263302784,44.61820676497367,51.80523126664457,59.79225576831543,68.5792802699863,78.1663047716572,88.55332927332809,99.740353774999,111.72737827666984,124.51440277834071,138.10142728001162,152.4884517816825,167.67547628335342,183.66250078502424,200.4495252866952,218.03654978836602,236.4235742900368,255.61059879170782,275.59762329337866,296.38464779504966,317.97167229672044,340.3586967983914,363.54572130006227,387.5327458017331],[162.56608325893598,147.70817903673668,133.6502748145374,120.39237059233818,107.93446637013886,96.2765621479396,85.41865792574032,75.36075370354102,66.10284948134176,57.6449452591425,49.98704103694322,43.12913681474394,37.071232592544646,31.81332837034538,27.355424148146106,23.697519925946835,20.83961570374756,18.78171148154828,17.52380725934901,17.06590303714973,17.40799881495046,18.550094592751183,20.49219037055191,23.234286148352638,26.77638192615337,31.118477703954078,36.26057348175481,42.20266925955554,48.94476503735627,56.486860815157,64.8289565929577,73.97105237075843,83.91314814855917,94.6552439263599,106.19733970416064,118.53943548196132,131.68153125976204,145.6236270375628,160.3657228153635,175.90781859316428,192.24991437096492,209.39201014876576,227.3341059265664,246.07620170436707,265.6182974821679,285.96039325996855,307.1024890377694,329.04458481557003,351.7866805933709,375.3287763711715,399.6708721489722],[157.1605326890557,142.65769974298627,128.9548667969168,116.05203385084742,103.94920090477798,92.64636795870854,82.14353501263909,72.44070206656964,63.53786912050022,55.435036174430806,48.13220322836136,41.629370282291916,35.92653733622248,31.02370439015305,26.920871444083613,23.618038498014183,21.115205551944747,19.412372605875312,18.50953965980588,18.406706713736444,19.10387376766701,20.60104082159758,22.898207875528144,25.995374929458713,29.892541983389282,34.589709037319835,40.086876091250396,46.38404314518098,53.48121019911155,61.37837725304212,70.07554430697266,79.57271136090324,89.86987841483379,100.96704546876438,112.86421252269497,125.56137957662546,139.05854663055607,153.3557136844866,168.4528807384172,184.35004779234777,201.04721484627828,218.54438190020895,236.84154895413945,255.93871600806995,275.8358830620006,296.53305011593113,318.03021716986177,340.3273842237923,363.4245512777229,387.3217183316534,412.01888538558387],[151.9648690085481,137.8171073386085,124.4693456686689,111.92158399872935,100.17382232878975,89.22606065885016,79.07829898891055,69.73053731897095,61.18277564903137,53.43501397909179,46.4872523091522,40.3394906392126,34.991728969273,30.443967299333416,26.696205629393823,23.748443959454242,21.600682289514644,20.252920619575058,19.705158949635464,19.957397279695876,21.00963560975628,22.861873939816697,25.514112269877106,28.96635059993752,33.218588929997935,38.270827260058326,44.12306559011874,50.775303920179155,58.227542250239566,66.47978058029999,75.53201891036038,85.3842572404208,96.03649557048121,107.48873390054163,119.74097223060204,132.7932105606624,146.64544889072286,161.29768722078325,176.7499255508437,193.0021638809041,210.05440221096444,227.90664054102493,246.55887887108528,266.0111172011457,286.2633555312061,307.3155938612665,329.16783219132697,351.8200705213873,375.27230885144786,399.52454718150824,424.5767855115685],[146.97909221741324,133.1864018236035,120.19371142979372,108.00102103598402,96.60833064217427,86.01564024836452,76.22294985455474,67.23025946074499,59.03756906693526,51.64487867312552,45.05218827931576,39.259497885506,34.266807491696255,30.07411709788651,26.681426704076756,24.08873631026701,22.29604591645726,21.30335552264751,21.11066512883776,21.717974735028015,23.125284341218258,25.332593947408512,28.339903553598766,32.14721315978902,36.75452276597928,42.16183237216951,48.369141978359764,55.376451584550026,63.18376119074028,71.79107079693054,81.19838040312077,91.40569000931103,102.41299961550129,114.22030922169154,126.8276188278818,140.234928434072,154.44223804026228,169.44954764645252,185.25685725264282,201.86416685883304,219.27147646502323,237.47878607121362,256.48609567740374,276.293405283594,296.90071488978435,318.3080244959745,340.51533410216484,363.5226437083551,387.32995331454543,411.9372629207356,437.3445725269258],[142.20320231565114,128.76558319797118,116.12796408029128,104.29034496261144,93.25272584493149,83.01510672725158,73.57748760957166,64.93986849189173,57.10224937421185,50.06463025653194,43.827011138852036,38.38939202117212,33.75177290349221,29.914153785812307,26.876534668132393,24.638915550452488,23.201296432772576,22.56367731509267,22.726058197412762,23.68843907973286,25.45081996205294,28.01320084437304,31.375581726693134,35.53796260901323,40.500343491333325,46.26272437365339,52.82510525597349,60.18748613829359,68.3498670206137,77.31224790293379,87.07462878525385,97.63700966757396,108.99939054989406,121.16177143221415,134.12415231453423,147.88653319685432,162.44891407917441,177.8112949614945,193.97367584381465,210.9360567261347,228.69843760845475,247.26081849077494,266.62319937309496,286.78558025541497,307.7479611377352,329.5103420200552,352.0727229023754,375.43510378469546,399.5974846670157,424.5598655493356,450.3222464316556],[137.63719930326167,124.55465146171159,112.2721036201615,100.78955577861149,90.10700793706141,80.22446009551135,71.14191225396127,62.859364412411196,55.37681657086114,48.694268729311084,42.81172088776102,37.729173046210946,33.446625204660876,29.96407736311081,27.28152952156075,25.398981680010685,24.316433838460622,24.033885996910563,24.55133815536049,25.86879031381043,27.986242472260365,30.903694630710305,34.62114678916024,39.138598947610184,44.45605110606012,50.57350326451004,57.490955422959985,65.20840758140992,73.72585973985987,83.04331189830981,93.16076405675972,104.07821621520966,115.79566837365962,128.31312053210954,141.63057269055952,155.74802484900943,170.66547700745932,186.38292916590927,202.90038132435922,220.21783348280923,238.33528564125908,257.2527377997091,276.970189958159,297.48764211660887,318.8050942750589,340.9225464335087,363.83999859195876,387.55745075040863,412.0749029088588,437.3923550673086,463.5098072257584],[133.28108318024496,120.55360661482472,108.6261300494045,97.4986534839843,87.17117691856404,77.64370035314384,68.9162237877236,60.988747222303374,53.86127065688316,47.533794091462944,42.00631752604271,37.27884096062249,33.35136439520225,30.223887829782036,27.89641126436181,26.368934698941594,25.641458133521372,25.713981568101147,26.58650500268092,28.259028437260696,30.73155187184047,34.004075306420255,38.07659874100003,42.94912217557982,48.621645610159604,55.09416904473935,62.36669247931914,70.43921591389892,79.31173934847871,88.9842627830585,99.45678621763822,110.72930965221802,122.8018330867978,135.6743565213776,149.34687995595738,163.81940339053708,179.0919268251169,195.16445025969668,212.03697369427653,229.70949712885624,248.182020563436,267.4545439980159,287.5270674325956,308.39959086717533,330.07211430175516,352.54463773633483,375.81716117091474,399.8896846054945,424.76220804007437,450.4347314746541,476.90725490923376],[129.1348539466009,116.76244865731053,105.19004336802013,94.41763807872978,84.44523278943942,75.27282750014902,66.90042221085864,59.32801692156824,52.55561163227787,46.58320634298751,41.410801053697114,37.03839576440673,33.46599047511635,30.69358518582597,28.721179896535595,27.548774607245218,27.176369317954837,27.603964028664457,28.83155873937408,30.859153450083703,33.686748160793314,37.314342871502944,41.741937582212564,46.96953229292219,52.99712700363182,59.824721714341415,67.45231642505105,75.87991113576066,85.1075058464703,95.13510055717992,105.96269526788952,117.59028997859915,130.01788468930877,143.2454794000184,157.27307411072803,172.1006688214376,187.72826353214725,204.15585824285688,221.38345295356652,239.41104766427614,258.2386423749857,277.86623708569545,298.293831796405,319.52142650711454,341.5490212178243,364.37661592853385,388.00421063924364,412.43180534995315,437.6594000606628,463.6869947713723,490.5145894820818],[125.19851160232963,113.18117758916908,101.96384357600854,91.54650956284803,81.92917554968749,73.11184153652695,65.09450752336639,57.87717351020585,51.45983949704531,45.84250548388479,41.02517147072424,37.007837457563696,33.79050344440316,31.373169431242623,29.755835418082082,28.938501404921546,28.921167391761003,29.703833378600468,31.28649936543993,33.66916535227939,36.85183133911885,40.83449732595831,45.61716331279778,51.199829299637244,57.58249528647672,64.76516127331615,72.74782726015562,81.53049324699509,91.11315923383457,101.49582522067404,112.67849120751346,124.66115719435291,137.44382318119239,151.02648916803187,165.40915515487137,180.59182114171074,196.57448712855023,213.35715311538974,230.93981910222914,249.32248508906864,268.5051510759081,288.48781706274764,309.270483049587,330.85314903642643,353.235815023266,376.4184810101053,400.40114699694493,425.1838129837843,450.7664789706239,477.14914495746325,504.3318109443027],[121.472056147431,109.80979341040033,98.9475306733696,88.88526793633895,79.62300519930825,71.16074246227754,63.49847972524685,56.636216988216134,50.573954251185455,45.311691514154774,40.849428777124075,37.18716604009337,34.324903303062676,32.26264056603199,31.000377829001295,30.538115091970596,30.87585235493991,32.01358961790921,33.95132688087852,36.68906414384783,40.22680140681712,44.56453866978643,49.70227593275575,55.64001319572506,62.377750458694365,69.91548772166365,78.25322498463296,87.39096224760227,97.32869951057162,108.06643677354091,119.60417403651019,131.9419112994795,145.07964856244882,159.01738582541816,173.75512308838745,189.2928603513567,205.63059761432604,222.76833487729533,240.70607214026467,259.443809403234,278.98154666620326,299.3192839291727,320.4570211921419,342.3947584551111,365.1324957180806,388.67023298104976,413.00797024401925,438.1457075069884,464.08344476995785,490.82118203292714,518.3589192958963],[117.95548758190515,106.64829612100428,96.14110466010342,86.4339131992026,77.52672173830175,69.4195302774009,62.11233881650003,55.60514735559917,49.89795589469832,44.99076443379748,40.88357297289662,37.57638151199576,35.06919005109491,33.361998590194055,32.4548071292932,32.34761566839235,33.0404242074915,34.53323274659064,36.8260412856898,39.91884982478895,43.811658363888085,48.50446690298723,53.99727544208639,60.290083981185546,67.3828925202847,75.2757010593838,83.96850959848297,93.46131813758213,103.7541266766813,114.84693521578045,126.73974375487956,139.4325522939787,152.92536083307786,167.21816937217704,182.31097791127618,198.20378645037528,214.89659498947447,232.38940352857358,250.68221206767276,269.77502060677193,289.667829145871,310.36063768497024,331.85344622406933,354.1462547631684,377.23906330226765,401.1318718413667,425.824680380466,451.3174889195651,477.6102974586644,504.7031059977634,532.5959145368624],[114.648805905752,103.69668572098097,93.54456553620996,84.19244535143898,75.64032516666796,67.88820498189693,60.93608479712592,54.7839646123549,49.4318444275839,44.87972424281289,41.127604058041875,38.175483873270856,36.02336368849984,34.67124350372883,34.119123318957826,34.36700313418682,35.414882949415805,37.26276276464479,39.91064257987378,43.358522395102774,47.60640221033175,52.65428202556075,58.50216184078973,65.15004165601873,72.59792147124773,80.8458012864767,89.89368110170568,99.74156091693469,110.38944073216369,121.83732054739266,134.08520036262163,147.13308017785064,160.98095999307964,175.6288398083086,191.07671962353766,207.32459943876657,224.37247925399555,242.22035906922457,260.8682388844536,280.31611869968253,300.56399851491153,321.6118783301406,343.4597581453695,366.10763796059837,389.5555177758275,413.80339759105647,438.8512774062856,464.6991572215145,491.3470370367436,518.7949168519724,547.0427966672014]],\"type\":\"surface\",\"contours\":{\"z\":{\"project\":{\"z\":true},\"highlightcolor\":\"limegreen\",\"show\":true,\"usecolormap\":true}}}],                        {\"template\":{\"data\":{\"histogram2dcontour\":[{\"type\":\"histogram2dcontour\",\"colorbar\":{\"outlinewidth\":0,\"ticks\":\"\"},\"colorscale\":[[0.0,\"#0d0887\"],[0.1111111111111111,\"#46039f\"],[0.2222222222222222,\"#7201a8\"],[0.3333333333333333,\"#9c179e\"],[0.4444444444444444,\"#bd3786\"],[0.5555555555555556,\"#d8576b\"],[0.6666666666666666,\"#ed7953\"],[0.7777777777777778,\"#fb9f3a\"],[0.8888888888888888,\"#fdca26\"],[1.0,\"#f0f921\"]]}],\"choropleth\":[{\"type\":\"choropleth\",\"colorbar\":{\"outlinewidth\":0,\"ticks\":\"\"}}],\"histogram2d\":[{\"type\":\"histogram2d\",\"colorbar\":{\"outlinewidth\":0,\"ticks\":\"\"},\"colorscale\":[[0.0,\"#0d0887\"],[0.1111111111111111,\"#46039f\"],[0.2222222222222222,\"#7201a8\"],[0.3333333333333333,\"#9c179e\"],[0.4444444444444444,\"#bd3786\"],[0.5555555555555556,\"#d8576b\"],[0.6666666666666666,\"#ed7953\"],[0.7777777777777778,\"#fb9f3a\"],[0.8888888888888888,\"#fdca26\"],[1.0,\"#f0f921\"]]}],\"heatmap\":[{\"type\":\"heatmap\",\"colorbar\":{\"outlinewidth\":0,\"ticks\":\"\"},\"colorscale\":[[0.0,\"#0d0887\"],[0.1111111111111111,\"#46039f\"],[0.2222222222222222,\"#7201a8\"],[0.3333333333333333,\"#9c179e\"],[0.4444444444444444,\"#bd3786\"],[0.5555555555555556,\"#d8576b\"],[0.6666666666666666,\"#ed7953\"],[0.7777777777777778,\"#fb9f3a\"],[0.8888888888888888,\"#fdca26\"],[1.0,\"#f0f921\"]]}],\"heatmapgl\":[{\"type\":\"heatmapgl\",\"colorbar\":{\"outlinewidth\":0,\"ticks\":\"\"},\"colorscale\":[[0.0,\"#0d0887\"],[0.1111111111111111,\"#46039f\"],[0.2222222222222222,\"#7201a8\"],[0.3333333333333333,\"#9c179e\"],[0.4444444444444444,\"#bd3786\"],[0.5555555555555556,\"#d8576b\"],[0.6666666666666666,\"#ed7953\"],[0.7777777777777778,\"#fb9f3a\"],[0.8888888888888888,\"#fdca26\"],[1.0,\"#f0f921\"]]}],\"contourcarpet\":[{\"type\":\"contourcarpet\",\"colorbar\":{\"outlinewidth\":0,\"ticks\":\"\"}}],\"contour\":[{\"type\":\"contour\",\"colorbar\":{\"outlinewidth\":0,\"ticks\":\"\"},\"colorscale\":[[0.0,\"#0d0887\"],[0.1111111111111111,\"#46039f\"],[0.2222222222222222,\"#7201a8\"],[0.3333333333333333,\"#9c179e\"],[0.4444444444444444,\"#bd3786\"],[0.5555555555555556,\"#d8576b\"],[0.6666666666666666,\"#ed7953\"],[0.7777777777777778,\"#fb9f3a\"],[0.8888888888888888,\"#fdca26\"],[1.0,\"#f0f921\"]]}],\"surface\":[{\"type\":\"surface\",\"colorbar\":{\"outlinewidth\":0,\"ticks\":\"\"},\"colorscale\":[[0.0,\"#0d0887\"],[0.1111111111111111,\"#46039f\"],[0.2222222222222222,\"#7201a8\"],[0.3333333333333333,\"#9c179e\"],[0.4444444444444444,\"#bd3786\"],[0.5555555555555556,\"#d8576b\"],[0.6666666666666666,\"#ed7953\"],[0.7777777777777778,\"#fb9f3a\"],[0.8888888888888888,\"#fdca26\"],[1.0,\"#f0f921\"]]}],\"mesh3d\":[{\"type\":\"mesh3d\",\"colorbar\":{\"outlinewidth\":0,\"ticks\":\"\"}}],\"scatter\":[{\"fillpattern\":{\"fillmode\":\"overlay\",\"size\":10,\"solidity\":0.2},\"type\":\"scatter\"}],\"parcoords\":[{\"type\":\"parcoords\",\"line\":{\"colorbar\":{\"outlinewidth\":0,\"ticks\":\"\"}}}],\"scatterpolargl\":[{\"type\":\"scatterpolargl\",\"marker\":{\"colorbar\":{\"outlinewidth\":0,\"ticks\":\"\"}}}],\"bar\":[{\"error_x\":{\"color\":\"#2a3f5f\"},\"error_y\":{\"color\":\"#2a3f5f\"},\"marker\":{\"line\":{\"color\":\"#E5ECF6\",\"width\":0.5},\"pattern\":{\"fillmode\":\"overlay\",\"size\":10,\"solidity\":0.2}},\"type\":\"bar\"}],\"scattergeo\":[{\"type\":\"scattergeo\",\"marker\":{\"colorbar\":{\"outlinewidth\":0,\"ticks\":\"\"}}}],\"scatterpolar\":[{\"type\":\"scatterpolar\",\"marker\":{\"colorbar\":{\"outlinewidth\":0,\"ticks\":\"\"}}}],\"histogram\":[{\"marker\":{\"pattern\":{\"fillmode\":\"overlay\",\"size\":10,\"solidity\":0.2}},\"type\":\"histogram\"}],\"scattergl\":[{\"type\":\"scattergl\",\"marker\":{\"colorbar\":{\"outlinewidth\":0,\"ticks\":\"\"}}}],\"scatter3d\":[{\"type\":\"scatter3d\",\"line\":{\"colorbar\":{\"outlinewidth\":0,\"ticks\":\"\"}},\"marker\":{\"colorbar\":{\"outlinewidth\":0,\"ticks\":\"\"}}}],\"scattermapbox\":[{\"type\":\"scattermapbox\",\"marker\":{\"colorbar\":{\"outlinewidth\":0,\"ticks\":\"\"}}}],\"scatterternary\":[{\"type\":\"scatterternary\",\"marker\":{\"colorbar\":{\"outlinewidth\":0,\"ticks\":\"\"}}}],\"scattercarpet\":[{\"type\":\"scattercarpet\",\"marker\":{\"colorbar\":{\"outlinewidth\":0,\"ticks\":\"\"}}}],\"carpet\":[{\"aaxis\":{\"endlinecolor\":\"#2a3f5f\",\"gridcolor\":\"white\",\"linecolor\":\"white\",\"minorgridcolor\":\"white\",\"startlinecolor\":\"#2a3f5f\"},\"baxis\":{\"endlinecolor\":\"#2a3f5f\",\"gridcolor\":\"white\",\"linecolor\":\"white\",\"minorgridcolor\":\"white\",\"startlinecolor\":\"#2a3f5f\"},\"type\":\"carpet\"}],\"table\":[{\"cells\":{\"fill\":{\"color\":\"#EBF0F8\"},\"line\":{\"color\":\"white\"}},\"header\":{\"fill\":{\"color\":\"#C8D4E3\"},\"line\":{\"color\":\"white\"}},\"type\":\"table\"}],\"barpolar\":[{\"marker\":{\"line\":{\"color\":\"#E5ECF6\",\"width\":0.5},\"pattern\":{\"fillmode\":\"overlay\",\"size\":10,\"solidity\":0.2}},\"type\":\"barpolar\"}],\"pie\":[{\"automargin\":true,\"type\":\"pie\"}]},\"layout\":{\"autotypenumbers\":\"strict\",\"colorway\":[\"#636efa\",\"#EF553B\",\"#00cc96\",\"#ab63fa\",\"#FFA15A\",\"#19d3f3\",\"#FF6692\",\"#B6E880\",\"#FF97FF\",\"#FECB52\"],\"font\":{\"color\":\"#2a3f5f\"},\"hovermode\":\"closest\",\"hoverlabel\":{\"align\":\"left\"},\"paper_bgcolor\":\"white\",\"plot_bgcolor\":\"#E5ECF6\",\"polar\":{\"bgcolor\":\"#E5ECF6\",\"angularaxis\":{\"gridcolor\":\"white\",\"linecolor\":\"white\",\"ticks\":\"\"},\"radialaxis\":{\"gridcolor\":\"white\",\"linecolor\":\"white\",\"ticks\":\"\"}},\"ternary\":{\"bgcolor\":\"#E5ECF6\",\"aaxis\":{\"gridcolor\":\"white\",\"linecolor\":\"white\",\"ticks\":\"\"},\"baxis\":{\"gridcolor\":\"white\",\"linecolor\":\"white\",\"ticks\":\"\"},\"caxis\":{\"gridcolor\":\"white\",\"linecolor\":\"white\",\"ticks\":\"\"}},\"coloraxis\":{\"colorbar\":{\"outlinewidth\":0,\"ticks\":\"\"}},\"colorscale\":{\"sequential\":[[0.0,\"#0d0887\"],[0.1111111111111111,\"#46039f\"],[0.2222222222222222,\"#7201a8\"],[0.3333333333333333,\"#9c179e\"],[0.4444444444444444,\"#bd3786\"],[0.5555555555555556,\"#d8576b\"],[0.6666666666666666,\"#ed7953\"],[0.7777777777777778,\"#fb9f3a\"],[0.8888888888888888,\"#fdca26\"],[1.0,\"#f0f921\"]],\"sequentialminus\":[[0.0,\"#0d0887\"],[0.1111111111111111,\"#46039f\"],[0.2222222222222222,\"#7201a8\"],[0.3333333333333333,\"#9c179e\"],[0.4444444444444444,\"#bd3786\"],[0.5555555555555556,\"#d8576b\"],[0.6666666666666666,\"#ed7953\"],[0.7777777777777778,\"#fb9f3a\"],[0.8888888888888888,\"#fdca26\"],[1.0,\"#f0f921\"]],\"diverging\":[[0,\"#8e0152\"],[0.1,\"#c51b7d\"],[0.2,\"#de77ae\"],[0.3,\"#f1b6da\"],[0.4,\"#fde0ef\"],[0.5,\"#f7f7f7\"],[0.6,\"#e6f5d0\"],[0.7,\"#b8e186\"],[0.8,\"#7fbc41\"],[0.9,\"#4d9221\"],[1,\"#276419\"]]},\"xaxis\":{\"gridcolor\":\"white\",\"linecolor\":\"white\",\"ticks\":\"\",\"title\":{\"standoff\":15},\"zerolinecolor\":\"white\",\"automargin\":true,\"zerolinewidth\":2},\"yaxis\":{\"gridcolor\":\"white\",\"linecolor\":\"white\",\"ticks\":\"\",\"title\":{\"standoff\":15},\"zerolinecolor\":\"white\",\"automargin\":true,\"zerolinewidth\":2},\"scene\":{\"xaxis\":{\"backgroundcolor\":\"#E5ECF6\",\"gridcolor\":\"white\",\"linecolor\":\"white\",\"showbackground\":true,\"ticks\":\"\",\"zerolinecolor\":\"white\",\"gridwidth\":2},\"yaxis\":{\"backgroundcolor\":\"#E5ECF6\",\"gridcolor\":\"white\",\"linecolor\":\"white\",\"showbackground\":true,\"ticks\":\"\",\"zerolinecolor\":\"white\",\"gridwidth\":2},\"zaxis\":{\"backgroundcolor\":\"#E5ECF6\",\"gridcolor\":\"white\",\"linecolor\":\"white\",\"showbackground\":true,\"ticks\":\"\",\"zerolinecolor\":\"white\",\"gridwidth\":2}},\"shapedefaults\":{\"line\":{\"color\":\"#2a3f5f\"}},\"annotationdefaults\":{\"arrowcolor\":\"#2a3f5f\",\"arrowhead\":0,\"arrowwidth\":1},\"geo\":{\"bgcolor\":\"white\",\"landcolor\":\"#E5ECF6\",\"subunitcolor\":\"white\",\"showland\":true,\"showlakes\":true,\"lakecolor\":\"white\"},\"title\":{\"x\":0.05},\"mapbox\":{\"style\":\"light\"}}},\"title\":{\"text\":\"MSE loss landscape\"},\"scene\":{\"xaxis\":{\"title\":{\"text\":\"a\"}},\"yaxis\":{\"title\":{\"text\":\"b\"}},\"zaxis\":{\"title\":{\"text\":\"loss\"}}}},                        {\"responsive\": true}                    ).then(function(){\n",
              "                            \n",
              "var gd = document.getElementById('cb7d59c2-d026-4548-917e-98ed40a8a9ff');\n",
              "var x = new MutationObserver(function (mutations, observer) {{\n",
              "        var display = window.getComputedStyle(gd).display;\n",
              "        if (!display || display === 'none') {{\n",
              "            console.log([gd, 'removed!']);\n",
              "            Plotly.purge(gd);\n",
              "            observer.disconnect();\n",
              "        }}\n",
              "}});\n",
              "\n",
              "// Listen for the removal of the full notebook cells\n",
              "var notebookContainer = gd.closest('#notebook-container');\n",
              "if (notebookContainer) {{\n",
              "    x.observe(notebookContainer, {childList: true});\n",
              "}}\n",
              "\n",
              "// Listen for the clearing of the current output cell\n",
              "var outputEl = gd.closest('.output');\n",
              "if (outputEl) {{\n",
              "    x.observe(outputEl, {childList: true});\n",
              "}}\n",
              "\n",
              "                        })                };                            </script>        </div>\n",
              "</body>\n",
              "</html>"
            ]
          },
          "metadata": {}
        }
      ]
    },
    {
      "cell_type": "markdown",
      "metadata": {
        "id": "jZy5qkSz6_2S"
      },
      "source": [
        "Look at the [convexity](https://en.wikipedia.org/wiki/Convex_function) of the MSE loss. Can you do the linear regression by sight hovering the mouse over it?\n",
        "\n",
        ">**EXERCISE** Visualize the **loss landscape** of other loss choices, such as the $L_1$ norm of the residual vector ($\\|f_\\theta(\\mathbf{x}) - \\mathbf{x}\\|_1)$ (absolute error) or the $L_{50}$ norm. Are these still convex?  "
      ]
    },
    {
      "cell_type": "code",
      "metadata": {
        "id": "DhhE2MtUi3g_",
        "colab": {
          "base_uri": "https://localhost:8080/",
          "height": 280
        },
        "outputId": "bb3e8721-7598-444f-b625-431d80a085ed"
      },
      "source": [
        "# ✏️ your code here"
      ],
      "execution_count": 63,
      "outputs": [
        {
          "output_type": "error",
          "ename": "AttributeError",
          "evalue": "'numpy.ndarray' object has no attribute 'layout'",
          "traceback": [
            "\u001b[0;31m---------------------------------------------------------------------------\u001b[0m",
            "\u001b[0;31mAttributeError\u001b[0m                            Traceback (most recent call last)",
            "\u001b[0;32m<ipython-input-63-50835e91c85a>\u001b[0m in \u001b[0;36m<cell line: 0>\u001b[0;34m()\u001b[0m\n\u001b[1;32m      1\u001b[0m \u001b[0;31m# ✏️ your code here\u001b[0m\u001b[0;34m\u001b[0m\u001b[0;34m\u001b[0m\u001b[0m\n\u001b[0;32m----> 2\u001b[0;31m \u001b[0mL\u001b[0m\u001b[0;34m=\u001b[0m\u001b[0mtorch\u001b[0m\u001b[0;34m.\u001b[0m\u001b[0mnorm\u001b[0m\u001b[0;34m(\u001b[0m\u001b[0mr\u001b[0m\u001b[0;34m,\u001b[0m\u001b[0mp\u001b[0m\u001b[0;34m=\u001b[0m\u001b[0;36m1\u001b[0m\u001b[0;34m)\u001b[0m\u001b[0;34m\u001b[0m\u001b[0;34m\u001b[0m\u001b[0m\n\u001b[0m",
            "\u001b[0;32m/usr/local/lib/python3.11/dist-packages/torch/functional.py\u001b[0m in \u001b[0;36mnorm\u001b[0;34m(input, p, dim, keepdim, out, dtype)\u001b[0m\n\u001b[1;32m   1784\u001b[0m \u001b[0;34m\u001b[0m\u001b[0m\n\u001b[1;32m   1785\u001b[0m     \u001b[0;31m# We don't do this for MPS or sparse tensors\u001b[0m\u001b[0;34m\u001b[0m\u001b[0;34m\u001b[0m\u001b[0m\n\u001b[0;32m-> 1786\u001b[0;31m     if input.layout == torch.strided and input.device.type in (\n\u001b[0m\u001b[1;32m   1787\u001b[0m         \u001b[0;34m\"cpu\"\u001b[0m\u001b[0;34m,\u001b[0m\u001b[0;34m\u001b[0m\u001b[0;34m\u001b[0m\u001b[0m\n\u001b[1;32m   1788\u001b[0m         \u001b[0;34m\"cuda\"\u001b[0m\u001b[0;34m,\u001b[0m\u001b[0;34m\u001b[0m\u001b[0;34m\u001b[0m\u001b[0m\n",
            "\u001b[0;31mAttributeError\u001b[0m: 'numpy.ndarray' object has no attribute 'layout'"
          ]
        }
      ]
    },
    {
      "cell_type": "code",
      "metadata": {
        "id": "IrlLWxcm0tb9",
        "colab": {
          "base_uri": "https://localhost:8080/",
          "height": 542
        },
        "outputId": "a02959a1-cbee-4a7c-d5c4-325e5d1f1481"
      },
      "source": [
        "# @title 👀 Solution (see how we did the slider!) { run: \"auto\" }\n",
        "\n",
        "p = 37  #@param {type:\"slider\", min:1, max:50, step:1}\n",
        "\n",
        "predictions = a_range[:, None, None] * x[None, None, :]  + b_range[None, :, None]\n",
        "residuals = np.abs(t[None, None, :] - predictions) ** p\n",
        "losses = (residuals.sum(-1) ** (1/p)) / predictions.shape[-1]\n",
        "\n",
        "\n",
        "fig = go.Figure(data=[go.Surface(z=losses, x=a_range, y=b_range)])\n",
        "fig.update_traces(contours_z=dict(show=True, usecolormap=True,\n",
        "                                  highlightcolor=\"limegreen\", project_z=True))\n",
        "fig.update_layout(\n",
        "    title=f\"L{p} landscape\",\n",
        "    scene = dict(\n",
        "                xaxis_title='a',\n",
        "                yaxis_title='b',\n",
        "                zaxis_title='loss')\n",
        ")\n",
        "fig.show()"
      ],
      "execution_count": 62,
      "outputs": [
        {
          "output_type": "display_data",
          "data": {
            "text/html": [
              "<html>\n",
              "<head><meta charset=\"utf-8\" /></head>\n",
              "<body>\n",
              "    <div>            <script src=\"https://cdnjs.cloudflare.com/ajax/libs/mathjax/2.7.5/MathJax.js?config=TeX-AMS-MML_SVG\"></script><script type=\"text/javascript\">if (window.MathJax && window.MathJax.Hub && window.MathJax.Hub.Config) {window.MathJax.Hub.Config({SVG: {font: \"STIX-Web\"}});}</script>                <script type=\"text/javascript\">window.PlotlyConfig = {MathJaxConfig: 'local'};</script>\n",
              "        <script charset=\"utf-8\" src=\"https://cdn.plot.ly/plotly-2.35.2.min.js\"></script>                <div id=\"ed2ab177-e275-44fc-ae60-9190fee9673d\" class=\"plotly-graph-div\" style=\"height:525px; width:100%;\"></div>            <script type=\"text/javascript\">                                    window.PLOTLYENV=window.PLOTLYENV || {};                                    if (document.getElementById(\"ed2ab177-e275-44fc-ae60-9190fee9673d\")) {                    Plotly.newPlot(                        \"ed2ab177-e275-44fc-ae60-9190fee9673d\",                        [{\"x\":[-5.0,-4.8,-4.6,-4.4,-4.2,-4.0,-3.8,-3.5999999999999996,-3.4,-3.2,-3.0,-2.8,-2.5999999999999996,-2.4,-2.1999999999999997,-2.0,-1.7999999999999998,-1.5999999999999996,-1.4,-1.1999999999999997,-1.0,-0.7999999999999998,-0.5999999999999996,-0.39999999999999947,-0.1999999999999993,0.0,0.20000000000000018,0.40000000000000036,0.6000000000000005,0.8000000000000007,1.0,1.2000000000000002,1.4000000000000004,1.6000000000000005,1.8000000000000007,2.0,2.2,2.4000000000000004,2.6000000000000005,2.8000000000000007,3.0,3.200000000000001,3.4000000000000004,3.5999999999999996,3.8000000000000007,4.0,4.200000000000001,4.4,4.600000000000001,4.800000000000001,5.0],\"y\":[-5.0,-4.8,-4.6,-4.4,-4.2,-4.0,-3.8,-3.5999999999999996,-3.4,-3.2,-3.0,-2.8,-2.5999999999999996,-2.4,-2.1999999999999997,-2.0,-1.7999999999999998,-1.5999999999999996,-1.4,-1.1999999999999997,-1.0,-0.7999999999999998,-0.5999999999999996,-0.39999999999999947,-0.1999999999999993,0.0,0.20000000000000018,0.40000000000000036,0.6000000000000005,0.8000000000000007,1.0,1.2000000000000002,1.4000000000000004,1.6000000000000005,1.8000000000000007,2.0,2.2,2.4000000000000004,2.6000000000000005,2.8000000000000007,3.0,3.200000000000001,3.4000000000000004,3.5999999999999996,3.8000000000000007,4.0,4.200000000000001,4.4,4.600000000000001,4.800000000000001,5.0],\"z\":[[0.8978984994814218,0.8778656542015421,0.8578372567004763,0.8378129008636528,0.8177921914580171,0.7977747465163676,0.7777601996358192,0.7577482021480824,0.7377384251166029,0.7177305611138091,0.6977243257310654,0.6777194587748382,0.6577157251054558,0.637712915080133,0.6177108445700632,0.5977093545326781,0.5777083101348126,0.5577075994403766,0.5377071316967336,0.5177068352762522,0.49770665535183295,0.4777065514052798,0.4577064946823695,0.4377064657152879,0.4177064520289161,0.39770644613054273,0.37770644385312646,0.357706443083223,0.3377064428620617,0.3177064428101834,0.2977064428007691,0.27770644279954343,0.25770644279944077,0.23770644279958,0.21770644371602868,0.1977102337521997,0.184089009129291,0.20252353261393458,0.22252300897514288,0.242523008874261,0.26252300898720327,0.2825230095413472,0.3025230116078036,0.322523017854455,0.34252303387827243,0.3625230699453691,0.382523142981864,0.4025232786020979,0.4225235129583308,0.4425238942361803,0.4625244836831743],[0.8797677515584665,0.85972623526094,0.8396901690002112,0.8196590846602089,0.7996325223105942,0.7796100332505327,0.7595911830169413,0.7395755543054591,0.7195627497474699,0.6995523944823134,0.6795441384607104,0.6595376584139468,0.6395326594240547,0.6195288760338026,0.5995260728424556,0.5795240445446586,0.5595226153860171,0.539521638030241,0.5195209918589152,0.49952058075520017,0.47952033045527004,0.4595201855832781,0.439520106513198,0.4195200662193327,0.39952004728168766,0.37952003919872934,0.35952003612660244,0.33952003511292483,0.3195200348321006,0.29952003476964817,0.27952003475916615,0.2595200347579493,0.23952003475786351,0.21952003476097004,0.19952006007321704,0.17966105657864856,0.18324018757523824,0.20321078425976163,0.2232107792823704,0.2432107793086137,0.26321077948528937,0.2832107803051953,0.3032107832307405,0.3232107917632761,0.3432108130128871,0.36321085967051087,0.3832109521826247,0.403211120885086,0.4232114078688968,0.44321186840858023,0.4632125718601034],[0.8616599247167354,0.8416066116812804,0.8215600306895198,0.8015196470136022,0.7814849291331646,0.7614553525204001,0.7414304034817786,0.7214095829961982,0.7013924104812513,0.68137842741156,0.6613672007061822,0.6413583257965381,0.6213514292828591,0.6013461710867767,0.581342246011383,0.5613393846291012,0.5413373534331537,0.5213359542113222,0.5013350226316255,0.48133442606832616,0.4613340607419715,0.4413338482961013,0.42133373198101126,0.4013336726548767,0.3813336448364974,0.3613336330436263,0.34133362862008304,0.32133362719250036,0.3013336268106164,0.2813336267301121,0.2613336267176448,0.2413336267163621,0.2213336267162908,0.20133362680223757,0.18133456996130565,0.16587416314077885,0.18389884215075386,0.20389854972687332,0.22389854970631284,0.2438985497508584,0.263898550024884,0.2838985512298862,0.3038985553489418,0.32389856695043734,0.3438985950205494,0.3638986551768943,0.3838987720191264,0.40389898134714597,0.4238993320163993,0.44389988727724683,0.4639007255343027],[0.8435865097655801,0.8235169652189986,0.8034557877269428,0.7834023769089014,0.7633561272816914,0.7433164327764767,0.7232826914655044,0.7032543104342663,0.6832307107225343,0.6632113322451764,0.6431956385911796,0.6231831215875088,0.6031733055041129,0.5831657507686561,0.5631600570558102,0.5431558656179252,0.523152860733591,0.5031507701701617,0.4831493645876983,0.4631484558564815,0.44314789431847934,0.4231475650932362,0.4031473836060185,0.3831472905924558,0.3631472468972544,0.343147228419579,0.3231472215487946,0.30314721937055183,0.2831472188056621,0.26314721869244295,0.24314721867625222,0.22314721867478152,0.20314721867482816,0.18314722186176427,0.16319747911990465,0.16461169395020406,0.18458632168813388,0.20458632012436007,0.22458632013251806,0.244586320205801,0.2645863206273609,0.28458632238675813,0.3045863281550895,0.32458634385855956,0.3445863807974308,0.3645864581071036,0.384586605274794,0.40458686442572417,0.4245872921581329,0.44458796080344287,0.46458895908589604],[0.8255656483430673,0.805473553404538,0.7853918899271568,0.765320004281321,0.7452572248776445,0.7252028671939688,0.7051562392454505,0.6851166474403637,0.6650834027471313,0.645055827079569,0.6250332597876678,0.6050150641208203,0.5850006335099204,0.5649893974952697,0.5449808271102063,0.5249744395179831,0.5049698016944271,0.48496653295486664,0.46496430614479073,0.4449628473540881,0.42496193407839256,0.4049613918402707,0.384961089396591,0.36496093278960223,0.3449608586332081,0.32496082713851676,0.3049608154416956,0.28496081176901067,0.26496081083775874,0.24496081065886832,0.22496081063511184,0.20496081063320867,0.18496081063752795,0.16496097926851336,0.14786476298443185,0.1652742341120381,0.18527409054983435,0.20527409054711682,0.22527409056168474,0.2452740906810257,0.26527409132441815,0.28527409387689645,0.30527410191262067,0.32527412307644166,0.34527417151360923,0.365274270588701,0.38527445557561235,0.40527477603300915,0.4252752976712916,0.44527610362704595,0.46527729515787575],[0.8076263614040116,0.7875027247725777,0.7673920698583744,0.7472937231566383,0.7272069748398626,0.7071310836513768,0.6870652825604899,0.667008785151685,0.6469607926986308,0.6269205018491003,0.6068871128191976,0.5868598379645645,0.566837910562699,0.5468205936046758,0.5268071883574381,0.5067970424212987,0.4867895569742552,0.4667841928696734,0.4467804752431027,0.4267779962957152,0.4067764159661736,0.3867754602902643,0.36677491738738305,0.3467746312078924,0.32677449341625947,0.3067744340428805,0.28677441175864254,0.2667744047345923,0.24677440296670508,0.22677440263598125,0.20677440259459656,0.18677440259165184,0.16677440282365805,0.14678822220856902,0.14598325055276373,0.16596186133550878,0.18596186096847572,0.20596186097040228,0.22596186099591192,0.24596186118835797,0.265961862162782,0.2859618658432638,0.305961876984204,0.3259619054072186,0.34596196878701857,0.3659620956862529,0.3859623285118726,0.4059627261262144,0.42596336595003903,0.4459643455004526,0.4659657833886596],[0.7898155084640088,0.7696476758526822,0.749495844002774,0.729359387243784,0.7092376201908761,0.6891298011505608,0.6690351366399436,0.648952787062814,0.6288818735631883,0.6088214860491654,0.5887706923465548,0.5687285484020541,0.5486941094091139,0.5286664416754053,0.5086446349885944,0.48862781516714904,0.46861515640651585,0.4486058929515929,0.4285993295505338,0.4085948500835867,0.3885919237308014,0.36859010806733916,0.3485890485833775,0.3285884743461091,0.3085881898726696,0.28858806375540513,0.2685880151140875,0.2485879994143279,0.22858799539903477,0.20858799464742722,0.188587994556093,0.1685879945502261,0.1485880133812522,0.13016539693933632,0.14664969022182733,0.16664963139103045,0.18664963139085794,0.20664963139457418,0.22664963143869313,0.2466496317461692,0.2666496332121485,0.28664963849755326,0.30664965392607285,0.3266496921869121,0.3466497756461727,0.3666499399525943,0.38665023760849165,0.40665074123515826,0.42665154635204,0.44665277357811206,0.46665457023466816],[0.7722089304512115,0.7519795822540469,0.7317695261242452,0.7115782992727536,0.6914053552301125,0.6712500635213149,0.6511117106416725,0.6309895025026312,0.6108825685056959,0.5907899673844499,0.5707106949277299,0.550643693659725,0.5305878645030571,0.510542080386325,0.4905052016751732,0.4704760932024916,0.4504536425458491,0.43043677904706257,0.4104244928914131,0.39041585337009777,0.3704100252569684,0.3504062820723733,0.33040401493512805,0.3104027357898429,0.2904020741230718,0.27040176691538526,0.2504016425233283,0.23040160032577975,0.21040158900468878,0.1904015867994986,0.1704015865262028,0.1504015865163017,0.13040421222146567,0.1273548759741046,0.14733740186938668,0.1673374018130217,0.18733740181333655,0.20733740182038582,0.22733740189601748,0.2473374023863733,0.26733740460624594,0.28733741232064114,0.30733743427045157,0.32733748776994315,0.3473376031665683,0.36733782878625876,0.38733823592381333,0.40733892346803247,0.4273400218423583,0.4473416960576649,0.4673441477856858],[0.7549281525349494,0.7346149417693054,0.7143240426356838,0.6940553135165215,0.6738085166872929,0.653583311797728,0.6333792502380569,0.6131957706980898,0.5930321962568378,0.5728877333646825,0.5527614730959766,0.5326523950538807,0.5125593742967942,0.4924811916212404,0.47241654747239437,0.4523640796515898,0.4323223848394148,0.4122900437414228,0.3922656493795839,0.372247837689049,0.3522353191395881,0.33222690960736856,0.31222155823140346,0.29221836960173675,0.2722166174978486,0.2522157477232144,0.23221536856378378,0.21221522914678834,0.19221518838126636,0.17221517971184305,0.15221517854688466,0.13221517950639555,0.11288085372147312,0.12802519072175286,0.14802517223533335,0.16802517223533361,0.18802517223602933,0.2080251722499514,0.22802517238982056,0.24802517326304696,0.2680251771326879,0.2880251904164518,0.3080252279228372,0.32802531880708435,0.3480255137710586,0.368025892726611,0.38802657207228486,0.40802771086445955,0.4280295154055064,0.44803224203274705,0.46803619811237995],[0.7381618819449518,0.7177392739833675,0.6973406830623182,0.6769664307354135,0.6566167612215038,0.6362918288968678,0.6159916852409577,0.595716265497493,0.5754653754023603,0.5552386784316865,0.535035684135566,0.5148557382413079,0.4946980153283323,0.47456151498523036,0.4544450624441409,0.4343473147294836,0.4142667733324722,0.39420180429896906,0.3741506663604996,0.35411154730935573,0.33408260818653723,0.3140620340004033,0.29404808864235205,0.2740391704847979,0.2540338639775019,0.234030981618556,0.21402959025563958,0.19402901614603024,0.17402882511308765,0.15402877829278183,0.1340287709986478,0.11402905539407766,0.10872659914159877,0.128712942662126,0.1487129426576264,0.16871294265772754,0.18871294266211716,0.2087129427342067,0.22871294335664127,0.24871294679079486,0.2687129604954761,0.2887130034560024,0.3087131154418866,0.32871336823278885,0.34871387724406494,0.3687148119333445,0.3887164037526488,0.4087189509793786,0.4287228203025065,0.44872844544184465,0.4687363233098167],[0.7221839146382012,0.7016298215213154,0.6810987929687178,0.6605915906636296,0.6401089577507866,0.6196516073268498,0.5992202088306183,0.5788153721659597,0.5584376294466086,0.5380874143422069,0.5177650391383579,0.4974706698092132,0.47720429964693656,0.4569657223022515,0.4367545054609837,0.4165699667986206,0.39641115428773666,0.3762768333304346,0.3561654834754091,0.336075307561829,0.3160042559046725,0.29595006750445274,0.27591032917874825,0.25588255200358,0.2358642626410762,0.21585310516589215,0.19584694686232804,0.17584397862193007,0.15584279590797614,0.1358424393369435,0.11584236939202223,0.09603279024890007,0.10940071691533353,0.12940071307993165,0.1494007130802562,0.16940071309476556,0.1894007133249841,0.20940071520230438,0.2294007249259291,0.24940076138694453,0.26940086916907335,0.2894011353034348,0.30940170695317765,0.3294028069191731,0.3494047446128853,0.3694079213520388,0.38941282997488597,0.4094200495639216,0.42943023646838585,0.44944411289278163,0.46946245419257765],[0.7073432168596114,0.6866519947206797,0.6659796842931492,0.6453271702393877,0.6246953784702807,0.604085274449158,0.5834978600841059,0.5629341688034619,0.5423952583328229,0.5218822006147805,0.5013960682431732,0.4809379167349116,0.4605087619533121,0.44010955205295516,0.4197411334693394,0.39940421076310434,0.37909930058274993,0.3588266806541342,0.3385863355348485,0.3183779018361898,0.2982006166024692,0.27805327337256724,0.2579341909335872,0.2378411997920963,0.21777165108835922,0.197722452760503,0.17769013970164055,0.1576709905125099,0.13766121428206773,0.11765724065862551,0.09765613790642112,0.0900984675203619,0.11008848350236149,0.13008848350441626,0.15008848360147778,0.1700884850167506,0.19008849531998515,0.210088542647849,0.23008870054593786,0.25008911896066194,0.27009005348576104,0.29009188600639046,0.31009513333770833,0.33010044388589116,0.3501085845842994,0.3701204212717314,0.3901368956507887,0.4101590014245183,0.4301877614902887,0.4502242073737136,0.47026936151050514],[0.6939897072267394,0.6731859595840575,0.6523956682870956,0.6316194578459576,0.6108579961640005,0.5901119977111084,0.5693822266944268,0.5486695001254809,0.5279746906469474,0.507298728939254,0.4866426054766972,0.4660073713460734,0.44539413778076753,0.4248040740052364,0.4042384029376952,0.38369839427575514,0.3631853545089473,0.3427006134867734,0.32224550734878654,0.30182135792439396,0.28142944916383594,0.2610710017872263,0.24074714811267567,0.22045890976810836,0.20020718099125148,0.17999271709721892,0.1598161143921067,0.13967772643875248,0.11957735907595965,0.09951341394675652,0.07951033582168354,0.09077625431728131,0.11077625394944787,0.13077625495656134,0.15077626744310563,0.17077634400932074,0.1907766429736416,0.2107775031901245,0.2307794987292094,0.25078345472749203,0.2707904247090934,0.2908016412751607,0.3108184546055389,0.3308422705225026,0.3508744956092765,0.3709164930450709,0.39096955007126055,0.4110348563256697,0.4311134914273139,0.4512064198931608,0.4713144915027633],[0.6823327024365671,0.6614704611389217,0.6406186443209314,0.6197776725954104,0.5989479936798632,0.5781300841317565,0.5573244510129726,0.5365316334228197,0.5157522038282586,0.4949867691107636,0.47423597124306394,0.45350048750760674,0.43278103017323827,0.412078345556659,0.3913932124054354,0.37072643953466444,0.3500788625962948,0.3294513396927599,0.30884474514703436,0.28825995991542774,0.2676978555893518,0.24715926631634963,0.22664493898829102,0.20615544695569663,0.18569104843392045,0.16525147465594045,0.14483566262951503,0.12444154057654769,0.10406618928963365,0.08370708481086993,0.07148645236680357,0.09146402497103742,0.11146404396422036,0.13146421747681097,0.1514650234429969,0.17146749791338267,0.1914732950624786,0.21148457327783565,0.23150378181478812,0.25153343112385984,0.27157590027742196,0.2916333032850555,0.31170741487406467,0.33179964560283015,0.3519110526707805,0.37204237332029255,0.3921940700750405,0.41236637989624303,0.4325593619703555,0.4527729409802956,0.4730069442984842],[0.672322712165792,0.6514622374646952,0.6306131983219984,0.6097761831420868,0.5889518333620967,0.5681408493227211,0.5473439968326607,0.5265621145540582,0.5057961223856137,0.4850470310909879,0.464315953519067,0.4436041178953956,0.42291288383246173,0.4022437619018125,0.38159843780104147,0.3609788022542827,0.3403869876379898,0.3198254115980724,0.29929682602595786,0.2788043656761676,0.25835158284027004,0.2379424406346434,0.2175812153316464,0.19727222753571058,0.17701929030984467,0.1568247559120795,0.13668812187225948,0.11660441856305256,0.09656312541313457,0.07654904595203507,0.07215208552339898,0.09215268871780805,0.1121570417393359,0.13216987218185192,0.15219726275460108,0.17224508769475075,0.19231812677677942,0.21241969598273974,0.232551651723461,0.2527146004634832,0.27290818685823226,0.29313138315368564,0.31338274112194686,0.33366059254135394,0.35396319806333115,0.37428885089746655,0.3946359440221479,0.4150030095937652,0.4353887381316605,0.45579198361552853,0.4762117592185505],[0.663674942271901,0.6428562885162185,0.6220520645778524,0.6012631140611777,0.5804903520378554,0.5597347702442141,0.5389974420902285,0.5182795272871985,0.49758227585929493,0.47690703126071626,0.45625523227604114,0.43562841333498215,0.4150282028171671,0.39445631883954213,0.37391456186966365,0.35340480321943624,0.332928967921092,0.3124890094780266,0.29208687225719665,0.2717244345702359,0.25140342165922486,0.23112527332473828,0.2108909476699265,0.1907006448010993,0.1705534499230907,0.150446932191106,0.13037679218024917,0.11033670164531886,0.09031850308920839,0.07031310592001322,0.07299141712894427,0.09317556095678861,0.11342256853326496,0.13372221531092726,0.1540657357071617,0.17444573038628536,0.1948560200779521,0.21529150240796074,0.23574800068232343,0.2562221158766223,0.2767110942885354,0.2972127163007177,0.3177252058491632,0.33824715737916333,0.3587774764752142,0.3793153308307443,0.39986010901483166,0.4204113852304097,0.4409688888240509,0.4615324776997004,0.48210211504527944],[0.6560147303249889,0.6352505783541524,0.614503194505138,0.5937734687888283,0.5730623416088687,0.5523708021314858,0.5316998850551392,0.5110506654386993,0.4904242512538331,0.4698217733744385,0.44924437282180785,0.42869318526983136,0.4081693231008126,0.3876738557040373,0.36720778922426667,0.3467720475607429,0.32636745699567177,0.3059947372074415,0.2856545012717519,0.2653472660567159,0.2450734714295228,0.22483350095208526,0.2046276872289346,0.18445627109708246,0.16431926582409323,0.14421615845081415,0.12414537151119356,0.10410345244133183,0.08408420274880032,0.06446554615714825,0.08178426522854433,0.10192692692184943,0.122149819150534,0.14244339758398078,0.1627946662761255,0.1831915420762807,0.20362412878282182,0.2240847230053407,0.244567443120018,0.26506782213435004,0.2855824670115322,0.30610879908228017,0.3266448631509248,0.34718918812375,0.36774068426460294,0.388298565925589,0.4088622919636122,0.4294315185986187,0.450006061244313,0.4705858630232716,0.49117096844248104],[0.6490125611475958,0.6282974982120086,0.6075999629811996,0.5869207123505527,0.566260522642262,0.5456201840563478,0.5250004935990871,0.5044022464019178,0.4838262254462623,0.4632731898681864,0.4427438622450663,0.4222389155758557,0.4017589610618247,0.3813045382667476,0.36087610975157075,0.340474062767749,0.32009872092843183,0.299750368750836,0.2794292912630683,0.2591358290423081,0.23887044546615832,0.21863379672491529,0.19842678491386295,0.17825055799889136,0.15810639350197472,0.1379953599764543,0.11791759715839593,0.09787106505161637,0.07784997984159961,0.07540690644313719,0.09545509958717895,0.11554424194258509,0.13567673711996492,0.15585145040686982,0.17606571045181454,0.19631628539164717,0.21659981752105,0.23691303371677036,0.2572528568974529,0.2776164663418004,0.29800132760573567,0.31840520282972723,0.33882614785853615,0.35926250034930407,0.3797128617999996,0.4001760756972028,0.42065120349641305,0.4411374997748953,0.46163438758051234,0.48214143472424115,0.50265833152867],[0.6424368221380214,0.6217587287695793,0.6010976885336431,0.5804542822641101,0.5598290929664796,0.5392227009597552,0.5186356782823573,0.498068582452652,0.4775219497683792,0.4569962884538493,0.43649207212271646,0.4160097342188145,0.3955496643261173,0.3751122074955194,0.35469766801116287,0.33430631930079985,0.3139384219733406,0.2935942522368451,0.2732741431982487,0.2529785416812148,0.23270808282053124,0.21246368247473205,0.1922466398393366,0.1720587213673878,0.15190214750657638,0.13177930956539952,0.1116919183147221,0.09163926376007718,0.07207002612799432,0.08911159605619523,0.10917719194701254,0.12928160083088572,0.14942338723834675,0.1695988031059063,0.18980370364924198,0.21003438453979079,0.2302878109694823,0.25056158003699813,0.2708538000539124,0.2911629676646776,0.3114878699625724,0.3318275148173313,0.35218108402570725,0.372547902284235,0.3929274160422557,0.41331917800730666,0.4337228346303421,0.4541381150560163,0.47456482078818524,0.49500281577861793,0.5154520168928082],[0.6361458928145771,0.6154925862404406,0.5948552185797966,0.574234226682907,0.5536300465165829,0.5330431108438353,0.5124738467591283,0.4919226731549434,0.4713899982255194,0.45087621715002335,0.4303817101428865,0.409906841120125,0.38945195732094035,0.36901739037071424,0.348603459523653,0.3282104782635621,0.30783876619727946,0.2874886694189689,0.26716059442483414,0.24685506321714384,0.2265727998305072,0.2063148588651841,0.1860827988065715,0.16587887440073304,0.1457061517525345,0.1255683130175036,0.10546872282323265,0.08540824862626686,0.0827783829989526,0.10282445969893703,0.12290680431653951,0.14302607712667212,0.16317964944169208,0.18336346326367026,0.2035732913871091,0.22380531971455708,0.24405635043540283,0.26432381804237925,0.28460572523122163,0.30490055369638763,0.32520717551543177,0.345524775245634,0.3658527852111462,0.3861908331448471,0.40653870023413746,0.42689628750920805,0.44726358878494255,0.46764066873072785,0.48802764497647316,0.5084246734318848,0.5288319361989733],[0.6300609437365415,0.6094225254110938,0.5887986898376185,0.5681897707805466,0.5475961045593116,0.5270180301267002,0.506455889294609,0.48591002710595826,0.4653807923301373,0.4448685380336789,0.42437362215463426,0.40389640800352755,0.38343726465527384,0.3629965673371476,0.34257469824373926,0.3221720488533843,0.301789025970736,0.281426065616052,0.2610836617577623,0.24076242079365776,0.22046315704410194,0.20018704708203378,0.1799358555065917,0.15971221839959696,0.13951989740234005,0.11936375636351715,0.09924892569738651,0.07969729309083501,0.09648249483514064,0.11654489620598682,0.13664274416489544,0.15677525069394055,0.17693929740519732,0.19713097033383573,0.21734637622535788,0.23758200832408077,0.25783487369617786,0.27810250639307277,0.2983829307614617,0.31867460601411923,0.3389763664814735,0.35928736396116673,0.37960701483557047,0.3999349528883421,0.4202709879441541,0.4406150700805741,0.4609672589893449,0.4813276979924844,0.5016965921991764,0.5220741902994521,0.5424607695181095],[0.6241414733375318,0.6035105435483336,0.5828927747605457,0.5622884207725527,0.5416977418046524,0.5211210063650118,0.5005584934790819,0.48001049525367384,0.4594773197055474,0.4389592937350456,0.4184567660754513,0.39797011001456567,0.377499725697217,0.35704604192905276,0.3366095176991297,0.3161906442533033,0.2957899496720756,0.27540800978755076,0.25504547220605045,0.23470310442344297,0.21438188245277084,0.19408314199392412,0.17380881641983076,0.15356177483903327,0.13334622323625545,0.11316797749951066,0.09303409496536494,0.0901502237515326,0.11019433291957563,0.13027217023923704,0.15038411616313999,0.17052835210776557,0.19070161159938057,0.21090023392186125,0.23112070387975447,0.25135988627241396,0.27161510112827547,0.2918841231701205,0.31216514850062005,0.33245674922288887,0.3527578254976539,0.37306755920894946,0.39338537097347814,0.41371088113834215,0.43404387492191576,0.4543842716227317,0.4747320977038013,0.495087463494177,0.5154505432120196,0.5358215579945415,0.5562007616155342],[0.6183689336737684,0.5977401538806756,0.577123100173864,0.5565179510408715,0.5359248929032341,0.5153441232974025,0.49477585471111735,0.4742203190953111,0.45367777303522805,0.43314850351757955,0.41263283417721447,0.39213113185714465,0.37164381329044277,0.3511713517484271,0.33071428365801603,0.31027321556783516,0.28984883257879884,0.26944191064912193,0.24905333730872595,0.22868414865922518,0.2083355956935203,0.1880092609423828,0.1677072585547474,0.1474325662671833,0.12718954010218522,0.10698457341731174,0.08739248842597604,0.10385344868938691,0.1239131766054995,0.14400548599756244,0.16413013820049244,0.1842847764528362,0.20446617496964903,0.22467096603039854,0.24489600543696505,0.26513852689859535,0.2853961841739797,0.30566703805174283,0.32594951914120596,0.34624238253238826,0.36654466219563386,0.3868556286222177,0.40717475096493755,0.4275016638570707,0.4478361386210351,0.4681780584177385,0.488527396867665,0.5088841997100177,0.5292485691165504,0.5496206503254736,0.5700006203029359],[0.6127371812189151,0.5921068355645048,0.5714867824446006,0.5508771193849297,0.5302779501898547,0.5096893890215602,0.48911156548212054,0.4685446308169796,0.4479887653441139,0.42744418718969757,0.40691116237927627,0.3863900162972174,0.3658811464954637,0.3453850368213761,0.32490227286830015,0.30443355886422363,0.2839797363419049,0.26354180532331817,0.24312094938817216,0.22271856716250288,0.20233631541696262,0.18197617588356518,0.16164057566615253,0.14133263141619332,0.12105665885795888,0.10081930722059962,0.09752280943440564,0.1175644211488099,0.13763844007345774,0.1577440824961388,0.17788014474013006,0.19804403977734428,0.21823269764516437,0.2384430744752201,0.2586724027955921,0.27891828949085584,0.2991787308369839,0.31945208644013834,0.33973703610654704,0.3600325327148239,0.38033775760045196,0.4006520811759586,0.4209750294559663,0.44130625615075453,0.4616455195892633,0.48199266365001747,0.5023476019460288,0.5227103046316944,0.5430807873272873,0.5634591017684822,0.5838453278781294],[0.6072472912552034,0.5866130287000093,0.5659876516520834,0.5453711694460297,0.524763592853885,0.504164938462205,0.48357523432334454,0.46299452710185607,0.4424228909557938,0.42186043841126464,0.4013073335083529,0.38076380752037425,0.3602301775800025,0.3397068685875947,0.3191944388242375,0.29869360972005954,0.27820530017183726,0.2577306655331889,0.23727114072775324,0.21682848575016603,0.19640483060116448,0.176002717926453,0.15562515295288407,0.1352757107117005,0.11495885911499715,0.09525250866919342,0.11122444578651827,0.13128190400818618,0.151369464816289,0.17148727749556233,0.19163359822824835,0.2118058210236601,0.2320011287628821,0.25221684838551,0.2724506136273418,0.29270041481789166,0.31296458864380317,0.3332417803857725,0.3535308972554593,0.37383106260574095,0.3941415754429919,0.41446187664251183,0.43479152170124424,0.4551301591691147,0.47547751369704533,0.4958333726851295,0.5161975756658341,0.5365700057357026,0.5569505825158564,0.5773392562608014,0.5977360028434192],[0.6019047787410259,0.5812655220555686,0.5606338258172905,0.5400096096630984,0.5193927871611633,0.4987832696543563,0.4781809714320052,0.45758581650992103,0.4369977473484886,0.4164167359007718,0.39584279746201567,0.37527600789488597,0.3547165249377906,0.334164614470741,0.3136206828098951,0.2930853163037763,0.27255932964868784,0.2520438243027986,0.2315402579454952,0.21105052479908676,0.1905770444887989,0.1701228539639309,0.14969169439324992,0.12928809093657173,0.1089177608984359,0.10489719276276055,0.12493467785771029,0.14500542681459722,0.16510561153758524,0.1852345222849099,0.20539019725222926,0.2255701965730749,0.24577206125429382,0.26599354360553373,0.2862326952358593,0.30648787628697166,0.32675772695415367,0.3470411252866391,0.3673371439665494,0.38764501190492356,0.407964082630499,0.42829380946019613,0.44863372655719813,0.46898343470794523,0.48934259068206865,0.5097108992049454,0.5300881067760084,0.5504739967596487,0.5708683853394064,0.5912711180548802,0.6116820667366094],[0.5967179850804456,0.5760739342888195,0.5554362891860937,0.5348048900670114,0.5141795624192105,0.4935601194250843,0.4729463655757101,0.4523381016617236,0.43173513146605796,0.41113727056074484,0.3905443577097732,0.3699562695084403,0.34937293905364775,0.3287943796474373,0.30822071479982005,0.28765221614062864,0.26708935132901296,0.24653284478844592,0.2259837553488846,0.20544357707858305,0.18491437326197854,0.16439895870171825,0.14390115028718936,0.12342610279597788,0.10348376516965734,0.11859547968077142,0.13865098926131839,0.15873446597618165,0.17884639203213779,0.19898564158955032,0.21915033037354123,0.23933836204449607,0.2595477208119937,0.2797765976877751,0.30002342268958804,0.32028685113835975,0.34056573219172614,0.3608590743165153,0.381166014358921,0.4014857924704941,0.42181773296494346,0.4421612302518496,0.4625157387254533,0.48288076553575127,0.5032558653461032,0.5236406363887999,0.5440347173216658,0.5644377845470646,0.5848495497762979,0.6052697577106978,0.6256981837716171],[0.5916969319429854,0.5710495843141064,0.550407771488678,0.5297712816061269,0.5091398807484053,0.4885133137904599,0.46789130598574,0.4472735654803882,0.4266597869950252,0.40604965696664114,0.3854428605031258,0.3648390905644413,0.3442380598385622,0.3236395158156439,0.30304325957302086,0.2824491687826805,0.26185722552557333,0.24126754988128957,0.22068044149399232,0.2000964344382648,0.17951637751882404,0.15894156552133154,0.1383739717682541,0.11781705093622725,0.11227804234864527,0.1323050775561404,0.1523730580955818,0.17246871922696477,0.19259197652956242,0.21274171296764294,0.23291637429401063,0.25311430744159324,0.27333392273230395,0.2935737549806573,0.31383247425747335,0.33410887559553365,0.3544018626233121,0.37471043183669556,0.3950336598774665,0.4153706941285537,0.4357207460998465,0.45608308684998955,0.47645704373413195,0.4968419979122052,0.5172373822135596,0.5376426790958886,0.5580574185476517,0.5784811758634317,0.5989135692753355,0.6193542574564594,0.6398029369302118],[0.586852290182267,0.5662044098045167,0.5455616004144742,0.5249236446073373,0.5042903009508163,0.4836613038186087,0.4630363636971399,0.44241516811778603,0.4217973834031416,0.4011826574521334,0.380570623816021,0.3599609073198835,0.3393531314373004,0.31874692749513756,0.2981419455301919,0.2775378662070031,0.25693441264094835,0.2363313603463339,0.2157285430919337,0.1951258526254953,0.17452323152300228,0.15392066099729992,0.1333181488966276,0.1130084753218549,0.12596658846031097,0.14602053715421884,0.16610101219860698,0.18620916945651494,0.2063449095520274,0.2265074234529016,0.24669555042097788,0.26690797655171083,0.2871433385538636,0.3074002769170675,0.32767746369569045,0.3479736179302998,0.36828751496915707,0.3886179925375455,0.40896395479284564,0.42932437489456277,0.44969829633433245,0.4700848331749262,0.490483169327035,0.5108925569968892,0.5313123144447662,0.5517418231962815,0.5721805248434862,0.5926279175622443,0.6130835524580078,0.6335470298357674,0.6540179954731847],[0.5821943249369672,0.5615498115242252,0.5409104226529822,0.5202759995824302,0.4996463665961989,0.4790213314599903,0.4584006865138369,0.4377842106479595,0.4171716724932054,0.39656283525796565,0.3759574637640835,0.3553553343750674,0.33475624867385834,0.3141600519474573,0.29356665781290237,0.27297608078052227,0.2523884794458199,0.2318042148721507,0.21122393269724973,0.19064868586881634,0.1700801324511941,0.1495208798697411,0.12897537257611097,0.11971879810371458,0.1396760639548022,0.1597429535437352,0.17983768876644385,0.1999614696118593,0.22011442314828863,0.24029595749027766,0.26050501332813086,0.28074024156659005,0.3010001297825701,0.3212830924164234,0.3415875344749886,0.36191189556062997,0.38225467926369266,0.40261447175644094,0.4229899525255803,0.44337989947015943,0.4637831900304824,0.4841987995782799,0.5046257979678959,0.5250633449019083,0.5455106845832061,0.5659671399927804,0.5864321070354143,0.6069050487242673,0.6273854895229561,0.6478730099249461,0.6683672413213265],[0.5777318122400852,0.5570954411670519,0.536464836376852,0.5158399717409495,0.49522082210093527,0.47460736640381035,0.4539995921362537,0.4333975015542414,0.4128011203884621,0.39221050995453843,0.3716257839338198,0.3510471315509062,0.33047484951336786,0.3099093859860428,0.28935140119133174,0.2688018511928505,0.24826210440689417,0.2277341049654887,0.20722060401206527,0.1867254900979555,0.16625426233712162,0.1458146968247869,0.12549597338273272,0.13333956961483392,0.15339491209967435,0.1734794506580267,0.19359539505497209,0.21374387500248374,0.23392477285857122,0.2541370870006627,0.27437924274164976,0.29464933609093685,0.31494531272759374,0.3352650921520659,0.3556066490383015,0.3759680630284106,0.3963475462861577,0.4167434559821279,0.43715429695816954,0.45757871826449925,0.4780155060884065,0.4984635747458232,0.5189219568157951,0.5393897930963921,0.5598663227937978,0.5803508741822923,0.6008428558612079,0.6213417486645162,0.641847098235127,0.6623585082496541,0.6828756342641127],[0.5734710083611084,0.5528480433131404,0.5322320812651762,0.5116232988836534,0.4910219009741981,0.4704281276038884,0.44984226333354443,0.42926464928099567,0.40869569898914965,0.38813591940931974,0.3675859387549766,0.3470465435609814,0.3265187280216191,0.30600375957710557,0.28550326570040657,0.2650193476486423,0.24455472690675925,0.2241129275662767,0.20369848944483895,0.18331718508183634,0.1629761645021758,0.14268394008359175,0.12780140967468098,0.1470595188805776,0.1671404273510229,0.1872568026193662,0.2074104346837188,0.22760119677984933,0.24782764182953554,0.2680875271012599,0.28837821135204916,0.3086969282729424,0.3290409602285532,0.34940773939232744,0.36979489955176137,0.39020029624365915,0.41062200766894874,0.4310583247193948,0.4515077354598002,0.47196890735434505,0.49244066916844265,0.5129219936109952,0.5334119812465776,0.5539098458880978,0.5744149014988509,0.5949265505361153,0.6154442736224857,0.6359676204145247,0.6564962015378176,0.6770296814651446,0.6975677722256884],[0.5694147993693021,0.5488105125048582,0.528214988799723,0.5076286581964854,0.48705200956544514,0.46648560124845906,0.4459300739663131,0.425386166731948,0.40485473658310955,0.3843367831455472,0.36383347924437953,0.3433462089494702,0.3228766144609977,0.30242665287941123,0.2819986626866059,0.2615954367884189,0.24122029261048689,0.22087711733429022,0.20057034412937497,0.18030477940921072,0.16008515271741294,0.13993113675454136,0.14075651504915448,0.16083806342847956,0.18097117570418628,0.20114729174867851,0.22136516686362612,0.2416220822389553,0.2619145986602541,0.2822390609375137,0.3025919008225517,0.3229697988335418,0.34336975585689494,0.36378911114359513,0.3842255308486731,0.4046769821037873,0.4251417014572313,0.44561816260162856,0.46610504592186164,0.4866012109935659,0.5071056723741209,0.5276175786109307,0.5481361941927709,0.5686608840946406,0.589191100557946,0.609726371772378,0.6302662921643546,0.6508105140388323,0.6713587403613046,0.6919107185024436,0.7124662347983628],[0.5655621626220471,0.5449813264487455,0.5244113900001622,0.5038530541800876,0.48330710522188225,0.4627744258851106,0.44225600808483667,0.4217529670607344,0.40126655712341996,0.38079818887049527,0.36034944748620645,0.33992211122427796,0.31951816824715523,0.29913982836037,0.2787895233638046,0.2584698850473074,0.23818368243471774,0.21793368912570732,0.1977224383977791,0.177551813463247,0.15742245986718104,0.13874814201964905,0.1546226975392099,0.1748022568601932,0.19502865566029653,0.21529802246927318,0.23560583114301686,0.25594744955865084,0.2763185142908558,0.296715098173637,0.31713375878567984,0.33757152469020024,0.3580258530737106,0.378494577418903,0.39897585484657216,0.41946811763879455,0.43997003066779916,0.46048045501373897,0.48099841736547316,0.5015230845169807,0.5220537422031323,0.5425897775538902,0.5631306645264804,0.5836759517694314,0.6042252524647451,0.6247782357776919,0.6453346196151526,0.6658941644528864,0.6864566680405839,0.70702196083245,0.7275899020219596],[0.5619080332977568,0.5413544630156162,0.5208141043502392,0.5002879087575354,0.4797769275689555,0.45928231970156597,0.4388053585964135,0.4183474376441838,0.3979100730295252,0.37749490247759854,0.3571036777795299,0.33673824815788433,0.3164005304486608,0.2960924606592591,0.27581591967660635,0.25557262382582613,0.23536396902699197,0.21519081666692735,0.19505321286405436,0.17495004656778507,0.15488276032034,0.14874154290180508,0.16890232625410342,0.18921088224804883,0.20955421806895996,0.22992757924889345,0.25032678139389236,0.2707482120424878,0.29118878822311434,0.3116458950160593,0.3321173203305302,0.35260119339440943,0.37309593011365905,0.3936001861575992,0.41411281749503015,0.43463284761441157,0.4551594405031434,0.4756918784672505,0.4962295439531673,0.5167719046411754,0.537318501192057,0.5578689371336104,0.5784228704671216,0.598980006654262,0.6195400927124055,0.6401029122020901,0.6606682809356788,0.6812360432726717,0.7018060688960723,0.7223782499869638,0.7429524987322411],[0.5584435980896348,0.537919816138617,0.5174115124840328,0.4969198351737621,0.47644603073990793,0.4559914445006038,0.4355575171680445,0.4151457762207362,0.3947578200720095,0.3743952925945084,0.3540598450833743,0.3337530823396853,0.31347648936884476,0.29323133543661817,0.27301855323930546,0.2528385931944679,0.23269125697936613,0.2125755212511055,0.19248937298185703,0.17242970987497513,0.1527864756042073,0.16358334563143934,0.18397236683217477,0.20438066120859158,0.22480517339230816,0.24524458235080276,0.2656975797134189,0.28616290656819054,0.3066393805385049,0.32712591111932954,0.3476215055707471,0.3681252683449522,0.3886363965640742,0.40915417338491816,0.4296779604827849,0.45020719042782326,0.4707413594040891,0.49128002050451497,0.5118227776955672,0.5323692804602614,0.5529192190800267,0.5734723204920369,0.5940283446501669,0.6145870813185024,0.635148347232154,0.6557119835682946,0.67627785367915,0.696845841047099,0.7174158474296093,0.7379877911681719,0.7585616056407056],[0.5551569573188674,0.5346640248844248,0.5141885894605043,0.4937319206505243,0.4732953698200439,0.4528803607491632,0.43248837382845406,0.41212092182714877,0.39177951496133884,0.37146561280059587,0.3511805606010749,0.3309255081307309,0.3107013102165391,0.2905084104158563,0.2703467127373912,0.2502154514770362,0.23011307598983363,0.21003717503306527,0.18998447283846548,0.1699535429816256,0.1596919314739705,0.17964366699556217,0.20004643347467313,0.22046099485108073,0.24088727079771238,0.2613249501073231,0.2817735410084433,0.3022324415702498,0.3227009940009491,0.34317852347301325,0.36366436429795673,0.38415787656114386,0.4046584559201504,0.4251655386915155,0.4456786038048137,0.4661971727538906,0.4867208083296862,0.5072491126639834,0.5277817249305634,0.5483183189225035,0.5688586006373584,0.5894023059443836,0.6099491983710669,0.630499067023598,0.6510517246427681,0.6716070057898507,0.6921647651539095,0.7127248759711297,0.7332872285471808,0.753851728874573,0.7744182973381248],[0.552034032612986,0.5315715557743647,0.5111281909868058,0.49070524902664153,0.4703040949750455,0.4499261292984067,0.42957276059883504,0.40924536810698636,0.38894525195977897,0.368673569543444,0.3484312568577831,0.32821893518974055,0.3080368056261219,0.287884537326243,0.267761160144905,0.24766497799128015,0.22759352552625373,0.20754359582188697,0.1875114006010283,0.1678120531090948,0.17634553765122146,0.1966470260127393,0.2169768016524006,0.2373263408162999,0.2576939076560422,0.27807800105391456,0.29847727560068466,0.3188905028068925,0.3393165522095517,0.3597543817155342,0.38020303178061216,0.4006616208823067,0.42112934122207707,0.4416054543119058,0.46208928642036956,0.482580223971712,0.5030777090143604,0.5235812348580209,0.5440903419485859,0.564604614020434,0.5851236745414534,0.6056471834485175,0.6261748341597031,0.6467063508430487,0.6672414859188169,0.687780017771875,0.7083217486520155,0.7288665027420714,0.7494141243761021,0.7699644763923461,0.7905174386079395],[0.5490595686836993,0.528625852801938,0.5082123665462945,0.48782039012833583,0.46745122644506354,0.4471061746849953,0.4267864949225849,0.40649336216770715,0.3862278085897064,0.3659906532453291,0.34578241977056173,0.3256032443335129,0.305452778863897,0.2853300982736006,0.2652336249728006,0.2451610890114993,0.22510954655789245,0.20507548182547378,0.1850601556014301,0.1744615769423611,0.19400099040696855,0.2142161366729404,0.23445869501729763,0.2547264241450896,0.2750173494218753,0.29532964402078016,0.3156616176231084,0.3360117067133163,0.3563784668151592,0.37676056590189916,0.397156778264642,0.4175659784280916,0.43798713496687364,0.45841930423852595,0.47886162412610317,0.4993133079036216,0.519773638326673,0.5402419620259639,0.5607176842538956,0.5812002640091855,0.6016892095443456,0.622184074246133,0.642684452869348,0.6631899780987525,0.6837003174113627,0.70421517021108,0.7247342652087603,0.7452573580228181,0.7657842289778811,0.7863146810815351,0.8068485381616719],[0.5462180880136733,0.5258103926851556,0.5054235151826812,0.48505865106093926,0.4647169891518387,0.44439968095499693,0.42410780141157056,0.40384230005531674,0.38360394197700426,0.36339323884706765,0.3432103715465083,0.3230551078866401,0.3029267215472903,0.2828239217250518,0.26274480685530976,0.24268685960533154,0.2226470030413341,0.20262185802313176,0.18309069963307673,0.19182079590112125,0.21192971844679084,0.2320765774746414,0.2522493923281151,0.27244729465662365,0.2926692029682939,0.31291390962748744,0.3331801433698331,0.3534666136441374,0.37377204210009385,0.39409518462815046,0.4144348463011269,0.4347898909497007,0.4551592467049925,0.47554190855447986,0.4959369387339049,0.5163434655965118,0.5367606814522667,0.5571878397485708,0.5776242518667531,0.5980692837320605,0.6185223523757541,0.6389829225433007,0.6594505034096165,0.6799246454384965,0.7004049374065204,0.7208910036002025,0.7413825011874958,0.7618791177598959,0.7823805690384927,0.8028865967357476,0.8233969665641073],[0.5434946956127675,0.5231095370835186,0.5027452742469289,0.48240298474271703,0.46208371697138756,0.44178845875922895,0.4215180985328931,0.40127337846751737,0.38105483957275516,0.3608627594974273,0.3406970850560422,0.3205573631890295,0.3004426763039651,0.2803515906622773,0.26028212947299834,0.24023178516721733,0.22019759086440369,0.20018848705768338,0.1905337100846423,0.2099011738793219,0.22998119412774845,0.2500827878523401,0.2702063578462441,0.29035211130181265,0.3105199026039831,0.3307093169328229,0.3509197402107147,0.37115041669236964,0.3914004956762985,0.41166906878717724,0.43195519921030695,0.4522579441680037,0.47257637181522644,0.49290957360287874,0.5132566730199322,0.5336168314882702,0.5539892520539287,0.5743731814000583,0.5947679106030899,0.6151727749650931,0.635587153181755,0.6560104660455004,0.6764421748353816,0.6968817795076293,0.7173288167714558,0.7377828581121884,0.758243507806713,0.77871040096332,0.7991832016084368,0.8196616008355863,0.8401453150266723],[0.5408756801233601,0.5205091353366951,0.5001631076822078,0.47983854289467126,0.4595363442757082,0.43925734367769226,0.4190022664780293,0.398771690318926,0.37856599782871175,0.3583853242146382,0.3382295015803104,0.3180980031207998,0.29798989200632814,0.2779037817512514,0.257837817060811,0.23778968644039358,0.21775707316936227,0.1985001713485362,0.2080123266864014,0.2280362683648653,0.24809185531018035,0.2681640406762117,0.2882540019508285,0.3083625454055088,0.32849014305182506,0.3486369808177566,0.3688030064231704,0.3889879744663551,0.40919148732100635,0.4294130311690381,0.44965200698971514,0.4699077566556967,0.49017958449289145,0.5104667747746415,0.5307686056671691,0.5510843601434317,0.5714133343532415,0.5917548438914342,0.6121082283521988,0.6324728545026347,0.6528481183561181,0.6732334463783514,0.6936282960170368,0.7140321557102025,0.7344445444980003,0.7548650113378053,0.7752931342019876,0.7957285190211356,0.8161707985221636,0.8366196310000399,0.857074699053344],[0.538348902078414,0.517996882465145,0.49766461756950847,0.4773529220720302,0.4570625647049962,0.4367942438175395,0.4165485584804178,0.3963259750419775,0.37612678934850563,0.3559510852819763,0.3357986908760949,0.31566913407529423,0.29556160122374353,0.27547490262918006,0.25540745105833285,0.23535727678094664,0.21534846981041852,0.20685354061032957,0.22616477290921533,0.24619299897155872,0.2662329770469598,0.2862858035821935,0.3063528028054686,0.32643502887012105,0.34653327343604906,0.3666480837583811,0.38677978681762887,0.4069285164247683,0.42709424110459604,0.4472767912381051,0.4674758844729408,0.48769114881660636,0.5079221431295764,0.5281683749521868,0.5484293157463347,0.5687044137257545,0.5889931045003448,0.60929481978216,0.6296089944025484,0.6499350718787438,0.6702725087494324,0.6906207778762572,0.7109793708845294,0.7313477998932949,0.7517255986633091,0.7721123232719822,0.7925075524071146,0.8129108873562594,0.8333219517556959,0.8537403911520578,0.8741658724204349],[0.5359039913615207,0.5155624693607883,0.4952396339005861,0.47493617885509576,0.45465275714416264,0.4343899622962521,0.41414830700827776,0.3939281986157369,0.3737299115104936,0.35355355671068817,0.3333990490048969,0.3132660723738408,0.29315404476756274,0.27306208385480313,0.25298897700650824,0.23293424271207686,0.21403251382015215,0.22434834741066964,0.24433989508720272,0.2643610386150288,0.28439079103505216,0.3044305652754792,0.3244816401449376,0.34454511757303374,0.3646219117813051,0.38471274894994023,0.4048181744482964,0.42493856520988543,0.44507414530257383,0.4652250031695105,0.48539110938904767,0.5055723341194351,0.5257684636562074,0.5459792157396736,0.5662042534116376,0.5864431973407542,0.6066956366215992,0.6269611381103977,0.6472392543966358,0.6675295305298835,0.6878315096296047,0.708144737506087,0.7284687664157034,0.7488031580655559,0.7691474859726617,0.7895013372722652,0.8098643140592893,0.8302360343368033,0.8506161326359765,0.8710042603633843,0.8914000859238362],[0.5335323921285593,0.5131975756061324,0.4928801464202911,0.4725806921657658,0.4522997709092319,0.4320378994118398,0.41179553965732796,0.3915730835311687,0.37137083543954585,0.3511889925545577,0.33102762220825915,0.31088663572765124,0.29076575773364843,0.27066448977321206,0.2505821213764009,0.23056873113001575,0.22322648915298887,0.24250941206326954,0.2625193105738339,0.2825354591109287,0.3025582826435181,0.32258901905681214,0.342628827431924,0.3626787587013553,0.38273973739486206,0.40281255199155985,0.4228978521732115,0.442996151383964,0.4631078332788211,0.4832331608490783,0.5033722872242089,0.5235252673513101,0.5436920699360309,0.5638725891880485,0.5840666560479091,0.6042740486808728,0.6244945021092867,0.6447277169206618,0.6649733670371937,0.6852311065669893,0.7055005757806321,0.7257814062714516,0.7460732253660806,0.7663756598553548,0.7866883391156926,0.8070108976888879,0.8273429773845665,0.847684228964989,0.868034313466888,0.8883929032099008,0.9087596825361078],[0.5312272973842015,0.5108957552064858,0.49058013676055606,0.4702809381265765,0.44999864125554073,0.42973370890089885,0.4094865790211169,0.389257658426246,0.36904731523004586,0.3488558693335801,0.3286835796650428,0.30853062620096083,0.28839708390481406,0.26828288794120725,0.24819034833058407,0.22970498799041122,0.24071684162702747,0.26069256400488794,0.2807009943148291,0.30071369096375045,0.3207316686925926,0.34075598122954487,0.3607876480712947,0.38082762764495626,0.4008767975479395,0.42093594119473376,0.44100574001728104,0.46108677028666767,0.48117950363518674,0.5012843104232936,0.5214014651912812,0.5415311535440043,0.5616734799274502,0.5818284758610737,0.6019961082851653,0.6221762877658941,0.6423688763713019,0.6625736950897767,0.6827905307093484,0.7030191421128494,0.7232592659720211,0.7435106218444428,0.7637729166920825,0.7840458488504816,0.804329111484124,0.8246223955672759,0.8449253924311894,0.8652377959186401,0.885559304185741,0.9058896211891915,0.9262284578948679],[0.5289835114960935,0.5086522577147075,0.48833535667414785,0.4680332252589004,0.4477462831297796,0.42747495393618545,0.40721966704553436,0.38698085953833306,0.36675897789848466,0.34655447832349906,0.32636782381875595,0.30619947515281776,0.2860498715127583,0.26591954724958633,0.24589831208771487,0.23962043410256156,0.2588743172293183,0.27887721683090144,0.2988840725653752,0.3188943114443682,0.3389088021106049,0.3589284356949259,0.37895409635753746,0.3989866381806547,0.4190268666457174,0.43907552462800103,0.4591332825773498,0.479200732405533,0.49927838453438034,0.5193666675477284,0.5394659299148374,0.5595764432991761,0.5796984070241146,0.5998319533289462,0.6199771531098798,0.6401340218981137,0.660302525878976,0.6804825878015585,0.700674092667076,0.7208768931165904,0.7410908144652569,0.7613156593515295,0.7815512119864823,0.8017972420012729,0.8220535079004062,0.8423197601354644,0.8625957438188333,0.882881201100119,0.9031758732297964,0.9234795023354314,0.9437918329358693],[0.526797271304238,0.5064638166519584,0.48614308444351095,0.4658354208924034,0.44554119117524343,0.4252607861217196,0.40499463036075234,0.3847431917250376,0.36450699135237363,0.34428661333443966,0.3240827118558044,0.30389601243923436,0.28372731252716277,0.2635827949224533,0.24554501535187062,0.2570947819051382,0.27705884999045405,0.2970623700547272,0.317068053282394,0.3370764916531982,0.35708840829704924,0.3771045567597956,0.39712569945172677,0.4171525885415998,0.4371859497177004,0.4572264690200097,0.47727478270460344,0.497331469943693,0.517397048071255,0.5374719700376096,0.5575566237228453,0.5776513327679742,0.5977563586060091,0.6178719034067599,0.6379981136846317,0.6581350843550348,0.6782828630600949,0.6984414546169188,0.7186108254710011,0.7387909080631443,0.7589816050404822,0.7791827932610049,0.7993943275566331,0.8196160442327189,0.8398477642921776,0.8600892963806434,0.8803404394553868,0.9006009851855371,0.9208707200946853,0.9411494274594098,0.9614368889789068],[0.5246660480955627,0.5043284268771655,0.4840018795103075,0.4636866860774709,0.4433831592647059,0.4230916554294599,0.4028125879385385,0.3825464427151021,0.36229379559331865,0.3420553305090246,0.3218318566415791,0.30162432203234246,0.28143418612164317,0.26140568086666505,0.25603431987826486,0.2752451291032801,0.2952447669530775,0.3152478373284544,0.33525264105482544,0.3552597269722537,0.3752697000465569,0.3952831994267095,0.41530088183531333,0.4353234061105648,0.4553514194651056,0.47538554577079895,0.49542637597932976,0.5154744606468967,0.5355303044363386,0.5555943624115041,0.5756670379075801,0.5957486817499579,0.6158395925970369,0.6359400181944849,0.6560501573462523,0.6761701624284945,0.6963001422945132,0.7164401654406114,0.7365902633234681,0.7567504337387472,0.7769206441878957,0.7971008351753195,0.8172909233913842,0.8374908047480621,0.8577003572436507,0.8779194436410043,0.8981479139503286,0.9183856077129091,0.9386323560864274,0.9588879837358226,0.9791523105362024],[0.522588345256319,0.5022451241534408,0.4819113462215718,0.4615872266907696,0.4412730231636514,0.4209690497340229,0.4006756940145474,0.38039343720978314,0.3601228771168905,0.3398647534828025,0.3196199744500116,0.29938967046302833,0.27918510298315746,0.26158497186357976,0.27347743824938114,0.2934293742288642,0.31343084838052654,0.3334335216023384,0.35343765078456124,0.37344369824689216,0.39345217392777765,0.41346362249452884,0.43347861053140535,0.45349771417276025,0.4735215077024485,0.4935505534484676,0.5135853931474578,0.5336265408362642,0.553674477242682,0.5737296455892109,0.5937924486866973,0.613863247174198,0.6339423587530597,0.6540300582636192,0.6741265784593314,0.6942321113433931,0.7143468099454335,0.7344707904293948,0.7546041344374831,0.7747468915884467,0.7948990820610535,0.8150606992052676,0.8352317121341329,0.855412068258748,0.8756016957369237,0.8958005058132601,0.9160083950344882,0.9362252473290921,0.9564509359445644,0.9766853252392108,0.9969282723283321],[0.5205635006061903,0.5002137740538557,0.47987191140351326,0.45953806242294143,0.4392124244012205,0.4188952578476717,0.3985869054929435,0.3782878149417387,0.35799856520210444,0.3377198970631096,0.31745274935513157,0.29719907300006376,0.277169819791529,0.2724759578323044,0.2916181199274985,0.3116155600096936,0.33161700305807884,0.35161936111166897,0.3716229622396991,0.3916281967732848,0.4116354979148883,0.43164533237695374,0.4516581904983026,0.4716745764018454,0.491694998638985,0.5117199616294112,0.5317499580891594,0.5517854625466921,0.5718269259752444,0.5918747715171776,0.6119293912395404,0.631991143836348,0.6520603531794427,0.6721373076137508,0.6922222598922518,0.7123154276493934,0.7324169943177187,0.7525271104001219,0.7726458950186725,0.7927734376697948,0.8129098001243653,0.8330550184197433,0.8532091048986752,0.8733720502573435,0.8935438255714686,0.9137243842753394,0.9339136640739276,0.9541115887728575,0.9743180700150154,0.9945330089160137,1.0147562975936366]],\"type\":\"surface\",\"contours\":{\"z\":{\"project\":{\"z\":true},\"highlightcolor\":\"limegreen\",\"show\":true,\"usecolormap\":true}}}],                        {\"template\":{\"data\":{\"histogram2dcontour\":[{\"type\":\"histogram2dcontour\",\"colorbar\":{\"outlinewidth\":0,\"ticks\":\"\"},\"colorscale\":[[0.0,\"#0d0887\"],[0.1111111111111111,\"#46039f\"],[0.2222222222222222,\"#7201a8\"],[0.3333333333333333,\"#9c179e\"],[0.4444444444444444,\"#bd3786\"],[0.5555555555555556,\"#d8576b\"],[0.6666666666666666,\"#ed7953\"],[0.7777777777777778,\"#fb9f3a\"],[0.8888888888888888,\"#fdca26\"],[1.0,\"#f0f921\"]]}],\"choropleth\":[{\"type\":\"choropleth\",\"colorbar\":{\"outlinewidth\":0,\"ticks\":\"\"}}],\"histogram2d\":[{\"type\":\"histogram2d\",\"colorbar\":{\"outlinewidth\":0,\"ticks\":\"\"},\"colorscale\":[[0.0,\"#0d0887\"],[0.1111111111111111,\"#46039f\"],[0.2222222222222222,\"#7201a8\"],[0.3333333333333333,\"#9c179e\"],[0.4444444444444444,\"#bd3786\"],[0.5555555555555556,\"#d8576b\"],[0.6666666666666666,\"#ed7953\"],[0.7777777777777778,\"#fb9f3a\"],[0.8888888888888888,\"#fdca26\"],[1.0,\"#f0f921\"]]}],\"heatmap\":[{\"type\":\"heatmap\",\"colorbar\":{\"outlinewidth\":0,\"ticks\":\"\"},\"colorscale\":[[0.0,\"#0d0887\"],[0.1111111111111111,\"#46039f\"],[0.2222222222222222,\"#7201a8\"],[0.3333333333333333,\"#9c179e\"],[0.4444444444444444,\"#bd3786\"],[0.5555555555555556,\"#d8576b\"],[0.6666666666666666,\"#ed7953\"],[0.7777777777777778,\"#fb9f3a\"],[0.8888888888888888,\"#fdca26\"],[1.0,\"#f0f921\"]]}],\"heatmapgl\":[{\"type\":\"heatmapgl\",\"colorbar\":{\"outlinewidth\":0,\"ticks\":\"\"},\"colorscale\":[[0.0,\"#0d0887\"],[0.1111111111111111,\"#46039f\"],[0.2222222222222222,\"#7201a8\"],[0.3333333333333333,\"#9c179e\"],[0.4444444444444444,\"#bd3786\"],[0.5555555555555556,\"#d8576b\"],[0.6666666666666666,\"#ed7953\"],[0.7777777777777778,\"#fb9f3a\"],[0.8888888888888888,\"#fdca26\"],[1.0,\"#f0f921\"]]}],\"contourcarpet\":[{\"type\":\"contourcarpet\",\"colorbar\":{\"outlinewidth\":0,\"ticks\":\"\"}}],\"contour\":[{\"type\":\"contour\",\"colorbar\":{\"outlinewidth\":0,\"ticks\":\"\"},\"colorscale\":[[0.0,\"#0d0887\"],[0.1111111111111111,\"#46039f\"],[0.2222222222222222,\"#7201a8\"],[0.3333333333333333,\"#9c179e\"],[0.4444444444444444,\"#bd3786\"],[0.5555555555555556,\"#d8576b\"],[0.6666666666666666,\"#ed7953\"],[0.7777777777777778,\"#fb9f3a\"],[0.8888888888888888,\"#fdca26\"],[1.0,\"#f0f921\"]]}],\"surface\":[{\"type\":\"surface\",\"colorbar\":{\"outlinewidth\":0,\"ticks\":\"\"},\"colorscale\":[[0.0,\"#0d0887\"],[0.1111111111111111,\"#46039f\"],[0.2222222222222222,\"#7201a8\"],[0.3333333333333333,\"#9c179e\"],[0.4444444444444444,\"#bd3786\"],[0.5555555555555556,\"#d8576b\"],[0.6666666666666666,\"#ed7953\"],[0.7777777777777778,\"#fb9f3a\"],[0.8888888888888888,\"#fdca26\"],[1.0,\"#f0f921\"]]}],\"mesh3d\":[{\"type\":\"mesh3d\",\"colorbar\":{\"outlinewidth\":0,\"ticks\":\"\"}}],\"scatter\":[{\"fillpattern\":{\"fillmode\":\"overlay\",\"size\":10,\"solidity\":0.2},\"type\":\"scatter\"}],\"parcoords\":[{\"type\":\"parcoords\",\"line\":{\"colorbar\":{\"outlinewidth\":0,\"ticks\":\"\"}}}],\"scatterpolargl\":[{\"type\":\"scatterpolargl\",\"marker\":{\"colorbar\":{\"outlinewidth\":0,\"ticks\":\"\"}}}],\"bar\":[{\"error_x\":{\"color\":\"#2a3f5f\"},\"error_y\":{\"color\":\"#2a3f5f\"},\"marker\":{\"line\":{\"color\":\"#E5ECF6\",\"width\":0.5},\"pattern\":{\"fillmode\":\"overlay\",\"size\":10,\"solidity\":0.2}},\"type\":\"bar\"}],\"scattergeo\":[{\"type\":\"scattergeo\",\"marker\":{\"colorbar\":{\"outlinewidth\":0,\"ticks\":\"\"}}}],\"scatterpolar\":[{\"type\":\"scatterpolar\",\"marker\":{\"colorbar\":{\"outlinewidth\":0,\"ticks\":\"\"}}}],\"histogram\":[{\"marker\":{\"pattern\":{\"fillmode\":\"overlay\",\"size\":10,\"solidity\":0.2}},\"type\":\"histogram\"}],\"scattergl\":[{\"type\":\"scattergl\",\"marker\":{\"colorbar\":{\"outlinewidth\":0,\"ticks\":\"\"}}}],\"scatter3d\":[{\"type\":\"scatter3d\",\"line\":{\"colorbar\":{\"outlinewidth\":0,\"ticks\":\"\"}},\"marker\":{\"colorbar\":{\"outlinewidth\":0,\"ticks\":\"\"}}}],\"scattermapbox\":[{\"type\":\"scattermapbox\",\"marker\":{\"colorbar\":{\"outlinewidth\":0,\"ticks\":\"\"}}}],\"scatterternary\":[{\"type\":\"scatterternary\",\"marker\":{\"colorbar\":{\"outlinewidth\":0,\"ticks\":\"\"}}}],\"scattercarpet\":[{\"type\":\"scattercarpet\",\"marker\":{\"colorbar\":{\"outlinewidth\":0,\"ticks\":\"\"}}}],\"carpet\":[{\"aaxis\":{\"endlinecolor\":\"#2a3f5f\",\"gridcolor\":\"white\",\"linecolor\":\"white\",\"minorgridcolor\":\"white\",\"startlinecolor\":\"#2a3f5f\"},\"baxis\":{\"endlinecolor\":\"#2a3f5f\",\"gridcolor\":\"white\",\"linecolor\":\"white\",\"minorgridcolor\":\"white\",\"startlinecolor\":\"#2a3f5f\"},\"type\":\"carpet\"}],\"table\":[{\"cells\":{\"fill\":{\"color\":\"#EBF0F8\"},\"line\":{\"color\":\"white\"}},\"header\":{\"fill\":{\"color\":\"#C8D4E3\"},\"line\":{\"color\":\"white\"}},\"type\":\"table\"}],\"barpolar\":[{\"marker\":{\"line\":{\"color\":\"#E5ECF6\",\"width\":0.5},\"pattern\":{\"fillmode\":\"overlay\",\"size\":10,\"solidity\":0.2}},\"type\":\"barpolar\"}],\"pie\":[{\"automargin\":true,\"type\":\"pie\"}]},\"layout\":{\"autotypenumbers\":\"strict\",\"colorway\":[\"#636efa\",\"#EF553B\",\"#00cc96\",\"#ab63fa\",\"#FFA15A\",\"#19d3f3\",\"#FF6692\",\"#B6E880\",\"#FF97FF\",\"#FECB52\"],\"font\":{\"color\":\"#2a3f5f\"},\"hovermode\":\"closest\",\"hoverlabel\":{\"align\":\"left\"},\"paper_bgcolor\":\"white\",\"plot_bgcolor\":\"#E5ECF6\",\"polar\":{\"bgcolor\":\"#E5ECF6\",\"angularaxis\":{\"gridcolor\":\"white\",\"linecolor\":\"white\",\"ticks\":\"\"},\"radialaxis\":{\"gridcolor\":\"white\",\"linecolor\":\"white\",\"ticks\":\"\"}},\"ternary\":{\"bgcolor\":\"#E5ECF6\",\"aaxis\":{\"gridcolor\":\"white\",\"linecolor\":\"white\",\"ticks\":\"\"},\"baxis\":{\"gridcolor\":\"white\",\"linecolor\":\"white\",\"ticks\":\"\"},\"caxis\":{\"gridcolor\":\"white\",\"linecolor\":\"white\",\"ticks\":\"\"}},\"coloraxis\":{\"colorbar\":{\"outlinewidth\":0,\"ticks\":\"\"}},\"colorscale\":{\"sequential\":[[0.0,\"#0d0887\"],[0.1111111111111111,\"#46039f\"],[0.2222222222222222,\"#7201a8\"],[0.3333333333333333,\"#9c179e\"],[0.4444444444444444,\"#bd3786\"],[0.5555555555555556,\"#d8576b\"],[0.6666666666666666,\"#ed7953\"],[0.7777777777777778,\"#fb9f3a\"],[0.8888888888888888,\"#fdca26\"],[1.0,\"#f0f921\"]],\"sequentialminus\":[[0.0,\"#0d0887\"],[0.1111111111111111,\"#46039f\"],[0.2222222222222222,\"#7201a8\"],[0.3333333333333333,\"#9c179e\"],[0.4444444444444444,\"#bd3786\"],[0.5555555555555556,\"#d8576b\"],[0.6666666666666666,\"#ed7953\"],[0.7777777777777778,\"#fb9f3a\"],[0.8888888888888888,\"#fdca26\"],[1.0,\"#f0f921\"]],\"diverging\":[[0,\"#8e0152\"],[0.1,\"#c51b7d\"],[0.2,\"#de77ae\"],[0.3,\"#f1b6da\"],[0.4,\"#fde0ef\"],[0.5,\"#f7f7f7\"],[0.6,\"#e6f5d0\"],[0.7,\"#b8e186\"],[0.8,\"#7fbc41\"],[0.9,\"#4d9221\"],[1,\"#276419\"]]},\"xaxis\":{\"gridcolor\":\"white\",\"linecolor\":\"white\",\"ticks\":\"\",\"title\":{\"standoff\":15},\"zerolinecolor\":\"white\",\"automargin\":true,\"zerolinewidth\":2},\"yaxis\":{\"gridcolor\":\"white\",\"linecolor\":\"white\",\"ticks\":\"\",\"title\":{\"standoff\":15},\"zerolinecolor\":\"white\",\"automargin\":true,\"zerolinewidth\":2},\"scene\":{\"xaxis\":{\"backgroundcolor\":\"#E5ECF6\",\"gridcolor\":\"white\",\"linecolor\":\"white\",\"showbackground\":true,\"ticks\":\"\",\"zerolinecolor\":\"white\",\"gridwidth\":2},\"yaxis\":{\"backgroundcolor\":\"#E5ECF6\",\"gridcolor\":\"white\",\"linecolor\":\"white\",\"showbackground\":true,\"ticks\":\"\",\"zerolinecolor\":\"white\",\"gridwidth\":2},\"zaxis\":{\"backgroundcolor\":\"#E5ECF6\",\"gridcolor\":\"white\",\"linecolor\":\"white\",\"showbackground\":true,\"ticks\":\"\",\"zerolinecolor\":\"white\",\"gridwidth\":2}},\"shapedefaults\":{\"line\":{\"color\":\"#2a3f5f\"}},\"annotationdefaults\":{\"arrowcolor\":\"#2a3f5f\",\"arrowhead\":0,\"arrowwidth\":1},\"geo\":{\"bgcolor\":\"white\",\"landcolor\":\"#E5ECF6\",\"subunitcolor\":\"white\",\"showland\":true,\"showlakes\":true,\"lakecolor\":\"white\"},\"title\":{\"x\":0.05},\"mapbox\":{\"style\":\"light\"}}},\"title\":{\"text\":\"L37 landscape\"},\"scene\":{\"xaxis\":{\"title\":{\"text\":\"a\"}},\"yaxis\":{\"title\":{\"text\":\"b\"}},\"zaxis\":{\"title\":{\"text\":\"loss\"}}}},                        {\"responsive\": true}                    ).then(function(){\n",
              "                            \n",
              "var gd = document.getElementById('ed2ab177-e275-44fc-ae60-9190fee9673d');\n",
              "var x = new MutationObserver(function (mutations, observer) {{\n",
              "        var display = window.getComputedStyle(gd).display;\n",
              "        if (!display || display === 'none') {{\n",
              "            console.log([gd, 'removed!']);\n",
              "            Plotly.purge(gd);\n",
              "            observer.disconnect();\n",
              "        }}\n",
              "}});\n",
              "\n",
              "// Listen for the removal of the full notebook cells\n",
              "var notebookContainer = gd.closest('#notebook-container');\n",
              "if (notebookContainer) {{\n",
              "    x.observe(notebookContainer, {childList: true});\n",
              "}}\n",
              "\n",
              "// Listen for the clearing of the current output cell\n",
              "var outputEl = gd.closest('.output');\n",
              "if (outputEl) {{\n",
              "    x.observe(outputEl, {childList: true});\n",
              "}}\n",
              "\n",
              "                        })                };                            </script>        </div>\n",
              "</body>\n",
              "</html>"
            ]
          },
          "metadata": {}
        }
      ]
    },
    {
      "cell_type": "markdown",
      "metadata": {
        "id": "FXq55ce581os"
      },
      "source": [
        "### \"Tear down this loss[!](https://youtu.be/IguMXrgfrg8)\"\n",
        "\n",
        "Now we will explicitily compute the parameters $\\theta$ for several polynomial fits, defined in matrix notation as:\n",
        "\n",
        "![polyfit matrix notation](https://drive.google.com/uc?export=view&id=1e4AsSC00ivIXW4c35VNLladTcCTY4dpL)\n",
        "\n",
        "As seen in the lecture, we can analytically find the parameters $\\theta$ that minimize the MSE loss by solving a linear system:\n",
        "\n",
        "$$\\theta = (\\mathbf{X}^\\top \\mathbf{X})^{-1}\\mathbf{X}^\\top\\mathbf{y}$$\n",
        "\n",
        "Let's do it for a 3-degree polynomial fit, this time using pytorch instead of numpy.\n",
        "\n",
        "\n",
        "\n"
      ]
    },
    {
      "cell_type": "code",
      "metadata": {
        "id": "g1Oq4K-CbWqa"
      },
      "source": [
        "# Poly3 fit\n",
        "y = torch.from_numpy(t)\n",
        "x_tens = torch.from_numpy(x)\n",
        "\n",
        "X = torch.ones((y.shape[0], 4), dtype=torch.float64)  # double precision is needed for this calculation, especially with high degree polyfits\n",
        "X[:,0] = x_tens ** 3\n",
        "X[:,1] = x_tens ** 2\n",
        "X[:,2] = x_tens"
      ],
      "execution_count": 104,
      "outputs": []
    },
    {
      "cell_type": "markdown",
      "metadata": {
        "id": "Tv9COWdXnovB"
      },
      "source": [
        ">**EXERCISE**: complete the code"
      ]
    },
    {
      "cell_type": "code",
      "metadata": {
        "id": "4v9Puu-9qosN",
        "colab": {
          "base_uri": "https://localhost:8080/"
        },
        "outputId": "06c07b68-a821-4ede-e3c6-21477024b28a"
      },
      "source": [
        "# ✏️ your code here (look at the formula above!)\n",
        "#So whenever moltiplying matrix/vectors always use @\n",
        "theta=torch.inverse((X.t()@X))@X.t()@y\n",
        "print(y.shape)\n",
        "#With einsum\n",
        "X2=X.t() @ X\n",
        "inv=torch.inverse(X2)\n",
        "Xint=torch.einsum('ij,jk->ik',inv,X.t())\n",
        "theta=torch.einsum('ij,j->i', Xint,y)"
      ],
      "execution_count": 117,
      "outputs": [
        {
          "output_type": "stream",
          "name": "stdout",
          "text": [
            "torch.Size([10])\n"
          ]
        }
      ]
    },
    {
      "cell_type": "code",
      "source": [
        "# @title 👀 Solution (without einsum)\n",
        "\n",
        "theta = torch.inverse(X.t() @ X) @ X.t() @ y"
      ],
      "metadata": {
        "cellView": "form",
        "id": "Ck8sPJ96gd9P"
      },
      "execution_count": 65,
      "outputs": []
    },
    {
      "cell_type": "code",
      "metadata": {
        "id": "4di4c5yUqkdE",
        "cellView": "form"
      },
      "source": [
        "# @title 👀 Solution (with einsum)\n",
        "\n",
        "temp_inverse = torch.inverse(torch.einsum('ij,jk->ik', X.t(), X))  # or torch.einsum('ji,jk->ik', X, X)\n",
        "theta = torch.einsum('ij,jk,k->i', temp_inverse, X.t(), y)"
      ],
      "execution_count": null,
      "outputs": []
    },
    {
      "cell_type": "code",
      "source": [
        "# @title 👀 Solution (numerically stable)\n",
        "\n",
        "# The equation for theta requires us to solve a linear system.\n",
        "# Instead of explicitly computing a matrix inverse and then multiplying, a more\n",
        "# efficient and stable way is to use torch.linalg.solve(), which is designed to\n",
        "# handle this task more appropriately.\n",
        "\n",
        "theta = torch.linalg.solve(X.t() @ X, X.t() @ y)"
      ],
      "metadata": {
        "id": "x97OTApfhMo_"
      },
      "execution_count": 95,
      "outputs": []
    },
    {
      "cell_type": "code",
      "metadata": {
        "id": "tOJse7C9bojf",
        "colab": {
          "base_uri": "https://localhost:8080/",
          "height": 542
        },
        "outputId": "046d1ab6-6286-4ad2-a88e-1a081505bee0"
      },
      "source": [
        "#@title 3-degree polynomial fit\n",
        "\n",
        "a, b, c, d = theta.numpy()\n",
        "fig = go.Figure()\n",
        "fig.add_trace(go.Scatter(x=x, y=t, name='dataset', mode='markers', marker=dict(color=\"mediumpurple\")))\n",
        "fig.add_trace(go.Scatter(x=x_funcs, y=np.sin(2*np.pi*x_funcs), name='ground truth', mode='lines', line=dict(color=\"lightgreen\")))\n",
        "fig.add_trace(go.Scatter(x=x_funcs, y=a*x_funcs**3 + b*x_funcs**2 + c*x_funcs + d, name='poly3 fit', mode='lines', line=dict(color=\"lightsalmon\")))\n",
        "fig.update_xaxes(title_text=\"x\", range = [0,1])\n",
        "fig.update_yaxes(title_text=\"t\", range = [-1.5,1.5])\n",
        "fig.show()"
      ],
      "execution_count": 118,
      "outputs": [
        {
          "output_type": "display_data",
          "data": {
            "text/html": [
              "<html>\n",
              "<head><meta charset=\"utf-8\" /></head>\n",
              "<body>\n",
              "    <div>            <script src=\"https://cdnjs.cloudflare.com/ajax/libs/mathjax/2.7.5/MathJax.js?config=TeX-AMS-MML_SVG\"></script><script type=\"text/javascript\">if (window.MathJax && window.MathJax.Hub && window.MathJax.Hub.Config) {window.MathJax.Hub.Config({SVG: {font: \"STIX-Web\"}});}</script>                <script type=\"text/javascript\">window.PlotlyConfig = {MathJaxConfig: 'local'};</script>\n",
              "        <script charset=\"utf-8\" src=\"https://cdn.plot.ly/plotly-2.35.2.min.js\"></script>                <div id=\"aaeead60-009d-47d9-879e-86be6a0cfb14\" class=\"plotly-graph-div\" style=\"height:525px; width:100%;\"></div>            <script type=\"text/javascript\">                                    window.PLOTLYENV=window.PLOTLYENV || {};                                    if (document.getElementById(\"aaeead60-009d-47d9-879e-86be6a0cfb14\")) {                    Plotly.newPlot(                        \"aaeead60-009d-47d9-879e-86be6a0cfb14\",                        [{\"marker\":{\"color\":\"mediumpurple\"},\"mode\":\"markers\",\"name\":\"dataset\",\"x\":[0.6842330265121569,0.4401524937396013,0.12203823484477883,0.4951769101112702,0.034388521115218396,0.9093204020787821,0.2587799816000169,0.662522284353982,0.31171107608941095,0.5200680211778108],\"y\":[-1.0486487112416474,0.3869196454153727,0.7676729883959035,0.047436557496369894,0.20282730585504244,-0.5695375823995514,0.8506265291850891,-0.9246977353735738,0.8797012417622012,-0.02004501905253346],\"type\":\"scatter\"},{\"line\":{\"color\":\"lightgreen\"},\"mode\":\"lines\",\"name\":\"ground truth\",\"x\":[0.0,0.0392156862745098,0.0784313725490196,0.11764705882352941,0.1568627450980392,0.19607843137254902,0.23529411764705882,0.27450980392156865,0.3137254901960784,0.3529411764705882,0.39215686274509803,0.43137254901960786,0.47058823529411764,0.5098039215686274,0.5490196078431373,0.5882352941176471,0.6274509803921569,0.6666666666666666,0.7058823529411764,0.7450980392156863,0.7843137254901961,0.8235294117647058,0.8627450980392157,0.9019607843137255,0.9411764705882353,0.9803921568627451,1.0196078431372548,1.0588235294117647,1.0980392156862746],\"y\":[0.0,0.24391372010837714,0.47309355683601007,0.6736956436465572,0.8336023852211194,0.9431544344712774,0.9957341762950345,0.9881654720812594,0.9209055179449537,0.7980172272802396,0.6269238058941065,0.41796034488678324,0.18374951781657037,-0.061560906133942536,-0.3031526741130438,-0.5264321628773558,-0.7179119230644417,-0.8660254037844384,-0.961825643172819,-0.9995257197133659,-0.9768483177596007,-0.8951632913550626,-0.7594049166547069,-0.5777738314082513,-0.36124166618715303,-0.12288829066471489,0.12288829066471353,0.3612416661871526,0.5777738314082517],\"type\":\"scatter\"},{\"line\":{\"color\":\"lightsalmon\"},\"mode\":\"lines\",\"name\":\"poly3 fit\",\"x\":[0.0,0.0392156862745098,0.0784313725490196,0.11764705882352941,0.1568627450980392,0.19607843137254902,0.23529411764705882,0.27450980392156865,0.3137254901960784,0.3529411764705882,0.39215686274509803,0.43137254901960786,0.47058823529411764,0.5098039215686274,0.5490196078431373,0.5882352941176471,0.6274509803921569,0.6666666666666666,0.7058823529411764,0.7450980392156863,0.7843137254901961,0.8235294117647058,0.8627450980392157,0.9019607843137255,0.9411764705882353,0.9803921568627451,1.0196078431372548,1.0588235294117647,1.0980392156862746],\"y\":[-0.24856822153479993,0.19631098641380754,0.5359185809140143,0.7792821821050724,0.9354294101262339,1.0133878851167506,1.0221852272158745,0.9708490565628569,0.8684069932969516,0.7238866575574092,0.5463156694834828,0.3447216492144207,0.12813221688948143,-0.094425007352088,-0.3139224033710377,-0.521332351028108,-0.7076272301840518,-0.8637794206996183,-0.9807613024355533,-1.0495452552526015,-1.0611036590115184,-1.0064088935730489,-0.876433338797943,-0.6621493745469387,-0.35452938068079476,0.055454262939740345,0.5768291764539306,1.2186229800010082,1.9898632937202425],\"type\":\"scatter\"}],                        {\"template\":{\"data\":{\"histogram2dcontour\":[{\"type\":\"histogram2dcontour\",\"colorbar\":{\"outlinewidth\":0,\"ticks\":\"\"},\"colorscale\":[[0.0,\"#0d0887\"],[0.1111111111111111,\"#46039f\"],[0.2222222222222222,\"#7201a8\"],[0.3333333333333333,\"#9c179e\"],[0.4444444444444444,\"#bd3786\"],[0.5555555555555556,\"#d8576b\"],[0.6666666666666666,\"#ed7953\"],[0.7777777777777778,\"#fb9f3a\"],[0.8888888888888888,\"#fdca26\"],[1.0,\"#f0f921\"]]}],\"choropleth\":[{\"type\":\"choropleth\",\"colorbar\":{\"outlinewidth\":0,\"ticks\":\"\"}}],\"histogram2d\":[{\"type\":\"histogram2d\",\"colorbar\":{\"outlinewidth\":0,\"ticks\":\"\"},\"colorscale\":[[0.0,\"#0d0887\"],[0.1111111111111111,\"#46039f\"],[0.2222222222222222,\"#7201a8\"],[0.3333333333333333,\"#9c179e\"],[0.4444444444444444,\"#bd3786\"],[0.5555555555555556,\"#d8576b\"],[0.6666666666666666,\"#ed7953\"],[0.7777777777777778,\"#fb9f3a\"],[0.8888888888888888,\"#fdca26\"],[1.0,\"#f0f921\"]]}],\"heatmap\":[{\"type\":\"heatmap\",\"colorbar\":{\"outlinewidth\":0,\"ticks\":\"\"},\"colorscale\":[[0.0,\"#0d0887\"],[0.1111111111111111,\"#46039f\"],[0.2222222222222222,\"#7201a8\"],[0.3333333333333333,\"#9c179e\"],[0.4444444444444444,\"#bd3786\"],[0.5555555555555556,\"#d8576b\"],[0.6666666666666666,\"#ed7953\"],[0.7777777777777778,\"#fb9f3a\"],[0.8888888888888888,\"#fdca26\"],[1.0,\"#f0f921\"]]}],\"heatmapgl\":[{\"type\":\"heatmapgl\",\"colorbar\":{\"outlinewidth\":0,\"ticks\":\"\"},\"colorscale\":[[0.0,\"#0d0887\"],[0.1111111111111111,\"#46039f\"],[0.2222222222222222,\"#7201a8\"],[0.3333333333333333,\"#9c179e\"],[0.4444444444444444,\"#bd3786\"],[0.5555555555555556,\"#d8576b\"],[0.6666666666666666,\"#ed7953\"],[0.7777777777777778,\"#fb9f3a\"],[0.8888888888888888,\"#fdca26\"],[1.0,\"#f0f921\"]]}],\"contourcarpet\":[{\"type\":\"contourcarpet\",\"colorbar\":{\"outlinewidth\":0,\"ticks\":\"\"}}],\"contour\":[{\"type\":\"contour\",\"colorbar\":{\"outlinewidth\":0,\"ticks\":\"\"},\"colorscale\":[[0.0,\"#0d0887\"],[0.1111111111111111,\"#46039f\"],[0.2222222222222222,\"#7201a8\"],[0.3333333333333333,\"#9c179e\"],[0.4444444444444444,\"#bd3786\"],[0.5555555555555556,\"#d8576b\"],[0.6666666666666666,\"#ed7953\"],[0.7777777777777778,\"#fb9f3a\"],[0.8888888888888888,\"#fdca26\"],[1.0,\"#f0f921\"]]}],\"surface\":[{\"type\":\"surface\",\"colorbar\":{\"outlinewidth\":0,\"ticks\":\"\"},\"colorscale\":[[0.0,\"#0d0887\"],[0.1111111111111111,\"#46039f\"],[0.2222222222222222,\"#7201a8\"],[0.3333333333333333,\"#9c179e\"],[0.4444444444444444,\"#bd3786\"],[0.5555555555555556,\"#d8576b\"],[0.6666666666666666,\"#ed7953\"],[0.7777777777777778,\"#fb9f3a\"],[0.8888888888888888,\"#fdca26\"],[1.0,\"#f0f921\"]]}],\"mesh3d\":[{\"type\":\"mesh3d\",\"colorbar\":{\"outlinewidth\":0,\"ticks\":\"\"}}],\"scatter\":[{\"fillpattern\":{\"fillmode\":\"overlay\",\"size\":10,\"solidity\":0.2},\"type\":\"scatter\"}],\"parcoords\":[{\"type\":\"parcoords\",\"line\":{\"colorbar\":{\"outlinewidth\":0,\"ticks\":\"\"}}}],\"scatterpolargl\":[{\"type\":\"scatterpolargl\",\"marker\":{\"colorbar\":{\"outlinewidth\":0,\"ticks\":\"\"}}}],\"bar\":[{\"error_x\":{\"color\":\"#2a3f5f\"},\"error_y\":{\"color\":\"#2a3f5f\"},\"marker\":{\"line\":{\"color\":\"#E5ECF6\",\"width\":0.5},\"pattern\":{\"fillmode\":\"overlay\",\"size\":10,\"solidity\":0.2}},\"type\":\"bar\"}],\"scattergeo\":[{\"type\":\"scattergeo\",\"marker\":{\"colorbar\":{\"outlinewidth\":0,\"ticks\":\"\"}}}],\"scatterpolar\":[{\"type\":\"scatterpolar\",\"marker\":{\"colorbar\":{\"outlinewidth\":0,\"ticks\":\"\"}}}],\"histogram\":[{\"marker\":{\"pattern\":{\"fillmode\":\"overlay\",\"size\":10,\"solidity\":0.2}},\"type\":\"histogram\"}],\"scattergl\":[{\"type\":\"scattergl\",\"marker\":{\"colorbar\":{\"outlinewidth\":0,\"ticks\":\"\"}}}],\"scatter3d\":[{\"type\":\"scatter3d\",\"line\":{\"colorbar\":{\"outlinewidth\":0,\"ticks\":\"\"}},\"marker\":{\"colorbar\":{\"outlinewidth\":0,\"ticks\":\"\"}}}],\"scattermapbox\":[{\"type\":\"scattermapbox\",\"marker\":{\"colorbar\":{\"outlinewidth\":0,\"ticks\":\"\"}}}],\"scatterternary\":[{\"type\":\"scatterternary\",\"marker\":{\"colorbar\":{\"outlinewidth\":0,\"ticks\":\"\"}}}],\"scattercarpet\":[{\"type\":\"scattercarpet\",\"marker\":{\"colorbar\":{\"outlinewidth\":0,\"ticks\":\"\"}}}],\"carpet\":[{\"aaxis\":{\"endlinecolor\":\"#2a3f5f\",\"gridcolor\":\"white\",\"linecolor\":\"white\",\"minorgridcolor\":\"white\",\"startlinecolor\":\"#2a3f5f\"},\"baxis\":{\"endlinecolor\":\"#2a3f5f\",\"gridcolor\":\"white\",\"linecolor\":\"white\",\"minorgridcolor\":\"white\",\"startlinecolor\":\"#2a3f5f\"},\"type\":\"carpet\"}],\"table\":[{\"cells\":{\"fill\":{\"color\":\"#EBF0F8\"},\"line\":{\"color\":\"white\"}},\"header\":{\"fill\":{\"color\":\"#C8D4E3\"},\"line\":{\"color\":\"white\"}},\"type\":\"table\"}],\"barpolar\":[{\"marker\":{\"line\":{\"color\":\"#E5ECF6\",\"width\":0.5},\"pattern\":{\"fillmode\":\"overlay\",\"size\":10,\"solidity\":0.2}},\"type\":\"barpolar\"}],\"pie\":[{\"automargin\":true,\"type\":\"pie\"}]},\"layout\":{\"autotypenumbers\":\"strict\",\"colorway\":[\"#636efa\",\"#EF553B\",\"#00cc96\",\"#ab63fa\",\"#FFA15A\",\"#19d3f3\",\"#FF6692\",\"#B6E880\",\"#FF97FF\",\"#FECB52\"],\"font\":{\"color\":\"#2a3f5f\"},\"hovermode\":\"closest\",\"hoverlabel\":{\"align\":\"left\"},\"paper_bgcolor\":\"white\",\"plot_bgcolor\":\"#E5ECF6\",\"polar\":{\"bgcolor\":\"#E5ECF6\",\"angularaxis\":{\"gridcolor\":\"white\",\"linecolor\":\"white\",\"ticks\":\"\"},\"radialaxis\":{\"gridcolor\":\"white\",\"linecolor\":\"white\",\"ticks\":\"\"}},\"ternary\":{\"bgcolor\":\"#E5ECF6\",\"aaxis\":{\"gridcolor\":\"white\",\"linecolor\":\"white\",\"ticks\":\"\"},\"baxis\":{\"gridcolor\":\"white\",\"linecolor\":\"white\",\"ticks\":\"\"},\"caxis\":{\"gridcolor\":\"white\",\"linecolor\":\"white\",\"ticks\":\"\"}},\"coloraxis\":{\"colorbar\":{\"outlinewidth\":0,\"ticks\":\"\"}},\"colorscale\":{\"sequential\":[[0.0,\"#0d0887\"],[0.1111111111111111,\"#46039f\"],[0.2222222222222222,\"#7201a8\"],[0.3333333333333333,\"#9c179e\"],[0.4444444444444444,\"#bd3786\"],[0.5555555555555556,\"#d8576b\"],[0.6666666666666666,\"#ed7953\"],[0.7777777777777778,\"#fb9f3a\"],[0.8888888888888888,\"#fdca26\"],[1.0,\"#f0f921\"]],\"sequentialminus\":[[0.0,\"#0d0887\"],[0.1111111111111111,\"#46039f\"],[0.2222222222222222,\"#7201a8\"],[0.3333333333333333,\"#9c179e\"],[0.4444444444444444,\"#bd3786\"],[0.5555555555555556,\"#d8576b\"],[0.6666666666666666,\"#ed7953\"],[0.7777777777777778,\"#fb9f3a\"],[0.8888888888888888,\"#fdca26\"],[1.0,\"#f0f921\"]],\"diverging\":[[0,\"#8e0152\"],[0.1,\"#c51b7d\"],[0.2,\"#de77ae\"],[0.3,\"#f1b6da\"],[0.4,\"#fde0ef\"],[0.5,\"#f7f7f7\"],[0.6,\"#e6f5d0\"],[0.7,\"#b8e186\"],[0.8,\"#7fbc41\"],[0.9,\"#4d9221\"],[1,\"#276419\"]]},\"xaxis\":{\"gridcolor\":\"white\",\"linecolor\":\"white\",\"ticks\":\"\",\"title\":{\"standoff\":15},\"zerolinecolor\":\"white\",\"automargin\":true,\"zerolinewidth\":2},\"yaxis\":{\"gridcolor\":\"white\",\"linecolor\":\"white\",\"ticks\":\"\",\"title\":{\"standoff\":15},\"zerolinecolor\":\"white\",\"automargin\":true,\"zerolinewidth\":2},\"scene\":{\"xaxis\":{\"backgroundcolor\":\"#E5ECF6\",\"gridcolor\":\"white\",\"linecolor\":\"white\",\"showbackground\":true,\"ticks\":\"\",\"zerolinecolor\":\"white\",\"gridwidth\":2},\"yaxis\":{\"backgroundcolor\":\"#E5ECF6\",\"gridcolor\":\"white\",\"linecolor\":\"white\",\"showbackground\":true,\"ticks\":\"\",\"zerolinecolor\":\"white\",\"gridwidth\":2},\"zaxis\":{\"backgroundcolor\":\"#E5ECF6\",\"gridcolor\":\"white\",\"linecolor\":\"white\",\"showbackground\":true,\"ticks\":\"\",\"zerolinecolor\":\"white\",\"gridwidth\":2}},\"shapedefaults\":{\"line\":{\"color\":\"#2a3f5f\"}},\"annotationdefaults\":{\"arrowcolor\":\"#2a3f5f\",\"arrowhead\":0,\"arrowwidth\":1},\"geo\":{\"bgcolor\":\"white\",\"landcolor\":\"#E5ECF6\",\"subunitcolor\":\"white\",\"showland\":true,\"showlakes\":true,\"lakecolor\":\"white\"},\"title\":{\"x\":0.05},\"mapbox\":{\"style\":\"light\"}}},\"xaxis\":{\"title\":{\"text\":\"x\"},\"range\":[0,1]},\"yaxis\":{\"title\":{\"text\":\"t\"},\"range\":[-1.5,1.5]}},                        {\"responsive\": true}                    ).then(function(){\n",
              "                            \n",
              "var gd = document.getElementById('aaeead60-009d-47d9-879e-86be6a0cfb14');\n",
              "var x = new MutationObserver(function (mutations, observer) {{\n",
              "        var display = window.getComputedStyle(gd).display;\n",
              "        if (!display || display === 'none') {{\n",
              "            console.log([gd, 'removed!']);\n",
              "            Plotly.purge(gd);\n",
              "            observer.disconnect();\n",
              "        }}\n",
              "}});\n",
              "\n",
              "// Listen for the removal of the full notebook cells\n",
              "var notebookContainer = gd.closest('#notebook-container');\n",
              "if (notebookContainer) {{\n",
              "    x.observe(notebookContainer, {childList: true});\n",
              "}}\n",
              "\n",
              "// Listen for the clearing of the current output cell\n",
              "var outputEl = gd.closest('.output');\n",
              "if (outputEl) {{\n",
              "    x.observe(outputEl, {childList: true});\n",
              "}}\n",
              "\n",
              "                        })                };                            </script>        </div>\n",
              "</body>\n",
              "</html>"
            ]
          },
          "metadata": {}
        }
      ]
    },
    {
      "cell_type": "markdown",
      "metadata": {
        "id": "xV6sseHGnDCZ"
      },
      "source": [
        "Let's now compare several polynomial fits with different degrees.\n",
        "\n",
        "Play a bit with the degrees while taking a look at the coefficients $\\theta$.\n",
        "\n",
        "Which one is the best in *your judgement*?\n",
        "Which one is the best according to the MSE loss?\n",
        "\n",
        "An evergreen reminder that here fits well:\n",
        "> **be skeptical!** Especially about the numbers that should tell us if the results we get are good or bad. Are these really evaluating what should be evaluated?"
      ]
    },
    {
      "cell_type": "code",
      "metadata": {
        "id": "uFyk0X9cfcis",
        "colab": {
          "base_uri": "https://localhost:8080/",
          "height": 737
        },
        "cellView": "form",
        "outputId": "01c45a35-1c37-4ffb-e07b-57dca91b9693"
      },
      "source": [
        "# @title Polynomial fits (press play at least once to trigger the self-update) { run: \"auto\" }\n",
        "\n",
        "degree = {}\n",
        "deg_a = 2  #@param {type:\"slider\", min:0, max:15, step:1}\n",
        "deg_b = 4  #@param {type:\"slider\", min:0, max:15, step:1}\n",
        "deg_c = 7 #@param {type:\"slider\", min:0, max:15, step:1}\n",
        "\n",
        "degree[0], degree[1], degree[2] = deg_a, deg_b, deg_c\n",
        "\n",
        "max_degree = max(degree.values())\n",
        "y = torch.from_numpy(t)\n",
        "X_full = torch.ones((y.shape[0], max_degree + 1), dtype=torch.float64)  # double precision is needed for this calculation!\n",
        "for i in range(max_degree):\n",
        "    X_full[:,i] =  torch.from_numpy(x) ** (max_degree - i)\n",
        "\n",
        "theta_collection = {}\n",
        "\n",
        "for i in range(3):\n",
        "    X = X_full[:,-(degree[i] + 1):]\n",
        "    temp_inverse = torch.inverse(torch.einsum('ij,jk->ik', X.t(), X))\n",
        "    theta_collection[i] = torch.einsum('ij,jk,k->i', temp_inverse, X.t(), y)\n",
        "\n",
        "fig = make_subplots(\n",
        "    rows=1, cols=3,\n",
        "    subplot_titles=(f\"poly{degree[0]} fit\", f\"poly{degree[1]} fit\", f\"poly{degree[2]} fit\"))\n",
        "\n",
        "x_funcs = np.arange(0,1,1./100)\n",
        "y_funcs = {}\n",
        "for i in range(3):\n",
        "    theta_funcs = theta_collection[i].numpy()\n",
        "    X_funcs = np.ones((x_funcs.shape[0], degree[i] + 1), dtype=np.float64)\n",
        "    for j in range(degree[i]):\n",
        "        X_funcs[:,j] =  x_funcs ** (degree[i] - j)\n",
        "    y_funcs[i] = np.einsum('ij,j->i', X_funcs, theta_funcs)\n",
        "    coefficients_string = '<br><br><br>' + '<br>'.join([c + f': {np.round(theta_funcs[i], decimals=2)}' for i, c in enumerate('abcdefghijklmnopqrstuvwxyz'[:len(theta_funcs)])])\n",
        "\n",
        "    fig.add_trace(go.Scatter(x=x, y=t, mode='markers', marker=dict(color=\"mediumpurple\")), row=1, col=i + 1)\n",
        "    fig.add_trace(go.Scatter(x=x_funcs, y=np.sin(2*np.pi*x_funcs), mode='lines', line=dict(color=\"lightgreen\")), row=1, col=i + 1)\n",
        "    fig.add_trace(go.Scatter(x=x_funcs, y=y_funcs[i], mode='lines', line=dict(color=\"lightsalmon\")), row=1, col=i + 1)\n",
        "    fig.update_xaxes(title_text=\"x\" + coefficients_string, range = [0,1], row=1, col=i+1)\n",
        "\n",
        "fig.update_layout(showlegend=False)\n",
        "fig.update_yaxes(title_text=\"t\", range = [-5,5])\n",
        "fig.update_layout(height=700, width=1300, title_text=\"Polynomial fits and their coefficients\")\n",
        "fig.show()"
      ],
      "execution_count": null,
      "outputs": [
        {
          "output_type": "display_data",
          "data": {
            "text/html": [
              "<html>\n",
              "<head><meta charset=\"utf-8\" /></head>\n",
              "<body>\n",
              "    <div>            <script src=\"https://cdnjs.cloudflare.com/ajax/libs/mathjax/2.7.5/MathJax.js?config=TeX-AMS-MML_SVG\"></script><script type=\"text/javascript\">if (window.MathJax && window.MathJax.Hub && window.MathJax.Hub.Config) {window.MathJax.Hub.Config({SVG: {font: \"STIX-Web\"}});}</script>                <script type=\"text/javascript\">window.PlotlyConfig = {MathJaxConfig: 'local'};</script>\n",
              "        <script charset=\"utf-8\" src=\"https://cdn.plot.ly/plotly-2.24.1.min.js\"></script>                <div id=\"e1e4243e-adbc-492d-8bdc-47828b489e5f\" class=\"plotly-graph-div\" style=\"height:700px; width:1300px;\"></div>            <script type=\"text/javascript\">                                    window.PLOTLYENV=window.PLOTLYENV || {};                                    if (document.getElementById(\"e1e4243e-adbc-492d-8bdc-47828b489e5f\")) {                    Plotly.newPlot(                        \"e1e4243e-adbc-492d-8bdc-47828b489e5f\",                        [{\"marker\":{\"color\":\"mediumpurple\"},\"mode\":\"markers\",\"x\":[0.3745401188473625,0.9507143064099162,0.7319939418114051,0.5986584841970366,0.15601864044243652,0.15599452033620265,0.05808361216819946,0.8661761457749352,0.6011150117432088,0.7080725777960455],\"y\":[0.6621995859491285,-0.2504894367193866,-1.0399487832345553,-0.6275182299806012,0.854857342681687,0.6392487011533475,0.18441089666331875,-0.8014323286500792,-0.6947217251134631,-0.9340757540684701],\"type\":\"scatter\",\"xaxis\":\"x\",\"yaxis\":\"y\"},{\"line\":{\"color\":\"lightgreen\"},\"mode\":\"lines\",\"x\":[0.0,0.01,0.02,0.03,0.04,0.05,0.06,0.07,0.08,0.09,0.1,0.11,0.12,0.13,0.14,0.15,0.16,0.17,0.18,0.19,0.2,0.21,0.22,0.23,0.24,0.25,0.26,0.27,0.28,0.29,0.3,0.31,0.32,0.33,0.34,0.35000000000000003,0.36,0.37,0.38,0.39,0.4,0.41000000000000003,0.42,0.43,0.44,0.45,0.46,0.47000000000000003,0.48,0.49,0.5,0.51,0.52,0.53,0.54,0.55,0.56,0.5700000000000001,0.58,0.59,0.6,0.61,0.62,0.63,0.64,0.65,0.66,0.67,0.68,0.6900000000000001,0.7000000000000001,0.71,0.72,0.73,0.74,0.75,0.76,0.77,0.78,0.79,0.8,0.81,0.8200000000000001,0.8300000000000001,0.84,0.85,0.86,0.87,0.88,0.89,0.9,0.91,0.92,0.93,0.9400000000000001,0.9500000000000001,0.96,0.97,0.98,0.99],\"y\":[0.0,0.06279051952931337,0.12533323356430426,0.1873813145857246,0.2486898871648548,0.3090169943749474,0.3681245526846779,0.4257792915650727,0.4817536741017153,0.5358267949789967,0.5877852522924731,0.6374239897486896,0.6845471059286886,0.7289686274214116,0.7705132427757893,0.8090169943749475,0.8443279255020151,0.8763066800438637,0.9048270524660196,0.9297764858882513,0.9510565162951535,0.9685831611286311,0.9822872507286886,0.9921147013144779,0.9980267284282716,1.0,0.9980267284282716,0.9921147013144778,0.9822872507286886,0.9685831611286312,0.9510565162951536,0.9297764858882513,0.9048270524660195,0.8763066800438635,0.844327925502015,0.8090169943749475,0.7705132427757893,0.7289686274214114,0.6845471059286888,0.6374239897486899,0.5877852522924732,0.5358267949789967,0.4817536741017156,0.4257792915650729,0.36812455268467814,0.3090169943749475,0.24868988716485482,0.18738131458572457,0.12533323356430454,0.06279051952931358,1.2246467991473532e-16,-0.06279051952931335,-0.12533323356430429,-0.18738131458572477,-0.24868988716485502,-0.30901699437494773,-0.3681245526846783,-0.42577929156507266,-0.481753674101715,-0.5358267949789964,-0.587785252292473,-0.6374239897486896,-0.6845471059286887,-0.7289686274214113,-0.7705132427757894,-0.8090169943749473,-0.8443279255020153,-0.8763066800438636,-0.9048270524660198,-0.9297764858882515,-0.9510565162951535,-0.968583161128631,-0.9822872507286887,-0.9921147013144778,-0.9980267284282716,-1.0,-0.9980267284282716,-0.9921147013144779,-0.9822872507286887,-0.9685831611286311,-0.9510565162951536,-0.9297764858882512,-0.9048270524660196,-0.8763066800438634,-0.8443279255020155,-0.8090169943749476,-0.7705132427757896,-0.7289686274214116,-0.684547105928689,-0.6374239897486896,-0.5877852522924734,-0.5358267949789963,-0.4817536741017153,-0.4257792915650722,-0.36812455268467786,-0.3090169943749476,-0.24868988716485535,-0.18738131458572468,-0.12533323356430465,-0.06279051952931326],\"type\":\"scatter\",\"xaxis\":\"x\",\"yaxis\":\"y\"},{\"line\":{\"color\":\"lightsalmon\"},\"mode\":\"lines\",\"x\":[0.0,0.01,0.02,0.03,0.04,0.05,0.06,0.07,0.08,0.09,0.1,0.11,0.12,0.13,0.14,0.15,0.16,0.17,0.18,0.19,0.2,0.21,0.22,0.23,0.24,0.25,0.26,0.27,0.28,0.29,0.3,0.31,0.32,0.33,0.34,0.35000000000000003,0.36,0.37,0.38,0.39,0.4,0.41000000000000003,0.42,0.43,0.44,0.45,0.46,0.47000000000000003,0.48,0.49,0.5,0.51,0.52,0.53,0.54,0.55,0.56,0.5700000000000001,0.58,0.59,0.6,0.61,0.62,0.63,0.64,0.65,0.66,0.67,0.68,0.6900000000000001,0.7000000000000001,0.71,0.72,0.73,0.74,0.75,0.76,0.77,0.78,0.79,0.8,0.81,0.8200000000000001,0.8300000000000001,0.84,0.85,0.86,0.87,0.88,0.89,0.9,0.91,0.92,0.93,0.9400000000000001,0.9500000000000001,0.96,0.97,0.98,0.99],\"y\":[1.0148930945699386,0.9783524386267819,0.9421975368298875,0.9064283891792554,0.8710449956748859,0.8360473563167785,0.8014354711049336,0.7672093400393512,0.7333689631200309,0.6999143403469731,0.6668454717201775,0.6341623572396444,0.6018649969053738,0.5699533907173655,0.5384275386756193,0.5072874407801357,0.4765330970309146,0.44616450742795566,0.416181671971259,0.38658459066082496,0.3573732634966532,0.3285476904787439,0.30010787160709673,0.272053806881712,0.24438549630258966,0.21710293986972973,0.19020613758313198,0.16369508944279698,0.13756979544872405,0.11183025560091364,0.08647646989936542,0.0615084383440796,0.03692616093505641,0.01272963767229518,-0.011081131444203418,-0.03450614641443961,-0.057545407238413615,-0.08019891391612521,-0.1024666664475744,-0.12434866483276119,-0.1458449090716858,-0.16695539916434776,-0.18768013511074733,-0.20801911691088493,-0.2279723445647599,-0.24753981807237246,-0.26672153743372284,-0.2855175026488106,-0.30392771371763594,-0.3219521706401993,-0.33959087341650007,-0.3568438220465384,-0.3737110165303148,-0.39019245686782833,-0.40628814305907945,-0.4219980751040686,-0.43732225300279515,-0.45226067675525927,-0.466813346361461,-0.4809802618214005,-0.4947614231350781,-0.5081568303024926,-0.5211664833236451,-0.5337903821985348,-0.5460285269271625,-0.5578809175095278,-0.5693475539456312,-0.5804284362354717,-0.5911235643790498,-0.6014329383763655,-0.611356558227419,-0.6208944239322098,-0.630046535490739,-0.6388128929030055,-0.6471934961690096,-0.6551883452887508,-0.6627974402622301,-0.670020781089447,-0.676858367770401,-0.6833102003050935,-0.6893762786935236,-0.6950566029356908,-0.7003511730315961,-0.7052599889812385,-0.709783050784619,-0.7139203584417371,-0.7176719119525927,-0.721037711317186,-0.7240177565355164,-0.7266120476075852,-0.7288205845333908,-0.7306433673129353,-0.732080395946217,-0.7331316704332353,-0.7337971907739922,-0.7340769569684866,-0.7339709690167182,-0.7334792269186883,-0.7326017306743955,-0.7313384802838403],\"type\":\"scatter\",\"xaxis\":\"x\",\"yaxis\":\"y\"},{\"marker\":{\"color\":\"mediumpurple\"},\"mode\":\"markers\",\"x\":[0.3745401188473625,0.9507143064099162,0.7319939418114051,0.5986584841970366,0.15601864044243652,0.15599452033620265,0.05808361216819946,0.8661761457749352,0.6011150117432088,0.7080725777960455],\"y\":[0.6621995859491285,-0.2504894367193866,-1.0399487832345553,-0.6275182299806012,0.854857342681687,0.6392487011533475,0.18441089666331875,-0.8014323286500792,-0.6947217251134631,-0.9340757540684701],\"type\":\"scatter\",\"xaxis\":\"x2\",\"yaxis\":\"y2\"},{\"line\":{\"color\":\"lightgreen\"},\"mode\":\"lines\",\"x\":[0.0,0.01,0.02,0.03,0.04,0.05,0.06,0.07,0.08,0.09,0.1,0.11,0.12,0.13,0.14,0.15,0.16,0.17,0.18,0.19,0.2,0.21,0.22,0.23,0.24,0.25,0.26,0.27,0.28,0.29,0.3,0.31,0.32,0.33,0.34,0.35000000000000003,0.36,0.37,0.38,0.39,0.4,0.41000000000000003,0.42,0.43,0.44,0.45,0.46,0.47000000000000003,0.48,0.49,0.5,0.51,0.52,0.53,0.54,0.55,0.56,0.5700000000000001,0.58,0.59,0.6,0.61,0.62,0.63,0.64,0.65,0.66,0.67,0.68,0.6900000000000001,0.7000000000000001,0.71,0.72,0.73,0.74,0.75,0.76,0.77,0.78,0.79,0.8,0.81,0.8200000000000001,0.8300000000000001,0.84,0.85,0.86,0.87,0.88,0.89,0.9,0.91,0.92,0.93,0.9400000000000001,0.9500000000000001,0.96,0.97,0.98,0.99],\"y\":[0.0,0.06279051952931337,0.12533323356430426,0.1873813145857246,0.2486898871648548,0.3090169943749474,0.3681245526846779,0.4257792915650727,0.4817536741017153,0.5358267949789967,0.5877852522924731,0.6374239897486896,0.6845471059286886,0.7289686274214116,0.7705132427757893,0.8090169943749475,0.8443279255020151,0.8763066800438637,0.9048270524660196,0.9297764858882513,0.9510565162951535,0.9685831611286311,0.9822872507286886,0.9921147013144779,0.9980267284282716,1.0,0.9980267284282716,0.9921147013144778,0.9822872507286886,0.9685831611286312,0.9510565162951536,0.9297764858882513,0.9048270524660195,0.8763066800438635,0.844327925502015,0.8090169943749475,0.7705132427757893,0.7289686274214114,0.6845471059286888,0.6374239897486899,0.5877852522924732,0.5358267949789967,0.4817536741017156,0.4257792915650729,0.36812455268467814,0.3090169943749475,0.24868988716485482,0.18738131458572457,0.12533323356430454,0.06279051952931358,1.2246467991473532e-16,-0.06279051952931335,-0.12533323356430429,-0.18738131458572477,-0.24868988716485502,-0.30901699437494773,-0.3681245526846783,-0.42577929156507266,-0.481753674101715,-0.5358267949789964,-0.587785252292473,-0.6374239897486896,-0.6845471059286887,-0.7289686274214113,-0.7705132427757894,-0.8090169943749473,-0.8443279255020153,-0.8763066800438636,-0.9048270524660198,-0.9297764858882515,-0.9510565162951535,-0.968583161128631,-0.9822872507286887,-0.9921147013144778,-0.9980267284282716,-1.0,-0.9980267284282716,-0.9921147013144779,-0.9822872507286887,-0.9685831611286311,-0.9510565162951536,-0.9297764858882512,-0.9048270524660196,-0.8763066800438634,-0.8443279255020155,-0.8090169943749476,-0.7705132427757896,-0.7289686274214116,-0.684547105928689,-0.6374239897486896,-0.5877852522924734,-0.5358267949789963,-0.4817536741017153,-0.4257792915650722,-0.36812455268467786,-0.3090169943749476,-0.24868988716485535,-0.18738131458572468,-0.12533323356430465,-0.06279051952931326],\"type\":\"scatter\",\"xaxis\":\"x2\",\"yaxis\":\"y2\"},{\"line\":{\"color\":\"lightsalmon\"},\"mode\":\"lines\",\"x\":[0.0,0.01,0.02,0.03,0.04,0.05,0.06,0.07,0.08,0.09,0.1,0.11,0.12,0.13,0.14,0.15,0.16,0.17,0.18,0.19,0.2,0.21,0.22,0.23,0.24,0.25,0.26,0.27,0.28,0.29,0.3,0.31,0.32,0.33,0.34,0.35000000000000003,0.36,0.37,0.38,0.39,0.4,0.41000000000000003,0.42,0.43,0.44,0.45,0.46,0.47000000000000003,0.48,0.49,0.5,0.51,0.52,0.53,0.54,0.55,0.56,0.5700000000000001,0.58,0.59,0.6,0.61,0.62,0.63,0.64,0.65,0.66,0.67,0.68,0.6900000000000001,0.7000000000000001,0.71,0.72,0.73,0.74,0.75,0.76,0.77,0.78,0.79,0.8,0.81,0.8200000000000001,0.8300000000000001,0.84,0.85,0.86,0.87,0.88,0.89,0.9,0.91,0.92,0.93,0.9400000000000001,0.9500000000000001,0.96,0.97,0.98,0.99],\"y\":[-0.5302142008549406,-0.3947423063721347,-0.26702228174168746,-0.14688946483405685,-0.0341794304894355,0.0712720094822481,0.16962880630133037,0.2610546742184131,0.3457130905143617,0.423767295500307,0.4953802925176448,0.5607148479380348,0.619933491163402,0.6731985146259367,0.7206719737880927,0.7625156871425887,0.7988912362124099,0.8299599655508034,0.8558829827412837,0.8768211583976282,0.8929351261638794,0.9043852827143462,0.9113317877535985,0.9139345640164755,0.9123532972680786,0.9067474363037737,0.8972761929491919,0.8840985420602294,0.8673732215230472,0.8472587322540699,0.8239133381999872,0.7974950663377562,0.7681617066745945,0.7360708122479869,0.7013796991256838,0.6642454464056966,0.6248248962163059,0.5832746537160531,0.5397510870937499,0.49441032756846326,0.44740826938953493,0.39890056983656663,0.3490426492194256,0.29798969087824023,0.24589664118341226,0.1929182095355948,0.13920886836572244,0.08492285313498193,0.030214162334829098,-0.02476344251301299,-0.07985643685656818,-0.13491153311357884,-0.18977568067153427,-0.24429606588765473,-0.2983201120888932,-0.3516954795719478,-0.4042700656032405,-0.45589200441893496,-0.5064096672249256,-0.5556716621968487,-0.603526834480073,-0.6498242661896967,-0.6944132764105628,-0.7371434211972439,-0.7778644935740431,-0.8164265235350143,-0.8526797780439352,-0.8864747610343109,-0.9176622134094004,-0.9460931130421848,-0.9716186747753852,-0.9940903504214589,-1.0133598287625993,-1.0292790355507293,-1.0417001335075113,-1.0504755223243407,-1.055457838662349,-1.0564999561524004,-1.053454985395117,-1.0461762739608105,-1.0345174063895755,-1.0183322041911964,-0.9974747258452439,-0.9717992668009714,-0.9411603594774149,-0.9054127732633077,-0.8644115145171511,-0.8180118265671545,-0.7660691897112706,-0.7084393212171918,-0.6449781753223576,-0.5755419432339011,-0.49998705312873426,-0.4181701701534948,-0.3299481964245601,-0.2351782710279906,-0.13371777001966478,-0.025424306425136933,0.0898442697602917,0.2122298715715587],\"type\":\"scatter\",\"xaxis\":\"x2\",\"yaxis\":\"y2\"},{\"marker\":{\"color\":\"mediumpurple\"},\"mode\":\"markers\",\"x\":[0.3745401188473625,0.9507143064099162,0.7319939418114051,0.5986584841970366,0.15601864044243652,0.15599452033620265,0.05808361216819946,0.8661761457749352,0.6011150117432088,0.7080725777960455],\"y\":[0.6621995859491285,-0.2504894367193866,-1.0399487832345553,-0.6275182299806012,0.854857342681687,0.6392487011533475,0.18441089666331875,-0.8014323286500792,-0.6947217251134631,-0.9340757540684701],\"type\":\"scatter\",\"xaxis\":\"x3\",\"yaxis\":\"y3\"},{\"line\":{\"color\":\"lightgreen\"},\"mode\":\"lines\",\"x\":[0.0,0.01,0.02,0.03,0.04,0.05,0.06,0.07,0.08,0.09,0.1,0.11,0.12,0.13,0.14,0.15,0.16,0.17,0.18,0.19,0.2,0.21,0.22,0.23,0.24,0.25,0.26,0.27,0.28,0.29,0.3,0.31,0.32,0.33,0.34,0.35000000000000003,0.36,0.37,0.38,0.39,0.4,0.41000000000000003,0.42,0.43,0.44,0.45,0.46,0.47000000000000003,0.48,0.49,0.5,0.51,0.52,0.53,0.54,0.55,0.56,0.5700000000000001,0.58,0.59,0.6,0.61,0.62,0.63,0.64,0.65,0.66,0.67,0.68,0.6900000000000001,0.7000000000000001,0.71,0.72,0.73,0.74,0.75,0.76,0.77,0.78,0.79,0.8,0.81,0.8200000000000001,0.8300000000000001,0.84,0.85,0.86,0.87,0.88,0.89,0.9,0.91,0.92,0.93,0.9400000000000001,0.9500000000000001,0.96,0.97,0.98,0.99],\"y\":[0.0,0.06279051952931337,0.12533323356430426,0.1873813145857246,0.2486898871648548,0.3090169943749474,0.3681245526846779,0.4257792915650727,0.4817536741017153,0.5358267949789967,0.5877852522924731,0.6374239897486896,0.6845471059286886,0.7289686274214116,0.7705132427757893,0.8090169943749475,0.8443279255020151,0.8763066800438637,0.9048270524660196,0.9297764858882513,0.9510565162951535,0.9685831611286311,0.9822872507286886,0.9921147013144779,0.9980267284282716,1.0,0.9980267284282716,0.9921147013144778,0.9822872507286886,0.9685831611286312,0.9510565162951536,0.9297764858882513,0.9048270524660195,0.8763066800438635,0.844327925502015,0.8090169943749475,0.7705132427757893,0.7289686274214114,0.6845471059286888,0.6374239897486899,0.5877852522924732,0.5358267949789967,0.4817536741017156,0.4257792915650729,0.36812455268467814,0.3090169943749475,0.24868988716485482,0.18738131458572457,0.12533323356430454,0.06279051952931358,1.2246467991473532e-16,-0.06279051952931335,-0.12533323356430429,-0.18738131458572477,-0.24868988716485502,-0.30901699437494773,-0.3681245526846783,-0.42577929156507266,-0.481753674101715,-0.5358267949789964,-0.587785252292473,-0.6374239897486896,-0.6845471059286887,-0.7289686274214113,-0.7705132427757894,-0.8090169943749473,-0.8443279255020153,-0.8763066800438636,-0.9048270524660198,-0.9297764858882515,-0.9510565162951535,-0.968583161128631,-0.9822872507286887,-0.9921147013144778,-0.9980267284282716,-1.0,-0.9980267284282716,-0.9921147013144779,-0.9822872507286887,-0.9685831611286311,-0.9510565162951536,-0.9297764858882512,-0.9048270524660196,-0.8763066800438634,-0.8443279255020155,-0.8090169943749476,-0.7705132427757896,-0.7289686274214116,-0.684547105928689,-0.6374239897486896,-0.5877852522924734,-0.5358267949789963,-0.4817536741017153,-0.4257792915650722,-0.36812455268467786,-0.3090169943749476,-0.24868988716485535,-0.18738131458572468,-0.12533323356430465,-0.06279051952931326],\"type\":\"scatter\",\"xaxis\":\"x3\",\"yaxis\":\"y3\"},{\"line\":{\"color\":\"lightsalmon\"},\"mode\":\"lines\",\"x\":[0.0,0.01,0.02,0.03,0.04,0.05,0.06,0.07,0.08,0.09,0.1,0.11,0.12,0.13,0.14,0.15,0.16,0.17,0.18,0.19,0.2,0.21,0.22,0.23,0.24,0.25,0.26,0.27,0.28,0.29,0.3,0.31,0.32,0.33,0.34,0.35000000000000003,0.36,0.37,0.38,0.39,0.4,0.41000000000000003,0.42,0.43,0.44,0.45,0.46,0.47000000000000003,0.48,0.49,0.5,0.51,0.52,0.53,0.54,0.55,0.56,0.5700000000000001,0.58,0.59,0.6,0.61,0.62,0.63,0.64,0.65,0.66,0.67,0.68,0.6900000000000001,0.7000000000000001,0.71,0.72,0.73,0.74,0.75,0.76,0.77,0.78,0.79,0.8,0.81,0.8200000000000001,0.8300000000000001,0.84,0.85,0.86,0.87,0.88,0.89,0.9,0.91,0.92,0.93,0.9400000000000001,0.9500000000000001,0.96,0.97,0.98,0.99],\"y\":[7.41237344086403,5.309764061193625,3.6338310204052835,2.3257692190381682,1.332441684080063,0.6060046595219344,0.10354822028855182,-0.21324789699423974,-0.3784435529349892,-0.4221528605544016,-0.3708445432447576,-0.2476283020503658,-0.07252749880864684,0.13726153830881316,0.3671232803159228,0.6047895274526098,0.8401183972073341,1.0648854637817067,1.2725867424578894,1.4582532123296232,1.6182765708567786,1.7502459137049584,1.8527950333295564,1.9254600297660716,1.9685469270861802,1.983008988980373,1.9703334269289599,1.9324371944193786,1.8715715606730328,1.7902351573414421,1.6910951916304384,1.57691651931583,1.450498271109609,1.314617725836115,1.1719811238826878,1.0251811143789382,0.8766605295726322,0.7286821798568326,0.583304362911008,0.44236178041887797,0.30745155581803374,0.179924046549786,0.06087814425927718,-0.04883924358068725,-0.14862983717353018,-0.23813705956376907,-0.31723585000008825,-0.3860195220454443,-0.4447839729605221,-0.4940095509141429,-0.534340886544669,-0.566564995428962,-0.591587957981119,-0.6104104833384554,-0.6241026637503637,-0.6337782260384301,-0.6405685866448039,-0.6455970168153726,-0.6499532244588409,-0.6546686592255355,-0.660692847323844,-0.6688710626549437,-0.6799236407523495,-0.6944272421114874,-0.7127983714390211,-0.7352794593061844,-0.7619278128677252,-0.7926077420324873,-0.8269861677654262,-0.8645320189607446,-0.9045197244649898,-0.9460371068198583,-0.9879979841916793,-1.0291597870873375,-1.0681464963763574,-1.103477209157063,-1.133600638995631,-1.1569358571141493,-1.171919581007387,-1.1770603171025869,-1.1709996639256133,-1.1525810823732172,-1.1209264395838545,-1.0755206330177316,-1.0163046011475672,-0.9437770275071671,-0.8591050443865242,-0.7642442429896619,-0.6620682963039144,-0.5565085014968645,-0.4527035481441999,-0.3571598190028453,-0.2779225297854282,-0.22475801446853438,-0.2093474627181422,-0.24549241592467297,-0.3493323284201324,-0.5395745004716446,-0.8377366893910221,-1.268402705580229],\"type\":\"scatter\",\"xaxis\":\"x3\",\"yaxis\":\"y3\"}],                        {\"template\":{\"data\":{\"histogram2dcontour\":[{\"type\":\"histogram2dcontour\",\"colorbar\":{\"outlinewidth\":0,\"ticks\":\"\"},\"colorscale\":[[0.0,\"#0d0887\"],[0.1111111111111111,\"#46039f\"],[0.2222222222222222,\"#7201a8\"],[0.3333333333333333,\"#9c179e\"],[0.4444444444444444,\"#bd3786\"],[0.5555555555555556,\"#d8576b\"],[0.6666666666666666,\"#ed7953\"],[0.7777777777777778,\"#fb9f3a\"],[0.8888888888888888,\"#fdca26\"],[1.0,\"#f0f921\"]]}],\"choropleth\":[{\"type\":\"choropleth\",\"colorbar\":{\"outlinewidth\":0,\"ticks\":\"\"}}],\"histogram2d\":[{\"type\":\"histogram2d\",\"colorbar\":{\"outlinewidth\":0,\"ticks\":\"\"},\"colorscale\":[[0.0,\"#0d0887\"],[0.1111111111111111,\"#46039f\"],[0.2222222222222222,\"#7201a8\"],[0.3333333333333333,\"#9c179e\"],[0.4444444444444444,\"#bd3786\"],[0.5555555555555556,\"#d8576b\"],[0.6666666666666666,\"#ed7953\"],[0.7777777777777778,\"#fb9f3a\"],[0.8888888888888888,\"#fdca26\"],[1.0,\"#f0f921\"]]}],\"heatmap\":[{\"type\":\"heatmap\",\"colorbar\":{\"outlinewidth\":0,\"ticks\":\"\"},\"colorscale\":[[0.0,\"#0d0887\"],[0.1111111111111111,\"#46039f\"],[0.2222222222222222,\"#7201a8\"],[0.3333333333333333,\"#9c179e\"],[0.4444444444444444,\"#bd3786\"],[0.5555555555555556,\"#d8576b\"],[0.6666666666666666,\"#ed7953\"],[0.7777777777777778,\"#fb9f3a\"],[0.8888888888888888,\"#fdca26\"],[1.0,\"#f0f921\"]]}],\"heatmapgl\":[{\"type\":\"heatmapgl\",\"colorbar\":{\"outlinewidth\":0,\"ticks\":\"\"},\"colorscale\":[[0.0,\"#0d0887\"],[0.1111111111111111,\"#46039f\"],[0.2222222222222222,\"#7201a8\"],[0.3333333333333333,\"#9c179e\"],[0.4444444444444444,\"#bd3786\"],[0.5555555555555556,\"#d8576b\"],[0.6666666666666666,\"#ed7953\"],[0.7777777777777778,\"#fb9f3a\"],[0.8888888888888888,\"#fdca26\"],[1.0,\"#f0f921\"]]}],\"contourcarpet\":[{\"type\":\"contourcarpet\",\"colorbar\":{\"outlinewidth\":0,\"ticks\":\"\"}}],\"contour\":[{\"type\":\"contour\",\"colorbar\":{\"outlinewidth\":0,\"ticks\":\"\"},\"colorscale\":[[0.0,\"#0d0887\"],[0.1111111111111111,\"#46039f\"],[0.2222222222222222,\"#7201a8\"],[0.3333333333333333,\"#9c179e\"],[0.4444444444444444,\"#bd3786\"],[0.5555555555555556,\"#d8576b\"],[0.6666666666666666,\"#ed7953\"],[0.7777777777777778,\"#fb9f3a\"],[0.8888888888888888,\"#fdca26\"],[1.0,\"#f0f921\"]]}],\"surface\":[{\"type\":\"surface\",\"colorbar\":{\"outlinewidth\":0,\"ticks\":\"\"},\"colorscale\":[[0.0,\"#0d0887\"],[0.1111111111111111,\"#46039f\"],[0.2222222222222222,\"#7201a8\"],[0.3333333333333333,\"#9c179e\"],[0.4444444444444444,\"#bd3786\"],[0.5555555555555556,\"#d8576b\"],[0.6666666666666666,\"#ed7953\"],[0.7777777777777778,\"#fb9f3a\"],[0.8888888888888888,\"#fdca26\"],[1.0,\"#f0f921\"]]}],\"mesh3d\":[{\"type\":\"mesh3d\",\"colorbar\":{\"outlinewidth\":0,\"ticks\":\"\"}}],\"scatter\":[{\"fillpattern\":{\"fillmode\":\"overlay\",\"size\":10,\"solidity\":0.2},\"type\":\"scatter\"}],\"parcoords\":[{\"type\":\"parcoords\",\"line\":{\"colorbar\":{\"outlinewidth\":0,\"ticks\":\"\"}}}],\"scatterpolargl\":[{\"type\":\"scatterpolargl\",\"marker\":{\"colorbar\":{\"outlinewidth\":0,\"ticks\":\"\"}}}],\"bar\":[{\"error_x\":{\"color\":\"#2a3f5f\"},\"error_y\":{\"color\":\"#2a3f5f\"},\"marker\":{\"line\":{\"color\":\"#E5ECF6\",\"width\":0.5},\"pattern\":{\"fillmode\":\"overlay\",\"size\":10,\"solidity\":0.2}},\"type\":\"bar\"}],\"scattergeo\":[{\"type\":\"scattergeo\",\"marker\":{\"colorbar\":{\"outlinewidth\":0,\"ticks\":\"\"}}}],\"scatterpolar\":[{\"type\":\"scatterpolar\",\"marker\":{\"colorbar\":{\"outlinewidth\":0,\"ticks\":\"\"}}}],\"histogram\":[{\"marker\":{\"pattern\":{\"fillmode\":\"overlay\",\"size\":10,\"solidity\":0.2}},\"type\":\"histogram\"}],\"scattergl\":[{\"type\":\"scattergl\",\"marker\":{\"colorbar\":{\"outlinewidth\":0,\"ticks\":\"\"}}}],\"scatter3d\":[{\"type\":\"scatter3d\",\"line\":{\"colorbar\":{\"outlinewidth\":0,\"ticks\":\"\"}},\"marker\":{\"colorbar\":{\"outlinewidth\":0,\"ticks\":\"\"}}}],\"scattermapbox\":[{\"type\":\"scattermapbox\",\"marker\":{\"colorbar\":{\"outlinewidth\":0,\"ticks\":\"\"}}}],\"scatterternary\":[{\"type\":\"scatterternary\",\"marker\":{\"colorbar\":{\"outlinewidth\":0,\"ticks\":\"\"}}}],\"scattercarpet\":[{\"type\":\"scattercarpet\",\"marker\":{\"colorbar\":{\"outlinewidth\":0,\"ticks\":\"\"}}}],\"carpet\":[{\"aaxis\":{\"endlinecolor\":\"#2a3f5f\",\"gridcolor\":\"white\",\"linecolor\":\"white\",\"minorgridcolor\":\"white\",\"startlinecolor\":\"#2a3f5f\"},\"baxis\":{\"endlinecolor\":\"#2a3f5f\",\"gridcolor\":\"white\",\"linecolor\":\"white\",\"minorgridcolor\":\"white\",\"startlinecolor\":\"#2a3f5f\"},\"type\":\"carpet\"}],\"table\":[{\"cells\":{\"fill\":{\"color\":\"#EBF0F8\"},\"line\":{\"color\":\"white\"}},\"header\":{\"fill\":{\"color\":\"#C8D4E3\"},\"line\":{\"color\":\"white\"}},\"type\":\"table\"}],\"barpolar\":[{\"marker\":{\"line\":{\"color\":\"#E5ECF6\",\"width\":0.5},\"pattern\":{\"fillmode\":\"overlay\",\"size\":10,\"solidity\":0.2}},\"type\":\"barpolar\"}],\"pie\":[{\"automargin\":true,\"type\":\"pie\"}]},\"layout\":{\"autotypenumbers\":\"strict\",\"colorway\":[\"#636efa\",\"#EF553B\",\"#00cc96\",\"#ab63fa\",\"#FFA15A\",\"#19d3f3\",\"#FF6692\",\"#B6E880\",\"#FF97FF\",\"#FECB52\"],\"font\":{\"color\":\"#2a3f5f\"},\"hovermode\":\"closest\",\"hoverlabel\":{\"align\":\"left\"},\"paper_bgcolor\":\"white\",\"plot_bgcolor\":\"#E5ECF6\",\"polar\":{\"bgcolor\":\"#E5ECF6\",\"angularaxis\":{\"gridcolor\":\"white\",\"linecolor\":\"white\",\"ticks\":\"\"},\"radialaxis\":{\"gridcolor\":\"white\",\"linecolor\":\"white\",\"ticks\":\"\"}},\"ternary\":{\"bgcolor\":\"#E5ECF6\",\"aaxis\":{\"gridcolor\":\"white\",\"linecolor\":\"white\",\"ticks\":\"\"},\"baxis\":{\"gridcolor\":\"white\",\"linecolor\":\"white\",\"ticks\":\"\"},\"caxis\":{\"gridcolor\":\"white\",\"linecolor\":\"white\",\"ticks\":\"\"}},\"coloraxis\":{\"colorbar\":{\"outlinewidth\":0,\"ticks\":\"\"}},\"colorscale\":{\"sequential\":[[0.0,\"#0d0887\"],[0.1111111111111111,\"#46039f\"],[0.2222222222222222,\"#7201a8\"],[0.3333333333333333,\"#9c179e\"],[0.4444444444444444,\"#bd3786\"],[0.5555555555555556,\"#d8576b\"],[0.6666666666666666,\"#ed7953\"],[0.7777777777777778,\"#fb9f3a\"],[0.8888888888888888,\"#fdca26\"],[1.0,\"#f0f921\"]],\"sequentialminus\":[[0.0,\"#0d0887\"],[0.1111111111111111,\"#46039f\"],[0.2222222222222222,\"#7201a8\"],[0.3333333333333333,\"#9c179e\"],[0.4444444444444444,\"#bd3786\"],[0.5555555555555556,\"#d8576b\"],[0.6666666666666666,\"#ed7953\"],[0.7777777777777778,\"#fb9f3a\"],[0.8888888888888888,\"#fdca26\"],[1.0,\"#f0f921\"]],\"diverging\":[[0,\"#8e0152\"],[0.1,\"#c51b7d\"],[0.2,\"#de77ae\"],[0.3,\"#f1b6da\"],[0.4,\"#fde0ef\"],[0.5,\"#f7f7f7\"],[0.6,\"#e6f5d0\"],[0.7,\"#b8e186\"],[0.8,\"#7fbc41\"],[0.9,\"#4d9221\"],[1,\"#276419\"]]},\"xaxis\":{\"gridcolor\":\"white\",\"linecolor\":\"white\",\"ticks\":\"\",\"title\":{\"standoff\":15},\"zerolinecolor\":\"white\",\"automargin\":true,\"zerolinewidth\":2},\"yaxis\":{\"gridcolor\":\"white\",\"linecolor\":\"white\",\"ticks\":\"\",\"title\":{\"standoff\":15},\"zerolinecolor\":\"white\",\"automargin\":true,\"zerolinewidth\":2},\"scene\":{\"xaxis\":{\"backgroundcolor\":\"#E5ECF6\",\"gridcolor\":\"white\",\"linecolor\":\"white\",\"showbackground\":true,\"ticks\":\"\",\"zerolinecolor\":\"white\",\"gridwidth\":2},\"yaxis\":{\"backgroundcolor\":\"#E5ECF6\",\"gridcolor\":\"white\",\"linecolor\":\"white\",\"showbackground\":true,\"ticks\":\"\",\"zerolinecolor\":\"white\",\"gridwidth\":2},\"zaxis\":{\"backgroundcolor\":\"#E5ECF6\",\"gridcolor\":\"white\",\"linecolor\":\"white\",\"showbackground\":true,\"ticks\":\"\",\"zerolinecolor\":\"white\",\"gridwidth\":2}},\"shapedefaults\":{\"line\":{\"color\":\"#2a3f5f\"}},\"annotationdefaults\":{\"arrowcolor\":\"#2a3f5f\",\"arrowhead\":0,\"arrowwidth\":1},\"geo\":{\"bgcolor\":\"white\",\"landcolor\":\"#E5ECF6\",\"subunitcolor\":\"white\",\"showland\":true,\"showlakes\":true,\"lakecolor\":\"white\"},\"title\":{\"x\":0.05},\"mapbox\":{\"style\":\"light\"}}},\"xaxis\":{\"anchor\":\"y\",\"domain\":[0.0,0.2888888888888889],\"title\":{\"text\":\"x\\u003cbr\\u003e\\u003cbr\\u003e\\u003cbr\\u003ea: 1.93\\u003cbr\\u003eb: -3.67\\u003cbr\\u003ec: 1.01\"},\"range\":[0,1]},\"yaxis\":{\"anchor\":\"x\",\"domain\":[0.0,1.0],\"title\":{\"text\":\"t\"},\"range\":[-5,5]},\"xaxis2\":{\"anchor\":\"y2\",\"domain\":[0.35555555555555557,0.6444444444444445],\"title\":{\"text\":\"x\\u003cbr\\u003e\\u003cbr\\u003e\\u003cbr\\u003ea: -0.99\\u003cbr\\u003eb: 27.5\\u003cbr\\u003ec: -39.58\\u003cbr\\u003ed: 13.94\\u003cbr\\u003ee: -0.53\"},\"range\":[0,1]},\"yaxis2\":{\"anchor\":\"x2\",\"domain\":[0.0,1.0],\"title\":{\"text\":\"t\"},\"range\":[-5,5]},\"xaxis3\":{\"anchor\":\"y3\",\"domain\":[0.7111111111111111,1.0],\"title\":{\"text\":\"x\\u003cbr\\u003e\\u003cbr\\u003e\\u003cbr\\u003ea: -6082.13\\u003cbr\\u003eb: 22837.49\\u003cbr\\u003ec: -34582.93\\u003cbr\\u003ed: 26929.17\\u003cbr\\u003ee: -11332.18\\u003cbr\\u003ef: 2455.01\\u003cbr\\u003eg: -233.7\\u003cbr\\u003eh: 7.41\"},\"range\":[0,1]},\"yaxis3\":{\"anchor\":\"x3\",\"domain\":[0.0,1.0],\"title\":{\"text\":\"t\"},\"range\":[-5,5]},\"annotations\":[{\"font\":{\"size\":16},\"showarrow\":false,\"text\":\"poly2 fit\",\"x\":0.14444444444444446,\"xanchor\":\"center\",\"xref\":\"paper\",\"y\":1.0,\"yanchor\":\"bottom\",\"yref\":\"paper\"},{\"font\":{\"size\":16},\"showarrow\":false,\"text\":\"poly4 fit\",\"x\":0.5,\"xanchor\":\"center\",\"xref\":\"paper\",\"y\":1.0,\"yanchor\":\"bottom\",\"yref\":\"paper\"},{\"font\":{\"size\":16},\"showarrow\":false,\"text\":\"poly7 fit\",\"x\":0.8555555555555556,\"xanchor\":\"center\",\"xref\":\"paper\",\"y\":1.0,\"yanchor\":\"bottom\",\"yref\":\"paper\"}],\"showlegend\":false,\"title\":{\"text\":\"Polynomial fits and their coefficients\"},\"height\":700,\"width\":1300},                        {\"responsive\": true}                    ).then(function(){\n",
              "                            \n",
              "var gd = document.getElementById('e1e4243e-adbc-492d-8bdc-47828b489e5f');\n",
              "var x = new MutationObserver(function (mutations, observer) {{\n",
              "        var display = window.getComputedStyle(gd).display;\n",
              "        if (!display || display === 'none') {{\n",
              "            console.log([gd, 'removed!']);\n",
              "            Plotly.purge(gd);\n",
              "            observer.disconnect();\n",
              "        }}\n",
              "}});\n",
              "\n",
              "// Listen for the removal of the full notebook cells\n",
              "var notebookContainer = gd.closest('#notebook-container');\n",
              "if (notebookContainer) {{\n",
              "    x.observe(notebookContainer, {childList: true});\n",
              "}}\n",
              "\n",
              "// Listen for the clearing of the current output cell\n",
              "var outputEl = gd.closest('.output');\n",
              "if (outputEl) {{\n",
              "    x.observe(outputEl, {childList: true});\n",
              "}}\n",
              "\n",
              "                        })                };                            </script>        </div>\n",
              "</body>\n",
              "</html>"
            ]
          },
          "metadata": {}
        }
      ]
    },
    {
      "cell_type": "markdown",
      "metadata": {
        "id": "4KPPrymvhAmb"
      },
      "source": [
        "Nevertheless you should find *evidence* to support your judgement. Our intuition right now is that \"High-degree polynomial fits lead to a high generalization error for this dataset\", how can we test it?\n",
        "As you have learnt in the lecture, a useful study you can perform consists in evaluating the MSE loss on a *test set*, i.e., on samples not used for training.\n",
        "\n",
        "Such as the ones that are going to magically appear in the next cell."
      ]
    },
    {
      "cell_type": "code",
      "metadata": {
        "id": "QPi-ZFkUliUA"
      },
      "source": [
        "x_test = np.random.rand(10)\n",
        "t_test = np.sin(2 * np.pi * x_test) + 0.1 * np.random.randn(10)"
      ],
      "execution_count": null,
      "outputs": []
    },
    {
      "cell_type": "markdown",
      "metadata": {
        "id": "YJu_1xXUloK0"
      },
      "source": [
        "> **EXERCISE**: Do a nice plot entitled \"MSE loss **vs** degree of the polynomial fit\" that shows the trends of the training set and the test set."
      ]
    },
    {
      "cell_type": "code",
      "metadata": {
        "id": "HuQphUAXhh_w"
      },
      "source": [
        "# ✏️ your code here"
      ],
      "execution_count": null,
      "outputs": []
    },
    {
      "cell_type": "markdown",
      "source": [
        "**NOTE**\n",
        "\n",
        "Typically, when you are designing a learning model, you would get all the available data at the beginning. Then, you split this data into training, validation, and test sets.\n",
        "\n",
        "To recap:\n",
        "\n",
        "* **Training set**: the data we use to estimate our model's parameters.\n",
        "* **Validation set**: new data we use to evaluate our model, and possibly tune its hyperparameters.\n",
        "* **Test set**: new data we use to evaluate the final model."
      ],
      "metadata": {
        "id": "x2GV2rQ4mpNI"
      }
    },
    {
      "cell_type": "markdown",
      "source": [
        "### Data leakage\n",
        "\n",
        "> ⚠️ Using the test set to tune your model's design and hyperparameters is not just cheating: it is *conceptually wrong*.\n",
        ">\n",
        "> In the real world, you almost never have access to the test set. For example, ChatGPT has never seen the crazy prompts we give it, but it still works well. Our input forms ChatGPT's test set. We can conclude that ChatGPT generalizes well to unseen data."
      ],
      "metadata": {
        "id": "bVl2SP8J92tr"
      }
    },
    {
      "cell_type": "markdown",
      "metadata": {
        "id": "5z1iX6ltDTx8"
      },
      "source": [
        "###Regularization"
      ]
    },
    {
      "cell_type": "markdown",
      "metadata": {
        "id": "ENt79TByFzyD"
      },
      "source": [
        "Still, it is not always desirable to work with simple models with few parameters.\n",
        "\n",
        "Think about the true link between the input variable $x$ and the target variable $t$, it is through a $\\sin$ function.\n",
        "And a $\\sin$ function written in a polynomial basis (i.e. [its Taylor series](https://www.wolframalpha.com/input?i=taylor+series+sin+x)) contains terms of *every* odd degree, i.e. infinite terms. Our approximation of the ground truth function should benefit from high order terms, since they are *needed* to express a $\\sin$ function.\n",
        "\n",
        "We want to have many parameters, and we want them to do the right thing: to not overfit.\n",
        "This is why we need **regularizers**.\n",
        "\n",
        "Let's start with the simplest and most universal regularizer, *more data*.\n"
      ]
    },
    {
      "cell_type": "code",
      "metadata": {
        "id": "qcikXP28Ntfo",
        "colab": {
          "base_uri": "https://localhost:8080/",
          "height": 737
        },
        "outputId": "fd3f482b-441c-4356-b8d9-3c7d07f1e529",
        "cellView": "form"
      },
      "source": [
        "# @title Regularized polynomial fits: more data (again: play at least once) { run: \"auto\" }\n",
        "\n",
        "training_dataset_size = 75  #@param {type:\"slider\", min:1, max:100, step:1}\n",
        "temp_x, temp_t = x, t\n",
        "x = np.random.rand(training_dataset_size)\n",
        "t = np.sin(2 * np.pi * x) + 0.1 * np.random.randn(training_dataset_size)\n",
        "\n",
        "deg_1 = 2  #@param {type:\"slider\", min:0, max:15, step:1}\n",
        "deg_2 = 6  #@param {type:\"slider\", min:0, max:15, step:1}\n",
        "deg_3 = 13  #@param {type:\"slider\", min:0, max:15, step:1}\n",
        "\n",
        "degree = {}\n",
        "degree[0], degree[1], degree[2] = deg_1, deg_2, deg_3\n",
        "\n",
        "max_degree = max(degree.values())\n",
        "y = torch.from_numpy(t)\n",
        "X_full = torch.ones((y.shape[0], max_degree + 1), dtype=torch.float64)  # double precision is needed for this calculation!\n",
        "for i in range(max_degree):\n",
        "    X_full[:,i] =  torch.from_numpy(x) ** (max_degree - i)\n",
        "\n",
        "theta_collection = {}\n",
        "\n",
        "for i in range(3):\n",
        "    X = X_full[:,-(degree[i] + 1):]\n",
        "    temp_inverse = torch.inverse(torch.einsum('ij,jk->ik', X.t(), X))\n",
        "    theta_collection[i] = torch.einsum('ij,jk,k->i', temp_inverse, X.t(), y)\n",
        "\n",
        "fig = make_subplots(\n",
        "    rows=1, cols=3,\n",
        "    subplot_titles=(f\"poly{degree[0]} fit\", f\"poly{degree[1]} fit\", f\"poly{degree[2]} fit\"))\n",
        "\n",
        "x_funcs = np.arange(0,1,1./100)\n",
        "y_funcs = {}\n",
        "for i in range(3):\n",
        "    theta_funcs = theta_collection[i].numpy()\n",
        "    X_funcs = np.ones((x_funcs.shape[0], degree[i] + 1), dtype=np.float64)\n",
        "    for j in range(degree[i]):\n",
        "        X_funcs[:,j] =  x_funcs ** (degree[i] - j)\n",
        "    y_funcs[i] = np.einsum('ij,j->i', X_funcs, theta_funcs)\n",
        "    coefficients_string = '<br><br><br>' + '<br>'.join([c + f': {np.round(theta_funcs[i], decimals=2)}' for i, c in enumerate('abcdefghijklmnopqrstuvwxyz'[:len(theta_funcs)])])\n",
        "\n",
        "    fig.add_trace(go.Scatter(x=x, y=t, mode='markers', marker=dict(color=\"mediumpurple\")), row=1, col=i + 1)\n",
        "    fig.add_trace(go.Scatter(x=x_funcs, y=np.sin(2*np.pi*x_funcs), mode='lines', line=dict(color=\"lightgreen\")), row=1, col=i + 1)\n",
        "    fig.add_trace(go.Scatter(x=x_funcs, y=y_funcs[i], mode='lines', line=dict(color=\"lightsalmon\")), row=1, col=i + 1)\n",
        "    fig.update_xaxes(title_text=\"x\" + coefficients_string, range = [0,1], row=1, col=i+1)\n",
        "\n",
        "fig.update_layout(showlegend=False)\n",
        "fig.update_yaxes(title_text=\"t\", range = [-5,5])\n",
        "fig.update_layout(height=700, width=1300, title_text=\"Polynomial fits and their coefficients\")\n",
        "fig.show()\n",
        "\n",
        "x, t = temp_x, temp_t"
      ],
      "execution_count": null,
      "outputs": [
        {
          "output_type": "display_data",
          "data": {
            "text/html": [
              "<html>\n",
              "<head><meta charset=\"utf-8\" /></head>\n",
              "<body>\n",
              "    <div>            <script src=\"https://cdnjs.cloudflare.com/ajax/libs/mathjax/2.7.5/MathJax.js?config=TeX-AMS-MML_SVG\"></script><script type=\"text/javascript\">if (window.MathJax && window.MathJax.Hub && window.MathJax.Hub.Config) {window.MathJax.Hub.Config({SVG: {font: \"STIX-Web\"}});}</script>                <script type=\"text/javascript\">window.PlotlyConfig = {MathJaxConfig: 'local'};</script>\n",
              "        <script charset=\"utf-8\" src=\"https://cdn.plot.ly/plotly-2.24.1.min.js\"></script>                <div id=\"93bcd91d-be6c-42e7-8026-839e69f5b40e\" class=\"plotly-graph-div\" style=\"height:700px; width:1300px;\"></div>            <script type=\"text/javascript\">                                    window.PLOTLYENV=window.PLOTLYENV || {};                                    if (document.getElementById(\"93bcd91d-be6c-42e7-8026-839e69f5b40e\")) {                    Plotly.newPlot(                        \"93bcd91d-be6c-42e7-8026-839e69f5b40e\",                        [{\"marker\":{\"color\":\"mediumpurple\"},\"mode\":\"markers\",\"x\":[0.2598035810641598,0.6340057030996114,0.5399853797158555,0.7798453951511436,0.10698063882695841,0.761027902502028,0.5412665786761103,0.9629920038589946,0.3418721660386861,0.6326218931339481,0.9320281055100175,0.10250972799067926,0.9372284872364511,0.6878857223008134,0.0678370591051719,0.30096356694681625,0.7081720886452816,0.0673506014687717,0.5821704601762733,0.34588305695295674,0.6209155177674771,0.04574203381251285,0.8715368061523763,0.9734889691773969,0.9688778552856915,0.7496518317429247,0.13008624013063197,0.7582631959290226,0.02458691645880151,0.022123551528997254,0.32361021914954125,0.48864319040466575,0.7704074178077932,0.6832953766065052,0.44590270637674834,0.2736266662816659,0.9971245001577111,0.42618130223597295,0.4513870243296755,0.16362382119166918,0.7948095487499294,0.6936822257814886,0.2207696127887604,0.0823810456158427,0.6804993020747131,0.6545112142811352,0.2732595269982093,0.9508635622504104,0.15105789178090023,0.4323348010426019,0.9436159201675989,0.4197273169261223,0.6385259476640855,0.3975943979627943,0.27421520234867003,0.9839776479598282,0.409334006315043,0.8940992036791344,0.22995460589108618,0.2131047040250833,0.03113408288451136,0.651666825375885,0.36852634372376114,0.864358249839637,0.47320990669155716,0.9681934279147217,0.18552551570312115,0.8686231679556108,0.7765968527917417,0.770921844644052,0.8447832281168877,0.7610239909429989,0.6262203216314154,0.13124487768238757,0.032526179491251916],\"y\":[1.0070990752540836,-0.7263128935990717,-0.177700534414529,-0.9914423809206689,0.7667043197097276,-1.0652396138676845,-0.07629601618177861,-0.2344541111218614,0.6948891260031312,-0.7273358814198524,-0.482320022730804,0.6845334580430804,-0.44952137881881254,-0.9694226197016693,0.22448953547683817,0.9039375935331602,-1.2080510458627156,0.25226836204704034,-0.4176175885576839,0.9025292060943086,-0.6461832965631177,0.18676765501556203,-0.7270958690847381,-0.16616472651164077,-0.3101388255397064,-0.8496577770149396,0.8170756800006255,-1.0207489189070047,0.15655899914076854,0.15939742226699843,0.6907633753986417,0.04657866031988124,-1.0599890375692955,-1.0136104303775202,0.3052859161986884,1.168770065019763,0.046017970693937746,0.3902468019892072,0.35797525076721165,0.9962438757723284,-0.8681634818160914,-0.9320808240837241,0.9184881897192141,0.5646316354677401,-0.8668098170201834,-0.7358311227144579,1.052857151135512,-0.19889684121193607,0.7593825401329781,0.5441995577365573,-0.3271473515125187,0.6907804458023611,-0.8334954041489541,0.7735421911799826,1.0082387908901083,-0.16564324714350262,0.49096665228609604,-0.649404118463527,1.034495508106267,1.0255334165927574,0.13700593585653628,-0.8175638326131015,0.9495027208376078,-0.580017212371908,0.21116571567221906,-0.1947186250969796,0.9310641006116952,-0.6735114215191146,-1.0883483524234816,-1.0171097718823814,-0.9947037818982342,-0.9576797726901101,-0.6477880947107202,0.6859820159826843,0.3603470418839104],\"type\":\"scatter\",\"xaxis\":\"x\",\"yaxis\":\"y\"},{\"line\":{\"color\":\"lightgreen\"},\"mode\":\"lines\",\"x\":[0.0,0.01,0.02,0.03,0.04,0.05,0.06,0.07,0.08,0.09,0.1,0.11,0.12,0.13,0.14,0.15,0.16,0.17,0.18,0.19,0.2,0.21,0.22,0.23,0.24,0.25,0.26,0.27,0.28,0.29,0.3,0.31,0.32,0.33,0.34,0.35000000000000003,0.36,0.37,0.38,0.39,0.4,0.41000000000000003,0.42,0.43,0.44,0.45,0.46,0.47000000000000003,0.48,0.49,0.5,0.51,0.52,0.53,0.54,0.55,0.56,0.5700000000000001,0.58,0.59,0.6,0.61,0.62,0.63,0.64,0.65,0.66,0.67,0.68,0.6900000000000001,0.7000000000000001,0.71,0.72,0.73,0.74,0.75,0.76,0.77,0.78,0.79,0.8,0.81,0.8200000000000001,0.8300000000000001,0.84,0.85,0.86,0.87,0.88,0.89,0.9,0.91,0.92,0.93,0.9400000000000001,0.9500000000000001,0.96,0.97,0.98,0.99],\"y\":[0.0,0.06279051952931337,0.12533323356430426,0.1873813145857246,0.2486898871648548,0.3090169943749474,0.3681245526846779,0.4257792915650727,0.4817536741017153,0.5358267949789967,0.5877852522924731,0.6374239897486896,0.6845471059286886,0.7289686274214116,0.7705132427757893,0.8090169943749475,0.8443279255020151,0.8763066800438637,0.9048270524660196,0.9297764858882513,0.9510565162951535,0.9685831611286311,0.9822872507286886,0.9921147013144779,0.9980267284282716,1.0,0.9980267284282716,0.9921147013144778,0.9822872507286886,0.9685831611286312,0.9510565162951536,0.9297764858882513,0.9048270524660195,0.8763066800438635,0.844327925502015,0.8090169943749475,0.7705132427757893,0.7289686274214114,0.6845471059286888,0.6374239897486899,0.5877852522924732,0.5358267949789967,0.4817536741017156,0.4257792915650729,0.36812455268467814,0.3090169943749475,0.24868988716485482,0.18738131458572457,0.12533323356430454,0.06279051952931358,1.2246467991473532e-16,-0.06279051952931335,-0.12533323356430429,-0.18738131458572477,-0.24868988716485502,-0.30901699437494773,-0.3681245526846783,-0.42577929156507266,-0.481753674101715,-0.5358267949789964,-0.587785252292473,-0.6374239897486896,-0.6845471059286887,-0.7289686274214113,-0.7705132427757894,-0.8090169943749473,-0.8443279255020153,-0.8763066800438636,-0.9048270524660198,-0.9297764858882515,-0.9510565162951535,-0.968583161128631,-0.9822872507286887,-0.9921147013144778,-0.9980267284282716,-1.0,-0.9980267284282716,-0.9921147013144779,-0.9822872507286887,-0.9685831611286311,-0.9510565162951536,-0.9297764858882512,-0.9048270524660196,-0.8763066800438634,-0.8443279255020155,-0.8090169943749476,-0.7705132427757896,-0.7289686274214116,-0.684547105928689,-0.6374239897486896,-0.5877852522924734,-0.5358267949789963,-0.4817536741017153,-0.4257792915650722,-0.36812455268467786,-0.3090169943749476,-0.24868988716485535,-0.18738131458572468,-0.12533323356430465,-0.06279051952931326],\"type\":\"scatter\",\"xaxis\":\"x\",\"yaxis\":\"y\"},{\"line\":{\"color\":\"lightsalmon\"},\"mode\":\"lines\",\"x\":[0.0,0.01,0.02,0.03,0.04,0.05,0.06,0.07,0.08,0.09,0.1,0.11,0.12,0.13,0.14,0.15,0.16,0.17,0.18,0.19,0.2,0.21,0.22,0.23,0.24,0.25,0.26,0.27,0.28,0.29,0.3,0.31,0.32,0.33,0.34,0.35000000000000003,0.36,0.37,0.38,0.39,0.4,0.41000000000000003,0.42,0.43,0.44,0.45,0.46,0.47000000000000003,0.48,0.49,0.5,0.51,0.52,0.53,0.54,0.55,0.56,0.5700000000000001,0.58,0.59,0.6,0.61,0.62,0.63,0.64,0.65,0.66,0.67,0.68,0.6900000000000001,0.7000000000000001,0.71,0.72,0.73,0.74,0.75,0.76,0.77,0.78,0.79,0.8,0.81,0.8200000000000001,0.8300000000000001,0.84,0.85,0.86,0.87,0.88,0.89,0.9,0.91,0.92,0.93,0.9400000000000001,0.9500000000000001,0.96,0.97,0.98,0.99],\"y\":[0.9607236303810992,0.9380255317146506,0.9154302712713167,0.8929378490510977,0.8705482650539934,0.8482615192800039,0.8260776117291291,0.8039965424013691,0.7820183112967238,0.7601429184151933,0.7383703637567776,0.7167006473214768,0.6951337691092906,0.6736697291202192,0.6523085273542624,0.6310501638114205,0.6098946384916936,0.5888419513950811,0.5678921025215836,0.5470450918712007,0.5263009194439326,0.5056595852397795,0.48512108925874087,0.4646854315008172,0.4443526119660083,0.424122630654314,0.40399548756573445,0.38397118270026986,0.3640497160579198,0.34423108763868493,0.32451529744256435,0.30490234546955874,0.285392231719668,0.26598495619289164,0.24668051888923037,0.22747891980868395,0.20838015895125217,0.18938423631693513,0.17049115190573272,0.15170090571764538,0.13301349775267246,0.1144289280108145,0.09594719649207151,0.07756830319644303,0.0592922481239293,0.041119031274530427,0.023048652648246293,0.00508111224507668,-0.012783589934977524,-0.03054545389191765,-0.04820447962574259,-0.06576066713645279,-0.08321401642404846,-0.10056452748852918,-0.11781220032989514,-0.1349570349481466,-0.15199903134328308,-0.16893818951530482,-0.18577450946421137,-0.20250799119000384,-0.21913863469268113,-0.23566643997224368,-0.2520914070286917,-0.26841353586202477,-0.2846328264722431,-0.3007492788593469,-0.3167628930233357,-0.3326736689642096,-0.3484816066819689,-0.36418670617661353,-0.3797889674481434,-0.39528839049655806,-0.41068497532185844,-0.42597872192404385,-0.4411696303031145,-0.4562577004590702,-0.4712429323919116,-0.48612532610163806,-0.5009048815882495,-0.5155815988517465,-0.5301554778921287,-0.5446265187093959,-0.5589947213035487,-0.5732600856745864,-0.5874226118225092,-0.6014822997473175,-0.615439149449011,-0.6292931609275898,-0.6430443341830538,-0.6566926692154031,-0.6702381660246375,-0.6836808246107571,-0.6970206449737619,-0.710257627113652,-0.7233917710304278,-0.7364230767240882,-0.7493515441946337,-0.7621771734420653,-0.7748999644663814,-0.7875199172675829],\"type\":\"scatter\",\"xaxis\":\"x\",\"yaxis\":\"y\"},{\"marker\":{\"color\":\"mediumpurple\"},\"mode\":\"markers\",\"x\":[0.2598035810641598,0.6340057030996114,0.5399853797158555,0.7798453951511436,0.10698063882695841,0.761027902502028,0.5412665786761103,0.9629920038589946,0.3418721660386861,0.6326218931339481,0.9320281055100175,0.10250972799067926,0.9372284872364511,0.6878857223008134,0.0678370591051719,0.30096356694681625,0.7081720886452816,0.0673506014687717,0.5821704601762733,0.34588305695295674,0.6209155177674771,0.04574203381251285,0.8715368061523763,0.9734889691773969,0.9688778552856915,0.7496518317429247,0.13008624013063197,0.7582631959290226,0.02458691645880151,0.022123551528997254,0.32361021914954125,0.48864319040466575,0.7704074178077932,0.6832953766065052,0.44590270637674834,0.2736266662816659,0.9971245001577111,0.42618130223597295,0.4513870243296755,0.16362382119166918,0.7948095487499294,0.6936822257814886,0.2207696127887604,0.0823810456158427,0.6804993020747131,0.6545112142811352,0.2732595269982093,0.9508635622504104,0.15105789178090023,0.4323348010426019,0.9436159201675989,0.4197273169261223,0.6385259476640855,0.3975943979627943,0.27421520234867003,0.9839776479598282,0.409334006315043,0.8940992036791344,0.22995460589108618,0.2131047040250833,0.03113408288451136,0.651666825375885,0.36852634372376114,0.864358249839637,0.47320990669155716,0.9681934279147217,0.18552551570312115,0.8686231679556108,0.7765968527917417,0.770921844644052,0.8447832281168877,0.7610239909429989,0.6262203216314154,0.13124487768238757,0.032526179491251916],\"y\":[1.0070990752540836,-0.7263128935990717,-0.177700534414529,-0.9914423809206689,0.7667043197097276,-1.0652396138676845,-0.07629601618177861,-0.2344541111218614,0.6948891260031312,-0.7273358814198524,-0.482320022730804,0.6845334580430804,-0.44952137881881254,-0.9694226197016693,0.22448953547683817,0.9039375935331602,-1.2080510458627156,0.25226836204704034,-0.4176175885576839,0.9025292060943086,-0.6461832965631177,0.18676765501556203,-0.7270958690847381,-0.16616472651164077,-0.3101388255397064,-0.8496577770149396,0.8170756800006255,-1.0207489189070047,0.15655899914076854,0.15939742226699843,0.6907633753986417,0.04657866031988124,-1.0599890375692955,-1.0136104303775202,0.3052859161986884,1.168770065019763,0.046017970693937746,0.3902468019892072,0.35797525076721165,0.9962438757723284,-0.8681634818160914,-0.9320808240837241,0.9184881897192141,0.5646316354677401,-0.8668098170201834,-0.7358311227144579,1.052857151135512,-0.19889684121193607,0.7593825401329781,0.5441995577365573,-0.3271473515125187,0.6907804458023611,-0.8334954041489541,0.7735421911799826,1.0082387908901083,-0.16564324714350262,0.49096665228609604,-0.649404118463527,1.034495508106267,1.0255334165927574,0.13700593585653628,-0.8175638326131015,0.9495027208376078,-0.580017212371908,0.21116571567221906,-0.1947186250969796,0.9310641006116952,-0.6735114215191146,-1.0883483524234816,-1.0171097718823814,-0.9947037818982342,-0.9576797726901101,-0.6477880947107202,0.6859820159826843,0.3603470418839104],\"type\":\"scatter\",\"xaxis\":\"x2\",\"yaxis\":\"y2\"},{\"line\":{\"color\":\"lightgreen\"},\"mode\":\"lines\",\"x\":[0.0,0.01,0.02,0.03,0.04,0.05,0.06,0.07,0.08,0.09,0.1,0.11,0.12,0.13,0.14,0.15,0.16,0.17,0.18,0.19,0.2,0.21,0.22,0.23,0.24,0.25,0.26,0.27,0.28,0.29,0.3,0.31,0.32,0.33,0.34,0.35000000000000003,0.36,0.37,0.38,0.39,0.4,0.41000000000000003,0.42,0.43,0.44,0.45,0.46,0.47000000000000003,0.48,0.49,0.5,0.51,0.52,0.53,0.54,0.55,0.56,0.5700000000000001,0.58,0.59,0.6,0.61,0.62,0.63,0.64,0.65,0.66,0.67,0.68,0.6900000000000001,0.7000000000000001,0.71,0.72,0.73,0.74,0.75,0.76,0.77,0.78,0.79,0.8,0.81,0.8200000000000001,0.8300000000000001,0.84,0.85,0.86,0.87,0.88,0.89,0.9,0.91,0.92,0.93,0.9400000000000001,0.9500000000000001,0.96,0.97,0.98,0.99],\"y\":[0.0,0.06279051952931337,0.12533323356430426,0.1873813145857246,0.2486898871648548,0.3090169943749474,0.3681245526846779,0.4257792915650727,0.4817536741017153,0.5358267949789967,0.5877852522924731,0.6374239897486896,0.6845471059286886,0.7289686274214116,0.7705132427757893,0.8090169943749475,0.8443279255020151,0.8763066800438637,0.9048270524660196,0.9297764858882513,0.9510565162951535,0.9685831611286311,0.9822872507286886,0.9921147013144779,0.9980267284282716,1.0,0.9980267284282716,0.9921147013144778,0.9822872507286886,0.9685831611286312,0.9510565162951536,0.9297764858882513,0.9048270524660195,0.8763066800438635,0.844327925502015,0.8090169943749475,0.7705132427757893,0.7289686274214114,0.6845471059286888,0.6374239897486899,0.5877852522924732,0.5358267949789967,0.4817536741017156,0.4257792915650729,0.36812455268467814,0.3090169943749475,0.24868988716485482,0.18738131458572457,0.12533323356430454,0.06279051952931358,1.2246467991473532e-16,-0.06279051952931335,-0.12533323356430429,-0.18738131458572477,-0.24868988716485502,-0.30901699437494773,-0.3681245526846783,-0.42577929156507266,-0.481753674101715,-0.5358267949789964,-0.587785252292473,-0.6374239897486896,-0.6845471059286887,-0.7289686274214113,-0.7705132427757894,-0.8090169943749473,-0.8443279255020153,-0.8763066800438636,-0.9048270524660198,-0.9297764858882515,-0.9510565162951535,-0.968583161128631,-0.9822872507286887,-0.9921147013144778,-0.9980267284282716,-1.0,-0.9980267284282716,-0.9921147013144779,-0.9822872507286887,-0.9685831611286311,-0.9510565162951536,-0.9297764858882512,-0.9048270524660196,-0.8763066800438634,-0.8443279255020155,-0.8090169943749476,-0.7705132427757896,-0.7289686274214116,-0.684547105928689,-0.6374239897486896,-0.5877852522924734,-0.5358267949789963,-0.4817536741017153,-0.4257792915650722,-0.36812455268467786,-0.3090169943749476,-0.24868988716485535,-0.18738131458572468,-0.12533323356430465,-0.06279051952931326],\"type\":\"scatter\",\"xaxis\":\"x2\",\"yaxis\":\"y2\"},{\"line\":{\"color\":\"lightsalmon\"},\"mode\":\"lines\",\"x\":[0.0,0.01,0.02,0.03,0.04,0.05,0.06,0.07,0.08,0.09,0.1,0.11,0.12,0.13,0.14,0.15,0.16,0.17,0.18,0.19,0.2,0.21,0.22,0.23,0.24,0.25,0.26,0.27,0.28,0.29,0.3,0.31,0.32,0.33,0.34,0.35000000000000003,0.36,0.37,0.38,0.39,0.4,0.41000000000000003,0.42,0.43,0.44,0.45,0.46,0.47000000000000003,0.48,0.49,0.5,0.51,0.52,0.53,0.54,0.55,0.56,0.5700000000000001,0.58,0.59,0.6,0.61,0.62,0.63,0.64,0.65,0.66,0.67,0.68,0.6900000000000001,0.7000000000000001,0.71,0.72,0.73,0.74,0.75,0.76,0.77,0.78,0.79,0.8,0.81,0.8200000000000001,0.8300000000000001,0.84,0.85,0.86,0.87,0.88,0.89,0.9,0.91,0.92,0.93,0.9400000000000001,0.9500000000000001,0.96,0.97,0.98,0.99],\"y\":[-0.021829502611698803,0.04451835760919989,0.11058158670796506,0.176064795492846,0.2406836782598513,0.3041653314822153,0.3662485515845334,0.42668411180156574,0.4852350181217089,0.5416767443151373,0.595797446046612,0.647398154072958,0.6962929465252113,0.7423091002754332,0.7852872213881934,0.8250813546567218,0.8615590722237292,0.8946015412868957,0.9241035708890285,0.9499736377928867,0.9721338914406767,0.9905201379982154,1.005081803483759,1.0157818759815067,1.0225968269397665,1.025516511553792,1.0245440482332901,1.0196956771545926,1.0110005978974996,0.9985007861667905,0.9822507895984043,0.9623175026502857,0.938779920577903,0.9117288724944339,0.881266733515617,0.8475071159892749,0.8105745398095057,0.7706040818155409,0.7277410042752724,0.6821403624534528,0.6339665912645518,0.5833930710103006,0.5306016722018831,0.4757822794668112,0.4191322945404643,0.3608561183422936,0.30116461213670265,0.24027453777858332,0.17840797704353717,0.11579173004275178,0.052656692722553355,-0.010762786551378412,-0.0742295713251182,-0.1375044223029458,-0.20034670350911865,-0.2625151093649811,-0.3237684126813951,-0.3838662335665286,-0.44256982924894217,-0.499642904816028,-0.5548524448677696,-0.6079695660858544,-0.6587703907180753,-0.7070369409781172,-0.7525580543606392,-0.7951303198716708,-0.8345590351744168,-0.870659184650302,-0.9032564383753972,-0.9321881720121805,-0.9573045076165947,-0.9784693753604898,-0.9955615961693329,-1.0084759852753038,-1.017124476685689,-1.0214372685666362,-1.0213639895422038,-1.016874885908754,-1.0079620297647232,-0.9946405480556653,-0.9769498725346057,-0.9549550106378302,-0.9287478372759335,-0.8984484075401511,-0.8642062903241481,-0.8262019228610313,-0.7846479861757452,-0.7397908014528038,-0.6919117473192973,-0.6413286980433011,-0.5883974826475882,-0.5335133649386314,-0.47711254445104245,-0.4196736783072019,-0.361719423992362,-0.30381800304495066,-0.246584785662316,-0.1906838962217332,-0.13682983971680862,-0.08578914910908608],\"type\":\"scatter\",\"xaxis\":\"x2\",\"yaxis\":\"y2\"},{\"marker\":{\"color\":\"mediumpurple\"},\"mode\":\"markers\",\"x\":[0.2598035810641598,0.6340057030996114,0.5399853797158555,0.7798453951511436,0.10698063882695841,0.761027902502028,0.5412665786761103,0.9629920038589946,0.3418721660386861,0.6326218931339481,0.9320281055100175,0.10250972799067926,0.9372284872364511,0.6878857223008134,0.0678370591051719,0.30096356694681625,0.7081720886452816,0.0673506014687717,0.5821704601762733,0.34588305695295674,0.6209155177674771,0.04574203381251285,0.8715368061523763,0.9734889691773969,0.9688778552856915,0.7496518317429247,0.13008624013063197,0.7582631959290226,0.02458691645880151,0.022123551528997254,0.32361021914954125,0.48864319040466575,0.7704074178077932,0.6832953766065052,0.44590270637674834,0.2736266662816659,0.9971245001577111,0.42618130223597295,0.4513870243296755,0.16362382119166918,0.7948095487499294,0.6936822257814886,0.2207696127887604,0.0823810456158427,0.6804993020747131,0.6545112142811352,0.2732595269982093,0.9508635622504104,0.15105789178090023,0.4323348010426019,0.9436159201675989,0.4197273169261223,0.6385259476640855,0.3975943979627943,0.27421520234867003,0.9839776479598282,0.409334006315043,0.8940992036791344,0.22995460589108618,0.2131047040250833,0.03113408288451136,0.651666825375885,0.36852634372376114,0.864358249839637,0.47320990669155716,0.9681934279147217,0.18552551570312115,0.8686231679556108,0.7765968527917417,0.770921844644052,0.8447832281168877,0.7610239909429989,0.6262203216314154,0.13124487768238757,0.032526179491251916],\"y\":[1.0070990752540836,-0.7263128935990717,-0.177700534414529,-0.9914423809206689,0.7667043197097276,-1.0652396138676845,-0.07629601618177861,-0.2344541111218614,0.6948891260031312,-0.7273358814198524,-0.482320022730804,0.6845334580430804,-0.44952137881881254,-0.9694226197016693,0.22448953547683817,0.9039375935331602,-1.2080510458627156,0.25226836204704034,-0.4176175885576839,0.9025292060943086,-0.6461832965631177,0.18676765501556203,-0.7270958690847381,-0.16616472651164077,-0.3101388255397064,-0.8496577770149396,0.8170756800006255,-1.0207489189070047,0.15655899914076854,0.15939742226699843,0.6907633753986417,0.04657866031988124,-1.0599890375692955,-1.0136104303775202,0.3052859161986884,1.168770065019763,0.046017970693937746,0.3902468019892072,0.35797525076721165,0.9962438757723284,-0.8681634818160914,-0.9320808240837241,0.9184881897192141,0.5646316354677401,-0.8668098170201834,-0.7358311227144579,1.052857151135512,-0.19889684121193607,0.7593825401329781,0.5441995577365573,-0.3271473515125187,0.6907804458023611,-0.8334954041489541,0.7735421911799826,1.0082387908901083,-0.16564324714350262,0.49096665228609604,-0.649404118463527,1.034495508106267,1.0255334165927574,0.13700593585653628,-0.8175638326131015,0.9495027208376078,-0.580017212371908,0.21116571567221906,-0.1947186250969796,0.9310641006116952,-0.6735114215191146,-1.0883483524234816,-1.0171097718823814,-0.9947037818982342,-0.9576797726901101,-0.6477880947107202,0.6859820159826843,0.3603470418839104],\"type\":\"scatter\",\"xaxis\":\"x3\",\"yaxis\":\"y3\"},{\"line\":{\"color\":\"lightgreen\"},\"mode\":\"lines\",\"x\":[0.0,0.01,0.02,0.03,0.04,0.05,0.06,0.07,0.08,0.09,0.1,0.11,0.12,0.13,0.14,0.15,0.16,0.17,0.18,0.19,0.2,0.21,0.22,0.23,0.24,0.25,0.26,0.27,0.28,0.29,0.3,0.31,0.32,0.33,0.34,0.35000000000000003,0.36,0.37,0.38,0.39,0.4,0.41000000000000003,0.42,0.43,0.44,0.45,0.46,0.47000000000000003,0.48,0.49,0.5,0.51,0.52,0.53,0.54,0.55,0.56,0.5700000000000001,0.58,0.59,0.6,0.61,0.62,0.63,0.64,0.65,0.66,0.67,0.68,0.6900000000000001,0.7000000000000001,0.71,0.72,0.73,0.74,0.75,0.76,0.77,0.78,0.79,0.8,0.81,0.8200000000000001,0.8300000000000001,0.84,0.85,0.86,0.87,0.88,0.89,0.9,0.91,0.92,0.93,0.9400000000000001,0.9500000000000001,0.96,0.97,0.98,0.99],\"y\":[0.0,0.06279051952931337,0.12533323356430426,0.1873813145857246,0.2486898871648548,0.3090169943749474,0.3681245526846779,0.4257792915650727,0.4817536741017153,0.5358267949789967,0.5877852522924731,0.6374239897486896,0.6845471059286886,0.7289686274214116,0.7705132427757893,0.8090169943749475,0.8443279255020151,0.8763066800438637,0.9048270524660196,0.9297764858882513,0.9510565162951535,0.9685831611286311,0.9822872507286886,0.9921147013144779,0.9980267284282716,1.0,0.9980267284282716,0.9921147013144778,0.9822872507286886,0.9685831611286312,0.9510565162951536,0.9297764858882513,0.9048270524660195,0.8763066800438635,0.844327925502015,0.8090169943749475,0.7705132427757893,0.7289686274214114,0.6845471059286888,0.6374239897486899,0.5877852522924732,0.5358267949789967,0.4817536741017156,0.4257792915650729,0.36812455268467814,0.3090169943749475,0.24868988716485482,0.18738131458572457,0.12533323356430454,0.06279051952931358,1.2246467991473532e-16,-0.06279051952931335,-0.12533323356430429,-0.18738131458572477,-0.24868988716485502,-0.30901699437494773,-0.3681245526846783,-0.42577929156507266,-0.481753674101715,-0.5358267949789964,-0.587785252292473,-0.6374239897486896,-0.6845471059286887,-0.7289686274214113,-0.7705132427757894,-0.8090169943749473,-0.8443279255020153,-0.8763066800438636,-0.9048270524660198,-0.9297764858882515,-0.9510565162951535,-0.968583161128631,-0.9822872507286887,-0.9921147013144778,-0.9980267284282716,-1.0,-0.9980267284282716,-0.9921147013144779,-0.9822872507286887,-0.9685831611286311,-0.9510565162951536,-0.9297764858882512,-0.9048270524660196,-0.8763066800438634,-0.8443279255020155,-0.8090169943749476,-0.7705132427757896,-0.7289686274214116,-0.684547105928689,-0.6374239897486896,-0.5877852522924734,-0.5358267949789963,-0.4817536741017153,-0.4257792915650722,-0.36812455268467786,-0.3090169943749476,-0.24868988716485535,-0.18738131458572468,-0.12533323356430465,-0.06279051952931326],\"type\":\"scatter\",\"xaxis\":\"x3\",\"yaxis\":\"y3\"},{\"line\":{\"color\":\"lightsalmon\"},\"mode\":\"lines\",\"x\":[0.0,0.01,0.02,0.03,0.04,0.05,0.06,0.07,0.08,0.09,0.1,0.11,0.12,0.13,0.14,0.15,0.16,0.17,0.18,0.19,0.2,0.21,0.22,0.23,0.24,0.25,0.26,0.27,0.28,0.29,0.3,0.31,0.32,0.33,0.34,0.35000000000000003,0.36,0.37,0.38,0.39,0.4,0.41000000000000003,0.42,0.43,0.44,0.45,0.46,0.47000000000000003,0.48,0.49,0.5,0.51,0.52,0.53,0.54,0.55,0.56,0.5700000000000001,0.58,0.59,0.6,0.61,0.62,0.63,0.64,0.65,0.66,0.67,0.68,0.6900000000000001,0.7000000000000001,0.71,0.72,0.73,0.74,0.75,0.76,0.77,0.78,0.79,0.8,0.81,0.8200000000000001,0.8300000000000001,0.84,0.85,0.86,0.87,0.88,0.89,0.9,0.91,0.92,0.93,0.9400000000000001,0.9500000000000001,0.96,0.97,0.98,0.99],\"y\":[0.33441142556699077,0.13703179923602526,0.034582843940893615,0.0005931438160636793,0.01431600777312303,0.05972134547809427,0.12463188793626667,0.1999870780833657,0.27921950789771266,0.3577302103113347,0.4324504348641529,0.5014787533225267,0.5637834625620854,0.6189612835969953,0.6670443039651666,0.7083479815597613,0.7433538268329514,0.7726211121084035,0.7967226261870906,0.816200103847919,0.8315355172475449,0.8431349233479324,0.8513220218063111,0.8563389944692972,0.8583525737131481,0.8574636251406105,0.8537188331795846,0.8471233483357992,0.837653494496692,0.8252688458690614,0.8099231678561409,0.7915738762885667,0.7701898067077764,0.7457572014958487,0.7182839191887069,0.6878019487639904,0.654368373574016,0.6180649762363828,0.5789967086234356,0.5372892713476176,0.4930860561667032,0.4465447037073318,0.3978335191318365,0.3471279709242481,0.294607474203076,0.2404526307800552,0.1848430649506554,0.12795595771331136,0.06996534377685748,0.011042196614653221,-0.04864471227847389,-0.10892723164943163,-0.1696356138054398,-0.23059578347601928,-0.2916262414164521,-0.35253477652804577,-0.4131151789260912,-0.47314415925575304,-0.5323786855915387,-0.5905539484447218,-0.6473821555337054,-0.7025523419579258,-0.7557313569850521,-0.8065661567306961,-0.8546874922612915,-0.8997150354189216,-0.941263931672438,-0.9789527082321001,-1.0124124032154214,-1.041296711540781,-1.0652928743802477,-1.084132968375343,-1.0976051820471184,-1.1055646042805165,-1.1079429914680077,-1.1047569363727234,-1.096113828883972,-1.082214986672625,-1.06335534498794,-1.0399191307660658,-1.0123710228363052,-0.9812424094707239,-0.9471125142881647,-0.9105843786965124,-0.8722559598390944,-0.8326869565644301,-0.7923623987589963,-0.7516545571852475,-0.7107853543711826,-0.669792182801757,-0.6285009105922654,-0.5865108462749049,-0.5431975945830345,-0.4977410635910928,-0.44918739213608205,-0.3965552938170731,-0.33899924578145146,-0.2760441416176036,-0.20790848031174392,-0.13593589863739908],\"type\":\"scatter\",\"xaxis\":\"x3\",\"yaxis\":\"y3\"}],                        {\"template\":{\"data\":{\"histogram2dcontour\":[{\"type\":\"histogram2dcontour\",\"colorbar\":{\"outlinewidth\":0,\"ticks\":\"\"},\"colorscale\":[[0.0,\"#0d0887\"],[0.1111111111111111,\"#46039f\"],[0.2222222222222222,\"#7201a8\"],[0.3333333333333333,\"#9c179e\"],[0.4444444444444444,\"#bd3786\"],[0.5555555555555556,\"#d8576b\"],[0.6666666666666666,\"#ed7953\"],[0.7777777777777778,\"#fb9f3a\"],[0.8888888888888888,\"#fdca26\"],[1.0,\"#f0f921\"]]}],\"choropleth\":[{\"type\":\"choropleth\",\"colorbar\":{\"outlinewidth\":0,\"ticks\":\"\"}}],\"histogram2d\":[{\"type\":\"histogram2d\",\"colorbar\":{\"outlinewidth\":0,\"ticks\":\"\"},\"colorscale\":[[0.0,\"#0d0887\"],[0.1111111111111111,\"#46039f\"],[0.2222222222222222,\"#7201a8\"],[0.3333333333333333,\"#9c179e\"],[0.4444444444444444,\"#bd3786\"],[0.5555555555555556,\"#d8576b\"],[0.6666666666666666,\"#ed7953\"],[0.7777777777777778,\"#fb9f3a\"],[0.8888888888888888,\"#fdca26\"],[1.0,\"#f0f921\"]]}],\"heatmap\":[{\"type\":\"heatmap\",\"colorbar\":{\"outlinewidth\":0,\"ticks\":\"\"},\"colorscale\":[[0.0,\"#0d0887\"],[0.1111111111111111,\"#46039f\"],[0.2222222222222222,\"#7201a8\"],[0.3333333333333333,\"#9c179e\"],[0.4444444444444444,\"#bd3786\"],[0.5555555555555556,\"#d8576b\"],[0.6666666666666666,\"#ed7953\"],[0.7777777777777778,\"#fb9f3a\"],[0.8888888888888888,\"#fdca26\"],[1.0,\"#f0f921\"]]}],\"heatmapgl\":[{\"type\":\"heatmapgl\",\"colorbar\":{\"outlinewidth\":0,\"ticks\":\"\"},\"colorscale\":[[0.0,\"#0d0887\"],[0.1111111111111111,\"#46039f\"],[0.2222222222222222,\"#7201a8\"],[0.3333333333333333,\"#9c179e\"],[0.4444444444444444,\"#bd3786\"],[0.5555555555555556,\"#d8576b\"],[0.6666666666666666,\"#ed7953\"],[0.7777777777777778,\"#fb9f3a\"],[0.8888888888888888,\"#fdca26\"],[1.0,\"#f0f921\"]]}],\"contourcarpet\":[{\"type\":\"contourcarpet\",\"colorbar\":{\"outlinewidth\":0,\"ticks\":\"\"}}],\"contour\":[{\"type\":\"contour\",\"colorbar\":{\"outlinewidth\":0,\"ticks\":\"\"},\"colorscale\":[[0.0,\"#0d0887\"],[0.1111111111111111,\"#46039f\"],[0.2222222222222222,\"#7201a8\"],[0.3333333333333333,\"#9c179e\"],[0.4444444444444444,\"#bd3786\"],[0.5555555555555556,\"#d8576b\"],[0.6666666666666666,\"#ed7953\"],[0.7777777777777778,\"#fb9f3a\"],[0.8888888888888888,\"#fdca26\"],[1.0,\"#f0f921\"]]}],\"surface\":[{\"type\":\"surface\",\"colorbar\":{\"outlinewidth\":0,\"ticks\":\"\"},\"colorscale\":[[0.0,\"#0d0887\"],[0.1111111111111111,\"#46039f\"],[0.2222222222222222,\"#7201a8\"],[0.3333333333333333,\"#9c179e\"],[0.4444444444444444,\"#bd3786\"],[0.5555555555555556,\"#d8576b\"],[0.6666666666666666,\"#ed7953\"],[0.7777777777777778,\"#fb9f3a\"],[0.8888888888888888,\"#fdca26\"],[1.0,\"#f0f921\"]]}],\"mesh3d\":[{\"type\":\"mesh3d\",\"colorbar\":{\"outlinewidth\":0,\"ticks\":\"\"}}],\"scatter\":[{\"fillpattern\":{\"fillmode\":\"overlay\",\"size\":10,\"solidity\":0.2},\"type\":\"scatter\"}],\"parcoords\":[{\"type\":\"parcoords\",\"line\":{\"colorbar\":{\"outlinewidth\":0,\"ticks\":\"\"}}}],\"scatterpolargl\":[{\"type\":\"scatterpolargl\",\"marker\":{\"colorbar\":{\"outlinewidth\":0,\"ticks\":\"\"}}}],\"bar\":[{\"error_x\":{\"color\":\"#2a3f5f\"},\"error_y\":{\"color\":\"#2a3f5f\"},\"marker\":{\"line\":{\"color\":\"#E5ECF6\",\"width\":0.5},\"pattern\":{\"fillmode\":\"overlay\",\"size\":10,\"solidity\":0.2}},\"type\":\"bar\"}],\"scattergeo\":[{\"type\":\"scattergeo\",\"marker\":{\"colorbar\":{\"outlinewidth\":0,\"ticks\":\"\"}}}],\"scatterpolar\":[{\"type\":\"scatterpolar\",\"marker\":{\"colorbar\":{\"outlinewidth\":0,\"ticks\":\"\"}}}],\"histogram\":[{\"marker\":{\"pattern\":{\"fillmode\":\"overlay\",\"size\":10,\"solidity\":0.2}},\"type\":\"histogram\"}],\"scattergl\":[{\"type\":\"scattergl\",\"marker\":{\"colorbar\":{\"outlinewidth\":0,\"ticks\":\"\"}}}],\"scatter3d\":[{\"type\":\"scatter3d\",\"line\":{\"colorbar\":{\"outlinewidth\":0,\"ticks\":\"\"}},\"marker\":{\"colorbar\":{\"outlinewidth\":0,\"ticks\":\"\"}}}],\"scattermapbox\":[{\"type\":\"scattermapbox\",\"marker\":{\"colorbar\":{\"outlinewidth\":0,\"ticks\":\"\"}}}],\"scatterternary\":[{\"type\":\"scatterternary\",\"marker\":{\"colorbar\":{\"outlinewidth\":0,\"ticks\":\"\"}}}],\"scattercarpet\":[{\"type\":\"scattercarpet\",\"marker\":{\"colorbar\":{\"outlinewidth\":0,\"ticks\":\"\"}}}],\"carpet\":[{\"aaxis\":{\"endlinecolor\":\"#2a3f5f\",\"gridcolor\":\"white\",\"linecolor\":\"white\",\"minorgridcolor\":\"white\",\"startlinecolor\":\"#2a3f5f\"},\"baxis\":{\"endlinecolor\":\"#2a3f5f\",\"gridcolor\":\"white\",\"linecolor\":\"white\",\"minorgridcolor\":\"white\",\"startlinecolor\":\"#2a3f5f\"},\"type\":\"carpet\"}],\"table\":[{\"cells\":{\"fill\":{\"color\":\"#EBF0F8\"},\"line\":{\"color\":\"white\"}},\"header\":{\"fill\":{\"color\":\"#C8D4E3\"},\"line\":{\"color\":\"white\"}},\"type\":\"table\"}],\"barpolar\":[{\"marker\":{\"line\":{\"color\":\"#E5ECF6\",\"width\":0.5},\"pattern\":{\"fillmode\":\"overlay\",\"size\":10,\"solidity\":0.2}},\"type\":\"barpolar\"}],\"pie\":[{\"automargin\":true,\"type\":\"pie\"}]},\"layout\":{\"autotypenumbers\":\"strict\",\"colorway\":[\"#636efa\",\"#EF553B\",\"#00cc96\",\"#ab63fa\",\"#FFA15A\",\"#19d3f3\",\"#FF6692\",\"#B6E880\",\"#FF97FF\",\"#FECB52\"],\"font\":{\"color\":\"#2a3f5f\"},\"hovermode\":\"closest\",\"hoverlabel\":{\"align\":\"left\"},\"paper_bgcolor\":\"white\",\"plot_bgcolor\":\"#E5ECF6\",\"polar\":{\"bgcolor\":\"#E5ECF6\",\"angularaxis\":{\"gridcolor\":\"white\",\"linecolor\":\"white\",\"ticks\":\"\"},\"radialaxis\":{\"gridcolor\":\"white\",\"linecolor\":\"white\",\"ticks\":\"\"}},\"ternary\":{\"bgcolor\":\"#E5ECF6\",\"aaxis\":{\"gridcolor\":\"white\",\"linecolor\":\"white\",\"ticks\":\"\"},\"baxis\":{\"gridcolor\":\"white\",\"linecolor\":\"white\",\"ticks\":\"\"},\"caxis\":{\"gridcolor\":\"white\",\"linecolor\":\"white\",\"ticks\":\"\"}},\"coloraxis\":{\"colorbar\":{\"outlinewidth\":0,\"ticks\":\"\"}},\"colorscale\":{\"sequential\":[[0.0,\"#0d0887\"],[0.1111111111111111,\"#46039f\"],[0.2222222222222222,\"#7201a8\"],[0.3333333333333333,\"#9c179e\"],[0.4444444444444444,\"#bd3786\"],[0.5555555555555556,\"#d8576b\"],[0.6666666666666666,\"#ed7953\"],[0.7777777777777778,\"#fb9f3a\"],[0.8888888888888888,\"#fdca26\"],[1.0,\"#f0f921\"]],\"sequentialminus\":[[0.0,\"#0d0887\"],[0.1111111111111111,\"#46039f\"],[0.2222222222222222,\"#7201a8\"],[0.3333333333333333,\"#9c179e\"],[0.4444444444444444,\"#bd3786\"],[0.5555555555555556,\"#d8576b\"],[0.6666666666666666,\"#ed7953\"],[0.7777777777777778,\"#fb9f3a\"],[0.8888888888888888,\"#fdca26\"],[1.0,\"#f0f921\"]],\"diverging\":[[0,\"#8e0152\"],[0.1,\"#c51b7d\"],[0.2,\"#de77ae\"],[0.3,\"#f1b6da\"],[0.4,\"#fde0ef\"],[0.5,\"#f7f7f7\"],[0.6,\"#e6f5d0\"],[0.7,\"#b8e186\"],[0.8,\"#7fbc41\"],[0.9,\"#4d9221\"],[1,\"#276419\"]]},\"xaxis\":{\"gridcolor\":\"white\",\"linecolor\":\"white\",\"ticks\":\"\",\"title\":{\"standoff\":15},\"zerolinecolor\":\"white\",\"automargin\":true,\"zerolinewidth\":2},\"yaxis\":{\"gridcolor\":\"white\",\"linecolor\":\"white\",\"ticks\":\"\",\"title\":{\"standoff\":15},\"zerolinecolor\":\"white\",\"automargin\":true,\"zerolinewidth\":2},\"scene\":{\"xaxis\":{\"backgroundcolor\":\"#E5ECF6\",\"gridcolor\":\"white\",\"linecolor\":\"white\",\"showbackground\":true,\"ticks\":\"\",\"zerolinecolor\":\"white\",\"gridwidth\":2},\"yaxis\":{\"backgroundcolor\":\"#E5ECF6\",\"gridcolor\":\"white\",\"linecolor\":\"white\",\"showbackground\":true,\"ticks\":\"\",\"zerolinecolor\":\"white\",\"gridwidth\":2},\"zaxis\":{\"backgroundcolor\":\"#E5ECF6\",\"gridcolor\":\"white\",\"linecolor\":\"white\",\"showbackground\":true,\"ticks\":\"\",\"zerolinecolor\":\"white\",\"gridwidth\":2}},\"shapedefaults\":{\"line\":{\"color\":\"#2a3f5f\"}},\"annotationdefaults\":{\"arrowcolor\":\"#2a3f5f\",\"arrowhead\":0,\"arrowwidth\":1},\"geo\":{\"bgcolor\":\"white\",\"landcolor\":\"#E5ECF6\",\"subunitcolor\":\"white\",\"showland\":true,\"showlakes\":true,\"lakecolor\":\"white\"},\"title\":{\"x\":0.05},\"mapbox\":{\"style\":\"light\"}}},\"xaxis\":{\"anchor\":\"y\",\"domain\":[0.0,0.2888888888888889],\"title\":{\"text\":\"x\\u003cbr\\u003e\\u003cbr\\u003e\\u003cbr\\u003ea: 0.51\\u003cbr\\u003eb: -2.27\\u003cbr\\u003ec: 0.96\"},\"range\":[0,1]},\"yaxis\":{\"anchor\":\"x\",\"domain\":[0.0,1.0],\"title\":{\"text\":\"t\"},\"range\":[-5,5]},\"xaxis2\":{\"anchor\":\"y2\",\"domain\":[0.35555555555555557,0.6444444444444445],\"title\":{\"text\":\"x\\u003cbr\\u003e\\u003cbr\\u003e\\u003cbr\\u003ea: -29.05\\u003cbr\\u003eb: 30.91\\u003cbr\\u003ec: 43.28\\u003cbr\\u003ed: -51.9\\u003cbr\\u003ee: 0.1\\u003cbr\\u003ef: 6.64\\u003cbr\\u003eg: -0.02\"},\"range\":[0,1]},\"yaxis2\":{\"anchor\":\"x2\",\"domain\":[0.0,1.0],\"title\":{\"text\":\"t\"},\"range\":[-5,5]},\"xaxis3\":{\"anchor\":\"y3\",\"domain\":[0.7111111111111111,1.0],\"title\":{\"text\":\"x\\u003cbr\\u003e\\u003cbr\\u003e\\u003cbr\\u003ea: -13964.84\\u003cbr\\u003eb: 73145.56\\u003cbr\\u003ec: -181995.34\\u003cbr\\u003ed: 315671.81\\u003cbr\\u003ee: -451514.52\\u003cbr\\u003ef: 525619.62\\u003cbr\\u003eg: -458902.99\\u003cbr\\u003eh: 283992.59\\u003cbr\\u003ei: -120706.4\\u003cbr\\u003ej: 34229.72\\u003cbr\\u003ek: -6188.15\\u003cbr\\u003el: 638.06\\u003cbr\\u003em: -25.53\\u003cbr\\u003en: 0.33\"},\"range\":[0,1]},\"yaxis3\":{\"anchor\":\"x3\",\"domain\":[0.0,1.0],\"title\":{\"text\":\"t\"},\"range\":[-5,5]},\"annotations\":[{\"font\":{\"size\":16},\"showarrow\":false,\"text\":\"poly2 fit\",\"x\":0.14444444444444446,\"xanchor\":\"center\",\"xref\":\"paper\",\"y\":1.0,\"yanchor\":\"bottom\",\"yref\":\"paper\"},{\"font\":{\"size\":16},\"showarrow\":false,\"text\":\"poly6 fit\",\"x\":0.5,\"xanchor\":\"center\",\"xref\":\"paper\",\"y\":1.0,\"yanchor\":\"bottom\",\"yref\":\"paper\"},{\"font\":{\"size\":16},\"showarrow\":false,\"text\":\"poly13 fit\",\"x\":0.8555555555555556,\"xanchor\":\"center\",\"xref\":\"paper\",\"y\":1.0,\"yanchor\":\"bottom\",\"yref\":\"paper\"}],\"showlegend\":false,\"title\":{\"text\":\"Polynomial fits and their coefficients\"},\"height\":700,\"width\":1300},                        {\"responsive\": true}                    ).then(function(){\n",
              "                            \n",
              "var gd = document.getElementById('93bcd91d-be6c-42e7-8026-839e69f5b40e');\n",
              "var x = new MutationObserver(function (mutations, observer) {{\n",
              "        var display = window.getComputedStyle(gd).display;\n",
              "        if (!display || display === 'none') {{\n",
              "            console.log([gd, 'removed!']);\n",
              "            Plotly.purge(gd);\n",
              "            observer.disconnect();\n",
              "        }}\n",
              "}});\n",
              "\n",
              "// Listen for the removal of the full notebook cells\n",
              "var notebookContainer = gd.closest('#notebook-container');\n",
              "if (notebookContainer) {{\n",
              "    x.observe(notebookContainer, {childList: true});\n",
              "}}\n",
              "\n",
              "// Listen for the clearing of the current output cell\n",
              "var outputEl = gd.closest('.output');\n",
              "if (outputEl) {{\n",
              "    x.observe(outputEl, {childList: true});\n",
              "}}\n",
              "\n",
              "                        })                };                            </script>        </div>\n",
              "</body>\n",
              "</html>"
            ]
          },
          "metadata": {}
        }
      ]
    },
    {
      "cell_type": "markdown",
      "metadata": {
        "id": "AdW9hYYgPAey"
      },
      "source": [
        "Unfortunately, we do not always have access to more data. Usually our goal is precisely to learn a general rule from a *few* samples, take for instance the [ARC challenge](https://www.kaggle.com/c/abstraction-and-reasoning-challenge/overview).\n",
        "\n",
        "Indeed intelligence seems more related to the (small) ratio between the amount of available data and the prediction performance, rather than just to the prediction performance.\n",
        "\n",
        "Have you noticed the huge values of $\\theta$ in the case of overfitting? Aren't the coefficients of the high-order terms in the Taylor expansion of $\\sin (x)$ supposed to be smaller and smaller?\n",
        "What if we try to discourage this overfitting behavior by adding to the loss a penalization term proportional to the norm of $\\theta$?\n",
        "\n",
        "You have already seen (or will soon see) this very common regularization technique in the theoretical lectures:\n",
        "$$E'(\\theta) = \\lambda \\|\\theta\\|^2 + \\frac{1}{N} \\sum_{i=1}^N(f_\\theta(x_i) - t_i)^2$$\n",
        "\n",
        "> 📖 **EXERCISE**: Obtain the vectorized closed-form solution for $\\theta$ that minimizes $E'$. (The one for $E$ was $\\theta = (\\mathbf{X}^\\top \\mathbf{X})^{-1}\\mathbf{X}^\\top\\mathbf{y}$)\n",
        ">\n",
        "> **Hint**: This is the first step:\n",
        "> $$ E'(\\theta) = (\\mathbf{y} - \\mathbf{X}\\theta)^\\top(\\mathbf{y} - \\mathbf{X}\\theta) + \\lambda\\theta^\\top\\theta$$\n",
        ">\n",
        "> Solve the exercise using pen and paper, the good old way.\n",
        "\n",
        "When you're done, let's play with the $\\lambda$ parameter."
      ]
    },
    {
      "cell_type": "code",
      "metadata": {
        "id": "7TO701p_BoFJ",
        "colab": {
          "base_uri": "https://localhost:8080/",
          "height": 737
        },
        "outputId": "4d64a936-4459-4f4b-e5c3-646fbabd5e9a",
        "cellView": "form"
      },
      "source": [
        "# @title Regularized polynomial fits: weight decay { run: \"auto\" }\n",
        "\n",
        "deg_1 = 2  #@param {type:\"slider\", min:0, max:15, step:1}\n",
        "deg_2 = 6  #@param {type:\"slider\", min:0, max:15, step:1}\n",
        "deg_3 = 15  #@param {type:\"slider\", min:0, max:15, step:1}\n",
        "lam =   0.0001#@param {type:\"number\"}\n",
        "\n",
        "degree = {}\n",
        "degree[0], degree[1], degree[2] = deg_1, deg_2, deg_3\n",
        "\n",
        "max_degree = max(degree.values())\n",
        "y = torch.from_numpy(t)\n",
        "X_full = torch.ones((y.shape[0], max_degree + 1), dtype=torch.float64)  # double precision is needed for this calculation!\n",
        "for i in range(max_degree):\n",
        "    X_full[:,i] =  torch.from_numpy(x) ** (max_degree - i)\n",
        "\n",
        "theta_collection = {}\n",
        "\n",
        "for i in range(3):\n",
        "    X = X_full[:,-(degree[i] + 1):]\n",
        "    temp_inverse = torch.inverse(torch.einsum('ij,jk->ik', X.t(), X) + lam * torch.eye(degree[i] + 1))\n",
        "    theta_collection[i] = torch.einsum('ij,jk,k->i', temp_inverse, X.t(), y)\n",
        "\n",
        "fig = make_subplots(\n",
        "    rows=1, cols=3,\n",
        "    subplot_titles=(f\"poly{degree[0]} fit\", f\"poly{degree[1]} fit\", f\"poly{degree[2]} fit\"))\n",
        "\n",
        "x_funcs = np.arange(0,1,1./100)\n",
        "y_funcs = {}\n",
        "for i in range(3):\n",
        "    theta_funcs = theta_collection[i].numpy()\n",
        "    X_funcs = np.ones((x_funcs.shape[0], degree[i] + 1), dtype=np.float64)\n",
        "    for j in range(degree[i]):\n",
        "        X_funcs[:,j] =  x_funcs ** (degree[i] - j)\n",
        "    y_funcs[i] = np.einsum('ij,j->i', X_funcs, theta_funcs)\n",
        "    coefficients_string = '<br><br><br>' + '<br>'.join([c + f': {np.round(theta_funcs[i], decimals=2)}' for i, c in enumerate('abcdefghijklmnopqrstuvwxyz'[:len(theta_funcs)])])\n",
        "\n",
        "    fig.add_trace(go.Scatter(x=x, y=t, mode='markers', marker=dict(color=\"mediumpurple\")), row=1, col=i + 1)\n",
        "    fig.add_trace(go.Scatter(x=x_funcs, y=np.sin(2*np.pi*x_funcs), mode='lines', line=dict(color=\"lightgreen\")), row=1, col=i + 1)\n",
        "    fig.add_trace(go.Scatter(x=x_funcs, y=y_funcs[i], mode='lines', line=dict(color=\"lightsalmon\")), row=1, col=i + 1)\n",
        "    fig.update_xaxes(title_text=\"x\" + coefficients_string, range = [0,1], row=1, col=i+1)\n",
        "\n",
        "fig.update_layout(showlegend=False)\n",
        "fig.update_yaxes(title_text=\"t\", range = [-5,5])\n",
        "fig.update_layout(height=700, width=1300, title_text=\"Polynomial fits and their coefficients\")\n",
        "fig.show()"
      ],
      "execution_count": null,
      "outputs": [
        {
          "output_type": "display_data",
          "data": {
            "text/html": [
              "<html>\n",
              "<head><meta charset=\"utf-8\" /></head>\n",
              "<body>\n",
              "    <div>            <script src=\"https://cdnjs.cloudflare.com/ajax/libs/mathjax/2.7.5/MathJax.js?config=TeX-AMS-MML_SVG\"></script><script type=\"text/javascript\">if (window.MathJax && window.MathJax.Hub && window.MathJax.Hub.Config) {window.MathJax.Hub.Config({SVG: {font: \"STIX-Web\"}});}</script>                <script type=\"text/javascript\">window.PlotlyConfig = {MathJaxConfig: 'local'};</script>\n",
              "        <script charset=\"utf-8\" src=\"https://cdn.plot.ly/plotly-2.24.1.min.js\"></script>                <div id=\"5c7fa1dc-70bc-466d-8360-2cc3561017c6\" class=\"plotly-graph-div\" style=\"height:700px; width:1300px;\"></div>            <script type=\"text/javascript\">                                    window.PLOTLYENV=window.PLOTLYENV || {};                                    if (document.getElementById(\"5c7fa1dc-70bc-466d-8360-2cc3561017c6\")) {                    Plotly.newPlot(                        \"5c7fa1dc-70bc-466d-8360-2cc3561017c6\",                        [{\"marker\":{\"color\":\"mediumpurple\"},\"mode\":\"markers\",\"x\":[0.3745401188473625,0.9507143064099162,0.7319939418114051,0.5986584841970366,0.15601864044243652,0.15599452033620265,0.05808361216819946,0.8661761457749352,0.6011150117432088,0.7080725777960455],\"y\":[0.6621995859491285,-0.2504894367193866,-1.0399487832345553,-0.6275182299806012,0.854857342681687,0.6392487011533475,0.18441089666331875,-0.8014323286500792,-0.6947217251134631,-0.9340757540684701],\"type\":\"scatter\",\"xaxis\":\"x\",\"yaxis\":\"y\"},{\"line\":{\"color\":\"lightgreen\"},\"mode\":\"lines\",\"x\":[0.0,0.01,0.02,0.03,0.04,0.05,0.06,0.07,0.08,0.09,0.1,0.11,0.12,0.13,0.14,0.15,0.16,0.17,0.18,0.19,0.2,0.21,0.22,0.23,0.24,0.25,0.26,0.27,0.28,0.29,0.3,0.31,0.32,0.33,0.34,0.35000000000000003,0.36,0.37,0.38,0.39,0.4,0.41000000000000003,0.42,0.43,0.44,0.45,0.46,0.47000000000000003,0.48,0.49,0.5,0.51,0.52,0.53,0.54,0.55,0.56,0.5700000000000001,0.58,0.59,0.6,0.61,0.62,0.63,0.64,0.65,0.66,0.67,0.68,0.6900000000000001,0.7000000000000001,0.71,0.72,0.73,0.74,0.75,0.76,0.77,0.78,0.79,0.8,0.81,0.8200000000000001,0.8300000000000001,0.84,0.85,0.86,0.87,0.88,0.89,0.9,0.91,0.92,0.93,0.9400000000000001,0.9500000000000001,0.96,0.97,0.98,0.99],\"y\":[0.0,0.06279051952931337,0.12533323356430426,0.1873813145857246,0.2486898871648548,0.3090169943749474,0.3681245526846779,0.4257792915650727,0.4817536741017153,0.5358267949789967,0.5877852522924731,0.6374239897486896,0.6845471059286886,0.7289686274214116,0.7705132427757893,0.8090169943749475,0.8443279255020151,0.8763066800438637,0.9048270524660196,0.9297764858882513,0.9510565162951535,0.9685831611286311,0.9822872507286886,0.9921147013144779,0.9980267284282716,1.0,0.9980267284282716,0.9921147013144778,0.9822872507286886,0.9685831611286312,0.9510565162951536,0.9297764858882513,0.9048270524660195,0.8763066800438635,0.844327925502015,0.8090169943749475,0.7705132427757893,0.7289686274214114,0.6845471059286888,0.6374239897486899,0.5877852522924732,0.5358267949789967,0.4817536741017156,0.4257792915650729,0.36812455268467814,0.3090169943749475,0.24868988716485482,0.18738131458572457,0.12533323356430454,0.06279051952931358,1.2246467991473532e-16,-0.06279051952931335,-0.12533323356430429,-0.18738131458572477,-0.24868988716485502,-0.30901699437494773,-0.3681245526846783,-0.42577929156507266,-0.481753674101715,-0.5358267949789964,-0.587785252292473,-0.6374239897486896,-0.6845471059286887,-0.7289686274214113,-0.7705132427757894,-0.8090169943749473,-0.8443279255020153,-0.8763066800438636,-0.9048270524660198,-0.9297764858882515,-0.9510565162951535,-0.968583161128631,-0.9822872507286887,-0.9921147013144778,-0.9980267284282716,-1.0,-0.9980267284282716,-0.9921147013144779,-0.9822872507286887,-0.9685831611286311,-0.9510565162951536,-0.9297764858882512,-0.9048270524660196,-0.8763066800438634,-0.8443279255020155,-0.8090169943749476,-0.7705132427757896,-0.7289686274214116,-0.684547105928689,-0.6374239897486896,-0.5877852522924734,-0.5358267949789963,-0.4817536741017153,-0.4257792915650722,-0.36812455268467786,-0.3090169943749476,-0.24868988716485535,-0.18738131458572468,-0.12533323356430465,-0.06279051952931326],\"type\":\"scatter\",\"xaxis\":\"x\",\"yaxis\":\"y\"},{\"line\":{\"color\":\"lightsalmon\"},\"mode\":\"lines\",\"x\":[0.0,0.01,0.02,0.03,0.04,0.05,0.06,0.07,0.08,0.09,0.1,0.11,0.12,0.13,0.14,0.15,0.16,0.17,0.18,0.19,0.2,0.21,0.22,0.23,0.24,0.25,0.26,0.27,0.28,0.29,0.3,0.31,0.32,0.33,0.34,0.35000000000000003,0.36,0.37,0.38,0.39,0.4,0.41000000000000003,0.42,0.43,0.44,0.45,0.46,0.47000000000000003,0.48,0.49,0.5,0.51,0.52,0.53,0.54,0.55,0.56,0.5700000000000001,0.58,0.59,0.6,0.61,0.62,0.63,0.64,0.65,0.66,0.67,0.68,0.6900000000000001,0.7000000000000001,0.71,0.72,0.73,0.74,0.75,0.76,0.77,0.78,0.79,0.8,0.81,0.8200000000000001,0.8300000000000001,0.84,0.85,0.86,0.87,0.88,0.89,0.9,0.91,0.92,0.93,0.9400000000000001,0.9500000000000001,0.96,0.97,0.98,0.99],\"y\":[1.012948943825365,0.9765245315225863,0.9404835574921772,0.9048260217341372,0.8695519242484667,0.8346612650351657,0.8001540440942341,0.7660302614256718,0.7322899170294788,0.6989330109056552,0.6659595430542009,0.633369513475116,0.6011629221684005,0.5693397691340545,0.5379000543720777,0.5068437778824705,0.4761709396652326,0.44588153972036393,0.41597557804786467,0.38645305464773494,0.3573139695199744,0.3285583226645834,0.3001861140815617,0.2721973437709093,0.24459201173262646,0.2173701179667129,0.19053166247316866,0.16407664525199384,0.13800506630318843,0.11231692562675244,0.08701222322268576,0.062090959090988385,0.03755313323166054,0.013398745644701782,-0.010372203669887226,-0.03375971471210715,-0.05676378748195754,-0.07938442197943862,-0.10162161820455018,-0.12347537615729243,-0.14494569583766537,-0.166032577245669,-0.1867360203813031,-0.2070560252445679,-0.22699259183546316,-0.24654572015398935,-0.265715410200146,-0.28450166197393334,-0.30290447547535115,-0.3209238507043999,-0.33855978766107886,-0.35581228634538853,-0.3726813467573291,-0.38916696889690017,-0.4052691527641017,-0.42098789835893413,-0.43632320568139704,-0.4512750747314904,-0.4658435055092143,-0.48002849801456904,-0.4938300522475547,-0.5072481682081706,-0.5202828458964173,-0.5329340853122946,-0.5452018864558024,-0.5570862493269408,-0.5685871739257102,-0.5797046602521099,-0.5904387083061402,-0.6007893180878012,-0.6107564895970929,-0.6203402228340149,-0.629540517798568,-0.6383573744907518,-0.6467907929105658,-0.6548407730580106,-0.6625073149330856,-0.6697904185357917,-0.6766900838661281,-0.683206310924096,-0.6893390997096938,-0.6950884502229218,-0.7004543624637809,-0.7054368364322707,-0.7100358721283913,-0.7142514695521425,-0.7180836287035239,-0.7215323495825356,-0.7245976321891789,-0.727279476523452,-0.7295778825853563,-0.7314928503748912,-0.7330243798920568,-0.7341724711368522,-0.7349371241092788,-0.7353183388093365,-0.735316115237024,-0.7349304533923426,-0.734161353275292,-0.7330088148858716],\"type\":\"scatter\",\"xaxis\":\"x\",\"yaxis\":\"y\"},{\"marker\":{\"color\":\"mediumpurple\"},\"mode\":\"markers\",\"x\":[0.3745401188473625,0.9507143064099162,0.7319939418114051,0.5986584841970366,0.15601864044243652,0.15599452033620265,0.05808361216819946,0.8661761457749352,0.6011150117432088,0.7080725777960455],\"y\":[0.6621995859491285,-0.2504894367193866,-1.0399487832345553,-0.6275182299806012,0.854857342681687,0.6392487011533475,0.18441089666331875,-0.8014323286500792,-0.6947217251134631,-0.9340757540684701],\"type\":\"scatter\",\"xaxis\":\"x2\",\"yaxis\":\"y2\"},{\"line\":{\"color\":\"lightgreen\"},\"mode\":\"lines\",\"x\":[0.0,0.01,0.02,0.03,0.04,0.05,0.06,0.07,0.08,0.09,0.1,0.11,0.12,0.13,0.14,0.15,0.16,0.17,0.18,0.19,0.2,0.21,0.22,0.23,0.24,0.25,0.26,0.27,0.28,0.29,0.3,0.31,0.32,0.33,0.34,0.35000000000000003,0.36,0.37,0.38,0.39,0.4,0.41000000000000003,0.42,0.43,0.44,0.45,0.46,0.47000000000000003,0.48,0.49,0.5,0.51,0.52,0.53,0.54,0.55,0.56,0.5700000000000001,0.58,0.59,0.6,0.61,0.62,0.63,0.64,0.65,0.66,0.67,0.68,0.6900000000000001,0.7000000000000001,0.71,0.72,0.73,0.74,0.75,0.76,0.77,0.78,0.79,0.8,0.81,0.8200000000000001,0.8300000000000001,0.84,0.85,0.86,0.87,0.88,0.89,0.9,0.91,0.92,0.93,0.9400000000000001,0.9500000000000001,0.96,0.97,0.98,0.99],\"y\":[0.0,0.06279051952931337,0.12533323356430426,0.1873813145857246,0.2486898871648548,0.3090169943749474,0.3681245526846779,0.4257792915650727,0.4817536741017153,0.5358267949789967,0.5877852522924731,0.6374239897486896,0.6845471059286886,0.7289686274214116,0.7705132427757893,0.8090169943749475,0.8443279255020151,0.8763066800438637,0.9048270524660196,0.9297764858882513,0.9510565162951535,0.9685831611286311,0.9822872507286886,0.9921147013144779,0.9980267284282716,1.0,0.9980267284282716,0.9921147013144778,0.9822872507286886,0.9685831611286312,0.9510565162951536,0.9297764858882513,0.9048270524660195,0.8763066800438635,0.844327925502015,0.8090169943749475,0.7705132427757893,0.7289686274214114,0.6845471059286888,0.6374239897486899,0.5877852522924732,0.5358267949789967,0.4817536741017156,0.4257792915650729,0.36812455268467814,0.3090169943749475,0.24868988716485482,0.18738131458572457,0.12533323356430454,0.06279051952931358,1.2246467991473532e-16,-0.06279051952931335,-0.12533323356430429,-0.18738131458572477,-0.24868988716485502,-0.30901699437494773,-0.3681245526846783,-0.42577929156507266,-0.481753674101715,-0.5358267949789964,-0.587785252292473,-0.6374239897486896,-0.6845471059286887,-0.7289686274214113,-0.7705132427757894,-0.8090169943749473,-0.8443279255020153,-0.8763066800438636,-0.9048270524660198,-0.9297764858882515,-0.9510565162951535,-0.968583161128631,-0.9822872507286887,-0.9921147013144778,-0.9980267284282716,-1.0,-0.9980267284282716,-0.9921147013144779,-0.9822872507286887,-0.9685831611286311,-0.9510565162951536,-0.9297764858882512,-0.9048270524660196,-0.8763066800438634,-0.8443279255020155,-0.8090169943749476,-0.7705132427757896,-0.7289686274214116,-0.684547105928689,-0.6374239897486896,-0.5877852522924734,-0.5358267949789963,-0.4817536741017153,-0.4257792915650722,-0.36812455268467786,-0.3090169943749476,-0.24868988716485535,-0.18738131458572468,-0.12533323356430465,-0.06279051952931326],\"type\":\"scatter\",\"xaxis\":\"x2\",\"yaxis\":\"y2\"},{\"line\":{\"color\":\"lightsalmon\"},\"mode\":\"lines\",\"x\":[0.0,0.01,0.02,0.03,0.04,0.05,0.06,0.07,0.08,0.09,0.1,0.11,0.12,0.13,0.14,0.15,0.16,0.17,0.18,0.19,0.2,0.21,0.22,0.23,0.24,0.25,0.26,0.27,0.28,0.29,0.3,0.31,0.32,0.33,0.34,0.35000000000000003,0.36,0.37,0.38,0.39,0.4,0.41000000000000003,0.42,0.43,0.44,0.45,0.46,0.47000000000000003,0.48,0.49,0.5,0.51,0.52,0.53,0.54,0.55,0.56,0.5700000000000001,0.58,0.59,0.6,0.61,0.62,0.63,0.64,0.65,0.66,0.67,0.68,0.6900000000000001,0.7000000000000001,0.71,0.72,0.73,0.74,0.75,0.76,0.77,0.78,0.79,0.8,0.81,0.8200000000000001,0.8300000000000001,0.84,0.85,0.86,0.87,0.88,0.89,0.9,0.91,0.92,0.93,0.9400000000000001,0.9500000000000001,0.96,0.97,0.98,0.99],\"y\":[-0.20501069290412222,-0.11704994932333658,-0.033026524761727793,0.04705353174578589,0.12318674106026961,0.19537227579071953,0.26361203883686546,0.32791073862283054,0.388275961021646,0.44471823797062227,0.4972511127775763,0.5458912021179141,0.5906582547225705,0.6315752067568023,0.6686682338898424,0.7019668000554029,0.7315037029030409,0.757315115940375,0.7794406273661618,0.7979232755942263,0.8128095814682469,0.824149577167401,0.831996831802861,0.83640847370515,0.8374452094023519,0.8351713392891784,0.8296547699868915,0.8209670233940816,0.8091832424283003,0.7943821934585551,0.7766462654286506,0.7560614656713951,0.732717412413654,0.7067073239722705,0.6781280046408291,0.647079827267286,0.6136667125224511,0.5779961048593223,0.5401789451632846,0.5003296400931547,0.4585660281130921,0.41500934221536,0.369784169333939,0.32301840644900404,0.2748432133822556,0.22539296228310324,0.17480518380570853,0.12322050997687839,0.0707826137548313,0.017638145278785267,-0.03606333519055127,-0.09016942763967695,-0.144524965980116,-0.1989720950353746,-0.2533503508370618,-0.3074967442301464,-0.3612458477873455,-0.4144298860326705,-0.46687882897412347,-0.5184204889455115,-0.5688806207574348,-0.6180830251574001,-0.6658496555990814,-0.7120007283207341,-0.756354835732739,-0.7987290631142994,-0.8389391086192779,-0.8767994065911902,-0.9121232541873123,-0.9447229413119747,-0.9744098838589617,-1.0009947602630689,-1.0242876513608214,-1.0440981835603083,-1.0602356753201843,-1.0725092869377812,-1.0807281736464276,-1.0847016420218285,-1.0842393096976704,-1.0791512683903086,-1.0692482502326275,-1.0543417974170435,-1.0342444351476576,-1.0087698479015224,-0.9777330589990889,-0.940950613483782,-0.8982407643107067,-0.8494236618445292,-0.7943215466664739,-0.7327589456904811,-0.6645628715884939,-0.5895630255249138,-0.5075920032001626,-0.41848550420344033,-0.3220825446745703,-0.21822567327501474,-0.10676119046806143,0.012460628891897585,0.1395853096608981,0.27475394719784063],\"type\":\"scatter\",\"xaxis\":\"x2\",\"yaxis\":\"y2\"},{\"marker\":{\"color\":\"mediumpurple\"},\"mode\":\"markers\",\"x\":[0.3745401188473625,0.9507143064099162,0.7319939418114051,0.5986584841970366,0.15601864044243652,0.15599452033620265,0.05808361216819946,0.8661761457749352,0.6011150117432088,0.7080725777960455],\"y\":[0.6621995859491285,-0.2504894367193866,-1.0399487832345553,-0.6275182299806012,0.854857342681687,0.6392487011533475,0.18441089666331875,-0.8014323286500792,-0.6947217251134631,-0.9340757540684701],\"type\":\"scatter\",\"xaxis\":\"x3\",\"yaxis\":\"y3\"},{\"line\":{\"color\":\"lightgreen\"},\"mode\":\"lines\",\"x\":[0.0,0.01,0.02,0.03,0.04,0.05,0.06,0.07,0.08,0.09,0.1,0.11,0.12,0.13,0.14,0.15,0.16,0.17,0.18,0.19,0.2,0.21,0.22,0.23,0.24,0.25,0.26,0.27,0.28,0.29,0.3,0.31,0.32,0.33,0.34,0.35000000000000003,0.36,0.37,0.38,0.39,0.4,0.41000000000000003,0.42,0.43,0.44,0.45,0.46,0.47000000000000003,0.48,0.49,0.5,0.51,0.52,0.53,0.54,0.55,0.56,0.5700000000000001,0.58,0.59,0.6,0.61,0.62,0.63,0.64,0.65,0.66,0.67,0.68,0.6900000000000001,0.7000000000000001,0.71,0.72,0.73,0.74,0.75,0.76,0.77,0.78,0.79,0.8,0.81,0.8200000000000001,0.8300000000000001,0.84,0.85,0.86,0.87,0.88,0.89,0.9,0.91,0.92,0.93,0.9400000000000001,0.9500000000000001,0.96,0.97,0.98,0.99],\"y\":[0.0,0.06279051952931337,0.12533323356430426,0.1873813145857246,0.2486898871648548,0.3090169943749474,0.3681245526846779,0.4257792915650727,0.4817536741017153,0.5358267949789967,0.5877852522924731,0.6374239897486896,0.6845471059286886,0.7289686274214116,0.7705132427757893,0.8090169943749475,0.8443279255020151,0.8763066800438637,0.9048270524660196,0.9297764858882513,0.9510565162951535,0.9685831611286311,0.9822872507286886,0.9921147013144779,0.9980267284282716,1.0,0.9980267284282716,0.9921147013144778,0.9822872507286886,0.9685831611286312,0.9510565162951536,0.9297764858882513,0.9048270524660195,0.8763066800438635,0.844327925502015,0.8090169943749475,0.7705132427757893,0.7289686274214114,0.6845471059286888,0.6374239897486899,0.5877852522924732,0.5358267949789967,0.4817536741017156,0.4257792915650729,0.36812455268467814,0.3090169943749475,0.24868988716485482,0.18738131458572457,0.12533323356430454,0.06279051952931358,1.2246467991473532e-16,-0.06279051952931335,-0.12533323356430429,-0.18738131458572477,-0.24868988716485502,-0.30901699437494773,-0.3681245526846783,-0.42577929156507266,-0.481753674101715,-0.5358267949789964,-0.587785252292473,-0.6374239897486896,-0.6845471059286887,-0.7289686274214113,-0.7705132427757894,-0.8090169943749473,-0.8443279255020153,-0.8763066800438636,-0.9048270524660198,-0.9297764858882515,-0.9510565162951535,-0.968583161128631,-0.9822872507286887,-0.9921147013144778,-0.9980267284282716,-1.0,-0.9980267284282716,-0.9921147013144779,-0.9822872507286887,-0.9685831611286311,-0.9510565162951536,-0.9297764858882512,-0.9048270524660196,-0.8763066800438634,-0.8443279255020155,-0.8090169943749476,-0.7705132427757896,-0.7289686274214116,-0.684547105928689,-0.6374239897486896,-0.5877852522924734,-0.5358267949789963,-0.4817536741017153,-0.4257792915650722,-0.36812455268467786,-0.3090169943749476,-0.24868988716485535,-0.18738131458572468,-0.12533323356430465,-0.06279051952931326],\"type\":\"scatter\",\"xaxis\":\"x3\",\"yaxis\":\"y3\"},{\"line\":{\"color\":\"lightsalmon\"},\"mode\":\"lines\",\"x\":[0.0,0.01,0.02,0.03,0.04,0.05,0.06,0.07,0.08,0.09,0.1,0.11,0.12,0.13,0.14,0.15,0.16,0.17,0.18,0.19,0.2,0.21,0.22,0.23,0.24,0.25,0.26,0.27,0.28,0.29,0.3,0.31,0.32,0.33,0.34,0.35000000000000003,0.36,0.37,0.38,0.39,0.4,0.41000000000000003,0.42,0.43,0.44,0.45,0.46,0.47000000000000003,0.48,0.49,0.5,0.51,0.52,0.53,0.54,0.55,0.56,0.5700000000000001,0.58,0.59,0.6,0.61,0.62,0.63,0.64,0.65,0.66,0.67,0.68,0.6900000000000001,0.7000000000000001,0.71,0.72,0.73,0.74,0.75,0.76,0.77,0.78,0.79,0.8,0.81,0.8200000000000001,0.8300000000000001,0.84,0.85,0.86,0.87,0.88,0.89,0.9,0.91,0.92,0.93,0.9400000000000001,0.9500000000000001,0.96,0.97,0.98,0.99],\"y\":[-0.1901811784268128,-0.10792035965542622,-0.02885807313535077,0.04697776242612653,0.11956037804982522,0.18886424425390735,0.25486516507589363,0.3175403764825136,0.3768686493002428,0.43283039679614166,0.48540778703416676,0.5345848601263326,0.580347650490786,0.622684314219811,0.661585261649813,0.6970432952122245,0.7290537526287326,0.7576146554960711,0.7827268632844657,0.8043942327494601,0.8226237827288687,0.8374258642647489,0.8488143359540978,0.8568067443911824,0.8614245095185074,0.8626931146520935,0.8606423008894728,0.8553062655452679,0.8467238641888539,0.8349388157810951,0.8199999103219566,0.8019612183275564,0.7808823013535087,0.7568284226708242,0.7298707570808367,0.7000865987263007,0.6675595656166711,0.632379799436463,0.5946441590463851,0.5544564059175383,0.5119273795596242,0.4671751608147705,0.420325220689894,0.3715105521927753,0.3208717824210203,0.2685572619298018,0.21472312817473638,0.1595333395920724,0.10315967664115044,0.04578170589590691,-0.012413296964342013,-0.07123046964684088,-0.13046753582665227,-0.1899150326367387,-0.2493565980836756,-0.3085693235821001,-0.3673241769511204,-0.4253865013331444,-0.48251659557337145,-0.5384703816280618,-0.5930001645435299,-0.6458554904551885,-0.6967841078867689,-0.745533037371577,-0.7918497540577016,-0.8354834874826818,-0.8761866420947824,-0.913716341340292,-0.9478360972103843,-0.9783176060264864,-1.0049426699175195,-1.02750524188151,-1.0458135905017327,-1.059692578274964,-1.0689860450764614,-1.0735592854988791,-1.0733016056256233,-1.0681289411936792,-1.0579865150260535,-1.0428515070246256,-1.0227357048628836,-0.9976880977534579,-0.9677973692328212,-0.9331942377464078,-0.8940535858689964,-0.8505963101909799,-0.8030908141693285,-0.7518540555075202,-0.6972520478096369,-0.6396997032653831,-0.5796598888725093,-0.5176415530950784,-0.4541967627863066,-0.389916471564991,-0.3254248205087844,-0.26137174989328216,-0.19842367663403948,-0.13725196594152322,-0.07851889733283102,-0.022860794405021423],\"type\":\"scatter\",\"xaxis\":\"x3\",\"yaxis\":\"y3\"}],                        {\"template\":{\"data\":{\"histogram2dcontour\":[{\"type\":\"histogram2dcontour\",\"colorbar\":{\"outlinewidth\":0,\"ticks\":\"\"},\"colorscale\":[[0.0,\"#0d0887\"],[0.1111111111111111,\"#46039f\"],[0.2222222222222222,\"#7201a8\"],[0.3333333333333333,\"#9c179e\"],[0.4444444444444444,\"#bd3786\"],[0.5555555555555556,\"#d8576b\"],[0.6666666666666666,\"#ed7953\"],[0.7777777777777778,\"#fb9f3a\"],[0.8888888888888888,\"#fdca26\"],[1.0,\"#f0f921\"]]}],\"choropleth\":[{\"type\":\"choropleth\",\"colorbar\":{\"outlinewidth\":0,\"ticks\":\"\"}}],\"histogram2d\":[{\"type\":\"histogram2d\",\"colorbar\":{\"outlinewidth\":0,\"ticks\":\"\"},\"colorscale\":[[0.0,\"#0d0887\"],[0.1111111111111111,\"#46039f\"],[0.2222222222222222,\"#7201a8\"],[0.3333333333333333,\"#9c179e\"],[0.4444444444444444,\"#bd3786\"],[0.5555555555555556,\"#d8576b\"],[0.6666666666666666,\"#ed7953\"],[0.7777777777777778,\"#fb9f3a\"],[0.8888888888888888,\"#fdca26\"],[1.0,\"#f0f921\"]]}],\"heatmap\":[{\"type\":\"heatmap\",\"colorbar\":{\"outlinewidth\":0,\"ticks\":\"\"},\"colorscale\":[[0.0,\"#0d0887\"],[0.1111111111111111,\"#46039f\"],[0.2222222222222222,\"#7201a8\"],[0.3333333333333333,\"#9c179e\"],[0.4444444444444444,\"#bd3786\"],[0.5555555555555556,\"#d8576b\"],[0.6666666666666666,\"#ed7953\"],[0.7777777777777778,\"#fb9f3a\"],[0.8888888888888888,\"#fdca26\"],[1.0,\"#f0f921\"]]}],\"heatmapgl\":[{\"type\":\"heatmapgl\",\"colorbar\":{\"outlinewidth\":0,\"ticks\":\"\"},\"colorscale\":[[0.0,\"#0d0887\"],[0.1111111111111111,\"#46039f\"],[0.2222222222222222,\"#7201a8\"],[0.3333333333333333,\"#9c179e\"],[0.4444444444444444,\"#bd3786\"],[0.5555555555555556,\"#d8576b\"],[0.6666666666666666,\"#ed7953\"],[0.7777777777777778,\"#fb9f3a\"],[0.8888888888888888,\"#fdca26\"],[1.0,\"#f0f921\"]]}],\"contourcarpet\":[{\"type\":\"contourcarpet\",\"colorbar\":{\"outlinewidth\":0,\"ticks\":\"\"}}],\"contour\":[{\"type\":\"contour\",\"colorbar\":{\"outlinewidth\":0,\"ticks\":\"\"},\"colorscale\":[[0.0,\"#0d0887\"],[0.1111111111111111,\"#46039f\"],[0.2222222222222222,\"#7201a8\"],[0.3333333333333333,\"#9c179e\"],[0.4444444444444444,\"#bd3786\"],[0.5555555555555556,\"#d8576b\"],[0.6666666666666666,\"#ed7953\"],[0.7777777777777778,\"#fb9f3a\"],[0.8888888888888888,\"#fdca26\"],[1.0,\"#f0f921\"]]}],\"surface\":[{\"type\":\"surface\",\"colorbar\":{\"outlinewidth\":0,\"ticks\":\"\"},\"colorscale\":[[0.0,\"#0d0887\"],[0.1111111111111111,\"#46039f\"],[0.2222222222222222,\"#7201a8\"],[0.3333333333333333,\"#9c179e\"],[0.4444444444444444,\"#bd3786\"],[0.5555555555555556,\"#d8576b\"],[0.6666666666666666,\"#ed7953\"],[0.7777777777777778,\"#fb9f3a\"],[0.8888888888888888,\"#fdca26\"],[1.0,\"#f0f921\"]]}],\"mesh3d\":[{\"type\":\"mesh3d\",\"colorbar\":{\"outlinewidth\":0,\"ticks\":\"\"}}],\"scatter\":[{\"fillpattern\":{\"fillmode\":\"overlay\",\"size\":10,\"solidity\":0.2},\"type\":\"scatter\"}],\"parcoords\":[{\"type\":\"parcoords\",\"line\":{\"colorbar\":{\"outlinewidth\":0,\"ticks\":\"\"}}}],\"scatterpolargl\":[{\"type\":\"scatterpolargl\",\"marker\":{\"colorbar\":{\"outlinewidth\":0,\"ticks\":\"\"}}}],\"bar\":[{\"error_x\":{\"color\":\"#2a3f5f\"},\"error_y\":{\"color\":\"#2a3f5f\"},\"marker\":{\"line\":{\"color\":\"#E5ECF6\",\"width\":0.5},\"pattern\":{\"fillmode\":\"overlay\",\"size\":10,\"solidity\":0.2}},\"type\":\"bar\"}],\"scattergeo\":[{\"type\":\"scattergeo\",\"marker\":{\"colorbar\":{\"outlinewidth\":0,\"ticks\":\"\"}}}],\"scatterpolar\":[{\"type\":\"scatterpolar\",\"marker\":{\"colorbar\":{\"outlinewidth\":0,\"ticks\":\"\"}}}],\"histogram\":[{\"marker\":{\"pattern\":{\"fillmode\":\"overlay\",\"size\":10,\"solidity\":0.2}},\"type\":\"histogram\"}],\"scattergl\":[{\"type\":\"scattergl\",\"marker\":{\"colorbar\":{\"outlinewidth\":0,\"ticks\":\"\"}}}],\"scatter3d\":[{\"type\":\"scatter3d\",\"line\":{\"colorbar\":{\"outlinewidth\":0,\"ticks\":\"\"}},\"marker\":{\"colorbar\":{\"outlinewidth\":0,\"ticks\":\"\"}}}],\"scattermapbox\":[{\"type\":\"scattermapbox\",\"marker\":{\"colorbar\":{\"outlinewidth\":0,\"ticks\":\"\"}}}],\"scatterternary\":[{\"type\":\"scatterternary\",\"marker\":{\"colorbar\":{\"outlinewidth\":0,\"ticks\":\"\"}}}],\"scattercarpet\":[{\"type\":\"scattercarpet\",\"marker\":{\"colorbar\":{\"outlinewidth\":0,\"ticks\":\"\"}}}],\"carpet\":[{\"aaxis\":{\"endlinecolor\":\"#2a3f5f\",\"gridcolor\":\"white\",\"linecolor\":\"white\",\"minorgridcolor\":\"white\",\"startlinecolor\":\"#2a3f5f\"},\"baxis\":{\"endlinecolor\":\"#2a3f5f\",\"gridcolor\":\"white\",\"linecolor\":\"white\",\"minorgridcolor\":\"white\",\"startlinecolor\":\"#2a3f5f\"},\"type\":\"carpet\"}],\"table\":[{\"cells\":{\"fill\":{\"color\":\"#EBF0F8\"},\"line\":{\"color\":\"white\"}},\"header\":{\"fill\":{\"color\":\"#C8D4E3\"},\"line\":{\"color\":\"white\"}},\"type\":\"table\"}],\"barpolar\":[{\"marker\":{\"line\":{\"color\":\"#E5ECF6\",\"width\":0.5},\"pattern\":{\"fillmode\":\"overlay\",\"size\":10,\"solidity\":0.2}},\"type\":\"barpolar\"}],\"pie\":[{\"automargin\":true,\"type\":\"pie\"}]},\"layout\":{\"autotypenumbers\":\"strict\",\"colorway\":[\"#636efa\",\"#EF553B\",\"#00cc96\",\"#ab63fa\",\"#FFA15A\",\"#19d3f3\",\"#FF6692\",\"#B6E880\",\"#FF97FF\",\"#FECB52\"],\"font\":{\"color\":\"#2a3f5f\"},\"hovermode\":\"closest\",\"hoverlabel\":{\"align\":\"left\"},\"paper_bgcolor\":\"white\",\"plot_bgcolor\":\"#E5ECF6\",\"polar\":{\"bgcolor\":\"#E5ECF6\",\"angularaxis\":{\"gridcolor\":\"white\",\"linecolor\":\"white\",\"ticks\":\"\"},\"radialaxis\":{\"gridcolor\":\"white\",\"linecolor\":\"white\",\"ticks\":\"\"}},\"ternary\":{\"bgcolor\":\"#E5ECF6\",\"aaxis\":{\"gridcolor\":\"white\",\"linecolor\":\"white\",\"ticks\":\"\"},\"baxis\":{\"gridcolor\":\"white\",\"linecolor\":\"white\",\"ticks\":\"\"},\"caxis\":{\"gridcolor\":\"white\",\"linecolor\":\"white\",\"ticks\":\"\"}},\"coloraxis\":{\"colorbar\":{\"outlinewidth\":0,\"ticks\":\"\"}},\"colorscale\":{\"sequential\":[[0.0,\"#0d0887\"],[0.1111111111111111,\"#46039f\"],[0.2222222222222222,\"#7201a8\"],[0.3333333333333333,\"#9c179e\"],[0.4444444444444444,\"#bd3786\"],[0.5555555555555556,\"#d8576b\"],[0.6666666666666666,\"#ed7953\"],[0.7777777777777778,\"#fb9f3a\"],[0.8888888888888888,\"#fdca26\"],[1.0,\"#f0f921\"]],\"sequentialminus\":[[0.0,\"#0d0887\"],[0.1111111111111111,\"#46039f\"],[0.2222222222222222,\"#7201a8\"],[0.3333333333333333,\"#9c179e\"],[0.4444444444444444,\"#bd3786\"],[0.5555555555555556,\"#d8576b\"],[0.6666666666666666,\"#ed7953\"],[0.7777777777777778,\"#fb9f3a\"],[0.8888888888888888,\"#fdca26\"],[1.0,\"#f0f921\"]],\"diverging\":[[0,\"#8e0152\"],[0.1,\"#c51b7d\"],[0.2,\"#de77ae\"],[0.3,\"#f1b6da\"],[0.4,\"#fde0ef\"],[0.5,\"#f7f7f7\"],[0.6,\"#e6f5d0\"],[0.7,\"#b8e186\"],[0.8,\"#7fbc41\"],[0.9,\"#4d9221\"],[1,\"#276419\"]]},\"xaxis\":{\"gridcolor\":\"white\",\"linecolor\":\"white\",\"ticks\":\"\",\"title\":{\"standoff\":15},\"zerolinecolor\":\"white\",\"automargin\":true,\"zerolinewidth\":2},\"yaxis\":{\"gridcolor\":\"white\",\"linecolor\":\"white\",\"ticks\":\"\",\"title\":{\"standoff\":15},\"zerolinecolor\":\"white\",\"automargin\":true,\"zerolinewidth\":2},\"scene\":{\"xaxis\":{\"backgroundcolor\":\"#E5ECF6\",\"gridcolor\":\"white\",\"linecolor\":\"white\",\"showbackground\":true,\"ticks\":\"\",\"zerolinecolor\":\"white\",\"gridwidth\":2},\"yaxis\":{\"backgroundcolor\":\"#E5ECF6\",\"gridcolor\":\"white\",\"linecolor\":\"white\",\"showbackground\":true,\"ticks\":\"\",\"zerolinecolor\":\"white\",\"gridwidth\":2},\"zaxis\":{\"backgroundcolor\":\"#E5ECF6\",\"gridcolor\":\"white\",\"linecolor\":\"white\",\"showbackground\":true,\"ticks\":\"\",\"zerolinecolor\":\"white\",\"gridwidth\":2}},\"shapedefaults\":{\"line\":{\"color\":\"#2a3f5f\"}},\"annotationdefaults\":{\"arrowcolor\":\"#2a3f5f\",\"arrowhead\":0,\"arrowwidth\":1},\"geo\":{\"bgcolor\":\"white\",\"landcolor\":\"#E5ECF6\",\"subunitcolor\":\"white\",\"showland\":true,\"showlakes\":true,\"lakecolor\":\"white\"},\"title\":{\"x\":0.05},\"mapbox\":{\"style\":\"light\"}}},\"xaxis\":{\"anchor\":\"y\",\"domain\":[0.0,0.2888888888888889],\"title\":{\"text\":\"x\\u003cbr\\u003e\\u003cbr\\u003e\\u003cbr\\u003ea: 1.92\\u003cbr\\u003eb: -3.66\\u003cbr\\u003ec: 1.01\"},\"range\":[0,1]},\"yaxis\":{\"anchor\":\"x\",\"domain\":[0.0,1.0],\"title\":{\"text\":\"t\"},\"range\":[-5,5]},\"xaxis2\":{\"anchor\":\"y2\",\"domain\":[0.35555555555555557,0.6444444444444445],\"title\":{\"text\":\"x\\u003cbr\\u003e\\u003cbr\\u003e\\u003cbr\\u003ea: -4.6\\u003cbr\\u003eb: 7.51\\u003cbr\\u003ec: 9.99\\u003cbr\\u003ed: -1.63\\u003cbr\\u003ee: -19.64\\u003cbr\\u003ef: 8.99\\u003cbr\\u003eg: -0.21\"},\"range\":[0,1]},\"yaxis2\":{\"anchor\":\"x2\",\"domain\":[0.0,1.0],\"title\":{\"text\":\"t\"},\"range\":[-5,5]},\"xaxis3\":{\"anchor\":\"y3\",\"domain\":[0.7111111111111111,1.0],\"title\":{\"text\":\"x\\u003cbr\\u003e\\u003cbr\\u003e\\u003cbr\\u003ea: 1.87\\u003cbr\\u003eb: 0.51\\u003cbr\\u003ec: -0.75\\u003cbr\\u003ed: -1.77\\u003cbr\\u003ee: -2.37\\u003cbr\\u003ef: -2.35\\u003cbr\\u003eg: -1.52\\u003cbr\\u003eh: 0.21\\u003cbr\\u003ei: 2.71\\u003cbr\\u003ej: 5.34\\u003cbr\\u003ek: 6.64\\u003cbr\\u003el: 4.09\\u003cbr\\u003em: -4.92\\u003cbr\\u003en: -15.85\\u003cbr\\u003eo: 8.39\\u003cbr\\u003ep: -0.19\"},\"range\":[0,1]},\"yaxis3\":{\"anchor\":\"x3\",\"domain\":[0.0,1.0],\"title\":{\"text\":\"t\"},\"range\":[-5,5]},\"annotations\":[{\"font\":{\"size\":16},\"showarrow\":false,\"text\":\"poly2 fit\",\"x\":0.14444444444444446,\"xanchor\":\"center\",\"xref\":\"paper\",\"y\":1.0,\"yanchor\":\"bottom\",\"yref\":\"paper\"},{\"font\":{\"size\":16},\"showarrow\":false,\"text\":\"poly6 fit\",\"x\":0.5,\"xanchor\":\"center\",\"xref\":\"paper\",\"y\":1.0,\"yanchor\":\"bottom\",\"yref\":\"paper\"},{\"font\":{\"size\":16},\"showarrow\":false,\"text\":\"poly15 fit\",\"x\":0.8555555555555556,\"xanchor\":\"center\",\"xref\":\"paper\",\"y\":1.0,\"yanchor\":\"bottom\",\"yref\":\"paper\"}],\"showlegend\":false,\"title\":{\"text\":\"Polynomial fits and their coefficients\"},\"height\":700,\"width\":1300},                        {\"responsive\": true}                    ).then(function(){\n",
              "                            \n",
              "var gd = document.getElementById('5c7fa1dc-70bc-466d-8360-2cc3561017c6');\n",
              "var x = new MutationObserver(function (mutations, observer) {{\n",
              "        var display = window.getComputedStyle(gd).display;\n",
              "        if (!display || display === 'none') {{\n",
              "            console.log([gd, 'removed!']);\n",
              "            Plotly.purge(gd);\n",
              "            observer.disconnect();\n",
              "        }}\n",
              "}});\n",
              "\n",
              "// Listen for the removal of the full notebook cells\n",
              "var notebookContainer = gd.closest('#notebook-container');\n",
              "if (notebookContainer) {{\n",
              "    x.observe(notebookContainer, {childList: true});\n",
              "}}\n",
              "\n",
              "// Listen for the clearing of the current output cell\n",
              "var outputEl = gd.closest('.output');\n",
              "if (outputEl) {{\n",
              "    x.observe(outputEl, {childList: true});\n",
              "}}\n",
              "\n",
              "                        })                };                            </script>        </div>\n",
              "</body>\n",
              "</html>"
            ]
          },
          "metadata": {}
        }
      ]
    },
    {
      "cell_type": "markdown",
      "metadata": {
        "id": "3vQ8ittKYZjQ"
      },
      "source": [
        "Not so easy to tune, isn't it?\n",
        "\n",
        "Look at the magnitude of those parameters though, not spiking up anymore!\n",
        "\n",
        "It's a good moment to take a break, two new Pytorch classes await us in the next sections!"
      ]
    },
    {
      "cell_type": "markdown",
      "metadata": {
        "id": "Tvpx3YbdcKlK"
      },
      "source": [
        "## PyTorch Dataset"
      ]
    },
    {
      "cell_type": "markdown",
      "source": [
        "**Preamble:** In deep learning, we deal with data all the time -- so let's make sure we do it the best possible way! What follows is needed for next week's notebook (where we will write a learning model to automatically classify handwritten digits) and will be _fundamental_ for our deep neural networks all throughout the course.\n",
        "\n",
        "Let's head on!\n",
        "\n",
        "In PyTorch (and other common frameworks) you can decouple the code that *manages* the data from the code that *uses* the data.\n",
        "\n",
        "This produces simpler and more understandable code, and enables the possibility to re-use the same dataset with different models or the same model with different datasets.\n",
        "\n",
        "In the following sections, we will have a glimpse into how to manage the data pipeline.\n",
        "\n",
        "[`torch.utils.data.Dataset`](https://pytorch.org/docs/stable/data.html?highlight=dataset#torch.utils.data.Dataset) is an abstract class representing a dataset. Your custom dataset should inherit `Dataset` and override the following methods:\n",
        "\n",
        "- `__len__`: so that `len(dataset)` returns the size of the dataset\n",
        "- `__getitem__`: so that `dataset[i]` returns the $i$-th sample from the dataset.\n",
        "\n",
        "Let's create a toy dataset:"
      ],
      "metadata": {
        "id": "gUB7xjinRNYi"
      }
    },
    {
      "cell_type": "code",
      "metadata": {
        "id": "HclJRK7QdOZM"
      },
      "source": [
        "from torch.utils.data import Dataset\n",
        "\n",
        "class ToyDataset(Dataset):\n",
        "\n",
        "  def __init__(self, n_points: int = 20, noise: float = .1):\n",
        "    super().__init__()  # In python 3 this is enough\n",
        "\n",
        "    self.n_points = n_points\n",
        "\n",
        "    # these two lines pre-load the entire dataset in memory\n",
        "    self.x = torch.linspace(-1, 1, n_points)\n",
        "    self.y = self.x ** 3 + noise * torch.randn(n_points)\n",
        "\n",
        "  def __len__(self):\n",
        "    return self.n_points\n",
        "\n",
        "  def __getitem__(self, idx):\n",
        "    return {\n",
        "        'x': self.x[idx],\n",
        "        'y': self.y[idx]\n",
        "    }\n",
        "\n",
        "toydataset = ToyDataset(20, noise=.1)\n",
        "toydataset[5]"
      ],
      "execution_count": null,
      "outputs": []
    },
    {
      "cell_type": "markdown",
      "metadata": {
        "id": "BZRoEO92fefK"
      },
      "source": [
        "In this case the dataset is composed of simple pairs:"
      ]
    },
    {
      "cell_type": "code",
      "metadata": {
        "id": "Z-jhx5AUvQ2E"
      },
      "source": [
        "toydataset[2]"
      ],
      "execution_count": null,
      "outputs": []
    },
    {
      "cell_type": "code",
      "metadata": {
        "id": "M6vM4yKRfZEm"
      },
      "source": [
        "import plotly.express as px\n",
        "fig = px.scatter(x=toydataset.x.numpy(), y=toydataset.y.numpy())\n",
        "fig.show()"
      ],
      "execution_count": null,
      "outputs": []
    },
    {
      "cell_type": "markdown",
      "metadata": {
        "id": "NS0j3M_pgk8s"
      },
      "source": [
        "> **NOTE**\n",
        ">\n",
        "> Small Python reminder. Every object that implements the `__getitem__` method follows the [iterator procotol](https://www.python.org/dev/peps/pep-0234/#python-api-specification). It means that you can **iterate** the dataset:\n",
        "\n",
        "\n"
      ]
    },
    {
      "cell_type": "code",
      "metadata": {
        "id": "sMdwLEFDhZCu"
      },
      "source": [
        "from tqdm.notebook import tqdm as tqdm   # just a progress bar\n",
        "\n",
        "for sample in tqdm(toydataset):  # wrap the iterable in tqdm and you're done\n",
        "  pass"
      ],
      "execution_count": null,
      "outputs": []
    },
    {
      "cell_type": "markdown",
      "metadata": {
        "id": "9GXYYwNTfK7D"
      },
      "source": [
        "In the `ToyDataset` the whole dataset is stored **in memory**, i.e. in attributes of the `ToyDataset` class.\n",
        "This is the fastest and simplest way to implement a dataset, but it is **not always feasible**.\n",
        "What if you must train a neural network on 500GB of images?\n",
        "The whole dataset does not fit in memory!\n",
        "\n",
        "> For the same reason, using a single file to store the whole dataset does not scale with the dataset size.\n",
        ">\n",
        "> *Obviously, this depends on the file format used, e.g. it is perfectly fine if we are dealing with `HDF5` files*\n",
        "\n",
        "The `Dataset` abstraction is particularly useful when implementing *lazy loading* policies, that is, when you load each item **only when you need it**.\n",
        "You can even apply some preprocessing on the fly, to each item.\n",
        "\n",
        "One example of how it can be done:\n",
        "\n",
        "```python\n",
        "class LazyDataset(Dataset):\n",
        "\n",
        "  def __init__(self, file_paths: Sequence[Path]):\n",
        "    super().__init__()  \n",
        "    self.file_paths = file_paths\n",
        "\n",
        "  def __len__(self):\n",
        "    return len(self.file_paths)\n",
        "\n",
        "  def __getitem__(self, idx):\n",
        "    sample_path = self.file_paths[idx]\n",
        "\n",
        "    # -> Load sample_path in memory\n",
        "    # -> Perform some lightweight preprocessing\n",
        "    # -> Generate (sample_input, sample_output)\n",
        "\n",
        "    return {\n",
        "        'x': sample_input,\n",
        "        'y': sample_output\n",
        "    }\n",
        "\n",
        "```\n"
      ]
    },
    {
      "cell_type": "markdown",
      "metadata": {
        "id": "P79iR6q0gIzw"
      },
      "source": [
        "**NOTE**\n",
        "\n",
        "The dataset can return any type of object, you are *not* forced to return a dictionary of tensors:\n",
        "\n"
      ]
    },
    {
      "cell_type": "code",
      "metadata": {
        "id": "nDg1ggjdiMA4"
      },
      "source": [
        "from torch.utils.data import Dataset\n",
        "\n",
        "class AnotherDataset(Dataset):\n",
        "  def __init__(self):\n",
        "    super().__init__()\n",
        "    self.myitems = torch.arange(100)\n",
        "\n",
        "  def __len__(self):\n",
        "    return len(self.myitems)\n",
        "\n",
        "  def __getitem__(self, idx):\n",
        "    return f'Sample{idx}', self.myitems[idx], None, 3.5\n",
        "\n",
        "dataset = AnotherDataset()\n",
        "dataset[5]"
      ],
      "execution_count": null,
      "outputs": []
    },
    {
      "cell_type": "markdown",
      "metadata": {
        "id": "zOwlr_u2iLh6"
      },
      "source": [
        "\n",
        "However, it is often useful to return a dictionary of tensors.\n",
        "\n",
        "⚠️ Do *not* return tensors that are stored on the GPU memory, as it [causes problems](https://pytorch.org/docs/stable/data.html#multi-process-data-loading) with the multiprocessing behavior of the DataLoader. We'll see memory pinning as a preferred way, further below.\n",
        "\n",
        "Returning a dictionary of tensors will:\n",
        "\n",
        "- Make your code more readable\n",
        "- Ease the batch creation process: you may use the `DataLoader` default `collate_fn` (we'll see this in a second)"
      ]
    },
    {
      "cell_type": "markdown",
      "metadata": {
        "id": "ndnx7HJxkvXH"
      },
      "source": [
        "## PyTorch DataLoader"
      ]
    },
    {
      "cell_type": "markdown",
      "source": [
        "\n",
        "[`torch.utils.data.DataLoader`](https://pytorch.org/docs/stable/data.html?highlight=dataloader#torch.utils.data.DataLoader) is an iterator that provides:\n",
        "\n",
        "- Data batching\n",
        "- Data shuffling\n",
        "- Parallel data loading using `multiprocessing` workers. Meaning that while the `GPU` is performing some computation on a batch, in parallel you can load the next batch.\n",
        "\n",
        "\n",
        "Creating a dataloader from a dataset is straightforward. Here's an example that highlights some of the most used parameters:"
      ],
      "metadata": {
        "id": "G_peCB8pRTn7"
      }
    },
    {
      "cell_type": "code",
      "metadata": {
        "id": "bNxfH3vayfVx"
      },
      "source": [
        "from torch.utils.data import DataLoader\n",
        "\n",
        "toydataset = ToyDataset(200)\n",
        "toyloader = DataLoader(toydataset,\n",
        "                       batch_size=8,    # number of elements in each batch\n",
        "                       shuffle=True,    # shuffle the dataset\n",
        "                       num_workers=4,   # number of workers, i.e. batches to prefetch\n",
        "                       pin_memory=True  # return memory-pinned tensors, see below for an explanation!\n",
        "                       )\n",
        "\n",
        "# 200 iterations\n",
        "for sample in tqdm(toydataset):\n",
        "  pass\n",
        "print(sample)\n",
        "\n",
        "# 25 iterations\n",
        "for batch in tqdm(toyloader):  # there is some overhead when using multiple workers!\n",
        "  pass\n",
        "batch"
      ],
      "execution_count": null,
      "outputs": []
    },
    {
      "cell_type": "markdown",
      "metadata": {
        "id": "Bm9Uhxbt52fy"
      },
      "source": [
        "If you are not returning a dictionary or some other form of regular structure from the dataset, you must manually specify *how* to put the samples together to form a batch. This can be done with the `collate_fn` parameter of the `DataLoader`.\n",
        "\n",
        "Please read these [docs](https://pytorch.org/docs/stable/data.html#loading-batched-and-non-batched-data) to understand the default behavior of `collate_fn` and how you can define custom `collate_fn` functions."
      ]
    },
    {
      "cell_type": "markdown",
      "metadata": {
        "id": "pALUlr9Czk_B"
      },
      "source": [
        "> **NOTE**\n",
        ">\n",
        "> The `DataLoader` is just an iterator, it can't be directly indexed!"
      ]
    },
    {
      "cell_type": "code",
      "metadata": {
        "id": "ijjb5ujOzpvQ"
      },
      "source": [
        "try:\n",
        "  toyloader[0]\n",
        "except Exception as e:\n",
        "  print('Error:', e)"
      ],
      "execution_count": null,
      "outputs": []
    },
    {
      "cell_type": "markdown",
      "metadata": {
        "id": "SYYP8rCj2-Ae"
      },
      "source": [
        "### 📖 Memory pinning"
      ]
    },
    {
      "cell_type": "markdown",
      "metadata": {
        "id": "GRqZeY_A1Ink"
      },
      "source": [
        "Pytorch tensors support [memory pinning](https://devblogs.nvidia.com/how-optimize-data-transfers-cuda-cc/):"
      ]
    },
    {
      "cell_type": "markdown",
      "metadata": {
        "id": "T1BIKzR36fww"
      },
      "source": [
        "![](https://devblogs.nvidia.com/wp-content/uploads/2012/12/pinned-1024x541.jpg)"
      ]
    },
    {
      "cell_type": "markdown",
      "metadata": {
        "id": "84rs4T_66ffq"
      },
      "source": [
        "\n",
        "Pinned tensors enable:\n",
        "- **Much faster copies** from CPU to GPU.\n",
        "- **Aynchronous GPU copies**: *while* the tensor is being transferred, the code continues if it doesn't need that tensor! To enable this, just pass an additional **`non_blocking=True`** argument to a `to()` or a `cuda()` call.  (**gpu operations are [asynchronous](https://pytorch.org/docs/stable/notes/cuda.html#asynchronous-execution) by default**)\n",
        "\n",
        "Given a tensor you can manually pin it:"
      ]
    },
    {
      "cell_type": "code",
      "metadata": {
        "id": "tF0GVdOq3tnG"
      },
      "source": [
        "t = torch.rand(100)\n",
        "t.is_pinned()"
      ],
      "execution_count": null,
      "outputs": []
    },
    {
      "cell_type": "code",
      "metadata": {
        "id": "6p_mlBoh3p-a"
      },
      "source": [
        "# be sure to use a GPU runtime, otherwise there's nothing to pin for!\n",
        "\n",
        "t = t.pin_memory()  # reassigning to t, because pin_memory() is not in-place"
      ],
      "execution_count": null,
      "outputs": []
    },
    {
      "cell_type": "code",
      "metadata": {
        "id": "kgFj15grDJPl"
      },
      "source": [
        "t.is_pinned()"
      ],
      "execution_count": null,
      "outputs": []
    },
    {
      "cell_type": "markdown",
      "metadata": {
        "id": "nY2UFPT14EkF"
      },
      "source": [
        "Passing `pin_memory=True` to a `DataLoader` will automatically put the fetched data tensors in pinned memory, enabling faster data transfer to CUDA-enabled GPUs.\n",
        "\n",
        "`DataLoader` only knows how to pin the standard types returned by `Dataset`; this includes Tensor, Map and Sequence of Tensors. If you want to pin some custom type, read more [here](https://pytorch.org/docs/stable/data.html#memory-pinning) (tldr: define a `pin_memory()` method on your custom type(s))."
      ]
    },
    {
      "cell_type": "code",
      "metadata": {
        "id": "5gNnoz6U5sMz"
      },
      "source": [
        "batch['x'].is_pinned()"
      ],
      "execution_count": null,
      "outputs": []
    },
    {
      "cell_type": "markdown",
      "metadata": {
        "id": "Q4l1TIvepi6H"
      },
      "source": [
        "### Troubleshooting bottlenecks\n",
        "Make sure the data loading is **not a bottleneck** in your pipeline.\n",
        "Your GPU must not **wait for data**.\n",
        "\n"
      ]
    },
    {
      "cell_type": "markdown",
      "metadata": {
        "id": "zFEIytCKlMsQ"
      },
      "source": [
        "#### How to check if your data loading is a bottleneck?\n",
        "\n",
        "##### **Check resource usage**\n",
        "\n",
        "Check the GPU (or CPU) usage, if it is ~$100\\%$ it is being fully utilised. This is good!\n",
        "\n",
        "Otherwise you may have a bottleneck somewhere, or your data operations may not be GPU friendly (e.g. small batches).\n",
        "\n",
        "\n",
        "##### **Check data loading speed**\n",
        "\n",
        "Iterate over the `Dataset` or `DataLoader` and check the data loading speed by counting the number of items that are loaded per second. Then compare this to how many items per second are processed by the rest of the pipeline.\n",
        "\n",
        "If you can load more items than you can process in the training loop, it means you _don't_ have a bottleneck in your data loading. The GPU is not waiting for you, good job!\n",
        "\n",
        "You can use the [tqdm](https://github.com/tqdm/tqdm) package to easily check the iteration speed of any iterable with a minimal overhead."
      ]
    },
    {
      "cell_type": "code",
      "metadata": {
        "id": "-PLGSqUenoTz"
      },
      "source": [
        "# Checking the loading speed\n",
        "from tqdm.notebook import tqdm as tqdm  # just a progress bar\n",
        "\n",
        "toydataset = ToyDataset(20000)\n",
        "toyloader = DataLoader(toydataset,\n",
        "                       batch_size=8,    # number of elements in each batch\n",
        "                       shuffle=True,    # shuffle the dataset\n",
        "                       num_workers=4,   # number of workers, i.e. batches to prefetch\n",
        "                       pin_memory=True  # return memory pinnded tensors\n",
        "                       )\n",
        "for batch in tqdm(toyloader):\n",
        "  pass\n",
        "\n",
        "# Example:\n",
        "# tqdm reports 350.00it/s (iterations per second) for the loader.\n",
        "# tqdm reports 280.12it/s for the training step given the data.\n",
        "# -> data loading is NOT a bottleneck!\n",
        "#\n",
        "# This scenario means your computation time is the primary factor in how long\n",
        "# each iteration takes, and the data loading process is efficient enough to keep\n",
        "# up with the computational demands."
      ],
      "execution_count": null,
      "outputs": []
    },
    {
      "cell_type": "markdown",
      "metadata": {
        "id": "DUhUSCRNoTQb"
      },
      "source": [
        "#### How to fix a bottleneck in the data loading?\n",
        "\n",
        "##### 1) **Use in-memory datasets**\n",
        "If your dataset fits on memory, load the whole dataset in memory.\n",
        "\n",
        "##### 2) **Tune DataLoader parameters**\n",
        "Tune the `num_workers` and `batch_size` parameter of the `DataLoader`, paying attention that the batch size will have a direct impact on the training. A good default for `num_workers` is the number of cores in your CPU.\n",
        "\n",
        "##### 3) **Do not preprocess on the fly**\n",
        "If you need preprocessing for your files, save the preprocessed files to disk.\n",
        "\n",
        "##### 4) **Speed up raw file loading**\n",
        "If even just loading the files from disk is slow, consider changing the way in which the files are stored (e.g. another [format](https://www.h5py.org/) or a [database](https://github.com/google/leveldb))."
      ]
    },
    {
      "cell_type": "markdown",
      "metadata": {
        "id": "34YGEYsZyBvS"
      },
      "source": [
        "> **NOTE**\n",
        ">\n",
        "> You can read much more on the `torch.utils.data` package [here](https://pytorch.org/docs/stable/data.html).\n",
        ">\n",
        "> Moreover, keep in mind that the [`torchvision`](https://pytorch.org/vision/stable/index.html) package provides some common datasets and transforms. We'll use it next week!"
      ]
    },
    {
      "cell_type": "markdown",
      "metadata": {
        "id": "JiCv7axFUEel"
      },
      "source": [
        "### Dataset and DataLoader exercises\n",
        "\n",
        "> **EXERCISE**\n",
        ">\n",
        "> You want to create a neural network that is able to learn how to recover corrupted images from the [CIFAR10](https://www.cs.toronto.edu/~kriz/cifar.html) dataset. That is, given as input a corrupted image, the model outputs a corresponding uncorrupted version.\n",
        ">\n",
        "> You are free to choose the type of corruption to apply. Possible examples are: random noise, random black patches, random crop, random reflections, all the previous together.\n",
        ">\n",
        "> 1) Think about the data pipeline this model would require. What should the dataset return?\n",
        ">\n",
        "> 2) Create the `Dataset` and `DataLoader` to implement it.\n",
        ">\n",
        "> 3) Plot the images in a **batch** to ensure you are doing everything right.\n",
        ">\n",
        ">  *hint*: you may use [`torchvision.datasets`](https://pytorch.org/vision/stable/datasets.html) and [`torchvision.transforms`](https://pytorch.org/vision/stable/transforms.html)"
      ]
    },
    {
      "cell_type": "code",
      "source": [
        "# ✏️ your code here"
      ],
      "metadata": {
        "id": "CuCHY0Zb-9pH"
      },
      "execution_count": null,
      "outputs": []
    },
    {
      "cell_type": "markdown",
      "metadata": {
        "id": "U07puKsVdCXZ"
      },
      "source": [
        "> **EXERCISE** *(discuss only)*\n",
        ">\n",
        "> Consider [The Abstraction and Reasoning Corpus (ARC)](https://github.com/fchollet/ARC).\n",
        ">\n",
        "> If you want, you can clone the ARC repository on your computer and play against some proposed tasks (without writing any program -- play yourself as a human!). It is enough to open `apps/testing_interface.html` in your browser.\n",
        ">\n",
        "> > *ARC can be seen as a general artificial intelligence benchmark, as a program synthesis benchmark, or as a psychometric intelligence test. It is targeted at both humans and artificially intelligent systems that aim at emulating a human-like form of general fluid intelligence.*\n",
        "> >\n",
        "> > **Dataset goal**\n",
        "> >\n",
        "> > A test-taker is said to solve a task when, upon seeing the task for the first time, they are able to produce the correct output grid for *all* test inputs in the task (this includes picking the dimensions of the output grid). For each test input, the test-taker is allowed 3 trials (this holds for all test-takers, either humans or AI).\n",
        "> >\n",
        "> > **Task file format**\n",
        "> >\n",
        "> > The `data` directory contains two subdirectories:\n",
        "> >\n",
        "> > - `data/training`: contains the task files for training (400 tasks). Use these to prototype your algorithm or to train your algorithm to acquire ARC-relevant cognitive priors.\n",
        "> > - `data/evaluation`: contains the task files for evaluation (400 tasks). Use these to evaluate your final algorithm. To ensure fair evaluation results, do not leak information from the evaluation set into your algorithm, e.g. by looking at the evaluation tasks yourself during development, or by repeatedly modifying an algorithm while using its evaluation score as feedback (remember that [this is conceptually wrong](#data-leakage)!).\n",
        "> >\n",
        "> > The tasks are stored in JSON format. Each task JSON file contains a dictionary with two fields:\n",
        "> >\n",
        "> > - `\"train\"`: demonstration input/output pairs. It is a list of \"pairs\" (typically 3 pairs).\n",
        "> > - `\"test\"`: test input/output pairs. It is a list of \"pairs\" (typically 1 pair).\n",
        "> >\n",
        "> > A \"pair\" is a dictionary with two fields:\n",
        "> >\n",
        "> > - `\"input\"`: the input \"grid\" for the pair.\n",
        "> > - `\"output\"`: the output \"grid\" for the pair.\n",
        "> >\n",
        "> > A \"grid\" is a rectangular matrix (list of lists) of integers between 0 and 9 (inclusive). The smallest possible grid size is 1x1 and the largest is 30x30.\n",
        ">\n",
        ">\n",
        "> - What would your`Dataset` return for this task?\n",
        "> - What would each batch contain?\n",
        ">\n",
        "> Discuss and compare your choices with your colleagues. Did you all make the same choices? Why or why not?\n"
      ]
    },
    {
      "cell_type": "markdown",
      "source": [
        "✏️ Write down your conclusions here"
      ],
      "metadata": {
        "id": "x9IwEqyp_E8t"
      }
    }
  ]
}