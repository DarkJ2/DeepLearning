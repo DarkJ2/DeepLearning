{
  "nbformat": 4,
  "nbformat_minor": 0,
  "metadata": {
    "colab": {
      "provenance": [],
      "collapsed_sections": [
        "8htU_ACVGQY5",
        "5z1iX6ltDTx8",
        "Tvpx3YbdcKlK",
        "ndnx7HJxkvXH",
        "SYYP8rCj2-Ae",
        "Q4l1TIvepi6H",
        "zFEIytCKlMsQ",
        "DUhUSCRNoTQb"
      ],
      "toc_visible": true
    },
    "kernelspec": {
      "name": "python3",
      "display_name": "Python 3"
    },
    "widgets": {
      "application/vnd.jupyter.widget-state+json": {
        "22bffe94ed20436aace5ebdfe61a6e1e": {
          "model_module": "@jupyter-widgets/controls",
          "model_name": "HBoxModel",
          "model_module_version": "1.5.0",
          "state": {
            "_dom_classes": [],
            "_model_module": "@jupyter-widgets/controls",
            "_model_module_version": "1.5.0",
            "_model_name": "HBoxModel",
            "_view_count": null,
            "_view_module": "@jupyter-widgets/controls",
            "_view_module_version": "1.5.0",
            "_view_name": "HBoxView",
            "box_style": "",
            "children": [
              "IPY_MODEL_973c24d377c143a3a3d8fa38939043d6",
              "IPY_MODEL_3013a74f209b4f6fb395f30927324db6",
              "IPY_MODEL_813ee8f564234fe78bca6f8e985840b0"
            ],
            "layout": "IPY_MODEL_be561027f53c4c23ac06ab3322c21903"
          }
        },
        "973c24d377c143a3a3d8fa38939043d6": {
          "model_module": "@jupyter-widgets/controls",
          "model_name": "HTMLModel",
          "model_module_version": "1.5.0",
          "state": {
            "_dom_classes": [],
            "_model_module": "@jupyter-widgets/controls",
            "_model_module_version": "1.5.0",
            "_model_name": "HTMLModel",
            "_view_count": null,
            "_view_module": "@jupyter-widgets/controls",
            "_view_module_version": "1.5.0",
            "_view_name": "HTMLView",
            "description": "",
            "description_tooltip": null,
            "layout": "IPY_MODEL_05aa813c49374fea983bce63f6252329",
            "placeholder": "​",
            "style": "IPY_MODEL_1575d2d57231498993bf8095eda10440",
            "value": "100%"
          }
        },
        "3013a74f209b4f6fb395f30927324db6": {
          "model_module": "@jupyter-widgets/controls",
          "model_name": "FloatProgressModel",
          "model_module_version": "1.5.0",
          "state": {
            "_dom_classes": [],
            "_model_module": "@jupyter-widgets/controls",
            "_model_module_version": "1.5.0",
            "_model_name": "FloatProgressModel",
            "_view_count": null,
            "_view_module": "@jupyter-widgets/controls",
            "_view_module_version": "1.5.0",
            "_view_name": "ProgressView",
            "bar_style": "success",
            "description": "",
            "description_tooltip": null,
            "layout": "IPY_MODEL_045706e51b3a460384e8274f1c49347c",
            "max": 20,
            "min": 0,
            "orientation": "horizontal",
            "style": "IPY_MODEL_5882d64c0c2c4b8ab1cd46ae09ac3385",
            "value": 20
          }
        },
        "813ee8f564234fe78bca6f8e985840b0": {
          "model_module": "@jupyter-widgets/controls",
          "model_name": "HTMLModel",
          "model_module_version": "1.5.0",
          "state": {
            "_dom_classes": [],
            "_model_module": "@jupyter-widgets/controls",
            "_model_module_version": "1.5.0",
            "_model_name": "HTMLModel",
            "_view_count": null,
            "_view_module": "@jupyter-widgets/controls",
            "_view_module_version": "1.5.0",
            "_view_name": "HTMLView",
            "description": "",
            "description_tooltip": null,
            "layout": "IPY_MODEL_ea86464f08134809a889b1831e244c87",
            "placeholder": "​",
            "style": "IPY_MODEL_fee978d0af32407c86229c013491c2ac",
            "value": " 20/20 [00:00&lt;00:00, 688.24it/s]"
          }
        },
        "be561027f53c4c23ac06ab3322c21903": {
          "model_module": "@jupyter-widgets/base",
          "model_name": "LayoutModel",
          "model_module_version": "1.2.0",
          "state": {
            "_model_module": "@jupyter-widgets/base",
            "_model_module_version": "1.2.0",
            "_model_name": "LayoutModel",
            "_view_count": null,
            "_view_module": "@jupyter-widgets/base",
            "_view_module_version": "1.2.0",
            "_view_name": "LayoutView",
            "align_content": null,
            "align_items": null,
            "align_self": null,
            "border": null,
            "bottom": null,
            "display": null,
            "flex": null,
            "flex_flow": null,
            "grid_area": null,
            "grid_auto_columns": null,
            "grid_auto_flow": null,
            "grid_auto_rows": null,
            "grid_column": null,
            "grid_gap": null,
            "grid_row": null,
            "grid_template_areas": null,
            "grid_template_columns": null,
            "grid_template_rows": null,
            "height": null,
            "justify_content": null,
            "justify_items": null,
            "left": null,
            "margin": null,
            "max_height": null,
            "max_width": null,
            "min_height": null,
            "min_width": null,
            "object_fit": null,
            "object_position": null,
            "order": null,
            "overflow": null,
            "overflow_x": null,
            "overflow_y": null,
            "padding": null,
            "right": null,
            "top": null,
            "visibility": null,
            "width": null
          }
        },
        "05aa813c49374fea983bce63f6252329": {
          "model_module": "@jupyter-widgets/base",
          "model_name": "LayoutModel",
          "model_module_version": "1.2.0",
          "state": {
            "_model_module": "@jupyter-widgets/base",
            "_model_module_version": "1.2.0",
            "_model_name": "LayoutModel",
            "_view_count": null,
            "_view_module": "@jupyter-widgets/base",
            "_view_module_version": "1.2.0",
            "_view_name": "LayoutView",
            "align_content": null,
            "align_items": null,
            "align_self": null,
            "border": null,
            "bottom": null,
            "display": null,
            "flex": null,
            "flex_flow": null,
            "grid_area": null,
            "grid_auto_columns": null,
            "grid_auto_flow": null,
            "grid_auto_rows": null,
            "grid_column": null,
            "grid_gap": null,
            "grid_row": null,
            "grid_template_areas": null,
            "grid_template_columns": null,
            "grid_template_rows": null,
            "height": null,
            "justify_content": null,
            "justify_items": null,
            "left": null,
            "margin": null,
            "max_height": null,
            "max_width": null,
            "min_height": null,
            "min_width": null,
            "object_fit": null,
            "object_position": null,
            "order": null,
            "overflow": null,
            "overflow_x": null,
            "overflow_y": null,
            "padding": null,
            "right": null,
            "top": null,
            "visibility": null,
            "width": null
          }
        },
        "1575d2d57231498993bf8095eda10440": {
          "model_module": "@jupyter-widgets/controls",
          "model_name": "DescriptionStyleModel",
          "model_module_version": "1.5.0",
          "state": {
            "_model_module": "@jupyter-widgets/controls",
            "_model_module_version": "1.5.0",
            "_model_name": "DescriptionStyleModel",
            "_view_count": null,
            "_view_module": "@jupyter-widgets/base",
            "_view_module_version": "1.2.0",
            "_view_name": "StyleView",
            "description_width": ""
          }
        },
        "045706e51b3a460384e8274f1c49347c": {
          "model_module": "@jupyter-widgets/base",
          "model_name": "LayoutModel",
          "model_module_version": "1.2.0",
          "state": {
            "_model_module": "@jupyter-widgets/base",
            "_model_module_version": "1.2.0",
            "_model_name": "LayoutModel",
            "_view_count": null,
            "_view_module": "@jupyter-widgets/base",
            "_view_module_version": "1.2.0",
            "_view_name": "LayoutView",
            "align_content": null,
            "align_items": null,
            "align_self": null,
            "border": null,
            "bottom": null,
            "display": null,
            "flex": null,
            "flex_flow": null,
            "grid_area": null,
            "grid_auto_columns": null,
            "grid_auto_flow": null,
            "grid_auto_rows": null,
            "grid_column": null,
            "grid_gap": null,
            "grid_row": null,
            "grid_template_areas": null,
            "grid_template_columns": null,
            "grid_template_rows": null,
            "height": null,
            "justify_content": null,
            "justify_items": null,
            "left": null,
            "margin": null,
            "max_height": null,
            "max_width": null,
            "min_height": null,
            "min_width": null,
            "object_fit": null,
            "object_position": null,
            "order": null,
            "overflow": null,
            "overflow_x": null,
            "overflow_y": null,
            "padding": null,
            "right": null,
            "top": null,
            "visibility": null,
            "width": null
          }
        },
        "5882d64c0c2c4b8ab1cd46ae09ac3385": {
          "model_module": "@jupyter-widgets/controls",
          "model_name": "ProgressStyleModel",
          "model_module_version": "1.5.0",
          "state": {
            "_model_module": "@jupyter-widgets/controls",
            "_model_module_version": "1.5.0",
            "_model_name": "ProgressStyleModel",
            "_view_count": null,
            "_view_module": "@jupyter-widgets/base",
            "_view_module_version": "1.2.0",
            "_view_name": "StyleView",
            "bar_color": null,
            "description_width": ""
          }
        },
        "ea86464f08134809a889b1831e244c87": {
          "model_module": "@jupyter-widgets/base",
          "model_name": "LayoutModel",
          "model_module_version": "1.2.0",
          "state": {
            "_model_module": "@jupyter-widgets/base",
            "_model_module_version": "1.2.0",
            "_model_name": "LayoutModel",
            "_view_count": null,
            "_view_module": "@jupyter-widgets/base",
            "_view_module_version": "1.2.0",
            "_view_name": "LayoutView",
            "align_content": null,
            "align_items": null,
            "align_self": null,
            "border": null,
            "bottom": null,
            "display": null,
            "flex": null,
            "flex_flow": null,
            "grid_area": null,
            "grid_auto_columns": null,
            "grid_auto_flow": null,
            "grid_auto_rows": null,
            "grid_column": null,
            "grid_gap": null,
            "grid_row": null,
            "grid_template_areas": null,
            "grid_template_columns": null,
            "grid_template_rows": null,
            "height": null,
            "justify_content": null,
            "justify_items": null,
            "left": null,
            "margin": null,
            "max_height": null,
            "max_width": null,
            "min_height": null,
            "min_width": null,
            "object_fit": null,
            "object_position": null,
            "order": null,
            "overflow": null,
            "overflow_x": null,
            "overflow_y": null,
            "padding": null,
            "right": null,
            "top": null,
            "visibility": null,
            "width": null
          }
        },
        "fee978d0af32407c86229c013491c2ac": {
          "model_module": "@jupyter-widgets/controls",
          "model_name": "DescriptionStyleModel",
          "model_module_version": "1.5.0",
          "state": {
            "_model_module": "@jupyter-widgets/controls",
            "_model_module_version": "1.5.0",
            "_model_name": "DescriptionStyleModel",
            "_view_count": null,
            "_view_module": "@jupyter-widgets/base",
            "_view_module_version": "1.2.0",
            "_view_name": "StyleView",
            "description_width": ""
          }
        }
      }
    }
  },
  "cells": [
    {
      "cell_type": "markdown",
      "metadata": {
        "id": "4C5Ct9yoZKYa"
      },
      "source": [
        "# Deep Learning & Applied AI\n",
        "\n",
        "# Tutorial 3: Linear models and Pytorch Datasets\n",
        "\n",
        "In this tutorial, we will cover:\n",
        "\n",
        "- Linear models\n",
        "- Pytorch Dataset and DataLoader\n",
        "\n",
        "Based on original material by Dr. Luca Moschella (moschella@di.uniroma1.it) and Dr. Antonio Norelli (norelli@di.uniroma1.it)\n",
        "\n",
        "Course:\n",
        "\n",
        "- Website and notebooks will be available at https://erodola.github.io/DLAI-s2-2025/\n",
        "\n",
        "#### Instructions\n",
        "We encourage you to form small groups of 2-3 people to read and discuss the notebooks together.\n",
        "\n",
        "Run the code and play with it! It is very easy to edit the code locally and make small experiments. Try whatever comes to your mind, this is the best way to learn! Python notebooks are designed to be used in this way, that's why we chose them for the DLAI lab sessions.\n",
        "\n",
        "There will be some exercises, try to do them by yourself, and when everyone in your group has finished, compare the solutions with each other.\n",
        "\n",
        "When something is not clear or you have a question, raise your hand and we will come to you, or directly approach us.\n",
        "\n",
        "Some sections in the notebooks are marked with 📖. This is additional content for further reading outside of class. You may want to go through it at home or during class if you finish early. (Some sections are \"more optional\" than others, those marked with more books 📖📖)\n",
        "\n",
        "Let's start!"
      ]
    },
    {
      "cell_type": "markdown",
      "metadata": {
        "id": "dHLO4Z-T_yxB"
      },
      "source": [
        "### Import dependencies"
      ]
    },
    {
      "cell_type": "markdown",
      "source": [
        "In this notebook you will discover **Plotly**, a powerful plotting library (there are many [visualization libraries](https://pyviz.org/overviews/index.html) for Python).\n",
        "Effectively communicating your findings through plots and visualizations is an essential part of any scientific or engineering project.\n",
        "Plotly is a modern library that makes interactive plots very easy to produce, and is very popular also outside of the DL community.\n",
        "\n",
        "[Here](https://plot.ly/python/) you can find its documentation."
      ],
      "metadata": {
        "id": "GHKiAWxOGLb1"
      }
    },
    {
      "cell_type": "code",
      "metadata": {
        "id": "pRePt-K1_yw9"
      },
      "source": [
        "import torch\n",
        "import numpy as np\n",
        "import plotly.express as px\n",
        "from plotly.subplots import make_subplots\n",
        "import plotly.graph_objects as go"
      ],
      "execution_count": null,
      "outputs": []
    },
    {
      "cell_type": "markdown",
      "source": [
        "### A note on reproducibility\n",
        "\n",
        "As mentioned in the previous notebooks, we are going to ensure that all the RNGs used in different parts of this notebook produce the same sequence of numbers each time."
      ],
      "metadata": {
        "id": "pcNRBDwVUlkl"
      }
    },
    {
      "cell_type": "code",
      "metadata": {
        "id": "2tGN_bJOcfd3"
      },
      "source": [
        "# Reproducibility stuff\n",
        "\n",
        "import random\n",
        "torch.manual_seed(42)      # PyTorch CPU\n",
        "np.random.seed(42)         # NumPy\n",
        "random.seed(0)             # Python built-in\n",
        "torch.cuda.manual_seed(0)  # PyTorch GPU"
      ],
      "execution_count": null,
      "outputs": []
    },
    {
      "cell_type": "markdown",
      "source": [
        "For some operations, cuDNN (NVIDIA's library for deep neural networks) uses algorithms that can produce different results on different runs, *even* with the same inputs and the same seed. Below we set `deterministic = True`, forcing cuDNN to use deterministic algorithms where possible. This might limit cuDNN to a subset of algorithms that might not be  the most efficient, but will produce the same results across different runs."
      ],
      "metadata": {
        "id": "WB-2WlPSU8Fl"
      }
    },
    {
      "cell_type": "code",
      "source": [
        "torch.backends.cudnn.deterministic = True"
      ],
      "metadata": {
        "id": "rNcVjPZPVJuf"
      },
      "execution_count": null,
      "outputs": []
    },
    {
      "cell_type": "markdown",
      "source": [
        "Finally, when `benchmark = True`, cuDNN will automatically find the most efficient algorithms for your specific operations based on your network architecture and input sizes. This can greatly improve performance. However, since the selection of algorithms might change from one run to another, this can lead to non-deterministic behavior. Setting it to `benchmark = False` prevents cuDNN from dynamically selecting algorithms, thus improving reproducibility at the cost of potential performance gains."
      ],
      "metadata": {
        "id": "YDdgn57QVLI5"
      }
    },
    {
      "cell_type": "code",
      "source": [
        "torch.backends.cudnn.benchmark = False"
      ],
      "metadata": {
        "id": "Vl8AGAIfVS9J"
      },
      "execution_count": null,
      "outputs": []
    },
    {
      "cell_type": "markdown",
      "source": [
        "Enough about reproducibility, let's move on to the meat!"
      ],
      "metadata": {
        "id": "4AOnQMcxVTa7"
      }
    },
    {
      "cell_type": "markdown",
      "metadata": {
        "id": "GPHftSvUaIhe"
      },
      "source": [
        "##Linear models\n"
      ]
    },
    {
      "cell_type": "markdown",
      "source": [
        "Today we'll work with **linear models**. Don't underestimate their power! Linear models are simple, but they are at the heart of several effective pipelines. They will provide solid baselines for our experiments at the very least, and are a useful tool to study more advanced topics in modern deep learning."
      ],
      "metadata": {
        "id": "sCRBI35LWCvt"
      }
    },
    {
      "cell_type": "markdown",
      "metadata": {
        "id": "0PAIT1NjFUhk"
      },
      "source": [
        "###The regression problem\n"
      ]
    },
    {
      "cell_type": "markdown",
      "source": [
        "####The general definition\n",
        "We observe a phenomenon $\\mathcal{P}$ where a variable of interest $t$ depends on another variable $x$.\n",
        "\n",
        "**Problem**: Given a set of $N$ paired observations $(x, t)$, $\\mathbf{D}=\\{(x_1, t_1),...,(x_N, t_N)\\}$, and a new *input* instance $x_i$, find the corresponding *target* $t_i$."
      ],
      "metadata": {
        "id": "8htU_ACVGQY5"
      }
    },
    {
      "cell_type": "markdown",
      "metadata": {
        "id": "i8kq5mSFOHul"
      },
      "source": [
        "####Our workspace\n",
        "\n",
        "In our workspace, the underlying law governing our phenomenon $\\mathcal{P}$ links $t$ to a $x \\in [0,1]$ through a $\\sin$ function.\n",
        "For our purposes, we are going to synthetically generate a set of observations --our *dataset*-- following this rule:\n",
        "\n",
        "$$t=\\sin(2\\pi x) + 0.1\\epsilon \\;\\;\\;\\;\\;\\;\\;\\;\\; \\epsilon \\sim \\mathcal{N}(0,1)$$\n",
        "\n",
        "where $\\sim \\mathcal{N}(0,1)$ means \"*sampled from a gaussian distribution with $\\mu=0$ and $\\sigma=1$*\".\n",
        "\n",
        "In this way, we are simulating the measurement process of any phenomenon: there is a global and general regularity (that we wish to discover) but all observations are plagued by uncertainty, here modeled with gaussian noise. Uncertainty usually comes from the finite precision of our measuring instrument, but may also be due to sources of variability we do not care about. Sometimes the problem we are tackling is intrinsically stochastic --such as measurements in quantum mechanics or idealized scenarios like the multi-armed bandit-- and we want to figure out just the non-stochastic part of the underlying rule.\n",
        "\n",
        "This is our dataset:"
      ]
    },
    {
      "cell_type": "code",
      "metadata": {
        "id": "qJyjckvQE-aZ"
      },
      "source": [
        "x = np.random.rand(10)\n",
        "t = np.sin(2 * np.pi * x) + 0.1 * np.random.randn(10)"
      ],
      "execution_count": null,
      "outputs": []
    },
    {
      "cell_type": "code",
      "metadata": {
        "id": "IMJNXRXZGJS0",
        "colab": {
          "base_uri": "https://localhost:8080/",
          "height": 542
        },
        "outputId": "59c68ffb-a413-4297-f480-903f8286d58c"
      },
      "source": [
        "fig = px.scatter(x=x, y=t)\n",
        "fig.show()"
      ],
      "execution_count": null,
      "outputs": [
        {
          "output_type": "display_data",
          "data": {
            "text/html": [
              "<html>\n",
              "<head><meta charset=\"utf-8\" /></head>\n",
              "<body>\n",
              "    <div>            <script src=\"https://cdnjs.cloudflare.com/ajax/libs/mathjax/2.7.5/MathJax.js?config=TeX-AMS-MML_SVG\"></script><script type=\"text/javascript\">if (window.MathJax && window.MathJax.Hub && window.MathJax.Hub.Config) {window.MathJax.Hub.Config({SVG: {font: \"STIX-Web\"}});}</script>                <script type=\"text/javascript\">window.PlotlyConfig = {MathJaxConfig: 'local'};</script>\n",
              "        <script charset=\"utf-8\" src=\"https://cdn.plot.ly/plotly-2.35.2.min.js\"></script>                <div id=\"b273b37f-4d08-4456-920a-b61186b84abf\" class=\"plotly-graph-div\" style=\"height:525px; width:100%;\"></div>            <script type=\"text/javascript\">                                    window.PLOTLYENV=window.PLOTLYENV || {};                                    if (document.getElementById(\"b273b37f-4d08-4456-920a-b61186b84abf\")) {                    Plotly.newPlot(                        \"b273b37f-4d08-4456-920a-b61186b84abf\",                        [{\"hovertemplate\":\"x=%{x}\\u003cbr\\u003ey=%{y}\\u003cextra\\u003e\\u003c\\u002fextra\\u003e\",\"legendgroup\":\"\",\"marker\":{\"color\":\"#636efa\",\"symbol\":\"circle\"},\"mode\":\"markers\",\"name\":\"\",\"orientation\":\"v\",\"showlegend\":false,\"x\":[0.6842330265121569,0.4401524937396013,0.12203823484477883,0.4951769101112702,0.034388521115218396,0.9093204020787821,0.2587799816000169,0.662522284353982,0.31171107608941095,0.5200680211778108],\"xaxis\":\"x\",\"y\":[-1.0486487112416474,0.3869196454153727,0.7676729883959035,0.047436557496369894,0.20282730585504244,-0.5695375823995514,0.8506265291850891,-0.9246977353735738,0.8797012417622012,-0.02004501905253346],\"yaxis\":\"y\",\"type\":\"scatter\"}],                        {\"template\":{\"data\":{\"histogram2dcontour\":[{\"type\":\"histogram2dcontour\",\"colorbar\":{\"outlinewidth\":0,\"ticks\":\"\"},\"colorscale\":[[0.0,\"#0d0887\"],[0.1111111111111111,\"#46039f\"],[0.2222222222222222,\"#7201a8\"],[0.3333333333333333,\"#9c179e\"],[0.4444444444444444,\"#bd3786\"],[0.5555555555555556,\"#d8576b\"],[0.6666666666666666,\"#ed7953\"],[0.7777777777777778,\"#fb9f3a\"],[0.8888888888888888,\"#fdca26\"],[1.0,\"#f0f921\"]]}],\"choropleth\":[{\"type\":\"choropleth\",\"colorbar\":{\"outlinewidth\":0,\"ticks\":\"\"}}],\"histogram2d\":[{\"type\":\"histogram2d\",\"colorbar\":{\"outlinewidth\":0,\"ticks\":\"\"},\"colorscale\":[[0.0,\"#0d0887\"],[0.1111111111111111,\"#46039f\"],[0.2222222222222222,\"#7201a8\"],[0.3333333333333333,\"#9c179e\"],[0.4444444444444444,\"#bd3786\"],[0.5555555555555556,\"#d8576b\"],[0.6666666666666666,\"#ed7953\"],[0.7777777777777778,\"#fb9f3a\"],[0.8888888888888888,\"#fdca26\"],[1.0,\"#f0f921\"]]}],\"heatmap\":[{\"type\":\"heatmap\",\"colorbar\":{\"outlinewidth\":0,\"ticks\":\"\"},\"colorscale\":[[0.0,\"#0d0887\"],[0.1111111111111111,\"#46039f\"],[0.2222222222222222,\"#7201a8\"],[0.3333333333333333,\"#9c179e\"],[0.4444444444444444,\"#bd3786\"],[0.5555555555555556,\"#d8576b\"],[0.6666666666666666,\"#ed7953\"],[0.7777777777777778,\"#fb9f3a\"],[0.8888888888888888,\"#fdca26\"],[1.0,\"#f0f921\"]]}],\"heatmapgl\":[{\"type\":\"heatmapgl\",\"colorbar\":{\"outlinewidth\":0,\"ticks\":\"\"},\"colorscale\":[[0.0,\"#0d0887\"],[0.1111111111111111,\"#46039f\"],[0.2222222222222222,\"#7201a8\"],[0.3333333333333333,\"#9c179e\"],[0.4444444444444444,\"#bd3786\"],[0.5555555555555556,\"#d8576b\"],[0.6666666666666666,\"#ed7953\"],[0.7777777777777778,\"#fb9f3a\"],[0.8888888888888888,\"#fdca26\"],[1.0,\"#f0f921\"]]}],\"contourcarpet\":[{\"type\":\"contourcarpet\",\"colorbar\":{\"outlinewidth\":0,\"ticks\":\"\"}}],\"contour\":[{\"type\":\"contour\",\"colorbar\":{\"outlinewidth\":0,\"ticks\":\"\"},\"colorscale\":[[0.0,\"#0d0887\"],[0.1111111111111111,\"#46039f\"],[0.2222222222222222,\"#7201a8\"],[0.3333333333333333,\"#9c179e\"],[0.4444444444444444,\"#bd3786\"],[0.5555555555555556,\"#d8576b\"],[0.6666666666666666,\"#ed7953\"],[0.7777777777777778,\"#fb9f3a\"],[0.8888888888888888,\"#fdca26\"],[1.0,\"#f0f921\"]]}],\"surface\":[{\"type\":\"surface\",\"colorbar\":{\"outlinewidth\":0,\"ticks\":\"\"},\"colorscale\":[[0.0,\"#0d0887\"],[0.1111111111111111,\"#46039f\"],[0.2222222222222222,\"#7201a8\"],[0.3333333333333333,\"#9c179e\"],[0.4444444444444444,\"#bd3786\"],[0.5555555555555556,\"#d8576b\"],[0.6666666666666666,\"#ed7953\"],[0.7777777777777778,\"#fb9f3a\"],[0.8888888888888888,\"#fdca26\"],[1.0,\"#f0f921\"]]}],\"mesh3d\":[{\"type\":\"mesh3d\",\"colorbar\":{\"outlinewidth\":0,\"ticks\":\"\"}}],\"scatter\":[{\"fillpattern\":{\"fillmode\":\"overlay\",\"size\":10,\"solidity\":0.2},\"type\":\"scatter\"}],\"parcoords\":[{\"type\":\"parcoords\",\"line\":{\"colorbar\":{\"outlinewidth\":0,\"ticks\":\"\"}}}],\"scatterpolargl\":[{\"type\":\"scatterpolargl\",\"marker\":{\"colorbar\":{\"outlinewidth\":0,\"ticks\":\"\"}}}],\"bar\":[{\"error_x\":{\"color\":\"#2a3f5f\"},\"error_y\":{\"color\":\"#2a3f5f\"},\"marker\":{\"line\":{\"color\":\"#E5ECF6\",\"width\":0.5},\"pattern\":{\"fillmode\":\"overlay\",\"size\":10,\"solidity\":0.2}},\"type\":\"bar\"}],\"scattergeo\":[{\"type\":\"scattergeo\",\"marker\":{\"colorbar\":{\"outlinewidth\":0,\"ticks\":\"\"}}}],\"scatterpolar\":[{\"type\":\"scatterpolar\",\"marker\":{\"colorbar\":{\"outlinewidth\":0,\"ticks\":\"\"}}}],\"histogram\":[{\"marker\":{\"pattern\":{\"fillmode\":\"overlay\",\"size\":10,\"solidity\":0.2}},\"type\":\"histogram\"}],\"scattergl\":[{\"type\":\"scattergl\",\"marker\":{\"colorbar\":{\"outlinewidth\":0,\"ticks\":\"\"}}}],\"scatter3d\":[{\"type\":\"scatter3d\",\"line\":{\"colorbar\":{\"outlinewidth\":0,\"ticks\":\"\"}},\"marker\":{\"colorbar\":{\"outlinewidth\":0,\"ticks\":\"\"}}}],\"scattermapbox\":[{\"type\":\"scattermapbox\",\"marker\":{\"colorbar\":{\"outlinewidth\":0,\"ticks\":\"\"}}}],\"scatterternary\":[{\"type\":\"scatterternary\",\"marker\":{\"colorbar\":{\"outlinewidth\":0,\"ticks\":\"\"}}}],\"scattercarpet\":[{\"type\":\"scattercarpet\",\"marker\":{\"colorbar\":{\"outlinewidth\":0,\"ticks\":\"\"}}}],\"carpet\":[{\"aaxis\":{\"endlinecolor\":\"#2a3f5f\",\"gridcolor\":\"white\",\"linecolor\":\"white\",\"minorgridcolor\":\"white\",\"startlinecolor\":\"#2a3f5f\"},\"baxis\":{\"endlinecolor\":\"#2a3f5f\",\"gridcolor\":\"white\",\"linecolor\":\"white\",\"minorgridcolor\":\"white\",\"startlinecolor\":\"#2a3f5f\"},\"type\":\"carpet\"}],\"table\":[{\"cells\":{\"fill\":{\"color\":\"#EBF0F8\"},\"line\":{\"color\":\"white\"}},\"header\":{\"fill\":{\"color\":\"#C8D4E3\"},\"line\":{\"color\":\"white\"}},\"type\":\"table\"}],\"barpolar\":[{\"marker\":{\"line\":{\"color\":\"#E5ECF6\",\"width\":0.5},\"pattern\":{\"fillmode\":\"overlay\",\"size\":10,\"solidity\":0.2}},\"type\":\"barpolar\"}],\"pie\":[{\"automargin\":true,\"type\":\"pie\"}]},\"layout\":{\"autotypenumbers\":\"strict\",\"colorway\":[\"#636efa\",\"#EF553B\",\"#00cc96\",\"#ab63fa\",\"#FFA15A\",\"#19d3f3\",\"#FF6692\",\"#B6E880\",\"#FF97FF\",\"#FECB52\"],\"font\":{\"color\":\"#2a3f5f\"},\"hovermode\":\"closest\",\"hoverlabel\":{\"align\":\"left\"},\"paper_bgcolor\":\"white\",\"plot_bgcolor\":\"#E5ECF6\",\"polar\":{\"bgcolor\":\"#E5ECF6\",\"angularaxis\":{\"gridcolor\":\"white\",\"linecolor\":\"white\",\"ticks\":\"\"},\"radialaxis\":{\"gridcolor\":\"white\",\"linecolor\":\"white\",\"ticks\":\"\"}},\"ternary\":{\"bgcolor\":\"#E5ECF6\",\"aaxis\":{\"gridcolor\":\"white\",\"linecolor\":\"white\",\"ticks\":\"\"},\"baxis\":{\"gridcolor\":\"white\",\"linecolor\":\"white\",\"ticks\":\"\"},\"caxis\":{\"gridcolor\":\"white\",\"linecolor\":\"white\",\"ticks\":\"\"}},\"coloraxis\":{\"colorbar\":{\"outlinewidth\":0,\"ticks\":\"\"}},\"colorscale\":{\"sequential\":[[0.0,\"#0d0887\"],[0.1111111111111111,\"#46039f\"],[0.2222222222222222,\"#7201a8\"],[0.3333333333333333,\"#9c179e\"],[0.4444444444444444,\"#bd3786\"],[0.5555555555555556,\"#d8576b\"],[0.6666666666666666,\"#ed7953\"],[0.7777777777777778,\"#fb9f3a\"],[0.8888888888888888,\"#fdca26\"],[1.0,\"#f0f921\"]],\"sequentialminus\":[[0.0,\"#0d0887\"],[0.1111111111111111,\"#46039f\"],[0.2222222222222222,\"#7201a8\"],[0.3333333333333333,\"#9c179e\"],[0.4444444444444444,\"#bd3786\"],[0.5555555555555556,\"#d8576b\"],[0.6666666666666666,\"#ed7953\"],[0.7777777777777778,\"#fb9f3a\"],[0.8888888888888888,\"#fdca26\"],[1.0,\"#f0f921\"]],\"diverging\":[[0,\"#8e0152\"],[0.1,\"#c51b7d\"],[0.2,\"#de77ae\"],[0.3,\"#f1b6da\"],[0.4,\"#fde0ef\"],[0.5,\"#f7f7f7\"],[0.6,\"#e6f5d0\"],[0.7,\"#b8e186\"],[0.8,\"#7fbc41\"],[0.9,\"#4d9221\"],[1,\"#276419\"]]},\"xaxis\":{\"gridcolor\":\"white\",\"linecolor\":\"white\",\"ticks\":\"\",\"title\":{\"standoff\":15},\"zerolinecolor\":\"white\",\"automargin\":true,\"zerolinewidth\":2},\"yaxis\":{\"gridcolor\":\"white\",\"linecolor\":\"white\",\"ticks\":\"\",\"title\":{\"standoff\":15},\"zerolinecolor\":\"white\",\"automargin\":true,\"zerolinewidth\":2},\"scene\":{\"xaxis\":{\"backgroundcolor\":\"#E5ECF6\",\"gridcolor\":\"white\",\"linecolor\":\"white\",\"showbackground\":true,\"ticks\":\"\",\"zerolinecolor\":\"white\",\"gridwidth\":2},\"yaxis\":{\"backgroundcolor\":\"#E5ECF6\",\"gridcolor\":\"white\",\"linecolor\":\"white\",\"showbackground\":true,\"ticks\":\"\",\"zerolinecolor\":\"white\",\"gridwidth\":2},\"zaxis\":{\"backgroundcolor\":\"#E5ECF6\",\"gridcolor\":\"white\",\"linecolor\":\"white\",\"showbackground\":true,\"ticks\":\"\",\"zerolinecolor\":\"white\",\"gridwidth\":2}},\"shapedefaults\":{\"line\":{\"color\":\"#2a3f5f\"}},\"annotationdefaults\":{\"arrowcolor\":\"#2a3f5f\",\"arrowhead\":0,\"arrowwidth\":1},\"geo\":{\"bgcolor\":\"white\",\"landcolor\":\"#E5ECF6\",\"subunitcolor\":\"white\",\"showland\":true,\"showlakes\":true,\"lakecolor\":\"white\"},\"title\":{\"x\":0.05},\"mapbox\":{\"style\":\"light\"}}},\"xaxis\":{\"anchor\":\"y\",\"domain\":[0.0,1.0],\"title\":{\"text\":\"x\"}},\"yaxis\":{\"anchor\":\"x\",\"domain\":[0.0,1.0],\"title\":{\"text\":\"y\"}},\"legend\":{\"tracegroupgap\":0},\"margin\":{\"t\":60}},                        {\"responsive\": true}                    ).then(function(){\n",
              "                            \n",
              "var gd = document.getElementById('b273b37f-4d08-4456-920a-b61186b84abf');\n",
              "var x = new MutationObserver(function (mutations, observer) {{\n",
              "        var display = window.getComputedStyle(gd).display;\n",
              "        if (!display || display === 'none') {{\n",
              "            console.log([gd, 'removed!']);\n",
              "            Plotly.purge(gd);\n",
              "            observer.disconnect();\n",
              "        }}\n",
              "}});\n",
              "\n",
              "// Listen for the removal of the full notebook cells\n",
              "var notebookContainer = gd.closest('#notebook-container');\n",
              "if (notebookContainer) {{\n",
              "    x.observe(notebookContainer, {childList: true});\n",
              "}}\n",
              "\n",
              "// Listen for the clearing of the current output cell\n",
              "var outputEl = gd.closest('.output');\n",
              "if (outputEl) {{\n",
              "    x.observe(outputEl, {childList: true});\n",
              "}}\n",
              "\n",
              "                        })                };                            </script>        </div>\n",
              "</body>\n",
              "</html>"
            ]
          },
          "metadata": {}
        }
      ]
    },
    {
      "cell_type": "markdown",
      "metadata": {
        "id": "SN_Ao9LRMr7s"
      },
      "source": [
        "It seems we have very little to work with! Just a handful of noisy points.\n",
        "\n",
        "How is it possible to devise a rule $f$ that is valid in general --i.e. for all the *infinite* points $x_i$ between 0 and 1 shall occur $t_i=f(x_i)$-- from such a *finite* set of observations?\n",
        "\n",
        "If we collect just 10 points and each of them agrees with a precise rule, why does that give us *any grounds* --even probabilistic grounds-- to expect the 11[$^{st}$](https://translate.google.com/translate?sl=it&tl=en&u=https://it.wikipedia.org/wiki/Tacchino_induttivista) point to follow the same rule?\n",
        "\n",
        "This is the essence of the so called [*Problem of induction*](https://ar5iv.labs.arxiv.org/html/1108.1791#S7) raised by David Hume more than two centuries ago. Still today this problem is at the core of the philosophical debate on the nature of knowledge."
      ]
    },
    {
      "cell_type": "markdown",
      "metadata": {
        "id": "mhRdUyWpwX-v"
      },
      "source": [
        "### Where to restart from?"
      ]
    },
    {
      "cell_type": "markdown",
      "source": [
        "We will take a very pragmatic point of view. Even if induction cannot be justified in general, we note that \"often it seems to work\". Therefore we proceed with our quest to find $f$.\n",
        "\n",
        "First of all, we observe that the quality of our guess $f$ depends crucially on how much information about the phenomenon $\\mathcal{P}$ we are given in advance, i.e. what **priors** do we have.\n",
        "\n",
        "\n",
        "\n",
        "**EXERCISE**: Suppose you have to guess this general rule $f$ to make predictions for new $x_i \\in [0,1]$. In which of the following scenarios would you like to find yourself to make the most accurate predictions?\n",
        "\n",
        "Write down a ranking from best to worst scenario, and then compare your ranking with those of your neighbors.\n",
        "\n",
        "For each scenario below, we give you a description of the available priors together with a plot.\n",
        "\n",
        "\n",
        "> **Scenario A**\n",
        ">\n",
        "> *priors:*\n",
        "> - 20 observations $(x_i,t_i)$ in the interval $[0,1]$ affected by a gaussian noise $0.1*\\epsilon$ where $\\epsilon \\sim \\mathcal{N}(0,1)$.\n",
        "\n",
        "> **Scenario B**\n",
        ">\n",
        "> *priors:*\n",
        "> - 20 observations $(x_i,t_i)$ in the interval $[0,1]$ affected by a gaussian noise $0.5*\\epsilon$ where $\\epsilon \\sim \\mathcal{N}(0,1)$\n",
        "\n",
        "> **Scenario C**\n",
        ">\n",
        "> *priors:*\n",
        "> - 40 observations $(x_i,t_i)$ in the interval $[0,1]$ affected by a gaussian noise $0.1*\\epsilon$ where $\\epsilon \\sim \\mathcal{N}(0,1)$\n",
        "\n",
        "> **Scenario D**\n",
        ">\n",
        "> *priors:*\n",
        "> - 100 observations $(x_i,t_i)$ in the interval $[0,0.3]$ affected by a gaussian noise $0.1*\\epsilon$ where $\\epsilon \\sim \\mathcal{N}(0,1)$\n",
        "\n",
        "> **Scenario E**\n",
        ">\n",
        "> *priors:*\n",
        "> - 10 observations $(x_i,t_i)$ in the interval $[0,1]$ affected by a gaussian noise $0.1*\\epsilon$ where $\\epsilon \\sim \\mathcal{N}(0,1)$\n",
        "> - you know that $f$ is in the form $f(x)=\\sin(kx)$ with $k\\in \\mathbb{R}$\n"
      ],
      "metadata": {
        "id": "4P5vTHieHC2R"
      }
    },
    {
      "cell_type": "code",
      "metadata": {
        "id": "3drUw3Pc8RWr",
        "colab": {
          "base_uri": "https://localhost:8080/",
          "height": 542
        },
        "outputId": "c5d08ad9-1928-4933-951a-ef2e37ab4429",
        "cellView": "form"
      },
      "source": [
        "# @title Scenario plots\n",
        "\n",
        "xA = np.random.rand(20)\n",
        "tA = np.sin(2 * np.pi * xA) + 0.1 * np.random.randn(20)\n",
        "\n",
        "xB = np.random.rand(20)\n",
        "tB = np.sin(2 * np.pi * xB) + 0.5 * np.random.randn(20)\n",
        "\n",
        "xC = np.random.rand(40)\n",
        "tC = np.sin(2 * np.pi * xC) + 0.1 * np.random.randn(40)\n",
        "\n",
        "xD = np.random.rand(100) * 0.3\n",
        "tD = np.sin(2 * np.pi * xD) + 0.1 * np.random.randn(100)\n",
        "\n",
        "xE = np.random.rand(10)\n",
        "tE = np.sin(2 * np.pi * xE) + 0.1 * np.random.randn(10)\n",
        "\n",
        "fig = make_subplots(\n",
        "    rows=1, cols=5,\n",
        "    subplot_titles=(\"Scenario A\", \"Scenario B\", \"Scenario C\", \"Scenario D\", \"Scenario E\"))\n",
        "\n",
        "fig.add_trace(go.Scatter(x=xA, y=tA, mode='markers', marker=dict(color=\"mediumpurple\")),\n",
        "              row=1, col=1)\n",
        "\n",
        "fig.add_trace(go.Scatter(x=xB, y=tB, mode='markers', marker=dict(color=\"mediumpurple\")),\n",
        "              row=1, col=2)\n",
        "\n",
        "fig.add_trace(go.Scatter(x=xC, y=tC, mode='markers', marker=dict(color=\"mediumpurple\")),\n",
        "              row=1, col=3)\n",
        "\n",
        "fig.add_trace(go.Scatter(x=xD, y=tD, mode='markers', marker=dict(color=\"mediumpurple\")),\n",
        "              row=1, col=4)\n",
        "\n",
        "fig.add_trace(go.Scatter(x=xE, y=tE, mode='markers', marker=dict(color=\"crimson\")),\n",
        "              row=1, col=5)\n",
        "\n",
        "fig.update_xaxes(title_text=\"x\", range=[0, 1])\n",
        "fig.update_yaxes(title_text=\"\", range=[-1.7, 1.7])\n",
        "fig.update_layout(showlegend=False)\n",
        "\n",
        "fig.show()"
      ],
      "execution_count": 9,
      "outputs": [
        {
          "output_type": "display_data",
          "data": {
            "text/html": [
              "<html>\n",
              "<head><meta charset=\"utf-8\" /></head>\n",
              "<body>\n",
              "    <div>            <script src=\"https://cdnjs.cloudflare.com/ajax/libs/mathjax/2.7.5/MathJax.js?config=TeX-AMS-MML_SVG\"></script><script type=\"text/javascript\">if (window.MathJax && window.MathJax.Hub && window.MathJax.Hub.Config) {window.MathJax.Hub.Config({SVG: {font: \"STIX-Web\"}});}</script>                <script type=\"text/javascript\">window.PlotlyConfig = {MathJaxConfig: 'local'};</script>\n",
              "        <script charset=\"utf-8\" src=\"https://cdn.plot.ly/plotly-2.35.2.min.js\"></script>                <div id=\"4dfbf346-9eec-4e13-bbb3-8f3416a67f36\" class=\"plotly-graph-div\" style=\"height:525px; width:100%;\"></div>            <script type=\"text/javascript\">                                    window.PLOTLYENV=window.PLOTLYENV || {};                                    if (document.getElementById(\"4dfbf346-9eec-4e13-bbb3-8f3416a67f36\")) {                    Plotly.newPlot(                        \"4dfbf346-9eec-4e13-bbb3-8f3416a67f36\",                        [{\"marker\":{\"color\":\"mediumpurple\"},\"mode\":\"markers\",\"x\":[0.29214464853521815,0.3663618432936917,0.45606998421703593,0.7851759613930136,0.19967378215835974,0.5142344384136116,0.5924145688620425,0.046450412719997725,0.6075448519014384,0.17052412368729153,0.06505159298527952,0.9488855372533332,0.9656320330745594,0.8083973481164611,0.3046137691733707,0.09767211400638387,0.6842330265121569,0.4401524937396013,0.12203823484477883,0.4951769101112702],\"y\":[1.0473986646372184,0.6223406569333729,0.2934152421753372,-1.171641999181489,0.8176025258895546,-0.06963230184878447,-0.4747274365242228,0.3048675877466595,-0.6370273950283458,0.8477780508141505,0.2495931776706199,-0.3876534400464828,-0.26032986655933765,-0.8277239867725625,0.9760618621915267,0.3995856670069373,-0.8834217094123248,0.3287252937868287,0.6261341303657666,0.09146735826145963],\"type\":\"scatter\",\"xaxis\":\"x\",\"yaxis\":\"y\"},{\"marker\":{\"color\":\"mediumpurple\"},\"mode\":\"markers\",\"x\":[0.005522117123602399,0.8154614284548342,0.7068573438476171,0.7290071680409873,0.7712703466859457,0.07404465173409036,0.3584657285442726,0.11586905952512971,0.8631034258755935,0.6232981268275579,0.3308980248526492,0.06355835028602363,0.3109823217156622,0.32518332202674705,0.7296061783380641,0.6375574713552131,0.8872127425763265,0.4722149251619493,0.1195942459383017,0.713244787222995],\"y\":[0.2153873268108042,-0.14758105968559254,-0.9813970771358488,-0.20899172756978435,-2.300955272813918,0.8595852224156049,0.820145717991251,0.515894263730882,-0.7120577767262324,-1.6932897329097907,0.7637385267809292,0.5673748359932289,1.6664337078529434,0.6313478968344268,-1.3960483343758894,-1.0115189555624717,-0.19311838126033076,0.3380688845501171,0.4178063284244009,-0.7168179922721039],\"type\":\"scatter\",\"xaxis\":\"x2\",\"yaxis\":\"y2\"},{\"marker\":{\"color\":\"mediumpurple\"},\"mode\":\"markers\",\"x\":[0.8925589984899778,0.5393422419156507,0.8074401551640625,0.8960912999234932,0.3180034749718639,0.11005192452767676,0.22793516254194168,0.4271077886262563,0.8180147659224931,0.8607305832563434,0.006952130531190703,0.5107473025775657,0.417411003148779,0.22210781047073025,0.1198653673336828,0.33761517140362796,0.9429097039125192,0.32320293202075523,0.5187906217433661,0.7030189588951778,0.363629602379294,0.9717820827209607,0.9624472949421112,0.25178229582536416,0.49724850589238545,0.30087830981676966,0.2848404943774676,0.036886947354532795,0.6095643339798968,0.5026790232288615,0.05147875124998935,0.27864646423661144,0.9082658859666537,0.23956189066697242,0.1448948720912231,0.489452760277563,0.9856504541106007,0.2420552715115004,0.6721355474058786,0.7616196153287176],\"y\":[-0.5458501143397135,-0.3356235442910603,-0.7952974458681501,-0.7476598279337927,0.9687826324163429,0.8567208994483376,0.8913515771922633,0.385521101140059,-0.9001023857248115,-0.8179266757765974,-0.11139870864918461,-0.060619687850113776,0.3897139441639967,1.0320419111183123,0.5919877870607935,1.0072552790717517,-0.4293909417964871,0.8638696133639039,-0.03643913666568993,-1.0798331452977148,0.7785233870777207,-0.045656698970320264,-0.3945156802943589,1.0184006833640145,0.04327556560710827,1.0275189940299556,0.8524398245980173,0.09765248553567893,-0.5831182675564751,0.012866462832574338,0.3428893351058709,1.0184901172314904,-0.612996873677882,1.0210754722494138,0.8190572388783036,-0.00521337654043931,0.09653869820973064,1.0461376373754585,-1.0018221402938086,-0.9316807243537488],\"type\":\"scatter\",\"xaxis\":\"x3\",\"yaxis\":\"y3\"},{\"marker\":{\"color\":\"mediumpurple\"},\"mode\":\"markers\",\"x\":[0.21365376640426076,0.07117472624904002,0.09761990944778032,0.22394742153540723,0.1948898697141644,0.2547670231482534,0.197283867690103,0.1704925810006415,0.028102430348427743,0.11031474091783006,0.07956071030451763,0.07319689301372508,0.29190316642573366,0.11792931740002811,0.26761396655313396,0.18934158779917887,0.23844339106249451,0.15079112793155763,0.17307116538790773,0.14775530814565915,0.058572896339413344,0.2167356345784516,0.08423170873225673,0.007294789929436152,0.19364168877215035,0.05313320382211468,0.2821375753058743,0.2861785731007762,0.2744593170661345,0.11104761007663332,0.004636984958660229,0.2784955687763176,0.1284552444951943,0.28999644571310085,0.28908599312677585,0.255902836640208,0.0883346676208757,0.11552931858057758,0.25534100145505706,0.0950766015468833,0.05084782400582775,0.16704037873750505,0.2808464322482343,0.2088089390024919,0.17101835102680948,0.02915294813123056,0.18450216800975092,0.297016155031279,0.04202520457095721,0.155498895709121,0.26321192157838663,0.22223058532626133,0.20910472229858038,0.21074522519613278,0.10784734536592655,0.088077553279348,0.24280834664355408,0.24303401840375422,0.2601216955740311,0.2739721657669414,0.15340271965828134,0.15045488840615986,0.23948855369003252,0.19498917923332953,0.210590063177311,0.2387378008308303,0.2670016025452699,0.10139854705546074,0.1126748857919832,0.028194581952260697,0.1734840422988522,0.010782682139022625,0.13967940543973803,0.16279339041227298,0.08596237563848531,0.17724997817070323,0.009150074981714829,0.011204456624764325,0.24678016819789747,0.10805719242337887,0.038118153795565435,0.1566729780164413,0.23099806592958325,0.06474630824905295,0.18686714274570007,0.0256042394981304,0.01550451635058231,0.1594063894704444,0.16219053648303194,0.19122897044946197,0.21782740011679846,0.29275562383876036,0.1548901044903586,0.09688694188237379,0.23855585843061108,0.08124967537862227,0.13169142621169083,0.023536914402679788,0.007605223024637253,0.2887945244033775],\"y\":[1.0245354052648041,0.5190217012945867,0.4555918529463594,0.953182037930033,0.8931516164622207,0.9342185464347299,1.122190030978894,0.9182916686226423,0.04956828188807677,0.7307326851603748,0.6915487339294399,0.5471136663375872,0.8136031655938346,0.6265817959130471,1.120573237774318,0.8574786835278394,1.041746826755194,0.8893921576797281,0.792746165799121,0.7946942566945034,0.03564605180553432,0.8757988408299362,0.479623611560726,-0.07895984782191007,1.1011967027453649,0.18466474242996847,0.9356776061269534,0.9873486835895604,1.132341409903907,0.4988957002856807,0.14544728927161799,0.9850378904931532,0.6241393262395908,1.0147990621164746,0.9899013454740325,0.9392906083863244,0.533943129117044,0.6252715681020851,1.010788700843733,0.6286944554831024,0.4726805791729871,0.7434155164684184,1.1945801530163491,0.7714861660612208,0.8641927064886631,0.24098249272510502,0.9446070577950813,0.8944125530060174,0.24018216063614214,0.7795383514712947,0.9376199274539417,1.0697770860337474,1.002870463504912,0.9004460419355562,0.7169043923746283,0.5563191936571572,1.0802654761103807,1.0620051939678787,0.9150789237018115,0.9326598981981646,0.8961273039617218,0.871730691530382,0.995729638158491,0.9525904746979749,1.09726500369009,0.9383402410693642,1.0490094549864089,0.5746523017028511,0.6285151001201837,0.2861043359717379,0.9691835267504757,0.1490487369665766,0.8997755629123495,0.8557022868529239,0.5824320965201186,0.8663086771221707,0.08987658612804088,0.05732723473393957,1.009494960847243,0.6874867641912586,0.15539818555909518,1.0421819125760046,0.8922794190632143,0.2742656316464558,1.0381616330865717,0.23934940494528323,0.15967571818857207,0.9051581002808491,0.8503979210031914,0.8428659029939242,0.987218351156479,0.896416188438326,0.9242042353622808,0.5571437776983994,0.9148661818902639,0.45648087773868695,0.7774955244282766,0.09097586884858652,-0.0344551973712225,0.9948077146690533],\"type\":\"scatter\",\"xaxis\":\"x4\",\"yaxis\":\"y4\"},{\"marker\":{\"color\":\"crimson\"},\"mode\":\"markers\",\"x\":[0.08410680611499743,0.70096913145912,0.07276300636419353,0.8218600592903562,0.7062422271564962,0.08134878064189976,0.08483771408519192,0.9866395785011755,0.3742707957561203,0.3706421470668909],\"y\":[0.4323584300469619,-0.9742652642366553,0.4725133315290869,-0.7522536264180602,-0.8766760163182921,0.47316881517583953,0.5062618555254742,-0.18410038163147216,0.7084878034927269,0.697334875506115],\"type\":\"scatter\",\"xaxis\":\"x5\",\"yaxis\":\"y5\"}],                        {\"template\":{\"data\":{\"histogram2dcontour\":[{\"type\":\"histogram2dcontour\",\"colorbar\":{\"outlinewidth\":0,\"ticks\":\"\"},\"colorscale\":[[0.0,\"#0d0887\"],[0.1111111111111111,\"#46039f\"],[0.2222222222222222,\"#7201a8\"],[0.3333333333333333,\"#9c179e\"],[0.4444444444444444,\"#bd3786\"],[0.5555555555555556,\"#d8576b\"],[0.6666666666666666,\"#ed7953\"],[0.7777777777777778,\"#fb9f3a\"],[0.8888888888888888,\"#fdca26\"],[1.0,\"#f0f921\"]]}],\"choropleth\":[{\"type\":\"choropleth\",\"colorbar\":{\"outlinewidth\":0,\"ticks\":\"\"}}],\"histogram2d\":[{\"type\":\"histogram2d\",\"colorbar\":{\"outlinewidth\":0,\"ticks\":\"\"},\"colorscale\":[[0.0,\"#0d0887\"],[0.1111111111111111,\"#46039f\"],[0.2222222222222222,\"#7201a8\"],[0.3333333333333333,\"#9c179e\"],[0.4444444444444444,\"#bd3786\"],[0.5555555555555556,\"#d8576b\"],[0.6666666666666666,\"#ed7953\"],[0.7777777777777778,\"#fb9f3a\"],[0.8888888888888888,\"#fdca26\"],[1.0,\"#f0f921\"]]}],\"heatmap\":[{\"type\":\"heatmap\",\"colorbar\":{\"outlinewidth\":0,\"ticks\":\"\"},\"colorscale\":[[0.0,\"#0d0887\"],[0.1111111111111111,\"#46039f\"],[0.2222222222222222,\"#7201a8\"],[0.3333333333333333,\"#9c179e\"],[0.4444444444444444,\"#bd3786\"],[0.5555555555555556,\"#d8576b\"],[0.6666666666666666,\"#ed7953\"],[0.7777777777777778,\"#fb9f3a\"],[0.8888888888888888,\"#fdca26\"],[1.0,\"#f0f921\"]]}],\"heatmapgl\":[{\"type\":\"heatmapgl\",\"colorbar\":{\"outlinewidth\":0,\"ticks\":\"\"},\"colorscale\":[[0.0,\"#0d0887\"],[0.1111111111111111,\"#46039f\"],[0.2222222222222222,\"#7201a8\"],[0.3333333333333333,\"#9c179e\"],[0.4444444444444444,\"#bd3786\"],[0.5555555555555556,\"#d8576b\"],[0.6666666666666666,\"#ed7953\"],[0.7777777777777778,\"#fb9f3a\"],[0.8888888888888888,\"#fdca26\"],[1.0,\"#f0f921\"]]}],\"contourcarpet\":[{\"type\":\"contourcarpet\",\"colorbar\":{\"outlinewidth\":0,\"ticks\":\"\"}}],\"contour\":[{\"type\":\"contour\",\"colorbar\":{\"outlinewidth\":0,\"ticks\":\"\"},\"colorscale\":[[0.0,\"#0d0887\"],[0.1111111111111111,\"#46039f\"],[0.2222222222222222,\"#7201a8\"],[0.3333333333333333,\"#9c179e\"],[0.4444444444444444,\"#bd3786\"],[0.5555555555555556,\"#d8576b\"],[0.6666666666666666,\"#ed7953\"],[0.7777777777777778,\"#fb9f3a\"],[0.8888888888888888,\"#fdca26\"],[1.0,\"#f0f921\"]]}],\"surface\":[{\"type\":\"surface\",\"colorbar\":{\"outlinewidth\":0,\"ticks\":\"\"},\"colorscale\":[[0.0,\"#0d0887\"],[0.1111111111111111,\"#46039f\"],[0.2222222222222222,\"#7201a8\"],[0.3333333333333333,\"#9c179e\"],[0.4444444444444444,\"#bd3786\"],[0.5555555555555556,\"#d8576b\"],[0.6666666666666666,\"#ed7953\"],[0.7777777777777778,\"#fb9f3a\"],[0.8888888888888888,\"#fdca26\"],[1.0,\"#f0f921\"]]}],\"mesh3d\":[{\"type\":\"mesh3d\",\"colorbar\":{\"outlinewidth\":0,\"ticks\":\"\"}}],\"scatter\":[{\"fillpattern\":{\"fillmode\":\"overlay\",\"size\":10,\"solidity\":0.2},\"type\":\"scatter\"}],\"parcoords\":[{\"type\":\"parcoords\",\"line\":{\"colorbar\":{\"outlinewidth\":0,\"ticks\":\"\"}}}],\"scatterpolargl\":[{\"type\":\"scatterpolargl\",\"marker\":{\"colorbar\":{\"outlinewidth\":0,\"ticks\":\"\"}}}],\"bar\":[{\"error_x\":{\"color\":\"#2a3f5f\"},\"error_y\":{\"color\":\"#2a3f5f\"},\"marker\":{\"line\":{\"color\":\"#E5ECF6\",\"width\":0.5},\"pattern\":{\"fillmode\":\"overlay\",\"size\":10,\"solidity\":0.2}},\"type\":\"bar\"}],\"scattergeo\":[{\"type\":\"scattergeo\",\"marker\":{\"colorbar\":{\"outlinewidth\":0,\"ticks\":\"\"}}}],\"scatterpolar\":[{\"type\":\"scatterpolar\",\"marker\":{\"colorbar\":{\"outlinewidth\":0,\"ticks\":\"\"}}}],\"histogram\":[{\"marker\":{\"pattern\":{\"fillmode\":\"overlay\",\"size\":10,\"solidity\":0.2}},\"type\":\"histogram\"}],\"scattergl\":[{\"type\":\"scattergl\",\"marker\":{\"colorbar\":{\"outlinewidth\":0,\"ticks\":\"\"}}}],\"scatter3d\":[{\"type\":\"scatter3d\",\"line\":{\"colorbar\":{\"outlinewidth\":0,\"ticks\":\"\"}},\"marker\":{\"colorbar\":{\"outlinewidth\":0,\"ticks\":\"\"}}}],\"scattermapbox\":[{\"type\":\"scattermapbox\",\"marker\":{\"colorbar\":{\"outlinewidth\":0,\"ticks\":\"\"}}}],\"scatterternary\":[{\"type\":\"scatterternary\",\"marker\":{\"colorbar\":{\"outlinewidth\":0,\"ticks\":\"\"}}}],\"scattercarpet\":[{\"type\":\"scattercarpet\",\"marker\":{\"colorbar\":{\"outlinewidth\":0,\"ticks\":\"\"}}}],\"carpet\":[{\"aaxis\":{\"endlinecolor\":\"#2a3f5f\",\"gridcolor\":\"white\",\"linecolor\":\"white\",\"minorgridcolor\":\"white\",\"startlinecolor\":\"#2a3f5f\"},\"baxis\":{\"endlinecolor\":\"#2a3f5f\",\"gridcolor\":\"white\",\"linecolor\":\"white\",\"minorgridcolor\":\"white\",\"startlinecolor\":\"#2a3f5f\"},\"type\":\"carpet\"}],\"table\":[{\"cells\":{\"fill\":{\"color\":\"#EBF0F8\"},\"line\":{\"color\":\"white\"}},\"header\":{\"fill\":{\"color\":\"#C8D4E3\"},\"line\":{\"color\":\"white\"}},\"type\":\"table\"}],\"barpolar\":[{\"marker\":{\"line\":{\"color\":\"#E5ECF6\",\"width\":0.5},\"pattern\":{\"fillmode\":\"overlay\",\"size\":10,\"solidity\":0.2}},\"type\":\"barpolar\"}],\"pie\":[{\"automargin\":true,\"type\":\"pie\"}]},\"layout\":{\"autotypenumbers\":\"strict\",\"colorway\":[\"#636efa\",\"#EF553B\",\"#00cc96\",\"#ab63fa\",\"#FFA15A\",\"#19d3f3\",\"#FF6692\",\"#B6E880\",\"#FF97FF\",\"#FECB52\"],\"font\":{\"color\":\"#2a3f5f\"},\"hovermode\":\"closest\",\"hoverlabel\":{\"align\":\"left\"},\"paper_bgcolor\":\"white\",\"plot_bgcolor\":\"#E5ECF6\",\"polar\":{\"bgcolor\":\"#E5ECF6\",\"angularaxis\":{\"gridcolor\":\"white\",\"linecolor\":\"white\",\"ticks\":\"\"},\"radialaxis\":{\"gridcolor\":\"white\",\"linecolor\":\"white\",\"ticks\":\"\"}},\"ternary\":{\"bgcolor\":\"#E5ECF6\",\"aaxis\":{\"gridcolor\":\"white\",\"linecolor\":\"white\",\"ticks\":\"\"},\"baxis\":{\"gridcolor\":\"white\",\"linecolor\":\"white\",\"ticks\":\"\"},\"caxis\":{\"gridcolor\":\"white\",\"linecolor\":\"white\",\"ticks\":\"\"}},\"coloraxis\":{\"colorbar\":{\"outlinewidth\":0,\"ticks\":\"\"}},\"colorscale\":{\"sequential\":[[0.0,\"#0d0887\"],[0.1111111111111111,\"#46039f\"],[0.2222222222222222,\"#7201a8\"],[0.3333333333333333,\"#9c179e\"],[0.4444444444444444,\"#bd3786\"],[0.5555555555555556,\"#d8576b\"],[0.6666666666666666,\"#ed7953\"],[0.7777777777777778,\"#fb9f3a\"],[0.8888888888888888,\"#fdca26\"],[1.0,\"#f0f921\"]],\"sequentialminus\":[[0.0,\"#0d0887\"],[0.1111111111111111,\"#46039f\"],[0.2222222222222222,\"#7201a8\"],[0.3333333333333333,\"#9c179e\"],[0.4444444444444444,\"#bd3786\"],[0.5555555555555556,\"#d8576b\"],[0.6666666666666666,\"#ed7953\"],[0.7777777777777778,\"#fb9f3a\"],[0.8888888888888888,\"#fdca26\"],[1.0,\"#f0f921\"]],\"diverging\":[[0,\"#8e0152\"],[0.1,\"#c51b7d\"],[0.2,\"#de77ae\"],[0.3,\"#f1b6da\"],[0.4,\"#fde0ef\"],[0.5,\"#f7f7f7\"],[0.6,\"#e6f5d0\"],[0.7,\"#b8e186\"],[0.8,\"#7fbc41\"],[0.9,\"#4d9221\"],[1,\"#276419\"]]},\"xaxis\":{\"gridcolor\":\"white\",\"linecolor\":\"white\",\"ticks\":\"\",\"title\":{\"standoff\":15},\"zerolinecolor\":\"white\",\"automargin\":true,\"zerolinewidth\":2},\"yaxis\":{\"gridcolor\":\"white\",\"linecolor\":\"white\",\"ticks\":\"\",\"title\":{\"standoff\":15},\"zerolinecolor\":\"white\",\"automargin\":true,\"zerolinewidth\":2},\"scene\":{\"xaxis\":{\"backgroundcolor\":\"#E5ECF6\",\"gridcolor\":\"white\",\"linecolor\":\"white\",\"showbackground\":true,\"ticks\":\"\",\"zerolinecolor\":\"white\",\"gridwidth\":2},\"yaxis\":{\"backgroundcolor\":\"#E5ECF6\",\"gridcolor\":\"white\",\"linecolor\":\"white\",\"showbackground\":true,\"ticks\":\"\",\"zerolinecolor\":\"white\",\"gridwidth\":2},\"zaxis\":{\"backgroundcolor\":\"#E5ECF6\",\"gridcolor\":\"white\",\"linecolor\":\"white\",\"showbackground\":true,\"ticks\":\"\",\"zerolinecolor\":\"white\",\"gridwidth\":2}},\"shapedefaults\":{\"line\":{\"color\":\"#2a3f5f\"}},\"annotationdefaults\":{\"arrowcolor\":\"#2a3f5f\",\"arrowhead\":0,\"arrowwidth\":1},\"geo\":{\"bgcolor\":\"white\",\"landcolor\":\"#E5ECF6\",\"subunitcolor\":\"white\",\"showland\":true,\"showlakes\":true,\"lakecolor\":\"white\"},\"title\":{\"x\":0.05},\"mapbox\":{\"style\":\"light\"}}},\"xaxis\":{\"anchor\":\"y\",\"domain\":[0.0,0.16799999999999998],\"title\":{\"text\":\"x\"},\"range\":[0,1]},\"yaxis\":{\"anchor\":\"x\",\"domain\":[0.0,1.0],\"title\":{\"text\":\"\"},\"range\":[-1.7,1.7]},\"xaxis2\":{\"anchor\":\"y2\",\"domain\":[0.208,0.376],\"title\":{\"text\":\"x\"},\"range\":[0,1]},\"yaxis2\":{\"anchor\":\"x2\",\"domain\":[0.0,1.0],\"title\":{\"text\":\"\"},\"range\":[-1.7,1.7]},\"xaxis3\":{\"anchor\":\"y3\",\"domain\":[0.416,0.584],\"title\":{\"text\":\"x\"},\"range\":[0,1]},\"yaxis3\":{\"anchor\":\"x3\",\"domain\":[0.0,1.0],\"title\":{\"text\":\"\"},\"range\":[-1.7,1.7]},\"xaxis4\":{\"anchor\":\"y4\",\"domain\":[0.624,0.792],\"title\":{\"text\":\"x\"},\"range\":[0,1]},\"yaxis4\":{\"anchor\":\"x4\",\"domain\":[0.0,1.0],\"title\":{\"text\":\"\"},\"range\":[-1.7,1.7]},\"xaxis5\":{\"anchor\":\"y5\",\"domain\":[0.832,1.0],\"title\":{\"text\":\"x\"},\"range\":[0,1]},\"yaxis5\":{\"anchor\":\"x5\",\"domain\":[0.0,1.0],\"title\":{\"text\":\"\"},\"range\":[-1.7,1.7]},\"annotations\":[{\"font\":{\"size\":16},\"showarrow\":false,\"text\":\"Scenario A\",\"x\":0.08399999999999999,\"xanchor\":\"center\",\"xref\":\"paper\",\"y\":1.0,\"yanchor\":\"bottom\",\"yref\":\"paper\"},{\"font\":{\"size\":16},\"showarrow\":false,\"text\":\"Scenario B\",\"x\":0.292,\"xanchor\":\"center\",\"xref\":\"paper\",\"y\":1.0,\"yanchor\":\"bottom\",\"yref\":\"paper\"},{\"font\":{\"size\":16},\"showarrow\":false,\"text\":\"Scenario C\",\"x\":0.5,\"xanchor\":\"center\",\"xref\":\"paper\",\"y\":1.0,\"yanchor\":\"bottom\",\"yref\":\"paper\"},{\"font\":{\"size\":16},\"showarrow\":false,\"text\":\"Scenario D\",\"x\":0.708,\"xanchor\":\"center\",\"xref\":\"paper\",\"y\":1.0,\"yanchor\":\"bottom\",\"yref\":\"paper\"},{\"font\":{\"size\":16},\"showarrow\":false,\"text\":\"Scenario E\",\"x\":0.9159999999999999,\"xanchor\":\"center\",\"xref\":\"paper\",\"y\":1.0,\"yanchor\":\"bottom\",\"yref\":\"paper\"}],\"showlegend\":false},                        {\"responsive\": true}                    ).then(function(){\n",
              "                            \n",
              "var gd = document.getElementById('4dfbf346-9eec-4e13-bbb3-8f3416a67f36');\n",
              "var x = new MutationObserver(function (mutations, observer) {{\n",
              "        var display = window.getComputedStyle(gd).display;\n",
              "        if (!display || display === 'none') {{\n",
              "            console.log([gd, 'removed!']);\n",
              "            Plotly.purge(gd);\n",
              "            observer.disconnect();\n",
              "        }}\n",
              "}});\n",
              "\n",
              "// Listen for the removal of the full notebook cells\n",
              "var notebookContainer = gd.closest('#notebook-container');\n",
              "if (notebookContainer) {{\n",
              "    x.observe(notebookContainer, {childList: true});\n",
              "}}\n",
              "\n",
              "// Listen for the clearing of the current output cell\n",
              "var outputEl = gd.closest('.output');\n",
              "if (outputEl) {{\n",
              "    x.observe(outputEl, {childList: true});\n",
              "}}\n",
              "\n",
              "                        })                };                            </script>        </div>\n",
              "</body>\n",
              "</html>"
            ]
          },
          "metadata": {}
        }
      ]
    },
    {
      "cell_type": "markdown",
      "metadata": {
        "id": "uQDNfE2ADPUG"
      },
      "source": [
        "If you want to learn more, [here](http://bit.ly/3BLUE1BROWN2TWY9iI) you can find a nice discussion about an analogous exercise:\n",
        "> Three Amazon resellers offer a book at essentially the same price. These are their ratings:\n",
        ">\n",
        "> - 100% positive out of 10 reviews\n",
        "> - 96% positive out of 50 reviews\n",
        "> - 93% positive out of 200 reviews\n",
        ">\n",
        "> Which rating is better?\n",
        "\n",
        "> **EXERCISE (optional)**: You probably realized that in the previous exercise you wanted to be in the scenario with the largest amount of relevant information about the phenomenon $\\mathcal{P}$. Now a tricky question: the dataset of which scenario, A or B, contains more *absolute* information? (i.e. Shannon information)\n",
        ">\n",
        ">Answer [here](http://bit.ly/VeritasiumRandom3b0rPBe), or more directly [here](https://en.wikipedia.org/wiki/Quantities_of_information#Self-information)."
      ]
    },
    {
      "cell_type": "markdown",
      "metadata": {
        "id": "yTDKBC5GL7MI"
      },
      "source": [
        "### Being linear in the parameters does not mean linear in the input\n",
        "\n",
        "In this tutorial we will restrict our search of $f$ among parametrized functions $f_\\theta$ that depend *linearly* on their finite set of parameters $\\theta = \\{a,b,c,...\\}$.\n",
        "\n",
        "Possible choices of $f$ are\n",
        "- $f_1(x) = ax + b$\n",
        "- $f_2(x) = ax^2 + bx + c$\n",
        "- $f_3(x) = a \\sin(2 \\pi x) + bx + c$"
      ]
    },
    {
      "cell_type": "code",
      "metadata": {
        "id": "1C9ECfD-Q65g",
        "colab": {
          "base_uri": "https://localhost:8080/",
          "height": 542
        },
        "outputId": "a2ea1989-a05b-4c11-bfcd-c331498434cb"
      },
      "source": [
        "# @title Some random plots of these linear models\n",
        "\n",
        "\n",
        "x_funcs = np.arange(0., 1.1, 2./51)\n",
        "theta_funcs = np.random.randn(10, 3)\n",
        "\n",
        "fig = make_subplots(\n",
        "    rows=1, cols=3,\n",
        "    subplot_titles=(\"f1\", \"f2\", \"f3\"))\n",
        "\n",
        "for a, b in theta_funcs[:,:2]:\n",
        "    fig.add_trace(go.Scatter(x=x_funcs, y=a*x_funcs + b, mode='lines'),\n",
        "                row=1, col=1)\n",
        "\n",
        "for a, b, c in theta_funcs:\n",
        "    fig.add_trace(go.Scatter(x=x_funcs, y=a*x_funcs**2 + b*x_funcs + c, mode='lines'),\n",
        "                row=1, col=2)\n",
        "\n",
        "for a, b, c in theta_funcs:\n",
        "    fig.add_trace(go.Scatter(x=x_funcs, y=a*np.sin(2 * np.pi * x_funcs) + b*x_funcs + c, mode='lines'),\n",
        "                row=1, col=3)\n",
        "\n",
        "for i in range(3):\n",
        "    fig.add_trace(go.Scatter(x=x, y=t, mode='markers', marker=dict(color=\"mediumpurple\")),\n",
        "                row=1, col=i + 1)\n",
        "\n",
        "fig.update_xaxes(title_text=\"x\", range = [0,1])\n",
        "fig.update_yaxes(title_text=\"t\", range = [-2,2])\n",
        "fig.update_layout(showlegend=False)\n",
        "\n",
        "fig.show()"
      ],
      "execution_count": 10,
      "outputs": [
        {
          "output_type": "display_data",
          "data": {
            "text/html": [
              "<html>\n",
              "<head><meta charset=\"utf-8\" /></head>\n",
              "<body>\n",
              "    <div>            <script src=\"https://cdnjs.cloudflare.com/ajax/libs/mathjax/2.7.5/MathJax.js?config=TeX-AMS-MML_SVG\"></script><script type=\"text/javascript\">if (window.MathJax && window.MathJax.Hub && window.MathJax.Hub.Config) {window.MathJax.Hub.Config({SVG: {font: \"STIX-Web\"}});}</script>                <script type=\"text/javascript\">window.PlotlyConfig = {MathJaxConfig: 'local'};</script>\n",
              "        <script charset=\"utf-8\" src=\"https://cdn.plot.ly/plotly-2.35.2.min.js\"></script>                <div id=\"6d5d845c-3627-4454-a0e6-4fe1f98ee5bf\" class=\"plotly-graph-div\" style=\"height:525px; width:100%;\"></div>            <script type=\"text/javascript\">                                    window.PLOTLYENV=window.PLOTLYENV || {};                                    if (document.getElementById(\"6d5d845c-3627-4454-a0e6-4fe1f98ee5bf\")) {                    Plotly.newPlot(                        \"6d5d845c-3627-4454-a0e6-4fe1f98ee5bf\",                        [{\"mode\":\"lines\",\"x\":[0.0,0.0392156862745098,0.0784313725490196,0.11764705882352941,0.1568627450980392,0.19607843137254902,0.23529411764705882,0.27450980392156865,0.3137254901960784,0.3529411764705882,0.39215686274509803,0.43137254901960786,0.47058823529411764,0.5098039215686274,0.5490196078431373,0.5882352941176471,0.6274509803921569,0.6666666666666666,0.7058823529411764,0.7450980392156863,0.7843137254901961,0.8235294117647058,0.8627450980392157,0.9019607843137255,0.9411764705882353,0.9803921568627451,1.0196078431372548,1.0588235294117647,1.0980392156862746],\"y\":[-0.827230943552323,-0.814575313735143,-0.801919683917963,-0.789264054100783,-0.776608424283603,-0.7639527944664231,-0.7512971646492431,-0.7386415348320631,-0.7259859050148831,-0.7133302751977032,-0.7006746453805232,-0.6880190155633432,-0.6753633857461632,-0.6627077559289832,-0.6500521261118032,-0.6373964962946232,-0.6247408664774433,-0.6120852366602634,-0.5994296068430833,-0.5867739770259033,-0.5741183472087233,-0.5614627173915434,-0.5488070875743634,-0.5361514577571834,-0.5234958279400035,-0.5108401981228234,-0.4981845683056435,-0.4855289384884635,-0.47287330867128347],\"type\":\"scatter\",\"xaxis\":\"x\",\"yaxis\":\"y\"},{\"mode\":\"lines\",\"x\":[0.0,0.0392156862745098,0.0784313725490196,0.11764705882352941,0.1568627450980392,0.19607843137254902,0.23529411764705882,0.27450980392156865,0.3137254901960784,0.3529411764705882,0.39215686274509803,0.43137254901960786,0.47058823529411764,0.5098039215686274,0.5490196078431373,0.5882352941176471,0.6274509803921569,0.6666666666666666,0.7058823529411764,0.7450980392156863,0.7843137254901961,0.8235294117647058,0.8627450980392157,0.9019607843137255,0.9411764705882353,0.9803921568627451,1.0196078431372548,1.0588235294117647,1.0980392156862746],\"y\":[-0.1087601484568576,-0.04865274010381533,0.011454668249226932,0.0715620766022692,0.13166948495531144,0.19177689330835368,0.25188430166139597,0.31199171001443826,0.3720991183674805,0.4322065267205227,0.49231393507356497,0.5524213434266073,0.6125287517796496,0.6726361601326918,0.7327435684857342,0.7928509768387764,0.8529583851918187,0.9130657935448608,0.973173201897903,1.0332806102509453,1.0933880186039875,1.15349542695703,1.213602835310072,1.2737102436631145,1.3338176520161567,1.3939250603691988,1.454032468722241,1.5141398770752834,1.5742472854283258],\"type\":\"scatter\",\"xaxis\":\"x\",\"yaxis\":\"y\"},{\"mode\":\"lines\",\"x\":[0.0,0.0392156862745098,0.0784313725490196,0.11764705882352941,0.1568627450980392,0.19607843137254902,0.23529411764705882,0.27450980392156865,0.3137254901960784,0.3529411764705882,0.39215686274509803,0.43137254901960786,0.47058823529411764,0.5098039215686274,0.5490196078431373,0.5882352941176471,0.6274509803921569,0.6666666666666666,0.7058823529411764,0.7450980392156863,0.7843137254901961,0.8235294117647058,0.8627450980392157,0.9019607843137255,0.9411764705882353,0.9803921568627451,1.0196078431372548,1.0588235294117647,1.0980392156862746],\"y\":[-0.40122047188583626,-0.3741560016226554,-0.3470915313594745,-0.32002706109629364,-0.2929625908331127,-0.26589812056993184,-0.23883365030675097,-0.21176918004357007,-0.1847047097803892,-0.15764023951720835,-0.13057576925402742,-0.10351129899084655,-0.07644682872766567,-0.0493823584644848,-0.02231788820130387,0.004746582061877003,0.031811052325057876,0.05887552258823875,0.08593999285141957,0.1130044631146005,0.14006893337778142,0.16713340364096224,0.19419787390414317,0.2212623441673241,0.24832681443050492,0.27539128469368573,0.30245575495686666,0.3295202252200476,0.3565846954832285],\"type\":\"scatter\",\"xaxis\":\"x\",\"yaxis\":\"y\"},{\"mode\":\"lines\",\"x\":[0.0,0.0392156862745098,0.0784313725490196,0.11764705882352941,0.1568627450980392,0.19607843137254902,0.23529411764705882,0.27450980392156865,0.3137254901960784,0.3529411764705882,0.39215686274509803,0.43137254901960786,0.47058823529411764,0.5098039215686274,0.5490196078431373,0.5882352941176471,0.6274509803921569,0.6666666666666666,0.7058823529411764,0.7450980392156863,0.7843137254901961,0.8235294117647058,0.8627450980392157,0.9019607843137255,0.9411764705882353,0.9803921568627451,1.0196078431372548,1.0588235294117647,1.0980392156862746],\"y\":[0.09767609854883172,0.09816991818733348,0.09866373782583523,0.09915755746433699,0.09965137710283875,0.10014519674134051,0.10063901637984228,0.10113283601834404,0.1016266556568458,0.10212047529534755,0.10261429493384931,0.10310811457235107,0.10360193421085283,0.10409575384935459,0.10458957348785634,0.1050833931263581,0.10557721276485987,0.10607103240336163,0.10656485204186339,0.10705867168036515,0.1075524913188669,0.10804631095736866,0.10854013059587042,0.10903395023437218,0.10952776987287394,0.1100215895113757,0.11051540914987745,0.11100922878837921,0.11150304842688098],\"type\":\"scatter\",\"xaxis\":\"x\",\"yaxis\":\"y\"},{\"mode\":\"lines\",\"x\":[0.0,0.0392156862745098,0.0784313725490196,0.11764705882352941,0.1568627450980392,0.19607843137254902,0.23529411764705882,0.27450980392156865,0.3137254901960784,0.3529411764705882,0.39215686274509803,0.43137254901960786,0.47058823529411764,0.5098039215686274,0.5490196078431373,0.5882352941176471,0.6274509803921569,0.6666666666666666,0.7058823529411764,0.7450980392156863,0.7843137254901961,0.8235294117647058,0.8627450980392157,0.9019607843137255,0.9411764705882353,0.9803921568627451,1.0196078431372548,1.0588235294117647,1.0980392156862746],\"y\":[0.49799829124544975,0.498959474549722,0.49992065785399425,0.5008818411582665,0.5018430244625388,0.5028042077668111,0.5037653910710833,0.5047265743753556,0.5056877576796278,0.5066489409839001,0.5076101242881724,0.5085713075924446,0.5095324908967169,0.5104936742009891,0.5114548575052614,0.5124160408095337,0.5133772241138059,0.5143384074180782,0.5152995907223505,0.5162607740266227,0.517221957330895,0.5181831406351672,0.5191443239394395,0.5201055072437119,0.521066690547984,0.5220278738522564,0.5229890571565285,0.5239502404608009,0.5249114237650732],\"type\":\"scatter\",\"xaxis\":\"x\",\"yaxis\":\"y\"},{\"mode\":\"lines\",\"x\":[0.0,0.0392156862745098,0.0784313725490196,0.11764705882352941,0.1568627450980392,0.19607843137254902,0.23529411764705882,0.27450980392156865,0.3137254901960784,0.3529411764705882,0.39215686274509803,0.43137254901960786,0.47058823529411764,0.5098039215686274,0.5490196078431373,0.5882352941176471,0.6274509803921569,0.6666666666666666,0.7058823529411764,0.7450980392156863,0.7843137254901961,0.8235294117647058,0.8627450980392157,0.9019607843137255,0.9411764705882353,0.9803921568627451,1.0196078431372548,1.0588235294117647,1.0980392156862746],\"y\":[2.1531824575115563,2.1908009212796036,2.228419385047651,2.2660378488156985,2.3036563125837457,2.341274776351793,2.37889324011984,2.416511703887888,2.454130167655935,2.4917486314239823,2.5293670951920295,2.566985558960077,2.6046040227281244,2.6422224864961716,2.679840950264219,2.717459414032266,2.7550778778003133,2.792696341568361,2.8303148053364082,2.8679332691044555,2.905551732872503,2.9431701966405504,2.9807886604085976,3.018407124176645,3.056025587944692,3.0936440517127393,3.131262515480787,3.168880979248834,3.206499443016882],\"type\":\"scatter\",\"xaxis\":\"x\",\"yaxis\":\"y\"},{\"mode\":\"lines\",\"x\":[0.0,0.0392156862745098,0.0784313725490196,0.11764705882352941,0.1568627450980392,0.19607843137254902,0.23529411764705882,0.27450980392156865,0.3137254901960784,0.3529411764705882,0.39215686274509803,0.43137254901960786,0.47058823529411764,0.5098039215686274,0.5490196078431373,0.5882352941176471,0.6274509803921569,0.6666666666666666,0.7058823529411764,0.7450980392156863,0.7843137254901961,0.8235294117647058,0.8627450980392157,0.9019607843137255,0.9411764705882353,0.9803921568627451,1.0196078431372548,1.0588235294117647,1.0980392156862746],\"y\":[0.18334200573835174,0.2175506581587705,0.25175931057918927,0.285967962999608,0.32017661542002673,0.3543852678404455,0.38859392026086426,0.422802572681283,0.4570112251017018,0.4912198775221205,0.5254285299425392,0.559637182362958,0.5938458347833768,0.6280544872037954,0.6622631396242142,0.696471792044633,0.7306804444650519,0.7648890968854705,0.7990977493058893,0.8333064017263081,0.8675150541467267,0.9017237065671455,0.9359323589875643,0.9701410114079831,1.0043496638284017,1.0385583162488206,1.0727669686692392,1.106975621089658,1.1411842735100768],\"type\":\"scatter\",\"xaxis\":\"x\",\"yaxis\":\"y\"},{\"mode\":\"lines\",\"x\":[0.0,0.0392156862745098,0.0784313725490196,0.11764705882352941,0.1568627450980392,0.19607843137254902,0.23529411764705882,0.27450980392156865,0.3137254901960784,0.3529411764705882,0.39215686274509803,0.43137254901960786,0.47058823529411764,0.5098039215686274,0.5490196078431373,0.5882352941176471,0.6274509803921569,0.6666666666666666,0.7058823529411764,0.7450980392156863,0.7843137254901961,0.8235294117647058,0.8627450980392157,0.9019607843137255,0.9411764705882353,0.9803921568627451,1.0196078431372548,1.0588235294117647,1.0980392156862746],\"y\":[-0.8397218421807761,-0.8714198141554879,-0.9031177861301997,-0.9348157581049115,-0.9665137300796234,-0.9982117020543352,-1.029909674029047,-1.061607646003759,-1.0933056179784706,-1.1250035899531825,-1.1567015619278942,-1.188399533902606,-1.2200975058773178,-1.2517954778520297,-1.2834934498267416,-1.3151914218014533,-1.3468893937761652,-1.3785873657508771,-1.4102853377255888,-1.4419833097003005,-1.4736812816750124,-1.5053792536497244,-1.537077225624436,-1.568775197599148,-1.6004731695738599,-1.6321711415485716,-1.6638691135232833,-1.6955670854979954,-1.727265057472707],\"type\":\"scatter\",\"xaxis\":\"x\",\"yaxis\":\"y\"},{\"mode\":\"lines\",\"x\":[0.0,0.0392156862745098,0.0784313725490196,0.11764705882352941,0.1568627450980392,0.19607843137254902,0.23529411764705882,0.27450980392156865,0.3137254901960784,0.3529411764705882,0.39215686274509803,0.43137254901960786,0.47058823529411764,0.5098039215686274,0.5490196078431373,0.5882352941176471,0.6274509803921569,0.6666666666666666,0.7058823529411764,0.7450980392156863,0.7843137254901961,0.8235294117647058,0.8627450980392157,0.9019607843137255,0.9411764705882353,0.9803921568627451,1.0196078431372548,1.0588235294117647,1.0980392156862746],\"y\":[-0.525755021680761,-0.6090450500850672,-0.6923350784893734,-0.7756251068936795,-0.8589151352979856,-0.9422051637022918,-1.025495192106598,-1.1087852205109041,-1.1920752489152102,-1.2753652773195163,-1.3586553057238224,-1.4419453341281288,-1.5252353625324349,-1.608525390936741,-1.6918154193410473,-1.7751054477453532,-1.8583954761496595,-1.9416855045539654,-2.0249755329582717,-2.108265561362578,-2.191555589766884,-2.2748456181711902,-2.3581356465754966,-2.4414256749798025,-2.524715703384109,-2.6080057317884147,-2.6912957601927205,-2.774585788597027,-2.857875817001333],\"type\":\"scatter\",\"xaxis\":\"x\",\"yaxis\":\"y\"},{\"mode\":\"lines\",\"x\":[0.0,0.0392156862745098,0.0784313725490196,0.11764705882352941,0.1568627450980392,0.19607843137254902,0.23529411764705882,0.27450980392156865,0.3137254901960784,0.3529411764705882,0.39215686274509803,0.43137254901960786,0.47058823529411764,0.5098039215686274,0.5490196078431373,0.5882352941176471,0.6274509803921569,0.6666666666666666,0.7058823529411764,0.7450980392156863,0.7843137254901961,0.8235294117647058,0.8627450980392157,0.9019607843137255,0.9411764705882353,0.9803921568627451,1.0196078431372548,1.0588235294117647,1.0980392156862746],\"y\":[0.34175597577715944,0.347653771325246,0.35355156687333256,0.35944936242141917,0.36534715796950573,0.3712449535175923,0.3771427490656789,0.38304054461376547,0.388938340161852,0.3948361357099386,0.40073393125802514,0.40663172680611176,0.4125295223541983,0.4184273179022849,0.4243251134503715,0.43022290899845805,0.4361207045465446,0.4420185000946312,0.44791629564271773,0.45381409119080435,0.4597118867388909,0.46560968228697747,0.4715074778350641,0.47740527338315064,0.4833030689312372,0.48920086447932376,0.4950986600274103,0.5009964555754969,0.5068942511235836],\"type\":\"scatter\",\"xaxis\":\"x\",\"yaxis\":\"y\"},{\"mode\":\"lines\",\"x\":[0.0,0.0392156862745098,0.0784313725490196,0.11764705882352941,0.1568627450980392,0.19607843137254902,0.23529411764705882,0.27450980392156865,0.3137254901960784,0.3529411764705882,0.39215686274509803,0.43137254901960786,0.47058823529411764,0.5098039215686274,0.5490196078431373,0.5882352941176471,0.6274509803921569,0.6666666666666666,0.7058823529411764,0.7450980392156863,0.7843137254901961,0.8235294117647058,0.8627450980392157,0.9019607843137255,0.9411764705882353,0.9803921568627451,1.0196078431372548,1.0588235294117647,1.0980392156862746],\"y\":[0.5193465142411723,0.48740238429077454,0.4564508527574105,0.4264919196410802,0.3975255849417836,0.36955184865952073,0.3425707107942916,0.3165821713460961,0.29158623031493447,0.2675828877008065,0.24457214350371226,0.2225539977236517,0.20152845036062494,0.18149550141463183,0.16245515088567247,0.14440739877374686,0.12735224507885495,0.11128968980099674,0.09621973294017239,0.08214237449638151,0.06905761446962455,0.05696545285990129,0.04586588966721172,0.035758924891555854,0.026644558532933793,0.018522790591345317,0.01139362106679076,0.005257049959269788,0.00011307726878262425],\"type\":\"scatter\",\"xaxis\":\"x2\",\"yaxis\":\"y2\"},{\"mode\":\"lines\",\"x\":[0.0,0.0392156862745098,0.0784313725490196,0.11764705882352941,0.1568627450980392,0.19607843137254902,0.23529411764705882,0.27450980392156865,0.3137254901960784,0.3529411764705882,0.39215686274509803,0.43137254901960786,0.47058823529411764,0.5098039215686274,0.5490196078431373,0.5882352941176471,0.6274509803921569,0.6666666666666666,0.7058823529411764,0.7450980392156863,0.7843137254901961,0.8235294117647058,0.8627450980392157,0.9019607843137255,0.9411764705882353,0.9803921568627451,1.0196078431372548,1.0588235294117647,1.0980392156862746],\"y\":[0.40171172209894146,0.399803771506635,0.402610127451822,0.4101307899345025,0.4223657589546766,0.43931503451234416,0.4609786166075052,0.48735650524015983,0.5184487004103079,0.5542552021179494,0.5947760103630846,0.6400111251457132,0.6899605464658354,0.744624274323451,0.8040023087185603,0.8680946496511629,0.936901297121259,1.0104222511288485,1.0886575116739317,1.1716070787565087,1.2592709523765788,1.3516491325341424,1.4487416192292,1.5505484124617506,1.6570695122317949,1.7683049185393325,1.8842546313843636,2.004918650766889,2.1302969766869078],\"type\":\"scatter\",\"xaxis\":\"x2\",\"yaxis\":\"y2\"},{\"mode\":\"lines\",\"x\":[0.0,0.0392156862745098,0.0784313725490196,0.11764705882352941,0.1568627450980392,0.19607843137254902,0.23529411764705882,0.27450980392156865,0.3137254901960784,0.3529411764705882,0.39215686274509803,0.43137254901960786,0.47058823529411764,0.5098039215686274,0.5490196078431373,0.5882352941176471,0.6274509803921569,0.6666666666666666,0.7058823529411764,0.7450980392156863,0.7843137254901961,0.8235294117647058,0.8627450980392157,0.9019607843137255,0.9411764705882353,0.9803921568627451,1.0196078431372548,1.0588235294117647,1.0980392156862746],\"y\":[0.22409248181041677,0.20941969743305774,0.1968696166057521,0.18644223932849988,0.17813756560130106,0.17195559542415562,0.1678963287970636,0.165959765720025,0.16614590619303976,0.16845475021610795,0.17288629778922954,0.17944054891240452,0.18811750358563292,0.1989171618089147,0.21183952358224997,0.22688458890563853,0.24405235777908055,0.263342830202576,0.28475600617612473,0.308291885699727,0.3339504687733825,0.36173175539709157,0.391635745570854,0.42366243929466985,0.4578118365685391,0.4940839373924617,0.5324787417664376,0.5729962496904673,0.6156364611645502],\"type\":\"scatter\",\"xaxis\":\"x2\",\"yaxis\":\"y2\"},{\"mode\":\"lines\",\"x\":[0.0,0.0392156862745098,0.0784313725490196,0.11764705882352941,0.1568627450980392,0.19607843137254902,0.23529411764705882,0.27450980392156865,0.3137254901960784,0.3529411764705882,0.39215686274509803,0.43137254901960786,0.47058823529411764,0.5098039215686274,0.5490196078431373,0.5882352941176471,0.6274509803921569,0.6666666666666666,0.7058823529411764,0.7450980392156863,0.7843137254901961,0.8235294117647058,0.8627450980392157,0.9019607843137255,0.9411764705882353,0.9803921568627451,1.0196078431372548,1.0588235294117647,1.0980392156862746],\"y\":[-0.7730097838554665,-0.7691599831422378,-0.7652714514769696,-0.7613441888596622,-0.7573781952903154,-0.7533734707689291,-0.7493300152955036,-0.7452478288700387,-0.7411269114925345,-0.7369672631629909,-0.7327688838814079,-0.7285317736477857,-0.7242559324621239,-0.719941360324423,-0.7155880572346826,-0.7111960231929029,-0.7067652581990838,-0.7022957622532254,-0.6977875353553277,-0.6932405775053905,-0.688654888703414,-0.6840304689493981,-0.679367318243343,-0.6746654365852485,-0.6699248239751145,-0.6651454804129413,-0.6603274058987287,-0.6554706004324767,-0.6505750640141854],\"type\":\"scatter\",\"xaxis\":\"x2\",\"yaxis\":\"y2\"},{\"mode\":\"lines\",\"x\":[0.0,0.0392156862745098,0.0784313725490196,0.11764705882352941,0.1568627450980392,0.19607843137254902,0.23529411764705882,0.27450980392156865,0.3137254901960784,0.3529411764705882,0.39215686274509803,0.43137254901960786,0.47058823529411764,0.5098039215686274,0.5490196078431373,0.5882352941176471,0.6274509803921569,0.6666666666666666,0.7058823529411764,0.7450980392156863,0.7843137254901961,0.8235294117647058,0.8627450980392157,0.9019607843137255,0.9411764705882353,0.9803921568627451,1.0196078431372548,1.0588235294117647,1.0980392156862746],\"y\":[1.4511436077950417,1.4707106460126778,1.4903530711561392,1.510070883225426,1.529864082220538,1.5497326681414751,1.569676640988238,1.5896960007608256,1.6097907474592388,1.629960881083477,1.6502064016335407,1.6705273091094295,1.6909236035111437,1.7113952848386833,1.7319423530920481,1.752564808271238,1.7732626503762532,1.7940358794070939,1.8148844953637597,1.8358084982462508,1.856807888054567,1.8778826647887088,1.899032828448676,1.920258379034468,1.9415593165460856,1.9629356409835284,1.9843873523467963,2.0059144506358897,2.0275169358508083],\"type\":\"scatter\",\"xaxis\":\"x2\",\"yaxis\":\"y2\"},{\"mode\":\"lines\",\"x\":[0.0,0.0392156862745098,0.0784313725490196,0.11764705882352941,0.1568627450980392,0.19607843137254902,0.23529411764705882,0.27450980392156865,0.3137254901960784,0.3529411764705882,0.39215686274509803,0.43137254901960786,0.47058823529411764,0.5098039215686274,0.5490196078431373,0.5882352941176471,0.6274509803921569,0.6666666666666666,0.7058823529411764,0.7450980392156863,0.7843137254901961,0.8235294117647058,0.8627450980392157,0.9019607843137255,0.9411764705882353,0.9803921568627451,1.0196078431372548,1.0588235294117647,1.0980392156862746],\"y\":[-0.7673475628880495,-0.6814338012692416,-0.59256957190392,-0.5007548747920849,-0.40598970993373645,-0.3082740773288744,-0.20760797697749878,-0.10399140887960967,0.0025756269647928542,0.11209313055570891,0.2245611018931386,0.33997954097708183,0.4583484478075386,0.5796678223845084,0.7039376647079925,0.8311579747779896,0.9613287525945002,1.0944499981575242,1.2305217114670621,1.3695438925231134,1.5115165413256784,1.6564396578747567,1.8043132421703487,1.9551372942124536,2.1089118140010727,2.2656368015362047,2.4253122568178505,2.58793817984601,2.7535145706206836],\"type\":\"scatter\",\"xaxis\":\"x2\",\"yaxis\":\"y2\"},{\"mode\":\"lines\",\"x\":[0.0,0.0392156862745098,0.0784313725490196,0.11764705882352941,0.1568627450980392,0.19607843137254902,0.23529411764705882,0.27450980392156865,0.3137254901960784,0.3529411764705882,0.39215686274509803,0.43137254901960786,0.47058823529411764,0.5098039215686274,0.5490196078431373,0.5882352941176471,0.6274509803921569,0.6666666666666666,0.7058823529411764,0.7450980392156863,0.7843137254901961,0.8235294117647058,0.8627450980392157,0.9019607843137255,0.9411764705882353,0.9803921568627451,1.0196078431372548,1.0588235294117647,1.0980392156862746],\"y\":[2.1898029332176723,2.1983343315768398,2.209548761498393,2.223446222982332,2.2400267160286567,2.2592902406373674,2.281236796808464,2.3058663845419463,2.333179003837814,2.363174654696068,2.3958533371167072,2.431215051099733,2.4692597966451437,2.5099875737529405,2.5533983824231234,2.599492222655692,2.648269094450646,2.699728997807986,2.7538719327277117,2.8106978992098233,2.8702068972543207,2.932398926861204,2.997273988030473,3.0648320807621277,3.1350732050561683,3.2079973609125942,3.2836045483314065,3.3618947673126045,3.4428680178561883],\"type\":\"scatter\",\"xaxis\":\"x2\",\"yaxis\":\"y2\"},{\"mode\":\"lines\",\"x\":[0.0,0.0392156862745098,0.0784313725490196,0.11764705882352941,0.1568627450980392,0.19607843137254902,0.23529411764705882,0.27450980392156865,0.3137254901960784,0.3529411764705882,0.39215686274509803,0.43137254901960786,0.47058823529411764,0.5098039215686274,0.5490196078431373,0.5882352941176471,0.6274509803921569,0.6666666666666666,0.7058823529411764,0.7450980392156863,0.7843137254901961,0.8235294117647058,0.8627450980392157,0.9019607843137255,0.9411764705882353,0.9803921568627451,1.0196078431372548,1.0588235294117647,1.0980392156862746],\"y\":[-0.5993926454440222,-0.6335659714893354,-0.6702254129836457,-0.7093709699269529,-0.7510026423192572,-0.7951204301605584,-0.8417243334508567,-0.890814352190152,-0.9423904863784444,-0.9964527360157336,-1.05300110110202,-1.1120355816373033,-1.1735561776215835,-1.237562889054861,-1.3040557159371353,-1.3730346582684065,-1.444499716048675,-1.5184508892779403,-1.5948881779562023,-1.6738115820834618,-1.7552211016597181,-1.8391167366849714,-1.925498487159222,-2.0143663530824694,-2.1057203344547135,-2.199560431275955,-2.295886643546193,-2.394698971265429,-2.4959974144336616],\"type\":\"scatter\",\"xaxis\":\"x2\",\"yaxis\":\"y2\"},{\"mode\":\"lines\",\"x\":[0.0,0.0392156862745098,0.0784313725490196,0.11764705882352941,0.1568627450980392,0.19607843137254902,0.23529411764705882,0.27450980392156865,0.3137254901960784,0.3529411764705882,0.39215686274509803,0.43137254901960786,0.47058823529411764,0.5098039215686274,0.5490196078431373,0.5882352941176471,0.6274509803921569,0.6666666666666666,0.7058823529411764,0.7450980392156863,0.7843137254901961,0.8235294117647058,0.8627450980392157,0.9019607843137255,0.9411764705882353,0.9803921568627451,1.0196078431372548,1.0588235294117647,1.0980392156862746],\"y\":[-0.759132661553698,-0.783016781164877,-0.8134334520234527,-0.8503826741294249,-0.8938644474827937,-0.9438787720835591,-1.000425647931721,-1.0635050750272796,-1.1331170533702344,-1.2092615829605862,-1.291938663798334,-1.381148295883479,-1.4768904792160202,-1.579165213795958,-1.6879724996232928,-1.8033123366980235,-1.925184725020151,-2.053589664589675,-2.1885271554065957,-2.329997197470913,-2.4779997907826266,-2.632534935341737,-2.793602631148244,-2.9612028782021476,-3.1353356765034475,-3.3160010260521435,-3.5031989268482366,-3.696929378891727,-3.897192382182614],\"type\":\"scatter\",\"xaxis\":\"x2\",\"yaxis\":\"y2\"},{\"mode\":\"lines\",\"x\":[0.0,0.0392156862745098,0.0784313725490196,0.11764705882352941,0.1568627450980392,0.19607843137254902,0.23529411764705882,0.27450980392156865,0.3137254901960784,0.3529411764705882,0.39215686274509803,0.43137254901960786,0.47058823529411764,0.5098039215686274,0.5490196078431373,0.5882352941176471,0.6274509803921569,0.6666666666666666,0.7058823529411764,0.7450980392156863,0.7843137254901961,0.8235294117647058,0.8627450980392157,0.9019607843137255,0.9411764705882353,0.9803921568627451,1.0196078431372548,1.0588235294117647,1.0980392156862746],\"y\":[1.8761708392158862,1.8898043204443273,1.9039003738726181,1.918458999500759,1.9334801973287499,1.9489639673565906,1.9649103095842813,1.9813192240118218,1.9981907106392123,2.015524769466453,2.033321400493543,2.0515806037204833,2.0703023791472734,2.089486726773914,2.109133646600404,2.129243138626744,2.149815202852934,2.170849839278974,2.1923470479048635,2.2143068287306034,2.2367291817561927,2.2596141069816325,2.282961604406922,2.306771674032061,2.3310443158570506,2.35577952988189,2.380977316106579,2.4066376745311184,2.4327606051555075],\"type\":\"scatter\",\"xaxis\":\"x2\",\"yaxis\":\"y2\"},{\"mode\":\"lines\",\"x\":[0.0,0.0392156862745098,0.0784313725490196,0.11764705882352941,0.1568627450980392,0.19607843137254902,0.23529411764705882,0.27450980392156865,0.3137254901960784,0.3529411764705882,0.39215686274509803,0.43137254901960786,0.47058823529411764,0.5098039215686274,0.5490196078431373,0.5882352941176471,0.6274509803921569,0.6666666666666666,0.7058823529411764,0.7450980392156863,0.7843137254901961,0.8235294117647058,0.8627450980392157,0.9019607843137255,0.9411764705882353,0.9803921568627451,1.0196078431372548,1.0588235294117647,1.0980392156862746],\"y\":[0.5193465142411723,0.5656215696823408,0.6071417274906863,0.6394393149880879,0.6586037592584709,0.6615178097156548,0.6460458391410515,0.6111628486546425,0.5570163839284534,0.4849176225238136,0.39726217073184794,0.2973853542733854,0.1893607441867785,0.07775408817462798,-0.03265248853603597,-0.13714935286199403,-0.23138385456236754,-0.311623252985903,-0.3749801974802801,-0.41958714106499584,-0.44470915171318304,-0.45078830674964643,-0.4394169886714233,-0.413241695486957,-0.3758031760188294,-0.3313225469774188,-0.2844463116448829,-0.23996568260347206,-0.20252716313534436],\"type\":\"scatter\",\"xaxis\":\"x3\",\"yaxis\":\"y3\"},{\"mode\":\"lines\",\"x\":[0.0,0.0392156862745098,0.0784313725490196,0.11764705882352941,0.1568627450980392,0.19607843137254902,0.23529411764705882,0.27450980392156865,0.3137254901960784,0.3529411764705882,0.39215686274509803,0.43137254901960786,0.47058823529411764,0.5098039215686274,0.5490196078431373,0.5882352941176471,0.6274509803921569,0.6666666666666666,0.7058823529411764,0.7450980392156863,0.7843137254901961,0.8235294117647058,0.8627450980392157,0.9019607843137255,0.9411764705882353,0.9803921568627451,1.0196078431372548,1.0588235294117647,1.0980392156862746],\"y\":[0.40171172209894146,0.7713026684632172,1.1183104184301844,1.421515939053178,1.6623461204549033,1.825995705478742,1.9023216179465903,1.8864556666160772,1.7790986137635396,1.586477844848308,1.3199711962699807,0.9954196643273064,0.6321705119692205,0.25190857555405655,-0.1226536321496553,-0.4691478969150914,-0.7669014802672929,-0.998185879568142,-1.1492877382147286,-1.2113372164126537,-1.1808437838533703,-1.059907069134545,-0.8560900293263782,-0.5819621010193008,-0.2543399293292733,0.10672846051843055,0.4791746867657351,0.8402430766134402,1.1678652483034688],\"type\":\"scatter\",\"xaxis\":\"x3\",\"yaxis\":\"y3\"},{\"mode\":\"lines\",\"x\":[0.0,0.0392156862745098,0.0784313725490196,0.11764705882352941,0.1568627450980392,0.19607843137254902,0.23529411764705882,0.27450980392156865,0.3137254901960784,0.3529411764705882,0.39215686274509803,0.43137254901960786,0.47058823529411764,0.5098039215686274,0.5490196078431373,0.5882352941176471,0.6274509803921569,0.6666666666666666,0.7058823529411764,0.7450980392156863,0.7843137254901961,0.8235294117647058,0.8627450980392157,0.9019607843137255,0.9411764705882353,0.9803921568627451,1.0196078431372548,1.0588235294117647,1.0980392156862746],\"y\":[0.22409248181041677,0.37669393408673346,0.5191268852732573,0.6418370740578817,0.7364616148372817,0.7963341672545324,0.816887624007534,0.7959299921169728,0.7337768027346507,0.6332320511283638,0.49941881818504075,0.33946980493129153,0.162096473682708,-0.02293717766323,-0.20540442093325764,-0.37523355472866216,-0.52311629690845,-0.641070061871161,-0.7229201576419239,-0.7646727751058172,-0.764756238552194,-0.7241159445187242,-0.6461572540471937,-0.5365397880087691,-0.40283555132161597,-0.2540715374531284,-0.10018444269771151,0.04857957117077663,0.18228380785793033],\"type\":\"scatter\",\"xaxis\":\"x3\",\"yaxis\":\"y3\"},{\"mode\":\"lines\",\"x\":[0.0,0.0392156862745098,0.0784313725490196,0.11764705882352941,0.1568627450980392,0.19607843137254902,0.23529411764705882,0.27450980392156865,0.3137254901960784,0.3529411764705882,0.39215686274509803,0.43137254901960786,0.47058823529411764,0.5098039215686274,0.5490196078431373,0.5882352941176471,0.6274509803921569,0.6666666666666666,0.7058823529411764,0.7450980392156863,0.7843137254901961,0.8235294117647058,0.8627450980392157,0.9019607843137255,0.9411764705882353,0.9803921568627451,1.0196078431372548,1.0588235294117647,1.0980392156862746],\"y\":[-0.7730097838554665,-0.7661078892984742,-0.7593915297060845,-0.7530350325940925,-0.7471909875792656,-0.7419810290314316,-0.7374884886121745,-0.7337533615318241,-0.7307698905936646,-0.7284869139638952,-0.7268109556599088,-0.7256118720724549,-0.7247307134371497,-0.7239893253742774,-0.7232011105050435,-0.7221823000767089,-0.7207630547213776,-0.7187977237945814,-0.7161736435667426,-0.7128179428028365,-0.7087019446315357,-0.7038428988039692,-0.6983029397030481,-0.6921853330459833,-0.6856282380021603,-0.6787963615326791,-0.6718710090805905,-0.6650391326111091,-0.6584820375672862],\"type\":\"scatter\",\"xaxis\":\"x3\",\"yaxis\":\"y3\"},{\"mode\":\"lines\",\"x\":[0.0,0.0392156862745098,0.0784313725490196,0.11764705882352941,0.1568627450980392,0.19607843137254902,0.23529411764705882,0.27450980392156865,0.3137254901960784,0.3529411764705882,0.39215686274509803,0.43137254901960786,0.47058823529411764,0.5098039215686274,0.5490196078431373,0.5882352941176471,0.6274509803921569,0.6666666666666666,0.7058823529411764,0.7450980392156863,0.7843137254901961,0.8235294117647058,0.8627450980392157,0.9019607843137255,0.9411764705882353,0.9803921568627451,1.0196078431372548,1.0588235294117647,1.0980392156862746],\"y\":[1.4511436077950417,1.4766513203337686,1.5017979028233224,1.52624403968248,1.5496927265383758,1.571907211110645,1.5927252944999588,1.6120691289954885,1.6299499205536825,1.6464672518898302,1.661803067071821,1.6762106809835033,1.6899994775534048,1.703516221069566,1.7171241094915959,1.7311808350682585,1.7460169775337357,1.7619160350659138,1.7790972992591796,1.797702608568319,1.817787780396669,1.8393192393829143,1.8621760455586545,1.8861571998636095,1.910993785720568,1.936365213244554,1.961918584836429,1.9872900123604147,2.0121265982173737],\"type\":\"scatter\",\"xaxis\":\"x3\",\"yaxis\":\"y3\"},{\"mode\":\"lines\",\"x\":[0.0,0.0392156862745098,0.0784313725490196,0.11764705882352941,0.1568627450980392,0.19607843137254902,0.23529411764705882,0.27450980392156865,0.3137254901960784,0.3529411764705882,0.39215686274509803,0.43137254901960786,0.47058823529411764,0.5098039215686274,0.5490196078431373,0.5882352941176471,0.6274509803921569,0.6666666666666666,0.7058823529411764,0.7450980392156863,0.7843137254901961,0.8235294117647058,0.8627450980392157,0.9019607843137255,0.9411764705882353,0.9803921568627451,1.0196078431372548,1.0588235294117647,1.0980392156862746],\"y\":[-0.7673475628880495,-0.44892971936061943,-0.14464566031527892,0.13222459695944233,0.37005699679181747,0.5595856093208951,0.6944623494410687,0.7716404400430772,0.7915584560218414,0.7581138316652534,0.6784274317399843,0.5624134076234166,0.4221803218072253,0.27129971652245555,0.1239863094233089,-0.005760662465964406,-0.10500308245367629,-0.16264549571275178,-0.170105342744453,-0.12183139856542768,-0.0156391007142217,0.14715748978920273,0.36182506578154916,0.6204969947142205,0.9126485114654332,1.2257324786485908,1.545937310598421,1.8590212777815798,2.1511727945327936],\"type\":\"scatter\",\"xaxis\":\"x3\",\"yaxis\":\"y3\"},{\"mode\":\"lines\",\"x\":[0.0,0.0392156862745098,0.0784313725490196,0.11764705882352941,0.1568627450980392,0.19607843137254902,0.23529411764705882,0.27450980392156865,0.3137254901960784,0.3529411764705882,0.39215686274509803,0.43137254901960786,0.47058823529411764,0.5098039215686274,0.5490196078431373,0.5882352941176471,0.6274509803921569,0.6666666666666666,0.7058823529411764,0.7450980392156863,0.7843137254901961,0.8235294117647058,0.8627450980392157,0.9019607843137255,0.9411764705882353,0.9803921568627451,1.0196078431372548,1.0588235294117647,1.0980392156862746],\"y\":[2.1898029332176723,2.409763787425496,2.61687197110126,2.799051193773308,2.9457310269775334,3.048485422911461,3.101541699355744,3.102129245054808,3.0506468816147967,2.9506387722346124,2.808580332530316,2.6334870757510256,2.4363700205322356,2.229570557895479,2.0260149556034497,1.838433532375872,1.678591668628325,1.5565791053977165,1.4802004621544254,1.4545037899601319,1.4814756382495857,1.5599210550713123,1.6855357695080655,1.851166196016496,2.047241554830646,2.262352005708877,2.48393787220317,2.6990483230814015,2.8951236818955524],\"type\":\"scatter\",\"xaxis\":\"x3\",\"yaxis\":\"y3\"},{\"mode\":\"lines\",\"x\":[0.0,0.0392156862745098,0.0784313725490196,0.11764705882352941,0.1568627450980392,0.19607843137254902,0.23529411764705882,0.27450980392156865,0.3137254901960784,0.3529411764705882,0.39215686274509803,0.43137254901960786,0.47058823529411764,0.5098039215686274,0.5490196078431373,0.5882352941176471,0.6274509803921569,0.6666666666666666,0.7058823529411764,0.7450980392156863,0.7843137254901961,0.8235294117647058,0.8627450980392157,0.9019607843137255,0.9411764705882353,0.9803921568627451,1.0196078431372548,1.0588235294117647,1.0980392156862746],\"y\":[-0.5993926454440222,-0.8294779555030345,-1.0476538928887684,-1.2427304840172138,-1.4049130973694766,-1.526394099256337,-1.6018244827377113,-1.6286369804201712,-1.6072011431395439,-1.5408010168258448,-1.4354367660047016,-1.2994622270914191,-1.1430802854797688,-0.9777265587416386,-0.8153786152490263,-0.6678324556466728,-0.5459899621280504,-0.45920035794490854,-0.41469545703148214,-0.41715281812681493,-0.46841319156316774,-0.5673693266659608,-0.7100328564796753,-0.8897752195723954,-1.0977280657656623,-1.3233189588298764,-1.554910016419719,-1.7805009094839337,-1.9884537556772013],\"type\":\"scatter\",\"xaxis\":\"x3\",\"yaxis\":\"y3\"},{\"mode\":\"lines\",\"x\":[0.0,0.0392156862745098,0.0784313725490196,0.11764705882352941,0.1568627450980392,0.19607843137254902,0.23529411764705882,0.27450980392156865,0.3137254901960784,0.3529411764705882,0.39215686274509803,0.43137254901960786,0.47058823529411764,0.5098039215686274,0.5490196078431373,0.5882352941176471,0.6274509803921569,0.6666666666666666,0.7058823529411764,0.7450980392156863,0.7843137254901961,0.8235294117647058,0.8627450980392157,0.9019607843137255,0.9411764705882353,0.9803921568627451,1.0196078431372548,1.0588235294117647,1.0980392156862746],\"y\":[-0.759132661553698,-1.29779781277986,-1.80516973209118,-2.2518454905432064,-2.6120885792492134,-2.865383552228482,-2.9976752850607538,-3.002217990530032,-2.87998270551014,-2.6395986343870934,-2.2968318922350304,-1.8736331348520783,-1.3968116046380703,-0.8964156880684307,-0.40391780901665153,0.04968669850846963,0.4357518984742077,0.7297116429005708,0.9125635177379274,0.9720167051210666,0.9032344240855292,0.709126101777316,0.400171626224501,-0.00621170311967667,-0.48672128699579287,-1.01357684613019,-1.5561985203387252,-2.083054079473124,-2.563563663349242],\"type\":\"scatter\",\"xaxis\":\"x3\",\"yaxis\":\"y3\"},{\"mode\":\"lines\",\"x\":[0.0,0.0392156862745098,0.0784313725490196,0.11764705882352941,0.1568627450980392,0.19607843137254902,0.23529411764705882,0.27450980392156865,0.3137254901960784,0.3529411764705882,0.39215686274509803,0.43137254901960786,0.47058823529411764,0.5098039215686274,0.5490196078431373,0.5882352941176471,0.6274509803921569,0.6666666666666666,0.7058823529411764,0.7450980392156863,0.7843137254901961,0.8235294117647058,0.8627450980392157,0.9019607843137255,0.9411764705882353,0.9803921568627451,1.0196078431372548,1.0588235294117647,1.0980392156862746],\"y\":[1.8761708392158862,1.926256142284999,1.9741255608429829,2.017697063381966,2.055148238858953,2.085026381490428,2.1063362430837604,2.1186001521268483,2.1218868680745895,2.1168074278564504,2.1044782355015363,2.0864536244939877,2.0646319665056905,2.041140998114205,2.0182092924748627,1.998031639845642,1.9826364688060658,1.9737633167409308,1.9727577511225012,1.9804900889896415,1.9973028244654274,2.022989940013331,2.0568093511588894,2.0975277329394024,2.1434950202894116,2.1927440820821325,2.2431095479039587,2.29235860969668,2.3383258970466887],\"type\":\"scatter\",\"xaxis\":\"x3\",\"yaxis\":\"y3\"},{\"marker\":{\"color\":\"mediumpurple\"},\"mode\":\"markers\",\"x\":[0.3745401188473625,0.9507143064099162,0.7319939418114051,0.5986584841970366,0.15601864044243652,0.15599452033620265,0.05808361216819946,0.8661761457749352,0.6011150117432088,0.7080725777960455],\"y\":[0.6621995859491285,-0.2504894367193866,-1.0399487832345553,-0.6275182299806012,0.854857342681687,0.6392487011533475,0.18441089666331875,-0.8014323286500792,-0.6947217251134631,-0.9340757540684701],\"type\":\"scatter\",\"xaxis\":\"x\",\"yaxis\":\"y\"},{\"marker\":{\"color\":\"mediumpurple\"},\"mode\":\"markers\",\"x\":[0.3745401188473625,0.9507143064099162,0.7319939418114051,0.5986584841970366,0.15601864044243652,0.15599452033620265,0.05808361216819946,0.8661761457749352,0.6011150117432088,0.7080725777960455],\"y\":[0.6621995859491285,-0.2504894367193866,-1.0399487832345553,-0.6275182299806012,0.854857342681687,0.6392487011533475,0.18441089666331875,-0.8014323286500792,-0.6947217251134631,-0.9340757540684701],\"type\":\"scatter\",\"xaxis\":\"x2\",\"yaxis\":\"y2\"},{\"marker\":{\"color\":\"mediumpurple\"},\"mode\":\"markers\",\"x\":[0.3745401188473625,0.9507143064099162,0.7319939418114051,0.5986584841970366,0.15601864044243652,0.15599452033620265,0.05808361216819946,0.8661761457749352,0.6011150117432088,0.7080725777960455],\"y\":[0.6621995859491285,-0.2504894367193866,-1.0399487832345553,-0.6275182299806012,0.854857342681687,0.6392487011533475,0.18441089666331875,-0.8014323286500792,-0.6947217251134631,-0.9340757540684701],\"type\":\"scatter\",\"xaxis\":\"x3\",\"yaxis\":\"y3\"}],                        {\"template\":{\"data\":{\"histogram2dcontour\":[{\"type\":\"histogram2dcontour\",\"colorbar\":{\"outlinewidth\":0,\"ticks\":\"\"},\"colorscale\":[[0.0,\"#0d0887\"],[0.1111111111111111,\"#46039f\"],[0.2222222222222222,\"#7201a8\"],[0.3333333333333333,\"#9c179e\"],[0.4444444444444444,\"#bd3786\"],[0.5555555555555556,\"#d8576b\"],[0.6666666666666666,\"#ed7953\"],[0.7777777777777778,\"#fb9f3a\"],[0.8888888888888888,\"#fdca26\"],[1.0,\"#f0f921\"]]}],\"choropleth\":[{\"type\":\"choropleth\",\"colorbar\":{\"outlinewidth\":0,\"ticks\":\"\"}}],\"histogram2d\":[{\"type\":\"histogram2d\",\"colorbar\":{\"outlinewidth\":0,\"ticks\":\"\"},\"colorscale\":[[0.0,\"#0d0887\"],[0.1111111111111111,\"#46039f\"],[0.2222222222222222,\"#7201a8\"],[0.3333333333333333,\"#9c179e\"],[0.4444444444444444,\"#bd3786\"],[0.5555555555555556,\"#d8576b\"],[0.6666666666666666,\"#ed7953\"],[0.7777777777777778,\"#fb9f3a\"],[0.8888888888888888,\"#fdca26\"],[1.0,\"#f0f921\"]]}],\"heatmap\":[{\"type\":\"heatmap\",\"colorbar\":{\"outlinewidth\":0,\"ticks\":\"\"},\"colorscale\":[[0.0,\"#0d0887\"],[0.1111111111111111,\"#46039f\"],[0.2222222222222222,\"#7201a8\"],[0.3333333333333333,\"#9c179e\"],[0.4444444444444444,\"#bd3786\"],[0.5555555555555556,\"#d8576b\"],[0.6666666666666666,\"#ed7953\"],[0.7777777777777778,\"#fb9f3a\"],[0.8888888888888888,\"#fdca26\"],[1.0,\"#f0f921\"]]}],\"heatmapgl\":[{\"type\":\"heatmapgl\",\"colorbar\":{\"outlinewidth\":0,\"ticks\":\"\"},\"colorscale\":[[0.0,\"#0d0887\"],[0.1111111111111111,\"#46039f\"],[0.2222222222222222,\"#7201a8\"],[0.3333333333333333,\"#9c179e\"],[0.4444444444444444,\"#bd3786\"],[0.5555555555555556,\"#d8576b\"],[0.6666666666666666,\"#ed7953\"],[0.7777777777777778,\"#fb9f3a\"],[0.8888888888888888,\"#fdca26\"],[1.0,\"#f0f921\"]]}],\"contourcarpet\":[{\"type\":\"contourcarpet\",\"colorbar\":{\"outlinewidth\":0,\"ticks\":\"\"}}],\"contour\":[{\"type\":\"contour\",\"colorbar\":{\"outlinewidth\":0,\"ticks\":\"\"},\"colorscale\":[[0.0,\"#0d0887\"],[0.1111111111111111,\"#46039f\"],[0.2222222222222222,\"#7201a8\"],[0.3333333333333333,\"#9c179e\"],[0.4444444444444444,\"#bd3786\"],[0.5555555555555556,\"#d8576b\"],[0.6666666666666666,\"#ed7953\"],[0.7777777777777778,\"#fb9f3a\"],[0.8888888888888888,\"#fdca26\"],[1.0,\"#f0f921\"]]}],\"surface\":[{\"type\":\"surface\",\"colorbar\":{\"outlinewidth\":0,\"ticks\":\"\"},\"colorscale\":[[0.0,\"#0d0887\"],[0.1111111111111111,\"#46039f\"],[0.2222222222222222,\"#7201a8\"],[0.3333333333333333,\"#9c179e\"],[0.4444444444444444,\"#bd3786\"],[0.5555555555555556,\"#d8576b\"],[0.6666666666666666,\"#ed7953\"],[0.7777777777777778,\"#fb9f3a\"],[0.8888888888888888,\"#fdca26\"],[1.0,\"#f0f921\"]]}],\"mesh3d\":[{\"type\":\"mesh3d\",\"colorbar\":{\"outlinewidth\":0,\"ticks\":\"\"}}],\"scatter\":[{\"fillpattern\":{\"fillmode\":\"overlay\",\"size\":10,\"solidity\":0.2},\"type\":\"scatter\"}],\"parcoords\":[{\"type\":\"parcoords\",\"line\":{\"colorbar\":{\"outlinewidth\":0,\"ticks\":\"\"}}}],\"scatterpolargl\":[{\"type\":\"scatterpolargl\",\"marker\":{\"colorbar\":{\"outlinewidth\":0,\"ticks\":\"\"}}}],\"bar\":[{\"error_x\":{\"color\":\"#2a3f5f\"},\"error_y\":{\"color\":\"#2a3f5f\"},\"marker\":{\"line\":{\"color\":\"#E5ECF6\",\"width\":0.5},\"pattern\":{\"fillmode\":\"overlay\",\"size\":10,\"solidity\":0.2}},\"type\":\"bar\"}],\"scattergeo\":[{\"type\":\"scattergeo\",\"marker\":{\"colorbar\":{\"outlinewidth\":0,\"ticks\":\"\"}}}],\"scatterpolar\":[{\"type\":\"scatterpolar\",\"marker\":{\"colorbar\":{\"outlinewidth\":0,\"ticks\":\"\"}}}],\"histogram\":[{\"marker\":{\"pattern\":{\"fillmode\":\"overlay\",\"size\":10,\"solidity\":0.2}},\"type\":\"histogram\"}],\"scattergl\":[{\"type\":\"scattergl\",\"marker\":{\"colorbar\":{\"outlinewidth\":0,\"ticks\":\"\"}}}],\"scatter3d\":[{\"type\":\"scatter3d\",\"line\":{\"colorbar\":{\"outlinewidth\":0,\"ticks\":\"\"}},\"marker\":{\"colorbar\":{\"outlinewidth\":0,\"ticks\":\"\"}}}],\"scattermapbox\":[{\"type\":\"scattermapbox\",\"marker\":{\"colorbar\":{\"outlinewidth\":0,\"ticks\":\"\"}}}],\"scatterternary\":[{\"type\":\"scatterternary\",\"marker\":{\"colorbar\":{\"outlinewidth\":0,\"ticks\":\"\"}}}],\"scattercarpet\":[{\"type\":\"scattercarpet\",\"marker\":{\"colorbar\":{\"outlinewidth\":0,\"ticks\":\"\"}}}],\"carpet\":[{\"aaxis\":{\"endlinecolor\":\"#2a3f5f\",\"gridcolor\":\"white\",\"linecolor\":\"white\",\"minorgridcolor\":\"white\",\"startlinecolor\":\"#2a3f5f\"},\"baxis\":{\"endlinecolor\":\"#2a3f5f\",\"gridcolor\":\"white\",\"linecolor\":\"white\",\"minorgridcolor\":\"white\",\"startlinecolor\":\"#2a3f5f\"},\"type\":\"carpet\"}],\"table\":[{\"cells\":{\"fill\":{\"color\":\"#EBF0F8\"},\"line\":{\"color\":\"white\"}},\"header\":{\"fill\":{\"color\":\"#C8D4E3\"},\"line\":{\"color\":\"white\"}},\"type\":\"table\"}],\"barpolar\":[{\"marker\":{\"line\":{\"color\":\"#E5ECF6\",\"width\":0.5},\"pattern\":{\"fillmode\":\"overlay\",\"size\":10,\"solidity\":0.2}},\"type\":\"barpolar\"}],\"pie\":[{\"automargin\":true,\"type\":\"pie\"}]},\"layout\":{\"autotypenumbers\":\"strict\",\"colorway\":[\"#636efa\",\"#EF553B\",\"#00cc96\",\"#ab63fa\",\"#FFA15A\",\"#19d3f3\",\"#FF6692\",\"#B6E880\",\"#FF97FF\",\"#FECB52\"],\"font\":{\"color\":\"#2a3f5f\"},\"hovermode\":\"closest\",\"hoverlabel\":{\"align\":\"left\"},\"paper_bgcolor\":\"white\",\"plot_bgcolor\":\"#E5ECF6\",\"polar\":{\"bgcolor\":\"#E5ECF6\",\"angularaxis\":{\"gridcolor\":\"white\",\"linecolor\":\"white\",\"ticks\":\"\"},\"radialaxis\":{\"gridcolor\":\"white\",\"linecolor\":\"white\",\"ticks\":\"\"}},\"ternary\":{\"bgcolor\":\"#E5ECF6\",\"aaxis\":{\"gridcolor\":\"white\",\"linecolor\":\"white\",\"ticks\":\"\"},\"baxis\":{\"gridcolor\":\"white\",\"linecolor\":\"white\",\"ticks\":\"\"},\"caxis\":{\"gridcolor\":\"white\",\"linecolor\":\"white\",\"ticks\":\"\"}},\"coloraxis\":{\"colorbar\":{\"outlinewidth\":0,\"ticks\":\"\"}},\"colorscale\":{\"sequential\":[[0.0,\"#0d0887\"],[0.1111111111111111,\"#46039f\"],[0.2222222222222222,\"#7201a8\"],[0.3333333333333333,\"#9c179e\"],[0.4444444444444444,\"#bd3786\"],[0.5555555555555556,\"#d8576b\"],[0.6666666666666666,\"#ed7953\"],[0.7777777777777778,\"#fb9f3a\"],[0.8888888888888888,\"#fdca26\"],[1.0,\"#f0f921\"]],\"sequentialminus\":[[0.0,\"#0d0887\"],[0.1111111111111111,\"#46039f\"],[0.2222222222222222,\"#7201a8\"],[0.3333333333333333,\"#9c179e\"],[0.4444444444444444,\"#bd3786\"],[0.5555555555555556,\"#d8576b\"],[0.6666666666666666,\"#ed7953\"],[0.7777777777777778,\"#fb9f3a\"],[0.8888888888888888,\"#fdca26\"],[1.0,\"#f0f921\"]],\"diverging\":[[0,\"#8e0152\"],[0.1,\"#c51b7d\"],[0.2,\"#de77ae\"],[0.3,\"#f1b6da\"],[0.4,\"#fde0ef\"],[0.5,\"#f7f7f7\"],[0.6,\"#e6f5d0\"],[0.7,\"#b8e186\"],[0.8,\"#7fbc41\"],[0.9,\"#4d9221\"],[1,\"#276419\"]]},\"xaxis\":{\"gridcolor\":\"white\",\"linecolor\":\"white\",\"ticks\":\"\",\"title\":{\"standoff\":15},\"zerolinecolor\":\"white\",\"automargin\":true,\"zerolinewidth\":2},\"yaxis\":{\"gridcolor\":\"white\",\"linecolor\":\"white\",\"ticks\":\"\",\"title\":{\"standoff\":15},\"zerolinecolor\":\"white\",\"automargin\":true,\"zerolinewidth\":2},\"scene\":{\"xaxis\":{\"backgroundcolor\":\"#E5ECF6\",\"gridcolor\":\"white\",\"linecolor\":\"white\",\"showbackground\":true,\"ticks\":\"\",\"zerolinecolor\":\"white\",\"gridwidth\":2},\"yaxis\":{\"backgroundcolor\":\"#E5ECF6\",\"gridcolor\":\"white\",\"linecolor\":\"white\",\"showbackground\":true,\"ticks\":\"\",\"zerolinecolor\":\"white\",\"gridwidth\":2},\"zaxis\":{\"backgroundcolor\":\"#E5ECF6\",\"gridcolor\":\"white\",\"linecolor\":\"white\",\"showbackground\":true,\"ticks\":\"\",\"zerolinecolor\":\"white\",\"gridwidth\":2}},\"shapedefaults\":{\"line\":{\"color\":\"#2a3f5f\"}},\"annotationdefaults\":{\"arrowcolor\":\"#2a3f5f\",\"arrowhead\":0,\"arrowwidth\":1},\"geo\":{\"bgcolor\":\"white\",\"landcolor\":\"#E5ECF6\",\"subunitcolor\":\"white\",\"showland\":true,\"showlakes\":true,\"lakecolor\":\"white\"},\"title\":{\"x\":0.05},\"mapbox\":{\"style\":\"light\"}}},\"xaxis\":{\"anchor\":\"y\",\"domain\":[0.0,0.2888888888888889],\"title\":{\"text\":\"x\"},\"range\":[0,1]},\"yaxis\":{\"anchor\":\"x\",\"domain\":[0.0,1.0],\"title\":{\"text\":\"t\"},\"range\":[-2,2]},\"xaxis2\":{\"anchor\":\"y2\",\"domain\":[0.35555555555555557,0.6444444444444445],\"title\":{\"text\":\"x\"},\"range\":[0,1]},\"yaxis2\":{\"anchor\":\"x2\",\"domain\":[0.0,1.0],\"title\":{\"text\":\"t\"},\"range\":[-2,2]},\"xaxis3\":{\"anchor\":\"y3\",\"domain\":[0.7111111111111111,1.0],\"title\":{\"text\":\"x\"},\"range\":[0,1]},\"yaxis3\":{\"anchor\":\"x3\",\"domain\":[0.0,1.0],\"title\":{\"text\":\"t\"},\"range\":[-2,2]},\"annotations\":[{\"font\":{\"size\":16},\"showarrow\":false,\"text\":\"f1\",\"x\":0.14444444444444446,\"xanchor\":\"center\",\"xref\":\"paper\",\"y\":1.0,\"yanchor\":\"bottom\",\"yref\":\"paper\"},{\"font\":{\"size\":16},\"showarrow\":false,\"text\":\"f2\",\"x\":0.5,\"xanchor\":\"center\",\"xref\":\"paper\",\"y\":1.0,\"yanchor\":\"bottom\",\"yref\":\"paper\"},{\"font\":{\"size\":16},\"showarrow\":false,\"text\":\"f3\",\"x\":0.8555555555555556,\"xanchor\":\"center\",\"xref\":\"paper\",\"y\":1.0,\"yanchor\":\"bottom\",\"yref\":\"paper\"}],\"showlegend\":false},                        {\"responsive\": true}                    ).then(function(){\n",
              "                            \n",
              "var gd = document.getElementById('6d5d845c-3627-4454-a0e6-4fe1f98ee5bf');\n",
              "var x = new MutationObserver(function (mutations, observer) {{\n",
              "        var display = window.getComputedStyle(gd).display;\n",
              "        if (!display || display === 'none') {{\n",
              "            console.log([gd, 'removed!']);\n",
              "            Plotly.purge(gd);\n",
              "            observer.disconnect();\n",
              "        }}\n",
              "}});\n",
              "\n",
              "// Listen for the removal of the full notebook cells\n",
              "var notebookContainer = gd.closest('#notebook-container');\n",
              "if (notebookContainer) {{\n",
              "    x.observe(notebookContainer, {childList: true});\n",
              "}}\n",
              "\n",
              "// Listen for the clearing of the current output cell\n",
              "var outputEl = gd.closest('.output');\n",
              "if (outputEl) {{\n",
              "    x.observe(outputEl, {childList: true});\n",
              "}}\n",
              "\n",
              "                        })                };                            </script>        </div>\n",
              "</body>\n",
              "</html>"
            ]
          },
          "metadata": {}
        }
      ]
    },
    {
      "cell_type": "markdown",
      "metadata": {
        "id": "CENyGHlSp_FX"
      },
      "source": [
        "###Loss landscapes\n",
        "\n",
        "Let's focus now on the simple $f(x) = ax + b$.\n",
        "Given our dataset $(\\mathbf{x}, \\mathbf{t})$ we will choose the parameters $a$ and $b$ that minimize a global error $E$, also known as *loss*.\n",
        "\n",
        "The standard choice for $E$ in a regression problem is the Mean Squared Error, defined as:\n",
        "\n",
        "$$E(\\theta) = \\frac{1}{N} \\sum_{i=1}^N(f_\\theta(x_i) - t_i)^2$$\n",
        "\n",
        "Notice that apart from normalization factors, the MSE corresponds to the squared $L_2$ norm of the residual vector, namely $E=\\|f_\\theta(\\mathbf{x}) - \\mathbf{t}\\|_2^2$ (here $f_\\theta$ operates element-wise).\n",
        "\n",
        "Let's now compute the MSE **loss landscape** for our dataset, so that we can visualize it. The landscape is simply defined as the value of the loss function computed over a subset of the parameter domain.\n",
        "\n",
        "\n",
        "\n"
      ]
    },
    {
      "cell_type": "code",
      "metadata": {
        "id": "OXuXlT5Sx-UE"
      },
      "source": [
        "resolution = 51\n",
        "\n",
        "mse_losses = np.empty((resolution, resolution))\n",
        "a_range = np.linspace(-5, 5, resolution)\n",
        "b_range = np.linspace(-5, 5, resolution)\n",
        "\n",
        "for i, a in enumerate(a_range):\n",
        "    for j, b in enumerate(b_range):\n",
        "        y_pred = a * x + b\n",
        "        residuals = t - y_pred\n",
        "        loss = np.einsum('i,i->', residuals, residuals)\n",
        "        mse_losses[i][j] = loss\n",
        "\n",
        "# let's ignore the division by N for this exercise"
      ],
      "execution_count": 11,
      "outputs": []
    },
    {
      "cell_type": "markdown",
      "metadata": {
        "id": "VDZ63eJt6Uj5"
      },
      "source": [
        ">**EXERCISE** Vectorize the piece of code above. i.e. the two `for` cycles should disappear."
      ]
    },
    {
      "cell_type": "code",
      "metadata": {
        "id": "uAiwop63Qc1Q",
        "cellView": "both",
        "colab": {
          "base_uri": "https://localhost:8080/"
        },
        "outputId": "9a86335a-5c9d-4e98-c482-ef3b3bc80301"
      },
      "source": [
        "# ✏️ your code here\n",
        "#Einsum version\n",
        "inter=np.einsum('i,j->ij',a_range,x)\n",
        "print(inter.shape)\n",
        "y_pred=inter[:,:,None]+b_range[None,None,:]\n",
        "print(y_pred.shape)\n",
        "r=t[None,:,None]-y_pred\n",
        "print(r.shape)\n",
        "loss=np.einsum('ijk,ijk->ik',r,r)\n",
        "print(loss.shape)\n",
        "np.allclose(loss, mse_losses)\n",
        "#y_pred=np.einsum('ij,ij->ij',inter,b_range)\n",
        "#r=np.einsum('ij,j->ij',)\n"
      ],
      "execution_count": 12,
      "outputs": [
        {
          "output_type": "stream",
          "name": "stdout",
          "text": [
            "(51, 10)\n",
            "(51, 10, 51)\n",
            "(51, 10, 51)\n",
            "(51, 51)\n"
          ]
        },
        {
          "output_type": "execute_result",
          "data": {
            "text/plain": [
              "True"
            ]
          },
          "metadata": {},
          "execution_count": 12
        }
      ]
    },
    {
      "cell_type": "code",
      "source": [
        "# @title 👀 Solution (without einsum)\n",
        "\n",
        "Y_pred = x[None, None, :] * a_range[:, None, None] + b_range[None, :, None] # let broadcasting do the job!\n",
        "R = t[None, None, :] - Y_pred\n",
        "L = np.sum(R**2, axis=2)\n",
        "np.allclose(L, mse_losses)"
      ],
      "metadata": {
        "id": "J14M4HzfaTrb",
        "colab": {
          "base_uri": "https://localhost:8080/"
        },
        "outputId": "2bf06668-6839-4a32-b670-963ee7282d84"
      },
      "execution_count": null,
      "outputs": [
        {
          "output_type": "execute_result",
          "data": {
            "text/plain": [
              "True"
            ]
          },
          "metadata": {},
          "execution_count": 40
        }
      ]
    },
    {
      "cell_type": "code",
      "metadata": {
        "id": "AutBpNSt0nAI",
        "colab": {
          "base_uri": "https://localhost:8080/"
        },
        "outputId": "22c39d3f-6cc2-465a-cea1-7baa43882333"
      },
      "source": [
        "# @title 👀 Solution (with einsum)\n",
        "\n",
        "a_times_x = np.einsum('i,j->ij', a_range, x)\n",
        "Y_pred = a_times_x[:, :, None] + b_range[None, None, :]\n",
        "residuals = t[None, :, None] - Y_pred\n",
        "L = np.einsum('ijk->ik', residuals ** 2)\n",
        "np.allclose(L, mse_losses)"
      ],
      "execution_count": null,
      "outputs": [
        {
          "output_type": "execute_result",
          "data": {
            "text/plain": [
              "True"
            ]
          },
          "metadata": {},
          "execution_count": 34
        }
      ]
    },
    {
      "cell_type": "code",
      "metadata": {
        "id": "6B6SVoGH3kvN",
        "colab": {
          "base_uri": "https://localhost:8080/",
          "height": 542
        },
        "outputId": "723dd85e-26a5-4c1f-e9b7-5c1939f5de46"
      },
      "source": [
        "# @title MSE loss landscape plot\n",
        "fig = go.Figure(data=[go.Surface(z=mse_losses, x=a_range, y=b_range)])\n",
        "fig.update_traces(contours_z=dict(show=True, usecolormap=True,\n",
        "                                  highlightcolor=\"limegreen\", project_z=True))\n",
        "fig.update_layout(\n",
        "    title=\"MSE loss landscape\",\n",
        "    scene = dict(\n",
        "                xaxis_title='a',\n",
        "                yaxis_title='b',\n",
        "                zaxis_title='loss')\n",
        ")\n",
        "\n",
        "\n",
        "fig.show()"
      ],
      "execution_count": 13,
      "outputs": [
        {
          "output_type": "display_data",
          "data": {
            "text/html": [
              "<html>\n",
              "<head><meta charset=\"utf-8\" /></head>\n",
              "<body>\n",
              "    <div>            <script src=\"https://cdnjs.cloudflare.com/ajax/libs/mathjax/2.7.5/MathJax.js?config=TeX-AMS-MML_SVG\"></script><script type=\"text/javascript\">if (window.MathJax && window.MathJax.Hub && window.MathJax.Hub.Config) {window.MathJax.Hub.Config({SVG: {font: \"STIX-Web\"}});}</script>                <script type=\"text/javascript\">window.PlotlyConfig = {MathJaxConfig: 'local'};</script>\n",
              "        <script charset=\"utf-8\" src=\"https://cdn.plot.ly/plotly-2.35.2.min.js\"></script>                <div id=\"62b4cad9-4906-49b0-b84d-98ce89c6dfa1\" class=\"plotly-graph-div\" style=\"height:525px; width:100%;\"></div>            <script type=\"text/javascript\">                                    window.PLOTLYENV=window.PLOTLYENV || {};                                    if (document.getElementById(\"62b4cad9-4906-49b0-b84d-98ce89c6dfa1\")) {                    Plotly.newPlot(                        \"62b4cad9-4906-49b0-b84d-98ce89c6dfa1\",                        [{\"x\":[-5.0,-4.8,-4.6,-4.4,-4.2,-4.0,-3.8,-3.5999999999999996,-3.4,-3.2,-3.0,-2.8,-2.5999999999999996,-2.4,-2.1999999999999997,-2.0,-1.7999999999999998,-1.5999999999999996,-1.4,-1.1999999999999997,-1.0,-0.7999999999999998,-0.5999999999999996,-0.39999999999999947,-0.1999999999999993,0.0,0.20000000000000018,0.40000000000000036,0.6000000000000005,0.8000000000000007,1.0,1.2000000000000002,1.4000000000000004,1.6000000000000005,1.8000000000000007,2.0,2.2,2.4000000000000004,2.6000000000000005,2.8000000000000007,3.0,3.200000000000001,3.4000000000000004,3.5999999999999996,3.8000000000000007,4.0,4.200000000000001,4.4,4.600000000000001,4.800000000000001,5.0],\"y\":[-5.0,-4.8,-4.6,-4.4,-4.2,-4.0,-3.8,-3.5999999999999996,-3.4,-3.2,-3.0,-2.8,-2.5999999999999996,-2.4,-2.1999999999999997,-2.0,-1.7999999999999998,-1.5999999999999996,-1.4,-1.1999999999999997,-1.0,-0.7999999999999998,-0.5999999999999996,-0.39999999999999947,-0.1999999999999993,0.0,0.20000000000000018,0.40000000000000036,0.6000000000000005,0.8000000000000007,1.0,1.2000000000000002,1.4000000000000004,1.6000000000000005,1.8000000000000007,2.0,2.2,2.4000000000000004,2.6000000000000005,2.8000000000000007,3.0,3.200000000000001,3.4000000000000004,3.5999999999999996,3.8000000000000007,4.0,4.200000000000001,4.4,4.600000000000001,4.800000000000001,5.0],\"z\":[[558.6610318169367,529.4612849904108,501.06153816388496,473.46179133735916,446.66204451083325,420.66229768430736,395.4625508577815,371.0628040312556,347.4630572047297,324.66331037820396,302.66356355167807,281.4638167251521,261.06406989862626,241.4643230721004,222.66457624557455,204.6648294190487,187.46508259252283,171.06533576599693,155.4655889394711,140.6658421129452,126.66609528641935,113.4663484598935,101.0666016333676,89.46685480684172,78.66710798031585,68.66736115379001,59.467614327264144,51.067867500738274,43.46812067421239,36.668373847686524,30.668627021160678,25.468880194634806,21.069133368108936,17.46938654158307,14.669639715057205,12.669892888531347,11.47014606200548,11.070399235479615,11.470652408953748,12.670905582427885,14.671158755902013,17.47141192937616,21.071665102850282,25.471918276324402,30.67217144979856,36.672424623272676,43.47267779674685,51.07293097022095,59.473184143695136,68.67343731716925,78.67369049064334],[542.2582703799137,513.47463294215,485.4909955043863,458.3073580666226,431.92372062885886,406.3400831910951,381.55644575333133,357.5728083155676,334.3891708778039,312.0055334400402,290.42189600227647,269.63825856451274,249.65462112674896,230.47098368898526,212.0873462512215,194.50370881345785,177.72007137569406,161.73643393793034,146.55279650016666,132.1691590624029,118.58552162463918,105.80188418687545,93.81824674911172,82.63460931134797,72.25097187358425,62.66733443582055,53.88369699805682,45.90005956029309,38.71642212252935,32.33278468476563,26.749147247001922,21.96550980923819,17.98187237147446,14.798234933710733,12.414597495947007,10.830960058183287,10.047322620419559,10.063685182655835,10.88004774489211,12.496410307128382,14.91277286936465,18.129135431600943,22.145497993837203,26.96186055607346,32.578223118309765,38.99458568054602,46.21094824278233,54.227310805018575,63.0436733672549,72.66003592949114,83.07639849172737],[526.1437779081236,497.776249859122,470.20872181012044,443.44119376111894,417.47366571211734,392.3061376631157,367.93860961411406,344.3710815651125,321.6035535161109,299.6360254671094,278.46849741810775,258.1009693691061,238.53344132010454,219.765913271103,201.79838522210136,184.63085717309983,168.26332912409822,152.6958010750966,137.92827302609507,123.96074497709344,110.79321692809188,98.42568887909027,86.85816083008868,76.09063278108708,66.1231047320855,56.95557668308394,48.58804863408235,41.02052058508075,34.25299253607916,28.285464487077576,23.117936438076004,18.750408389074416,15.182880340072828,12.415352291071239,10.447824242069656,9.280296193068075,8.912768144066488,9.345240095064902,10.577712046063317,12.610183997061732,15.442655948060136,19.07512789905857,23.50759985005697,28.740071801055365,34.772543752053814,41.605015703052196,49.23748765405065,57.669959605049044,66.90243155604752,76.9349035070459,87.76737545804427],[510.31755440156644,482.366135741327,455.21471708108754,428.8632984208482,403.31187976060863,378.56046110036914,354.60904244012966,331.45762377989024,309.1062051196508,287.5547864594114,266.80336779917195,246.8519491389324,227.700530478693,209.3491118184536,191.7976931582141,175.0462744979747,159.09485583773522,143.94343717749575,129.59201851725632,116.04059985701687,103.28918119677745,91.33776253653798,80.18634387629854,69.83492521605906,60.28350655581961,51.532087895580204,43.58066923534074,36.42925057510129,30.07783191486184,24.526413254622387,19.77499459438296,15.823575934143506,12.672157273904055,10.320738613664606,8.76931995342516,8.017901293185716,8.066482632946268,8.915063972706822,10.563645312467376,13.012226652227932,16.26080799198847,20.309389331749045,25.157970671509585,30.806552011270114,37.2551333510307,44.50371469079123,52.55229603055182,61.400877370312344,71.04945871007297,81.49804004983349,92.746621389594],[494.779599860242,467.24429058876467,440.5089813172873,414.5736720458101,389.43836277433275,365.10305350285546,341.56774423137813,318.8324349599008,296.8971256884235,275.7618164169462,255.42650714546892,235.8911978739916,217.15588860251427,199.220579331037,182.08527005955966,165.74996078808238,150.21465151660504,135.47934224512773,121.54403297365045,108.40872370217312,96.07341443069582,84.5381051592185,73.80279588774118,63.867486616263875,54.732177344786564,46.396868073309285,38.86155880183196,32.126249530354656,26.19094025887734,21.055630987400033,16.72032171592274,13.185012444445428,10.449703172968118,8.514393901490811,7.379084630013506,7.043775358536201,7.508466087058893,8.773156815581586,10.83784754410428,13.702538272626978,17.367229001149656,21.831919729672375,27.09661045819505,33.16130118671772,40.02599191524045,47.69068264376311,56.15537337228586,65.42006410080852,75.48475482933128,86.34944555785393,98.01413628637658],[479.5299142841503,452.41071440143526,426.09151451872003,400.572314636005,375.8531147532898,351.93391487057454,328.81471498785936,306.4955151051442,284.97631522242904,264.25711533971395,244.3379154569987,225.21871557428358,206.89951569156835,189.3803158088532,172.66111592613805,156.7419160434229,141.62271616070774,127.30351627799253,113.78431639527739,101.0651165125622,89.14591662984705,78.02671674713187,67.7075168644167,58.18831698170153,49.46911709898635,41.54991721627121,34.43071733355604,28.111517450840864,22.592317568125694,17.873117685410527,13.95391780269537,10.834717919980204,8.515518037265032,6.996318154549866,6.2771182718347,6.357918389119533,7.238718506404368,8.919518623689202,11.400318740974036,14.681118858258873,18.76191897554369,23.64271909282855,29.323519210113368,35.804319327398176,43.085119444683045,51.16591956196784,60.04671967925273,69.72751979653752,80.20831991382242,91.4891200311072,103.56992014839201],[464.5684976732917,437.8654071793386,411.9623166853856,386.85922619143264,362.5561356974796,339.0530452035265,316.3499547095735,294.44686421562045,273.3437737216675,253.04068322771448,233.53759273376141,214.8345022398084,196.9314117458553,179.8283212519023,163.52523075794926,148.02214026399628,133.31904977004325,119.4159592760902,106.31286878213717,94.00977828818415,82.50668779423113,71.8035973002781,61.90050680632506,52.79741631237203,44.49432581841899,36.99123532446599,30.288144830512955,24.38505433655993,19.2819638426069,14.978873348653867,11.475782854700855,8.772692360747824,6.869601866794797,5.76651137284177,5.463420878888744,5.960330384935716,7.257239890982689,9.354149397029666,12.25105890307664,15.94796840912362,20.444877915170576,25.74178742121758,31.83869692726453,38.735606433311474,46.432515939358495,54.92942544540543,64.22633495145246,74.32324445749938,85.22015396354644,96.91706346959336,109.4139729756403],[449.8953500276658,423.60836892247494,398.121387817284,373.43440671209316,349.54742560690227,326.4604445017114,304.17346339652045,282.6864822913296,261.99950118613873,242.11252008094786,223.02553897575694,204.73855787056604,187.25157676537515,170.5645956601843,154.67761455499334,139.5906334498025,125.3036523446116,111.8166712394207,99.12969013422983,87.24270902903893,76.15572792384806,65.86874681865717,56.381765713466265,47.69478460827538,39.80780350308448,32.72082239789362,26.43384129270273,20.946860187511838,16.259879082320946,12.372897977130059,9.285916871939184,6.998935766748295,5.511954661557407,4.824973556366521,4.937992451175637,5.851011345984746,7.56403024079386,10.077049135602977,13.390068030412092,17.50308692522121,22.416105820030307,28.12912471483945,34.64214360964854,41.95516250445763,50.06818139926679,58.98120029407587,68.69421918888503,79.20723808369411,90.5202569785033,102.63327587331236,115.54629476812143],[435.51047134727276,409.63959963084403,384.56872791441526,360.2978561979867,336.8269844815578,314.156112765129,292.2852410487003,271.21436933227153,250.94349761584283,231.47262589941408,212.80175418298535,194.93088246655657,177.8600107501278,161.5891390336991,146.11826731727035,131.44739560084162,117.57652388441284,104.50565216798407,92.23478045155534,80.76390873512659,70.09303701869784,60.22216530226909,51.151293585840335,42.88042186941158,35.40955015298283,28.73867843655411,22.867806720125355,17.796935003696603,13.526063287267853,10.055191570839103,7.384319854410366,5.513448137981617,4.442576421552869,4.171704705124122,4.700832988695376,6.029961272266625,8.15908955583788,11.088217839409133,14.81734612298039,19.34647440655165,24.675602690122886,30.80473097369417,37.7338592572654,45.46298754083662,53.99211582440792,63.32124410797914,73.45037239155045,84.37950067512168,96.10862895869298,108.6377572422642,121.96688552583541],[421.4138616321127,395.959099304446,371.3043369767794,347.44957464911283,324.39481232144624,302.1400499937796,280.685287666113,260.0305253384464,240.1757630107798,221.1210006831132,202.86623835544657,185.41147602777994,168.75671370011332,152.90195137244677,137.84718904478012,123.59242671711353,110.13766438944691,97.48290206178027,85.62813973411369,74.57337740644707,64.31861507878048,54.86385275111387,46.20909042344725,38.354328095780645,31.29956576811402,25.04480344044744,19.590041112780828,14.935278785114217,11.080516457447606,8.025754129780996,5.770991802114397,4.316229474447787,3.6614671467811792,3.8067048191145725,4.751942491447966,6.497180163781354,9.042417836114748,12.387655508448145,16.532893180781542,21.478130853114937,27.22336852544831,33.768606197781736,41.113843870115105,49.25908154244846,58.20431921478191,67.94955688711526,78.4947945594487,89.84003223178206,101.98526990411554,114.93050757644887,128.67574524878222],[407.6055208821853,382.56686794328084,358.3282150043764,334.889562065472,312.25090912656754,290.41225618766305,269.3736032487585,249.13495030985402,229.6962973709496,211.05764443204515,193.21899149314066,176.18033855423616,159.94168561533166,144.50303267642724,129.86437973752277,116.02572679861831,102.9870738597138,90.74842092080935,79.3097679819049,68.67111504300043,58.83246210409597,49.79380916519148,41.55515622628701,34.116503287382535,27.477850348478064,21.63919740957362,16.600544470669146,12.361891531764673,8.923238592860205,6.284585653955734,4.445932715051274,3.4072797761468046,3.1686268372423365,3.7299738983378696,5.091320959433405,7.2526680205289304,10.214015081624463,13.975362142719998,18.536709203815533,23.898056264911077,30.05940332600658,37.020750387102154,44.78209744819766,53.343444509293164,62.70479157038875,72.86613863148423,83.82748569257984,95.58883275367532,108.15017981477095,121.51152687586642,135.67287393696188],[394.0854490974908,369.4629055473485,345.6403619972061,322.6178184470639,300.3952748969216,278.9727313467792,258.3501877966369,238.5276442464945,219.5051006963522,201.28255714620994,183.86001359606757,167.23747004592525,151.41492649578288,136.39238294564058,122.16983939549824,108.74729584535592,96.1247522952136,84.30220874507125,73.27966519492894,63.05712164478659,53.63457809464428,45.01203454450195,37.189490994359616,30.166947444217286,23.944403894074952,18.52186034393264,13.899316793790307,10.076773243647978,7.054229693505648,4.831686143363321,3.409142593220998,2.78659904307867,2.9640554929363425,3.9415119427940164,5.718968392651693,8.296424842509357,11.673881292367032,15.851337742224707,20.828794192082384,26.606250641940065,33.183707091797714,40.56116354165542,48.73861999151307,57.71607644137071,67.49353289122843,78.07098934108606,89.44844579094381,101.62590224080144,114.60335869065918,128.3808151405168,142.9582715903744],[380.85364627802926,356.64721211664903,333.2407779552688,310.6343437938887,288.82790963250847,267.8214754711283,247.61504130974805,228.2086071483679,209.6021729869877,191.79573882560754,174.78930466422736,158.58287050284713,143.17643634146697,128.57000218008676,114.76356801870656,101.75713385732641,89.55069969594621,78.14426553456602,67.53783137318582,57.731397211805636,48.72496305042546,40.518528889045264,33.112094727665074,26.505660566284877,20.699226404904685,15.692792243524515,11.486358082144323,8.07992392076413,5.473489759383943,3.667055598003756,2.6606214366235728,2.4541872752433846,3.047753113863198,4.441318952483013,6.63488479110283,9.62845062972263,13.422016468342445,18.01558230696226,23.40914814558208,29.602713984201905,36.596279822821685,44.38984566144154,52.98341150006132,62.3769773386811,72.57054317730096,83.56410901592074,95.35767485454062,107.95124069316039,121.34480653178026,135.53837237040005,150.5319382090198],[367.91011242380046,344.1197876511824,321.12946287856437,298.93913810594637,277.5488133333283,256.95848856071024,237.16816378809216,218.1778390154741,199.9875142428561,182.59718947023805,166.00686469762,150.2165399250019,135.22621515238384,121.03589037976582,107.64556560714776,95.05524083452973,83.26491606191168,72.27459128929362,62.08426651667558,52.69394174405751,44.10361697143948,36.31329219882143,29.322967426203377,23.13264265358532,17.74231788096727,13.151993108349242,9.361668335731187,6.371343563113137,4.181018790495088,2.790694017877041,2.2003692452589956,2.4100444726409473,3.4197197000229007,5.229394927404856,7.839070154786811,11.248745382168753,15.458420609550707,20.46809583693266,26.27777106431462,32.88744629169658,40.2971215190785,48.506796746460495,57.51647197384243,67.32614720122434,77.93582242860634,89.34549765598825,101.55517288337026,114.56484811075218,128.37452333813422,142.98419856551612,158.39387379289803],[355.2548475348046,331.8806321509486,309.30641676709274,287.5322013832369,266.5579859993809,246.38377061552504,227.00955523166905,208.43533984781317,190.66112446395724,173.68690908010137,157.51269369624546,142.1384783123895,127.56426292853361,113.79004754467772,100.8158321608218,88.64161677696589,77.26740139310999,66.69318600925405,56.91897062539817,47.94475524154225,39.77053985768635,32.39632447383044,25.822109089974525,20.047893706118614,15.073678322262701,10.89946293840681,7.5252475545509,4.951032170694989,3.1768167868390806,2.202601402983174,2.0283860191272676,2.6541706352713597,4.079955251415454,6.305739867559549,9.331524483703644,13.157309099847726,17.78309371599182,23.208878332135917,29.434662948280018,36.460447564424115,44.28623218056818,52.91201679671232,62.33780141285638,72.56358602900043,83.58937064514458,95.41515526128865,108.04093987743279,121.46672449357683,135.69250910972102,150.71829372586504,166.54407834200907],[342.88785161104147,319.9297456159477,297.7716396208539,276.41353362576024,255.85542763066638,236.0973216355726,217.13921564047882,198.98110964538506,181.6230036502913,165.06489765519757,149.30679166010378,134.34868566500998,120.19057966991622,106.83247367482247,94.2743676797287,82.51626168463491,71.55815568954114,61.40004969444737,52.04194369935362,43.48383770425984,35.72573170916607,28.767625714072302,22.609519718978525,17.25141372388476,12.693307728790987,8.935201733697234,5.977095738603463,3.818989743509693,2.460883748415924,1.9027777533221566,2.1446717582283883,3.1865657631346203,5.028459768040854,7.670353772947088,11.112247777853327,15.354141782759541,20.396035787665777,26.23792979257201,32.87982379747825,40.32171780238449,48.56361180729069,57.605505812196974,67.44739981710318,78.08929382200937,89.53118782691567,101.77308183182186,114.81497583672815,128.65686984163435,143.29876384654062,158.74065785144683,174.982551856353],[330.80912465251123,308.2671280461796,286.525131439848,265.5831348335164,245.44113822718475,226.0991416208531,207.55714501452147,189.8151484081898,172.87315180185817,156.73115519552658,141.38915858919495,126.8471619828633,113.10516537653166,100.16316877020006,88.02117216386841,76.6791755575368,66.13717895120516,56.39518234487352,47.453185738541904,39.31118913221027,31.969192525878643,25.42719591954701,19.685199313215378,14.743202706883746,10.601206100552119,7.259209494220503,4.717212887888872,2.975216281557242,2.0332196752256135,1.8912230688939868,2.5492264625623573,4.00722985623073,6.265233249899104,9.32323664356748,13.181240037235856,17.83924343090421,23.29724682457259,29.555250218240964,36.61325361190934,44.47125700557772,53.129260399246064,62.58726379291449,72.84526718658282,83.90327058025116,95.7612739739196,108.41927736758792,121.87728076125636,136.1352841549247,151.19328754859316,167.05129094226146,183.70929433592977],[319.01866665921386,296.8927794416443,275.5668922240748,255.04100500650543,235.3151177889359,216.3892305713664,198.26334335379687,180.9374561362274,164.4115689186579,148.68568170108847,133.75979448351896,119.63390726594946,106.30802004837996,93.78213283081047,82.05624561324097,71.13035839567151,61.004471178102015,51.67858396053252,43.15269674296303,35.42680952539354,28.500922307824062,22.37503509025457,17.049147872685076,12.523260655115585,8.797373437546096,5.871486219976619,3.7455990024071286,2.4197117848376397,1.8938245672681524,2.1679373496986667,3.242050132129176,5.116162914559689,7.790275696990204,11.26438847942072,15.538501261851238,20.612614044281727,26.48672682671225,33.16083960914276,40.63495239157329,48.90906517400381,57.983177956434275,67.85729073886486,78.53140352129533,90.0055163037258,102.27962908615638,115.35374186858684,129.22785465101742,143.9019674334479,159.3760802158785,175.65019299830894,192.7243057807394],[307.5164776311493,285.80669980234194,264.8969219735345,244.78714414472728,225.47736631591994,206.96758848711258,189.25781065830523,172.34803282949787,156.23825500069051,140.9284771718832,126.41869934307584,112.70892151426847,99.7991436854611,87.68936585665378,76.37958802784642,65.86981019903908,56.16003237023173,47.25025454142437,39.14047671261703,31.830698883809674,25.32092105500233,19.611143226194976,14.70136539738763,10.591587568580277,7.281809739772927,4.7720319109655875,3.062254082158237,2.152476253350888,2.04269842454354,2.7329205957361937,4.223142766928841,6.513364938121493,9.603587109314148,13.493809280506804,18.18403145169946,23.674253622892092,29.96447579408475,37.0546979652774,44.94492013647007,53.63514230766272,63.125364478855346,73.41558665004804,84.50580882124066,96.39603099243328,109.08625316362598,122.57647533481858,136.86669750601135,151.95691967720393,167.84714184839666,184.53736401958926,202.02758619078185],[296.30255756831764,275.0088891282724,254.51522068822717,234.82155224818203,215.9278838081368,197.83421536809158,180.54054692804635,164.04687848800114,148.35321004795594,133.45954160791075,119.36587316786554,106.07220472782032,93.57853628777511,81.88486784772991,70.99119940768469,60.8975309676395,51.60386252759427,43.11019408754906,35.41652564750386,28.52285720745865,22.42918876741345,17.135520327368233,12.641851887323023,8.948183447277811,6.054515007232602,3.960846567187402,2.667178127142192,2.173509687096983,2.4798412470517763,3.5861728070065704,5.492504366961356,8.19883592691615,11.705167486870945,16.011499046825744,21.11783060678054,27.02416216673531,33.730493726690106,41.2368252866449,49.5431568465997,58.649488406554504,68.55581996650926,79.2621515264641,90.76848308641885,103.0748146463736,116.18114620632846,130.0874777662832,144.7938093262381,160.30014088619282,176.6064724461477,193.71280400610243,211.6191355660572],[285.37690647071884,264.49934741943576,244.42178836815262,225.14422931686966,206.66667026558656,188.98911121430348,172.1115521630204,156.0339931117373,140.75643406045424,126.2788750091712,112.60131595788812,99.72375690660505,87.64619785532196,76.36863880403891,65.89107975275581,56.21352070147277,47.33596165018969,39.25840259890661,31.980843547623554,25.503284496340477,19.825725445057415,14.948166393774342,10.870607342491269,7.593048291208198,5.115489239925129,3.437930188642066,2.560371137358996,2.4828120860759277,3.20525303479286,4.727693983509794,7.050134932226717,10.17257588094365,14.095016829660587,18.817457778377523,24.339898727094457,30.662339675811367,37.78478062452831,45.70722157324524,54.429662521962186,63.952103470679134,74.27454441939602,85.39698536811301,97.31942631682989,110.04186726554678,123.56430821426379,137.88674916298066,153.00919011169765,168.9316310604146,185.6540720091316,203.17651295784847,221.4989539065653],[274.7395243383528,254.27807467583187,234.6166250133109,215.75517535079007,197.69372568826913,180.43227602574814,163.97082636322722,148.30937670070628,133.44792703818538,119.38647737566447,106.12502771314352,93.66357805062259,82.00212838810165,71.14067872558073,61.0792290630598,51.81777940053888,43.35632973801793,35.694880075497,28.833430412976085,22.77198075045515,17.510531087934226,13.049081425413295,9.387631762892362,6.526182100371431,4.464732437850503,3.203282775329579,2.7418331128086493,3.080383450287721,4.218933787766794,6.157484125245869,8.89603446272493,12.434584800204005,16.77313513768308,21.91168547516216,27.85023581264123,34.588786150120285,42.12733648759936,50.465886825078435,59.60443716255752,69.54298750003659,80.28153783751563,91.82008817499477,104.1586385124738,117.29718884995282,131.23573918743196,145.97428952491097,161.51283986239014,177.85139019986914,194.98994053734833,212.92849087482733,231.66704121230634],[264.3904111712196,244.34507089746086,225.09973062370204,206.65439034994336,189.0090500761845,172.16370980242573,156.1183695286669,140.87302925490812,126.42768898114936,112.78234870739058,99.93700843363179,87.89166815987299,76.6463278861142,66.20098761235542,56.555647338596614,47.710307064837835,39.66496679107904,32.41962651732024,25.974286243561465,20.32894596980267,15.483605696043888,11.438265422285093,8.192925148526303,5.747584874767513,4.102244601008726,3.2569043272499396,3.2115640534911507,3.9662237797323634,5.520883505973577,7.875543232214792,11.030202958455993,14.984862684697205,19.739522410938424,25.29418213717964,31.64884186342086,38.80350158966205,46.758161315903266,55.51282104214447,65.0674807683857,75.42214049462692,86.5768002208681,98.53145994710937,111.28611967335053,124.84077939959168,139.19543912583296,154.35009885207415,170.30475857831541,187.05941830455657,204.6140780307979,222.96873775703907,242.1233974832802],[254.3295669693194,234.70033608432271,215.87110519932605,197.84187431432946,180.61264342933282,164.18341254433614,148.55418165933946,133.7249507743428,119.6957198893462,106.46648900434954,94.03725811935288,82.40802723435623,71.57879634935956,61.549565464362935,52.32033457936628,43.89110369436965,36.26187280937299,29.43264192437633,23.40341103937969,18.174180154383038,13.744949269386396,10.115718384389744,7.286487499393093,5.257256614396445,4.028025729399796,3.59879484440315,3.9695639594065018,5.140333074409855,7.111102189413211,9.881871304416565,13.452640419419906,17.823409534423263,22.99417864942662,28.964947764429972,35.73571687943333,43.306485994436656,51.67725510944001,60.84802422444338,70.81879333944674,81.58956245445012,93.16033156945342,105.53110068445682,118.70186979946013,132.67263891446345,147.44340802946687,163.01417714447018,179.38494625947362,196.5557153744769,214.52648448948037,233.29725360448361,252.8680227194869],[244.5569917326519,225.34387023641742,206.93074874018288,189.31762724394844,172.5045057477139,156.49138425147936,141.27826275524487,126.86514125901034,113.25201976277586,100.43889826654136,88.42577677030684,77.21265527407232,66.79953377783781,57.186412281603324,48.373290785368795,40.360169289134305,33.14704779289979,26.733926296665274,21.12080480043077,16.307683304196257,12.294561807961752,9.081440311727244,6.668318815492734,5.055197319258225,4.242075823023717,4.22895432678921,5.015832830554702,6.602711334320196,8.98958983808569,12.176468341851187,16.163346845616665,20.950225349382166,26.537103853147663,32.92398235691316,40.110860860678656,48.097739364444124,56.88461786820962,66.47149637197512,76.85837487574062,88.04525337950614,100.03213188327157,112.81901038703714,126.4058888908026,140.79276739456805,155.9796458983336,171.96652440209903,188.75340290586462,206.34028140963005,224.72715991339564,243.91403841716107,263.9009169209265],[235.07268546121736,216.275673353745,198.27866124627258,181.0816491388003,164.6846370313279,149.08762492385551,134.29061281638315,120.29360070891076,107.09658860143841,94.69957649396606,83.10256438649367,72.3055522790213,62.30854017154891,53.11152806407656,44.71451595660418,37.11750384913182,30.320491741659445,24.323479634187066,19.126467526714706,14.729455419242331,11.132443311769967,8.335431204297594,6.3384190968252225,5.141406989352853,4.744394881880485,5.147382774408114,6.350370666935746,8.353358559463377,11.156346451991011,14.759334344518646,19.16232223704626,24.365310129573892,30.36829802210153,37.171285914629166,44.7742738071568,53.17726169968441,62.38024959221204,72.38323748473968,83.18622537726733,94.78921326979497,107.19220116232253,120.39518905485026,134.39817694737783,149.2011648399054,164.80415273243312,181.2071406249607,198.41012851748843,216.41311641001602,235.21610430254373,254.81909219507128,275.22208008759884],[225.87664815501563,207.49574543630538,189.91484271759515,173.13393999888496,157.15303728017471,141.97213456146446,127.59123184275423,114.01032912404399,101.22942640533378,89.24852368662357,78.06762096791333,67.6867182492031,58.105815530492855,49.324912811782625,41.3440100930724,34.16310737436217,27.782204655651938,22.201301936941704,17.42039921823148,13.439496499521248,10.25859378081102,7.877691062100789,6.296788343390558,5.51588562468033,5.534982905970102,6.3540801872598704,7.9731774685496415,10.392274749839414,13.61137203112919,17.630469312418967,22.449566593708717,28.068663874998492,34.48776115628827,41.70685843757805,49.72595571886782,58.54505300015757,68.16415028144735,78.58324756273713,89.80234484402692,101.8214421253167,114.64053940660642,128.25963668789626,142.678733969186,157.8978312504757,173.91692853176556,190.73602581305525,208.35512309434512,226.77422037563483,245.99331765692472,266.0124149382144,286.83151221950413],[216.96887981404672,199.0040864840986,181.83929315415054,165.4744998242025,149.90970649425438,135.14491316430627,121.18011983435818,108.01532650441007,95.650533174462,84.08573984451394,73.32094651456582,63.356153184617725,54.19135985466964,45.82656652472156,38.26177319477346,31.496979864825374,25.53218653487728,20.367393204929186,16.0025998749811,12.43780654503301,9.673013215084925,7.708219885136834,6.543426555188745,6.178633225240656,6.613839895292568,7.849046565344476,9.884253235396388,12.719459905448302,16.354666575500218,20.789873245552133,26.025079915604028,32.060286585655945,38.89549325570786,46.53069992575978,54.965906595811695,64.20111326586357,74.23631993591549,85.0715266059674,96.70673327601934,109.14193994607126,122.37714661612311,136.41235328617512,151.24755995622698,166.88276662627885,183.31797329633082,200.5531799663827,218.58838663643468,237.42359330648654,257.0587999765385,277.4940066465904,298.72921331664224],[208.34938043831067,190.80069649712473,174.05201255593875,158.10332861475285,142.9546446735669,128.60596073238094,115.05727679119494,102.30859285000902,90.35990890882307,79.21122496763714,68.86254102645117,59.31385708526522,50.56517314407926,42.61648920289333,35.46780526170737,29.119121320521423,23.570437379335473,18.821753438149518,14.873069496963577,11.724385555777623,9.375701614591678,7.827017673405728,7.078333732219779,7.12964979103383,7.980965849847884,9.63228190866193,12.083597967475981,15.334914026290038,19.386230085104092,24.237546143918152,29.888862202732177,36.340178261546235,43.5914943203603,51.642810379174364,60.49412643798841,70.14544249680243,80.59675855561649,91.84807461443054,103.89939067324462,116.75070673205869,130.40202279087268,144.8533388496868,160.1046549085008,176.1559709673148,193.00728702612895,210.6586030849429,229.10991914375705,248.36123520257107,268.4125512613852,289.2638673201992,310.91518337901323],[200.01815002780748,182.88557547538366,166.55300092295982,151.02042637053606,136.28785181811224,122.35527726568841,109.2227027132646,96.89012816084079,85.35755360841699,74.6249790559932,64.69240450356938,55.55982995114555,47.22725539872174,39.69468084629794,32.96210629387413,27.029531741450327,21.896957189026516,17.564382636602705,14.031808084178898,11.299233531755087,9.366658979331284,8.23408442690747,7.901509874483662,8.368935322059855,9.636360769636049,11.703786217212233,14.571211664788427,18.23863711236462,22.70606255994082,27.973488007517016,34.04091345509318,40.908338902669385,48.575764350245585,57.04318979782179,66.31061524539798,76.37804069297414,87.24546614055033,98.91289158812654,111.38031703570275,124.64774248327895,138.7151679308551,153.5825933784314,169.25001882600748,185.71744427358362,202.9848697211599,221.05229516873607,239.9197206163123,259.58714606388844,280.05457151146476,301.32199695904086,323.389422406617],[191.97518858253713,175.2587234188755,159.34225825521378,144.22579309155216,129.9093279278905,116.3928627642288,103.67639760056713,91.75993243690544,80.64346727324377,70.32700210958211,60.81053694592045,52.094071782258766,44.17760661859708,37.06114145493543,30.74467629127375,25.228211127612084,20.51174596395041,16.595280800288737,13.478815636627072,11.1623504729654,9.645885309303731,8.92942014564206,9.01295498198039,9.89648981831872,11.580024654657054,14.063559490995376,17.347094327333707,21.430629163672037,26.314164000010376,31.997698836348707,38.48123367268701,45.76476850902535,53.84830334536368,62.73183818170202,72.41537301804037,82.89890785437865,94.182442690717,106.26597752705533,119.14951236339367,132.83304719973202,147.31658203607032,162.6001168724087,178.683651708747,195.56718654508524,213.25072138142366,231.73425621776195,251.01779105410037,271.1013258904386,291.9848607267771,313.66839556311527,336.1519303994536],[184.22049610249965,167.9201403276001,152.41978455270058,137.71942877780108,123.81907300290153,110.71871722800199,98.41836145310245,86.91800567820292,76.21764990330341,66.31729412840389,57.21693835350435,48.91658257860481,41.41622680370527,34.71587102880575,28.815515253906213,23.715159479006687,19.41480370410715,15.914447929207617,13.21409215430809,11.31373637940856,10.21338060450903,9.9130248296095,10.41266905470997,11.712313279810441,13.811957504910914,16.711601730011374,20.41124595511185,24.91089018021232,30.210534405312796,36.310178630413276,43.20982285551372,50.90946708061419,59.409111305714674,68.70875553081515,78.80839975591563,89.70804398101606,101.40768820611653,113.90733243121701,127.2069766563175,141.30662088141798,156.2062651065184,171.90590933161894,188.40555355671938,205.70519778181978,223.80484200692035,242.70448623202077,262.4041304571213,282.90377468222175,304.2034189073223,326.3030631324227,349.2027073575231],[176.75407258769502,160.86982620155757,145.7855798154202,131.50133342928285,118.01708704314544,105.33284065700806,93.44859427087063,82.36434788473323,72.08010149859587,62.595855112458494,53.91160872632109,46.02736234018369,38.9431159540463,32.65886956790891,27.174623181771516,22.490376795634134,18.60613040949674,15.521884023359348,13.23763763722196,11.753391251084569,11.069144864947178,11.184898478809789,12.100652092672401,13.816405706535013,16.332159320397626,19.647912934260226,23.763666548122842,28.679420161985455,34.39517377584808,40.91092738971069,48.226681003573276,56.34243461743589,65.2581882312985,74.97394184516112,85.48969545902375,96.80544907288632,108.92120268674893,121.83695630061156,135.55270991447418,150.0684635283368,165.38421714219936,181.49997075606205,198.4157243699246,216.13147798378714,234.64723159764986,253.96298521151238,274.0787388253751,294.99449243923766,316.7102460531004,339.22599966696293,362.54175328082545],[169.57591803812318,154.1077810407479,139.43964404337265,125.57150704599744,112.5033700486222,100.23523305124692,88.76709605387168,78.09895905649643,68.23082205912118,59.16268506174593,50.89454806437068,43.42641106699543,36.75827406962017,30.890137072244926,25.822000074869674,21.553863077494427,18.085726080119173,15.417589082743923,13.549452085368674,12.481315087993426,12.213178090618175,12.745041093242925,14.076904095867679,16.20876709849243,19.14063010111719,22.872493103741924,27.404356106366677,32.736219108991435,38.86808211161619,45.799945114240955,53.531808116865676,62.06367111949044,71.3955341221152,81.52739712473995,92.45926012736471,104.19112312998942,116.72298613261418,130.05484913523895,144.1867121378637,159.11857514048847,174.85043814311317,191.382301145738,208.71416414836267,226.84602715098737,245.77789015361225,265.5097531562369,286.04161615886176,307.37347916148644,329.5053421641113,352.437205166736,376.1690681693607],[162.6860324537842,147.6340048451711,133.38197723655796,119.92994962794491,107.2779220193318,95.42589441071867,84.37386680210555,74.12183919349243,64.66981158487934,56.017783976266244,48.16575636765312,41.11372875904001,34.861701150426896,29.409673541813795,24.75764593320068,20.905618324587575,17.853590715974462,15.60156310736135,14.149535498748243,13.497507890135132,13.645480281522023,14.593452672908914,16.341425064295805,18.8893974556827,22.237369847069594,26.385342238456474,31.33331462984337,37.08128702123027,43.629259412617166,50.97723180400406,59.12520419539093,68.07317658677782,77.82114897816473,88.36912136955162,99.71709376093852,111.86506615232538,124.81303854371227,138.5610109350992,153.10898332648605,168.456955717873,184.60492810925982,201.55290050064679,219.30087289203362,237.84884528342047,257.19681767480745,277.34479006619426,298.29276245758126,320.0407348489681,342.5887072403551,365.9366796317419,390.0846520231287],[156.08441583467814,141.44849761482715,127.61257939497617,114.57666117512524,102.34074295527428,90.90482473542328,80.26890651557231,70.43298829572133,61.39707007587037,53.1611518560194,45.725233636168426,39.08931541631745,33.25339719646647,28.21747897661551,23.981560756764537,20.54564253691357,17.909724317062597,16.073806097211623,15.037887877360653,14.80196965750968,15.366051437658708,16.73013321780774,18.894214997956773,21.858296778105803,25.622378558254837,30.186460338403855,35.55054211855289,41.71462389870192,48.67870567885095,56.44278745899999,65.00686923914898,74.37095101929803,84.53503279944707,95.49911457959611,107.26319635974514,119.82727813989412,133.19135992004317,147.35544170019222,162.31952348034125,178.0836052604903,194.64768704063925,212.0117688207884,230.17585060093734,249.13993238108628,268.9040141612354,289.4680959413844,310.8321777215336,332.9962595016825,355.9603412818317,379.7244230619806,404.28850484212956],[149.77106818080486,135.55125934971602,122.13145051862719,109.5116416875384,97.69183285644957,86.67202402536073,76.45221519427189,67.03240636318306,58.41259753209424,50.592788701005404,43.57297986991657,37.35317103882773,31.933362207738902,27.313553376650077,23.493744545561242,20.473935714472415,18.254126883383577,16.834318052294748,16.21450922120592,16.394700390117087,17.374891559028253,19.155082727939426,21.735273896850597,25.115465065761768,29.295656234672947,34.2758474035841,40.05603857249527,46.636229741406446,54.01642091031762,62.1966120792288,71.17680324813995,80.95699441705112,91.5371855859623,102.91737675487347,115.09756792378465,128.07775909269577,141.85795026160696,156.43814143051813,171.8183325994293,187.99852376834053,204.97871493725162,222.7589061061629,241.339097275074,260.7192884439851,280.89947961289636,301.8796707818075,323.6598619507188,346.24005311962986,369.62024428854113,393.80043545745224,418.7806266263633],[143.74598949216448,129.94229004983777,116.93859060751109,104.73489116518442,93.33119172285771,82.72749228053102,72.9237928382043,63.92009339587763,55.71639395355095,48.31269451122425,41.708995068897565,35.90529562657087,30.90159618424417,26.697896741917482,23.29419729959079,20.6904978572641,18.88679841493741,17.883098972610718,17.67939953028403,18.27570008795734,19.672000645630646,21.868301203303957,24.864601760977273,28.660902318650585,33.2572028763239,38.653503433997194,44.849803991670505,51.84610454934383,59.64240510701714,68.23870566469046,77.63500622236373,87.83130678003705,98.82760733771036,110.62390789538368,123.22020845305703,136.61650901073025,150.8128095684036,165.8091101260769,181.60541068375025,198.20171124142354,215.5980117990968,233.7943123567702,252.79061291444344,272.5869134721167,293.18321402979007,314.57951458746334,336.7758151451368,359.77211570281,383.56841626048345,408.16471681815665,433.5610173758299],[138.0091797687569,124.62158971519236,112.03399966162777,100.24640960806329,89.25881955449871,79.07122950093415,69.6836394473696,61.096049393805046,53.3084593402405,46.32086928667596,40.1332792331114,34.745689179546844,30.158099125982297,26.370509072417754,23.382919018853194,21.195328965288645,19.807738911724094,19.220148858159547,19.43255880459499,20.444968751030444,22.25737869746589,24.86978864390134,28.282198590336794,32.49460853677225,37.50701848320771,43.31942842964314,49.93183837607859,57.34424832251405,65.5566582689495,74.56906821538496,84.38147816182038,94.99388810825585,106.40629805469129,118.61870800112675,131.63111794756222,145.4435278939976,160.05593784043307,175.46834778686855,191.680757733304,208.69316767973947,226.50557762617484,245.1179875726104,264.5303975190458,284.7428074654812,305.75521741191676,327.56762735835207,350.1800373047877,373.592447251223,397.80485719765863,422.817267144094,448.6296770905293],[132.56063901058218,119.58915834577977,107.41767768097733,96.04619701617497,85.47471635137256,75.70323568657014,66.73175502176773,58.5602743569653,51.18879369216291,44.61731302736051,38.84583236255809,33.87435169775567,29.70287103295326,26.331390368150856,23.75990970334844,21.98842903854603,21.01694837374362,20.845467708941207,21.4739870441388,22.90250637933639,25.131025714533976,28.15954504973157,31.988064384929167,36.61658372012676,42.04510305532436,48.27362239052193,55.30214172571952,63.13066106091712,71.75918039611471,81.18769973131232,91.41621906650988,102.44473840170747,114.27325773690508,126.90177707210267,140.33029640730027,154.5588157424978,169.5873350776954,185.415854412893,202.0443737480906,219.47289308328823,237.70141241848577,256.72993175368345,276.55845108888093,297.1869704240785,318.61548975927616,340.8440090944737,363.87252842967143,387.7010477648689,412.32956710006664,437.7580864352642,463.98660577046167],[127.40036721764034,114.84499594160006,103.0896246655598,92.13425338951954,81.97888211347927,72.623510837439,64.06813956139871,56.312768285358445,49.35739700931818,43.20202573327791,37.84665445723763,33.29128318119736,29.53591190515708,26.58054062911681,24.42516935307654,23.06979807703627,22.514426800996,22.759055524955727,23.803684248915452,25.648312972875182,28.292941696834905,31.737570420794633,35.982199144754375,41.0268278687141,46.87145659267384,53.51608531663354,60.960714040593274,69.20534276455302,78.24997148851276,88.09460021247249,98.73922893643218,110.18385766039191,122.42848638435166,135.4731151083114,149.31774383227113,163.96237255623083,179.40700128019057,195.65163000415032,212.69625872811002,230.5408874520698,249.18551617602944,268.63014489998926,288.87477362394895,309.9194023479086,331.7640310718685,354.4086597958281,377.85328851978795,402.0979172437476,427.14254596770746,452.9871746916671,479.6318034156268],[122.52836438993131,110.38910250265317,99.04984061537503,88.51057872809695,78.7713168408188,69.83205495354066,61.692793066262524,54.3535311789844,47.81426929170627,42.07500740442815,37.135745517150006,32.996483629871875,29.65722174259374,27.11795985531562,25.378697968037493,24.43943608075936,24.30017419348123,24.960912306203102,26.421650418924976,28.682388531646843,31.743126644368708,35.603864757090584,40.26460286981246,45.725340982534334,51.986079095256216,59.04681720797805,66.90755532069993,75.56829343342181,85.02903154614368,95.28976965886557,106.35050777158742,118.21124588430929,130.87198399703118,144.33272210975306,158.59346022247493,173.65419833519675,189.51493644791864,206.17567456064054,223.6364126733624,241.8971507860843,260.9578888988061,280.81862701152806,301.47936512424985,322.94010323697165,345.20084134969363,368.2615794624154,392.12231757513746,416.78305568785925,442.2437938005812,468.504531913303,495.5652700260248],[117.94463052745517,106.22147802893916,95.29832553042317,85.1751730319072,75.8520205333912,67.32886803487521,59.6057155363592,52.682563037843224,46.55941053932723,41.23625804081125,36.71310554229525,32.98995304377925,30.066800545263263,27.943648046747278,26.620495548231283,26.097343049715285,26.3741905511993,27.45103805268331,29.327885554167313,32.00473305565132,35.48158055713533,39.75842805861934,44.835275560103355,50.71212306158736,57.38897056307138,64.86581806455537,73.14266556603938,82.2195130675234,92.09636056900743,102.77320807049145,114.25005557197542,126.52690307345942,139.60375057494346,153.48059807642747,168.15744557791152,183.63429307939543,199.91114058087948,216.9879880823635,234.8648355838475,253.54168308533156,273.0185305868155,293.2953780882996,314.37222558978357,336.24907309126746,358.9259205927516,382.4027680942355,406.67961559571967,431.7564630972036,457.6333105986878,484.3101581001717,511.7870056016556],[113.64916563021185,102.34212252045802,91.83507941070413,82.12803630095033,73.22099319119646,65.1139500814426,57.80690697168875,51.29986386193489,45.592820752181034,40.68577764242719,36.57873453267334,33.27169142291948,30.764648313165623,29.05760520341177,28.150562093657925,28.043518983904065,28.736475874150212,30.229432764396368,32.52238965464251,35.61534654488866,39.5083034351348,44.20126032538094,49.694217215627106,55.98717410587325,63.08013099611941,70.97308788636553,79.66604477661168,89.15900166685785,99.45195855710399,110.54491544735015,122.43787233759627,135.1308292278424,148.62378611808856,162.91674300833475,178.0096998985809,193.90265678882702,210.59561367907315,228.0885705693193,246.38152745956546,265.47448434981163,285.3674412400577,306.060398130304,327.5533550205501,349.8463119107961,372.93926880104243,396.83222569128844,421.52518258153475,447.0181394717808,473.3110963620271,500.4040532522732,528.2970101425192],[109.64196969820136,98.75103597720968,88.66010225621793,79.36916853522627,70.87823481423455,63.18730109324282,56.29636737225111,50.20543365125939,44.91449993026768,40.42356620927598,36.73263248828427,33.84169876729255,31.75076504630084,30.459831325309132,29.96889760431742,30.277963883325704,31.387030162334,33.29609644134229,36.005162720350576,39.51422899935886,43.823295278367155,48.932361557375444,54.841427836383744,61.55049411539204,69.05956039440034,77.36862667340858,86.4776929524169,96.38675923142519,107.0958255104335,118.60489178944178,130.91395806845003,144.02302434745835,157.93209062646665,172.64115690547496,188.1502231844832,204.45928946349144,221.56835574249976,239.47742202150806,258.1864883005164,277.6955545795247,298.0046208585329,319.1136871375413,341.0227534165495,363.7318196955577,387.24088597456614,411.54995225357436,436.65901853258276,462.56808481159095,489.2771510905994,516.7862173696076,545.0952836486158],[105.92304273142375,95.4482183991942,85.77339406696461,76.89856973473505,68.8237454025055,61.5489210702759,55.074096738046336,49.39927240581675,44.524448073587195,40.44962374135763,37.17479940912804,34.699975076898475,33.0251507446689,32.15032641243933,32.07550208020976,32.80067774798019,34.32585341575061,36.65102908352104,39.77620475129146,43.70138041906189,48.42655608683231,53.95173175460275,60.27690742237318,67.40208309014362,75.32725875791405,84.05243442568444,93.5776100934549,103.90278576122532,115.02796142899578,126.9531370967662,139.67831276453657,153.20348843230704,167.52866410007746,182.6538397678479,198.57901543561835,215.3041911033887,232.8293667711592,251.15454243892958,270.27971810670005,290.2048937744705,310.93006944224084,332.45524511001133,354.7804207777817,377.9055964455521,401.8307721133226,426.555947781093,452.08112344886354,478.40629911663393,505.53147478440445,533.4566504521747,562.1818261199451],[102.49238472987898,92.43366978641154,83.17495484294412,74.7162398994767,67.05752495600927,60.198810012541834,54.14009506907439,48.88138012560696,44.42266518213954,40.763950238672116,37.905235295204676,35.84652035173724,34.587805408269816,34.12909046480238,34.47037552133495,35.611660577867525,37.55294563440009,40.29423069093267,43.83551574746522,48.17680080399779,53.318085860530374,59.25937091706294,66.00065597359551,73.5419410301281,81.88322608666067,91.02451114319321,100.96579619972579,111.70708125625836,123.24836631279096,135.58965136932352,148.73093642585604,162.67222148238864,177.4135065389212,192.9547915954538,209.29607665198634,226.4373617085189,244.37864676505149,263.11993182158403,282.66121687811665,303.0025019346492,324.14378699118174,346.08507204771445,368.8263571042469,392.3676421607794,416.7089272173121,441.8502122738446,467.7914973303773,494.53278238690973,522.0740674434425,550.4153524999749,579.5566375565074],[99.34999569356708,89.70739013886177,80.86478458415647,72.8221790294512,65.5795734747459,59.13696792004062,53.49436236533532,48.65175681063002,44.609151255924736,41.366545701219444,38.923940146514155,37.28133459180886,36.43872903710357,36.39612348239827,37.15351792769298,38.710912372987686,41.068306818282394,44.22570126357711,48.18309570887182,52.940490154166525,58.49788459946122,64.85527904475595,72.01267349005064,79.97006793534537,88.72746238064008,98.28485682593475,108.64225127122947,119.7996457165242,131.7570401618189,144.51443460711363,158.0718290524083,172.42922349770302,187.58661794299775,203.54401238829246,220.30140683358718,237.85880127888183,256.21619572417654,275.3735901694713,295.33098461476595,316.08837906006073,337.64577350535535,360.0031679506502,383.16056239594485,407.11795684123945,431.8753512865343,457.4327457318289,483.7901401771238,510.9475346224184,538.9049290677133,567.662323513008,597.2197179583025],[96.495875622488,87.26937945654483,78.84288329060166,71.21638712465855,64.3898909587154,58.36339479277224,53.13689862682909,48.71040246088593,45.08390629494279,42.25741012899964,40.23091396305649,39.00441779711334,38.57792163117019,38.95142546522703,40.12492929928389,42.098433133340734,44.87193696739759,48.445440801454446,52.81894463551128,57.99244846956814,63.96595230362499,70.73945613768184,78.3129599717387,86.68646380579554,95.85996763985241,105.83347147390924,116.6069753079661,128.18047914202296,140.55398297607982,153.72748681013667,167.70099064419347,182.47449447825034,198.0479983123072,214.42150214636408,231.59500598042092,249.56850981447772,268.3420136485346,287.91551748259144,308.2890213166483,329.4625251507052,351.43602898476195,374.2095328188189,397.7830366528757,422.15654048693244,447.3300443209895,473.3035481550462,500.0770519891032,527.65055582316,556.0240596572171,585.1975634912737,615.1710673253306],[93.93002451664177,85.11963773946076,77.10925096227973,69.89886418509874,63.488477407917735,57.87809063073671,53.067703853555706,49.057317076374694,45.84693029919369,43.43654352201267,41.82615674483166,41.01576996765065,41.00538319046964,41.794996413288615,43.38460963610761,45.77422285892659,48.96383608174558,52.95344930456458,57.74306252738356,63.332675750202554,69.72228897302153,76.91190219584053,84.90151541865953,93.69112864147853,103.28074186429753,113.67035508711646,124.85996830993548,136.84958153275448,149.6391947555735,163.22880797839247,177.61842120121142,192.80803442403044,208.79764764684944,225.58726086966846,243.17687409248742,261.56648731530635,280.75610053812534,300.74571376094434,321.53532698376335,343.1249402065823,365.5145534294013,388.70416665222035,412.69377987503924,437.4833930978582,463.0730063206773,489.4626195434962,516.6522327663154,544.6418459891343,573.4314592119533,603.0210724347723,633.4106856575911],[91.6524423760284,83.25816498760952,75.66388759919064,68.8696102107718,62.87533282235292,57.68105543393404,53.28677804551516,49.69250065709629,46.89822326867743,44.90394588025855,43.70966849183968,43.315391103420794,43.72111371500192,44.92683632658305,46.93255893816418,49.7382815497453,53.344004161326424,57.749726772907565,62.95544938448869,68.96117199606982,75.76689460765093,83.37261721923207,91.7783398308132,100.98406244239433,110.98978505397545,121.79550766555656,133.4012302771377,145.80695288871883,159.01267550029996,173.0183981118811,187.8241207234622,203.42984333504333,219.83556594662446,237.04128855820562,255.04701116978674,273.85273378136776,293.45845639294896,313.8641790045301,335.0699016161112,357.0756242276924,379.8813468392734,403.4870694508546,427.8927920624357,453.09851467401677,479.104237285598,505.9099598971791,533.5156825087604,561.9214051203414,591.1271277319227,621.1328503435037,651.9385729550847]],\"type\":\"surface\",\"contours\":{\"z\":{\"project\":{\"z\":true},\"highlightcolor\":\"limegreen\",\"show\":true,\"usecolormap\":true}}}],                        {\"template\":{\"data\":{\"histogram2dcontour\":[{\"type\":\"histogram2dcontour\",\"colorbar\":{\"outlinewidth\":0,\"ticks\":\"\"},\"colorscale\":[[0.0,\"#0d0887\"],[0.1111111111111111,\"#46039f\"],[0.2222222222222222,\"#7201a8\"],[0.3333333333333333,\"#9c179e\"],[0.4444444444444444,\"#bd3786\"],[0.5555555555555556,\"#d8576b\"],[0.6666666666666666,\"#ed7953\"],[0.7777777777777778,\"#fb9f3a\"],[0.8888888888888888,\"#fdca26\"],[1.0,\"#f0f921\"]]}],\"choropleth\":[{\"type\":\"choropleth\",\"colorbar\":{\"outlinewidth\":0,\"ticks\":\"\"}}],\"histogram2d\":[{\"type\":\"histogram2d\",\"colorbar\":{\"outlinewidth\":0,\"ticks\":\"\"},\"colorscale\":[[0.0,\"#0d0887\"],[0.1111111111111111,\"#46039f\"],[0.2222222222222222,\"#7201a8\"],[0.3333333333333333,\"#9c179e\"],[0.4444444444444444,\"#bd3786\"],[0.5555555555555556,\"#d8576b\"],[0.6666666666666666,\"#ed7953\"],[0.7777777777777778,\"#fb9f3a\"],[0.8888888888888888,\"#fdca26\"],[1.0,\"#f0f921\"]]}],\"heatmap\":[{\"type\":\"heatmap\",\"colorbar\":{\"outlinewidth\":0,\"ticks\":\"\"},\"colorscale\":[[0.0,\"#0d0887\"],[0.1111111111111111,\"#46039f\"],[0.2222222222222222,\"#7201a8\"],[0.3333333333333333,\"#9c179e\"],[0.4444444444444444,\"#bd3786\"],[0.5555555555555556,\"#d8576b\"],[0.6666666666666666,\"#ed7953\"],[0.7777777777777778,\"#fb9f3a\"],[0.8888888888888888,\"#fdca26\"],[1.0,\"#f0f921\"]]}],\"heatmapgl\":[{\"type\":\"heatmapgl\",\"colorbar\":{\"outlinewidth\":0,\"ticks\":\"\"},\"colorscale\":[[0.0,\"#0d0887\"],[0.1111111111111111,\"#46039f\"],[0.2222222222222222,\"#7201a8\"],[0.3333333333333333,\"#9c179e\"],[0.4444444444444444,\"#bd3786\"],[0.5555555555555556,\"#d8576b\"],[0.6666666666666666,\"#ed7953\"],[0.7777777777777778,\"#fb9f3a\"],[0.8888888888888888,\"#fdca26\"],[1.0,\"#f0f921\"]]}],\"contourcarpet\":[{\"type\":\"contourcarpet\",\"colorbar\":{\"outlinewidth\":0,\"ticks\":\"\"}}],\"contour\":[{\"type\":\"contour\",\"colorbar\":{\"outlinewidth\":0,\"ticks\":\"\"},\"colorscale\":[[0.0,\"#0d0887\"],[0.1111111111111111,\"#46039f\"],[0.2222222222222222,\"#7201a8\"],[0.3333333333333333,\"#9c179e\"],[0.4444444444444444,\"#bd3786\"],[0.5555555555555556,\"#d8576b\"],[0.6666666666666666,\"#ed7953\"],[0.7777777777777778,\"#fb9f3a\"],[0.8888888888888888,\"#fdca26\"],[1.0,\"#f0f921\"]]}],\"surface\":[{\"type\":\"surface\",\"colorbar\":{\"outlinewidth\":0,\"ticks\":\"\"},\"colorscale\":[[0.0,\"#0d0887\"],[0.1111111111111111,\"#46039f\"],[0.2222222222222222,\"#7201a8\"],[0.3333333333333333,\"#9c179e\"],[0.4444444444444444,\"#bd3786\"],[0.5555555555555556,\"#d8576b\"],[0.6666666666666666,\"#ed7953\"],[0.7777777777777778,\"#fb9f3a\"],[0.8888888888888888,\"#fdca26\"],[1.0,\"#f0f921\"]]}],\"mesh3d\":[{\"type\":\"mesh3d\",\"colorbar\":{\"outlinewidth\":0,\"ticks\":\"\"}}],\"scatter\":[{\"fillpattern\":{\"fillmode\":\"overlay\",\"size\":10,\"solidity\":0.2},\"type\":\"scatter\"}],\"parcoords\":[{\"type\":\"parcoords\",\"line\":{\"colorbar\":{\"outlinewidth\":0,\"ticks\":\"\"}}}],\"scatterpolargl\":[{\"type\":\"scatterpolargl\",\"marker\":{\"colorbar\":{\"outlinewidth\":0,\"ticks\":\"\"}}}],\"bar\":[{\"error_x\":{\"color\":\"#2a3f5f\"},\"error_y\":{\"color\":\"#2a3f5f\"},\"marker\":{\"line\":{\"color\":\"#E5ECF6\",\"width\":0.5},\"pattern\":{\"fillmode\":\"overlay\",\"size\":10,\"solidity\":0.2}},\"type\":\"bar\"}],\"scattergeo\":[{\"type\":\"scattergeo\",\"marker\":{\"colorbar\":{\"outlinewidth\":0,\"ticks\":\"\"}}}],\"scatterpolar\":[{\"type\":\"scatterpolar\",\"marker\":{\"colorbar\":{\"outlinewidth\":0,\"ticks\":\"\"}}}],\"histogram\":[{\"marker\":{\"pattern\":{\"fillmode\":\"overlay\",\"size\":10,\"solidity\":0.2}},\"type\":\"histogram\"}],\"scattergl\":[{\"type\":\"scattergl\",\"marker\":{\"colorbar\":{\"outlinewidth\":0,\"ticks\":\"\"}}}],\"scatter3d\":[{\"type\":\"scatter3d\",\"line\":{\"colorbar\":{\"outlinewidth\":0,\"ticks\":\"\"}},\"marker\":{\"colorbar\":{\"outlinewidth\":0,\"ticks\":\"\"}}}],\"scattermapbox\":[{\"type\":\"scattermapbox\",\"marker\":{\"colorbar\":{\"outlinewidth\":0,\"ticks\":\"\"}}}],\"scatterternary\":[{\"type\":\"scatterternary\",\"marker\":{\"colorbar\":{\"outlinewidth\":0,\"ticks\":\"\"}}}],\"scattercarpet\":[{\"type\":\"scattercarpet\",\"marker\":{\"colorbar\":{\"outlinewidth\":0,\"ticks\":\"\"}}}],\"carpet\":[{\"aaxis\":{\"endlinecolor\":\"#2a3f5f\",\"gridcolor\":\"white\",\"linecolor\":\"white\",\"minorgridcolor\":\"white\",\"startlinecolor\":\"#2a3f5f\"},\"baxis\":{\"endlinecolor\":\"#2a3f5f\",\"gridcolor\":\"white\",\"linecolor\":\"white\",\"minorgridcolor\":\"white\",\"startlinecolor\":\"#2a3f5f\"},\"type\":\"carpet\"}],\"table\":[{\"cells\":{\"fill\":{\"color\":\"#EBF0F8\"},\"line\":{\"color\":\"white\"}},\"header\":{\"fill\":{\"color\":\"#C8D4E3\"},\"line\":{\"color\":\"white\"}},\"type\":\"table\"}],\"barpolar\":[{\"marker\":{\"line\":{\"color\":\"#E5ECF6\",\"width\":0.5},\"pattern\":{\"fillmode\":\"overlay\",\"size\":10,\"solidity\":0.2}},\"type\":\"barpolar\"}],\"pie\":[{\"automargin\":true,\"type\":\"pie\"}]},\"layout\":{\"autotypenumbers\":\"strict\",\"colorway\":[\"#636efa\",\"#EF553B\",\"#00cc96\",\"#ab63fa\",\"#FFA15A\",\"#19d3f3\",\"#FF6692\",\"#B6E880\",\"#FF97FF\",\"#FECB52\"],\"font\":{\"color\":\"#2a3f5f\"},\"hovermode\":\"closest\",\"hoverlabel\":{\"align\":\"left\"},\"paper_bgcolor\":\"white\",\"plot_bgcolor\":\"#E5ECF6\",\"polar\":{\"bgcolor\":\"#E5ECF6\",\"angularaxis\":{\"gridcolor\":\"white\",\"linecolor\":\"white\",\"ticks\":\"\"},\"radialaxis\":{\"gridcolor\":\"white\",\"linecolor\":\"white\",\"ticks\":\"\"}},\"ternary\":{\"bgcolor\":\"#E5ECF6\",\"aaxis\":{\"gridcolor\":\"white\",\"linecolor\":\"white\",\"ticks\":\"\"},\"baxis\":{\"gridcolor\":\"white\",\"linecolor\":\"white\",\"ticks\":\"\"},\"caxis\":{\"gridcolor\":\"white\",\"linecolor\":\"white\",\"ticks\":\"\"}},\"coloraxis\":{\"colorbar\":{\"outlinewidth\":0,\"ticks\":\"\"}},\"colorscale\":{\"sequential\":[[0.0,\"#0d0887\"],[0.1111111111111111,\"#46039f\"],[0.2222222222222222,\"#7201a8\"],[0.3333333333333333,\"#9c179e\"],[0.4444444444444444,\"#bd3786\"],[0.5555555555555556,\"#d8576b\"],[0.6666666666666666,\"#ed7953\"],[0.7777777777777778,\"#fb9f3a\"],[0.8888888888888888,\"#fdca26\"],[1.0,\"#f0f921\"]],\"sequentialminus\":[[0.0,\"#0d0887\"],[0.1111111111111111,\"#46039f\"],[0.2222222222222222,\"#7201a8\"],[0.3333333333333333,\"#9c179e\"],[0.4444444444444444,\"#bd3786\"],[0.5555555555555556,\"#d8576b\"],[0.6666666666666666,\"#ed7953\"],[0.7777777777777778,\"#fb9f3a\"],[0.8888888888888888,\"#fdca26\"],[1.0,\"#f0f921\"]],\"diverging\":[[0,\"#8e0152\"],[0.1,\"#c51b7d\"],[0.2,\"#de77ae\"],[0.3,\"#f1b6da\"],[0.4,\"#fde0ef\"],[0.5,\"#f7f7f7\"],[0.6,\"#e6f5d0\"],[0.7,\"#b8e186\"],[0.8,\"#7fbc41\"],[0.9,\"#4d9221\"],[1,\"#276419\"]]},\"xaxis\":{\"gridcolor\":\"white\",\"linecolor\":\"white\",\"ticks\":\"\",\"title\":{\"standoff\":15},\"zerolinecolor\":\"white\",\"automargin\":true,\"zerolinewidth\":2},\"yaxis\":{\"gridcolor\":\"white\",\"linecolor\":\"white\",\"ticks\":\"\",\"title\":{\"standoff\":15},\"zerolinecolor\":\"white\",\"automargin\":true,\"zerolinewidth\":2},\"scene\":{\"xaxis\":{\"backgroundcolor\":\"#E5ECF6\",\"gridcolor\":\"white\",\"linecolor\":\"white\",\"showbackground\":true,\"ticks\":\"\",\"zerolinecolor\":\"white\",\"gridwidth\":2},\"yaxis\":{\"backgroundcolor\":\"#E5ECF6\",\"gridcolor\":\"white\",\"linecolor\":\"white\",\"showbackground\":true,\"ticks\":\"\",\"zerolinecolor\":\"white\",\"gridwidth\":2},\"zaxis\":{\"backgroundcolor\":\"#E5ECF6\",\"gridcolor\":\"white\",\"linecolor\":\"white\",\"showbackground\":true,\"ticks\":\"\",\"zerolinecolor\":\"white\",\"gridwidth\":2}},\"shapedefaults\":{\"line\":{\"color\":\"#2a3f5f\"}},\"annotationdefaults\":{\"arrowcolor\":\"#2a3f5f\",\"arrowhead\":0,\"arrowwidth\":1},\"geo\":{\"bgcolor\":\"white\",\"landcolor\":\"#E5ECF6\",\"subunitcolor\":\"white\",\"showland\":true,\"showlakes\":true,\"lakecolor\":\"white\"},\"title\":{\"x\":0.05},\"mapbox\":{\"style\":\"light\"}}},\"title\":{\"text\":\"MSE loss landscape\"},\"scene\":{\"xaxis\":{\"title\":{\"text\":\"a\"}},\"yaxis\":{\"title\":{\"text\":\"b\"}},\"zaxis\":{\"title\":{\"text\":\"loss\"}}}},                        {\"responsive\": true}                    ).then(function(){\n",
              "                            \n",
              "var gd = document.getElementById('62b4cad9-4906-49b0-b84d-98ce89c6dfa1');\n",
              "var x = new MutationObserver(function (mutations, observer) {{\n",
              "        var display = window.getComputedStyle(gd).display;\n",
              "        if (!display || display === 'none') {{\n",
              "            console.log([gd, 'removed!']);\n",
              "            Plotly.purge(gd);\n",
              "            observer.disconnect();\n",
              "        }}\n",
              "}});\n",
              "\n",
              "// Listen for the removal of the full notebook cells\n",
              "var notebookContainer = gd.closest('#notebook-container');\n",
              "if (notebookContainer) {{\n",
              "    x.observe(notebookContainer, {childList: true});\n",
              "}}\n",
              "\n",
              "// Listen for the clearing of the current output cell\n",
              "var outputEl = gd.closest('.output');\n",
              "if (outputEl) {{\n",
              "    x.observe(outputEl, {childList: true});\n",
              "}}\n",
              "\n",
              "                        })                };                            </script>        </div>\n",
              "</body>\n",
              "</html>"
            ]
          },
          "metadata": {}
        }
      ]
    },
    {
      "cell_type": "markdown",
      "metadata": {
        "id": "jZy5qkSz6_2S"
      },
      "source": [
        "Look at the [convexity](https://en.wikipedia.org/wiki/Convex_function) of the MSE loss. Can you do the linear regression by sight hovering the mouse over it?\n",
        "\n",
        ">**EXERCISE** Visualize the **loss landscape** of other loss choices, such as the $L_1$ norm of the residual vector ($\\|f_\\theta(\\mathbf{x}) - \\mathbf{x}\\|_1)$ (absolute error) or the $L_{50}$ norm. Are these still convex?  "
      ]
    },
    {
      "cell_type": "code",
      "metadata": {
        "id": "DhhE2MtUi3g_",
        "colab": {
          "base_uri": "https://localhost:8080/",
          "height": 280
        },
        "outputId": "bb3e8721-7598-444f-b625-431d80a085ed"
      },
      "source": [
        "# ✏️ your code here"
      ],
      "execution_count": null,
      "outputs": [
        {
          "output_type": "error",
          "ename": "AttributeError",
          "evalue": "'numpy.ndarray' object has no attribute 'layout'",
          "traceback": [
            "\u001b[0;31m---------------------------------------------------------------------------\u001b[0m",
            "\u001b[0;31mAttributeError\u001b[0m                            Traceback (most recent call last)",
            "\u001b[0;32m<ipython-input-63-50835e91c85a>\u001b[0m in \u001b[0;36m<cell line: 0>\u001b[0;34m()\u001b[0m\n\u001b[1;32m      1\u001b[0m \u001b[0;31m# ✏️ your code here\u001b[0m\u001b[0;34m\u001b[0m\u001b[0;34m\u001b[0m\u001b[0m\n\u001b[0;32m----> 2\u001b[0;31m \u001b[0mL\u001b[0m\u001b[0;34m=\u001b[0m\u001b[0mtorch\u001b[0m\u001b[0;34m.\u001b[0m\u001b[0mnorm\u001b[0m\u001b[0;34m(\u001b[0m\u001b[0mr\u001b[0m\u001b[0;34m,\u001b[0m\u001b[0mp\u001b[0m\u001b[0;34m=\u001b[0m\u001b[0;36m1\u001b[0m\u001b[0;34m)\u001b[0m\u001b[0;34m\u001b[0m\u001b[0;34m\u001b[0m\u001b[0m\n\u001b[0m",
            "\u001b[0;32m/usr/local/lib/python3.11/dist-packages/torch/functional.py\u001b[0m in \u001b[0;36mnorm\u001b[0;34m(input, p, dim, keepdim, out, dtype)\u001b[0m\n\u001b[1;32m   1784\u001b[0m \u001b[0;34m\u001b[0m\u001b[0m\n\u001b[1;32m   1785\u001b[0m     \u001b[0;31m# We don't do this for MPS or sparse tensors\u001b[0m\u001b[0;34m\u001b[0m\u001b[0;34m\u001b[0m\u001b[0m\n\u001b[0;32m-> 1786\u001b[0;31m     if input.layout == torch.strided and input.device.type in (\n\u001b[0m\u001b[1;32m   1787\u001b[0m         \u001b[0;34m\"cpu\"\u001b[0m\u001b[0;34m,\u001b[0m\u001b[0;34m\u001b[0m\u001b[0;34m\u001b[0m\u001b[0m\n\u001b[1;32m   1788\u001b[0m         \u001b[0;34m\"cuda\"\u001b[0m\u001b[0;34m,\u001b[0m\u001b[0;34m\u001b[0m\u001b[0;34m\u001b[0m\u001b[0m\n",
            "\u001b[0;31mAttributeError\u001b[0m: 'numpy.ndarray' object has no attribute 'layout'"
          ]
        }
      ]
    },
    {
      "cell_type": "code",
      "metadata": {
        "id": "IrlLWxcm0tb9",
        "colab": {
          "base_uri": "https://localhost:8080/",
          "height": 542
        },
        "outputId": "a02959a1-cbee-4a7c-d5c4-325e5d1f1481"
      },
      "source": [
        "# @title 👀 Solution (see how we did the slider!) { run: \"auto\" }\n",
        "\n",
        "p = 37  #@param {type:\"slider\", min:1, max:50, step:1}\n",
        "\n",
        "predictions = a_range[:, None, None] * x[None, None, :]  + b_range[None, :, None]\n",
        "residuals = np.abs(t[None, None, :] - predictions) ** p\n",
        "losses = (residuals.sum(-1) ** (1/p)) / predictions.shape[-1]\n",
        "\n",
        "\n",
        "fig = go.Figure(data=[go.Surface(z=losses, x=a_range, y=b_range)])\n",
        "fig.update_traces(contours_z=dict(show=True, usecolormap=True,\n",
        "                                  highlightcolor=\"limegreen\", project_z=True))\n",
        "fig.update_layout(\n",
        "    title=f\"L{p} landscape\",\n",
        "    scene = dict(\n",
        "                xaxis_title='a',\n",
        "                yaxis_title='b',\n",
        "                zaxis_title='loss')\n",
        ")\n",
        "fig.show()"
      ],
      "execution_count": null,
      "outputs": [
        {
          "output_type": "display_data",
          "data": {
            "text/html": [
              "<html>\n",
              "<head><meta charset=\"utf-8\" /></head>\n",
              "<body>\n",
              "    <div>            <script src=\"https://cdnjs.cloudflare.com/ajax/libs/mathjax/2.7.5/MathJax.js?config=TeX-AMS-MML_SVG\"></script><script type=\"text/javascript\">if (window.MathJax && window.MathJax.Hub && window.MathJax.Hub.Config) {window.MathJax.Hub.Config({SVG: {font: \"STIX-Web\"}});}</script>                <script type=\"text/javascript\">window.PlotlyConfig = {MathJaxConfig: 'local'};</script>\n",
              "        <script charset=\"utf-8\" src=\"https://cdn.plot.ly/plotly-2.35.2.min.js\"></script>                <div id=\"ed2ab177-e275-44fc-ae60-9190fee9673d\" class=\"plotly-graph-div\" style=\"height:525px; width:100%;\"></div>            <script type=\"text/javascript\">                                    window.PLOTLYENV=window.PLOTLYENV || {};                                    if (document.getElementById(\"ed2ab177-e275-44fc-ae60-9190fee9673d\")) {                    Plotly.newPlot(                        \"ed2ab177-e275-44fc-ae60-9190fee9673d\",                        [{\"x\":[-5.0,-4.8,-4.6,-4.4,-4.2,-4.0,-3.8,-3.5999999999999996,-3.4,-3.2,-3.0,-2.8,-2.5999999999999996,-2.4,-2.1999999999999997,-2.0,-1.7999999999999998,-1.5999999999999996,-1.4,-1.1999999999999997,-1.0,-0.7999999999999998,-0.5999999999999996,-0.39999999999999947,-0.1999999999999993,0.0,0.20000000000000018,0.40000000000000036,0.6000000000000005,0.8000000000000007,1.0,1.2000000000000002,1.4000000000000004,1.6000000000000005,1.8000000000000007,2.0,2.2,2.4000000000000004,2.6000000000000005,2.8000000000000007,3.0,3.200000000000001,3.4000000000000004,3.5999999999999996,3.8000000000000007,4.0,4.200000000000001,4.4,4.600000000000001,4.800000000000001,5.0],\"y\":[-5.0,-4.8,-4.6,-4.4,-4.2,-4.0,-3.8,-3.5999999999999996,-3.4,-3.2,-3.0,-2.8,-2.5999999999999996,-2.4,-2.1999999999999997,-2.0,-1.7999999999999998,-1.5999999999999996,-1.4,-1.1999999999999997,-1.0,-0.7999999999999998,-0.5999999999999996,-0.39999999999999947,-0.1999999999999993,0.0,0.20000000000000018,0.40000000000000036,0.6000000000000005,0.8000000000000007,1.0,1.2000000000000002,1.4000000000000004,1.6000000000000005,1.8000000000000007,2.0,2.2,2.4000000000000004,2.6000000000000005,2.8000000000000007,3.0,3.200000000000001,3.4000000000000004,3.5999999999999996,3.8000000000000007,4.0,4.200000000000001,4.4,4.600000000000001,4.800000000000001,5.0],\"z\":[[0.8978984994814218,0.8778656542015421,0.8578372567004763,0.8378129008636528,0.8177921914580171,0.7977747465163676,0.7777601996358192,0.7577482021480824,0.7377384251166029,0.7177305611138091,0.6977243257310654,0.6777194587748382,0.6577157251054558,0.637712915080133,0.6177108445700632,0.5977093545326781,0.5777083101348126,0.5577075994403766,0.5377071316967336,0.5177068352762522,0.49770665535183295,0.4777065514052798,0.4577064946823695,0.4377064657152879,0.4177064520289161,0.39770644613054273,0.37770644385312646,0.357706443083223,0.3377064428620617,0.3177064428101834,0.2977064428007691,0.27770644279954343,0.25770644279944077,0.23770644279958,0.21770644371602868,0.1977102337521997,0.184089009129291,0.20252353261393458,0.22252300897514288,0.242523008874261,0.26252300898720327,0.2825230095413472,0.3025230116078036,0.322523017854455,0.34252303387827243,0.3625230699453691,0.382523142981864,0.4025232786020979,0.4225235129583308,0.4425238942361803,0.4625244836831743],[0.8797677515584665,0.85972623526094,0.8396901690002112,0.8196590846602089,0.7996325223105942,0.7796100332505327,0.7595911830169413,0.7395755543054591,0.7195627497474699,0.6995523944823134,0.6795441384607104,0.6595376584139468,0.6395326594240547,0.6195288760338026,0.5995260728424556,0.5795240445446586,0.5595226153860171,0.539521638030241,0.5195209918589152,0.49952058075520017,0.47952033045527004,0.4595201855832781,0.439520106513198,0.4195200662193327,0.39952004728168766,0.37952003919872934,0.35952003612660244,0.33952003511292483,0.3195200348321006,0.29952003476964817,0.27952003475916615,0.2595200347579493,0.23952003475786351,0.21952003476097004,0.19952006007321704,0.17966105657864856,0.18324018757523824,0.20321078425976163,0.2232107792823704,0.2432107793086137,0.26321077948528937,0.2832107803051953,0.3032107832307405,0.3232107917632761,0.3432108130128871,0.36321085967051087,0.3832109521826247,0.403211120885086,0.4232114078688968,0.44321186840858023,0.4632125718601034],[0.8616599247167354,0.8416066116812804,0.8215600306895198,0.8015196470136022,0.7814849291331646,0.7614553525204001,0.7414304034817786,0.7214095829961982,0.7013924104812513,0.68137842741156,0.6613672007061822,0.6413583257965381,0.6213514292828591,0.6013461710867767,0.581342246011383,0.5613393846291012,0.5413373534331537,0.5213359542113222,0.5013350226316255,0.48133442606832616,0.4613340607419715,0.4413338482961013,0.42133373198101126,0.4013336726548767,0.3813336448364974,0.3613336330436263,0.34133362862008304,0.32133362719250036,0.3013336268106164,0.2813336267301121,0.2613336267176448,0.2413336267163621,0.2213336267162908,0.20133362680223757,0.18133456996130565,0.16587416314077885,0.18389884215075386,0.20389854972687332,0.22389854970631284,0.2438985497508584,0.263898550024884,0.2838985512298862,0.3038985553489418,0.32389856695043734,0.3438985950205494,0.3638986551768943,0.3838987720191264,0.40389898134714597,0.4238993320163993,0.44389988727724683,0.4639007255343027],[0.8435865097655801,0.8235169652189986,0.8034557877269428,0.7834023769089014,0.7633561272816914,0.7433164327764767,0.7232826914655044,0.7032543104342663,0.6832307107225343,0.6632113322451764,0.6431956385911796,0.6231831215875088,0.6031733055041129,0.5831657507686561,0.5631600570558102,0.5431558656179252,0.523152860733591,0.5031507701701617,0.4831493645876983,0.4631484558564815,0.44314789431847934,0.4231475650932362,0.4031473836060185,0.3831472905924558,0.3631472468972544,0.343147228419579,0.3231472215487946,0.30314721937055183,0.2831472188056621,0.26314721869244295,0.24314721867625222,0.22314721867478152,0.20314721867482816,0.18314722186176427,0.16319747911990465,0.16461169395020406,0.18458632168813388,0.20458632012436007,0.22458632013251806,0.244586320205801,0.2645863206273609,0.28458632238675813,0.3045863281550895,0.32458634385855956,0.3445863807974308,0.3645864581071036,0.384586605274794,0.40458686442572417,0.4245872921581329,0.44458796080344287,0.46458895908589604],[0.8255656483430673,0.805473553404538,0.7853918899271568,0.765320004281321,0.7452572248776445,0.7252028671939688,0.7051562392454505,0.6851166474403637,0.6650834027471313,0.645055827079569,0.6250332597876678,0.6050150641208203,0.5850006335099204,0.5649893974952697,0.5449808271102063,0.5249744395179831,0.5049698016944271,0.48496653295486664,0.46496430614479073,0.4449628473540881,0.42496193407839256,0.4049613918402707,0.384961089396591,0.36496093278960223,0.3449608586332081,0.32496082713851676,0.3049608154416956,0.28496081176901067,0.26496081083775874,0.24496081065886832,0.22496081063511184,0.20496081063320867,0.18496081063752795,0.16496097926851336,0.14786476298443185,0.1652742341120381,0.18527409054983435,0.20527409054711682,0.22527409056168474,0.2452740906810257,0.26527409132441815,0.28527409387689645,0.30527410191262067,0.32527412307644166,0.34527417151360923,0.365274270588701,0.38527445557561235,0.40527477603300915,0.4252752976712916,0.44527610362704595,0.46527729515787575],[0.8076263614040116,0.7875027247725777,0.7673920698583744,0.7472937231566383,0.7272069748398626,0.7071310836513768,0.6870652825604899,0.667008785151685,0.6469607926986308,0.6269205018491003,0.6068871128191976,0.5868598379645645,0.566837910562699,0.5468205936046758,0.5268071883574381,0.5067970424212987,0.4867895569742552,0.4667841928696734,0.4467804752431027,0.4267779962957152,0.4067764159661736,0.3867754602902643,0.36677491738738305,0.3467746312078924,0.32677449341625947,0.3067744340428805,0.28677441175864254,0.2667744047345923,0.24677440296670508,0.22677440263598125,0.20677440259459656,0.18677440259165184,0.16677440282365805,0.14678822220856902,0.14598325055276373,0.16596186133550878,0.18596186096847572,0.20596186097040228,0.22596186099591192,0.24596186118835797,0.265961862162782,0.2859618658432638,0.305961876984204,0.3259619054072186,0.34596196878701857,0.3659620956862529,0.3859623285118726,0.4059627261262144,0.42596336595003903,0.4459643455004526,0.4659657833886596],[0.7898155084640088,0.7696476758526822,0.749495844002774,0.729359387243784,0.7092376201908761,0.6891298011505608,0.6690351366399436,0.648952787062814,0.6288818735631883,0.6088214860491654,0.5887706923465548,0.5687285484020541,0.5486941094091139,0.5286664416754053,0.5086446349885944,0.48862781516714904,0.46861515640651585,0.4486058929515929,0.4285993295505338,0.4085948500835867,0.3885919237308014,0.36859010806733916,0.3485890485833775,0.3285884743461091,0.3085881898726696,0.28858806375540513,0.2685880151140875,0.2485879994143279,0.22858799539903477,0.20858799464742722,0.188587994556093,0.1685879945502261,0.1485880133812522,0.13016539693933632,0.14664969022182733,0.16664963139103045,0.18664963139085794,0.20664963139457418,0.22664963143869313,0.2466496317461692,0.2666496332121485,0.28664963849755326,0.30664965392607285,0.3266496921869121,0.3466497756461727,0.3666499399525943,0.38665023760849165,0.40665074123515826,0.42665154635204,0.44665277357811206,0.46665457023466816],[0.7722089304512115,0.7519795822540469,0.7317695261242452,0.7115782992727536,0.6914053552301125,0.6712500635213149,0.6511117106416725,0.6309895025026312,0.6108825685056959,0.5907899673844499,0.5707106949277299,0.550643693659725,0.5305878645030571,0.510542080386325,0.4905052016751732,0.4704760932024916,0.4504536425458491,0.43043677904706257,0.4104244928914131,0.39041585337009777,0.3704100252569684,0.3504062820723733,0.33040401493512805,0.3104027357898429,0.2904020741230718,0.27040176691538526,0.2504016425233283,0.23040160032577975,0.21040158900468878,0.1904015867994986,0.1704015865262028,0.1504015865163017,0.13040421222146567,0.1273548759741046,0.14733740186938668,0.1673374018130217,0.18733740181333655,0.20733740182038582,0.22733740189601748,0.2473374023863733,0.26733740460624594,0.28733741232064114,0.30733743427045157,0.32733748776994315,0.3473376031665683,0.36733782878625876,0.38733823592381333,0.40733892346803247,0.4273400218423583,0.4473416960576649,0.4673441477856858],[0.7549281525349494,0.7346149417693054,0.7143240426356838,0.6940553135165215,0.6738085166872929,0.653583311797728,0.6333792502380569,0.6131957706980898,0.5930321962568378,0.5728877333646825,0.5527614730959766,0.5326523950538807,0.5125593742967942,0.4924811916212404,0.47241654747239437,0.4523640796515898,0.4323223848394148,0.4122900437414228,0.3922656493795839,0.372247837689049,0.3522353191395881,0.33222690960736856,0.31222155823140346,0.29221836960173675,0.2722166174978486,0.2522157477232144,0.23221536856378378,0.21221522914678834,0.19221518838126636,0.17221517971184305,0.15221517854688466,0.13221517950639555,0.11288085372147312,0.12802519072175286,0.14802517223533335,0.16802517223533361,0.18802517223602933,0.2080251722499514,0.22802517238982056,0.24802517326304696,0.2680251771326879,0.2880251904164518,0.3080252279228372,0.32802531880708435,0.3480255137710586,0.368025892726611,0.38802657207228486,0.40802771086445955,0.4280295154055064,0.44803224203274705,0.46803619811237995],[0.7381618819449518,0.7177392739833675,0.6973406830623182,0.6769664307354135,0.6566167612215038,0.6362918288968678,0.6159916852409577,0.595716265497493,0.5754653754023603,0.5552386784316865,0.535035684135566,0.5148557382413079,0.4946980153283323,0.47456151498523036,0.4544450624441409,0.4343473147294836,0.4142667733324722,0.39420180429896906,0.3741506663604996,0.35411154730935573,0.33408260818653723,0.3140620340004033,0.29404808864235205,0.2740391704847979,0.2540338639775019,0.234030981618556,0.21402959025563958,0.19402901614603024,0.17402882511308765,0.15402877829278183,0.1340287709986478,0.11402905539407766,0.10872659914159877,0.128712942662126,0.1487129426576264,0.16871294265772754,0.18871294266211716,0.2087129427342067,0.22871294335664127,0.24871294679079486,0.2687129604954761,0.2887130034560024,0.3087131154418866,0.32871336823278885,0.34871387724406494,0.3687148119333445,0.3887164037526488,0.4087189509793786,0.4287228203025065,0.44872844544184465,0.4687363233098167],[0.7221839146382012,0.7016298215213154,0.6810987929687178,0.6605915906636296,0.6401089577507866,0.6196516073268498,0.5992202088306183,0.5788153721659597,0.5584376294466086,0.5380874143422069,0.5177650391383579,0.4974706698092132,0.47720429964693656,0.4569657223022515,0.4367545054609837,0.4165699667986206,0.39641115428773666,0.3762768333304346,0.3561654834754091,0.336075307561829,0.3160042559046725,0.29595006750445274,0.27591032917874825,0.25588255200358,0.2358642626410762,0.21585310516589215,0.19584694686232804,0.17584397862193007,0.15584279590797614,0.1358424393369435,0.11584236939202223,0.09603279024890007,0.10940071691533353,0.12940071307993165,0.1494007130802562,0.16940071309476556,0.1894007133249841,0.20940071520230438,0.2294007249259291,0.24940076138694453,0.26940086916907335,0.2894011353034348,0.30940170695317765,0.3294028069191731,0.3494047446128853,0.3694079213520388,0.38941282997488597,0.4094200495639216,0.42943023646838585,0.44944411289278163,0.46946245419257765],[0.7073432168596114,0.6866519947206797,0.6659796842931492,0.6453271702393877,0.6246953784702807,0.604085274449158,0.5834978600841059,0.5629341688034619,0.5423952583328229,0.5218822006147805,0.5013960682431732,0.4809379167349116,0.4605087619533121,0.44010955205295516,0.4197411334693394,0.39940421076310434,0.37909930058274993,0.3588266806541342,0.3385863355348485,0.3183779018361898,0.2982006166024692,0.27805327337256724,0.2579341909335872,0.2378411997920963,0.21777165108835922,0.197722452760503,0.17769013970164055,0.1576709905125099,0.13766121428206773,0.11765724065862551,0.09765613790642112,0.0900984675203619,0.11008848350236149,0.13008848350441626,0.15008848360147778,0.1700884850167506,0.19008849531998515,0.210088542647849,0.23008870054593786,0.25008911896066194,0.27009005348576104,0.29009188600639046,0.31009513333770833,0.33010044388589116,0.3501085845842994,0.3701204212717314,0.3901368956507887,0.4101590014245183,0.4301877614902887,0.4502242073737136,0.47026936151050514],[0.6939897072267394,0.6731859595840575,0.6523956682870956,0.6316194578459576,0.6108579961640005,0.5901119977111084,0.5693822266944268,0.5486695001254809,0.5279746906469474,0.507298728939254,0.4866426054766972,0.4660073713460734,0.44539413778076753,0.4248040740052364,0.4042384029376952,0.38369839427575514,0.3631853545089473,0.3427006134867734,0.32224550734878654,0.30182135792439396,0.28142944916383594,0.2610710017872263,0.24074714811267567,0.22045890976810836,0.20020718099125148,0.17999271709721892,0.1598161143921067,0.13967772643875248,0.11957735907595965,0.09951341394675652,0.07951033582168354,0.09077625431728131,0.11077625394944787,0.13077625495656134,0.15077626744310563,0.17077634400932074,0.1907766429736416,0.2107775031901245,0.2307794987292094,0.25078345472749203,0.2707904247090934,0.2908016412751607,0.3108184546055389,0.3308422705225026,0.3508744956092765,0.3709164930450709,0.39096955007126055,0.4110348563256697,0.4311134914273139,0.4512064198931608,0.4713144915027633],[0.6823327024365671,0.6614704611389217,0.6406186443209314,0.6197776725954104,0.5989479936798632,0.5781300841317565,0.5573244510129726,0.5365316334228197,0.5157522038282586,0.4949867691107636,0.47423597124306394,0.45350048750760674,0.43278103017323827,0.412078345556659,0.3913932124054354,0.37072643953466444,0.3500788625962948,0.3294513396927599,0.30884474514703436,0.28825995991542774,0.2676978555893518,0.24715926631634963,0.22664493898829102,0.20615544695569663,0.18569104843392045,0.16525147465594045,0.14483566262951503,0.12444154057654769,0.10406618928963365,0.08370708481086993,0.07148645236680357,0.09146402497103742,0.11146404396422036,0.13146421747681097,0.1514650234429969,0.17146749791338267,0.1914732950624786,0.21148457327783565,0.23150378181478812,0.25153343112385984,0.27157590027742196,0.2916333032850555,0.31170741487406467,0.33179964560283015,0.3519110526707805,0.37204237332029255,0.3921940700750405,0.41236637989624303,0.4325593619703555,0.4527729409802956,0.4730069442984842],[0.672322712165792,0.6514622374646952,0.6306131983219984,0.6097761831420868,0.5889518333620967,0.5681408493227211,0.5473439968326607,0.5265621145540582,0.5057961223856137,0.4850470310909879,0.464315953519067,0.4436041178953956,0.42291288383246173,0.4022437619018125,0.38159843780104147,0.3609788022542827,0.3403869876379898,0.3198254115980724,0.29929682602595786,0.2788043656761676,0.25835158284027004,0.2379424406346434,0.2175812153316464,0.19727222753571058,0.17701929030984467,0.1568247559120795,0.13668812187225948,0.11660441856305256,0.09656312541313457,0.07654904595203507,0.07215208552339898,0.09215268871780805,0.1121570417393359,0.13216987218185192,0.15219726275460108,0.17224508769475075,0.19231812677677942,0.21241969598273974,0.232551651723461,0.2527146004634832,0.27290818685823226,0.29313138315368564,0.31338274112194686,0.33366059254135394,0.35396319806333115,0.37428885089746655,0.3946359440221479,0.4150030095937652,0.4353887381316605,0.45579198361552853,0.4762117592185505],[0.663674942271901,0.6428562885162185,0.6220520645778524,0.6012631140611777,0.5804903520378554,0.5597347702442141,0.5389974420902285,0.5182795272871985,0.49758227585929493,0.47690703126071626,0.45625523227604114,0.43562841333498215,0.4150282028171671,0.39445631883954213,0.37391456186966365,0.35340480321943624,0.332928967921092,0.3124890094780266,0.29208687225719665,0.2717244345702359,0.25140342165922486,0.23112527332473828,0.2108909476699265,0.1907006448010993,0.1705534499230907,0.150446932191106,0.13037679218024917,0.11033670164531886,0.09031850308920839,0.07031310592001322,0.07299141712894427,0.09317556095678861,0.11342256853326496,0.13372221531092726,0.1540657357071617,0.17444573038628536,0.1948560200779521,0.21529150240796074,0.23574800068232343,0.2562221158766223,0.2767110942885354,0.2972127163007177,0.3177252058491632,0.33824715737916333,0.3587774764752142,0.3793153308307443,0.39986010901483166,0.4204113852304097,0.4409688888240509,0.4615324776997004,0.48210211504527944],[0.6560147303249889,0.6352505783541524,0.614503194505138,0.5937734687888283,0.5730623416088687,0.5523708021314858,0.5316998850551392,0.5110506654386993,0.4904242512538331,0.4698217733744385,0.44924437282180785,0.42869318526983136,0.4081693231008126,0.3876738557040373,0.36720778922426667,0.3467720475607429,0.32636745699567177,0.3059947372074415,0.2856545012717519,0.2653472660567159,0.2450734714295228,0.22483350095208526,0.2046276872289346,0.18445627109708246,0.16431926582409323,0.14421615845081415,0.12414537151119356,0.10410345244133183,0.08408420274880032,0.06446554615714825,0.08178426522854433,0.10192692692184943,0.122149819150534,0.14244339758398078,0.1627946662761255,0.1831915420762807,0.20362412878282182,0.2240847230053407,0.244567443120018,0.26506782213435004,0.2855824670115322,0.30610879908228017,0.3266448631509248,0.34718918812375,0.36774068426460294,0.388298565925589,0.4088622919636122,0.4294315185986187,0.450006061244313,0.4705858630232716,0.49117096844248104],[0.6490125611475958,0.6282974982120086,0.6075999629811996,0.5869207123505527,0.566260522642262,0.5456201840563478,0.5250004935990871,0.5044022464019178,0.4838262254462623,0.4632731898681864,0.4427438622450663,0.4222389155758557,0.4017589610618247,0.3813045382667476,0.36087610975157075,0.340474062767749,0.32009872092843183,0.299750368750836,0.2794292912630683,0.2591358290423081,0.23887044546615832,0.21863379672491529,0.19842678491386295,0.17825055799889136,0.15810639350197472,0.1379953599764543,0.11791759715839593,0.09787106505161637,0.07784997984159961,0.07540690644313719,0.09545509958717895,0.11554424194258509,0.13567673711996492,0.15585145040686982,0.17606571045181454,0.19631628539164717,0.21659981752105,0.23691303371677036,0.2572528568974529,0.2776164663418004,0.29800132760573567,0.31840520282972723,0.33882614785853615,0.35926250034930407,0.3797128617999996,0.4001760756972028,0.42065120349641305,0.4411374997748953,0.46163438758051234,0.48214143472424115,0.50265833152867],[0.6424368221380214,0.6217587287695793,0.6010976885336431,0.5804542822641101,0.5598290929664796,0.5392227009597552,0.5186356782823573,0.498068582452652,0.4775219497683792,0.4569962884538493,0.43649207212271646,0.4160097342188145,0.3955496643261173,0.3751122074955194,0.35469766801116287,0.33430631930079985,0.3139384219733406,0.2935942522368451,0.2732741431982487,0.2529785416812148,0.23270808282053124,0.21246368247473205,0.1922466398393366,0.1720587213673878,0.15190214750657638,0.13177930956539952,0.1116919183147221,0.09163926376007718,0.07207002612799432,0.08911159605619523,0.10917719194701254,0.12928160083088572,0.14942338723834675,0.1695988031059063,0.18980370364924198,0.21003438453979079,0.2302878109694823,0.25056158003699813,0.2708538000539124,0.2911629676646776,0.3114878699625724,0.3318275148173313,0.35218108402570725,0.372547902284235,0.3929274160422557,0.41331917800730666,0.4337228346303421,0.4541381150560163,0.47456482078818524,0.49500281577861793,0.5154520168928082],[0.6361458928145771,0.6154925862404406,0.5948552185797966,0.574234226682907,0.5536300465165829,0.5330431108438353,0.5124738467591283,0.4919226731549434,0.4713899982255194,0.45087621715002335,0.4303817101428865,0.409906841120125,0.38945195732094035,0.36901739037071424,0.348603459523653,0.3282104782635621,0.30783876619727946,0.2874886694189689,0.26716059442483414,0.24685506321714384,0.2265727998305072,0.2063148588651841,0.1860827988065715,0.16587887440073304,0.1457061517525345,0.1255683130175036,0.10546872282323265,0.08540824862626686,0.0827783829989526,0.10282445969893703,0.12290680431653951,0.14302607712667212,0.16317964944169208,0.18336346326367026,0.2035732913871091,0.22380531971455708,0.24405635043540283,0.26432381804237925,0.28460572523122163,0.30490055369638763,0.32520717551543177,0.345524775245634,0.3658527852111462,0.3861908331448471,0.40653870023413746,0.42689628750920805,0.44726358878494255,0.46764066873072785,0.48802764497647316,0.5084246734318848,0.5288319361989733],[0.6300609437365415,0.6094225254110938,0.5887986898376185,0.5681897707805466,0.5475961045593116,0.5270180301267002,0.506455889294609,0.48591002710595826,0.4653807923301373,0.4448685380336789,0.42437362215463426,0.40389640800352755,0.38343726465527384,0.3629965673371476,0.34257469824373926,0.3221720488533843,0.301789025970736,0.281426065616052,0.2610836617577623,0.24076242079365776,0.22046315704410194,0.20018704708203378,0.1799358555065917,0.15971221839959696,0.13951989740234005,0.11936375636351715,0.09924892569738651,0.07969729309083501,0.09648249483514064,0.11654489620598682,0.13664274416489544,0.15677525069394055,0.17693929740519732,0.19713097033383573,0.21734637622535788,0.23758200832408077,0.25783487369617786,0.27810250639307277,0.2983829307614617,0.31867460601411923,0.3389763664814735,0.35928736396116673,0.37960701483557047,0.3999349528883421,0.4202709879441541,0.4406150700805741,0.4609672589893449,0.4813276979924844,0.5016965921991764,0.5220741902994521,0.5424607695181095],[0.6241414733375318,0.6035105435483336,0.5828927747605457,0.5622884207725527,0.5416977418046524,0.5211210063650118,0.5005584934790819,0.48001049525367384,0.4594773197055474,0.4389592937350456,0.4184567660754513,0.39797011001456567,0.377499725697217,0.35704604192905276,0.3366095176991297,0.3161906442533033,0.2957899496720756,0.27540800978755076,0.25504547220605045,0.23470310442344297,0.21438188245277084,0.19408314199392412,0.17380881641983076,0.15356177483903327,0.13334622323625545,0.11316797749951066,0.09303409496536494,0.0901502237515326,0.11019433291957563,0.13027217023923704,0.15038411616313999,0.17052835210776557,0.19070161159938057,0.21090023392186125,0.23112070387975447,0.25135988627241396,0.27161510112827547,0.2918841231701205,0.31216514850062005,0.33245674922288887,0.3527578254976539,0.37306755920894946,0.39338537097347814,0.41371088113834215,0.43404387492191576,0.4543842716227317,0.4747320977038013,0.495087463494177,0.5154505432120196,0.5358215579945415,0.5562007616155342],[0.6183689336737684,0.5977401538806756,0.577123100173864,0.5565179510408715,0.5359248929032341,0.5153441232974025,0.49477585471111735,0.4742203190953111,0.45367777303522805,0.43314850351757955,0.41263283417721447,0.39213113185714465,0.37164381329044277,0.3511713517484271,0.33071428365801603,0.31027321556783516,0.28984883257879884,0.26944191064912193,0.24905333730872595,0.22868414865922518,0.2083355956935203,0.1880092609423828,0.1677072585547474,0.1474325662671833,0.12718954010218522,0.10698457341731174,0.08739248842597604,0.10385344868938691,0.1239131766054995,0.14400548599756244,0.16413013820049244,0.1842847764528362,0.20446617496964903,0.22467096603039854,0.24489600543696505,0.26513852689859535,0.2853961841739797,0.30566703805174283,0.32594951914120596,0.34624238253238826,0.36654466219563386,0.3868556286222177,0.40717475096493755,0.4275016638570707,0.4478361386210351,0.4681780584177385,0.488527396867665,0.5088841997100177,0.5292485691165504,0.5496206503254736,0.5700006203029359],[0.6127371812189151,0.5921068355645048,0.5714867824446006,0.5508771193849297,0.5302779501898547,0.5096893890215602,0.48911156548212054,0.4685446308169796,0.4479887653441139,0.42744418718969757,0.40691116237927627,0.3863900162972174,0.3658811464954637,0.3453850368213761,0.32490227286830015,0.30443355886422363,0.2839797363419049,0.26354180532331817,0.24312094938817216,0.22271856716250288,0.20233631541696262,0.18197617588356518,0.16164057566615253,0.14133263141619332,0.12105665885795888,0.10081930722059962,0.09752280943440564,0.1175644211488099,0.13763844007345774,0.1577440824961388,0.17788014474013006,0.19804403977734428,0.21823269764516437,0.2384430744752201,0.2586724027955921,0.27891828949085584,0.2991787308369839,0.31945208644013834,0.33973703610654704,0.3600325327148239,0.38033775760045196,0.4006520811759586,0.4209750294559663,0.44130625615075453,0.4616455195892633,0.48199266365001747,0.5023476019460288,0.5227103046316944,0.5430807873272873,0.5634591017684822,0.5838453278781294],[0.6072472912552034,0.5866130287000093,0.5659876516520834,0.5453711694460297,0.524763592853885,0.504164938462205,0.48357523432334454,0.46299452710185607,0.4424228909557938,0.42186043841126464,0.4013073335083529,0.38076380752037425,0.3602301775800025,0.3397068685875947,0.3191944388242375,0.29869360972005954,0.27820530017183726,0.2577306655331889,0.23727114072775324,0.21682848575016603,0.19640483060116448,0.176002717926453,0.15562515295288407,0.1352757107117005,0.11495885911499715,0.09525250866919342,0.11122444578651827,0.13128190400818618,0.151369464816289,0.17148727749556233,0.19163359822824835,0.2118058210236601,0.2320011287628821,0.25221684838551,0.2724506136273418,0.29270041481789166,0.31296458864380317,0.3332417803857725,0.3535308972554593,0.37383106260574095,0.3941415754429919,0.41446187664251183,0.43479152170124424,0.4551301591691147,0.47547751369704533,0.4958333726851295,0.5161975756658341,0.5365700057357026,0.5569505825158564,0.5773392562608014,0.5977360028434192],[0.6019047787410259,0.5812655220555686,0.5606338258172905,0.5400096096630984,0.5193927871611633,0.4987832696543563,0.4781809714320052,0.45758581650992103,0.4369977473484886,0.4164167359007718,0.39584279746201567,0.37527600789488597,0.3547165249377906,0.334164614470741,0.3136206828098951,0.2930853163037763,0.27255932964868784,0.2520438243027986,0.2315402579454952,0.21105052479908676,0.1905770444887989,0.1701228539639309,0.14969169439324992,0.12928809093657173,0.1089177608984359,0.10489719276276055,0.12493467785771029,0.14500542681459722,0.16510561153758524,0.1852345222849099,0.20539019725222926,0.2255701965730749,0.24577206125429382,0.26599354360553373,0.2862326952358593,0.30648787628697166,0.32675772695415367,0.3470411252866391,0.3673371439665494,0.38764501190492356,0.407964082630499,0.42829380946019613,0.44863372655719813,0.46898343470794523,0.48934259068206865,0.5097108992049454,0.5300881067760084,0.5504739967596487,0.5708683853394064,0.5912711180548802,0.6116820667366094],[0.5967179850804456,0.5760739342888195,0.5554362891860937,0.5348048900670114,0.5141795624192105,0.4935601194250843,0.4729463655757101,0.4523381016617236,0.43173513146605796,0.41113727056074484,0.3905443577097732,0.3699562695084403,0.34937293905364775,0.3287943796474373,0.30822071479982005,0.28765221614062864,0.26708935132901296,0.24653284478844592,0.2259837553488846,0.20544357707858305,0.18491437326197854,0.16439895870171825,0.14390115028718936,0.12342610279597788,0.10348376516965734,0.11859547968077142,0.13865098926131839,0.15873446597618165,0.17884639203213779,0.19898564158955032,0.21915033037354123,0.23933836204449607,0.2595477208119937,0.2797765976877751,0.30002342268958804,0.32028685113835975,0.34056573219172614,0.3608590743165153,0.381166014358921,0.4014857924704941,0.42181773296494346,0.4421612302518496,0.4625157387254533,0.48288076553575127,0.5032558653461032,0.5236406363887999,0.5440347173216658,0.5644377845470646,0.5848495497762979,0.6052697577106978,0.6256981837716171],[0.5916969319429854,0.5710495843141064,0.550407771488678,0.5297712816061269,0.5091398807484053,0.4885133137904599,0.46789130598574,0.4472735654803882,0.4266597869950252,0.40604965696664114,0.3854428605031258,0.3648390905644413,0.3442380598385622,0.3236395158156439,0.30304325957302086,0.2824491687826805,0.26185722552557333,0.24126754988128957,0.22068044149399232,0.2000964344382648,0.17951637751882404,0.15894156552133154,0.1383739717682541,0.11781705093622725,0.11227804234864527,0.1323050775561404,0.1523730580955818,0.17246871922696477,0.19259197652956242,0.21274171296764294,0.23291637429401063,0.25311430744159324,0.27333392273230395,0.2935737549806573,0.31383247425747335,0.33410887559553365,0.3544018626233121,0.37471043183669556,0.3950336598774665,0.4153706941285537,0.4357207460998465,0.45608308684998955,0.47645704373413195,0.4968419979122052,0.5172373822135596,0.5376426790958886,0.5580574185476517,0.5784811758634317,0.5989135692753355,0.6193542574564594,0.6398029369302118],[0.586852290182267,0.5662044098045167,0.5455616004144742,0.5249236446073373,0.5042903009508163,0.4836613038186087,0.4630363636971399,0.44241516811778603,0.4217973834031416,0.4011826574521334,0.380570623816021,0.3599609073198835,0.3393531314373004,0.31874692749513756,0.2981419455301919,0.2775378662070031,0.25693441264094835,0.2363313603463339,0.2157285430919337,0.1951258526254953,0.17452323152300228,0.15392066099729992,0.1333181488966276,0.1130084753218549,0.12596658846031097,0.14602053715421884,0.16610101219860698,0.18620916945651494,0.2063449095520274,0.2265074234529016,0.24669555042097788,0.26690797655171083,0.2871433385538636,0.3074002769170675,0.32767746369569045,0.3479736179302998,0.36828751496915707,0.3886179925375455,0.40896395479284564,0.42932437489456277,0.44969829633433245,0.4700848331749262,0.490483169327035,0.5108925569968892,0.5313123144447662,0.5517418231962815,0.5721805248434862,0.5926279175622443,0.6130835524580078,0.6335470298357674,0.6540179954731847],[0.5821943249369672,0.5615498115242252,0.5409104226529822,0.5202759995824302,0.4996463665961989,0.4790213314599903,0.4584006865138369,0.4377842106479595,0.4171716724932054,0.39656283525796565,0.3759574637640835,0.3553553343750674,0.33475624867385834,0.3141600519474573,0.29356665781290237,0.27297608078052227,0.2523884794458199,0.2318042148721507,0.21122393269724973,0.19064868586881634,0.1700801324511941,0.1495208798697411,0.12897537257611097,0.11971879810371458,0.1396760639548022,0.1597429535437352,0.17983768876644385,0.1999614696118593,0.22011442314828863,0.24029595749027766,0.26050501332813086,0.28074024156659005,0.3010001297825701,0.3212830924164234,0.3415875344749886,0.36191189556062997,0.38225467926369266,0.40261447175644094,0.4229899525255803,0.44337989947015943,0.4637831900304824,0.4841987995782799,0.5046257979678959,0.5250633449019083,0.5455106845832061,0.5659671399927804,0.5864321070354143,0.6069050487242673,0.6273854895229561,0.6478730099249461,0.6683672413213265],[0.5777318122400852,0.5570954411670519,0.536464836376852,0.5158399717409495,0.49522082210093527,0.47460736640381035,0.4539995921362537,0.4333975015542414,0.4128011203884621,0.39221050995453843,0.3716257839338198,0.3510471315509062,0.33047484951336786,0.3099093859860428,0.28935140119133174,0.2688018511928505,0.24826210440689417,0.2277341049654887,0.20722060401206527,0.1867254900979555,0.16625426233712162,0.1458146968247869,0.12549597338273272,0.13333956961483392,0.15339491209967435,0.1734794506580267,0.19359539505497209,0.21374387500248374,0.23392477285857122,0.2541370870006627,0.27437924274164976,0.29464933609093685,0.31494531272759374,0.3352650921520659,0.3556066490383015,0.3759680630284106,0.3963475462861577,0.4167434559821279,0.43715429695816954,0.45757871826449925,0.4780155060884065,0.4984635747458232,0.5189219568157951,0.5393897930963921,0.5598663227937978,0.5803508741822923,0.6008428558612079,0.6213417486645162,0.641847098235127,0.6623585082496541,0.6828756342641127],[0.5734710083611084,0.5528480433131404,0.5322320812651762,0.5116232988836534,0.4910219009741981,0.4704281276038884,0.44984226333354443,0.42926464928099567,0.40869569898914965,0.38813591940931974,0.3675859387549766,0.3470465435609814,0.3265187280216191,0.30600375957710557,0.28550326570040657,0.2650193476486423,0.24455472690675925,0.2241129275662767,0.20369848944483895,0.18331718508183634,0.1629761645021758,0.14268394008359175,0.12780140967468098,0.1470595188805776,0.1671404273510229,0.1872568026193662,0.2074104346837188,0.22760119677984933,0.24782764182953554,0.2680875271012599,0.28837821135204916,0.3086969282729424,0.3290409602285532,0.34940773939232744,0.36979489955176137,0.39020029624365915,0.41062200766894874,0.4310583247193948,0.4515077354598002,0.47196890735434505,0.49244066916844265,0.5129219936109952,0.5334119812465776,0.5539098458880978,0.5744149014988509,0.5949265505361153,0.6154442736224857,0.6359676204145247,0.6564962015378176,0.6770296814651446,0.6975677722256884],[0.5694147993693021,0.5488105125048582,0.528214988799723,0.5076286581964854,0.48705200956544514,0.46648560124845906,0.4459300739663131,0.425386166731948,0.40485473658310955,0.3843367831455472,0.36383347924437953,0.3433462089494702,0.3228766144609977,0.30242665287941123,0.2819986626866059,0.2615954367884189,0.24122029261048689,0.22087711733429022,0.20057034412937497,0.18030477940921072,0.16008515271741294,0.13993113675454136,0.14075651504915448,0.16083806342847956,0.18097117570418628,0.20114729174867851,0.22136516686362612,0.2416220822389553,0.2619145986602541,0.2822390609375137,0.3025919008225517,0.3229697988335418,0.34336975585689494,0.36378911114359513,0.3842255308486731,0.4046769821037873,0.4251417014572313,0.44561816260162856,0.46610504592186164,0.4866012109935659,0.5071056723741209,0.5276175786109307,0.5481361941927709,0.5686608840946406,0.589191100557946,0.609726371772378,0.6302662921643546,0.6508105140388323,0.6713587403613046,0.6919107185024436,0.7124662347983628],[0.5655621626220471,0.5449813264487455,0.5244113900001622,0.5038530541800876,0.48330710522188225,0.4627744258851106,0.44225600808483667,0.4217529670607344,0.40126655712341996,0.38079818887049527,0.36034944748620645,0.33992211122427796,0.31951816824715523,0.29913982836037,0.2787895233638046,0.2584698850473074,0.23818368243471774,0.21793368912570732,0.1977224383977791,0.177551813463247,0.15742245986718104,0.13874814201964905,0.1546226975392099,0.1748022568601932,0.19502865566029653,0.21529802246927318,0.23560583114301686,0.25594744955865084,0.2763185142908558,0.296715098173637,0.31713375878567984,0.33757152469020024,0.3580258530737106,0.378494577418903,0.39897585484657216,0.41946811763879455,0.43997003066779916,0.46048045501373897,0.48099841736547316,0.5015230845169807,0.5220537422031323,0.5425897775538902,0.5631306645264804,0.5836759517694314,0.6042252524647451,0.6247782357776919,0.6453346196151526,0.6658941644528864,0.6864566680405839,0.70702196083245,0.7275899020219596],[0.5619080332977568,0.5413544630156162,0.5208141043502392,0.5002879087575354,0.4797769275689555,0.45928231970156597,0.4388053585964135,0.4183474376441838,0.3979100730295252,0.37749490247759854,0.3571036777795299,0.33673824815788433,0.3164005304486608,0.2960924606592591,0.27581591967660635,0.25557262382582613,0.23536396902699197,0.21519081666692735,0.19505321286405436,0.17495004656778507,0.15488276032034,0.14874154290180508,0.16890232625410342,0.18921088224804883,0.20955421806895996,0.22992757924889345,0.25032678139389236,0.2707482120424878,0.29118878822311434,0.3116458950160593,0.3321173203305302,0.35260119339440943,0.37309593011365905,0.3936001861575992,0.41411281749503015,0.43463284761441157,0.4551594405031434,0.4756918784672505,0.4962295439531673,0.5167719046411754,0.537318501192057,0.5578689371336104,0.5784228704671216,0.598980006654262,0.6195400927124055,0.6401029122020901,0.6606682809356788,0.6812360432726717,0.7018060688960723,0.7223782499869638,0.7429524987322411],[0.5584435980896348,0.537919816138617,0.5174115124840328,0.4969198351737621,0.47644603073990793,0.4559914445006038,0.4355575171680445,0.4151457762207362,0.3947578200720095,0.3743952925945084,0.3540598450833743,0.3337530823396853,0.31347648936884476,0.29323133543661817,0.27301855323930546,0.2528385931944679,0.23269125697936613,0.2125755212511055,0.19248937298185703,0.17242970987497513,0.1527864756042073,0.16358334563143934,0.18397236683217477,0.20438066120859158,0.22480517339230816,0.24524458235080276,0.2656975797134189,0.28616290656819054,0.3066393805385049,0.32712591111932954,0.3476215055707471,0.3681252683449522,0.3886363965640742,0.40915417338491816,0.4296779604827849,0.45020719042782326,0.4707413594040891,0.49128002050451497,0.5118227776955672,0.5323692804602614,0.5529192190800267,0.5734723204920369,0.5940283446501669,0.6145870813185024,0.635148347232154,0.6557119835682946,0.67627785367915,0.696845841047099,0.7174158474296093,0.7379877911681719,0.7585616056407056],[0.5551569573188674,0.5346640248844248,0.5141885894605043,0.4937319206505243,0.4732953698200439,0.4528803607491632,0.43248837382845406,0.41212092182714877,0.39177951496133884,0.37146561280059587,0.3511805606010749,0.3309255081307309,0.3107013102165391,0.2905084104158563,0.2703467127373912,0.2502154514770362,0.23011307598983363,0.21003717503306527,0.18998447283846548,0.1699535429816256,0.1596919314739705,0.17964366699556217,0.20004643347467313,0.22046099485108073,0.24088727079771238,0.2613249501073231,0.2817735410084433,0.3022324415702498,0.3227009940009491,0.34317852347301325,0.36366436429795673,0.38415787656114386,0.4046584559201504,0.4251655386915155,0.4456786038048137,0.4661971727538906,0.4867208083296862,0.5072491126639834,0.5277817249305634,0.5483183189225035,0.5688586006373584,0.5894023059443836,0.6099491983710669,0.630499067023598,0.6510517246427681,0.6716070057898507,0.6921647651539095,0.7127248759711297,0.7332872285471808,0.753851728874573,0.7744182973381248],[0.552034032612986,0.5315715557743647,0.5111281909868058,0.49070524902664153,0.4703040949750455,0.4499261292984067,0.42957276059883504,0.40924536810698636,0.38894525195977897,0.368673569543444,0.3484312568577831,0.32821893518974055,0.3080368056261219,0.287884537326243,0.267761160144905,0.24766497799128015,0.22759352552625373,0.20754359582188697,0.1875114006010283,0.1678120531090948,0.17634553765122146,0.1966470260127393,0.2169768016524006,0.2373263408162999,0.2576939076560422,0.27807800105391456,0.29847727560068466,0.3188905028068925,0.3393165522095517,0.3597543817155342,0.38020303178061216,0.4006616208823067,0.42112934122207707,0.4416054543119058,0.46208928642036956,0.482580223971712,0.5030777090143604,0.5235812348580209,0.5440903419485859,0.564604614020434,0.5851236745414534,0.6056471834485175,0.6261748341597031,0.6467063508430487,0.6672414859188169,0.687780017771875,0.7083217486520155,0.7288665027420714,0.7494141243761021,0.7699644763923461,0.7905174386079395],[0.5490595686836993,0.528625852801938,0.5082123665462945,0.48782039012833583,0.46745122644506354,0.4471061746849953,0.4267864949225849,0.40649336216770715,0.3862278085897064,0.3659906532453291,0.34578241977056173,0.3256032443335129,0.305452778863897,0.2853300982736006,0.2652336249728006,0.2451610890114993,0.22510954655789245,0.20507548182547378,0.1850601556014301,0.1744615769423611,0.19400099040696855,0.2142161366729404,0.23445869501729763,0.2547264241450896,0.2750173494218753,0.29532964402078016,0.3156616176231084,0.3360117067133163,0.3563784668151592,0.37676056590189916,0.397156778264642,0.4175659784280916,0.43798713496687364,0.45841930423852595,0.47886162412610317,0.4993133079036216,0.519773638326673,0.5402419620259639,0.5607176842538956,0.5812002640091855,0.6016892095443456,0.622184074246133,0.642684452869348,0.6631899780987525,0.6837003174113627,0.70421517021108,0.7247342652087603,0.7452573580228181,0.7657842289778811,0.7863146810815351,0.8068485381616719],[0.5462180880136733,0.5258103926851556,0.5054235151826812,0.48505865106093926,0.4647169891518387,0.44439968095499693,0.42410780141157056,0.40384230005531674,0.38360394197700426,0.36339323884706765,0.3432103715465083,0.3230551078866401,0.3029267215472903,0.2828239217250518,0.26274480685530976,0.24268685960533154,0.2226470030413341,0.20262185802313176,0.18309069963307673,0.19182079590112125,0.21192971844679084,0.2320765774746414,0.2522493923281151,0.27244729465662365,0.2926692029682939,0.31291390962748744,0.3331801433698331,0.3534666136441374,0.37377204210009385,0.39409518462815046,0.4144348463011269,0.4347898909497007,0.4551592467049925,0.47554190855447986,0.4959369387339049,0.5163434655965118,0.5367606814522667,0.5571878397485708,0.5776242518667531,0.5980692837320605,0.6185223523757541,0.6389829225433007,0.6594505034096165,0.6799246454384965,0.7004049374065204,0.7208910036002025,0.7413825011874958,0.7618791177598959,0.7823805690384927,0.8028865967357476,0.8233969665641073],[0.5434946956127675,0.5231095370835186,0.5027452742469289,0.48240298474271703,0.46208371697138756,0.44178845875922895,0.4215180985328931,0.40127337846751737,0.38105483957275516,0.3608627594974273,0.3406970850560422,0.3205573631890295,0.3004426763039651,0.2803515906622773,0.26028212947299834,0.24023178516721733,0.22019759086440369,0.20018848705768338,0.1905337100846423,0.2099011738793219,0.22998119412774845,0.2500827878523401,0.2702063578462441,0.29035211130181265,0.3105199026039831,0.3307093169328229,0.3509197402107147,0.37115041669236964,0.3914004956762985,0.41166906878717724,0.43195519921030695,0.4522579441680037,0.47257637181522644,0.49290957360287874,0.5132566730199322,0.5336168314882702,0.5539892520539287,0.5743731814000583,0.5947679106030899,0.6151727749650931,0.635587153181755,0.6560104660455004,0.6764421748353816,0.6968817795076293,0.7173288167714558,0.7377828581121884,0.758243507806713,0.77871040096332,0.7991832016084368,0.8196616008355863,0.8401453150266723],[0.5408756801233601,0.5205091353366951,0.5001631076822078,0.47983854289467126,0.4595363442757082,0.43925734367769226,0.4190022664780293,0.398771690318926,0.37856599782871175,0.3583853242146382,0.3382295015803104,0.3180980031207998,0.29798989200632814,0.2779037817512514,0.257837817060811,0.23778968644039358,0.21775707316936227,0.1985001713485362,0.2080123266864014,0.2280362683648653,0.24809185531018035,0.2681640406762117,0.2882540019508285,0.3083625454055088,0.32849014305182506,0.3486369808177566,0.3688030064231704,0.3889879744663551,0.40919148732100635,0.4294130311690381,0.44965200698971514,0.4699077566556967,0.49017958449289145,0.5104667747746415,0.5307686056671691,0.5510843601434317,0.5714133343532415,0.5917548438914342,0.6121082283521988,0.6324728545026347,0.6528481183561181,0.6732334463783514,0.6936282960170368,0.7140321557102025,0.7344445444980003,0.7548650113378053,0.7752931342019876,0.7957285190211356,0.8161707985221636,0.8366196310000399,0.857074699053344],[0.538348902078414,0.517996882465145,0.49766461756950847,0.4773529220720302,0.4570625647049962,0.4367942438175395,0.4165485584804178,0.3963259750419775,0.37612678934850563,0.3559510852819763,0.3357986908760949,0.31566913407529423,0.29556160122374353,0.27547490262918006,0.25540745105833285,0.23535727678094664,0.21534846981041852,0.20685354061032957,0.22616477290921533,0.24619299897155872,0.2662329770469598,0.2862858035821935,0.3063528028054686,0.32643502887012105,0.34653327343604906,0.3666480837583811,0.38677978681762887,0.4069285164247683,0.42709424110459604,0.4472767912381051,0.4674758844729408,0.48769114881660636,0.5079221431295764,0.5281683749521868,0.5484293157463347,0.5687044137257545,0.5889931045003448,0.60929481978216,0.6296089944025484,0.6499350718787438,0.6702725087494324,0.6906207778762572,0.7109793708845294,0.7313477998932949,0.7517255986633091,0.7721123232719822,0.7925075524071146,0.8129108873562594,0.8333219517556959,0.8537403911520578,0.8741658724204349],[0.5359039913615207,0.5155624693607883,0.4952396339005861,0.47493617885509576,0.45465275714416264,0.4343899622962521,0.41414830700827776,0.3939281986157369,0.3737299115104936,0.35355355671068817,0.3333990490048969,0.3132660723738408,0.29315404476756274,0.27306208385480313,0.25298897700650824,0.23293424271207686,0.21403251382015215,0.22434834741066964,0.24433989508720272,0.2643610386150288,0.28439079103505216,0.3044305652754792,0.3244816401449376,0.34454511757303374,0.3646219117813051,0.38471274894994023,0.4048181744482964,0.42493856520988543,0.44507414530257383,0.4652250031695105,0.48539110938904767,0.5055723341194351,0.5257684636562074,0.5459792157396736,0.5662042534116376,0.5864431973407542,0.6066956366215992,0.6269611381103977,0.6472392543966358,0.6675295305298835,0.6878315096296047,0.708144737506087,0.7284687664157034,0.7488031580655559,0.7691474859726617,0.7895013372722652,0.8098643140592893,0.8302360343368033,0.8506161326359765,0.8710042603633843,0.8914000859238362],[0.5335323921285593,0.5131975756061324,0.4928801464202911,0.4725806921657658,0.4522997709092319,0.4320378994118398,0.41179553965732796,0.3915730835311687,0.37137083543954585,0.3511889925545577,0.33102762220825915,0.31088663572765124,0.29076575773364843,0.27066448977321206,0.2505821213764009,0.23056873113001575,0.22322648915298887,0.24250941206326954,0.2625193105738339,0.2825354591109287,0.3025582826435181,0.32258901905681214,0.342628827431924,0.3626787587013553,0.38273973739486206,0.40281255199155985,0.4228978521732115,0.442996151383964,0.4631078332788211,0.4832331608490783,0.5033722872242089,0.5235252673513101,0.5436920699360309,0.5638725891880485,0.5840666560479091,0.6042740486808728,0.6244945021092867,0.6447277169206618,0.6649733670371937,0.6852311065669893,0.7055005757806321,0.7257814062714516,0.7460732253660806,0.7663756598553548,0.7866883391156926,0.8070108976888879,0.8273429773845665,0.847684228964989,0.868034313466888,0.8883929032099008,0.9087596825361078],[0.5312272973842015,0.5108957552064858,0.49058013676055606,0.4702809381265765,0.44999864125554073,0.42973370890089885,0.4094865790211169,0.389257658426246,0.36904731523004586,0.3488558693335801,0.3286835796650428,0.30853062620096083,0.28839708390481406,0.26828288794120725,0.24819034833058407,0.22970498799041122,0.24071684162702747,0.26069256400488794,0.2807009943148291,0.30071369096375045,0.3207316686925926,0.34075598122954487,0.3607876480712947,0.38082762764495626,0.4008767975479395,0.42093594119473376,0.44100574001728104,0.46108677028666767,0.48117950363518674,0.5012843104232936,0.5214014651912812,0.5415311535440043,0.5616734799274502,0.5818284758610737,0.6019961082851653,0.6221762877658941,0.6423688763713019,0.6625736950897767,0.6827905307093484,0.7030191421128494,0.7232592659720211,0.7435106218444428,0.7637729166920825,0.7840458488504816,0.804329111484124,0.8246223955672759,0.8449253924311894,0.8652377959186401,0.885559304185741,0.9058896211891915,0.9262284578948679],[0.5289835114960935,0.5086522577147075,0.48833535667414785,0.4680332252589004,0.4477462831297796,0.42747495393618545,0.40721966704553436,0.38698085953833306,0.36675897789848466,0.34655447832349906,0.32636782381875595,0.30619947515281776,0.2860498715127583,0.26591954724958633,0.24589831208771487,0.23962043410256156,0.2588743172293183,0.27887721683090144,0.2988840725653752,0.3188943114443682,0.3389088021106049,0.3589284356949259,0.37895409635753746,0.3989866381806547,0.4190268666457174,0.43907552462800103,0.4591332825773498,0.479200732405533,0.49927838453438034,0.5193666675477284,0.5394659299148374,0.5595764432991761,0.5796984070241146,0.5998319533289462,0.6199771531098798,0.6401340218981137,0.660302525878976,0.6804825878015585,0.700674092667076,0.7208768931165904,0.7410908144652569,0.7613156593515295,0.7815512119864823,0.8017972420012729,0.8220535079004062,0.8423197601354644,0.8625957438188333,0.882881201100119,0.9031758732297964,0.9234795023354314,0.9437918329358693],[0.526797271304238,0.5064638166519584,0.48614308444351095,0.4658354208924034,0.44554119117524343,0.4252607861217196,0.40499463036075234,0.3847431917250376,0.36450699135237363,0.34428661333443966,0.3240827118558044,0.30389601243923436,0.28372731252716277,0.2635827949224533,0.24554501535187062,0.2570947819051382,0.27705884999045405,0.2970623700547272,0.317068053282394,0.3370764916531982,0.35708840829704924,0.3771045567597956,0.39712569945172677,0.4171525885415998,0.4371859497177004,0.4572264690200097,0.47727478270460344,0.497331469943693,0.517397048071255,0.5374719700376096,0.5575566237228453,0.5776513327679742,0.5977563586060091,0.6178719034067599,0.6379981136846317,0.6581350843550348,0.6782828630600949,0.6984414546169188,0.7186108254710011,0.7387909080631443,0.7589816050404822,0.7791827932610049,0.7993943275566331,0.8196160442327189,0.8398477642921776,0.8600892963806434,0.8803404394553868,0.9006009851855371,0.9208707200946853,0.9411494274594098,0.9614368889789068],[0.5246660480955627,0.5043284268771655,0.4840018795103075,0.4636866860774709,0.4433831592647059,0.4230916554294599,0.4028125879385385,0.3825464427151021,0.36229379559331865,0.3420553305090246,0.3218318566415791,0.30162432203234246,0.28143418612164317,0.26140568086666505,0.25603431987826486,0.2752451291032801,0.2952447669530775,0.3152478373284544,0.33525264105482544,0.3552597269722537,0.3752697000465569,0.3952831994267095,0.41530088183531333,0.4353234061105648,0.4553514194651056,0.47538554577079895,0.49542637597932976,0.5154744606468967,0.5355303044363386,0.5555943624115041,0.5756670379075801,0.5957486817499579,0.6158395925970369,0.6359400181944849,0.6560501573462523,0.6761701624284945,0.6963001422945132,0.7164401654406114,0.7365902633234681,0.7567504337387472,0.7769206441878957,0.7971008351753195,0.8172909233913842,0.8374908047480621,0.8577003572436507,0.8779194436410043,0.8981479139503286,0.9183856077129091,0.9386323560864274,0.9588879837358226,0.9791523105362024],[0.522588345256319,0.5022451241534408,0.4819113462215718,0.4615872266907696,0.4412730231636514,0.4209690497340229,0.4006756940145474,0.38039343720978314,0.3601228771168905,0.3398647534828025,0.3196199744500116,0.29938967046302833,0.27918510298315746,0.26158497186357976,0.27347743824938114,0.2934293742288642,0.31343084838052654,0.3334335216023384,0.35343765078456124,0.37344369824689216,0.39345217392777765,0.41346362249452884,0.43347861053140535,0.45349771417276025,0.4735215077024485,0.4935505534484676,0.5135853931474578,0.5336265408362642,0.553674477242682,0.5737296455892109,0.5937924486866973,0.613863247174198,0.6339423587530597,0.6540300582636192,0.6741265784593314,0.6942321113433931,0.7143468099454335,0.7344707904293948,0.7546041344374831,0.7747468915884467,0.7948990820610535,0.8150606992052676,0.8352317121341329,0.855412068258748,0.8756016957369237,0.8958005058132601,0.9160083950344882,0.9362252473290921,0.9564509359445644,0.9766853252392108,0.9969282723283321],[0.5205635006061903,0.5002137740538557,0.47987191140351326,0.45953806242294143,0.4392124244012205,0.4188952578476717,0.3985869054929435,0.3782878149417387,0.35799856520210444,0.3377198970631096,0.31745274935513157,0.29719907300006376,0.277169819791529,0.2724759578323044,0.2916181199274985,0.3116155600096936,0.33161700305807884,0.35161936111166897,0.3716229622396991,0.3916281967732848,0.4116354979148883,0.43164533237695374,0.4516581904983026,0.4716745764018454,0.491694998638985,0.5117199616294112,0.5317499580891594,0.5517854625466921,0.5718269259752444,0.5918747715171776,0.6119293912395404,0.631991143836348,0.6520603531794427,0.6721373076137508,0.6922222598922518,0.7123154276493934,0.7324169943177187,0.7525271104001219,0.7726458950186725,0.7927734376697948,0.8129098001243653,0.8330550184197433,0.8532091048986752,0.8733720502573435,0.8935438255714686,0.9137243842753394,0.9339136640739276,0.9541115887728575,0.9743180700150154,0.9945330089160137,1.0147562975936366]],\"type\":\"surface\",\"contours\":{\"z\":{\"project\":{\"z\":true},\"highlightcolor\":\"limegreen\",\"show\":true,\"usecolormap\":true}}}],                        {\"template\":{\"data\":{\"histogram2dcontour\":[{\"type\":\"histogram2dcontour\",\"colorbar\":{\"outlinewidth\":0,\"ticks\":\"\"},\"colorscale\":[[0.0,\"#0d0887\"],[0.1111111111111111,\"#46039f\"],[0.2222222222222222,\"#7201a8\"],[0.3333333333333333,\"#9c179e\"],[0.4444444444444444,\"#bd3786\"],[0.5555555555555556,\"#d8576b\"],[0.6666666666666666,\"#ed7953\"],[0.7777777777777778,\"#fb9f3a\"],[0.8888888888888888,\"#fdca26\"],[1.0,\"#f0f921\"]]}],\"choropleth\":[{\"type\":\"choropleth\",\"colorbar\":{\"outlinewidth\":0,\"ticks\":\"\"}}],\"histogram2d\":[{\"type\":\"histogram2d\",\"colorbar\":{\"outlinewidth\":0,\"ticks\":\"\"},\"colorscale\":[[0.0,\"#0d0887\"],[0.1111111111111111,\"#46039f\"],[0.2222222222222222,\"#7201a8\"],[0.3333333333333333,\"#9c179e\"],[0.4444444444444444,\"#bd3786\"],[0.5555555555555556,\"#d8576b\"],[0.6666666666666666,\"#ed7953\"],[0.7777777777777778,\"#fb9f3a\"],[0.8888888888888888,\"#fdca26\"],[1.0,\"#f0f921\"]]}],\"heatmap\":[{\"type\":\"heatmap\",\"colorbar\":{\"outlinewidth\":0,\"ticks\":\"\"},\"colorscale\":[[0.0,\"#0d0887\"],[0.1111111111111111,\"#46039f\"],[0.2222222222222222,\"#7201a8\"],[0.3333333333333333,\"#9c179e\"],[0.4444444444444444,\"#bd3786\"],[0.5555555555555556,\"#d8576b\"],[0.6666666666666666,\"#ed7953\"],[0.7777777777777778,\"#fb9f3a\"],[0.8888888888888888,\"#fdca26\"],[1.0,\"#f0f921\"]]}],\"heatmapgl\":[{\"type\":\"heatmapgl\",\"colorbar\":{\"outlinewidth\":0,\"ticks\":\"\"},\"colorscale\":[[0.0,\"#0d0887\"],[0.1111111111111111,\"#46039f\"],[0.2222222222222222,\"#7201a8\"],[0.3333333333333333,\"#9c179e\"],[0.4444444444444444,\"#bd3786\"],[0.5555555555555556,\"#d8576b\"],[0.6666666666666666,\"#ed7953\"],[0.7777777777777778,\"#fb9f3a\"],[0.8888888888888888,\"#fdca26\"],[1.0,\"#f0f921\"]]}],\"contourcarpet\":[{\"type\":\"contourcarpet\",\"colorbar\":{\"outlinewidth\":0,\"ticks\":\"\"}}],\"contour\":[{\"type\":\"contour\",\"colorbar\":{\"outlinewidth\":0,\"ticks\":\"\"},\"colorscale\":[[0.0,\"#0d0887\"],[0.1111111111111111,\"#46039f\"],[0.2222222222222222,\"#7201a8\"],[0.3333333333333333,\"#9c179e\"],[0.4444444444444444,\"#bd3786\"],[0.5555555555555556,\"#d8576b\"],[0.6666666666666666,\"#ed7953\"],[0.7777777777777778,\"#fb9f3a\"],[0.8888888888888888,\"#fdca26\"],[1.0,\"#f0f921\"]]}],\"surface\":[{\"type\":\"surface\",\"colorbar\":{\"outlinewidth\":0,\"ticks\":\"\"},\"colorscale\":[[0.0,\"#0d0887\"],[0.1111111111111111,\"#46039f\"],[0.2222222222222222,\"#7201a8\"],[0.3333333333333333,\"#9c179e\"],[0.4444444444444444,\"#bd3786\"],[0.5555555555555556,\"#d8576b\"],[0.6666666666666666,\"#ed7953\"],[0.7777777777777778,\"#fb9f3a\"],[0.8888888888888888,\"#fdca26\"],[1.0,\"#f0f921\"]]}],\"mesh3d\":[{\"type\":\"mesh3d\",\"colorbar\":{\"outlinewidth\":0,\"ticks\":\"\"}}],\"scatter\":[{\"fillpattern\":{\"fillmode\":\"overlay\",\"size\":10,\"solidity\":0.2},\"type\":\"scatter\"}],\"parcoords\":[{\"type\":\"parcoords\",\"line\":{\"colorbar\":{\"outlinewidth\":0,\"ticks\":\"\"}}}],\"scatterpolargl\":[{\"type\":\"scatterpolargl\",\"marker\":{\"colorbar\":{\"outlinewidth\":0,\"ticks\":\"\"}}}],\"bar\":[{\"error_x\":{\"color\":\"#2a3f5f\"},\"error_y\":{\"color\":\"#2a3f5f\"},\"marker\":{\"line\":{\"color\":\"#E5ECF6\",\"width\":0.5},\"pattern\":{\"fillmode\":\"overlay\",\"size\":10,\"solidity\":0.2}},\"type\":\"bar\"}],\"scattergeo\":[{\"type\":\"scattergeo\",\"marker\":{\"colorbar\":{\"outlinewidth\":0,\"ticks\":\"\"}}}],\"scatterpolar\":[{\"type\":\"scatterpolar\",\"marker\":{\"colorbar\":{\"outlinewidth\":0,\"ticks\":\"\"}}}],\"histogram\":[{\"marker\":{\"pattern\":{\"fillmode\":\"overlay\",\"size\":10,\"solidity\":0.2}},\"type\":\"histogram\"}],\"scattergl\":[{\"type\":\"scattergl\",\"marker\":{\"colorbar\":{\"outlinewidth\":0,\"ticks\":\"\"}}}],\"scatter3d\":[{\"type\":\"scatter3d\",\"line\":{\"colorbar\":{\"outlinewidth\":0,\"ticks\":\"\"}},\"marker\":{\"colorbar\":{\"outlinewidth\":0,\"ticks\":\"\"}}}],\"scattermapbox\":[{\"type\":\"scattermapbox\",\"marker\":{\"colorbar\":{\"outlinewidth\":0,\"ticks\":\"\"}}}],\"scatterternary\":[{\"type\":\"scatterternary\",\"marker\":{\"colorbar\":{\"outlinewidth\":0,\"ticks\":\"\"}}}],\"scattercarpet\":[{\"type\":\"scattercarpet\",\"marker\":{\"colorbar\":{\"outlinewidth\":0,\"ticks\":\"\"}}}],\"carpet\":[{\"aaxis\":{\"endlinecolor\":\"#2a3f5f\",\"gridcolor\":\"white\",\"linecolor\":\"white\",\"minorgridcolor\":\"white\",\"startlinecolor\":\"#2a3f5f\"},\"baxis\":{\"endlinecolor\":\"#2a3f5f\",\"gridcolor\":\"white\",\"linecolor\":\"white\",\"minorgridcolor\":\"white\",\"startlinecolor\":\"#2a3f5f\"},\"type\":\"carpet\"}],\"table\":[{\"cells\":{\"fill\":{\"color\":\"#EBF0F8\"},\"line\":{\"color\":\"white\"}},\"header\":{\"fill\":{\"color\":\"#C8D4E3\"},\"line\":{\"color\":\"white\"}},\"type\":\"table\"}],\"barpolar\":[{\"marker\":{\"line\":{\"color\":\"#E5ECF6\",\"width\":0.5},\"pattern\":{\"fillmode\":\"overlay\",\"size\":10,\"solidity\":0.2}},\"type\":\"barpolar\"}],\"pie\":[{\"automargin\":true,\"type\":\"pie\"}]},\"layout\":{\"autotypenumbers\":\"strict\",\"colorway\":[\"#636efa\",\"#EF553B\",\"#00cc96\",\"#ab63fa\",\"#FFA15A\",\"#19d3f3\",\"#FF6692\",\"#B6E880\",\"#FF97FF\",\"#FECB52\"],\"font\":{\"color\":\"#2a3f5f\"},\"hovermode\":\"closest\",\"hoverlabel\":{\"align\":\"left\"},\"paper_bgcolor\":\"white\",\"plot_bgcolor\":\"#E5ECF6\",\"polar\":{\"bgcolor\":\"#E5ECF6\",\"angularaxis\":{\"gridcolor\":\"white\",\"linecolor\":\"white\",\"ticks\":\"\"},\"radialaxis\":{\"gridcolor\":\"white\",\"linecolor\":\"white\",\"ticks\":\"\"}},\"ternary\":{\"bgcolor\":\"#E5ECF6\",\"aaxis\":{\"gridcolor\":\"white\",\"linecolor\":\"white\",\"ticks\":\"\"},\"baxis\":{\"gridcolor\":\"white\",\"linecolor\":\"white\",\"ticks\":\"\"},\"caxis\":{\"gridcolor\":\"white\",\"linecolor\":\"white\",\"ticks\":\"\"}},\"coloraxis\":{\"colorbar\":{\"outlinewidth\":0,\"ticks\":\"\"}},\"colorscale\":{\"sequential\":[[0.0,\"#0d0887\"],[0.1111111111111111,\"#46039f\"],[0.2222222222222222,\"#7201a8\"],[0.3333333333333333,\"#9c179e\"],[0.4444444444444444,\"#bd3786\"],[0.5555555555555556,\"#d8576b\"],[0.6666666666666666,\"#ed7953\"],[0.7777777777777778,\"#fb9f3a\"],[0.8888888888888888,\"#fdca26\"],[1.0,\"#f0f921\"]],\"sequentialminus\":[[0.0,\"#0d0887\"],[0.1111111111111111,\"#46039f\"],[0.2222222222222222,\"#7201a8\"],[0.3333333333333333,\"#9c179e\"],[0.4444444444444444,\"#bd3786\"],[0.5555555555555556,\"#d8576b\"],[0.6666666666666666,\"#ed7953\"],[0.7777777777777778,\"#fb9f3a\"],[0.8888888888888888,\"#fdca26\"],[1.0,\"#f0f921\"]],\"diverging\":[[0,\"#8e0152\"],[0.1,\"#c51b7d\"],[0.2,\"#de77ae\"],[0.3,\"#f1b6da\"],[0.4,\"#fde0ef\"],[0.5,\"#f7f7f7\"],[0.6,\"#e6f5d0\"],[0.7,\"#b8e186\"],[0.8,\"#7fbc41\"],[0.9,\"#4d9221\"],[1,\"#276419\"]]},\"xaxis\":{\"gridcolor\":\"white\",\"linecolor\":\"white\",\"ticks\":\"\",\"title\":{\"standoff\":15},\"zerolinecolor\":\"white\",\"automargin\":true,\"zerolinewidth\":2},\"yaxis\":{\"gridcolor\":\"white\",\"linecolor\":\"white\",\"ticks\":\"\",\"title\":{\"standoff\":15},\"zerolinecolor\":\"white\",\"automargin\":true,\"zerolinewidth\":2},\"scene\":{\"xaxis\":{\"backgroundcolor\":\"#E5ECF6\",\"gridcolor\":\"white\",\"linecolor\":\"white\",\"showbackground\":true,\"ticks\":\"\",\"zerolinecolor\":\"white\",\"gridwidth\":2},\"yaxis\":{\"backgroundcolor\":\"#E5ECF6\",\"gridcolor\":\"white\",\"linecolor\":\"white\",\"showbackground\":true,\"ticks\":\"\",\"zerolinecolor\":\"white\",\"gridwidth\":2},\"zaxis\":{\"backgroundcolor\":\"#E5ECF6\",\"gridcolor\":\"white\",\"linecolor\":\"white\",\"showbackground\":true,\"ticks\":\"\",\"zerolinecolor\":\"white\",\"gridwidth\":2}},\"shapedefaults\":{\"line\":{\"color\":\"#2a3f5f\"}},\"annotationdefaults\":{\"arrowcolor\":\"#2a3f5f\",\"arrowhead\":0,\"arrowwidth\":1},\"geo\":{\"bgcolor\":\"white\",\"landcolor\":\"#E5ECF6\",\"subunitcolor\":\"white\",\"showland\":true,\"showlakes\":true,\"lakecolor\":\"white\"},\"title\":{\"x\":0.05},\"mapbox\":{\"style\":\"light\"}}},\"title\":{\"text\":\"L37 landscape\"},\"scene\":{\"xaxis\":{\"title\":{\"text\":\"a\"}},\"yaxis\":{\"title\":{\"text\":\"b\"}},\"zaxis\":{\"title\":{\"text\":\"loss\"}}}},                        {\"responsive\": true}                    ).then(function(){\n",
              "                            \n",
              "var gd = document.getElementById('ed2ab177-e275-44fc-ae60-9190fee9673d');\n",
              "var x = new MutationObserver(function (mutations, observer) {{\n",
              "        var display = window.getComputedStyle(gd).display;\n",
              "        if (!display || display === 'none') {{\n",
              "            console.log([gd, 'removed!']);\n",
              "            Plotly.purge(gd);\n",
              "            observer.disconnect();\n",
              "        }}\n",
              "}});\n",
              "\n",
              "// Listen for the removal of the full notebook cells\n",
              "var notebookContainer = gd.closest('#notebook-container');\n",
              "if (notebookContainer) {{\n",
              "    x.observe(notebookContainer, {childList: true});\n",
              "}}\n",
              "\n",
              "// Listen for the clearing of the current output cell\n",
              "var outputEl = gd.closest('.output');\n",
              "if (outputEl) {{\n",
              "    x.observe(outputEl, {childList: true});\n",
              "}}\n",
              "\n",
              "                        })                };                            </script>        </div>\n",
              "</body>\n",
              "</html>"
            ]
          },
          "metadata": {}
        }
      ]
    },
    {
      "cell_type": "markdown",
      "metadata": {
        "id": "FXq55ce581os"
      },
      "source": [
        "### \"Tear down this loss[!](https://youtu.be/IguMXrgfrg8)\"\n",
        "\n",
        "Now we will explicitily compute the parameters $\\theta$ for several polynomial fits, defined in matrix notation as:\n",
        "\n",
        "![polyfit matrix notation](https://drive.google.com/uc?export=view&id=1e4AsSC00ivIXW4c35VNLladTcCTY4dpL)\n",
        "\n",
        "As seen in the lecture, we can analytically find the parameters $\\theta$ that minimize the MSE loss by solving a linear system:\n",
        "\n",
        "$$\\theta = (\\mathbf{X}^\\top \\mathbf{X})^{-1}\\mathbf{X}^\\top\\mathbf{y}$$\n",
        "\n",
        "Let's do it for a 3-degree polynomial fit, this time using pytorch instead of numpy.\n",
        "\n",
        "\n",
        "\n"
      ]
    },
    {
      "cell_type": "code",
      "metadata": {
        "id": "g1Oq4K-CbWqa"
      },
      "source": [
        "# Poly3 fit\n",
        "y = torch.from_numpy(t)\n",
        "x_tens = torch.from_numpy(x)\n",
        "\n",
        "X = torch.ones((y.shape[0], 4), dtype=torch.float64)  # double precision is needed for this calculation, especially with high degree polyfits\n",
        "X[:,0] = x_tens ** 3\n",
        "X[:,1] = x_tens ** 2\n",
        "X[:,2] = x_tens"
      ],
      "execution_count": 14,
      "outputs": []
    },
    {
      "cell_type": "markdown",
      "metadata": {
        "id": "Tv9COWdXnovB"
      },
      "source": [
        ">**EXERCISE**: complete the code"
      ]
    },
    {
      "cell_type": "code",
      "metadata": {
        "id": "4v9Puu-9qosN",
        "colab": {
          "base_uri": "https://localhost:8080/"
        },
        "outputId": "ce713abf-c210-4b12-ea6d-b0254b308aee"
      },
      "source": [
        "# ✏️ your code here (look at the formula above!)\n",
        "#So whenever moltiplying matrix/vectors always use @\n",
        "theta=torch.inverse((X.t()@X))@X.t()@y\n",
        "print(y.shape)\n",
        "#With einsum\n",
        "X2=X.t() @ X\n",
        "inv=torch.inverse(X2)\n",
        "Xint=torch.einsum('ij,jk->ik',inv,X.t())\n",
        "theta=torch.einsum('ij,j->i', Xint,y)"
      ],
      "execution_count": 15,
      "outputs": [
        {
          "output_type": "stream",
          "name": "stdout",
          "text": [
            "torch.Size([10])\n"
          ]
        }
      ]
    },
    {
      "cell_type": "code",
      "source": [
        "# @title 👀 Solution (without einsum)\n",
        "\n",
        "theta = torch.inverse(X.t() @ X) @ X.t() @ y"
      ],
      "metadata": {
        "cellView": "form",
        "id": "Ck8sPJ96gd9P"
      },
      "execution_count": null,
      "outputs": []
    },
    {
      "cell_type": "code",
      "metadata": {
        "id": "4di4c5yUqkdE",
        "cellView": "form"
      },
      "source": [
        "# @title 👀 Solution (with einsum)\n",
        "\n",
        "temp_inverse = torch.inverse(torch.einsum('ij,jk->ik', X.t(), X))  # or torch.einsum('ji,jk->ik', X, X)\n",
        "theta = torch.einsum('ij,jk,k->i', temp_inverse, X.t(), y)"
      ],
      "execution_count": null,
      "outputs": []
    },
    {
      "cell_type": "code",
      "source": [
        "# @title 👀 Solution (numerically stable)\n",
        "\n",
        "# The equation for theta requires us to solve a linear system.\n",
        "# Instead of explicitly computing a matrix inverse and then multiplying, a more\n",
        "# efficient and stable way is to use torch.linalg.solve(), which is designed to\n",
        "# handle this task more appropriately.\n",
        "\n",
        "theta = torch.linalg.solve(X.t() @ X, X.t() @ y)"
      ],
      "metadata": {
        "id": "x97OTApfhMo_"
      },
      "execution_count": 16,
      "outputs": []
    },
    {
      "cell_type": "code",
      "metadata": {
        "id": "tOJse7C9bojf",
        "colab": {
          "base_uri": "https://localhost:8080/",
          "height": 542
        },
        "outputId": "f022a810-9621-4354-b901-44800646cf91"
      },
      "source": [
        "#@title 3-degree polynomial fit\n",
        "\n",
        "a, b, c, d = theta.numpy()\n",
        "fig = go.Figure()\n",
        "fig.add_trace(go.Scatter(x=x, y=t, name='dataset', mode='markers', marker=dict(color=\"mediumpurple\")))\n",
        "fig.add_trace(go.Scatter(x=x_funcs, y=np.sin(2*np.pi*x_funcs), name='ground truth', mode='lines', line=dict(color=\"lightgreen\")))\n",
        "fig.add_trace(go.Scatter(x=x_funcs, y=a*x_funcs**3 + b*x_funcs**2 + c*x_funcs + d, name='poly3 fit', mode='lines', line=dict(color=\"lightsalmon\")))\n",
        "fig.update_xaxes(title_text=\"x\", range = [0,1])\n",
        "fig.update_yaxes(title_text=\"t\", range = [-1.5,1.5])\n",
        "fig.show()"
      ],
      "execution_count": 17,
      "outputs": [
        {
          "output_type": "display_data",
          "data": {
            "text/html": [
              "<html>\n",
              "<head><meta charset=\"utf-8\" /></head>\n",
              "<body>\n",
              "    <div>            <script src=\"https://cdnjs.cloudflare.com/ajax/libs/mathjax/2.7.5/MathJax.js?config=TeX-AMS-MML_SVG\"></script><script type=\"text/javascript\">if (window.MathJax && window.MathJax.Hub && window.MathJax.Hub.Config) {window.MathJax.Hub.Config({SVG: {font: \"STIX-Web\"}});}</script>                <script type=\"text/javascript\">window.PlotlyConfig = {MathJaxConfig: 'local'};</script>\n",
              "        <script charset=\"utf-8\" src=\"https://cdn.plot.ly/plotly-2.35.2.min.js\"></script>                <div id=\"08bcfd8a-ef54-4876-b867-5605097e7692\" class=\"plotly-graph-div\" style=\"height:525px; width:100%;\"></div>            <script type=\"text/javascript\">                                    window.PLOTLYENV=window.PLOTLYENV || {};                                    if (document.getElementById(\"08bcfd8a-ef54-4876-b867-5605097e7692\")) {                    Plotly.newPlot(                        \"08bcfd8a-ef54-4876-b867-5605097e7692\",                        [{\"marker\":{\"color\":\"mediumpurple\"},\"mode\":\"markers\",\"name\":\"dataset\",\"x\":[0.3745401188473625,0.9507143064099162,0.7319939418114051,0.5986584841970366,0.15601864044243652,0.15599452033620265,0.05808361216819946,0.8661761457749352,0.6011150117432088,0.7080725777960455],\"y\":[0.6621995859491285,-0.2504894367193866,-1.0399487832345553,-0.6275182299806012,0.854857342681687,0.6392487011533475,0.18441089666331875,-0.8014323286500792,-0.6947217251134631,-0.9340757540684701],\"type\":\"scatter\"},{\"line\":{\"color\":\"lightgreen\"},\"mode\":\"lines\",\"name\":\"ground truth\",\"x\":[0.0,0.0392156862745098,0.0784313725490196,0.11764705882352941,0.1568627450980392,0.19607843137254902,0.23529411764705882,0.27450980392156865,0.3137254901960784,0.3529411764705882,0.39215686274509803,0.43137254901960786,0.47058823529411764,0.5098039215686274,0.5490196078431373,0.5882352941176471,0.6274509803921569,0.6666666666666666,0.7058823529411764,0.7450980392156863,0.7843137254901961,0.8235294117647058,0.8627450980392157,0.9019607843137255,0.9411764705882353,0.9803921568627451,1.0196078431372548,1.0588235294117647,1.0980392156862746],\"y\":[0.0,0.24391372010837714,0.47309355683601007,0.6736956436465572,0.8336023852211194,0.9431544344712774,0.9957341762950345,0.9881654720812594,0.9209055179449537,0.7980172272802396,0.6269238058941065,0.41796034488678324,0.18374951781657037,-0.061560906133942536,-0.3031526741130438,-0.5264321628773558,-0.7179119230644417,-0.8660254037844384,-0.961825643172819,-0.9995257197133659,-0.9768483177596007,-0.8951632913550626,-0.7594049166547069,-0.5777738314082513,-0.36124166618715303,-0.12288829066471489,0.12288829066471353,0.3612416661871526,0.5777738314082517],\"type\":\"scatter\"},{\"line\":{\"color\":\"lightsalmon\"},\"mode\":\"lines\",\"name\":\"poly3 fit\",\"x\":[0.0,0.0392156862745098,0.0784313725490196,0.11764705882352941,0.1568627450980392,0.19607843137254902,0.23529411764705882,0.27450980392156865,0.3137254901960784,0.3529411764705882,0.39215686274509803,0.43137254901960786,0.47058823529411764,0.5098039215686274,0.5490196078431373,0.5882352941176471,0.6274509803921569,0.6666666666666666,0.7058823529411764,0.7450980392156863,0.7843137254901961,0.8235294117647058,0.8627450980392157,0.9019607843137255,0.9411764705882353,0.9803921568627451,1.0196078431372548,1.0588235294117647,1.0980392156862746],\"y\":[-0.5120931109718676,-0.03449154327024695,0.3345659110515409,0.6043139768507995,0.783987378984832,0.8828208423109425,0.9100490916864337,0.8749068519686094,0.7866288480147727,0.6544498046822296,0.4876044468282792,0.29532749931022795,0.0868536869853791,-0.12858226528896233,-0.3417456326554984,-0.5434016902569205,-0.7243157132359272,-0.8752529767352162,-0.9869787558974761,-1.0502583258654152,-1.0558569617817224,-0.994539938789097,-0.857072532030233,-0.63422001664783,-0.31674766778458374,0.10457923941680991,0.6389954298136622,1.2957356282632506,2.0840345596229204],\"type\":\"scatter\"}],                        {\"template\":{\"data\":{\"histogram2dcontour\":[{\"type\":\"histogram2dcontour\",\"colorbar\":{\"outlinewidth\":0,\"ticks\":\"\"},\"colorscale\":[[0.0,\"#0d0887\"],[0.1111111111111111,\"#46039f\"],[0.2222222222222222,\"#7201a8\"],[0.3333333333333333,\"#9c179e\"],[0.4444444444444444,\"#bd3786\"],[0.5555555555555556,\"#d8576b\"],[0.6666666666666666,\"#ed7953\"],[0.7777777777777778,\"#fb9f3a\"],[0.8888888888888888,\"#fdca26\"],[1.0,\"#f0f921\"]]}],\"choropleth\":[{\"type\":\"choropleth\",\"colorbar\":{\"outlinewidth\":0,\"ticks\":\"\"}}],\"histogram2d\":[{\"type\":\"histogram2d\",\"colorbar\":{\"outlinewidth\":0,\"ticks\":\"\"},\"colorscale\":[[0.0,\"#0d0887\"],[0.1111111111111111,\"#46039f\"],[0.2222222222222222,\"#7201a8\"],[0.3333333333333333,\"#9c179e\"],[0.4444444444444444,\"#bd3786\"],[0.5555555555555556,\"#d8576b\"],[0.6666666666666666,\"#ed7953\"],[0.7777777777777778,\"#fb9f3a\"],[0.8888888888888888,\"#fdca26\"],[1.0,\"#f0f921\"]]}],\"heatmap\":[{\"type\":\"heatmap\",\"colorbar\":{\"outlinewidth\":0,\"ticks\":\"\"},\"colorscale\":[[0.0,\"#0d0887\"],[0.1111111111111111,\"#46039f\"],[0.2222222222222222,\"#7201a8\"],[0.3333333333333333,\"#9c179e\"],[0.4444444444444444,\"#bd3786\"],[0.5555555555555556,\"#d8576b\"],[0.6666666666666666,\"#ed7953\"],[0.7777777777777778,\"#fb9f3a\"],[0.8888888888888888,\"#fdca26\"],[1.0,\"#f0f921\"]]}],\"heatmapgl\":[{\"type\":\"heatmapgl\",\"colorbar\":{\"outlinewidth\":0,\"ticks\":\"\"},\"colorscale\":[[0.0,\"#0d0887\"],[0.1111111111111111,\"#46039f\"],[0.2222222222222222,\"#7201a8\"],[0.3333333333333333,\"#9c179e\"],[0.4444444444444444,\"#bd3786\"],[0.5555555555555556,\"#d8576b\"],[0.6666666666666666,\"#ed7953\"],[0.7777777777777778,\"#fb9f3a\"],[0.8888888888888888,\"#fdca26\"],[1.0,\"#f0f921\"]]}],\"contourcarpet\":[{\"type\":\"contourcarpet\",\"colorbar\":{\"outlinewidth\":0,\"ticks\":\"\"}}],\"contour\":[{\"type\":\"contour\",\"colorbar\":{\"outlinewidth\":0,\"ticks\":\"\"},\"colorscale\":[[0.0,\"#0d0887\"],[0.1111111111111111,\"#46039f\"],[0.2222222222222222,\"#7201a8\"],[0.3333333333333333,\"#9c179e\"],[0.4444444444444444,\"#bd3786\"],[0.5555555555555556,\"#d8576b\"],[0.6666666666666666,\"#ed7953\"],[0.7777777777777778,\"#fb9f3a\"],[0.8888888888888888,\"#fdca26\"],[1.0,\"#f0f921\"]]}],\"surface\":[{\"type\":\"surface\",\"colorbar\":{\"outlinewidth\":0,\"ticks\":\"\"},\"colorscale\":[[0.0,\"#0d0887\"],[0.1111111111111111,\"#46039f\"],[0.2222222222222222,\"#7201a8\"],[0.3333333333333333,\"#9c179e\"],[0.4444444444444444,\"#bd3786\"],[0.5555555555555556,\"#d8576b\"],[0.6666666666666666,\"#ed7953\"],[0.7777777777777778,\"#fb9f3a\"],[0.8888888888888888,\"#fdca26\"],[1.0,\"#f0f921\"]]}],\"mesh3d\":[{\"type\":\"mesh3d\",\"colorbar\":{\"outlinewidth\":0,\"ticks\":\"\"}}],\"scatter\":[{\"fillpattern\":{\"fillmode\":\"overlay\",\"size\":10,\"solidity\":0.2},\"type\":\"scatter\"}],\"parcoords\":[{\"type\":\"parcoords\",\"line\":{\"colorbar\":{\"outlinewidth\":0,\"ticks\":\"\"}}}],\"scatterpolargl\":[{\"type\":\"scatterpolargl\",\"marker\":{\"colorbar\":{\"outlinewidth\":0,\"ticks\":\"\"}}}],\"bar\":[{\"error_x\":{\"color\":\"#2a3f5f\"},\"error_y\":{\"color\":\"#2a3f5f\"},\"marker\":{\"line\":{\"color\":\"#E5ECF6\",\"width\":0.5},\"pattern\":{\"fillmode\":\"overlay\",\"size\":10,\"solidity\":0.2}},\"type\":\"bar\"}],\"scattergeo\":[{\"type\":\"scattergeo\",\"marker\":{\"colorbar\":{\"outlinewidth\":0,\"ticks\":\"\"}}}],\"scatterpolar\":[{\"type\":\"scatterpolar\",\"marker\":{\"colorbar\":{\"outlinewidth\":0,\"ticks\":\"\"}}}],\"histogram\":[{\"marker\":{\"pattern\":{\"fillmode\":\"overlay\",\"size\":10,\"solidity\":0.2}},\"type\":\"histogram\"}],\"scattergl\":[{\"type\":\"scattergl\",\"marker\":{\"colorbar\":{\"outlinewidth\":0,\"ticks\":\"\"}}}],\"scatter3d\":[{\"type\":\"scatter3d\",\"line\":{\"colorbar\":{\"outlinewidth\":0,\"ticks\":\"\"}},\"marker\":{\"colorbar\":{\"outlinewidth\":0,\"ticks\":\"\"}}}],\"scattermapbox\":[{\"type\":\"scattermapbox\",\"marker\":{\"colorbar\":{\"outlinewidth\":0,\"ticks\":\"\"}}}],\"scatterternary\":[{\"type\":\"scatterternary\",\"marker\":{\"colorbar\":{\"outlinewidth\":0,\"ticks\":\"\"}}}],\"scattercarpet\":[{\"type\":\"scattercarpet\",\"marker\":{\"colorbar\":{\"outlinewidth\":0,\"ticks\":\"\"}}}],\"carpet\":[{\"aaxis\":{\"endlinecolor\":\"#2a3f5f\",\"gridcolor\":\"white\",\"linecolor\":\"white\",\"minorgridcolor\":\"white\",\"startlinecolor\":\"#2a3f5f\"},\"baxis\":{\"endlinecolor\":\"#2a3f5f\",\"gridcolor\":\"white\",\"linecolor\":\"white\",\"minorgridcolor\":\"white\",\"startlinecolor\":\"#2a3f5f\"},\"type\":\"carpet\"}],\"table\":[{\"cells\":{\"fill\":{\"color\":\"#EBF0F8\"},\"line\":{\"color\":\"white\"}},\"header\":{\"fill\":{\"color\":\"#C8D4E3\"},\"line\":{\"color\":\"white\"}},\"type\":\"table\"}],\"barpolar\":[{\"marker\":{\"line\":{\"color\":\"#E5ECF6\",\"width\":0.5},\"pattern\":{\"fillmode\":\"overlay\",\"size\":10,\"solidity\":0.2}},\"type\":\"barpolar\"}],\"pie\":[{\"automargin\":true,\"type\":\"pie\"}]},\"layout\":{\"autotypenumbers\":\"strict\",\"colorway\":[\"#636efa\",\"#EF553B\",\"#00cc96\",\"#ab63fa\",\"#FFA15A\",\"#19d3f3\",\"#FF6692\",\"#B6E880\",\"#FF97FF\",\"#FECB52\"],\"font\":{\"color\":\"#2a3f5f\"},\"hovermode\":\"closest\",\"hoverlabel\":{\"align\":\"left\"},\"paper_bgcolor\":\"white\",\"plot_bgcolor\":\"#E5ECF6\",\"polar\":{\"bgcolor\":\"#E5ECF6\",\"angularaxis\":{\"gridcolor\":\"white\",\"linecolor\":\"white\",\"ticks\":\"\"},\"radialaxis\":{\"gridcolor\":\"white\",\"linecolor\":\"white\",\"ticks\":\"\"}},\"ternary\":{\"bgcolor\":\"#E5ECF6\",\"aaxis\":{\"gridcolor\":\"white\",\"linecolor\":\"white\",\"ticks\":\"\"},\"baxis\":{\"gridcolor\":\"white\",\"linecolor\":\"white\",\"ticks\":\"\"},\"caxis\":{\"gridcolor\":\"white\",\"linecolor\":\"white\",\"ticks\":\"\"}},\"coloraxis\":{\"colorbar\":{\"outlinewidth\":0,\"ticks\":\"\"}},\"colorscale\":{\"sequential\":[[0.0,\"#0d0887\"],[0.1111111111111111,\"#46039f\"],[0.2222222222222222,\"#7201a8\"],[0.3333333333333333,\"#9c179e\"],[0.4444444444444444,\"#bd3786\"],[0.5555555555555556,\"#d8576b\"],[0.6666666666666666,\"#ed7953\"],[0.7777777777777778,\"#fb9f3a\"],[0.8888888888888888,\"#fdca26\"],[1.0,\"#f0f921\"]],\"sequentialminus\":[[0.0,\"#0d0887\"],[0.1111111111111111,\"#46039f\"],[0.2222222222222222,\"#7201a8\"],[0.3333333333333333,\"#9c179e\"],[0.4444444444444444,\"#bd3786\"],[0.5555555555555556,\"#d8576b\"],[0.6666666666666666,\"#ed7953\"],[0.7777777777777778,\"#fb9f3a\"],[0.8888888888888888,\"#fdca26\"],[1.0,\"#f0f921\"]],\"diverging\":[[0,\"#8e0152\"],[0.1,\"#c51b7d\"],[0.2,\"#de77ae\"],[0.3,\"#f1b6da\"],[0.4,\"#fde0ef\"],[0.5,\"#f7f7f7\"],[0.6,\"#e6f5d0\"],[0.7,\"#b8e186\"],[0.8,\"#7fbc41\"],[0.9,\"#4d9221\"],[1,\"#276419\"]]},\"xaxis\":{\"gridcolor\":\"white\",\"linecolor\":\"white\",\"ticks\":\"\",\"title\":{\"standoff\":15},\"zerolinecolor\":\"white\",\"automargin\":true,\"zerolinewidth\":2},\"yaxis\":{\"gridcolor\":\"white\",\"linecolor\":\"white\",\"ticks\":\"\",\"title\":{\"standoff\":15},\"zerolinecolor\":\"white\",\"automargin\":true,\"zerolinewidth\":2},\"scene\":{\"xaxis\":{\"backgroundcolor\":\"#E5ECF6\",\"gridcolor\":\"white\",\"linecolor\":\"white\",\"showbackground\":true,\"ticks\":\"\",\"zerolinecolor\":\"white\",\"gridwidth\":2},\"yaxis\":{\"backgroundcolor\":\"#E5ECF6\",\"gridcolor\":\"white\",\"linecolor\":\"white\",\"showbackground\":true,\"ticks\":\"\",\"zerolinecolor\":\"white\",\"gridwidth\":2},\"zaxis\":{\"backgroundcolor\":\"#E5ECF6\",\"gridcolor\":\"white\",\"linecolor\":\"white\",\"showbackground\":true,\"ticks\":\"\",\"zerolinecolor\":\"white\",\"gridwidth\":2}},\"shapedefaults\":{\"line\":{\"color\":\"#2a3f5f\"}},\"annotationdefaults\":{\"arrowcolor\":\"#2a3f5f\",\"arrowhead\":0,\"arrowwidth\":1},\"geo\":{\"bgcolor\":\"white\",\"landcolor\":\"#E5ECF6\",\"subunitcolor\":\"white\",\"showland\":true,\"showlakes\":true,\"lakecolor\":\"white\"},\"title\":{\"x\":0.05},\"mapbox\":{\"style\":\"light\"}}},\"xaxis\":{\"title\":{\"text\":\"x\"},\"range\":[0,1]},\"yaxis\":{\"title\":{\"text\":\"t\"},\"range\":[-1.5,1.5]}},                        {\"responsive\": true}                    ).then(function(){\n",
              "                            \n",
              "var gd = document.getElementById('08bcfd8a-ef54-4876-b867-5605097e7692');\n",
              "var x = new MutationObserver(function (mutations, observer) {{\n",
              "        var display = window.getComputedStyle(gd).display;\n",
              "        if (!display || display === 'none') {{\n",
              "            console.log([gd, 'removed!']);\n",
              "            Plotly.purge(gd);\n",
              "            observer.disconnect();\n",
              "        }}\n",
              "}});\n",
              "\n",
              "// Listen for the removal of the full notebook cells\n",
              "var notebookContainer = gd.closest('#notebook-container');\n",
              "if (notebookContainer) {{\n",
              "    x.observe(notebookContainer, {childList: true});\n",
              "}}\n",
              "\n",
              "// Listen for the clearing of the current output cell\n",
              "var outputEl = gd.closest('.output');\n",
              "if (outputEl) {{\n",
              "    x.observe(outputEl, {childList: true});\n",
              "}}\n",
              "\n",
              "                        })                };                            </script>        </div>\n",
              "</body>\n",
              "</html>"
            ]
          },
          "metadata": {}
        }
      ]
    },
    {
      "cell_type": "markdown",
      "metadata": {
        "id": "xV6sseHGnDCZ"
      },
      "source": [
        "Let's now compare several polynomial fits with different degrees.\n",
        "\n",
        "Play a bit with the degrees while taking a look at the coefficients $\\theta$.\n",
        "\n",
        "Which one is the best in *your judgement*?\n",
        "Which one is the best according to the MSE loss?\n",
        "\n",
        "An evergreen reminder that here fits well:\n",
        "> **be skeptical!** Especially about the numbers that should tell us if the results we get are good or bad. Are these really evaluating what should be evaluated?"
      ]
    },
    {
      "cell_type": "code",
      "metadata": {
        "id": "uFyk0X9cfcis",
        "colab": {
          "base_uri": "https://localhost:8080/",
          "height": 717
        },
        "outputId": "663c16c2-b765-4664-d98f-b4a6cf3b07bf"
      },
      "source": [
        "# @title Polynomial fits (press play at least once to trigger the self-update) { run: \"auto\" }\n",
        "\n",
        "degree = {}\n",
        "deg_a = 4  #@param {type:\"slider\", min:0, max:15, step:1}\n",
        "deg_b = 1  #@param {type:\"slider\", min:0, max:15, step:1}\n",
        "deg_c = 1 #@param {type:\"slider\", min:0, max:15, step:1}\n",
        "\n",
        "degree[0], degree[1], degree[2] = deg_a, deg_b, deg_c\n",
        "\n",
        "max_degree = max(degree.values())\n",
        "y = torch.from_numpy(t)\n",
        "X_full = torch.ones((y.shape[0], max_degree + 1), dtype=torch.float64)  # double precision is needed for this calculation!\n",
        "for i in range(max_degree):\n",
        "    X_full[:,i] =  torch.from_numpy(x) ** (max_degree - i)\n",
        "\n",
        "theta_collection = {}\n",
        "\n",
        "for i in range(3):\n",
        "    X = X_full[:,-(degree[i] + 1):]\n",
        "    temp_inverse = torch.inverse(torch.einsum('ij,jk->ik', X.t(), X))\n",
        "    theta_collection[i] = torch.einsum('ij,jk,k->i', temp_inverse, X.t(), y)\n",
        "\n",
        "fig = make_subplots(\n",
        "    rows=1, cols=3,\n",
        "    subplot_titles=(f\"poly{degree[0]} fit\", f\"poly{degree[1]} fit\", f\"poly{degree[2]} fit\"))\n",
        "\n",
        "x_funcs = np.arange(0,1,1./100)\n",
        "y_funcs = {}\n",
        "for i in range(3):\n",
        "    theta_funcs = theta_collection[i].numpy()\n",
        "    X_funcs = np.ones((x_funcs.shape[0], degree[i] + 1), dtype=np.float64)\n",
        "    for j in range(degree[i]):\n",
        "        X_funcs[:,j] =  x_funcs ** (degree[i] - j)\n",
        "    y_funcs[i] = np.einsum('ij,j->i', X_funcs, theta_funcs)\n",
        "    coefficients_string = '<br><br><br>' + '<br>'.join([c + f': {np.round(theta_funcs[i], decimals=2)}' for i, c in enumerate('abcdefghijklmnopqrstuvwxyz'[:len(theta_funcs)])])\n",
        "\n",
        "    fig.add_trace(go.Scatter(x=x, y=t, mode='markers', marker=dict(color=\"mediumpurple\")), row=1, col=i + 1)\n",
        "    fig.add_trace(go.Scatter(x=x_funcs, y=np.sin(2*np.pi*x_funcs), mode='lines', line=dict(color=\"lightgreen\")), row=1, col=i + 1)\n",
        "    fig.add_trace(go.Scatter(x=x_funcs, y=y_funcs[i], mode='lines', line=dict(color=\"lightsalmon\")), row=1, col=i + 1)\n",
        "    fig.update_xaxes(title_text=\"x\" + coefficients_string, range = [0,1], row=1, col=i+1)\n",
        "\n",
        "fig.update_layout(showlegend=False)\n",
        "fig.update_yaxes(title_text=\"t\", range = [-5,5])\n",
        "fig.update_layout(height=700, width=1300, title_text=\"Polynomial fits and their coefficients\")\n",
        "fig.show()"
      ],
      "execution_count": 42,
      "outputs": [
        {
          "output_type": "display_data",
          "data": {
            "text/html": [
              "<html>\n",
              "<head><meta charset=\"utf-8\" /></head>\n",
              "<body>\n",
              "    <div>            <script src=\"https://cdnjs.cloudflare.com/ajax/libs/mathjax/2.7.5/MathJax.js?config=TeX-AMS-MML_SVG\"></script><script type=\"text/javascript\">if (window.MathJax && window.MathJax.Hub && window.MathJax.Hub.Config) {window.MathJax.Hub.Config({SVG: {font: \"STIX-Web\"}});}</script>                <script type=\"text/javascript\">window.PlotlyConfig = {MathJaxConfig: 'local'};</script>\n",
              "        <script charset=\"utf-8\" src=\"https://cdn.plot.ly/plotly-2.35.2.min.js\"></script>                <div id=\"1d306cc1-1fe8-4358-a264-b9f29fb2941b\" class=\"plotly-graph-div\" style=\"height:700px; width:1300px;\"></div>            <script type=\"text/javascript\">                                    window.PLOTLYENV=window.PLOTLYENV || {};                                    if (document.getElementById(\"1d306cc1-1fe8-4358-a264-b9f29fb2941b\")) {                    Plotly.newPlot(                        \"1d306cc1-1fe8-4358-a264-b9f29fb2941b\",                        [{\"marker\":{\"color\":\"mediumpurple\"},\"mode\":\"markers\",\"x\":[0.3745401188473625,0.9507143064099162,0.7319939418114051,0.5986584841970366,0.15601864044243652,0.15599452033620265,0.05808361216819946,0.8661761457749352,0.6011150117432088,0.7080725777960455],\"y\":[0.6621995859491285,-0.2504894367193866,-1.0399487832345553,-0.6275182299806012,0.854857342681687,0.6392487011533475,0.18441089666331875,-0.8014323286500792,-0.6947217251134631,-0.9340757540684701],\"type\":\"scatter\",\"xaxis\":\"x\",\"yaxis\":\"y\"},{\"line\":{\"color\":\"lightgreen\"},\"mode\":\"lines\",\"x\":[0.0,0.01,0.02,0.03,0.04,0.05,0.06,0.07,0.08,0.09,0.1,0.11,0.12,0.13,0.14,0.15,0.16,0.17,0.18,0.19,0.2,0.21,0.22,0.23,0.24,0.25,0.26,0.27,0.28,0.29,0.3,0.31,0.32,0.33,0.34,0.35000000000000003,0.36,0.37,0.38,0.39,0.4,0.41000000000000003,0.42,0.43,0.44,0.45,0.46,0.47000000000000003,0.48,0.49,0.5,0.51,0.52,0.53,0.54,0.55,0.56,0.5700000000000001,0.58,0.59,0.6,0.61,0.62,0.63,0.64,0.65,0.66,0.67,0.68,0.6900000000000001,0.7000000000000001,0.71,0.72,0.73,0.74,0.75,0.76,0.77,0.78,0.79,0.8,0.81,0.8200000000000001,0.8300000000000001,0.84,0.85,0.86,0.87,0.88,0.89,0.9,0.91,0.92,0.93,0.9400000000000001,0.9500000000000001,0.96,0.97,0.98,0.99],\"y\":[0.0,0.06279051952931337,0.12533323356430426,0.1873813145857246,0.2486898871648548,0.3090169943749474,0.3681245526846779,0.4257792915650727,0.4817536741017153,0.5358267949789967,0.5877852522924731,0.6374239897486896,0.6845471059286886,0.7289686274214116,0.7705132427757893,0.8090169943749475,0.8443279255020151,0.8763066800438637,0.9048270524660196,0.9297764858882513,0.9510565162951535,0.9685831611286311,0.9822872507286886,0.9921147013144779,0.9980267284282716,1.0,0.9980267284282716,0.9921147013144778,0.9822872507286886,0.9685831611286312,0.9510565162951536,0.9297764858882513,0.9048270524660195,0.8763066800438635,0.844327925502015,0.8090169943749475,0.7705132427757893,0.7289686274214114,0.6845471059286888,0.6374239897486899,0.5877852522924732,0.5358267949789967,0.4817536741017156,0.4257792915650729,0.36812455268467814,0.3090169943749475,0.24868988716485482,0.18738131458572457,0.12533323356430454,0.06279051952931358,1.2246467991473532e-16,-0.06279051952931335,-0.12533323356430429,-0.18738131458572477,-0.24868988716485502,-0.30901699437494773,-0.3681245526846783,-0.42577929156507266,-0.481753674101715,-0.5358267949789964,-0.587785252292473,-0.6374239897486896,-0.6845471059286887,-0.7289686274214113,-0.7705132427757894,-0.8090169943749473,-0.8443279255020153,-0.8763066800438636,-0.9048270524660198,-0.9297764858882515,-0.9510565162951535,-0.968583161128631,-0.9822872507286887,-0.9921147013144778,-0.9980267284282716,-1.0,-0.9980267284282716,-0.9921147013144779,-0.9822872507286887,-0.9685831611286311,-0.9510565162951536,-0.9297764858882512,-0.9048270524660196,-0.8763066800438634,-0.8443279255020155,-0.8090169943749476,-0.7705132427757896,-0.7289686274214116,-0.684547105928689,-0.6374239897486896,-0.5877852522924734,-0.5358267949789963,-0.4817536741017153,-0.4257792915650722,-0.36812455268467786,-0.3090169943749476,-0.24868988716485535,-0.18738131458572468,-0.12533323356430465,-0.06279051952931326],\"type\":\"scatter\",\"xaxis\":\"x\",\"yaxis\":\"y\"},{\"line\":{\"color\":\"lightsalmon\"},\"mode\":\"lines\",\"x\":[0.0,0.01,0.02,0.03,0.04,0.05,0.06,0.07,0.08,0.09,0.1,0.11,0.12,0.13,0.14,0.15,0.16,0.17,0.18,0.19,0.2,0.21,0.22,0.23,0.24,0.25,0.26,0.27,0.28,0.29,0.3,0.31,0.32,0.33,0.34,0.35000000000000003,0.36,0.37,0.38,0.39,0.4,0.41000000000000003,0.42,0.43,0.44,0.45,0.46,0.47000000000000003,0.48,0.49,0.5,0.51,0.52,0.53,0.54,0.55,0.56,0.5700000000000001,0.58,0.59,0.6,0.61,0.62,0.63,0.64,0.65,0.66,0.67,0.68,0.6900000000000001,0.7000000000000001,0.71,0.72,0.73,0.74,0.75,0.76,0.77,0.78,0.79,0.8,0.81,0.8200000000000001,0.8300000000000001,0.84,0.85,0.86,0.87,0.88,0.89,0.9,0.91,0.92,0.93,0.9400000000000001,0.9500000000000001,0.96,0.97,0.98,0.99],\"y\":[-0.5302142008530648,-0.3947423063701706,-0.2670222817396408,-0.14688946483193283,-0.03417943048723937,0.07127200948451151,0.1696288063036564,0.2610546742207972,0.34571309051679955,0.4237672955027947,0.49538029252017846,0.5607148479406108,0.619933491166017,0.6731985146285873,0.7206719737907754,0.7625156871453009,0.7988912362151488,0.8299599655535668,0.8558829827440684,0.8768211584004324,0.8929351261667016,0.9043852827171825,0.9113317877564495,0.9139345640193386,0.9123532972709514,0.906747436306655,0.8972761929520803,0.8840985420631249,0.8673732215259471,0.8472587322569733,0.8239133382028951,0.7974950663406668,0.7681617066775068,0.7360708122509019,0.7013796991285979,0.6642454464086125,0.6248248962192209,0.583274653718969,0.539751087096664,0.4944103275713774,0.44740826939244904,0.39890056983947897,0.3490426492223371,0.2979896908811508,0.24589664118632015,0.19291820953850625,0.1392088683686321,0.08492285313789338,0.03021416233773877,-0.02476344251010687,-0.07985643685365851,-0.1349115331106674,-0.1897756806686246,-0.24429606588474329,-0.29832011208597997,-0.3516954795690328,-0.4042700656003255,-0.4558920044160164,-0.5064096672220089,-0.5556716621939302,-0.6035268344771527,-0.6498242661867746,-0.694413276407639,-0.7371434211943164,-0.7778644935711192,-0.8164265235320869,-0.8526797780409971,-0.886474761031387,-0.9176622134064694,-0.9460931130392538,-0.9716186747724578,-0.9940903504185385,-1.0133598287596755,-1.029279035547809,-1.0417001335045981,-1.050475522321431,-1.05545783865945,-1.056499956149512,-1.0534549853922357,-1.0461762739579434,-1.0345174063867155,-1.018332204188365,-0.9974747258424195,-0.9717992667981683,-0.9411603594746367,-0.905412773260565,-0.8644115145144298,-0.818011826564458,-0.7660691897086096,-0.7084393212145699,-0.6449781753197641,-0.5755419432313644,-0.49998705312624736,-0.4181701701510576,-0.32994819642217266,-0.23517827102566002,-0.13371777001741236,-0.02542430642294846,0.08984426976240201,0.21222987157359796],\"type\":\"scatter\",\"xaxis\":\"x\",\"yaxis\":\"y\"},{\"marker\":{\"color\":\"mediumpurple\"},\"mode\":\"markers\",\"x\":[0.3745401188473625,0.9507143064099162,0.7319939418114051,0.5986584841970366,0.15601864044243652,0.15599452033620265,0.05808361216819946,0.8661761457749352,0.6011150117432088,0.7080725777960455],\"y\":[0.6621995859491285,-0.2504894367193866,-1.0399487832345553,-0.6275182299806012,0.854857342681687,0.6392487011533475,0.18441089666331875,-0.8014323286500792,-0.6947217251134631,-0.9340757540684701],\"type\":\"scatter\",\"xaxis\":\"x2\",\"yaxis\":\"y2\"},{\"line\":{\"color\":\"lightgreen\"},\"mode\":\"lines\",\"x\":[0.0,0.01,0.02,0.03,0.04,0.05,0.06,0.07,0.08,0.09,0.1,0.11,0.12,0.13,0.14,0.15,0.16,0.17,0.18,0.19,0.2,0.21,0.22,0.23,0.24,0.25,0.26,0.27,0.28,0.29,0.3,0.31,0.32,0.33,0.34,0.35000000000000003,0.36,0.37,0.38,0.39,0.4,0.41000000000000003,0.42,0.43,0.44,0.45,0.46,0.47000000000000003,0.48,0.49,0.5,0.51,0.52,0.53,0.54,0.55,0.56,0.5700000000000001,0.58,0.59,0.6,0.61,0.62,0.63,0.64,0.65,0.66,0.67,0.68,0.6900000000000001,0.7000000000000001,0.71,0.72,0.73,0.74,0.75,0.76,0.77,0.78,0.79,0.8,0.81,0.8200000000000001,0.8300000000000001,0.84,0.85,0.86,0.87,0.88,0.89,0.9,0.91,0.92,0.93,0.9400000000000001,0.9500000000000001,0.96,0.97,0.98,0.99],\"y\":[0.0,0.06279051952931337,0.12533323356430426,0.1873813145857246,0.2486898871648548,0.3090169943749474,0.3681245526846779,0.4257792915650727,0.4817536741017153,0.5358267949789967,0.5877852522924731,0.6374239897486896,0.6845471059286886,0.7289686274214116,0.7705132427757893,0.8090169943749475,0.8443279255020151,0.8763066800438637,0.9048270524660196,0.9297764858882513,0.9510565162951535,0.9685831611286311,0.9822872507286886,0.9921147013144779,0.9980267284282716,1.0,0.9980267284282716,0.9921147013144778,0.9822872507286886,0.9685831611286312,0.9510565162951536,0.9297764858882513,0.9048270524660195,0.8763066800438635,0.844327925502015,0.8090169943749475,0.7705132427757893,0.7289686274214114,0.6845471059286888,0.6374239897486899,0.5877852522924732,0.5358267949789967,0.4817536741017156,0.4257792915650729,0.36812455268467814,0.3090169943749475,0.24868988716485482,0.18738131458572457,0.12533323356430454,0.06279051952931358,1.2246467991473532e-16,-0.06279051952931335,-0.12533323356430429,-0.18738131458572477,-0.24868988716485502,-0.30901699437494773,-0.3681245526846783,-0.42577929156507266,-0.481753674101715,-0.5358267949789964,-0.587785252292473,-0.6374239897486896,-0.6845471059286887,-0.7289686274214113,-0.7705132427757894,-0.8090169943749473,-0.8443279255020153,-0.8763066800438636,-0.9048270524660198,-0.9297764858882515,-0.9510565162951535,-0.968583161128631,-0.9822872507286887,-0.9921147013144778,-0.9980267284282716,-1.0,-0.9980267284282716,-0.9921147013144779,-0.9822872507286887,-0.9685831611286311,-0.9510565162951536,-0.9297764858882512,-0.9048270524660196,-0.8763066800438634,-0.8443279255020155,-0.8090169943749476,-0.7705132427757896,-0.7289686274214116,-0.684547105928689,-0.6374239897486896,-0.5877852522924734,-0.5358267949789963,-0.4817536741017153,-0.4257792915650722,-0.36812455268467786,-0.3090169943749476,-0.24868988716485535,-0.18738131458572468,-0.12533323356430465,-0.06279051952931326],\"type\":\"scatter\",\"xaxis\":\"x2\",\"yaxis\":\"y2\"},{\"line\":{\"color\":\"lightsalmon\"},\"mode\":\"lines\",\"x\":[0.0,0.01,0.02,0.03,0.04,0.05,0.06,0.07,0.08,0.09,0.1,0.11,0.12,0.13,0.14,0.15,0.16,0.17,0.18,0.19,0.2,0.21,0.22,0.23,0.24,0.25,0.26,0.27,0.28,0.29,0.3,0.31,0.32,0.33,0.34,0.35000000000000003,0.36,0.37,0.38,0.39,0.4,0.41000000000000003,0.42,0.43,0.44,0.45,0.46,0.47000000000000003,0.48,0.49,0.5,0.51,0.52,0.53,0.54,0.55,0.56,0.5700000000000001,0.58,0.59,0.6,0.61,0.62,0.63,0.64,0.65,0.66,0.67,0.68,0.6900000000000001,0.7000000000000001,0.71,0.72,0.73,0.74,0.75,0.76,0.77,0.78,0.79,0.8,0.81,0.8200000000000001,0.8300000000000001,0.84,0.85,0.86,0.87,0.88,0.89,0.9,0.91,0.92,0.93,0.9400000000000001,0.9500000000000001,0.96,0.97,0.98,0.99],\"y\":[0.7331571559411134,0.715202182478943,0.6972472090167726,0.6792922355546023,0.6613372620924318,0.6433822886302614,0.625427315168091,0.6074723417059207,0.5895173682437502,0.5715623947815798,0.5536074213194094,0.5356524478572391,0.5176974743950686,0.49974250093289824,0.48178752747072784,0.46383255400855744,0.44587758054638704,0.42792260708421664,0.40996763362204625,0.39201266015987585,0.37405768669770545,0.35610271323553505,0.33814773977336465,0.32019276631119425,0.30223779284902386,0.28428281938685346,0.26632784592468306,0.2483728724625126,0.23041789900034226,0.21246292553817192,0.19450795207600147,0.17655297861383112,0.15859800515166067,0.14064303168949022,0.12268805822731987,0.10473308476514942,0.08677811130297908,0.06882313784080873,0.05086816437863828,0.03291319091646783,0.014958217454297484,-0.0029967560078729694,-0.020951729470043312,-0.038906702932213655,-0.05686167639438411,-0.07481664985655456,-0.0927716233187249,-0.11072659678089536,-0.1286815702430657,-0.14663654370523604,-0.1645915171674065,-0.18254649062957695,-0.2005014640917473,-0.21845643755391775,-0.2364114110160882,-0.25436638447825854,-0.2723213579404289,-0.29027633140259934,-0.3082313048647696,-0.32618627832694,-0.3441412517891105,-0.36209622525128093,-0.38005119871345117,-0.3980061721756216,-0.4159611456377921,-0.4339161190999625,-0.451871092562133,-0.46982606602430343,-0.48778103948647367,-0.5057360129486441,-0.5236909864108146,-0.5416459598729848,-0.5596009333351553,-0.5775559067973257,-0.595510880259496,-0.6134658537216664,-0.6314208271838369,-0.6493758006460073,-0.6673307741081778,-0.6852857475703482,-0.7032407210325184,-0.7211956944946889,-0.7391506679568594,-0.7571056414190298,-0.7750606148812,-0.7930155883433705,-0.8109705618055407,-0.8289255352677112,-0.8468805087298816,-0.8648354821920521,-0.8827904556542225,-0.900745429116393,-0.9187004025785632,-0.9366553760407337,-0.9546103495029041,-0.9725653229650746,-0.9905202964272448,-1.0084752698894153,-1.0264302433515855,-1.044385216813756],\"type\":\"scatter\",\"xaxis\":\"x2\",\"yaxis\":\"y2\"},{\"marker\":{\"color\":\"mediumpurple\"},\"mode\":\"markers\",\"x\":[0.3745401188473625,0.9507143064099162,0.7319939418114051,0.5986584841970366,0.15601864044243652,0.15599452033620265,0.05808361216819946,0.8661761457749352,0.6011150117432088,0.7080725777960455],\"y\":[0.6621995859491285,-0.2504894367193866,-1.0399487832345553,-0.6275182299806012,0.854857342681687,0.6392487011533475,0.18441089666331875,-0.8014323286500792,-0.6947217251134631,-0.9340757540684701],\"type\":\"scatter\",\"xaxis\":\"x3\",\"yaxis\":\"y3\"},{\"line\":{\"color\":\"lightgreen\"},\"mode\":\"lines\",\"x\":[0.0,0.01,0.02,0.03,0.04,0.05,0.06,0.07,0.08,0.09,0.1,0.11,0.12,0.13,0.14,0.15,0.16,0.17,0.18,0.19,0.2,0.21,0.22,0.23,0.24,0.25,0.26,0.27,0.28,0.29,0.3,0.31,0.32,0.33,0.34,0.35000000000000003,0.36,0.37,0.38,0.39,0.4,0.41000000000000003,0.42,0.43,0.44,0.45,0.46,0.47000000000000003,0.48,0.49,0.5,0.51,0.52,0.53,0.54,0.55,0.56,0.5700000000000001,0.58,0.59,0.6,0.61,0.62,0.63,0.64,0.65,0.66,0.67,0.68,0.6900000000000001,0.7000000000000001,0.71,0.72,0.73,0.74,0.75,0.76,0.77,0.78,0.79,0.8,0.81,0.8200000000000001,0.8300000000000001,0.84,0.85,0.86,0.87,0.88,0.89,0.9,0.91,0.92,0.93,0.9400000000000001,0.9500000000000001,0.96,0.97,0.98,0.99],\"y\":[0.0,0.06279051952931337,0.12533323356430426,0.1873813145857246,0.2486898871648548,0.3090169943749474,0.3681245526846779,0.4257792915650727,0.4817536741017153,0.5358267949789967,0.5877852522924731,0.6374239897486896,0.6845471059286886,0.7289686274214116,0.7705132427757893,0.8090169943749475,0.8443279255020151,0.8763066800438637,0.9048270524660196,0.9297764858882513,0.9510565162951535,0.9685831611286311,0.9822872507286886,0.9921147013144779,0.9980267284282716,1.0,0.9980267284282716,0.9921147013144778,0.9822872507286886,0.9685831611286312,0.9510565162951536,0.9297764858882513,0.9048270524660195,0.8763066800438635,0.844327925502015,0.8090169943749475,0.7705132427757893,0.7289686274214114,0.6845471059286888,0.6374239897486899,0.5877852522924732,0.5358267949789967,0.4817536741017156,0.4257792915650729,0.36812455268467814,0.3090169943749475,0.24868988716485482,0.18738131458572457,0.12533323356430454,0.06279051952931358,1.2246467991473532e-16,-0.06279051952931335,-0.12533323356430429,-0.18738131458572477,-0.24868988716485502,-0.30901699437494773,-0.3681245526846783,-0.42577929156507266,-0.481753674101715,-0.5358267949789964,-0.587785252292473,-0.6374239897486896,-0.6845471059286887,-0.7289686274214113,-0.7705132427757894,-0.8090169943749473,-0.8443279255020153,-0.8763066800438636,-0.9048270524660198,-0.9297764858882515,-0.9510565162951535,-0.968583161128631,-0.9822872507286887,-0.9921147013144778,-0.9980267284282716,-1.0,-0.9980267284282716,-0.9921147013144779,-0.9822872507286887,-0.9685831611286311,-0.9510565162951536,-0.9297764858882512,-0.9048270524660196,-0.8763066800438634,-0.8443279255020155,-0.8090169943749476,-0.7705132427757896,-0.7289686274214116,-0.684547105928689,-0.6374239897486896,-0.5877852522924734,-0.5358267949789963,-0.4817536741017153,-0.4257792915650722,-0.36812455268467786,-0.3090169943749476,-0.24868988716485535,-0.18738131458572468,-0.12533323356430465,-0.06279051952931326],\"type\":\"scatter\",\"xaxis\":\"x3\",\"yaxis\":\"y3\"},{\"line\":{\"color\":\"lightsalmon\"},\"mode\":\"lines\",\"x\":[0.0,0.01,0.02,0.03,0.04,0.05,0.06,0.07,0.08,0.09,0.1,0.11,0.12,0.13,0.14,0.15,0.16,0.17,0.18,0.19,0.2,0.21,0.22,0.23,0.24,0.25,0.26,0.27,0.28,0.29,0.3,0.31,0.32,0.33,0.34,0.35000000000000003,0.36,0.37,0.38,0.39,0.4,0.41000000000000003,0.42,0.43,0.44,0.45,0.46,0.47000000000000003,0.48,0.49,0.5,0.51,0.52,0.53,0.54,0.55,0.56,0.5700000000000001,0.58,0.59,0.6,0.61,0.62,0.63,0.64,0.65,0.66,0.67,0.68,0.6900000000000001,0.7000000000000001,0.71,0.72,0.73,0.74,0.75,0.76,0.77,0.78,0.79,0.8,0.81,0.8200000000000001,0.8300000000000001,0.84,0.85,0.86,0.87,0.88,0.89,0.9,0.91,0.92,0.93,0.9400000000000001,0.9500000000000001,0.96,0.97,0.98,0.99],\"y\":[0.7331571559411134,0.715202182478943,0.6972472090167726,0.6792922355546023,0.6613372620924318,0.6433822886302614,0.625427315168091,0.6074723417059207,0.5895173682437502,0.5715623947815798,0.5536074213194094,0.5356524478572391,0.5176974743950686,0.49974250093289824,0.48178752747072784,0.46383255400855744,0.44587758054638704,0.42792260708421664,0.40996763362204625,0.39201266015987585,0.37405768669770545,0.35610271323553505,0.33814773977336465,0.32019276631119425,0.30223779284902386,0.28428281938685346,0.26632784592468306,0.2483728724625126,0.23041789900034226,0.21246292553817192,0.19450795207600147,0.17655297861383112,0.15859800515166067,0.14064303168949022,0.12268805822731987,0.10473308476514942,0.08677811130297908,0.06882313784080873,0.05086816437863828,0.03291319091646783,0.014958217454297484,-0.0029967560078729694,-0.020951729470043312,-0.038906702932213655,-0.05686167639438411,-0.07481664985655456,-0.0927716233187249,-0.11072659678089536,-0.1286815702430657,-0.14663654370523604,-0.1645915171674065,-0.18254649062957695,-0.2005014640917473,-0.21845643755391775,-0.2364114110160882,-0.25436638447825854,-0.2723213579404289,-0.29027633140259934,-0.3082313048647696,-0.32618627832694,-0.3441412517891105,-0.36209622525128093,-0.38005119871345117,-0.3980061721756216,-0.4159611456377921,-0.4339161190999625,-0.451871092562133,-0.46982606602430343,-0.48778103948647367,-0.5057360129486441,-0.5236909864108146,-0.5416459598729848,-0.5596009333351553,-0.5775559067973257,-0.595510880259496,-0.6134658537216664,-0.6314208271838369,-0.6493758006460073,-0.6673307741081778,-0.6852857475703482,-0.7032407210325184,-0.7211956944946889,-0.7391506679568594,-0.7571056414190298,-0.7750606148812,-0.7930155883433705,-0.8109705618055407,-0.8289255352677112,-0.8468805087298816,-0.8648354821920521,-0.8827904556542225,-0.900745429116393,-0.9187004025785632,-0.9366553760407337,-0.9546103495029041,-0.9725653229650746,-0.9905202964272448,-1.0084752698894153,-1.0264302433515855,-1.044385216813756],\"type\":\"scatter\",\"xaxis\":\"x3\",\"yaxis\":\"y3\"}],                        {\"template\":{\"data\":{\"histogram2dcontour\":[{\"type\":\"histogram2dcontour\",\"colorbar\":{\"outlinewidth\":0,\"ticks\":\"\"},\"colorscale\":[[0.0,\"#0d0887\"],[0.1111111111111111,\"#46039f\"],[0.2222222222222222,\"#7201a8\"],[0.3333333333333333,\"#9c179e\"],[0.4444444444444444,\"#bd3786\"],[0.5555555555555556,\"#d8576b\"],[0.6666666666666666,\"#ed7953\"],[0.7777777777777778,\"#fb9f3a\"],[0.8888888888888888,\"#fdca26\"],[1.0,\"#f0f921\"]]}],\"choropleth\":[{\"type\":\"choropleth\",\"colorbar\":{\"outlinewidth\":0,\"ticks\":\"\"}}],\"histogram2d\":[{\"type\":\"histogram2d\",\"colorbar\":{\"outlinewidth\":0,\"ticks\":\"\"},\"colorscale\":[[0.0,\"#0d0887\"],[0.1111111111111111,\"#46039f\"],[0.2222222222222222,\"#7201a8\"],[0.3333333333333333,\"#9c179e\"],[0.4444444444444444,\"#bd3786\"],[0.5555555555555556,\"#d8576b\"],[0.6666666666666666,\"#ed7953\"],[0.7777777777777778,\"#fb9f3a\"],[0.8888888888888888,\"#fdca26\"],[1.0,\"#f0f921\"]]}],\"heatmap\":[{\"type\":\"heatmap\",\"colorbar\":{\"outlinewidth\":0,\"ticks\":\"\"},\"colorscale\":[[0.0,\"#0d0887\"],[0.1111111111111111,\"#46039f\"],[0.2222222222222222,\"#7201a8\"],[0.3333333333333333,\"#9c179e\"],[0.4444444444444444,\"#bd3786\"],[0.5555555555555556,\"#d8576b\"],[0.6666666666666666,\"#ed7953\"],[0.7777777777777778,\"#fb9f3a\"],[0.8888888888888888,\"#fdca26\"],[1.0,\"#f0f921\"]]}],\"heatmapgl\":[{\"type\":\"heatmapgl\",\"colorbar\":{\"outlinewidth\":0,\"ticks\":\"\"},\"colorscale\":[[0.0,\"#0d0887\"],[0.1111111111111111,\"#46039f\"],[0.2222222222222222,\"#7201a8\"],[0.3333333333333333,\"#9c179e\"],[0.4444444444444444,\"#bd3786\"],[0.5555555555555556,\"#d8576b\"],[0.6666666666666666,\"#ed7953\"],[0.7777777777777778,\"#fb9f3a\"],[0.8888888888888888,\"#fdca26\"],[1.0,\"#f0f921\"]]}],\"contourcarpet\":[{\"type\":\"contourcarpet\",\"colorbar\":{\"outlinewidth\":0,\"ticks\":\"\"}}],\"contour\":[{\"type\":\"contour\",\"colorbar\":{\"outlinewidth\":0,\"ticks\":\"\"},\"colorscale\":[[0.0,\"#0d0887\"],[0.1111111111111111,\"#46039f\"],[0.2222222222222222,\"#7201a8\"],[0.3333333333333333,\"#9c179e\"],[0.4444444444444444,\"#bd3786\"],[0.5555555555555556,\"#d8576b\"],[0.6666666666666666,\"#ed7953\"],[0.7777777777777778,\"#fb9f3a\"],[0.8888888888888888,\"#fdca26\"],[1.0,\"#f0f921\"]]}],\"surface\":[{\"type\":\"surface\",\"colorbar\":{\"outlinewidth\":0,\"ticks\":\"\"},\"colorscale\":[[0.0,\"#0d0887\"],[0.1111111111111111,\"#46039f\"],[0.2222222222222222,\"#7201a8\"],[0.3333333333333333,\"#9c179e\"],[0.4444444444444444,\"#bd3786\"],[0.5555555555555556,\"#d8576b\"],[0.6666666666666666,\"#ed7953\"],[0.7777777777777778,\"#fb9f3a\"],[0.8888888888888888,\"#fdca26\"],[1.0,\"#f0f921\"]]}],\"mesh3d\":[{\"type\":\"mesh3d\",\"colorbar\":{\"outlinewidth\":0,\"ticks\":\"\"}}],\"scatter\":[{\"fillpattern\":{\"fillmode\":\"overlay\",\"size\":10,\"solidity\":0.2},\"type\":\"scatter\"}],\"parcoords\":[{\"type\":\"parcoords\",\"line\":{\"colorbar\":{\"outlinewidth\":0,\"ticks\":\"\"}}}],\"scatterpolargl\":[{\"type\":\"scatterpolargl\",\"marker\":{\"colorbar\":{\"outlinewidth\":0,\"ticks\":\"\"}}}],\"bar\":[{\"error_x\":{\"color\":\"#2a3f5f\"},\"error_y\":{\"color\":\"#2a3f5f\"},\"marker\":{\"line\":{\"color\":\"#E5ECF6\",\"width\":0.5},\"pattern\":{\"fillmode\":\"overlay\",\"size\":10,\"solidity\":0.2}},\"type\":\"bar\"}],\"scattergeo\":[{\"type\":\"scattergeo\",\"marker\":{\"colorbar\":{\"outlinewidth\":0,\"ticks\":\"\"}}}],\"scatterpolar\":[{\"type\":\"scatterpolar\",\"marker\":{\"colorbar\":{\"outlinewidth\":0,\"ticks\":\"\"}}}],\"histogram\":[{\"marker\":{\"pattern\":{\"fillmode\":\"overlay\",\"size\":10,\"solidity\":0.2}},\"type\":\"histogram\"}],\"scattergl\":[{\"type\":\"scattergl\",\"marker\":{\"colorbar\":{\"outlinewidth\":0,\"ticks\":\"\"}}}],\"scatter3d\":[{\"type\":\"scatter3d\",\"line\":{\"colorbar\":{\"outlinewidth\":0,\"ticks\":\"\"}},\"marker\":{\"colorbar\":{\"outlinewidth\":0,\"ticks\":\"\"}}}],\"scattermapbox\":[{\"type\":\"scattermapbox\",\"marker\":{\"colorbar\":{\"outlinewidth\":0,\"ticks\":\"\"}}}],\"scatterternary\":[{\"type\":\"scatterternary\",\"marker\":{\"colorbar\":{\"outlinewidth\":0,\"ticks\":\"\"}}}],\"scattercarpet\":[{\"type\":\"scattercarpet\",\"marker\":{\"colorbar\":{\"outlinewidth\":0,\"ticks\":\"\"}}}],\"carpet\":[{\"aaxis\":{\"endlinecolor\":\"#2a3f5f\",\"gridcolor\":\"white\",\"linecolor\":\"white\",\"minorgridcolor\":\"white\",\"startlinecolor\":\"#2a3f5f\"},\"baxis\":{\"endlinecolor\":\"#2a3f5f\",\"gridcolor\":\"white\",\"linecolor\":\"white\",\"minorgridcolor\":\"white\",\"startlinecolor\":\"#2a3f5f\"},\"type\":\"carpet\"}],\"table\":[{\"cells\":{\"fill\":{\"color\":\"#EBF0F8\"},\"line\":{\"color\":\"white\"}},\"header\":{\"fill\":{\"color\":\"#C8D4E3\"},\"line\":{\"color\":\"white\"}},\"type\":\"table\"}],\"barpolar\":[{\"marker\":{\"line\":{\"color\":\"#E5ECF6\",\"width\":0.5},\"pattern\":{\"fillmode\":\"overlay\",\"size\":10,\"solidity\":0.2}},\"type\":\"barpolar\"}],\"pie\":[{\"automargin\":true,\"type\":\"pie\"}]},\"layout\":{\"autotypenumbers\":\"strict\",\"colorway\":[\"#636efa\",\"#EF553B\",\"#00cc96\",\"#ab63fa\",\"#FFA15A\",\"#19d3f3\",\"#FF6692\",\"#B6E880\",\"#FF97FF\",\"#FECB52\"],\"font\":{\"color\":\"#2a3f5f\"},\"hovermode\":\"closest\",\"hoverlabel\":{\"align\":\"left\"},\"paper_bgcolor\":\"white\",\"plot_bgcolor\":\"#E5ECF6\",\"polar\":{\"bgcolor\":\"#E5ECF6\",\"angularaxis\":{\"gridcolor\":\"white\",\"linecolor\":\"white\",\"ticks\":\"\"},\"radialaxis\":{\"gridcolor\":\"white\",\"linecolor\":\"white\",\"ticks\":\"\"}},\"ternary\":{\"bgcolor\":\"#E5ECF6\",\"aaxis\":{\"gridcolor\":\"white\",\"linecolor\":\"white\",\"ticks\":\"\"},\"baxis\":{\"gridcolor\":\"white\",\"linecolor\":\"white\",\"ticks\":\"\"},\"caxis\":{\"gridcolor\":\"white\",\"linecolor\":\"white\",\"ticks\":\"\"}},\"coloraxis\":{\"colorbar\":{\"outlinewidth\":0,\"ticks\":\"\"}},\"colorscale\":{\"sequential\":[[0.0,\"#0d0887\"],[0.1111111111111111,\"#46039f\"],[0.2222222222222222,\"#7201a8\"],[0.3333333333333333,\"#9c179e\"],[0.4444444444444444,\"#bd3786\"],[0.5555555555555556,\"#d8576b\"],[0.6666666666666666,\"#ed7953\"],[0.7777777777777778,\"#fb9f3a\"],[0.8888888888888888,\"#fdca26\"],[1.0,\"#f0f921\"]],\"sequentialminus\":[[0.0,\"#0d0887\"],[0.1111111111111111,\"#46039f\"],[0.2222222222222222,\"#7201a8\"],[0.3333333333333333,\"#9c179e\"],[0.4444444444444444,\"#bd3786\"],[0.5555555555555556,\"#d8576b\"],[0.6666666666666666,\"#ed7953\"],[0.7777777777777778,\"#fb9f3a\"],[0.8888888888888888,\"#fdca26\"],[1.0,\"#f0f921\"]],\"diverging\":[[0,\"#8e0152\"],[0.1,\"#c51b7d\"],[0.2,\"#de77ae\"],[0.3,\"#f1b6da\"],[0.4,\"#fde0ef\"],[0.5,\"#f7f7f7\"],[0.6,\"#e6f5d0\"],[0.7,\"#b8e186\"],[0.8,\"#7fbc41\"],[0.9,\"#4d9221\"],[1,\"#276419\"]]},\"xaxis\":{\"gridcolor\":\"white\",\"linecolor\":\"white\",\"ticks\":\"\",\"title\":{\"standoff\":15},\"zerolinecolor\":\"white\",\"automargin\":true,\"zerolinewidth\":2},\"yaxis\":{\"gridcolor\":\"white\",\"linecolor\":\"white\",\"ticks\":\"\",\"title\":{\"standoff\":15},\"zerolinecolor\":\"white\",\"automargin\":true,\"zerolinewidth\":2},\"scene\":{\"xaxis\":{\"backgroundcolor\":\"#E5ECF6\",\"gridcolor\":\"white\",\"linecolor\":\"white\",\"showbackground\":true,\"ticks\":\"\",\"zerolinecolor\":\"white\",\"gridwidth\":2},\"yaxis\":{\"backgroundcolor\":\"#E5ECF6\",\"gridcolor\":\"white\",\"linecolor\":\"white\",\"showbackground\":true,\"ticks\":\"\",\"zerolinecolor\":\"white\",\"gridwidth\":2},\"zaxis\":{\"backgroundcolor\":\"#E5ECF6\",\"gridcolor\":\"white\",\"linecolor\":\"white\",\"showbackground\":true,\"ticks\":\"\",\"zerolinecolor\":\"white\",\"gridwidth\":2}},\"shapedefaults\":{\"line\":{\"color\":\"#2a3f5f\"}},\"annotationdefaults\":{\"arrowcolor\":\"#2a3f5f\",\"arrowhead\":0,\"arrowwidth\":1},\"geo\":{\"bgcolor\":\"white\",\"landcolor\":\"#E5ECF6\",\"subunitcolor\":\"white\",\"showland\":true,\"showlakes\":true,\"lakecolor\":\"white\"},\"title\":{\"x\":0.05},\"mapbox\":{\"style\":\"light\"}}},\"xaxis\":{\"anchor\":\"y\",\"domain\":[0.0,0.2888888888888889],\"title\":{\"text\":\"x\\u003cbr\\u003e\\u003cbr\\u003e\\u003cbr\\u003ea: -0.99\\u003cbr\\u003eb: 27.5\\u003cbr\\u003ec: -39.58\\u003cbr\\u003ed: 13.94\\u003cbr\\u003ee: -0.53\"},\"range\":[0,1]},\"yaxis\":{\"anchor\":\"x\",\"domain\":[0.0,1.0],\"title\":{\"text\":\"t\"},\"range\":[-5,5]},\"xaxis2\":{\"anchor\":\"y2\",\"domain\":[0.35555555555555557,0.6444444444444445],\"title\":{\"text\":\"x\\u003cbr\\u003e\\u003cbr\\u003e\\u003cbr\\u003ea: -1.8\\u003cbr\\u003eb: 0.73\"},\"range\":[0,1]},\"yaxis2\":{\"anchor\":\"x2\",\"domain\":[0.0,1.0],\"title\":{\"text\":\"t\"},\"range\":[-5,5]},\"xaxis3\":{\"anchor\":\"y3\",\"domain\":[0.7111111111111111,1.0],\"title\":{\"text\":\"x\\u003cbr\\u003e\\u003cbr\\u003e\\u003cbr\\u003ea: -1.8\\u003cbr\\u003eb: 0.73\"},\"range\":[0,1]},\"yaxis3\":{\"anchor\":\"x3\",\"domain\":[0.0,1.0],\"title\":{\"text\":\"t\"},\"range\":[-5,5]},\"annotations\":[{\"font\":{\"size\":16},\"showarrow\":false,\"text\":\"poly4 fit\",\"x\":0.14444444444444446,\"xanchor\":\"center\",\"xref\":\"paper\",\"y\":1.0,\"yanchor\":\"bottom\",\"yref\":\"paper\"},{\"font\":{\"size\":16},\"showarrow\":false,\"text\":\"poly1 fit\",\"x\":0.5,\"xanchor\":\"center\",\"xref\":\"paper\",\"y\":1.0,\"yanchor\":\"bottom\",\"yref\":\"paper\"},{\"font\":{\"size\":16},\"showarrow\":false,\"text\":\"poly1 fit\",\"x\":0.8555555555555556,\"xanchor\":\"center\",\"xref\":\"paper\",\"y\":1.0,\"yanchor\":\"bottom\",\"yref\":\"paper\"}],\"showlegend\":false,\"title\":{\"text\":\"Polynomial fits and their coefficients\"},\"height\":700,\"width\":1300},                        {\"responsive\": true}                    ).then(function(){\n",
              "                            \n",
              "var gd = document.getElementById('1d306cc1-1fe8-4358-a264-b9f29fb2941b');\n",
              "var x = new MutationObserver(function (mutations, observer) {{\n",
              "        var display = window.getComputedStyle(gd).display;\n",
              "        if (!display || display === 'none') {{\n",
              "            console.log([gd, 'removed!']);\n",
              "            Plotly.purge(gd);\n",
              "            observer.disconnect();\n",
              "        }}\n",
              "}});\n",
              "\n",
              "// Listen for the removal of the full notebook cells\n",
              "var notebookContainer = gd.closest('#notebook-container');\n",
              "if (notebookContainer) {{\n",
              "    x.observe(notebookContainer, {childList: true});\n",
              "}}\n",
              "\n",
              "// Listen for the clearing of the current output cell\n",
              "var outputEl = gd.closest('.output');\n",
              "if (outputEl) {{\n",
              "    x.observe(outputEl, {childList: true});\n",
              "}}\n",
              "\n",
              "                        })                };                            </script>        </div>\n",
              "</body>\n",
              "</html>"
            ]
          },
          "metadata": {}
        }
      ]
    },
    {
      "cell_type": "markdown",
      "metadata": {
        "id": "4KPPrymvhAmb"
      },
      "source": [
        "Nevertheless you should find *evidence* to support your judgement. Our intuition right now is that \"High-degree polynomial fits lead to a high generalization error for this dataset\", how can we test it?\n",
        "As you have learnt in the lecture, a useful study you can perform consists in evaluating the MSE loss on a *test set*, i.e., on samples not used for training.\n",
        "\n",
        "Such as the ones that are going to magically appear in the next cell."
      ]
    },
    {
      "cell_type": "code",
      "metadata": {
        "id": "QPi-ZFkUliUA"
      },
      "source": [
        "x_test = np.random.rand(10)\n",
        "t_test = np.sin(2 * np.pi * x_test) + 0.1 * np.random.randn(10)"
      ],
      "execution_count": 28,
      "outputs": []
    },
    {
      "cell_type": "code",
      "source": [
        "print(t)"
      ],
      "metadata": {
        "colab": {
          "base_uri": "https://localhost:8080/"
        },
        "id": "miXeFcmQ7nQT",
        "outputId": "e09a6441-3472-4387-c911-7caa56032072"
      },
      "execution_count": 31,
      "outputs": [
        {
          "output_type": "stream",
          "name": "stdout",
          "text": [
            "[ 0.66219959 -0.25048944 -1.03994878 -0.62751823  0.85485734  0.6392487\n",
            "  0.1844109  -0.80143233 -0.69472173 -0.93407575]\n"
          ]
        }
      ]
    },
    {
      "cell_type": "markdown",
      "metadata": {
        "id": "YJu_1xXUloK0"
      },
      "source": [
        "> **EXERCISE**: Do a nice plot entitled \"MSE loss **vs** degree of the polynomial fit\" that shows the trends of the training set and the test set."
      ]
    },
    {
      "cell_type": "code",
      "metadata": {
        "id": "HuQphUAXhh_w",
        "colab": {
          "base_uri": "https://localhost:8080/",
          "height": 717
        },
        "outputId": "493284bb-3e61-4487-ed09-fbd734c06ac2"
      },
      "source": [
        "# Polynomial degree\n",
        "degree = 4  #@param {type:\"slider\", min:0, max:15, step:1}\n",
        "\n",
        "# Convert data to PyTorch tensors\n",
        "y = torch.from_numpy(t)\n",
        "y_test = torch.from_numpy(t_test)\n",
        "x_torch = torch.from_numpy(x)\n",
        "x_test_torch = torch.from_numpy(x_test)\n",
        "\n",
        "# Construct the Vandermonde matrix for the training data\n",
        "X_full = torch.ones((y.shape[0], degree + 1), dtype=torch.float64)\n",
        "for i in range(degree + 1):  # Corrected loop range\n",
        "    X_full[:, i] = x_torch ** (degree - i)\n",
        "\n",
        "# Construct the Vandermonde matrix for the test data\n",
        "X_test_full = torch.ones((y_test.shape[0], degree + 1), dtype=torch.float64)\n",
        "for i in range(degree + 1):  # Corrected loop range\n",
        "    X_test_full[:, i] = x_test_torch ** (degree - i)\n",
        "\n",
        "# Select the relevant columns for the given degree\n",
        "X = X_full\n",
        "X_test = X_test_full\n",
        "\n",
        "# Calculate the polynomial coefficients (theta) using the normal equation\n",
        "temp_inverse = torch.inverse(torch.einsum('ij,jk->ik', X.t(), X))\n",
        "theta_collection = torch.einsum('ij,jk,k->i', temp_inverse, X.t(), y)\n",
        "\n",
        "x_funcs = np.arange(0, 1, 1./ 100)\n",
        "X_funcs = np.ones((x_funcs.shape[0], degree + 1), dtype=np.float64)\n",
        "for j in range(degree + 1):  # Corrected loop range\n",
        "    X_funcs[:, j] = x_funcs ** (degree - j)\n",
        "y_funcs = np.einsum('ij,j->i', X_funcs, theta_collection)\n",
        "\n",
        "# Calculate predictions for test set. y_test_pred is correct length\n",
        "y_test_pred = torch.einsum('ij,j->i', X_test, theta_collection).numpy()  # Convert to numpy array\n",
        "\n",
        "# Calculate MSE for training and test sets\n",
        "mse_train = torch.mean((torch.einsum('ij,j->i', X, theta_collection) - y) ** 2).item()\n",
        "mse_test = torch.mean((torch.from_numpy(y_test_pred) - y_test) ** 2).item() #error was here. y_test was a tensor, y_test_pred a np array\n",
        "\n",
        "\n",
        "# Create the plot\n",
        "fig = make_subplots(\n",
        "    rows=1,\n",
        "    cols=1,\n",
        "    subplot_titles=(f\"Polynomial Fit (Degree {degree})\",),\n",
        ")\n",
        "\n",
        "# Add the training data\n",
        "fig.add_trace(\n",
        "    go.Scatter(x=x, y=t, mode=\"markers\", marker=dict(color=\"mediumpurple\"), name=\"Training Data\"), row=1, col=1\n",
        ")\n",
        "# Add the true function\n",
        "fig.add_trace(\n",
        "    go.Scatter(x=x_funcs, y=np.sin(2 * np.pi * x_funcs), mode=\"lines\", line=dict(color=\"lightgreen\"), name=\"True Function\"),\n",
        "    row=1,\n",
        "    col=1,\n",
        ")\n",
        "# Add the polynomial fit\n",
        "fig.add_trace(\n",
        "    go.Scatter(x=x_funcs, y=y_funcs, mode=\"lines\", line=dict(color=\"red\"), name=\"Polynomial Fit\"), row=1, col=1\n",
        ")\n",
        "\n",
        "# Add the test data predictions\n",
        "fig.add_trace(\n",
        "    go.Scatter(x=x_test, y=y_test_pred, mode=\"lines\", line=dict(color=\"lightsalmon\"), name=\"Test Prediction\"),\n",
        "    row=1,\n",
        "    col=1,\n",
        ")\n",
        "\n",
        "# Add the coefficients string\n",
        "coefficients_string = (\n",
        "    \"<br><br><br>\"\n",
        "    + \"<br>\".join(\n",
        "        c + f\": {np.round(theta_collection[i].numpy(), decimals=2)} \" for i, c in enumerate(\"abcdefghijklmnopqrstuvwxyz\"[: len(theta_collection)]))\n",
        "    + f\"<br>MSE (Train): {mse_train:.4f}\"  # Include MSE for training set\n",
        "    + f\"<br>MSE (Test): {mse_test:.4f}\"  # Include MSE for test set\n",
        ")\n",
        "fig.update_xaxes(title_text=\"x\" + coefficients_string, range=[0, 1], row=1, col=1)\n",
        "fig.update_yaxes(title_text=\"t\", range=[-5, 5])\n",
        "fig.update_layout(showlegend=False, height=700, width=1300, title_text=f\"Polynomial Fit of Degree {degree} with MSE\")\n",
        "fig.show()\n"
      ],
      "execution_count": 66,
      "outputs": [
        {
          "output_type": "display_data",
          "data": {
            "text/html": [
              "<html>\n",
              "<head><meta charset=\"utf-8\" /></head>\n",
              "<body>\n",
              "    <div>            <script src=\"https://cdnjs.cloudflare.com/ajax/libs/mathjax/2.7.5/MathJax.js?config=TeX-AMS-MML_SVG\"></script><script type=\"text/javascript\">if (window.MathJax && window.MathJax.Hub && window.MathJax.Hub.Config) {window.MathJax.Hub.Config({SVG: {font: \"STIX-Web\"}});}</script>                <script type=\"text/javascript\">window.PlotlyConfig = {MathJaxConfig: 'local'};</script>\n",
              "        <script charset=\"utf-8\" src=\"https://cdn.plot.ly/plotly-2.35.2.min.js\"></script>                <div id=\"335a1daa-ff35-4695-b292-2686f2ae83ea\" class=\"plotly-graph-div\" style=\"height:700px; width:1300px;\"></div>            <script type=\"text/javascript\">                                    window.PLOTLYENV=window.PLOTLYENV || {};                                    if (document.getElementById(\"335a1daa-ff35-4695-b292-2686f2ae83ea\")) {                    Plotly.newPlot(                        \"335a1daa-ff35-4695-b292-2686f2ae83ea\",                        [{\"marker\":{\"color\":\"mediumpurple\"},\"mode\":\"markers\",\"name\":\"Training Data\",\"x\":[0.3745401188473625,0.9507143064099162,0.7319939418114051,0.5986584841970366,0.15601864044243652,0.15599452033620265,0.05808361216819946,0.8661761457749352,0.6011150117432088,0.7080725777960455],\"y\":[0.6621995859491285,-0.2504894367193866,-1.0399487832345553,-0.6275182299806012,0.854857342681687,0.6392487011533475,0.18441089666331875,-0.8014323286500792,-0.6947217251134631,-0.9340757540684701],\"type\":\"scatter\",\"xaxis\":\"x\",\"yaxis\":\"y\"},{\"line\":{\"color\":\"lightgreen\"},\"mode\":\"lines\",\"name\":\"True Function\",\"x\":[0.0,0.01,0.02,0.03,0.04,0.05,0.06,0.07,0.08,0.09,0.1,0.11,0.12,0.13,0.14,0.15,0.16,0.17,0.18,0.19,0.2,0.21,0.22,0.23,0.24,0.25,0.26,0.27,0.28,0.29,0.3,0.31,0.32,0.33,0.34,0.35000000000000003,0.36,0.37,0.38,0.39,0.4,0.41000000000000003,0.42,0.43,0.44,0.45,0.46,0.47000000000000003,0.48,0.49,0.5,0.51,0.52,0.53,0.54,0.55,0.56,0.5700000000000001,0.58,0.59,0.6,0.61,0.62,0.63,0.64,0.65,0.66,0.67,0.68,0.6900000000000001,0.7000000000000001,0.71,0.72,0.73,0.74,0.75,0.76,0.77,0.78,0.79,0.8,0.81,0.8200000000000001,0.8300000000000001,0.84,0.85,0.86,0.87,0.88,0.89,0.9,0.91,0.92,0.93,0.9400000000000001,0.9500000000000001,0.96,0.97,0.98,0.99],\"y\":[0.0,0.06279051952931337,0.12533323356430426,0.1873813145857246,0.2486898871648548,0.3090169943749474,0.3681245526846779,0.4257792915650727,0.4817536741017153,0.5358267949789967,0.5877852522924731,0.6374239897486896,0.6845471059286886,0.7289686274214116,0.7705132427757893,0.8090169943749475,0.8443279255020151,0.8763066800438637,0.9048270524660196,0.9297764858882513,0.9510565162951535,0.9685831611286311,0.9822872507286886,0.9921147013144779,0.9980267284282716,1.0,0.9980267284282716,0.9921147013144778,0.9822872507286886,0.9685831611286312,0.9510565162951536,0.9297764858882513,0.9048270524660195,0.8763066800438635,0.844327925502015,0.8090169943749475,0.7705132427757893,0.7289686274214114,0.6845471059286888,0.6374239897486899,0.5877852522924732,0.5358267949789967,0.4817536741017156,0.4257792915650729,0.36812455268467814,0.3090169943749475,0.24868988716485482,0.18738131458572457,0.12533323356430454,0.06279051952931358,1.2246467991473532e-16,-0.06279051952931335,-0.12533323356430429,-0.18738131458572477,-0.24868988716485502,-0.30901699437494773,-0.3681245526846783,-0.42577929156507266,-0.481753674101715,-0.5358267949789964,-0.587785252292473,-0.6374239897486896,-0.6845471059286887,-0.7289686274214113,-0.7705132427757894,-0.8090169943749473,-0.8443279255020153,-0.8763066800438636,-0.9048270524660198,-0.9297764858882515,-0.9510565162951535,-0.968583161128631,-0.9822872507286887,-0.9921147013144778,-0.9980267284282716,-1.0,-0.9980267284282716,-0.9921147013144779,-0.9822872507286887,-0.9685831611286311,-0.9510565162951536,-0.9297764858882512,-0.9048270524660196,-0.8763066800438634,-0.8443279255020155,-0.8090169943749476,-0.7705132427757896,-0.7289686274214116,-0.684547105928689,-0.6374239897486896,-0.5877852522924734,-0.5358267949789963,-0.4817536741017153,-0.4257792915650722,-0.36812455268467786,-0.3090169943749476,-0.24868988716485535,-0.18738131458572468,-0.12533323356430465,-0.06279051952931326],\"type\":\"scatter\",\"xaxis\":\"x\",\"yaxis\":\"y\"},{\"line\":{\"color\":\"red\"},\"mode\":\"lines\",\"name\":\"Polynomial Fit\",\"x\":[0.0,0.01,0.02,0.03,0.04,0.05,0.06,0.07,0.08,0.09,0.1,0.11,0.12,0.13,0.14,0.15,0.16,0.17,0.18,0.19,0.2,0.21,0.22,0.23,0.24,0.25,0.26,0.27,0.28,0.29,0.3,0.31,0.32,0.33,0.34,0.35000000000000003,0.36,0.37,0.38,0.39,0.4,0.41000000000000003,0.42,0.43,0.44,0.45,0.46,0.47000000000000003,0.48,0.49,0.5,0.51,0.52,0.53,0.54,0.55,0.56,0.5700000000000001,0.58,0.59,0.6,0.61,0.62,0.63,0.64,0.65,0.66,0.67,0.68,0.6900000000000001,0.7000000000000001,0.71,0.72,0.73,0.74,0.75,0.76,0.77,0.78,0.79,0.8,0.81,0.8200000000000001,0.8300000000000001,0.84,0.85,0.86,0.87,0.88,0.89,0.9,0.91,0.92,0.93,0.9400000000000001,0.9500000000000001,0.96,0.97,0.98,0.99],\"y\":[-0.5302142008530648,-0.3947423063701706,-0.2670222817396408,-0.14688946483193283,-0.03417943048723937,0.07127200948451151,0.1696288063036564,0.2610546742207972,0.34571309051679955,0.4237672955027947,0.49538029252017846,0.5607148479406108,0.619933491166017,0.6731985146285873,0.7206719737907754,0.7625156871453009,0.7988912362151488,0.8299599655535668,0.8558829827440684,0.8768211584004324,0.8929351261667016,0.9043852827171825,0.9113317877564495,0.9139345640193386,0.9123532972709514,0.906747436306655,0.8972761929520803,0.8840985420631249,0.8673732215259471,0.8472587322569733,0.8239133382028951,0.7974950663406668,0.7681617066775068,0.7360708122509019,0.7013796991285979,0.6642454464086125,0.6248248962192209,0.583274653718969,0.539751087096664,0.4944103275713774,0.44740826939244904,0.39890056983947897,0.3490426492223371,0.2979896908811508,0.24589664118632015,0.19291820953850625,0.1392088683686321,0.08492285313789338,0.03021416233773877,-0.02476344251010687,-0.07985643685365851,-0.1349115331106674,-0.1897756806686246,-0.24429606588474329,-0.29832011208597997,-0.3516954795690328,-0.4042700656003255,-0.4558920044160164,-0.5064096672220089,-0.5556716621939302,-0.6035268344771527,-0.6498242661867746,-0.694413276407639,-0.7371434211943164,-0.7778644935711192,-0.8164265235320869,-0.8526797780409971,-0.886474761031387,-0.9176622134064694,-0.9460931130392538,-0.9716186747724578,-0.9940903504185385,-1.0133598287596755,-1.029279035547809,-1.0417001335045981,-1.050475522321431,-1.05545783865945,-1.056499956149512,-1.0534549853922357,-1.0461762739579434,-1.0345174063867155,-1.018332204188365,-0.9974747258424195,-0.9717992667981683,-0.9411603594746367,-0.905412773260565,-0.8644115145144298,-0.818011826564458,-0.7660691897086096,-0.7084393212145699,-0.6449781753197641,-0.5755419432313644,-0.49998705312624736,-0.4181701701510576,-0.32994819642217266,-0.23517827102566002,-0.13371777001741236,-0.02542430642294846,0.08984426976240201,0.21222987157359796],\"type\":\"scatter\",\"xaxis\":\"x\",\"yaxis\":\"y\"},{\"line\":{\"color\":\"lightsalmon\"},\"mode\":\"lines\",\"name\":\"Test Prediction\",\"x\":[0.30952761628632774,0.8137950197069487,0.6847311725538793,0.1626169393448913,0.9109271844938425,0.822537242923169,0.949799913291924,0.72571950838836,0.6134151959357899,0.4182430362906189],\"y\":[0.7988098606310756,-1.0109747581454354,-0.9314660471990166,0.8075278503622725,-0.5687961647062068,-0.9914221358664701,-0.23713961171439202,-1.0228844322825612,-0.6652519545492925,0.35789344274375523],\"type\":\"scatter\",\"xaxis\":\"x\",\"yaxis\":\"y\"}],                        {\"template\":{\"data\":{\"histogram2dcontour\":[{\"type\":\"histogram2dcontour\",\"colorbar\":{\"outlinewidth\":0,\"ticks\":\"\"},\"colorscale\":[[0.0,\"#0d0887\"],[0.1111111111111111,\"#46039f\"],[0.2222222222222222,\"#7201a8\"],[0.3333333333333333,\"#9c179e\"],[0.4444444444444444,\"#bd3786\"],[0.5555555555555556,\"#d8576b\"],[0.6666666666666666,\"#ed7953\"],[0.7777777777777778,\"#fb9f3a\"],[0.8888888888888888,\"#fdca26\"],[1.0,\"#f0f921\"]]}],\"choropleth\":[{\"type\":\"choropleth\",\"colorbar\":{\"outlinewidth\":0,\"ticks\":\"\"}}],\"histogram2d\":[{\"type\":\"histogram2d\",\"colorbar\":{\"outlinewidth\":0,\"ticks\":\"\"},\"colorscale\":[[0.0,\"#0d0887\"],[0.1111111111111111,\"#46039f\"],[0.2222222222222222,\"#7201a8\"],[0.3333333333333333,\"#9c179e\"],[0.4444444444444444,\"#bd3786\"],[0.5555555555555556,\"#d8576b\"],[0.6666666666666666,\"#ed7953\"],[0.7777777777777778,\"#fb9f3a\"],[0.8888888888888888,\"#fdca26\"],[1.0,\"#f0f921\"]]}],\"heatmap\":[{\"type\":\"heatmap\",\"colorbar\":{\"outlinewidth\":0,\"ticks\":\"\"},\"colorscale\":[[0.0,\"#0d0887\"],[0.1111111111111111,\"#46039f\"],[0.2222222222222222,\"#7201a8\"],[0.3333333333333333,\"#9c179e\"],[0.4444444444444444,\"#bd3786\"],[0.5555555555555556,\"#d8576b\"],[0.6666666666666666,\"#ed7953\"],[0.7777777777777778,\"#fb9f3a\"],[0.8888888888888888,\"#fdca26\"],[1.0,\"#f0f921\"]]}],\"heatmapgl\":[{\"type\":\"heatmapgl\",\"colorbar\":{\"outlinewidth\":0,\"ticks\":\"\"},\"colorscale\":[[0.0,\"#0d0887\"],[0.1111111111111111,\"#46039f\"],[0.2222222222222222,\"#7201a8\"],[0.3333333333333333,\"#9c179e\"],[0.4444444444444444,\"#bd3786\"],[0.5555555555555556,\"#d8576b\"],[0.6666666666666666,\"#ed7953\"],[0.7777777777777778,\"#fb9f3a\"],[0.8888888888888888,\"#fdca26\"],[1.0,\"#f0f921\"]]}],\"contourcarpet\":[{\"type\":\"contourcarpet\",\"colorbar\":{\"outlinewidth\":0,\"ticks\":\"\"}}],\"contour\":[{\"type\":\"contour\",\"colorbar\":{\"outlinewidth\":0,\"ticks\":\"\"},\"colorscale\":[[0.0,\"#0d0887\"],[0.1111111111111111,\"#46039f\"],[0.2222222222222222,\"#7201a8\"],[0.3333333333333333,\"#9c179e\"],[0.4444444444444444,\"#bd3786\"],[0.5555555555555556,\"#d8576b\"],[0.6666666666666666,\"#ed7953\"],[0.7777777777777778,\"#fb9f3a\"],[0.8888888888888888,\"#fdca26\"],[1.0,\"#f0f921\"]]}],\"surface\":[{\"type\":\"surface\",\"colorbar\":{\"outlinewidth\":0,\"ticks\":\"\"},\"colorscale\":[[0.0,\"#0d0887\"],[0.1111111111111111,\"#46039f\"],[0.2222222222222222,\"#7201a8\"],[0.3333333333333333,\"#9c179e\"],[0.4444444444444444,\"#bd3786\"],[0.5555555555555556,\"#d8576b\"],[0.6666666666666666,\"#ed7953\"],[0.7777777777777778,\"#fb9f3a\"],[0.8888888888888888,\"#fdca26\"],[1.0,\"#f0f921\"]]}],\"mesh3d\":[{\"type\":\"mesh3d\",\"colorbar\":{\"outlinewidth\":0,\"ticks\":\"\"}}],\"scatter\":[{\"fillpattern\":{\"fillmode\":\"overlay\",\"size\":10,\"solidity\":0.2},\"type\":\"scatter\"}],\"parcoords\":[{\"type\":\"parcoords\",\"line\":{\"colorbar\":{\"outlinewidth\":0,\"ticks\":\"\"}}}],\"scatterpolargl\":[{\"type\":\"scatterpolargl\",\"marker\":{\"colorbar\":{\"outlinewidth\":0,\"ticks\":\"\"}}}],\"bar\":[{\"error_x\":{\"color\":\"#2a3f5f\"},\"error_y\":{\"color\":\"#2a3f5f\"},\"marker\":{\"line\":{\"color\":\"#E5ECF6\",\"width\":0.5},\"pattern\":{\"fillmode\":\"overlay\",\"size\":10,\"solidity\":0.2}},\"type\":\"bar\"}],\"scattergeo\":[{\"type\":\"scattergeo\",\"marker\":{\"colorbar\":{\"outlinewidth\":0,\"ticks\":\"\"}}}],\"scatterpolar\":[{\"type\":\"scatterpolar\",\"marker\":{\"colorbar\":{\"outlinewidth\":0,\"ticks\":\"\"}}}],\"histogram\":[{\"marker\":{\"pattern\":{\"fillmode\":\"overlay\",\"size\":10,\"solidity\":0.2}},\"type\":\"histogram\"}],\"scattergl\":[{\"type\":\"scattergl\",\"marker\":{\"colorbar\":{\"outlinewidth\":0,\"ticks\":\"\"}}}],\"scatter3d\":[{\"type\":\"scatter3d\",\"line\":{\"colorbar\":{\"outlinewidth\":0,\"ticks\":\"\"}},\"marker\":{\"colorbar\":{\"outlinewidth\":0,\"ticks\":\"\"}}}],\"scattermapbox\":[{\"type\":\"scattermapbox\",\"marker\":{\"colorbar\":{\"outlinewidth\":0,\"ticks\":\"\"}}}],\"scatterternary\":[{\"type\":\"scatterternary\",\"marker\":{\"colorbar\":{\"outlinewidth\":0,\"ticks\":\"\"}}}],\"scattercarpet\":[{\"type\":\"scattercarpet\",\"marker\":{\"colorbar\":{\"outlinewidth\":0,\"ticks\":\"\"}}}],\"carpet\":[{\"aaxis\":{\"endlinecolor\":\"#2a3f5f\",\"gridcolor\":\"white\",\"linecolor\":\"white\",\"minorgridcolor\":\"white\",\"startlinecolor\":\"#2a3f5f\"},\"baxis\":{\"endlinecolor\":\"#2a3f5f\",\"gridcolor\":\"white\",\"linecolor\":\"white\",\"minorgridcolor\":\"white\",\"startlinecolor\":\"#2a3f5f\"},\"type\":\"carpet\"}],\"table\":[{\"cells\":{\"fill\":{\"color\":\"#EBF0F8\"},\"line\":{\"color\":\"white\"}},\"header\":{\"fill\":{\"color\":\"#C8D4E3\"},\"line\":{\"color\":\"white\"}},\"type\":\"table\"}],\"barpolar\":[{\"marker\":{\"line\":{\"color\":\"#E5ECF6\",\"width\":0.5},\"pattern\":{\"fillmode\":\"overlay\",\"size\":10,\"solidity\":0.2}},\"type\":\"barpolar\"}],\"pie\":[{\"automargin\":true,\"type\":\"pie\"}]},\"layout\":{\"autotypenumbers\":\"strict\",\"colorway\":[\"#636efa\",\"#EF553B\",\"#00cc96\",\"#ab63fa\",\"#FFA15A\",\"#19d3f3\",\"#FF6692\",\"#B6E880\",\"#FF97FF\",\"#FECB52\"],\"font\":{\"color\":\"#2a3f5f\"},\"hovermode\":\"closest\",\"hoverlabel\":{\"align\":\"left\"},\"paper_bgcolor\":\"white\",\"plot_bgcolor\":\"#E5ECF6\",\"polar\":{\"bgcolor\":\"#E5ECF6\",\"angularaxis\":{\"gridcolor\":\"white\",\"linecolor\":\"white\",\"ticks\":\"\"},\"radialaxis\":{\"gridcolor\":\"white\",\"linecolor\":\"white\",\"ticks\":\"\"}},\"ternary\":{\"bgcolor\":\"#E5ECF6\",\"aaxis\":{\"gridcolor\":\"white\",\"linecolor\":\"white\",\"ticks\":\"\"},\"baxis\":{\"gridcolor\":\"white\",\"linecolor\":\"white\",\"ticks\":\"\"},\"caxis\":{\"gridcolor\":\"white\",\"linecolor\":\"white\",\"ticks\":\"\"}},\"coloraxis\":{\"colorbar\":{\"outlinewidth\":0,\"ticks\":\"\"}},\"colorscale\":{\"sequential\":[[0.0,\"#0d0887\"],[0.1111111111111111,\"#46039f\"],[0.2222222222222222,\"#7201a8\"],[0.3333333333333333,\"#9c179e\"],[0.4444444444444444,\"#bd3786\"],[0.5555555555555556,\"#d8576b\"],[0.6666666666666666,\"#ed7953\"],[0.7777777777777778,\"#fb9f3a\"],[0.8888888888888888,\"#fdca26\"],[1.0,\"#f0f921\"]],\"sequentialminus\":[[0.0,\"#0d0887\"],[0.1111111111111111,\"#46039f\"],[0.2222222222222222,\"#7201a8\"],[0.3333333333333333,\"#9c179e\"],[0.4444444444444444,\"#bd3786\"],[0.5555555555555556,\"#d8576b\"],[0.6666666666666666,\"#ed7953\"],[0.7777777777777778,\"#fb9f3a\"],[0.8888888888888888,\"#fdca26\"],[1.0,\"#f0f921\"]],\"diverging\":[[0,\"#8e0152\"],[0.1,\"#c51b7d\"],[0.2,\"#de77ae\"],[0.3,\"#f1b6da\"],[0.4,\"#fde0ef\"],[0.5,\"#f7f7f7\"],[0.6,\"#e6f5d0\"],[0.7,\"#b8e186\"],[0.8,\"#7fbc41\"],[0.9,\"#4d9221\"],[1,\"#276419\"]]},\"xaxis\":{\"gridcolor\":\"white\",\"linecolor\":\"white\",\"ticks\":\"\",\"title\":{\"standoff\":15},\"zerolinecolor\":\"white\",\"automargin\":true,\"zerolinewidth\":2},\"yaxis\":{\"gridcolor\":\"white\",\"linecolor\":\"white\",\"ticks\":\"\",\"title\":{\"standoff\":15},\"zerolinecolor\":\"white\",\"automargin\":true,\"zerolinewidth\":2},\"scene\":{\"xaxis\":{\"backgroundcolor\":\"#E5ECF6\",\"gridcolor\":\"white\",\"linecolor\":\"white\",\"showbackground\":true,\"ticks\":\"\",\"zerolinecolor\":\"white\",\"gridwidth\":2},\"yaxis\":{\"backgroundcolor\":\"#E5ECF6\",\"gridcolor\":\"white\",\"linecolor\":\"white\",\"showbackground\":true,\"ticks\":\"\",\"zerolinecolor\":\"white\",\"gridwidth\":2},\"zaxis\":{\"backgroundcolor\":\"#E5ECF6\",\"gridcolor\":\"white\",\"linecolor\":\"white\",\"showbackground\":true,\"ticks\":\"\",\"zerolinecolor\":\"white\",\"gridwidth\":2}},\"shapedefaults\":{\"line\":{\"color\":\"#2a3f5f\"}},\"annotationdefaults\":{\"arrowcolor\":\"#2a3f5f\",\"arrowhead\":0,\"arrowwidth\":1},\"geo\":{\"bgcolor\":\"white\",\"landcolor\":\"#E5ECF6\",\"subunitcolor\":\"white\",\"showland\":true,\"showlakes\":true,\"lakecolor\":\"white\"},\"title\":{\"x\":0.05},\"mapbox\":{\"style\":\"light\"}}},\"xaxis\":{\"anchor\":\"y\",\"domain\":[0.0,1.0],\"title\":{\"text\":\"x\\u003cbr\\u003e\\u003cbr\\u003e\\u003cbr\\u003ea: -0.99 \\u003cbr\\u003eb: 27.5 \\u003cbr\\u003ec: -39.58 \\u003cbr\\u003ed: 13.94 \\u003cbr\\u003ee: -0.53 \\u003cbr\\u003eMSE (Train): 0.0050\\u003cbr\\u003eMSE (Test): 0.0244\"},\"range\":[0,1]},\"yaxis\":{\"anchor\":\"x\",\"domain\":[0.0,1.0],\"title\":{\"text\":\"t\"},\"range\":[-5,5]},\"annotations\":[{\"font\":{\"size\":16},\"showarrow\":false,\"text\":\"Polynomial Fit (Degree 4)\",\"x\":0.5,\"xanchor\":\"center\",\"xref\":\"paper\",\"y\":1.0,\"yanchor\":\"bottom\",\"yref\":\"paper\"}],\"title\":{\"text\":\"Polynomial Fit of Degree 4 with MSE\"},\"showlegend\":false,\"height\":700,\"width\":1300},                        {\"responsive\": true}                    ).then(function(){\n",
              "                            \n",
              "var gd = document.getElementById('335a1daa-ff35-4695-b292-2686f2ae83ea');\n",
              "var x = new MutationObserver(function (mutations, observer) {{\n",
              "        var display = window.getComputedStyle(gd).display;\n",
              "        if (!display || display === 'none') {{\n",
              "            console.log([gd, 'removed!']);\n",
              "            Plotly.purge(gd);\n",
              "            observer.disconnect();\n",
              "        }}\n",
              "}});\n",
              "\n",
              "// Listen for the removal of the full notebook cells\n",
              "var notebookContainer = gd.closest('#notebook-container');\n",
              "if (notebookContainer) {{\n",
              "    x.observe(notebookContainer, {childList: true});\n",
              "}}\n",
              "\n",
              "// Listen for the clearing of the current output cell\n",
              "var outputEl = gd.closest('.output');\n",
              "if (outputEl) {{\n",
              "    x.observe(outputEl, {childList: true});\n",
              "}}\n",
              "\n",
              "                        })                };                            </script>        </div>\n",
              "</body>\n",
              "</html>"
            ]
          },
          "metadata": {}
        }
      ]
    },
    {
      "cell_type": "markdown",
      "source": [
        "**NOTE**\n",
        "\n",
        "Typically, when you are designing a learning model, you would get all the available data at the beginning. Then, you split this data into training, validation, and test sets.\n",
        "\n",
        "To recap:\n",
        "\n",
        "* **Training set**: the data we use to estimate our model's parameters.\n",
        "* **Validation set**: new data we use to evaluate our model, and possibly tune its hyperparameters.\n",
        "* **Test set**: new data we use to evaluate the final model."
      ],
      "metadata": {
        "id": "x2GV2rQ4mpNI"
      }
    },
    {
      "cell_type": "markdown",
      "source": [
        "### Data leakage\n",
        "\n",
        "> ⚠️ Using the test set to tune your model's design and hyperparameters is not just cheating: it is *conceptually wrong*.\n",
        ">\n",
        "> In the real world, you almost never have access to the test set. For example, ChatGPT has never seen the crazy prompts we give it, but it still works well. Our input forms ChatGPT's test set. We can conclude that ChatGPT generalizes well to unseen data."
      ],
      "metadata": {
        "id": "bVl2SP8J92tr"
      }
    },
    {
      "cell_type": "markdown",
      "metadata": {
        "id": "5z1iX6ltDTx8"
      },
      "source": [
        "###Regularization"
      ]
    },
    {
      "cell_type": "markdown",
      "metadata": {
        "id": "ENt79TByFzyD"
      },
      "source": [
        "Still, it is not always desirable to work with simple models with few parameters.\n",
        "\n",
        "Think about the true link between the input variable $x$ and the target variable $t$, it is through a $\\sin$ function.\n",
        "And a $\\sin$ function written in a polynomial basis (i.e. [its Taylor series](https://www.wolframalpha.com/input?i=taylor+series+sin+x)) contains terms of *every* odd degree, i.e. infinite terms. Our approximation of the ground truth function should benefit from high order terms, since they are *needed* to express a $\\sin$ function.\n",
        "\n",
        "We want to have many parameters, and we want them to do the right thing: to not overfit.\n",
        "This is why we need **regularizers**.\n",
        "\n",
        "Let's start with the simplest and most universal regularizer, *more data*.\n"
      ]
    },
    {
      "cell_type": "code",
      "metadata": {
        "id": "qcikXP28Ntfo",
        "colab": {
          "base_uri": "https://localhost:8080/",
          "height": 737
        },
        "outputId": "fd3f482b-441c-4356-b8d9-3c7d07f1e529"
      },
      "source": [
        "# @title Regularized polynomial fits: more data (again: play at least once) { run: \"auto\" }\n",
        "\n",
        "training_dataset_size = 75  #@param {type:\"slider\", min:1, max:100, step:1}\n",
        "temp_x, temp_t = x, t\n",
        "x = np.random.rand(training_dataset_size)\n",
        "t = np.sin(2 * np.pi * x) + 0.1 * np.random.randn(training_dataset_size)\n",
        "\n",
        "deg_1 = 2  #@param {type:\"slider\", min:0, max:15, step:1}\n",
        "deg_2 = 6  #@param {type:\"slider\", min:0, max:15, step:1}\n",
        "deg_3 = 13  #@param {type:\"slider\", min:0, max:15, step:1}\n",
        "\n",
        "degree = {}\n",
        "degree[0], degree[1], degree[2] = deg_1, deg_2, deg_3\n",
        "\n",
        "max_degree = max(degree.values())\n",
        "y = torch.from_numpy(t)\n",
        "X_full = torch.ones((y.shape[0], max_degree + 1), dtype=torch.float64)  # double precision is needed for this calculation!\n",
        "for i in range(max_degree):\n",
        "    X_full[:,i] =  torch.from_numpy(x) ** (max_degree - i)\n",
        "\n",
        "theta_collection = {}\n",
        "\n",
        "for i in range(3):\n",
        "    X = X_full[:,-(degree[i] + 1):]\n",
        "    temp_inverse = torch.inverse(torch.einsum('ij,jk->ik', X.t(), X))\n",
        "    theta_collection[i] = torch.einsum('ij,jk,k->i', temp_inverse, X.t(), y)\n",
        "\n",
        "fig = make_subplots(\n",
        "    rows=1, cols=3,\n",
        "    subplot_titles=(f\"poly{degree[0]} fit\", f\"poly{degree[1]} fit\", f\"poly{degree[2]} fit\"))\n",
        "\n",
        "x_funcs = np.arange(0,1,1./100)\n",
        "y_funcs = {}\n",
        "for i in range(3):\n",
        "    theta_funcs = theta_collection[i].numpy()\n",
        "    X_funcs = np.ones((x_funcs.shape[0], degree[i] + 1), dtype=np.float64)\n",
        "    for j in range(degree[i]):\n",
        "        X_funcs[:,j] =  x_funcs ** (degree[i] - j)\n",
        "    y_funcs[i] = np.einsum('ij,j->i', X_funcs, theta_funcs)\n",
        "    coefficients_string = '<br><br><br>' + '<br>'.join([c + f': {np.round(theta_funcs[i], decimals=2)}' for i, c in enumerate('abcdefghijklmnopqrstuvwxyz'[:len(theta_funcs)])])\n",
        "\n",
        "    fig.add_trace(go.Scatter(x=x, y=t, mode='markers', marker=dict(color=\"mediumpurple\")), row=1, col=i + 1)\n",
        "    fig.add_trace(go.Scatter(x=x_funcs, y=np.sin(2*np.pi*x_funcs), mode='lines', line=dict(color=\"lightgreen\")), row=1, col=i + 1)\n",
        "    fig.add_trace(go.Scatter(x=x_funcs, y=y_funcs[i], mode='lines', line=dict(color=\"lightsalmon\")), row=1, col=i + 1)\n",
        "    fig.update_xaxes(title_text=\"x\" + coefficients_string, range = [0,1], row=1, col=i+1)\n",
        "\n",
        "fig.update_layout(showlegend=False)\n",
        "fig.update_yaxes(title_text=\"t\", range = [-5,5])\n",
        "fig.update_layout(height=700, width=1300, title_text=\"Polynomial fits and their coefficients\")\n",
        "fig.show()\n",
        "\n",
        "x, t = temp_x, temp_t"
      ],
      "execution_count": null,
      "outputs": [
        {
          "output_type": "display_data",
          "data": {
            "text/html": [
              "<html>\n",
              "<head><meta charset=\"utf-8\" /></head>\n",
              "<body>\n",
              "    <div>            <script src=\"https://cdnjs.cloudflare.com/ajax/libs/mathjax/2.7.5/MathJax.js?config=TeX-AMS-MML_SVG\"></script><script type=\"text/javascript\">if (window.MathJax && window.MathJax.Hub && window.MathJax.Hub.Config) {window.MathJax.Hub.Config({SVG: {font: \"STIX-Web\"}});}</script>                <script type=\"text/javascript\">window.PlotlyConfig = {MathJaxConfig: 'local'};</script>\n",
              "        <script charset=\"utf-8\" src=\"https://cdn.plot.ly/plotly-2.24.1.min.js\"></script>                <div id=\"93bcd91d-be6c-42e7-8026-839e69f5b40e\" class=\"plotly-graph-div\" style=\"height:700px; width:1300px;\"></div>            <script type=\"text/javascript\">                                    window.PLOTLYENV=window.PLOTLYENV || {};                                    if (document.getElementById(\"93bcd91d-be6c-42e7-8026-839e69f5b40e\")) {                    Plotly.newPlot(                        \"93bcd91d-be6c-42e7-8026-839e69f5b40e\",                        [{\"marker\":{\"color\":\"mediumpurple\"},\"mode\":\"markers\",\"x\":[0.2598035810641598,0.6340057030996114,0.5399853797158555,0.7798453951511436,0.10698063882695841,0.761027902502028,0.5412665786761103,0.9629920038589946,0.3418721660386861,0.6326218931339481,0.9320281055100175,0.10250972799067926,0.9372284872364511,0.6878857223008134,0.0678370591051719,0.30096356694681625,0.7081720886452816,0.0673506014687717,0.5821704601762733,0.34588305695295674,0.6209155177674771,0.04574203381251285,0.8715368061523763,0.9734889691773969,0.9688778552856915,0.7496518317429247,0.13008624013063197,0.7582631959290226,0.02458691645880151,0.022123551528997254,0.32361021914954125,0.48864319040466575,0.7704074178077932,0.6832953766065052,0.44590270637674834,0.2736266662816659,0.9971245001577111,0.42618130223597295,0.4513870243296755,0.16362382119166918,0.7948095487499294,0.6936822257814886,0.2207696127887604,0.0823810456158427,0.6804993020747131,0.6545112142811352,0.2732595269982093,0.9508635622504104,0.15105789178090023,0.4323348010426019,0.9436159201675989,0.4197273169261223,0.6385259476640855,0.3975943979627943,0.27421520234867003,0.9839776479598282,0.409334006315043,0.8940992036791344,0.22995460589108618,0.2131047040250833,0.03113408288451136,0.651666825375885,0.36852634372376114,0.864358249839637,0.47320990669155716,0.9681934279147217,0.18552551570312115,0.8686231679556108,0.7765968527917417,0.770921844644052,0.8447832281168877,0.7610239909429989,0.6262203216314154,0.13124487768238757,0.032526179491251916],\"y\":[1.0070990752540836,-0.7263128935990717,-0.177700534414529,-0.9914423809206689,0.7667043197097276,-1.0652396138676845,-0.07629601618177861,-0.2344541111218614,0.6948891260031312,-0.7273358814198524,-0.482320022730804,0.6845334580430804,-0.44952137881881254,-0.9694226197016693,0.22448953547683817,0.9039375935331602,-1.2080510458627156,0.25226836204704034,-0.4176175885576839,0.9025292060943086,-0.6461832965631177,0.18676765501556203,-0.7270958690847381,-0.16616472651164077,-0.3101388255397064,-0.8496577770149396,0.8170756800006255,-1.0207489189070047,0.15655899914076854,0.15939742226699843,0.6907633753986417,0.04657866031988124,-1.0599890375692955,-1.0136104303775202,0.3052859161986884,1.168770065019763,0.046017970693937746,0.3902468019892072,0.35797525076721165,0.9962438757723284,-0.8681634818160914,-0.9320808240837241,0.9184881897192141,0.5646316354677401,-0.8668098170201834,-0.7358311227144579,1.052857151135512,-0.19889684121193607,0.7593825401329781,0.5441995577365573,-0.3271473515125187,0.6907804458023611,-0.8334954041489541,0.7735421911799826,1.0082387908901083,-0.16564324714350262,0.49096665228609604,-0.649404118463527,1.034495508106267,1.0255334165927574,0.13700593585653628,-0.8175638326131015,0.9495027208376078,-0.580017212371908,0.21116571567221906,-0.1947186250969796,0.9310641006116952,-0.6735114215191146,-1.0883483524234816,-1.0171097718823814,-0.9947037818982342,-0.9576797726901101,-0.6477880947107202,0.6859820159826843,0.3603470418839104],\"type\":\"scatter\",\"xaxis\":\"x\",\"yaxis\":\"y\"},{\"line\":{\"color\":\"lightgreen\"},\"mode\":\"lines\",\"x\":[0.0,0.01,0.02,0.03,0.04,0.05,0.06,0.07,0.08,0.09,0.1,0.11,0.12,0.13,0.14,0.15,0.16,0.17,0.18,0.19,0.2,0.21,0.22,0.23,0.24,0.25,0.26,0.27,0.28,0.29,0.3,0.31,0.32,0.33,0.34,0.35000000000000003,0.36,0.37,0.38,0.39,0.4,0.41000000000000003,0.42,0.43,0.44,0.45,0.46,0.47000000000000003,0.48,0.49,0.5,0.51,0.52,0.53,0.54,0.55,0.56,0.5700000000000001,0.58,0.59,0.6,0.61,0.62,0.63,0.64,0.65,0.66,0.67,0.68,0.6900000000000001,0.7000000000000001,0.71,0.72,0.73,0.74,0.75,0.76,0.77,0.78,0.79,0.8,0.81,0.8200000000000001,0.8300000000000001,0.84,0.85,0.86,0.87,0.88,0.89,0.9,0.91,0.92,0.93,0.9400000000000001,0.9500000000000001,0.96,0.97,0.98,0.99],\"y\":[0.0,0.06279051952931337,0.12533323356430426,0.1873813145857246,0.2486898871648548,0.3090169943749474,0.3681245526846779,0.4257792915650727,0.4817536741017153,0.5358267949789967,0.5877852522924731,0.6374239897486896,0.6845471059286886,0.7289686274214116,0.7705132427757893,0.8090169943749475,0.8443279255020151,0.8763066800438637,0.9048270524660196,0.9297764858882513,0.9510565162951535,0.9685831611286311,0.9822872507286886,0.9921147013144779,0.9980267284282716,1.0,0.9980267284282716,0.9921147013144778,0.9822872507286886,0.9685831611286312,0.9510565162951536,0.9297764858882513,0.9048270524660195,0.8763066800438635,0.844327925502015,0.8090169943749475,0.7705132427757893,0.7289686274214114,0.6845471059286888,0.6374239897486899,0.5877852522924732,0.5358267949789967,0.4817536741017156,0.4257792915650729,0.36812455268467814,0.3090169943749475,0.24868988716485482,0.18738131458572457,0.12533323356430454,0.06279051952931358,1.2246467991473532e-16,-0.06279051952931335,-0.12533323356430429,-0.18738131458572477,-0.24868988716485502,-0.30901699437494773,-0.3681245526846783,-0.42577929156507266,-0.481753674101715,-0.5358267949789964,-0.587785252292473,-0.6374239897486896,-0.6845471059286887,-0.7289686274214113,-0.7705132427757894,-0.8090169943749473,-0.8443279255020153,-0.8763066800438636,-0.9048270524660198,-0.9297764858882515,-0.9510565162951535,-0.968583161128631,-0.9822872507286887,-0.9921147013144778,-0.9980267284282716,-1.0,-0.9980267284282716,-0.9921147013144779,-0.9822872507286887,-0.9685831611286311,-0.9510565162951536,-0.9297764858882512,-0.9048270524660196,-0.8763066800438634,-0.8443279255020155,-0.8090169943749476,-0.7705132427757896,-0.7289686274214116,-0.684547105928689,-0.6374239897486896,-0.5877852522924734,-0.5358267949789963,-0.4817536741017153,-0.4257792915650722,-0.36812455268467786,-0.3090169943749476,-0.24868988716485535,-0.18738131458572468,-0.12533323356430465,-0.06279051952931326],\"type\":\"scatter\",\"xaxis\":\"x\",\"yaxis\":\"y\"},{\"line\":{\"color\":\"lightsalmon\"},\"mode\":\"lines\",\"x\":[0.0,0.01,0.02,0.03,0.04,0.05,0.06,0.07,0.08,0.09,0.1,0.11,0.12,0.13,0.14,0.15,0.16,0.17,0.18,0.19,0.2,0.21,0.22,0.23,0.24,0.25,0.26,0.27,0.28,0.29,0.3,0.31,0.32,0.33,0.34,0.35000000000000003,0.36,0.37,0.38,0.39,0.4,0.41000000000000003,0.42,0.43,0.44,0.45,0.46,0.47000000000000003,0.48,0.49,0.5,0.51,0.52,0.53,0.54,0.55,0.56,0.5700000000000001,0.58,0.59,0.6,0.61,0.62,0.63,0.64,0.65,0.66,0.67,0.68,0.6900000000000001,0.7000000000000001,0.71,0.72,0.73,0.74,0.75,0.76,0.77,0.78,0.79,0.8,0.81,0.8200000000000001,0.8300000000000001,0.84,0.85,0.86,0.87,0.88,0.89,0.9,0.91,0.92,0.93,0.9400000000000001,0.9500000000000001,0.96,0.97,0.98,0.99],\"y\":[0.9607236303810992,0.9380255317146506,0.9154302712713167,0.8929378490510977,0.8705482650539934,0.8482615192800039,0.8260776117291291,0.8039965424013691,0.7820183112967238,0.7601429184151933,0.7383703637567776,0.7167006473214768,0.6951337691092906,0.6736697291202192,0.6523085273542624,0.6310501638114205,0.6098946384916936,0.5888419513950811,0.5678921025215836,0.5470450918712007,0.5263009194439326,0.5056595852397795,0.48512108925874087,0.4646854315008172,0.4443526119660083,0.424122630654314,0.40399548756573445,0.38397118270026986,0.3640497160579198,0.34423108763868493,0.32451529744256435,0.30490234546955874,0.285392231719668,0.26598495619289164,0.24668051888923037,0.22747891980868395,0.20838015895125217,0.18938423631693513,0.17049115190573272,0.15170090571764538,0.13301349775267246,0.1144289280108145,0.09594719649207151,0.07756830319644303,0.0592922481239293,0.041119031274530427,0.023048652648246293,0.00508111224507668,-0.012783589934977524,-0.03054545389191765,-0.04820447962574259,-0.06576066713645279,-0.08321401642404846,-0.10056452748852918,-0.11781220032989514,-0.1349570349481466,-0.15199903134328308,-0.16893818951530482,-0.18577450946421137,-0.20250799119000384,-0.21913863469268113,-0.23566643997224368,-0.2520914070286917,-0.26841353586202477,-0.2846328264722431,-0.3007492788593469,-0.3167628930233357,-0.3326736689642096,-0.3484816066819689,-0.36418670617661353,-0.3797889674481434,-0.39528839049655806,-0.41068497532185844,-0.42597872192404385,-0.4411696303031145,-0.4562577004590702,-0.4712429323919116,-0.48612532610163806,-0.5009048815882495,-0.5155815988517465,-0.5301554778921287,-0.5446265187093959,-0.5589947213035487,-0.5732600856745864,-0.5874226118225092,-0.6014822997473175,-0.615439149449011,-0.6292931609275898,-0.6430443341830538,-0.6566926692154031,-0.6702381660246375,-0.6836808246107571,-0.6970206449737619,-0.710257627113652,-0.7233917710304278,-0.7364230767240882,-0.7493515441946337,-0.7621771734420653,-0.7748999644663814,-0.7875199172675829],\"type\":\"scatter\",\"xaxis\":\"x\",\"yaxis\":\"y\"},{\"marker\":{\"color\":\"mediumpurple\"},\"mode\":\"markers\",\"x\":[0.2598035810641598,0.6340057030996114,0.5399853797158555,0.7798453951511436,0.10698063882695841,0.761027902502028,0.5412665786761103,0.9629920038589946,0.3418721660386861,0.6326218931339481,0.9320281055100175,0.10250972799067926,0.9372284872364511,0.6878857223008134,0.0678370591051719,0.30096356694681625,0.7081720886452816,0.0673506014687717,0.5821704601762733,0.34588305695295674,0.6209155177674771,0.04574203381251285,0.8715368061523763,0.9734889691773969,0.9688778552856915,0.7496518317429247,0.13008624013063197,0.7582631959290226,0.02458691645880151,0.022123551528997254,0.32361021914954125,0.48864319040466575,0.7704074178077932,0.6832953766065052,0.44590270637674834,0.2736266662816659,0.9971245001577111,0.42618130223597295,0.4513870243296755,0.16362382119166918,0.7948095487499294,0.6936822257814886,0.2207696127887604,0.0823810456158427,0.6804993020747131,0.6545112142811352,0.2732595269982093,0.9508635622504104,0.15105789178090023,0.4323348010426019,0.9436159201675989,0.4197273169261223,0.6385259476640855,0.3975943979627943,0.27421520234867003,0.9839776479598282,0.409334006315043,0.8940992036791344,0.22995460589108618,0.2131047040250833,0.03113408288451136,0.651666825375885,0.36852634372376114,0.864358249839637,0.47320990669155716,0.9681934279147217,0.18552551570312115,0.8686231679556108,0.7765968527917417,0.770921844644052,0.8447832281168877,0.7610239909429989,0.6262203216314154,0.13124487768238757,0.032526179491251916],\"y\":[1.0070990752540836,-0.7263128935990717,-0.177700534414529,-0.9914423809206689,0.7667043197097276,-1.0652396138676845,-0.07629601618177861,-0.2344541111218614,0.6948891260031312,-0.7273358814198524,-0.482320022730804,0.6845334580430804,-0.44952137881881254,-0.9694226197016693,0.22448953547683817,0.9039375935331602,-1.2080510458627156,0.25226836204704034,-0.4176175885576839,0.9025292060943086,-0.6461832965631177,0.18676765501556203,-0.7270958690847381,-0.16616472651164077,-0.3101388255397064,-0.8496577770149396,0.8170756800006255,-1.0207489189070047,0.15655899914076854,0.15939742226699843,0.6907633753986417,0.04657866031988124,-1.0599890375692955,-1.0136104303775202,0.3052859161986884,1.168770065019763,0.046017970693937746,0.3902468019892072,0.35797525076721165,0.9962438757723284,-0.8681634818160914,-0.9320808240837241,0.9184881897192141,0.5646316354677401,-0.8668098170201834,-0.7358311227144579,1.052857151135512,-0.19889684121193607,0.7593825401329781,0.5441995577365573,-0.3271473515125187,0.6907804458023611,-0.8334954041489541,0.7735421911799826,1.0082387908901083,-0.16564324714350262,0.49096665228609604,-0.649404118463527,1.034495508106267,1.0255334165927574,0.13700593585653628,-0.8175638326131015,0.9495027208376078,-0.580017212371908,0.21116571567221906,-0.1947186250969796,0.9310641006116952,-0.6735114215191146,-1.0883483524234816,-1.0171097718823814,-0.9947037818982342,-0.9576797726901101,-0.6477880947107202,0.6859820159826843,0.3603470418839104],\"type\":\"scatter\",\"xaxis\":\"x2\",\"yaxis\":\"y2\"},{\"line\":{\"color\":\"lightgreen\"},\"mode\":\"lines\",\"x\":[0.0,0.01,0.02,0.03,0.04,0.05,0.06,0.07,0.08,0.09,0.1,0.11,0.12,0.13,0.14,0.15,0.16,0.17,0.18,0.19,0.2,0.21,0.22,0.23,0.24,0.25,0.26,0.27,0.28,0.29,0.3,0.31,0.32,0.33,0.34,0.35000000000000003,0.36,0.37,0.38,0.39,0.4,0.41000000000000003,0.42,0.43,0.44,0.45,0.46,0.47000000000000003,0.48,0.49,0.5,0.51,0.52,0.53,0.54,0.55,0.56,0.5700000000000001,0.58,0.59,0.6,0.61,0.62,0.63,0.64,0.65,0.66,0.67,0.68,0.6900000000000001,0.7000000000000001,0.71,0.72,0.73,0.74,0.75,0.76,0.77,0.78,0.79,0.8,0.81,0.8200000000000001,0.8300000000000001,0.84,0.85,0.86,0.87,0.88,0.89,0.9,0.91,0.92,0.93,0.9400000000000001,0.9500000000000001,0.96,0.97,0.98,0.99],\"y\":[0.0,0.06279051952931337,0.12533323356430426,0.1873813145857246,0.2486898871648548,0.3090169943749474,0.3681245526846779,0.4257792915650727,0.4817536741017153,0.5358267949789967,0.5877852522924731,0.6374239897486896,0.6845471059286886,0.7289686274214116,0.7705132427757893,0.8090169943749475,0.8443279255020151,0.8763066800438637,0.9048270524660196,0.9297764858882513,0.9510565162951535,0.9685831611286311,0.9822872507286886,0.9921147013144779,0.9980267284282716,1.0,0.9980267284282716,0.9921147013144778,0.9822872507286886,0.9685831611286312,0.9510565162951536,0.9297764858882513,0.9048270524660195,0.8763066800438635,0.844327925502015,0.8090169943749475,0.7705132427757893,0.7289686274214114,0.6845471059286888,0.6374239897486899,0.5877852522924732,0.5358267949789967,0.4817536741017156,0.4257792915650729,0.36812455268467814,0.3090169943749475,0.24868988716485482,0.18738131458572457,0.12533323356430454,0.06279051952931358,1.2246467991473532e-16,-0.06279051952931335,-0.12533323356430429,-0.18738131458572477,-0.24868988716485502,-0.30901699437494773,-0.3681245526846783,-0.42577929156507266,-0.481753674101715,-0.5358267949789964,-0.587785252292473,-0.6374239897486896,-0.6845471059286887,-0.7289686274214113,-0.7705132427757894,-0.8090169943749473,-0.8443279255020153,-0.8763066800438636,-0.9048270524660198,-0.9297764858882515,-0.9510565162951535,-0.968583161128631,-0.9822872507286887,-0.9921147013144778,-0.9980267284282716,-1.0,-0.9980267284282716,-0.9921147013144779,-0.9822872507286887,-0.9685831611286311,-0.9510565162951536,-0.9297764858882512,-0.9048270524660196,-0.8763066800438634,-0.8443279255020155,-0.8090169943749476,-0.7705132427757896,-0.7289686274214116,-0.684547105928689,-0.6374239897486896,-0.5877852522924734,-0.5358267949789963,-0.4817536741017153,-0.4257792915650722,-0.36812455268467786,-0.3090169943749476,-0.24868988716485535,-0.18738131458572468,-0.12533323356430465,-0.06279051952931326],\"type\":\"scatter\",\"xaxis\":\"x2\",\"yaxis\":\"y2\"},{\"line\":{\"color\":\"lightsalmon\"},\"mode\":\"lines\",\"x\":[0.0,0.01,0.02,0.03,0.04,0.05,0.06,0.07,0.08,0.09,0.1,0.11,0.12,0.13,0.14,0.15,0.16,0.17,0.18,0.19,0.2,0.21,0.22,0.23,0.24,0.25,0.26,0.27,0.28,0.29,0.3,0.31,0.32,0.33,0.34,0.35000000000000003,0.36,0.37,0.38,0.39,0.4,0.41000000000000003,0.42,0.43,0.44,0.45,0.46,0.47000000000000003,0.48,0.49,0.5,0.51,0.52,0.53,0.54,0.55,0.56,0.5700000000000001,0.58,0.59,0.6,0.61,0.62,0.63,0.64,0.65,0.66,0.67,0.68,0.6900000000000001,0.7000000000000001,0.71,0.72,0.73,0.74,0.75,0.76,0.77,0.78,0.79,0.8,0.81,0.8200000000000001,0.8300000000000001,0.84,0.85,0.86,0.87,0.88,0.89,0.9,0.91,0.92,0.93,0.9400000000000001,0.9500000000000001,0.96,0.97,0.98,0.99],\"y\":[-0.021829502611698803,0.04451835760919989,0.11058158670796506,0.176064795492846,0.2406836782598513,0.3041653314822153,0.3662485515845334,0.42668411180156574,0.4852350181217089,0.5416767443151373,0.595797446046612,0.647398154072958,0.6962929465252113,0.7423091002754332,0.7852872213881934,0.8250813546567218,0.8615590722237292,0.8946015412868957,0.9241035708890285,0.9499736377928867,0.9721338914406767,0.9905201379982154,1.005081803483759,1.0157818759815067,1.0225968269397665,1.025516511553792,1.0245440482332901,1.0196956771545926,1.0110005978974996,0.9985007861667905,0.9822507895984043,0.9623175026502857,0.938779920577903,0.9117288724944339,0.881266733515617,0.8475071159892749,0.8105745398095057,0.7706040818155409,0.7277410042752724,0.6821403624534528,0.6339665912645518,0.5833930710103006,0.5306016722018831,0.4757822794668112,0.4191322945404643,0.3608561183422936,0.30116461213670265,0.24027453777858332,0.17840797704353717,0.11579173004275178,0.052656692722553355,-0.010762786551378412,-0.0742295713251182,-0.1375044223029458,-0.20034670350911865,-0.2625151093649811,-0.3237684126813951,-0.3838662335665286,-0.44256982924894217,-0.499642904816028,-0.5548524448677696,-0.6079695660858544,-0.6587703907180753,-0.7070369409781172,-0.7525580543606392,-0.7951303198716708,-0.8345590351744168,-0.870659184650302,-0.9032564383753972,-0.9321881720121805,-0.9573045076165947,-0.9784693753604898,-0.9955615961693329,-1.0084759852753038,-1.017124476685689,-1.0214372685666362,-1.0213639895422038,-1.016874885908754,-1.0079620297647232,-0.9946405480556653,-0.9769498725346057,-0.9549550106378302,-0.9287478372759335,-0.8984484075401511,-0.8642062903241481,-0.8262019228610313,-0.7846479861757452,-0.7397908014528038,-0.6919117473192973,-0.6413286980433011,-0.5883974826475882,-0.5335133649386314,-0.47711254445104245,-0.4196736783072019,-0.361719423992362,-0.30381800304495066,-0.246584785662316,-0.1906838962217332,-0.13682983971680862,-0.08578914910908608],\"type\":\"scatter\",\"xaxis\":\"x2\",\"yaxis\":\"y2\"},{\"marker\":{\"color\":\"mediumpurple\"},\"mode\":\"markers\",\"x\":[0.2598035810641598,0.6340057030996114,0.5399853797158555,0.7798453951511436,0.10698063882695841,0.761027902502028,0.5412665786761103,0.9629920038589946,0.3418721660386861,0.6326218931339481,0.9320281055100175,0.10250972799067926,0.9372284872364511,0.6878857223008134,0.0678370591051719,0.30096356694681625,0.7081720886452816,0.0673506014687717,0.5821704601762733,0.34588305695295674,0.6209155177674771,0.04574203381251285,0.8715368061523763,0.9734889691773969,0.9688778552856915,0.7496518317429247,0.13008624013063197,0.7582631959290226,0.02458691645880151,0.022123551528997254,0.32361021914954125,0.48864319040466575,0.7704074178077932,0.6832953766065052,0.44590270637674834,0.2736266662816659,0.9971245001577111,0.42618130223597295,0.4513870243296755,0.16362382119166918,0.7948095487499294,0.6936822257814886,0.2207696127887604,0.0823810456158427,0.6804993020747131,0.6545112142811352,0.2732595269982093,0.9508635622504104,0.15105789178090023,0.4323348010426019,0.9436159201675989,0.4197273169261223,0.6385259476640855,0.3975943979627943,0.27421520234867003,0.9839776479598282,0.409334006315043,0.8940992036791344,0.22995460589108618,0.2131047040250833,0.03113408288451136,0.651666825375885,0.36852634372376114,0.864358249839637,0.47320990669155716,0.9681934279147217,0.18552551570312115,0.8686231679556108,0.7765968527917417,0.770921844644052,0.8447832281168877,0.7610239909429989,0.6262203216314154,0.13124487768238757,0.032526179491251916],\"y\":[1.0070990752540836,-0.7263128935990717,-0.177700534414529,-0.9914423809206689,0.7667043197097276,-1.0652396138676845,-0.07629601618177861,-0.2344541111218614,0.6948891260031312,-0.7273358814198524,-0.482320022730804,0.6845334580430804,-0.44952137881881254,-0.9694226197016693,0.22448953547683817,0.9039375935331602,-1.2080510458627156,0.25226836204704034,-0.4176175885576839,0.9025292060943086,-0.6461832965631177,0.18676765501556203,-0.7270958690847381,-0.16616472651164077,-0.3101388255397064,-0.8496577770149396,0.8170756800006255,-1.0207489189070047,0.15655899914076854,0.15939742226699843,0.6907633753986417,0.04657866031988124,-1.0599890375692955,-1.0136104303775202,0.3052859161986884,1.168770065019763,0.046017970693937746,0.3902468019892072,0.35797525076721165,0.9962438757723284,-0.8681634818160914,-0.9320808240837241,0.9184881897192141,0.5646316354677401,-0.8668098170201834,-0.7358311227144579,1.052857151135512,-0.19889684121193607,0.7593825401329781,0.5441995577365573,-0.3271473515125187,0.6907804458023611,-0.8334954041489541,0.7735421911799826,1.0082387908901083,-0.16564324714350262,0.49096665228609604,-0.649404118463527,1.034495508106267,1.0255334165927574,0.13700593585653628,-0.8175638326131015,0.9495027208376078,-0.580017212371908,0.21116571567221906,-0.1947186250969796,0.9310641006116952,-0.6735114215191146,-1.0883483524234816,-1.0171097718823814,-0.9947037818982342,-0.9576797726901101,-0.6477880947107202,0.6859820159826843,0.3603470418839104],\"type\":\"scatter\",\"xaxis\":\"x3\",\"yaxis\":\"y3\"},{\"line\":{\"color\":\"lightgreen\"},\"mode\":\"lines\",\"x\":[0.0,0.01,0.02,0.03,0.04,0.05,0.06,0.07,0.08,0.09,0.1,0.11,0.12,0.13,0.14,0.15,0.16,0.17,0.18,0.19,0.2,0.21,0.22,0.23,0.24,0.25,0.26,0.27,0.28,0.29,0.3,0.31,0.32,0.33,0.34,0.35000000000000003,0.36,0.37,0.38,0.39,0.4,0.41000000000000003,0.42,0.43,0.44,0.45,0.46,0.47000000000000003,0.48,0.49,0.5,0.51,0.52,0.53,0.54,0.55,0.56,0.5700000000000001,0.58,0.59,0.6,0.61,0.62,0.63,0.64,0.65,0.66,0.67,0.68,0.6900000000000001,0.7000000000000001,0.71,0.72,0.73,0.74,0.75,0.76,0.77,0.78,0.79,0.8,0.81,0.8200000000000001,0.8300000000000001,0.84,0.85,0.86,0.87,0.88,0.89,0.9,0.91,0.92,0.93,0.9400000000000001,0.9500000000000001,0.96,0.97,0.98,0.99],\"y\":[0.0,0.06279051952931337,0.12533323356430426,0.1873813145857246,0.2486898871648548,0.3090169943749474,0.3681245526846779,0.4257792915650727,0.4817536741017153,0.5358267949789967,0.5877852522924731,0.6374239897486896,0.6845471059286886,0.7289686274214116,0.7705132427757893,0.8090169943749475,0.8443279255020151,0.8763066800438637,0.9048270524660196,0.9297764858882513,0.9510565162951535,0.9685831611286311,0.9822872507286886,0.9921147013144779,0.9980267284282716,1.0,0.9980267284282716,0.9921147013144778,0.9822872507286886,0.9685831611286312,0.9510565162951536,0.9297764858882513,0.9048270524660195,0.8763066800438635,0.844327925502015,0.8090169943749475,0.7705132427757893,0.7289686274214114,0.6845471059286888,0.6374239897486899,0.5877852522924732,0.5358267949789967,0.4817536741017156,0.4257792915650729,0.36812455268467814,0.3090169943749475,0.24868988716485482,0.18738131458572457,0.12533323356430454,0.06279051952931358,1.2246467991473532e-16,-0.06279051952931335,-0.12533323356430429,-0.18738131458572477,-0.24868988716485502,-0.30901699437494773,-0.3681245526846783,-0.42577929156507266,-0.481753674101715,-0.5358267949789964,-0.587785252292473,-0.6374239897486896,-0.6845471059286887,-0.7289686274214113,-0.7705132427757894,-0.8090169943749473,-0.8443279255020153,-0.8763066800438636,-0.9048270524660198,-0.9297764858882515,-0.9510565162951535,-0.968583161128631,-0.9822872507286887,-0.9921147013144778,-0.9980267284282716,-1.0,-0.9980267284282716,-0.9921147013144779,-0.9822872507286887,-0.9685831611286311,-0.9510565162951536,-0.9297764858882512,-0.9048270524660196,-0.8763066800438634,-0.8443279255020155,-0.8090169943749476,-0.7705132427757896,-0.7289686274214116,-0.684547105928689,-0.6374239897486896,-0.5877852522924734,-0.5358267949789963,-0.4817536741017153,-0.4257792915650722,-0.36812455268467786,-0.3090169943749476,-0.24868988716485535,-0.18738131458572468,-0.12533323356430465,-0.06279051952931326],\"type\":\"scatter\",\"xaxis\":\"x3\",\"yaxis\":\"y3\"},{\"line\":{\"color\":\"lightsalmon\"},\"mode\":\"lines\",\"x\":[0.0,0.01,0.02,0.03,0.04,0.05,0.06,0.07,0.08,0.09,0.1,0.11,0.12,0.13,0.14,0.15,0.16,0.17,0.18,0.19,0.2,0.21,0.22,0.23,0.24,0.25,0.26,0.27,0.28,0.29,0.3,0.31,0.32,0.33,0.34,0.35000000000000003,0.36,0.37,0.38,0.39,0.4,0.41000000000000003,0.42,0.43,0.44,0.45,0.46,0.47000000000000003,0.48,0.49,0.5,0.51,0.52,0.53,0.54,0.55,0.56,0.5700000000000001,0.58,0.59,0.6,0.61,0.62,0.63,0.64,0.65,0.66,0.67,0.68,0.6900000000000001,0.7000000000000001,0.71,0.72,0.73,0.74,0.75,0.76,0.77,0.78,0.79,0.8,0.81,0.8200000000000001,0.8300000000000001,0.84,0.85,0.86,0.87,0.88,0.89,0.9,0.91,0.92,0.93,0.9400000000000001,0.9500000000000001,0.96,0.97,0.98,0.99],\"y\":[0.33441142556699077,0.13703179923602526,0.034582843940893615,0.0005931438160636793,0.01431600777312303,0.05972134547809427,0.12463188793626667,0.1999870780833657,0.27921950789771266,0.3577302103113347,0.4324504348641529,0.5014787533225267,0.5637834625620854,0.6189612835969953,0.6670443039651666,0.7083479815597613,0.7433538268329514,0.7726211121084035,0.7967226261870906,0.816200103847919,0.8315355172475449,0.8431349233479324,0.8513220218063111,0.8563389944692972,0.8583525737131481,0.8574636251406105,0.8537188331795846,0.8471233483357992,0.837653494496692,0.8252688458690614,0.8099231678561409,0.7915738762885667,0.7701898067077764,0.7457572014958487,0.7182839191887069,0.6878019487639904,0.654368373574016,0.6180649762363828,0.5789967086234356,0.5372892713476176,0.4930860561667032,0.4465447037073318,0.3978335191318365,0.3471279709242481,0.294607474203076,0.2404526307800552,0.1848430649506554,0.12795595771331136,0.06996534377685748,0.011042196614653221,-0.04864471227847389,-0.10892723164943163,-0.1696356138054398,-0.23059578347601928,-0.2916262414164521,-0.35253477652804577,-0.4131151789260912,-0.47314415925575304,-0.5323786855915387,-0.5905539484447218,-0.6473821555337054,-0.7025523419579258,-0.7557313569850521,-0.8065661567306961,-0.8546874922612915,-0.8997150354189216,-0.941263931672438,-0.9789527082321001,-1.0124124032154214,-1.041296711540781,-1.0652928743802477,-1.084132968375343,-1.0976051820471184,-1.1055646042805165,-1.1079429914680077,-1.1047569363727234,-1.096113828883972,-1.082214986672625,-1.06335534498794,-1.0399191307660658,-1.0123710228363052,-0.9812424094707239,-0.9471125142881647,-0.9105843786965124,-0.8722559598390944,-0.8326869565644301,-0.7923623987589963,-0.7516545571852475,-0.7107853543711826,-0.669792182801757,-0.6285009105922654,-0.5865108462749049,-0.5431975945830345,-0.4977410635910928,-0.44918739213608205,-0.3965552938170731,-0.33899924578145146,-0.2760441416176036,-0.20790848031174392,-0.13593589863739908],\"type\":\"scatter\",\"xaxis\":\"x3\",\"yaxis\":\"y3\"}],                        {\"template\":{\"data\":{\"histogram2dcontour\":[{\"type\":\"histogram2dcontour\",\"colorbar\":{\"outlinewidth\":0,\"ticks\":\"\"},\"colorscale\":[[0.0,\"#0d0887\"],[0.1111111111111111,\"#46039f\"],[0.2222222222222222,\"#7201a8\"],[0.3333333333333333,\"#9c179e\"],[0.4444444444444444,\"#bd3786\"],[0.5555555555555556,\"#d8576b\"],[0.6666666666666666,\"#ed7953\"],[0.7777777777777778,\"#fb9f3a\"],[0.8888888888888888,\"#fdca26\"],[1.0,\"#f0f921\"]]}],\"choropleth\":[{\"type\":\"choropleth\",\"colorbar\":{\"outlinewidth\":0,\"ticks\":\"\"}}],\"histogram2d\":[{\"type\":\"histogram2d\",\"colorbar\":{\"outlinewidth\":0,\"ticks\":\"\"},\"colorscale\":[[0.0,\"#0d0887\"],[0.1111111111111111,\"#46039f\"],[0.2222222222222222,\"#7201a8\"],[0.3333333333333333,\"#9c179e\"],[0.4444444444444444,\"#bd3786\"],[0.5555555555555556,\"#d8576b\"],[0.6666666666666666,\"#ed7953\"],[0.7777777777777778,\"#fb9f3a\"],[0.8888888888888888,\"#fdca26\"],[1.0,\"#f0f921\"]]}],\"heatmap\":[{\"type\":\"heatmap\",\"colorbar\":{\"outlinewidth\":0,\"ticks\":\"\"},\"colorscale\":[[0.0,\"#0d0887\"],[0.1111111111111111,\"#46039f\"],[0.2222222222222222,\"#7201a8\"],[0.3333333333333333,\"#9c179e\"],[0.4444444444444444,\"#bd3786\"],[0.5555555555555556,\"#d8576b\"],[0.6666666666666666,\"#ed7953\"],[0.7777777777777778,\"#fb9f3a\"],[0.8888888888888888,\"#fdca26\"],[1.0,\"#f0f921\"]]}],\"heatmapgl\":[{\"type\":\"heatmapgl\",\"colorbar\":{\"outlinewidth\":0,\"ticks\":\"\"},\"colorscale\":[[0.0,\"#0d0887\"],[0.1111111111111111,\"#46039f\"],[0.2222222222222222,\"#7201a8\"],[0.3333333333333333,\"#9c179e\"],[0.4444444444444444,\"#bd3786\"],[0.5555555555555556,\"#d8576b\"],[0.6666666666666666,\"#ed7953\"],[0.7777777777777778,\"#fb9f3a\"],[0.8888888888888888,\"#fdca26\"],[1.0,\"#f0f921\"]]}],\"contourcarpet\":[{\"type\":\"contourcarpet\",\"colorbar\":{\"outlinewidth\":0,\"ticks\":\"\"}}],\"contour\":[{\"type\":\"contour\",\"colorbar\":{\"outlinewidth\":0,\"ticks\":\"\"},\"colorscale\":[[0.0,\"#0d0887\"],[0.1111111111111111,\"#46039f\"],[0.2222222222222222,\"#7201a8\"],[0.3333333333333333,\"#9c179e\"],[0.4444444444444444,\"#bd3786\"],[0.5555555555555556,\"#d8576b\"],[0.6666666666666666,\"#ed7953\"],[0.7777777777777778,\"#fb9f3a\"],[0.8888888888888888,\"#fdca26\"],[1.0,\"#f0f921\"]]}],\"surface\":[{\"type\":\"surface\",\"colorbar\":{\"outlinewidth\":0,\"ticks\":\"\"},\"colorscale\":[[0.0,\"#0d0887\"],[0.1111111111111111,\"#46039f\"],[0.2222222222222222,\"#7201a8\"],[0.3333333333333333,\"#9c179e\"],[0.4444444444444444,\"#bd3786\"],[0.5555555555555556,\"#d8576b\"],[0.6666666666666666,\"#ed7953\"],[0.7777777777777778,\"#fb9f3a\"],[0.8888888888888888,\"#fdca26\"],[1.0,\"#f0f921\"]]}],\"mesh3d\":[{\"type\":\"mesh3d\",\"colorbar\":{\"outlinewidth\":0,\"ticks\":\"\"}}],\"scatter\":[{\"fillpattern\":{\"fillmode\":\"overlay\",\"size\":10,\"solidity\":0.2},\"type\":\"scatter\"}],\"parcoords\":[{\"type\":\"parcoords\",\"line\":{\"colorbar\":{\"outlinewidth\":0,\"ticks\":\"\"}}}],\"scatterpolargl\":[{\"type\":\"scatterpolargl\",\"marker\":{\"colorbar\":{\"outlinewidth\":0,\"ticks\":\"\"}}}],\"bar\":[{\"error_x\":{\"color\":\"#2a3f5f\"},\"error_y\":{\"color\":\"#2a3f5f\"},\"marker\":{\"line\":{\"color\":\"#E5ECF6\",\"width\":0.5},\"pattern\":{\"fillmode\":\"overlay\",\"size\":10,\"solidity\":0.2}},\"type\":\"bar\"}],\"scattergeo\":[{\"type\":\"scattergeo\",\"marker\":{\"colorbar\":{\"outlinewidth\":0,\"ticks\":\"\"}}}],\"scatterpolar\":[{\"type\":\"scatterpolar\",\"marker\":{\"colorbar\":{\"outlinewidth\":0,\"ticks\":\"\"}}}],\"histogram\":[{\"marker\":{\"pattern\":{\"fillmode\":\"overlay\",\"size\":10,\"solidity\":0.2}},\"type\":\"histogram\"}],\"scattergl\":[{\"type\":\"scattergl\",\"marker\":{\"colorbar\":{\"outlinewidth\":0,\"ticks\":\"\"}}}],\"scatter3d\":[{\"type\":\"scatter3d\",\"line\":{\"colorbar\":{\"outlinewidth\":0,\"ticks\":\"\"}},\"marker\":{\"colorbar\":{\"outlinewidth\":0,\"ticks\":\"\"}}}],\"scattermapbox\":[{\"type\":\"scattermapbox\",\"marker\":{\"colorbar\":{\"outlinewidth\":0,\"ticks\":\"\"}}}],\"scatterternary\":[{\"type\":\"scatterternary\",\"marker\":{\"colorbar\":{\"outlinewidth\":0,\"ticks\":\"\"}}}],\"scattercarpet\":[{\"type\":\"scattercarpet\",\"marker\":{\"colorbar\":{\"outlinewidth\":0,\"ticks\":\"\"}}}],\"carpet\":[{\"aaxis\":{\"endlinecolor\":\"#2a3f5f\",\"gridcolor\":\"white\",\"linecolor\":\"white\",\"minorgridcolor\":\"white\",\"startlinecolor\":\"#2a3f5f\"},\"baxis\":{\"endlinecolor\":\"#2a3f5f\",\"gridcolor\":\"white\",\"linecolor\":\"white\",\"minorgridcolor\":\"white\",\"startlinecolor\":\"#2a3f5f\"},\"type\":\"carpet\"}],\"table\":[{\"cells\":{\"fill\":{\"color\":\"#EBF0F8\"},\"line\":{\"color\":\"white\"}},\"header\":{\"fill\":{\"color\":\"#C8D4E3\"},\"line\":{\"color\":\"white\"}},\"type\":\"table\"}],\"barpolar\":[{\"marker\":{\"line\":{\"color\":\"#E5ECF6\",\"width\":0.5},\"pattern\":{\"fillmode\":\"overlay\",\"size\":10,\"solidity\":0.2}},\"type\":\"barpolar\"}],\"pie\":[{\"automargin\":true,\"type\":\"pie\"}]},\"layout\":{\"autotypenumbers\":\"strict\",\"colorway\":[\"#636efa\",\"#EF553B\",\"#00cc96\",\"#ab63fa\",\"#FFA15A\",\"#19d3f3\",\"#FF6692\",\"#B6E880\",\"#FF97FF\",\"#FECB52\"],\"font\":{\"color\":\"#2a3f5f\"},\"hovermode\":\"closest\",\"hoverlabel\":{\"align\":\"left\"},\"paper_bgcolor\":\"white\",\"plot_bgcolor\":\"#E5ECF6\",\"polar\":{\"bgcolor\":\"#E5ECF6\",\"angularaxis\":{\"gridcolor\":\"white\",\"linecolor\":\"white\",\"ticks\":\"\"},\"radialaxis\":{\"gridcolor\":\"white\",\"linecolor\":\"white\",\"ticks\":\"\"}},\"ternary\":{\"bgcolor\":\"#E5ECF6\",\"aaxis\":{\"gridcolor\":\"white\",\"linecolor\":\"white\",\"ticks\":\"\"},\"baxis\":{\"gridcolor\":\"white\",\"linecolor\":\"white\",\"ticks\":\"\"},\"caxis\":{\"gridcolor\":\"white\",\"linecolor\":\"white\",\"ticks\":\"\"}},\"coloraxis\":{\"colorbar\":{\"outlinewidth\":0,\"ticks\":\"\"}},\"colorscale\":{\"sequential\":[[0.0,\"#0d0887\"],[0.1111111111111111,\"#46039f\"],[0.2222222222222222,\"#7201a8\"],[0.3333333333333333,\"#9c179e\"],[0.4444444444444444,\"#bd3786\"],[0.5555555555555556,\"#d8576b\"],[0.6666666666666666,\"#ed7953\"],[0.7777777777777778,\"#fb9f3a\"],[0.8888888888888888,\"#fdca26\"],[1.0,\"#f0f921\"]],\"sequentialminus\":[[0.0,\"#0d0887\"],[0.1111111111111111,\"#46039f\"],[0.2222222222222222,\"#7201a8\"],[0.3333333333333333,\"#9c179e\"],[0.4444444444444444,\"#bd3786\"],[0.5555555555555556,\"#d8576b\"],[0.6666666666666666,\"#ed7953\"],[0.7777777777777778,\"#fb9f3a\"],[0.8888888888888888,\"#fdca26\"],[1.0,\"#f0f921\"]],\"diverging\":[[0,\"#8e0152\"],[0.1,\"#c51b7d\"],[0.2,\"#de77ae\"],[0.3,\"#f1b6da\"],[0.4,\"#fde0ef\"],[0.5,\"#f7f7f7\"],[0.6,\"#e6f5d0\"],[0.7,\"#b8e186\"],[0.8,\"#7fbc41\"],[0.9,\"#4d9221\"],[1,\"#276419\"]]},\"xaxis\":{\"gridcolor\":\"white\",\"linecolor\":\"white\",\"ticks\":\"\",\"title\":{\"standoff\":15},\"zerolinecolor\":\"white\",\"automargin\":true,\"zerolinewidth\":2},\"yaxis\":{\"gridcolor\":\"white\",\"linecolor\":\"white\",\"ticks\":\"\",\"title\":{\"standoff\":15},\"zerolinecolor\":\"white\",\"automargin\":true,\"zerolinewidth\":2},\"scene\":{\"xaxis\":{\"backgroundcolor\":\"#E5ECF6\",\"gridcolor\":\"white\",\"linecolor\":\"white\",\"showbackground\":true,\"ticks\":\"\",\"zerolinecolor\":\"white\",\"gridwidth\":2},\"yaxis\":{\"backgroundcolor\":\"#E5ECF6\",\"gridcolor\":\"white\",\"linecolor\":\"white\",\"showbackground\":true,\"ticks\":\"\",\"zerolinecolor\":\"white\",\"gridwidth\":2},\"zaxis\":{\"backgroundcolor\":\"#E5ECF6\",\"gridcolor\":\"white\",\"linecolor\":\"white\",\"showbackground\":true,\"ticks\":\"\",\"zerolinecolor\":\"white\",\"gridwidth\":2}},\"shapedefaults\":{\"line\":{\"color\":\"#2a3f5f\"}},\"annotationdefaults\":{\"arrowcolor\":\"#2a3f5f\",\"arrowhead\":0,\"arrowwidth\":1},\"geo\":{\"bgcolor\":\"white\",\"landcolor\":\"#E5ECF6\",\"subunitcolor\":\"white\",\"showland\":true,\"showlakes\":true,\"lakecolor\":\"white\"},\"title\":{\"x\":0.05},\"mapbox\":{\"style\":\"light\"}}},\"xaxis\":{\"anchor\":\"y\",\"domain\":[0.0,0.2888888888888889],\"title\":{\"text\":\"x\\u003cbr\\u003e\\u003cbr\\u003e\\u003cbr\\u003ea: 0.51\\u003cbr\\u003eb: -2.27\\u003cbr\\u003ec: 0.96\"},\"range\":[0,1]},\"yaxis\":{\"anchor\":\"x\",\"domain\":[0.0,1.0],\"title\":{\"text\":\"t\"},\"range\":[-5,5]},\"xaxis2\":{\"anchor\":\"y2\",\"domain\":[0.35555555555555557,0.6444444444444445],\"title\":{\"text\":\"x\\u003cbr\\u003e\\u003cbr\\u003e\\u003cbr\\u003ea: -29.05\\u003cbr\\u003eb: 30.91\\u003cbr\\u003ec: 43.28\\u003cbr\\u003ed: -51.9\\u003cbr\\u003ee: 0.1\\u003cbr\\u003ef: 6.64\\u003cbr\\u003eg: -0.02\"},\"range\":[0,1]},\"yaxis2\":{\"anchor\":\"x2\",\"domain\":[0.0,1.0],\"title\":{\"text\":\"t\"},\"range\":[-5,5]},\"xaxis3\":{\"anchor\":\"y3\",\"domain\":[0.7111111111111111,1.0],\"title\":{\"text\":\"x\\u003cbr\\u003e\\u003cbr\\u003e\\u003cbr\\u003ea: -13964.84\\u003cbr\\u003eb: 73145.56\\u003cbr\\u003ec: -181995.34\\u003cbr\\u003ed: 315671.81\\u003cbr\\u003ee: -451514.52\\u003cbr\\u003ef: 525619.62\\u003cbr\\u003eg: -458902.99\\u003cbr\\u003eh: 283992.59\\u003cbr\\u003ei: -120706.4\\u003cbr\\u003ej: 34229.72\\u003cbr\\u003ek: -6188.15\\u003cbr\\u003el: 638.06\\u003cbr\\u003em: -25.53\\u003cbr\\u003en: 0.33\"},\"range\":[0,1]},\"yaxis3\":{\"anchor\":\"x3\",\"domain\":[0.0,1.0],\"title\":{\"text\":\"t\"},\"range\":[-5,5]},\"annotations\":[{\"font\":{\"size\":16},\"showarrow\":false,\"text\":\"poly2 fit\",\"x\":0.14444444444444446,\"xanchor\":\"center\",\"xref\":\"paper\",\"y\":1.0,\"yanchor\":\"bottom\",\"yref\":\"paper\"},{\"font\":{\"size\":16},\"showarrow\":false,\"text\":\"poly6 fit\",\"x\":0.5,\"xanchor\":\"center\",\"xref\":\"paper\",\"y\":1.0,\"yanchor\":\"bottom\",\"yref\":\"paper\"},{\"font\":{\"size\":16},\"showarrow\":false,\"text\":\"poly13 fit\",\"x\":0.8555555555555556,\"xanchor\":\"center\",\"xref\":\"paper\",\"y\":1.0,\"yanchor\":\"bottom\",\"yref\":\"paper\"}],\"showlegend\":false,\"title\":{\"text\":\"Polynomial fits and their coefficients\"},\"height\":700,\"width\":1300},                        {\"responsive\": true}                    ).then(function(){\n",
              "                            \n",
              "var gd = document.getElementById('93bcd91d-be6c-42e7-8026-839e69f5b40e');\n",
              "var x = new MutationObserver(function (mutations, observer) {{\n",
              "        var display = window.getComputedStyle(gd).display;\n",
              "        if (!display || display === 'none') {{\n",
              "            console.log([gd, 'removed!']);\n",
              "            Plotly.purge(gd);\n",
              "            observer.disconnect();\n",
              "        }}\n",
              "}});\n",
              "\n",
              "// Listen for the removal of the full notebook cells\n",
              "var notebookContainer = gd.closest('#notebook-container');\n",
              "if (notebookContainer) {{\n",
              "    x.observe(notebookContainer, {childList: true});\n",
              "}}\n",
              "\n",
              "// Listen for the clearing of the current output cell\n",
              "var outputEl = gd.closest('.output');\n",
              "if (outputEl) {{\n",
              "    x.observe(outputEl, {childList: true});\n",
              "}}\n",
              "\n",
              "                        })                };                            </script>        </div>\n",
              "</body>\n",
              "</html>"
            ]
          },
          "metadata": {}
        }
      ]
    },
    {
      "cell_type": "markdown",
      "metadata": {
        "id": "AdW9hYYgPAey"
      },
      "source": [
        "Unfortunately, we do not always have access to more data. Usually our goal is precisely to learn a general rule from a *few* samples, take for instance the [ARC challenge](https://www.kaggle.com/c/abstraction-and-reasoning-challenge/overview).\n",
        "\n",
        "Indeed intelligence seems more related to the (small) ratio between the amount of available data and the prediction performance, rather than just to the prediction performance.\n",
        "\n",
        "Have you noticed the huge values of $\\theta$ in the case of overfitting? Aren't the coefficients of the high-order terms in the Taylor expansion of $\\sin (x)$ supposed to be smaller and smaller?\n",
        "What if we try to discourage this overfitting behavior by adding to the loss a penalization term proportional to the norm of $\\theta$?\n",
        "\n",
        "You have already seen (or will soon see) this very common regularization technique in the theoretical lectures:\n",
        "$$E'(\\theta) = \\lambda \\|\\theta\\|^2 + \\frac{1}{N} \\sum_{i=1}^N(f_\\theta(x_i) - t_i)^2$$\n",
        "\n",
        "> 📖 **EXERCISE**: Obtain the vectorized closed-form solution for $\\theta$ that minimizes $E'$. (The one for $E$ was $\\theta = (\\mathbf{X}^\\top \\mathbf{X})^{-1}\\mathbf{X}^\\top\\mathbf{y}$)\n",
        ">\n",
        "> **Hint**: This is the first step:\n",
        "> $$ E'(\\theta) = (\\mathbf{y} - \\mathbf{X}\\theta)^\\top(\\mathbf{y} - \\mathbf{X}\\theta) + \\lambda\\theta^\\top\\theta$$\n",
        ">\n",
        "> Solve the exercise using pen and paper, the good old way.\n",
        "\n",
        "When you're done, let's play with the $\\lambda$ parameter."
      ]
    },
    {
      "cell_type": "code",
      "metadata": {
        "id": "7TO701p_BoFJ",
        "colab": {
          "base_uri": "https://localhost:8080/",
          "height": 717
        },
        "outputId": "1394ed91-fd24-4158-e314-ff39ef7f5909"
      },
      "source": [
        "# @title Regularized polynomial fits: weight decay { run: \"auto\" }\n",
        "\n",
        "deg_1 = 2  #@param {type:\"slider\", min:0, max:15, step:1}\n",
        "deg_2 = 6  #@param {type:\"slider\", min:0, max:15, step:1}\n",
        "deg_3 = 15  #@param {type:\"slider\", min:0, max:15, step:1}\n",
        "lam =   0.02#@param {type:\"number\"}\n",
        "\n",
        "degree = {}\n",
        "degree[0], degree[1], degree[2] = deg_1, deg_2, deg_3\n",
        "\n",
        "max_degree = max(degree.values())\n",
        "y = torch.from_numpy(t)\n",
        "X_full = torch.ones((y.shape[0], max_degree + 1), dtype=torch.float64)  # double precision is needed for this calculation!\n",
        "for i in range(max_degree):\n",
        "    X_full[:,i] =  torch.from_numpy(x) ** (max_degree - i)\n",
        "\n",
        "theta_collection = {}\n",
        "\n",
        "for i in range(3):\n",
        "    X = X_full[:,-(degree[i] + 1):]\n",
        "    temp_inverse = torch.inverse(torch.einsum('ij,jk->ik', X.t(), X) + lam * torch.eye(degree[i] + 1))\n",
        "    theta_collection[i] = torch.einsum('ij,jk,k->i', temp_inverse, X.t(), y)\n",
        "\n",
        "fig = make_subplots(\n",
        "    rows=1, cols=3,\n",
        "    subplot_titles=(f\"poly{degree[0]} fit\", f\"poly{degree[1]} fit\", f\"poly{degree[2]} fit\"))\n",
        "\n",
        "x_funcs = np.arange(0,1,1./100)\n",
        "y_funcs = {}\n",
        "for i in range(3):\n",
        "    theta_funcs = theta_collection[i].numpy()\n",
        "    X_funcs = np.ones((x_funcs.shape[0], degree[i] + 1), dtype=np.float64)\n",
        "    for j in range(degree[i]):\n",
        "        X_funcs[:,j] =  x_funcs ** (degree[i] - j)\n",
        "    y_funcs[i] = np.einsum('ij,j->i', X_funcs, theta_funcs)\n",
        "    coefficients_string = '<br><br><br>' + '<br>'.join([c + f': {np.round(theta_funcs[i], decimals=2)}' for i, c in enumerate('abcdefghijklmnopqrstuvwxyz'[:len(theta_funcs)])])\n",
        "\n",
        "    fig.add_trace(go.Scatter(x=x, y=t, mode='markers', marker=dict(color=\"mediumpurple\")), row=1, col=i + 1)\n",
        "    fig.add_trace(go.Scatter(x=x_funcs, y=np.sin(2*np.pi*x_funcs), mode='lines', line=dict(color=\"lightgreen\")), row=1, col=i + 1)\n",
        "    fig.add_trace(go.Scatter(x=x_funcs, y=y_funcs[i], mode='lines', line=dict(color=\"lightsalmon\")), row=1, col=i + 1)\n",
        "    fig.update_xaxes(title_text=\"x\" + coefficients_string, range = [0,1], row=1, col=i+1)\n",
        "\n",
        "fig.update_layout(showlegend=False)\n",
        "fig.update_yaxes(title_text=\"t\", range = [-5,5])\n",
        "fig.update_layout(height=700, width=1300, title_text=\"Polynomial fits and their coefficients\")\n",
        "fig.show()"
      ],
      "execution_count": 69,
      "outputs": [
        {
          "output_type": "display_data",
          "data": {
            "text/html": [
              "<html>\n",
              "<head><meta charset=\"utf-8\" /></head>\n",
              "<body>\n",
              "    <div>            <script src=\"https://cdnjs.cloudflare.com/ajax/libs/mathjax/2.7.5/MathJax.js?config=TeX-AMS-MML_SVG\"></script><script type=\"text/javascript\">if (window.MathJax && window.MathJax.Hub && window.MathJax.Hub.Config) {window.MathJax.Hub.Config({SVG: {font: \"STIX-Web\"}});}</script>                <script type=\"text/javascript\">window.PlotlyConfig = {MathJaxConfig: 'local'};</script>\n",
              "        <script charset=\"utf-8\" src=\"https://cdn.plot.ly/plotly-2.35.2.min.js\"></script>                <div id=\"c5fbcfa3-0c02-4fbb-83dd-36cc595dc734\" class=\"plotly-graph-div\" style=\"height:700px; width:1300px;\"></div>            <script type=\"text/javascript\">                                    window.PLOTLYENV=window.PLOTLYENV || {};                                    if (document.getElementById(\"c5fbcfa3-0c02-4fbb-83dd-36cc595dc734\")) {                    Plotly.newPlot(                        \"c5fbcfa3-0c02-4fbb-83dd-36cc595dc734\",                        [{\"marker\":{\"color\":\"mediumpurple\"},\"mode\":\"markers\",\"x\":[0.3745401188473625,0.9507143064099162,0.7319939418114051,0.5986584841970366,0.15601864044243652,0.15599452033620265,0.05808361216819946,0.8661761457749352,0.6011150117432088,0.7080725777960455],\"y\":[0.6621995859491285,-0.2504894367193866,-1.0399487832345553,-0.6275182299806012,0.854857342681687,0.6392487011533475,0.18441089666331875,-0.8014323286500792,-0.6947217251134631,-0.9340757540684701],\"type\":\"scatter\",\"xaxis\":\"x\",\"yaxis\":\"y\"},{\"line\":{\"color\":\"lightgreen\"},\"mode\":\"lines\",\"x\":[0.0,0.01,0.02,0.03,0.04,0.05,0.06,0.07,0.08,0.09,0.1,0.11,0.12,0.13,0.14,0.15,0.16,0.17,0.18,0.19,0.2,0.21,0.22,0.23,0.24,0.25,0.26,0.27,0.28,0.29,0.3,0.31,0.32,0.33,0.34,0.35000000000000003,0.36,0.37,0.38,0.39,0.4,0.41000000000000003,0.42,0.43,0.44,0.45,0.46,0.47000000000000003,0.48,0.49,0.5,0.51,0.52,0.53,0.54,0.55,0.56,0.5700000000000001,0.58,0.59,0.6,0.61,0.62,0.63,0.64,0.65,0.66,0.67,0.68,0.6900000000000001,0.7000000000000001,0.71,0.72,0.73,0.74,0.75,0.76,0.77,0.78,0.79,0.8,0.81,0.8200000000000001,0.8300000000000001,0.84,0.85,0.86,0.87,0.88,0.89,0.9,0.91,0.92,0.93,0.9400000000000001,0.9500000000000001,0.96,0.97,0.98,0.99],\"y\":[0.0,0.06279051952931337,0.12533323356430426,0.1873813145857246,0.2486898871648548,0.3090169943749474,0.3681245526846779,0.4257792915650727,0.4817536741017153,0.5358267949789967,0.5877852522924731,0.6374239897486896,0.6845471059286886,0.7289686274214116,0.7705132427757893,0.8090169943749475,0.8443279255020151,0.8763066800438637,0.9048270524660196,0.9297764858882513,0.9510565162951535,0.9685831611286311,0.9822872507286886,0.9921147013144779,0.9980267284282716,1.0,0.9980267284282716,0.9921147013144778,0.9822872507286886,0.9685831611286312,0.9510565162951536,0.9297764858882513,0.9048270524660195,0.8763066800438635,0.844327925502015,0.8090169943749475,0.7705132427757893,0.7289686274214114,0.6845471059286888,0.6374239897486899,0.5877852522924732,0.5358267949789967,0.4817536741017156,0.4257792915650729,0.36812455268467814,0.3090169943749475,0.24868988716485482,0.18738131458572457,0.12533323356430454,0.06279051952931358,1.2246467991473532e-16,-0.06279051952931335,-0.12533323356430429,-0.18738131458572477,-0.24868988716485502,-0.30901699437494773,-0.3681245526846783,-0.42577929156507266,-0.481753674101715,-0.5358267949789964,-0.587785252292473,-0.6374239897486896,-0.6845471059286887,-0.7289686274214113,-0.7705132427757894,-0.8090169943749473,-0.8443279255020153,-0.8763066800438636,-0.9048270524660198,-0.9297764858882515,-0.9510565162951535,-0.968583161128631,-0.9822872507286887,-0.9921147013144778,-0.9980267284282716,-1.0,-0.9980267284282716,-0.9921147013144779,-0.9822872507286887,-0.9685831611286311,-0.9510565162951536,-0.9297764858882512,-0.9048270524660196,-0.8763066800438634,-0.8443279255020155,-0.8090169943749476,-0.7705132427757896,-0.7289686274214116,-0.684547105928689,-0.6374239897486896,-0.5877852522924734,-0.5358267949789963,-0.4817536741017153,-0.4257792915650722,-0.36812455268467786,-0.3090169943749476,-0.24868988716485535,-0.18738131458572468,-0.12533323356430465,-0.06279051952931326],\"type\":\"scatter\",\"xaxis\":\"x\",\"yaxis\":\"y\"},{\"line\":{\"color\":\"lightsalmon\"},\"mode\":\"lines\",\"x\":[0.0,0.01,0.02,0.03,0.04,0.05,0.06,0.07,0.08,0.09,0.1,0.11,0.12,0.13,0.14,0.15,0.16,0.17,0.18,0.19,0.2,0.21,0.22,0.23,0.24,0.25,0.26,0.27,0.28,0.29,0.3,0.31,0.32,0.33,0.34,0.35000000000000003,0.36,0.37,0.38,0.39,0.4,0.41000000000000003,0.42,0.43,0.44,0.45,0.46,0.47000000000000003,0.48,0.49,0.5,0.51,0.52,0.53,0.54,0.55,0.56,0.5700000000000001,0.58,0.59,0.6,0.61,0.62,0.63,0.64,0.65,0.66,0.67,0.68,0.6900000000000001,0.7000000000000001,0.71,0.72,0.73,0.74,0.75,0.76,0.77,0.78,0.79,0.8,0.81,0.8200000000000001,0.8300000000000001,0.84,0.85,0.86,0.87,0.88,0.89,0.9,0.91,0.92,0.93,0.9400000000000001,0.9500000000000001,0.96,0.97,0.98,0.99],\"y\":[0.795501037375794,0.7718182782450501,0.7482672934517687,0.7248480829959498,0.7015606468775935,0.6784049850966994,0.6553810976532679,0.632488984547299,0.6097286457787925,0.5871000813477485,0.564603291254167,0.5422382754980479,0.5200050340793914,0.49790356699819727,0.47593387425446565,0.45409595584819656,0.4323898117793899,0.4108154420480458,0.38937284665416416,0.36806202559774504,0.3468829788787883,0.32583570649729415,0.3049202084532624,0.28413648474669306,0.2634845353775864,0.24296436034594215,0.22257595965176036,0.20231933329504104,0.1821944812757843,0.16220140359399005,0.14234010024965815,0.12261057124278885,0.1030128165733819,0.08354683624143755,0.06421263024695567,0.04501019858993627,0.02593954127037934,0.007000658288284889,-0.011806450356347087,-0.030481784663516587,-0.0490253446332235,-0.06743713026546805,-0.08571714156025001,-0.10386537851756938,-0.12188184113742673,-0.13976652941982126,-0.15751944336475332,-0.175140582972223,-0.1926299482422299,-0.20998753917477453,-0.22721335576985668,-0.24430739802747636,-0.26126966594763346,-0.2781001595303282,-0.29479887877556044,-0.3113658236833301,-0.3278009942536375,-0.3441043904864822,-0.36027601238186424,-0.376315859939784,-0.3922239331602413,-0.4080002320432361,-0.42364475658876843,-0.4391575067968383,-0.4545384826674457,-0.4697876842005906,-0.484905111396273,-0.49989076425449297,-0.5147446427752502,-0.5294667469585452,-0.5440570768043778,-0.5585156323127476,-0.5728424134836549,-0.5870374203171,-0.6011006528130824,-0.6150321109716026,-0.62883179479266,-0.6424997042762552,-0.6560358394223877,-0.6694402002310578,-0.6827127867022653,-0.6958535988360106,-0.7088626366322932,-0.7217399000911133,-0.734485389212471,-0.7470991039963659,-0.7595810444427986,-0.7719312105517688,-0.7841496023232768,-0.7962362197573221,-0.8081910628539049,-0.8200141316130252,-0.831705426034683,-0.8432649461188784,-0.854692691865611,-0.8659886632748814,-0.8771528603466889,-0.8881852830810342,-0.8990859314779172,-0.9098548055373374],\"type\":\"scatter\",\"xaxis\":\"x\",\"yaxis\":\"y\"},{\"marker\":{\"color\":\"mediumpurple\"},\"mode\":\"markers\",\"x\":[0.3745401188473625,0.9507143064099162,0.7319939418114051,0.5986584841970366,0.15601864044243652,0.15599452033620265,0.05808361216819946,0.8661761457749352,0.6011150117432088,0.7080725777960455],\"y\":[0.6621995859491285,-0.2504894367193866,-1.0399487832345553,-0.6275182299806012,0.854857342681687,0.6392487011533475,0.18441089666331875,-0.8014323286500792,-0.6947217251134631,-0.9340757540684701],\"type\":\"scatter\",\"xaxis\":\"x2\",\"yaxis\":\"y2\"},{\"line\":{\"color\":\"lightgreen\"},\"mode\":\"lines\",\"x\":[0.0,0.01,0.02,0.03,0.04,0.05,0.06,0.07,0.08,0.09,0.1,0.11,0.12,0.13,0.14,0.15,0.16,0.17,0.18,0.19,0.2,0.21,0.22,0.23,0.24,0.25,0.26,0.27,0.28,0.29,0.3,0.31,0.32,0.33,0.34,0.35000000000000003,0.36,0.37,0.38,0.39,0.4,0.41000000000000003,0.42,0.43,0.44,0.45,0.46,0.47000000000000003,0.48,0.49,0.5,0.51,0.52,0.53,0.54,0.55,0.56,0.5700000000000001,0.58,0.59,0.6,0.61,0.62,0.63,0.64,0.65,0.66,0.67,0.68,0.6900000000000001,0.7000000000000001,0.71,0.72,0.73,0.74,0.75,0.76,0.77,0.78,0.79,0.8,0.81,0.8200000000000001,0.8300000000000001,0.84,0.85,0.86,0.87,0.88,0.89,0.9,0.91,0.92,0.93,0.9400000000000001,0.9500000000000001,0.96,0.97,0.98,0.99],\"y\":[0.0,0.06279051952931337,0.12533323356430426,0.1873813145857246,0.2486898871648548,0.3090169943749474,0.3681245526846779,0.4257792915650727,0.4817536741017153,0.5358267949789967,0.5877852522924731,0.6374239897486896,0.6845471059286886,0.7289686274214116,0.7705132427757893,0.8090169943749475,0.8443279255020151,0.8763066800438637,0.9048270524660196,0.9297764858882513,0.9510565162951535,0.9685831611286311,0.9822872507286886,0.9921147013144779,0.9980267284282716,1.0,0.9980267284282716,0.9921147013144778,0.9822872507286886,0.9685831611286312,0.9510565162951536,0.9297764858882513,0.9048270524660195,0.8763066800438635,0.844327925502015,0.8090169943749475,0.7705132427757893,0.7289686274214114,0.6845471059286888,0.6374239897486899,0.5877852522924732,0.5358267949789967,0.4817536741017156,0.4257792915650729,0.36812455268467814,0.3090169943749475,0.24868988716485482,0.18738131458572457,0.12533323356430454,0.06279051952931358,1.2246467991473532e-16,-0.06279051952931335,-0.12533323356430429,-0.18738131458572477,-0.24868988716485502,-0.30901699437494773,-0.3681245526846783,-0.42577929156507266,-0.481753674101715,-0.5358267949789964,-0.587785252292473,-0.6374239897486896,-0.6845471059286887,-0.7289686274214113,-0.7705132427757894,-0.8090169943749473,-0.8443279255020153,-0.8763066800438636,-0.9048270524660198,-0.9297764858882515,-0.9510565162951535,-0.968583161128631,-0.9822872507286887,-0.9921147013144778,-0.9980267284282716,-1.0,-0.9980267284282716,-0.9921147013144779,-0.9822872507286887,-0.9685831611286311,-0.9510565162951536,-0.9297764858882512,-0.9048270524660196,-0.8763066800438634,-0.8443279255020155,-0.8090169943749476,-0.7705132427757896,-0.7289686274214116,-0.684547105928689,-0.6374239897486896,-0.5877852522924734,-0.5358267949789963,-0.4817536741017153,-0.4257792915650722,-0.36812455268467786,-0.3090169943749476,-0.24868988716485535,-0.18738131458572468,-0.12533323356430465,-0.06279051952931326],\"type\":\"scatter\",\"xaxis\":\"x2\",\"yaxis\":\"y2\"},{\"line\":{\"color\":\"lightsalmon\"},\"mode\":\"lines\",\"x\":[0.0,0.01,0.02,0.03,0.04,0.05,0.06,0.07,0.08,0.09,0.1,0.11,0.12,0.13,0.14,0.15,0.16,0.17,0.18,0.19,0.2,0.21,0.22,0.23,0.24,0.25,0.26,0.27,0.28,0.29,0.3,0.31,0.32,0.33,0.34,0.35000000000000003,0.36,0.37,0.38,0.39,0.4,0.41000000000000003,0.42,0.43,0.44,0.45,0.46,0.47000000000000003,0.48,0.49,0.5,0.51,0.52,0.53,0.54,0.55,0.56,0.5700000000000001,0.58,0.59,0.6,0.61,0.62,0.63,0.64,0.65,0.66,0.67,0.68,0.6900000000000001,0.7000000000000001,0.71,0.72,0.73,0.74,0.75,0.76,0.77,0.78,0.79,0.8,0.81,0.8200000000000001,0.8300000000000001,0.84,0.85,0.86,0.87,0.88,0.89,0.9,0.91,0.92,0.93,0.9400000000000001,0.9500000000000001,0.96,0.97,0.98,0.99],\"y\":[0.7079583366288524,0.7022489913568675,0.696058614055197,0.6893791469030531,0.6822025926895736,0.6745210345698409,0.666326657393307,0.657611770604624,0.6483688327168778,0.6385904773572295,0.6282695408849576,0.6173990915819095,0.6059724604153554,0.5939832733732469,0.5814254853718824,0.5682934157359754,0.5545817852511292,0.5402857547887152,0.5254009655031578,0.5099235806016227,0.4938503286861104,0.4771785486679557,0.4599062362547305,0.44203209200955285,0.42355557098280017,0.4044769339162278,0.3847973000194922,0.36451870131907904,0.3436441385796365,0.32217763879771344,0.30012431426790176,0.27749042322138506,0.25428343203689097,0.2305120790240489,0.20618643977915307,0.18131799411332944,0.15591969455310872,0.13000603641340336,0.10359312944289034,0.0766987710417979,0.049342521052097854,0.02154577812010322,-0.006668142368530694,-0.03527392878139918,-0.0642441921595357,-0.0935493835651956,-0.12315770985723451,-0.1530350478940814,-0.1831448571643074,-0.21344809084478977,-0.24390310528646963,-0.2744655679277058,-0.30508836363522496,-0.3357214994726636,-0.3663120078967086,-0.3968038483808306,-0.4271378074666129,-0.4572513972426765,-0.48707875225119823,-0.5165505248220271,-0.5455937788343915,-0.5741318819062049,-0.6020843960109659,-0.6293669665222517,-0.6558912096858092,-0.681564598519239,-0.706290347139276,-0.7299672935166637,-0.7524897806586249,-0.7737475362189274,-0.7936255505355424,-0.812003953095902,-0.8287578874297492,-0.8437573844295814,-0.8568672340986944,-0.8679468557268148,-0.8768501664933335,-0.8834254484981295,-0.8875152142199925,-0.8889560704026377,-0.8875785803683164,-0.8832071247590247,-0.8756597607053024,-0.86474807942263,-0.8502770622354208,-0.832044935028606,-0.8098430211268176,-0.7834555926011653,-0.7526597200036059,-0.7172251205289142,-0.6769140046042399,-0.6314809209062684,-0.5806725998059729,-0.5242277952409585,-0.4618771250154068,-0.3933429095276133,-0.3183390089251207,-0.23657065868743998,-0.1477343036363825,-0.05151743037397227],\"type\":\"scatter\",\"xaxis\":\"x2\",\"yaxis\":\"y2\"},{\"marker\":{\"color\":\"mediumpurple\"},\"mode\":\"markers\",\"x\":[0.3745401188473625,0.9507143064099162,0.7319939418114051,0.5986584841970366,0.15601864044243652,0.15599452033620265,0.05808361216819946,0.8661761457749352,0.6011150117432088,0.7080725777960455],\"y\":[0.6621995859491285,-0.2504894367193866,-1.0399487832345553,-0.6275182299806012,0.854857342681687,0.6392487011533475,0.18441089666331875,-0.8014323286500792,-0.6947217251134631,-0.9340757540684701],\"type\":\"scatter\",\"xaxis\":\"x3\",\"yaxis\":\"y3\"},{\"line\":{\"color\":\"lightgreen\"},\"mode\":\"lines\",\"x\":[0.0,0.01,0.02,0.03,0.04,0.05,0.06,0.07,0.08,0.09,0.1,0.11,0.12,0.13,0.14,0.15,0.16,0.17,0.18,0.19,0.2,0.21,0.22,0.23,0.24,0.25,0.26,0.27,0.28,0.29,0.3,0.31,0.32,0.33,0.34,0.35000000000000003,0.36,0.37,0.38,0.39,0.4,0.41000000000000003,0.42,0.43,0.44,0.45,0.46,0.47000000000000003,0.48,0.49,0.5,0.51,0.52,0.53,0.54,0.55,0.56,0.5700000000000001,0.58,0.59,0.6,0.61,0.62,0.63,0.64,0.65,0.66,0.67,0.68,0.6900000000000001,0.7000000000000001,0.71,0.72,0.73,0.74,0.75,0.76,0.77,0.78,0.79,0.8,0.81,0.8200000000000001,0.8300000000000001,0.84,0.85,0.86,0.87,0.88,0.89,0.9,0.91,0.92,0.93,0.9400000000000001,0.9500000000000001,0.96,0.97,0.98,0.99],\"y\":[0.0,0.06279051952931337,0.12533323356430426,0.1873813145857246,0.2486898871648548,0.3090169943749474,0.3681245526846779,0.4257792915650727,0.4817536741017153,0.5358267949789967,0.5877852522924731,0.6374239897486896,0.6845471059286886,0.7289686274214116,0.7705132427757893,0.8090169943749475,0.8443279255020151,0.8763066800438637,0.9048270524660196,0.9297764858882513,0.9510565162951535,0.9685831611286311,0.9822872507286886,0.9921147013144779,0.9980267284282716,1.0,0.9980267284282716,0.9921147013144778,0.9822872507286886,0.9685831611286312,0.9510565162951536,0.9297764858882513,0.9048270524660195,0.8763066800438635,0.844327925502015,0.8090169943749475,0.7705132427757893,0.7289686274214114,0.6845471059286888,0.6374239897486899,0.5877852522924732,0.5358267949789967,0.4817536741017156,0.4257792915650729,0.36812455268467814,0.3090169943749475,0.24868988716485482,0.18738131458572457,0.12533323356430454,0.06279051952931358,1.2246467991473532e-16,-0.06279051952931335,-0.12533323356430429,-0.18738131458572477,-0.24868988716485502,-0.30901699437494773,-0.3681245526846783,-0.42577929156507266,-0.481753674101715,-0.5358267949789964,-0.587785252292473,-0.6374239897486896,-0.6845471059286887,-0.7289686274214113,-0.7705132427757894,-0.8090169943749473,-0.8443279255020153,-0.8763066800438636,-0.9048270524660198,-0.9297764858882515,-0.9510565162951535,-0.968583161128631,-0.9822872507286887,-0.9921147013144778,-0.9980267284282716,-1.0,-0.9980267284282716,-0.9921147013144779,-0.9822872507286887,-0.9685831611286311,-0.9510565162951536,-0.9297764858882512,-0.9048270524660196,-0.8763066800438634,-0.8443279255020155,-0.8090169943749476,-0.7705132427757896,-0.7289686274214116,-0.684547105928689,-0.6374239897486896,-0.5877852522924734,-0.5358267949789963,-0.4817536741017153,-0.4257792915650722,-0.36812455268467786,-0.3090169943749476,-0.24868988716485535,-0.18738131458572468,-0.12533323356430465,-0.06279051952931326],\"type\":\"scatter\",\"xaxis\":\"x3\",\"yaxis\":\"y3\"},{\"line\":{\"color\":\"lightsalmon\"},\"mode\":\"lines\",\"x\":[0.0,0.01,0.02,0.03,0.04,0.05,0.06,0.07,0.08,0.09,0.1,0.11,0.12,0.13,0.14,0.15,0.16,0.17,0.18,0.19,0.2,0.21,0.22,0.23,0.24,0.25,0.26,0.27,0.28,0.29,0.3,0.31,0.32,0.33,0.34,0.35000000000000003,0.36,0.37,0.38,0.39,0.4,0.41000000000000003,0.42,0.43,0.44,0.45,0.46,0.47000000000000003,0.48,0.49,0.5,0.51,0.52,0.53,0.54,0.55,0.56,0.5700000000000001,0.58,0.59,0.6,0.61,0.62,0.63,0.64,0.65,0.66,0.67,0.68,0.6900000000000001,0.7000000000000001,0.71,0.72,0.73,0.74,0.75,0.76,0.77,0.78,0.79,0.8,0.81,0.8200000000000001,0.8300000000000001,0.84,0.85,0.86,0.87,0.88,0.89,0.9,0.91,0.92,0.93,0.9400000000000001,0.9500000000000001,0.96,0.97,0.98,0.99],\"y\":[0.6505540775363599,0.6479274919609721,0.6449045094800346,0.6414766994712983,0.637635509620773,0.6333722681650124,0.6286781865830501,0.6235443627812502,0.6179617848181624,0.6119213352206386,0.605413795947001,0.598429854058005,0.5909601081617275,0.5829950757043881,0.5745252011855215,0.565540865382908,0.5560323956802928,0.5459900775992435,0.5354041676455711,0.5242649075906448,0.5125625403187459,0.5002873273834021,0.4874295684285346,0.4739796226443175,0.4599279324430033,0.44526504955675117,0.4299816637778032,0.41406863458135573,0.39751702589331145,0.3803181442889444,0.36246358093454273,0.34394525761251726,0.3247554772014891,0.3048869790167307,0.2843329994532861,0.26308733841441134,0.24114443205195044,0.21849943239322156,0.1951482944812742,0.17108787171236556,0.14631602011660663,0.12083171239536739,0.0946351626026907,0.06772796243813894,0.04011323020574478,0.0117957735886276,-0.017217732507987776,-0.04691855168048123,-0.0772956738306021,-0.10833558343034522,-0.140022006485438,-0.17233563427920726,-0.20525382180972201,-0.23875025865008964,-0.27279460976352604,-0.30735212359015285,-0.3423832044901821,-0.3778429463768776,-0.41368062410105055,-0.4498391388553514,-0.48625441354964183,-0.5228547337666264,-0.5595600295378229,-0.5962810927820015,-0.6329187248193554,-0.6693628079127485,-0.7054912942901033,-0.741169105566976,-0.7762469349129912,-0.8105599436874131,-0.8439263436048234,-0.876145854778613,-0.9069980292246076,-0.936240428586212,-0.9636066439624194,-0.9888041447771392,-1.011511942618535,-1.031378054896289,-1.0480167520084758,-1.0610055704734247,-1.0698820731606389,-1.0741403363434492,-1.0732271417891313,-1.0665378504940846,-1.0534119329563545,-1.0331281290490317,-1.0048992086092918,-0.9678663017821563,-0.9210927659482202,-0.8635575537130216,-0.7941480439344692,-0.711652295105487,-0.6147506775830371,-0.5020068381528655,-0.3718579472320836,-0.22260417562912665,-0.0523973441922409,0.14077131412743815,0.35908434430529074,0.6049122801453835],\"type\":\"scatter\",\"xaxis\":\"x3\",\"yaxis\":\"y3\"}],                        {\"template\":{\"data\":{\"histogram2dcontour\":[{\"type\":\"histogram2dcontour\",\"colorbar\":{\"outlinewidth\":0,\"ticks\":\"\"},\"colorscale\":[[0.0,\"#0d0887\"],[0.1111111111111111,\"#46039f\"],[0.2222222222222222,\"#7201a8\"],[0.3333333333333333,\"#9c179e\"],[0.4444444444444444,\"#bd3786\"],[0.5555555555555556,\"#d8576b\"],[0.6666666666666666,\"#ed7953\"],[0.7777777777777778,\"#fb9f3a\"],[0.8888888888888888,\"#fdca26\"],[1.0,\"#f0f921\"]]}],\"choropleth\":[{\"type\":\"choropleth\",\"colorbar\":{\"outlinewidth\":0,\"ticks\":\"\"}}],\"histogram2d\":[{\"type\":\"histogram2d\",\"colorbar\":{\"outlinewidth\":0,\"ticks\":\"\"},\"colorscale\":[[0.0,\"#0d0887\"],[0.1111111111111111,\"#46039f\"],[0.2222222222222222,\"#7201a8\"],[0.3333333333333333,\"#9c179e\"],[0.4444444444444444,\"#bd3786\"],[0.5555555555555556,\"#d8576b\"],[0.6666666666666666,\"#ed7953\"],[0.7777777777777778,\"#fb9f3a\"],[0.8888888888888888,\"#fdca26\"],[1.0,\"#f0f921\"]]}],\"heatmap\":[{\"type\":\"heatmap\",\"colorbar\":{\"outlinewidth\":0,\"ticks\":\"\"},\"colorscale\":[[0.0,\"#0d0887\"],[0.1111111111111111,\"#46039f\"],[0.2222222222222222,\"#7201a8\"],[0.3333333333333333,\"#9c179e\"],[0.4444444444444444,\"#bd3786\"],[0.5555555555555556,\"#d8576b\"],[0.6666666666666666,\"#ed7953\"],[0.7777777777777778,\"#fb9f3a\"],[0.8888888888888888,\"#fdca26\"],[1.0,\"#f0f921\"]]}],\"heatmapgl\":[{\"type\":\"heatmapgl\",\"colorbar\":{\"outlinewidth\":0,\"ticks\":\"\"},\"colorscale\":[[0.0,\"#0d0887\"],[0.1111111111111111,\"#46039f\"],[0.2222222222222222,\"#7201a8\"],[0.3333333333333333,\"#9c179e\"],[0.4444444444444444,\"#bd3786\"],[0.5555555555555556,\"#d8576b\"],[0.6666666666666666,\"#ed7953\"],[0.7777777777777778,\"#fb9f3a\"],[0.8888888888888888,\"#fdca26\"],[1.0,\"#f0f921\"]]}],\"contourcarpet\":[{\"type\":\"contourcarpet\",\"colorbar\":{\"outlinewidth\":0,\"ticks\":\"\"}}],\"contour\":[{\"type\":\"contour\",\"colorbar\":{\"outlinewidth\":0,\"ticks\":\"\"},\"colorscale\":[[0.0,\"#0d0887\"],[0.1111111111111111,\"#46039f\"],[0.2222222222222222,\"#7201a8\"],[0.3333333333333333,\"#9c179e\"],[0.4444444444444444,\"#bd3786\"],[0.5555555555555556,\"#d8576b\"],[0.6666666666666666,\"#ed7953\"],[0.7777777777777778,\"#fb9f3a\"],[0.8888888888888888,\"#fdca26\"],[1.0,\"#f0f921\"]]}],\"surface\":[{\"type\":\"surface\",\"colorbar\":{\"outlinewidth\":0,\"ticks\":\"\"},\"colorscale\":[[0.0,\"#0d0887\"],[0.1111111111111111,\"#46039f\"],[0.2222222222222222,\"#7201a8\"],[0.3333333333333333,\"#9c179e\"],[0.4444444444444444,\"#bd3786\"],[0.5555555555555556,\"#d8576b\"],[0.6666666666666666,\"#ed7953\"],[0.7777777777777778,\"#fb9f3a\"],[0.8888888888888888,\"#fdca26\"],[1.0,\"#f0f921\"]]}],\"mesh3d\":[{\"type\":\"mesh3d\",\"colorbar\":{\"outlinewidth\":0,\"ticks\":\"\"}}],\"scatter\":[{\"fillpattern\":{\"fillmode\":\"overlay\",\"size\":10,\"solidity\":0.2},\"type\":\"scatter\"}],\"parcoords\":[{\"type\":\"parcoords\",\"line\":{\"colorbar\":{\"outlinewidth\":0,\"ticks\":\"\"}}}],\"scatterpolargl\":[{\"type\":\"scatterpolargl\",\"marker\":{\"colorbar\":{\"outlinewidth\":0,\"ticks\":\"\"}}}],\"bar\":[{\"error_x\":{\"color\":\"#2a3f5f\"},\"error_y\":{\"color\":\"#2a3f5f\"},\"marker\":{\"line\":{\"color\":\"#E5ECF6\",\"width\":0.5},\"pattern\":{\"fillmode\":\"overlay\",\"size\":10,\"solidity\":0.2}},\"type\":\"bar\"}],\"scattergeo\":[{\"type\":\"scattergeo\",\"marker\":{\"colorbar\":{\"outlinewidth\":0,\"ticks\":\"\"}}}],\"scatterpolar\":[{\"type\":\"scatterpolar\",\"marker\":{\"colorbar\":{\"outlinewidth\":0,\"ticks\":\"\"}}}],\"histogram\":[{\"marker\":{\"pattern\":{\"fillmode\":\"overlay\",\"size\":10,\"solidity\":0.2}},\"type\":\"histogram\"}],\"scattergl\":[{\"type\":\"scattergl\",\"marker\":{\"colorbar\":{\"outlinewidth\":0,\"ticks\":\"\"}}}],\"scatter3d\":[{\"type\":\"scatter3d\",\"line\":{\"colorbar\":{\"outlinewidth\":0,\"ticks\":\"\"}},\"marker\":{\"colorbar\":{\"outlinewidth\":0,\"ticks\":\"\"}}}],\"scattermapbox\":[{\"type\":\"scattermapbox\",\"marker\":{\"colorbar\":{\"outlinewidth\":0,\"ticks\":\"\"}}}],\"scatterternary\":[{\"type\":\"scatterternary\",\"marker\":{\"colorbar\":{\"outlinewidth\":0,\"ticks\":\"\"}}}],\"scattercarpet\":[{\"type\":\"scattercarpet\",\"marker\":{\"colorbar\":{\"outlinewidth\":0,\"ticks\":\"\"}}}],\"carpet\":[{\"aaxis\":{\"endlinecolor\":\"#2a3f5f\",\"gridcolor\":\"white\",\"linecolor\":\"white\",\"minorgridcolor\":\"white\",\"startlinecolor\":\"#2a3f5f\"},\"baxis\":{\"endlinecolor\":\"#2a3f5f\",\"gridcolor\":\"white\",\"linecolor\":\"white\",\"minorgridcolor\":\"white\",\"startlinecolor\":\"#2a3f5f\"},\"type\":\"carpet\"}],\"table\":[{\"cells\":{\"fill\":{\"color\":\"#EBF0F8\"},\"line\":{\"color\":\"white\"}},\"header\":{\"fill\":{\"color\":\"#C8D4E3\"},\"line\":{\"color\":\"white\"}},\"type\":\"table\"}],\"barpolar\":[{\"marker\":{\"line\":{\"color\":\"#E5ECF6\",\"width\":0.5},\"pattern\":{\"fillmode\":\"overlay\",\"size\":10,\"solidity\":0.2}},\"type\":\"barpolar\"}],\"pie\":[{\"automargin\":true,\"type\":\"pie\"}]},\"layout\":{\"autotypenumbers\":\"strict\",\"colorway\":[\"#636efa\",\"#EF553B\",\"#00cc96\",\"#ab63fa\",\"#FFA15A\",\"#19d3f3\",\"#FF6692\",\"#B6E880\",\"#FF97FF\",\"#FECB52\"],\"font\":{\"color\":\"#2a3f5f\"},\"hovermode\":\"closest\",\"hoverlabel\":{\"align\":\"left\"},\"paper_bgcolor\":\"white\",\"plot_bgcolor\":\"#E5ECF6\",\"polar\":{\"bgcolor\":\"#E5ECF6\",\"angularaxis\":{\"gridcolor\":\"white\",\"linecolor\":\"white\",\"ticks\":\"\"},\"radialaxis\":{\"gridcolor\":\"white\",\"linecolor\":\"white\",\"ticks\":\"\"}},\"ternary\":{\"bgcolor\":\"#E5ECF6\",\"aaxis\":{\"gridcolor\":\"white\",\"linecolor\":\"white\",\"ticks\":\"\"},\"baxis\":{\"gridcolor\":\"white\",\"linecolor\":\"white\",\"ticks\":\"\"},\"caxis\":{\"gridcolor\":\"white\",\"linecolor\":\"white\",\"ticks\":\"\"}},\"coloraxis\":{\"colorbar\":{\"outlinewidth\":0,\"ticks\":\"\"}},\"colorscale\":{\"sequential\":[[0.0,\"#0d0887\"],[0.1111111111111111,\"#46039f\"],[0.2222222222222222,\"#7201a8\"],[0.3333333333333333,\"#9c179e\"],[0.4444444444444444,\"#bd3786\"],[0.5555555555555556,\"#d8576b\"],[0.6666666666666666,\"#ed7953\"],[0.7777777777777778,\"#fb9f3a\"],[0.8888888888888888,\"#fdca26\"],[1.0,\"#f0f921\"]],\"sequentialminus\":[[0.0,\"#0d0887\"],[0.1111111111111111,\"#46039f\"],[0.2222222222222222,\"#7201a8\"],[0.3333333333333333,\"#9c179e\"],[0.4444444444444444,\"#bd3786\"],[0.5555555555555556,\"#d8576b\"],[0.6666666666666666,\"#ed7953\"],[0.7777777777777778,\"#fb9f3a\"],[0.8888888888888888,\"#fdca26\"],[1.0,\"#f0f921\"]],\"diverging\":[[0,\"#8e0152\"],[0.1,\"#c51b7d\"],[0.2,\"#de77ae\"],[0.3,\"#f1b6da\"],[0.4,\"#fde0ef\"],[0.5,\"#f7f7f7\"],[0.6,\"#e6f5d0\"],[0.7,\"#b8e186\"],[0.8,\"#7fbc41\"],[0.9,\"#4d9221\"],[1,\"#276419\"]]},\"xaxis\":{\"gridcolor\":\"white\",\"linecolor\":\"white\",\"ticks\":\"\",\"title\":{\"standoff\":15},\"zerolinecolor\":\"white\",\"automargin\":true,\"zerolinewidth\":2},\"yaxis\":{\"gridcolor\":\"white\",\"linecolor\":\"white\",\"ticks\":\"\",\"title\":{\"standoff\":15},\"zerolinecolor\":\"white\",\"automargin\":true,\"zerolinewidth\":2},\"scene\":{\"xaxis\":{\"backgroundcolor\":\"#E5ECF6\",\"gridcolor\":\"white\",\"linecolor\":\"white\",\"showbackground\":true,\"ticks\":\"\",\"zerolinecolor\":\"white\",\"gridwidth\":2},\"yaxis\":{\"backgroundcolor\":\"#E5ECF6\",\"gridcolor\":\"white\",\"linecolor\":\"white\",\"showbackground\":true,\"ticks\":\"\",\"zerolinecolor\":\"white\",\"gridwidth\":2},\"zaxis\":{\"backgroundcolor\":\"#E5ECF6\",\"gridcolor\":\"white\",\"linecolor\":\"white\",\"showbackground\":true,\"ticks\":\"\",\"zerolinecolor\":\"white\",\"gridwidth\":2}},\"shapedefaults\":{\"line\":{\"color\":\"#2a3f5f\"}},\"annotationdefaults\":{\"arrowcolor\":\"#2a3f5f\",\"arrowhead\":0,\"arrowwidth\":1},\"geo\":{\"bgcolor\":\"white\",\"landcolor\":\"#E5ECF6\",\"subunitcolor\":\"white\",\"showland\":true,\"showlakes\":true,\"lakecolor\":\"white\"},\"title\":{\"x\":0.05},\"mapbox\":{\"style\":\"light\"}}},\"xaxis\":{\"anchor\":\"y\",\"domain\":[0.0,0.2888888888888889],\"title\":{\"text\":\"x\\u003cbr\\u003e\\u003cbr\\u003e\\u003cbr\\u003ea: 0.66\\u003cbr\\u003eb: -2.37\\u003cbr\\u003ec: 0.8\"},\"range\":[0,1]},\"yaxis\":{\"anchor\":\"x\",\"domain\":[0.0,1.0],\"title\":{\"text\":\"t\"},\"range\":[-5,5]},\"xaxis2\":{\"anchor\":\"y2\",\"domain\":[0.35555555555555557,0.6444444444444445],\"title\":{\"text\":\"x\\u003cbr\\u003e\\u003cbr\\u003e\\u003cbr\\u003ea: 2.18\\u003cbr\\u003eb: 1.32\\u003cbr\\u003ec: 0.11\\u003cbr\\u003ed: -1.35\\u003cbr\\u003ee: -2.36\\u003cbr\\u003ef: -0.55\\u003cbr\\u003eg: 0.71\"},\"range\":[0,1]},\"yaxis2\":{\"anchor\":\"x2\",\"domain\":[0.0,1.0],\"title\":{\"text\":\"t\"},\"range\":[-5,5]},\"xaxis3\":{\"anchor\":\"y3\",\"domain\":[0.7111111111111111,1.0],\"title\":{\"text\":\"x\\u003cbr\\u003e\\u003cbr\\u003e\\u003cbr\\u003ea: 0.06\\u003cbr\\u003eb: 0.15\\u003cbr\\u003ec: 0.24\\u003cbr\\u003ed: 0.34\\u003cbr\\u003ee: 0.45\\u003cbr\\u003ef: 0.55\\u003cbr\\u003eg: 0.63\\u003cbr\\u003eh: 0.67\\u003cbr\\u003ei: 0.64\\u003cbr\\u003ej: 0.47\\u003cbr\\u003ek: 0.11\\u003cbr\\u003el: -0.52\\u003cbr\\u003em: -1.37\\u003cbr\\u003en: -1.94\\u003cbr\\u003eo: -0.24\\u003cbr\\u003ep: 0.65\"},\"range\":[0,1]},\"yaxis3\":{\"anchor\":\"x3\",\"domain\":[0.0,1.0],\"title\":{\"text\":\"t\"},\"range\":[-5,5]},\"annotations\":[{\"font\":{\"size\":16},\"showarrow\":false,\"text\":\"poly2 fit\",\"x\":0.14444444444444446,\"xanchor\":\"center\",\"xref\":\"paper\",\"y\":1.0,\"yanchor\":\"bottom\",\"yref\":\"paper\"},{\"font\":{\"size\":16},\"showarrow\":false,\"text\":\"poly6 fit\",\"x\":0.5,\"xanchor\":\"center\",\"xref\":\"paper\",\"y\":1.0,\"yanchor\":\"bottom\",\"yref\":\"paper\"},{\"font\":{\"size\":16},\"showarrow\":false,\"text\":\"poly15 fit\",\"x\":0.8555555555555556,\"xanchor\":\"center\",\"xref\":\"paper\",\"y\":1.0,\"yanchor\":\"bottom\",\"yref\":\"paper\"}],\"showlegend\":false,\"title\":{\"text\":\"Polynomial fits and their coefficients\"},\"height\":700,\"width\":1300},                        {\"responsive\": true}                    ).then(function(){\n",
              "                            \n",
              "var gd = document.getElementById('c5fbcfa3-0c02-4fbb-83dd-36cc595dc734');\n",
              "var x = new MutationObserver(function (mutations, observer) {{\n",
              "        var display = window.getComputedStyle(gd).display;\n",
              "        if (!display || display === 'none') {{\n",
              "            console.log([gd, 'removed!']);\n",
              "            Plotly.purge(gd);\n",
              "            observer.disconnect();\n",
              "        }}\n",
              "}});\n",
              "\n",
              "// Listen for the removal of the full notebook cells\n",
              "var notebookContainer = gd.closest('#notebook-container');\n",
              "if (notebookContainer) {{\n",
              "    x.observe(notebookContainer, {childList: true});\n",
              "}}\n",
              "\n",
              "// Listen for the clearing of the current output cell\n",
              "var outputEl = gd.closest('.output');\n",
              "if (outputEl) {{\n",
              "    x.observe(outputEl, {childList: true});\n",
              "}}\n",
              "\n",
              "                        })                };                            </script>        </div>\n",
              "</body>\n",
              "</html>"
            ]
          },
          "metadata": {}
        }
      ]
    },
    {
      "cell_type": "markdown",
      "metadata": {
        "id": "3vQ8ittKYZjQ"
      },
      "source": [
        "Not so easy to tune, isn't it?\n",
        "\n",
        "Look at the magnitude of those parameters though, not spiking up anymore!\n",
        "\n",
        "It's a good moment to take a break, two new Pytorch classes await us in the next sections!"
      ]
    },
    {
      "cell_type": "markdown",
      "metadata": {
        "id": "Tvpx3YbdcKlK"
      },
      "source": [
        "## PyTorch Dataset"
      ]
    },
    {
      "cell_type": "markdown",
      "source": [
        "**Preamble:** In deep learning, we deal with data all the time -- so let's make sure we do it the best possible way! What follows is needed for next week's notebook (where we will write a learning model to automatically classify handwritten digits) and will be _fundamental_ for our deep neural networks all throughout the course.\n",
        "\n",
        "Let's head on!\n",
        "\n",
        "In PyTorch (and other common frameworks) you can decouple the code that *manages* the data from the code that *uses* the data.\n",
        "\n",
        "This produces simpler and more understandable code, and enables the possibility to re-use the same dataset with different models or the same model with different datasets.\n",
        "\n",
        "In the following sections, we will have a glimpse into how to manage the data pipeline.\n",
        "\n",
        "[`torch.utils.data.Dataset`](https://pytorch.org/docs/stable/data.html?highlight=dataset#torch.utils.data.Dataset) is an abstract class representing a dataset. Your custom dataset should inherit `Dataset` and override the following methods:\n",
        "\n",
        "- `__len__`: so that `len(dataset)` returns the size of the dataset\n",
        "- `__getitem__`: so that `dataset[i]` returns the $i$-th sample from the dataset.\n",
        "\n",
        "Let's create a toy dataset:"
      ],
      "metadata": {
        "id": "gUB7xjinRNYi"
      }
    },
    {
      "cell_type": "code",
      "metadata": {
        "id": "HclJRK7QdOZM",
        "colab": {
          "base_uri": "https://localhost:8080/"
        },
        "outputId": "19d8c96f-18e1-4360-e309-33f6b693ffba"
      },
      "source": [
        "from torch.utils.data import Dataset\n",
        "\n",
        "class ToyDataset(Dataset):\n",
        "\n",
        "  def __init__(self, n_points: int = 20, noise: float = .1):\n",
        "    super().__init__()  # In python 3 this is enough\n",
        "\n",
        "    self.n_points = n_points\n",
        "\n",
        "    # these two lines pre-load the entire dataset in memory\n",
        "    self.x = torch.linspace(-1, 1, n_points)\n",
        "    self.y = self.x ** 3 + noise * torch.randn(n_points)\n",
        "\n",
        "  def __len__(self):\n",
        "    return self.n_points\n",
        "\n",
        "  def __getitem__(self, idx):\n",
        "    return {\n",
        "        'x': self.x[idx],\n",
        "        'y': self.y[idx]\n",
        "    }\n",
        "\n",
        "toydataset = ToyDataset(20, noise=.1)\n",
        "toydataset[5]"
      ],
      "execution_count": 70,
      "outputs": [
        {
          "output_type": "execute_result",
          "data": {
            "text/plain": [
              "{'x': tensor(-0.4737), 'y': tensor(0.0015)}"
            ]
          },
          "metadata": {},
          "execution_count": 70
        }
      ]
    },
    {
      "cell_type": "markdown",
      "metadata": {
        "id": "BZRoEO92fefK"
      },
      "source": [
        "In this case the dataset is composed of simple pairs:"
      ]
    },
    {
      "cell_type": "code",
      "metadata": {
        "id": "Z-jhx5AUvQ2E",
        "colab": {
          "base_uri": "https://localhost:8080/"
        },
        "outputId": "0726f315-1eee-4ffc-ae2f-54b86a5118b5"
      },
      "source": [
        "toydataset[2]"
      ],
      "execution_count": 71,
      "outputs": [
        {
          "output_type": "execute_result",
          "data": {
            "text/plain": [
              "{'x': tensor(-0.7895), 'y': tensor(-0.4020)}"
            ]
          },
          "metadata": {},
          "execution_count": 71
        }
      ]
    },
    {
      "cell_type": "code",
      "metadata": {
        "id": "M6vM4yKRfZEm",
        "colab": {
          "base_uri": "https://localhost:8080/",
          "height": 542
        },
        "outputId": "1858db17-7d0e-402b-a5f5-e7c9a7fdd2c4"
      },
      "source": [
        "import plotly.express as px\n",
        "fig = px.scatter(x=toydataset.x.numpy(), y=toydataset.y.numpy())\n",
        "fig.show()"
      ],
      "execution_count": 72,
      "outputs": [
        {
          "output_type": "display_data",
          "data": {
            "text/html": [
              "<html>\n",
              "<head><meta charset=\"utf-8\" /></head>\n",
              "<body>\n",
              "    <div>            <script src=\"https://cdnjs.cloudflare.com/ajax/libs/mathjax/2.7.5/MathJax.js?config=TeX-AMS-MML_SVG\"></script><script type=\"text/javascript\">if (window.MathJax && window.MathJax.Hub && window.MathJax.Hub.Config) {window.MathJax.Hub.Config({SVG: {font: \"STIX-Web\"}});}</script>                <script type=\"text/javascript\">window.PlotlyConfig = {MathJaxConfig: 'local'};</script>\n",
              "        <script charset=\"utf-8\" src=\"https://cdn.plot.ly/plotly-2.35.2.min.js\"></script>                <div id=\"06a897f0-ad6e-4827-adf9-0b1272d38c39\" class=\"plotly-graph-div\" style=\"height:525px; width:100%;\"></div>            <script type=\"text/javascript\">                                    window.PLOTLYENV=window.PLOTLYENV || {};                                    if (document.getElementById(\"06a897f0-ad6e-4827-adf9-0b1272d38c39\")) {                    Plotly.newPlot(                        \"06a897f0-ad6e-4827-adf9-0b1272d38c39\",                        [{\"hovertemplate\":\"x=%{x}\\u003cbr\\u003ey=%{y}\\u003cextra\\u003e\\u003c\\u002fextra\\u003e\",\"legendgroup\":\"\",\"marker\":{\"color\":\"#636efa\",\"symbol\":\"circle\"},\"mode\":\"markers\",\"name\":\"\",\"orientation\":\"v\",\"showlegend\":false,\"x\":[-1.0,-0.8947368,-0.78947365,-0.68421054,-0.57894737,-0.4736842,-0.36842105,-0.2631579,-0.15789473,-0.052631572,0.052631572,0.15789473,0.2631579,0.36842105,0.4736842,0.57894737,0.68421054,0.78947365,0.8947368,1.0],\"xaxis\":\"x\",\"y\":[-0.80730844,-0.5675567,-0.4019825,-0.5308612,-0.26986474,0.0015480667,0.030072767,0.14983782,0.03164956,-0.06880809,-0.049189843,0.028085213,-0.0049382,0.054183237,0.08112617,0.28003746,0.2893364,0.45248315,0.79662603,0.93784046],\"yaxis\":\"y\",\"type\":\"scatter\"}],                        {\"template\":{\"data\":{\"histogram2dcontour\":[{\"type\":\"histogram2dcontour\",\"colorbar\":{\"outlinewidth\":0,\"ticks\":\"\"},\"colorscale\":[[0.0,\"#0d0887\"],[0.1111111111111111,\"#46039f\"],[0.2222222222222222,\"#7201a8\"],[0.3333333333333333,\"#9c179e\"],[0.4444444444444444,\"#bd3786\"],[0.5555555555555556,\"#d8576b\"],[0.6666666666666666,\"#ed7953\"],[0.7777777777777778,\"#fb9f3a\"],[0.8888888888888888,\"#fdca26\"],[1.0,\"#f0f921\"]]}],\"choropleth\":[{\"type\":\"choropleth\",\"colorbar\":{\"outlinewidth\":0,\"ticks\":\"\"}}],\"histogram2d\":[{\"type\":\"histogram2d\",\"colorbar\":{\"outlinewidth\":0,\"ticks\":\"\"},\"colorscale\":[[0.0,\"#0d0887\"],[0.1111111111111111,\"#46039f\"],[0.2222222222222222,\"#7201a8\"],[0.3333333333333333,\"#9c179e\"],[0.4444444444444444,\"#bd3786\"],[0.5555555555555556,\"#d8576b\"],[0.6666666666666666,\"#ed7953\"],[0.7777777777777778,\"#fb9f3a\"],[0.8888888888888888,\"#fdca26\"],[1.0,\"#f0f921\"]]}],\"heatmap\":[{\"type\":\"heatmap\",\"colorbar\":{\"outlinewidth\":0,\"ticks\":\"\"},\"colorscale\":[[0.0,\"#0d0887\"],[0.1111111111111111,\"#46039f\"],[0.2222222222222222,\"#7201a8\"],[0.3333333333333333,\"#9c179e\"],[0.4444444444444444,\"#bd3786\"],[0.5555555555555556,\"#d8576b\"],[0.6666666666666666,\"#ed7953\"],[0.7777777777777778,\"#fb9f3a\"],[0.8888888888888888,\"#fdca26\"],[1.0,\"#f0f921\"]]}],\"heatmapgl\":[{\"type\":\"heatmapgl\",\"colorbar\":{\"outlinewidth\":0,\"ticks\":\"\"},\"colorscale\":[[0.0,\"#0d0887\"],[0.1111111111111111,\"#46039f\"],[0.2222222222222222,\"#7201a8\"],[0.3333333333333333,\"#9c179e\"],[0.4444444444444444,\"#bd3786\"],[0.5555555555555556,\"#d8576b\"],[0.6666666666666666,\"#ed7953\"],[0.7777777777777778,\"#fb9f3a\"],[0.8888888888888888,\"#fdca26\"],[1.0,\"#f0f921\"]]}],\"contourcarpet\":[{\"type\":\"contourcarpet\",\"colorbar\":{\"outlinewidth\":0,\"ticks\":\"\"}}],\"contour\":[{\"type\":\"contour\",\"colorbar\":{\"outlinewidth\":0,\"ticks\":\"\"},\"colorscale\":[[0.0,\"#0d0887\"],[0.1111111111111111,\"#46039f\"],[0.2222222222222222,\"#7201a8\"],[0.3333333333333333,\"#9c179e\"],[0.4444444444444444,\"#bd3786\"],[0.5555555555555556,\"#d8576b\"],[0.6666666666666666,\"#ed7953\"],[0.7777777777777778,\"#fb9f3a\"],[0.8888888888888888,\"#fdca26\"],[1.0,\"#f0f921\"]]}],\"surface\":[{\"type\":\"surface\",\"colorbar\":{\"outlinewidth\":0,\"ticks\":\"\"},\"colorscale\":[[0.0,\"#0d0887\"],[0.1111111111111111,\"#46039f\"],[0.2222222222222222,\"#7201a8\"],[0.3333333333333333,\"#9c179e\"],[0.4444444444444444,\"#bd3786\"],[0.5555555555555556,\"#d8576b\"],[0.6666666666666666,\"#ed7953\"],[0.7777777777777778,\"#fb9f3a\"],[0.8888888888888888,\"#fdca26\"],[1.0,\"#f0f921\"]]}],\"mesh3d\":[{\"type\":\"mesh3d\",\"colorbar\":{\"outlinewidth\":0,\"ticks\":\"\"}}],\"scatter\":[{\"fillpattern\":{\"fillmode\":\"overlay\",\"size\":10,\"solidity\":0.2},\"type\":\"scatter\"}],\"parcoords\":[{\"type\":\"parcoords\",\"line\":{\"colorbar\":{\"outlinewidth\":0,\"ticks\":\"\"}}}],\"scatterpolargl\":[{\"type\":\"scatterpolargl\",\"marker\":{\"colorbar\":{\"outlinewidth\":0,\"ticks\":\"\"}}}],\"bar\":[{\"error_x\":{\"color\":\"#2a3f5f\"},\"error_y\":{\"color\":\"#2a3f5f\"},\"marker\":{\"line\":{\"color\":\"#E5ECF6\",\"width\":0.5},\"pattern\":{\"fillmode\":\"overlay\",\"size\":10,\"solidity\":0.2}},\"type\":\"bar\"}],\"scattergeo\":[{\"type\":\"scattergeo\",\"marker\":{\"colorbar\":{\"outlinewidth\":0,\"ticks\":\"\"}}}],\"scatterpolar\":[{\"type\":\"scatterpolar\",\"marker\":{\"colorbar\":{\"outlinewidth\":0,\"ticks\":\"\"}}}],\"histogram\":[{\"marker\":{\"pattern\":{\"fillmode\":\"overlay\",\"size\":10,\"solidity\":0.2}},\"type\":\"histogram\"}],\"scattergl\":[{\"type\":\"scattergl\",\"marker\":{\"colorbar\":{\"outlinewidth\":0,\"ticks\":\"\"}}}],\"scatter3d\":[{\"type\":\"scatter3d\",\"line\":{\"colorbar\":{\"outlinewidth\":0,\"ticks\":\"\"}},\"marker\":{\"colorbar\":{\"outlinewidth\":0,\"ticks\":\"\"}}}],\"scattermapbox\":[{\"type\":\"scattermapbox\",\"marker\":{\"colorbar\":{\"outlinewidth\":0,\"ticks\":\"\"}}}],\"scatterternary\":[{\"type\":\"scatterternary\",\"marker\":{\"colorbar\":{\"outlinewidth\":0,\"ticks\":\"\"}}}],\"scattercarpet\":[{\"type\":\"scattercarpet\",\"marker\":{\"colorbar\":{\"outlinewidth\":0,\"ticks\":\"\"}}}],\"carpet\":[{\"aaxis\":{\"endlinecolor\":\"#2a3f5f\",\"gridcolor\":\"white\",\"linecolor\":\"white\",\"minorgridcolor\":\"white\",\"startlinecolor\":\"#2a3f5f\"},\"baxis\":{\"endlinecolor\":\"#2a3f5f\",\"gridcolor\":\"white\",\"linecolor\":\"white\",\"minorgridcolor\":\"white\",\"startlinecolor\":\"#2a3f5f\"},\"type\":\"carpet\"}],\"table\":[{\"cells\":{\"fill\":{\"color\":\"#EBF0F8\"},\"line\":{\"color\":\"white\"}},\"header\":{\"fill\":{\"color\":\"#C8D4E3\"},\"line\":{\"color\":\"white\"}},\"type\":\"table\"}],\"barpolar\":[{\"marker\":{\"line\":{\"color\":\"#E5ECF6\",\"width\":0.5},\"pattern\":{\"fillmode\":\"overlay\",\"size\":10,\"solidity\":0.2}},\"type\":\"barpolar\"}],\"pie\":[{\"automargin\":true,\"type\":\"pie\"}]},\"layout\":{\"autotypenumbers\":\"strict\",\"colorway\":[\"#636efa\",\"#EF553B\",\"#00cc96\",\"#ab63fa\",\"#FFA15A\",\"#19d3f3\",\"#FF6692\",\"#B6E880\",\"#FF97FF\",\"#FECB52\"],\"font\":{\"color\":\"#2a3f5f\"},\"hovermode\":\"closest\",\"hoverlabel\":{\"align\":\"left\"},\"paper_bgcolor\":\"white\",\"plot_bgcolor\":\"#E5ECF6\",\"polar\":{\"bgcolor\":\"#E5ECF6\",\"angularaxis\":{\"gridcolor\":\"white\",\"linecolor\":\"white\",\"ticks\":\"\"},\"radialaxis\":{\"gridcolor\":\"white\",\"linecolor\":\"white\",\"ticks\":\"\"}},\"ternary\":{\"bgcolor\":\"#E5ECF6\",\"aaxis\":{\"gridcolor\":\"white\",\"linecolor\":\"white\",\"ticks\":\"\"},\"baxis\":{\"gridcolor\":\"white\",\"linecolor\":\"white\",\"ticks\":\"\"},\"caxis\":{\"gridcolor\":\"white\",\"linecolor\":\"white\",\"ticks\":\"\"}},\"coloraxis\":{\"colorbar\":{\"outlinewidth\":0,\"ticks\":\"\"}},\"colorscale\":{\"sequential\":[[0.0,\"#0d0887\"],[0.1111111111111111,\"#46039f\"],[0.2222222222222222,\"#7201a8\"],[0.3333333333333333,\"#9c179e\"],[0.4444444444444444,\"#bd3786\"],[0.5555555555555556,\"#d8576b\"],[0.6666666666666666,\"#ed7953\"],[0.7777777777777778,\"#fb9f3a\"],[0.8888888888888888,\"#fdca26\"],[1.0,\"#f0f921\"]],\"sequentialminus\":[[0.0,\"#0d0887\"],[0.1111111111111111,\"#46039f\"],[0.2222222222222222,\"#7201a8\"],[0.3333333333333333,\"#9c179e\"],[0.4444444444444444,\"#bd3786\"],[0.5555555555555556,\"#d8576b\"],[0.6666666666666666,\"#ed7953\"],[0.7777777777777778,\"#fb9f3a\"],[0.8888888888888888,\"#fdca26\"],[1.0,\"#f0f921\"]],\"diverging\":[[0,\"#8e0152\"],[0.1,\"#c51b7d\"],[0.2,\"#de77ae\"],[0.3,\"#f1b6da\"],[0.4,\"#fde0ef\"],[0.5,\"#f7f7f7\"],[0.6,\"#e6f5d0\"],[0.7,\"#b8e186\"],[0.8,\"#7fbc41\"],[0.9,\"#4d9221\"],[1,\"#276419\"]]},\"xaxis\":{\"gridcolor\":\"white\",\"linecolor\":\"white\",\"ticks\":\"\",\"title\":{\"standoff\":15},\"zerolinecolor\":\"white\",\"automargin\":true,\"zerolinewidth\":2},\"yaxis\":{\"gridcolor\":\"white\",\"linecolor\":\"white\",\"ticks\":\"\",\"title\":{\"standoff\":15},\"zerolinecolor\":\"white\",\"automargin\":true,\"zerolinewidth\":2},\"scene\":{\"xaxis\":{\"backgroundcolor\":\"#E5ECF6\",\"gridcolor\":\"white\",\"linecolor\":\"white\",\"showbackground\":true,\"ticks\":\"\",\"zerolinecolor\":\"white\",\"gridwidth\":2},\"yaxis\":{\"backgroundcolor\":\"#E5ECF6\",\"gridcolor\":\"white\",\"linecolor\":\"white\",\"showbackground\":true,\"ticks\":\"\",\"zerolinecolor\":\"white\",\"gridwidth\":2},\"zaxis\":{\"backgroundcolor\":\"#E5ECF6\",\"gridcolor\":\"white\",\"linecolor\":\"white\",\"showbackground\":true,\"ticks\":\"\",\"zerolinecolor\":\"white\",\"gridwidth\":2}},\"shapedefaults\":{\"line\":{\"color\":\"#2a3f5f\"}},\"annotationdefaults\":{\"arrowcolor\":\"#2a3f5f\",\"arrowhead\":0,\"arrowwidth\":1},\"geo\":{\"bgcolor\":\"white\",\"landcolor\":\"#E5ECF6\",\"subunitcolor\":\"white\",\"showland\":true,\"showlakes\":true,\"lakecolor\":\"white\"},\"title\":{\"x\":0.05},\"mapbox\":{\"style\":\"light\"}}},\"xaxis\":{\"anchor\":\"y\",\"domain\":[0.0,1.0],\"title\":{\"text\":\"x\"}},\"yaxis\":{\"anchor\":\"x\",\"domain\":[0.0,1.0],\"title\":{\"text\":\"y\"}},\"legend\":{\"tracegroupgap\":0},\"margin\":{\"t\":60}},                        {\"responsive\": true}                    ).then(function(){\n",
              "                            \n",
              "var gd = document.getElementById('06a897f0-ad6e-4827-adf9-0b1272d38c39');\n",
              "var x = new MutationObserver(function (mutations, observer) {{\n",
              "        var display = window.getComputedStyle(gd).display;\n",
              "        if (!display || display === 'none') {{\n",
              "            console.log([gd, 'removed!']);\n",
              "            Plotly.purge(gd);\n",
              "            observer.disconnect();\n",
              "        }}\n",
              "}});\n",
              "\n",
              "// Listen for the removal of the full notebook cells\n",
              "var notebookContainer = gd.closest('#notebook-container');\n",
              "if (notebookContainer) {{\n",
              "    x.observe(notebookContainer, {childList: true});\n",
              "}}\n",
              "\n",
              "// Listen for the clearing of the current output cell\n",
              "var outputEl = gd.closest('.output');\n",
              "if (outputEl) {{\n",
              "    x.observe(outputEl, {childList: true});\n",
              "}}\n",
              "\n",
              "                        })                };                            </script>        </div>\n",
              "</body>\n",
              "</html>"
            ]
          },
          "metadata": {}
        }
      ]
    },
    {
      "cell_type": "markdown",
      "metadata": {
        "id": "NS0j3M_pgk8s"
      },
      "source": [
        "> **NOTE**\n",
        ">\n",
        "> Small Python reminder. Every object that implements the `__getitem__` method follows the [iterator procotol](https://www.python.org/dev/peps/pep-0234/#python-api-specification). It means that you can **iterate** the dataset:\n",
        "\n",
        "\n"
      ]
    },
    {
      "cell_type": "code",
      "metadata": {
        "id": "sMdwLEFDhZCu",
        "colab": {
          "base_uri": "https://localhost:8080/",
          "height": 49,
          "referenced_widgets": [
            "22bffe94ed20436aace5ebdfe61a6e1e",
            "973c24d377c143a3a3d8fa38939043d6",
            "3013a74f209b4f6fb395f30927324db6",
            "813ee8f564234fe78bca6f8e985840b0",
            "be561027f53c4c23ac06ab3322c21903",
            "05aa813c49374fea983bce63f6252329",
            "1575d2d57231498993bf8095eda10440",
            "045706e51b3a460384e8274f1c49347c",
            "5882d64c0c2c4b8ab1cd46ae09ac3385",
            "ea86464f08134809a889b1831e244c87",
            "fee978d0af32407c86229c013491c2ac"
          ]
        },
        "outputId": "ab1f1b7e-63fd-4519-deee-3c7d7f6c60a0"
      },
      "source": [
        "from tqdm.notebook import tqdm as tqdm   # just a progress bar\n",
        "\n",
        "for sample in tqdm(toydataset):  # wrap the iterable in tqdm and you're done\n",
        "  pass"
      ],
      "execution_count": 73,
      "outputs": [
        {
          "output_type": "display_data",
          "data": {
            "text/plain": [
              "  0%|          | 0/20 [00:00<?, ?it/s]"
            ],
            "application/vnd.jupyter.widget-view+json": {
              "version_major": 2,
              "version_minor": 0,
              "model_id": "22bffe94ed20436aace5ebdfe61a6e1e"
            }
          },
          "metadata": {}
        }
      ]
    },
    {
      "cell_type": "markdown",
      "metadata": {
        "id": "9GXYYwNTfK7D"
      },
      "source": [
        "In the `ToyDataset` the whole dataset is stored **in memory**, i.e. in attributes of the `ToyDataset` class.\n",
        "This is the fastest and simplest way to implement a dataset, but it is **not always feasible**.\n",
        "What if you must train a neural network on 500GB of images?\n",
        "The whole dataset does not fit in memory!\n",
        "\n",
        "> For the same reason, using a single file to store the whole dataset does not scale with the dataset size.\n",
        ">\n",
        "> *Obviously, this depends on the file format used, e.g. it is perfectly fine if we are dealing with `HDF5` files*\n",
        "\n",
        "The `Dataset` abstraction is particularly useful when implementing *lazy loading* policies, that is, when you load each item **only when you need it**.\n",
        "You can even apply some preprocessing on the fly, to each item.\n",
        "\n",
        "One example of how it can be done:\n",
        "\n",
        "```python\n",
        "class LazyDataset(Dataset):\n",
        "\n",
        "  def __init__(self, file_paths: Sequence[Path]):\n",
        "    super().__init__()  \n",
        "    self.file_paths = file_paths\n",
        "\n",
        "  def __len__(self):\n",
        "    return len(self.file_paths)\n",
        "\n",
        "  def __getitem__(self, idx):\n",
        "    sample_path = self.file_paths[idx]\n",
        "\n",
        "    # -> Load sample_path in memory\n",
        "    # -> Perform some lightweight preprocessing\n",
        "    # -> Generate (sample_input, sample_output)\n",
        "\n",
        "    return {\n",
        "        'x': sample_input,\n",
        "        'y': sample_output\n",
        "    }\n",
        "\n",
        "```\n"
      ]
    },
    {
      "cell_type": "markdown",
      "metadata": {
        "id": "P79iR6q0gIzw"
      },
      "source": [
        "**NOTE**\n",
        "\n",
        "The dataset can return any type of object, you are *not* forced to return a dictionary of tensors:\n",
        "\n"
      ]
    },
    {
      "cell_type": "code",
      "metadata": {
        "id": "nDg1ggjdiMA4"
      },
      "source": [
        "from torch.utils.data import Dataset\n",
        "\n",
        "class AnotherDataset(Dataset):\n",
        "  def __init__(self):\n",
        "    super().__init__()\n",
        "    self.myitems = torch.arange(100)\n",
        "\n",
        "  def __len__(self):\n",
        "    return len(self.myitems)\n",
        "\n",
        "  def __getitem__(self, idx):\n",
        "    return f'Sample{idx}', self.myitems[idx], None, 3.5\n",
        "\n",
        "dataset = AnotherDataset()\n",
        "dataset[5]"
      ],
      "execution_count": null,
      "outputs": []
    },
    {
      "cell_type": "markdown",
      "metadata": {
        "id": "zOwlr_u2iLh6"
      },
      "source": [
        "\n",
        "However, it is often useful to return a dictionary of tensors.\n",
        "\n",
        "⚠️ Do *not* return tensors that are stored on the GPU memory, as it [causes problems](https://pytorch.org/docs/stable/data.html#multi-process-data-loading) with the multiprocessing behavior of the DataLoader. We'll see memory pinning as a preferred way, further below.\n",
        "\n",
        "Returning a dictionary of tensors will:\n",
        "\n",
        "- Make your code more readable\n",
        "- Ease the batch creation process: you may use the `DataLoader` default `collate_fn` (we'll see this in a second)"
      ]
    },
    {
      "cell_type": "markdown",
      "metadata": {
        "id": "ndnx7HJxkvXH"
      },
      "source": [
        "## PyTorch DataLoader"
      ]
    },
    {
      "cell_type": "markdown",
      "source": [
        "\n",
        "[`torch.utils.data.DataLoader`](https://pytorch.org/docs/stable/data.html?highlight=dataloader#torch.utils.data.DataLoader) is an iterator that provides:\n",
        "\n",
        "- Data batching\n",
        "- Data shuffling\n",
        "- Parallel data loading using `multiprocessing` workers. Meaning that while the `GPU` is performing some computation on a batch, in parallel you can load the next batch.\n",
        "\n",
        "\n",
        "Creating a dataloader from a dataset is straightforward. Here's an example that highlights some of the most used parameters:"
      ],
      "metadata": {
        "id": "G_peCB8pRTn7"
      }
    },
    {
      "cell_type": "code",
      "metadata": {
        "id": "bNxfH3vayfVx"
      },
      "source": [
        "from torch.utils.data import DataLoader\n",
        "\n",
        "toydataset = ToyDataset(200)\n",
        "toyloader = DataLoader(toydataset,\n",
        "                       batch_size=8,    # number of elements in each batch\n",
        "                       shuffle=True,    # shuffle the dataset\n",
        "                       num_workers=4,   # number of workers, i.e. batches to prefetch\n",
        "                       pin_memory=True  # return memory-pinned tensors, see below for an explanation!\n",
        "                       )\n",
        "\n",
        "# 200 iterations\n",
        "for sample in tqdm(toydataset):\n",
        "  pass\n",
        "print(sample)\n",
        "\n",
        "# 25 iterations\n",
        "for batch in tqdm(toyloader):  # there is some overhead when using multiple workers!\n",
        "  pass\n",
        "batch"
      ],
      "execution_count": null,
      "outputs": []
    },
    {
      "cell_type": "markdown",
      "metadata": {
        "id": "Bm9Uhxbt52fy"
      },
      "source": [
        "If you are not returning a dictionary or some other form of regular structure from the dataset, you must manually specify *how* to put the samples together to form a batch. This can be done with the `collate_fn` parameter of the `DataLoader`.\n",
        "\n",
        "Please read these [docs](https://pytorch.org/docs/stable/data.html#loading-batched-and-non-batched-data) to understand the default behavior of `collate_fn` and how you can define custom `collate_fn` functions."
      ]
    },
    {
      "cell_type": "markdown",
      "metadata": {
        "id": "pALUlr9Czk_B"
      },
      "source": [
        "> **NOTE**\n",
        ">\n",
        "> The `DataLoader` is just an iterator, it can't be directly indexed!"
      ]
    },
    {
      "cell_type": "code",
      "metadata": {
        "id": "ijjb5ujOzpvQ"
      },
      "source": [
        "try:\n",
        "  toyloader[0]\n",
        "except Exception as e:\n",
        "  print('Error:', e)"
      ],
      "execution_count": null,
      "outputs": []
    },
    {
      "cell_type": "markdown",
      "metadata": {
        "id": "SYYP8rCj2-Ae"
      },
      "source": [
        "### 📖 Memory pinning"
      ]
    },
    {
      "cell_type": "markdown",
      "metadata": {
        "id": "GRqZeY_A1Ink"
      },
      "source": [
        "Pytorch tensors support [memory pinning](https://devblogs.nvidia.com/how-optimize-data-transfers-cuda-cc/):"
      ]
    },
    {
      "cell_type": "markdown",
      "metadata": {
        "id": "T1BIKzR36fww"
      },
      "source": [
        "![](https://devblogs.nvidia.com/wp-content/uploads/2012/12/pinned-1024x541.jpg)"
      ]
    },
    {
      "cell_type": "markdown",
      "metadata": {
        "id": "84rs4T_66ffq"
      },
      "source": [
        "\n",
        "Pinned tensors enable:\n",
        "- **Much faster copies** from CPU to GPU.\n",
        "- **Aynchronous GPU copies**: *while* the tensor is being transferred, the code continues if it doesn't need that tensor! To enable this, just pass an additional **`non_blocking=True`** argument to a `to()` or a `cuda()` call.  (**gpu operations are [asynchronous](https://pytorch.org/docs/stable/notes/cuda.html#asynchronous-execution) by default**)\n",
        "\n",
        "Given a tensor you can manually pin it:"
      ]
    },
    {
      "cell_type": "code",
      "metadata": {
        "id": "tF0GVdOq3tnG"
      },
      "source": [
        "t = torch.rand(100)\n",
        "t.is_pinned()"
      ],
      "execution_count": null,
      "outputs": []
    },
    {
      "cell_type": "code",
      "metadata": {
        "id": "6p_mlBoh3p-a"
      },
      "source": [
        "# be sure to use a GPU runtime, otherwise there's nothing to pin for!\n",
        "\n",
        "t = t.pin_memory()  # reassigning to t, because pin_memory() is not in-place"
      ],
      "execution_count": null,
      "outputs": []
    },
    {
      "cell_type": "code",
      "metadata": {
        "id": "kgFj15grDJPl"
      },
      "source": [
        "t.is_pinned()"
      ],
      "execution_count": null,
      "outputs": []
    },
    {
      "cell_type": "markdown",
      "metadata": {
        "id": "nY2UFPT14EkF"
      },
      "source": [
        "Passing `pin_memory=True` to a `DataLoader` will automatically put the fetched data tensors in pinned memory, enabling faster data transfer to CUDA-enabled GPUs.\n",
        "\n",
        "`DataLoader` only knows how to pin the standard types returned by `Dataset`; this includes Tensor, Map and Sequence of Tensors. If you want to pin some custom type, read more [here](https://pytorch.org/docs/stable/data.html#memory-pinning) (tldr: define a `pin_memory()` method on your custom type(s))."
      ]
    },
    {
      "cell_type": "code",
      "metadata": {
        "id": "5gNnoz6U5sMz"
      },
      "source": [
        "batch['x'].is_pinned()"
      ],
      "execution_count": null,
      "outputs": []
    },
    {
      "cell_type": "markdown",
      "metadata": {
        "id": "Q4l1TIvepi6H"
      },
      "source": [
        "### Troubleshooting bottlenecks\n",
        "Make sure the data loading is **not a bottleneck** in your pipeline.\n",
        "Your GPU must not **wait for data**.\n",
        "\n"
      ]
    },
    {
      "cell_type": "markdown",
      "metadata": {
        "id": "zFEIytCKlMsQ"
      },
      "source": [
        "#### How to check if your data loading is a bottleneck?\n",
        "\n",
        "##### **Check resource usage**\n",
        "\n",
        "Check the GPU (or CPU) usage, if it is ~$100\\%$ it is being fully utilised. This is good!\n",
        "\n",
        "Otherwise you may have a bottleneck somewhere, or your data operations may not be GPU friendly (e.g. small batches).\n",
        "\n",
        "\n",
        "##### **Check data loading speed**\n",
        "\n",
        "Iterate over the `Dataset` or `DataLoader` and check the data loading speed by counting the number of items that are loaded per second. Then compare this to how many items per second are processed by the rest of the pipeline.\n",
        "\n",
        "If you can load more items than you can process in the training loop, it means you _don't_ have a bottleneck in your data loading. The GPU is not waiting for you, good job!\n",
        "\n",
        "You can use the [tqdm](https://github.com/tqdm/tqdm) package to easily check the iteration speed of any iterable with a minimal overhead."
      ]
    },
    {
      "cell_type": "code",
      "metadata": {
        "id": "-PLGSqUenoTz"
      },
      "source": [
        "# Checking the loading speed\n",
        "from tqdm.notebook import tqdm as tqdm  # just a progress bar\n",
        "\n",
        "toydataset = ToyDataset(20000)\n",
        "toyloader = DataLoader(toydataset,\n",
        "                       batch_size=8,    # number of elements in each batch\n",
        "                       shuffle=True,    # shuffle the dataset\n",
        "                       num_workers=4,   # number of workers, i.e. batches to prefetch\n",
        "                       pin_memory=True  # return memory pinnded tensors\n",
        "                       )\n",
        "for batch in tqdm(toyloader):\n",
        "  pass\n",
        "\n",
        "# Example:\n",
        "# tqdm reports 350.00it/s (iterations per second) for the loader.\n",
        "# tqdm reports 280.12it/s for the training step given the data.\n",
        "# -> data loading is NOT a bottleneck!\n",
        "#\n",
        "# This scenario means your computation time is the primary factor in how long\n",
        "# each iteration takes, and the data loading process is efficient enough to keep\n",
        "# up with the computational demands."
      ],
      "execution_count": null,
      "outputs": []
    },
    {
      "cell_type": "markdown",
      "metadata": {
        "id": "DUhUSCRNoTQb"
      },
      "source": [
        "#### How to fix a bottleneck in the data loading?\n",
        "\n",
        "##### 1) **Use in-memory datasets**\n",
        "If your dataset fits on memory, load the whole dataset in memory.\n",
        "\n",
        "##### 2) **Tune DataLoader parameters**\n",
        "Tune the `num_workers` and `batch_size` parameter of the `DataLoader`, paying attention that the batch size will have a direct impact on the training. A good default for `num_workers` is the number of cores in your CPU.\n",
        "\n",
        "##### 3) **Do not preprocess on the fly**\n",
        "If you need preprocessing for your files, save the preprocessed files to disk.\n",
        "\n",
        "##### 4) **Speed up raw file loading**\n",
        "If even just loading the files from disk is slow, consider changing the way in which the files are stored (e.g. another [format](https://www.h5py.org/) or a [database](https://github.com/google/leveldb))."
      ]
    },
    {
      "cell_type": "markdown",
      "metadata": {
        "id": "34YGEYsZyBvS"
      },
      "source": [
        "> **NOTE**\n",
        ">\n",
        "> You can read much more on the `torch.utils.data` package [here](https://pytorch.org/docs/stable/data.html).\n",
        ">\n",
        "> Moreover, keep in mind that the [`torchvision`](https://pytorch.org/vision/stable/index.html) package provides some common datasets and transforms. We'll use it next week!"
      ]
    },
    {
      "cell_type": "markdown",
      "metadata": {
        "id": "JiCv7axFUEel"
      },
      "source": [
        "### Dataset and DataLoader exercises\n",
        "\n",
        "> **EXERCISE**\n",
        ">\n",
        "> You want to create a neural network that is able to learn how to recover corrupted images from the [CIFAR10](https://www.cs.toronto.edu/~kriz/cifar.html) dataset. That is, given as input a corrupted image, the model outputs a corresponding uncorrupted version.\n",
        ">\n",
        "> You are free to choose the type of corruption to apply. Possible examples are: random noise, random black patches, random crop, random reflections, all the previous together.\n",
        ">\n",
        "> 1) Think about the data pipeline this model would require. What should the dataset return?\n",
        ">\n",
        "> 2) Create the `Dataset` and `DataLoader` to implement it.\n",
        ">\n",
        "> 3) Plot the images in a **batch** to ensure you are doing everything right.\n",
        ">\n",
        ">  *hint*: you may use [`torchvision.datasets`](https://pytorch.org/vision/stable/datasets.html) and [`torchvision.transforms`](https://pytorch.org/vision/stable/transforms.html)"
      ]
    },
    {
      "cell_type": "code",
      "source": [
        "# ✏️ your code here"
      ],
      "metadata": {
        "id": "CuCHY0Zb-9pH"
      },
      "execution_count": null,
      "outputs": []
    },
    {
      "cell_type": "markdown",
      "metadata": {
        "id": "U07puKsVdCXZ"
      },
      "source": [
        "> **EXERCISE** *(discuss only)*\n",
        ">\n",
        "> Consider [The Abstraction and Reasoning Corpus (ARC)](https://github.com/fchollet/ARC).\n",
        ">\n",
        "> If you want, you can clone the ARC repository on your computer and play against some proposed tasks (without writing any program -- play yourself as a human!). It is enough to open `apps/testing_interface.html` in your browser.\n",
        ">\n",
        "> > *ARC can be seen as a general artificial intelligence benchmark, as a program synthesis benchmark, or as a psychometric intelligence test. It is targeted at both humans and artificially intelligent systems that aim at emulating a human-like form of general fluid intelligence.*\n",
        "> >\n",
        "> > **Dataset goal**\n",
        "> >\n",
        "> > A test-taker is said to solve a task when, upon seeing the task for the first time, they are able to produce the correct output grid for *all* test inputs in the task (this includes picking the dimensions of the output grid). For each test input, the test-taker is allowed 3 trials (this holds for all test-takers, either humans or AI).\n",
        "> >\n",
        "> > **Task file format**\n",
        "> >\n",
        "> > The `data` directory contains two subdirectories:\n",
        "> >\n",
        "> > - `data/training`: contains the task files for training (400 tasks). Use these to prototype your algorithm or to train your algorithm to acquire ARC-relevant cognitive priors.\n",
        "> > - `data/evaluation`: contains the task files for evaluation (400 tasks). Use these to evaluate your final algorithm. To ensure fair evaluation results, do not leak information from the evaluation set into your algorithm, e.g. by looking at the evaluation tasks yourself during development, or by repeatedly modifying an algorithm while using its evaluation score as feedback (remember that [this is conceptually wrong](#data-leakage)!).\n",
        "> >\n",
        "> > The tasks are stored in JSON format. Each task JSON file contains a dictionary with two fields:\n",
        "> >\n",
        "> > - `\"train\"`: demonstration input/output pairs. It is a list of \"pairs\" (typically 3 pairs).\n",
        "> > - `\"test\"`: test input/output pairs. It is a list of \"pairs\" (typically 1 pair).\n",
        "> >\n",
        "> > A \"pair\" is a dictionary with two fields:\n",
        "> >\n",
        "> > - `\"input\"`: the input \"grid\" for the pair.\n",
        "> > - `\"output\"`: the output \"grid\" for the pair.\n",
        "> >\n",
        "> > A \"grid\" is a rectangular matrix (list of lists) of integers between 0 and 9 (inclusive). The smallest possible grid size is 1x1 and the largest is 30x30.\n",
        ">\n",
        ">\n",
        "> - What would your`Dataset` return for this task?\n",
        "> - What would each batch contain?\n",
        ">\n",
        "> Discuss and compare your choices with your colleagues. Did you all make the same choices? Why or why not?\n"
      ]
    },
    {
      "cell_type": "markdown",
      "source": [
        "✏️ Write down your conclusions here"
      ],
      "metadata": {
        "id": "x9IwEqyp_E8t"
      }
    }
  ]
}