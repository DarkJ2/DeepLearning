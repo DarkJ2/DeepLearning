{
  "nbformat": 4,
  "nbformat_minor": 0,
  "metadata": {
    "colab": {
      "provenance": [],
      "collapsed_sections": [
        "4C5Ct9yoZKYa",
        "dHLO4Z-T_yxB",
        "GPHftSvUaIhe",
        "0PAIT1NjFUhk",
        "8htU_ACVGQY5",
        "i8kq5mSFOHul",
        "mhRdUyWpwX-v",
        "yTDKBC5GL7MI",
        "CENyGHlSp_FX",
        "FXq55ce581os",
        "5z1iX6ltDTx8",
        "Tvpx3YbdcKlK",
        "ndnx7HJxkvXH",
        "SYYP8rCj2-Ae",
        "Q4l1TIvepi6H",
        "zFEIytCKlMsQ",
        "DUhUSCRNoTQb"
      ],
      "toc_visible": true
    },
    "kernelspec": {
      "name": "python3",
      "display_name": "Python 3"
    }
  },
  "cells": [
    {
      "cell_type": "markdown",
      "metadata": {
        "id": "4C5Ct9yoZKYa"
      },
      "source": [
        "# Deep Learning & Applied AI\n",
        "\n",
        "# Tutorial 3: Linear models and Pytorch Datasets\n",
        "\n",
        "In this tutorial, we will cover:\n",
        "\n",
        "- Linear models\n",
        "- Pytorch Dataset and DataLoader\n",
        "\n",
        "Based on original material by Dr. Luca Moschella (moschella@di.uniroma1.it) and Dr. Antonio Norelli (norelli@di.uniroma1.it)\n",
        "\n",
        "Course:\n",
        "\n",
        "- Website and notebooks will be available at https://erodola.github.io/DLAI-s2-2025/\n",
        "\n",
        "#### Instructions\n",
        "We encourage you to form small groups of 2-3 people to read and discuss the notebooks together.\n",
        "\n",
        "Run the code and play with it! It is very easy to edit the code locally and make small experiments. Try whatever comes to your mind, this is the best way to learn! Python notebooks are designed to be used in this way, that's why we chose them for the DLAI lab sessions.\n",
        "\n",
        "There will be some exercises, try to do them by yourself, and when everyone in your group has finished, compare the solutions with each other.\n",
        "\n",
        "When something is not clear or you have a question, raise your hand and we will come to you, or directly approach us.\n",
        "\n",
        "Some sections in the notebooks are marked with 📖. This is additional content for further reading outside of class. You may want to go through it at home or during class if you finish early. (Some sections are \"more optional\" than others, those marked with more books 📖📖)\n",
        "\n",
        "Let's start!"
      ]
    },
    {
      "cell_type": "markdown",
      "metadata": {
        "id": "dHLO4Z-T_yxB"
      },
      "source": [
        "### Import dependencies"
      ]
    },
    {
      "cell_type": "markdown",
      "source": [
        "In this notebook you will discover **Plotly**, a powerful plotting library (there are many [visualization libraries](https://pyviz.org/overviews/index.html) for Python).\n",
        "Effectively communicating your findings through plots and visualizations is an essential part of any scientific or engineering project.\n",
        "Plotly is a modern library that makes interactive plots very easy to produce, and is very popular also outside of the DL community.\n",
        "\n",
        "[Here](https://plot.ly/python/) you can find its documentation."
      ],
      "metadata": {
        "id": "GHKiAWxOGLb1"
      }
    },
    {
      "cell_type": "code",
      "metadata": {
        "id": "pRePt-K1_yw9"
      },
      "source": [
        "import torch\n",
        "import numpy as np\n",
        "import plotly.express as px\n",
        "from plotly.subplots import make_subplots\n",
        "import plotly.graph_objects as go"
      ],
      "execution_count": 1,
      "outputs": []
    },
    {
      "cell_type": "markdown",
      "source": [
        "### A note on reproducibility\n",
        "\n",
        "As mentioned in the previous notebooks, we are going to ensure that all the RNGs used in different parts of this notebook produce the same sequence of numbers each time."
      ],
      "metadata": {
        "id": "pcNRBDwVUlkl"
      }
    },
    {
      "cell_type": "code",
      "metadata": {
        "id": "2tGN_bJOcfd3"
      },
      "source": [
        "# Reproducibility stuff\n",
        "\n",
        "import random\n",
        "torch.manual_seed(42)      # PyTorch CPU\n",
        "np.random.seed(42)         # NumPy\n",
        "random.seed(0)             # Python built-in\n",
        "torch.cuda.manual_seed(0)  # PyTorch GPU"
      ],
      "execution_count": 2,
      "outputs": []
    },
    {
      "cell_type": "markdown",
      "source": [
        "For some operations, cuDNN (NVIDIA's library for deep neural networks) uses algorithms that can produce different results on different runs, *even* with the same inputs and the same seed. Below we set `deterministic = True`, forcing cuDNN to use deterministic algorithms where possible. This might limit cuDNN to a subset of algorithms that might not be  the most efficient, but will produce the same results across different runs."
      ],
      "metadata": {
        "id": "WB-2WlPSU8Fl"
      }
    },
    {
      "cell_type": "code",
      "source": [
        "torch.backends.cudnn.deterministic = True"
      ],
      "metadata": {
        "id": "rNcVjPZPVJuf"
      },
      "execution_count": 3,
      "outputs": []
    },
    {
      "cell_type": "markdown",
      "source": [
        "Finally, when `benchmark = True`, cuDNN will automatically find the most efficient algorithms for your specific operations based on your network architecture and input sizes. This can greatly improve performance. However, since the selection of algorithms might change from one run to another, this can lead to non-deterministic behavior. Setting it to `benchmark = False` prevents cuDNN from dynamically selecting algorithms, thus improving reproducibility at the cost of potential performance gains."
      ],
      "metadata": {
        "id": "YDdgn57QVLI5"
      }
    },
    {
      "cell_type": "code",
      "source": [
        "torch.backends.cudnn.benchmark = False"
      ],
      "metadata": {
        "id": "Vl8AGAIfVS9J"
      },
      "execution_count": 4,
      "outputs": []
    },
    {
      "cell_type": "markdown",
      "source": [
        "Enough about reproducibility, let's move on to the meat!"
      ],
      "metadata": {
        "id": "4AOnQMcxVTa7"
      }
    },
    {
      "cell_type": "markdown",
      "metadata": {
        "id": "GPHftSvUaIhe"
      },
      "source": [
        "##Linear models\n"
      ]
    },
    {
      "cell_type": "markdown",
      "source": [
        "Today we'll work with **linear models**. Don't underestimate their power! Linear models are simple, but they are at the heart of several effective pipelines. They will provide solid baselines for our experiments at the very least, and are a useful tool to study more advanced topics in modern deep learning."
      ],
      "metadata": {
        "id": "sCRBI35LWCvt"
      }
    },
    {
      "cell_type": "markdown",
      "metadata": {
        "id": "0PAIT1NjFUhk"
      },
      "source": [
        "###The regression problem\n"
      ]
    },
    {
      "cell_type": "markdown",
      "source": [
        "####The general definition\n",
        "We observe a phenomenon $\\mathcal{P}$ where a variable of interest $t$ depends on another variable $x$.\n",
        "\n",
        "**Problem**: Given a set of $N$ paired observations $(x, t)$, $\\mathbf{D}=\\{(x_1, t_1),...,(x_N, t_N)\\}$, and a new *input* instance $x_i$, find the corresponding *target* $t_i$."
      ],
      "metadata": {
        "id": "8htU_ACVGQY5"
      }
    },
    {
      "cell_type": "markdown",
      "metadata": {
        "id": "i8kq5mSFOHul"
      },
      "source": [
        "####Our workspace\n",
        "\n",
        "In our workspace, the underlying law governing our phenomenon $\\mathcal{P}$ links $t$ to a $x \\in [0,1]$ through a $\\sin$ function.\n",
        "For our purposes, we are going to synthetically generate a set of observations --our *dataset*-- following this rule:\n",
        "\n",
        "$$t=\\sin(2\\pi x) + 0.1\\epsilon \\;\\;\\;\\;\\;\\;\\;\\;\\; \\epsilon \\sim \\mathcal{N}(0,1)$$\n",
        "\n",
        "where $\\sim \\mathcal{N}(0,1)$ means \"*sampled from a gaussian distribution with $\\mu=0$ and $\\sigma=1$*\".\n",
        "\n",
        "In this way, we are simulating the measurement process of any phenomenon: there is a global and general regularity (that we wish to discover) but all observations are plagued by uncertainty, here modeled with gaussian noise. Uncertainty usually comes from the finite precision of our measuring instrument, but may also be due to sources of variability we do not care about. Sometimes the problem we are tackling is intrinsically stochastic --such as measurements in quantum mechanics or idealized scenarios like the multi-armed bandit-- and we want to figure out just the non-stochastic part of the underlying rule.\n",
        "\n",
        "This is our dataset:"
      ]
    },
    {
      "cell_type": "code",
      "metadata": {
        "id": "qJyjckvQE-aZ"
      },
      "source": [
        "x = np.random.rand(10)\n",
        "t = np.sin(2 * np.pi * x) + 0.1 * np.random.randn(10)"
      ],
      "execution_count": 5,
      "outputs": []
    },
    {
      "cell_type": "code",
      "metadata": {
        "id": "IMJNXRXZGJS0",
        "outputId": "14687ba3-1a86-4ae5-c511-b02f1de4b940",
        "colab": {
          "base_uri": "https://localhost:8080/",
          "height": 542
        }
      },
      "source": [
        "fig = px.scatter(x=x, y=t)\n",
        "fig.show()"
      ],
      "execution_count": 6,
      "outputs": [
        {
          "output_type": "display_data",
          "data": {
            "text/html": [
              "<html>\n",
              "<head><meta charset=\"utf-8\" /></head>\n",
              "<body>\n",
              "    <div>            <script src=\"https://cdnjs.cloudflare.com/ajax/libs/mathjax/2.7.5/MathJax.js?config=TeX-AMS-MML_SVG\"></script><script type=\"text/javascript\">if (window.MathJax && window.MathJax.Hub && window.MathJax.Hub.Config) {window.MathJax.Hub.Config({SVG: {font: \"STIX-Web\"}});}</script>                <script type=\"text/javascript\">window.PlotlyConfig = {MathJaxConfig: 'local'};</script>\n",
              "        <script charset=\"utf-8\" src=\"https://cdn.plot.ly/plotly-2.35.2.min.js\"></script>                <div id=\"9fb39438-4b35-47d7-aa83-85dd83e88efc\" class=\"plotly-graph-div\" style=\"height:525px; width:100%;\"></div>            <script type=\"text/javascript\">                                    window.PLOTLYENV=window.PLOTLYENV || {};                                    if (document.getElementById(\"9fb39438-4b35-47d7-aa83-85dd83e88efc\")) {                    Plotly.newPlot(                        \"9fb39438-4b35-47d7-aa83-85dd83e88efc\",                        [{\"hovertemplate\":\"x=%{x}\\u003cbr\\u003ey=%{y}\\u003cextra\\u003e\\u003c\\u002fextra\\u003e\",\"legendgroup\":\"\",\"marker\":{\"color\":\"#636efa\",\"symbol\":\"circle\"},\"mode\":\"markers\",\"name\":\"\",\"orientation\":\"v\",\"showlegend\":false,\"x\":[0.3745401188473625,0.9507143064099162,0.7319939418114051,0.5986584841970366,0.15601864044243652,0.15599452033620265,0.05808361216819946,0.8661761457749352,0.6011150117432088,0.7080725777960455],\"xaxis\":\"x\",\"y\":[0.6621995859491285,-0.2504894367193866,-1.0399487832345553,-0.6275182299806012,0.854857342681687,0.6392487011533475,0.18441089666331875,-0.8014323286500792,-0.6947217251134631,-0.9340757540684701],\"yaxis\":\"y\",\"type\":\"scatter\"}],                        {\"template\":{\"data\":{\"histogram2dcontour\":[{\"type\":\"histogram2dcontour\",\"colorbar\":{\"outlinewidth\":0,\"ticks\":\"\"},\"colorscale\":[[0.0,\"#0d0887\"],[0.1111111111111111,\"#46039f\"],[0.2222222222222222,\"#7201a8\"],[0.3333333333333333,\"#9c179e\"],[0.4444444444444444,\"#bd3786\"],[0.5555555555555556,\"#d8576b\"],[0.6666666666666666,\"#ed7953\"],[0.7777777777777778,\"#fb9f3a\"],[0.8888888888888888,\"#fdca26\"],[1.0,\"#f0f921\"]]}],\"choropleth\":[{\"type\":\"choropleth\",\"colorbar\":{\"outlinewidth\":0,\"ticks\":\"\"}}],\"histogram2d\":[{\"type\":\"histogram2d\",\"colorbar\":{\"outlinewidth\":0,\"ticks\":\"\"},\"colorscale\":[[0.0,\"#0d0887\"],[0.1111111111111111,\"#46039f\"],[0.2222222222222222,\"#7201a8\"],[0.3333333333333333,\"#9c179e\"],[0.4444444444444444,\"#bd3786\"],[0.5555555555555556,\"#d8576b\"],[0.6666666666666666,\"#ed7953\"],[0.7777777777777778,\"#fb9f3a\"],[0.8888888888888888,\"#fdca26\"],[1.0,\"#f0f921\"]]}],\"heatmap\":[{\"type\":\"heatmap\",\"colorbar\":{\"outlinewidth\":0,\"ticks\":\"\"},\"colorscale\":[[0.0,\"#0d0887\"],[0.1111111111111111,\"#46039f\"],[0.2222222222222222,\"#7201a8\"],[0.3333333333333333,\"#9c179e\"],[0.4444444444444444,\"#bd3786\"],[0.5555555555555556,\"#d8576b\"],[0.6666666666666666,\"#ed7953\"],[0.7777777777777778,\"#fb9f3a\"],[0.8888888888888888,\"#fdca26\"],[1.0,\"#f0f921\"]]}],\"heatmapgl\":[{\"type\":\"heatmapgl\",\"colorbar\":{\"outlinewidth\":0,\"ticks\":\"\"},\"colorscale\":[[0.0,\"#0d0887\"],[0.1111111111111111,\"#46039f\"],[0.2222222222222222,\"#7201a8\"],[0.3333333333333333,\"#9c179e\"],[0.4444444444444444,\"#bd3786\"],[0.5555555555555556,\"#d8576b\"],[0.6666666666666666,\"#ed7953\"],[0.7777777777777778,\"#fb9f3a\"],[0.8888888888888888,\"#fdca26\"],[1.0,\"#f0f921\"]]}],\"contourcarpet\":[{\"type\":\"contourcarpet\",\"colorbar\":{\"outlinewidth\":0,\"ticks\":\"\"}}],\"contour\":[{\"type\":\"contour\",\"colorbar\":{\"outlinewidth\":0,\"ticks\":\"\"},\"colorscale\":[[0.0,\"#0d0887\"],[0.1111111111111111,\"#46039f\"],[0.2222222222222222,\"#7201a8\"],[0.3333333333333333,\"#9c179e\"],[0.4444444444444444,\"#bd3786\"],[0.5555555555555556,\"#d8576b\"],[0.6666666666666666,\"#ed7953\"],[0.7777777777777778,\"#fb9f3a\"],[0.8888888888888888,\"#fdca26\"],[1.0,\"#f0f921\"]]}],\"surface\":[{\"type\":\"surface\",\"colorbar\":{\"outlinewidth\":0,\"ticks\":\"\"},\"colorscale\":[[0.0,\"#0d0887\"],[0.1111111111111111,\"#46039f\"],[0.2222222222222222,\"#7201a8\"],[0.3333333333333333,\"#9c179e\"],[0.4444444444444444,\"#bd3786\"],[0.5555555555555556,\"#d8576b\"],[0.6666666666666666,\"#ed7953\"],[0.7777777777777778,\"#fb9f3a\"],[0.8888888888888888,\"#fdca26\"],[1.0,\"#f0f921\"]]}],\"mesh3d\":[{\"type\":\"mesh3d\",\"colorbar\":{\"outlinewidth\":0,\"ticks\":\"\"}}],\"scatter\":[{\"fillpattern\":{\"fillmode\":\"overlay\",\"size\":10,\"solidity\":0.2},\"type\":\"scatter\"}],\"parcoords\":[{\"type\":\"parcoords\",\"line\":{\"colorbar\":{\"outlinewidth\":0,\"ticks\":\"\"}}}],\"scatterpolargl\":[{\"type\":\"scatterpolargl\",\"marker\":{\"colorbar\":{\"outlinewidth\":0,\"ticks\":\"\"}}}],\"bar\":[{\"error_x\":{\"color\":\"#2a3f5f\"},\"error_y\":{\"color\":\"#2a3f5f\"},\"marker\":{\"line\":{\"color\":\"#E5ECF6\",\"width\":0.5},\"pattern\":{\"fillmode\":\"overlay\",\"size\":10,\"solidity\":0.2}},\"type\":\"bar\"}],\"scattergeo\":[{\"type\":\"scattergeo\",\"marker\":{\"colorbar\":{\"outlinewidth\":0,\"ticks\":\"\"}}}],\"scatterpolar\":[{\"type\":\"scatterpolar\",\"marker\":{\"colorbar\":{\"outlinewidth\":0,\"ticks\":\"\"}}}],\"histogram\":[{\"marker\":{\"pattern\":{\"fillmode\":\"overlay\",\"size\":10,\"solidity\":0.2}},\"type\":\"histogram\"}],\"scattergl\":[{\"type\":\"scattergl\",\"marker\":{\"colorbar\":{\"outlinewidth\":0,\"ticks\":\"\"}}}],\"scatter3d\":[{\"type\":\"scatter3d\",\"line\":{\"colorbar\":{\"outlinewidth\":0,\"ticks\":\"\"}},\"marker\":{\"colorbar\":{\"outlinewidth\":0,\"ticks\":\"\"}}}],\"scattermapbox\":[{\"type\":\"scattermapbox\",\"marker\":{\"colorbar\":{\"outlinewidth\":0,\"ticks\":\"\"}}}],\"scatterternary\":[{\"type\":\"scatterternary\",\"marker\":{\"colorbar\":{\"outlinewidth\":0,\"ticks\":\"\"}}}],\"scattercarpet\":[{\"type\":\"scattercarpet\",\"marker\":{\"colorbar\":{\"outlinewidth\":0,\"ticks\":\"\"}}}],\"carpet\":[{\"aaxis\":{\"endlinecolor\":\"#2a3f5f\",\"gridcolor\":\"white\",\"linecolor\":\"white\",\"minorgridcolor\":\"white\",\"startlinecolor\":\"#2a3f5f\"},\"baxis\":{\"endlinecolor\":\"#2a3f5f\",\"gridcolor\":\"white\",\"linecolor\":\"white\",\"minorgridcolor\":\"white\",\"startlinecolor\":\"#2a3f5f\"},\"type\":\"carpet\"}],\"table\":[{\"cells\":{\"fill\":{\"color\":\"#EBF0F8\"},\"line\":{\"color\":\"white\"}},\"header\":{\"fill\":{\"color\":\"#C8D4E3\"},\"line\":{\"color\":\"white\"}},\"type\":\"table\"}],\"barpolar\":[{\"marker\":{\"line\":{\"color\":\"#E5ECF6\",\"width\":0.5},\"pattern\":{\"fillmode\":\"overlay\",\"size\":10,\"solidity\":0.2}},\"type\":\"barpolar\"}],\"pie\":[{\"automargin\":true,\"type\":\"pie\"}]},\"layout\":{\"autotypenumbers\":\"strict\",\"colorway\":[\"#636efa\",\"#EF553B\",\"#00cc96\",\"#ab63fa\",\"#FFA15A\",\"#19d3f3\",\"#FF6692\",\"#B6E880\",\"#FF97FF\",\"#FECB52\"],\"font\":{\"color\":\"#2a3f5f\"},\"hovermode\":\"closest\",\"hoverlabel\":{\"align\":\"left\"},\"paper_bgcolor\":\"white\",\"plot_bgcolor\":\"#E5ECF6\",\"polar\":{\"bgcolor\":\"#E5ECF6\",\"angularaxis\":{\"gridcolor\":\"white\",\"linecolor\":\"white\",\"ticks\":\"\"},\"radialaxis\":{\"gridcolor\":\"white\",\"linecolor\":\"white\",\"ticks\":\"\"}},\"ternary\":{\"bgcolor\":\"#E5ECF6\",\"aaxis\":{\"gridcolor\":\"white\",\"linecolor\":\"white\",\"ticks\":\"\"},\"baxis\":{\"gridcolor\":\"white\",\"linecolor\":\"white\",\"ticks\":\"\"},\"caxis\":{\"gridcolor\":\"white\",\"linecolor\":\"white\",\"ticks\":\"\"}},\"coloraxis\":{\"colorbar\":{\"outlinewidth\":0,\"ticks\":\"\"}},\"colorscale\":{\"sequential\":[[0.0,\"#0d0887\"],[0.1111111111111111,\"#46039f\"],[0.2222222222222222,\"#7201a8\"],[0.3333333333333333,\"#9c179e\"],[0.4444444444444444,\"#bd3786\"],[0.5555555555555556,\"#d8576b\"],[0.6666666666666666,\"#ed7953\"],[0.7777777777777778,\"#fb9f3a\"],[0.8888888888888888,\"#fdca26\"],[1.0,\"#f0f921\"]],\"sequentialminus\":[[0.0,\"#0d0887\"],[0.1111111111111111,\"#46039f\"],[0.2222222222222222,\"#7201a8\"],[0.3333333333333333,\"#9c179e\"],[0.4444444444444444,\"#bd3786\"],[0.5555555555555556,\"#d8576b\"],[0.6666666666666666,\"#ed7953\"],[0.7777777777777778,\"#fb9f3a\"],[0.8888888888888888,\"#fdca26\"],[1.0,\"#f0f921\"]],\"diverging\":[[0,\"#8e0152\"],[0.1,\"#c51b7d\"],[0.2,\"#de77ae\"],[0.3,\"#f1b6da\"],[0.4,\"#fde0ef\"],[0.5,\"#f7f7f7\"],[0.6,\"#e6f5d0\"],[0.7,\"#b8e186\"],[0.8,\"#7fbc41\"],[0.9,\"#4d9221\"],[1,\"#276419\"]]},\"xaxis\":{\"gridcolor\":\"white\",\"linecolor\":\"white\",\"ticks\":\"\",\"title\":{\"standoff\":15},\"zerolinecolor\":\"white\",\"automargin\":true,\"zerolinewidth\":2},\"yaxis\":{\"gridcolor\":\"white\",\"linecolor\":\"white\",\"ticks\":\"\",\"title\":{\"standoff\":15},\"zerolinecolor\":\"white\",\"automargin\":true,\"zerolinewidth\":2},\"scene\":{\"xaxis\":{\"backgroundcolor\":\"#E5ECF6\",\"gridcolor\":\"white\",\"linecolor\":\"white\",\"showbackground\":true,\"ticks\":\"\",\"zerolinecolor\":\"white\",\"gridwidth\":2},\"yaxis\":{\"backgroundcolor\":\"#E5ECF6\",\"gridcolor\":\"white\",\"linecolor\":\"white\",\"showbackground\":true,\"ticks\":\"\",\"zerolinecolor\":\"white\",\"gridwidth\":2},\"zaxis\":{\"backgroundcolor\":\"#E5ECF6\",\"gridcolor\":\"white\",\"linecolor\":\"white\",\"showbackground\":true,\"ticks\":\"\",\"zerolinecolor\":\"white\",\"gridwidth\":2}},\"shapedefaults\":{\"line\":{\"color\":\"#2a3f5f\"}},\"annotationdefaults\":{\"arrowcolor\":\"#2a3f5f\",\"arrowhead\":0,\"arrowwidth\":1},\"geo\":{\"bgcolor\":\"white\",\"landcolor\":\"#E5ECF6\",\"subunitcolor\":\"white\",\"showland\":true,\"showlakes\":true,\"lakecolor\":\"white\"},\"title\":{\"x\":0.05},\"mapbox\":{\"style\":\"light\"}}},\"xaxis\":{\"anchor\":\"y\",\"domain\":[0.0,1.0],\"title\":{\"text\":\"x\"}},\"yaxis\":{\"anchor\":\"x\",\"domain\":[0.0,1.0],\"title\":{\"text\":\"y\"}},\"legend\":{\"tracegroupgap\":0},\"margin\":{\"t\":60}},                        {\"responsive\": true}                    ).then(function(){\n",
              "                            \n",
              "var gd = document.getElementById('9fb39438-4b35-47d7-aa83-85dd83e88efc');\n",
              "var x = new MutationObserver(function (mutations, observer) {{\n",
              "        var display = window.getComputedStyle(gd).display;\n",
              "        if (!display || display === 'none') {{\n",
              "            console.log([gd, 'removed!']);\n",
              "            Plotly.purge(gd);\n",
              "            observer.disconnect();\n",
              "        }}\n",
              "}});\n",
              "\n",
              "// Listen for the removal of the full notebook cells\n",
              "var notebookContainer = gd.closest('#notebook-container');\n",
              "if (notebookContainer) {{\n",
              "    x.observe(notebookContainer, {childList: true});\n",
              "}}\n",
              "\n",
              "// Listen for the clearing of the current output cell\n",
              "var outputEl = gd.closest('.output');\n",
              "if (outputEl) {{\n",
              "    x.observe(outputEl, {childList: true});\n",
              "}}\n",
              "\n",
              "                        })                };                            </script>        </div>\n",
              "</body>\n",
              "</html>"
            ]
          },
          "metadata": {}
        }
      ]
    },
    {
      "cell_type": "markdown",
      "metadata": {
        "id": "SN_Ao9LRMr7s"
      },
      "source": [
        "It seems we have very little to work with! Just a handful of noisy points.\n",
        "\n",
        "How is it possible to devise a rule $f$ that is valid in general --i.e. for all the *infinite* points $x_i$ between 0 and 1 shall occur $t_i=f(x_i)$-- from such a *finite* set of observations?\n",
        "\n",
        "If we collect just 10 points and each of them agrees with a precise rule, why does that give us *any grounds* --even probabilistic grounds-- to expect the 11[$^{st}$](https://translate.google.com/translate?sl=it&tl=en&u=https://it.wikipedia.org/wiki/Tacchino_induttivista) point to follow the same rule?\n",
        "\n",
        "This is the essence of the so called [*Problem of induction*](https://ar5iv.labs.arxiv.org/html/1108.1791#S7) raised by David Hume more than two centuries ago. Still today this problem is at the core of the philosophical debate on the nature of knowledge."
      ]
    },
    {
      "cell_type": "markdown",
      "metadata": {
        "id": "mhRdUyWpwX-v"
      },
      "source": [
        "### Where to restart from?"
      ]
    },
    {
      "cell_type": "markdown",
      "source": [
        "We will take a very pragmatic point of view. Even if induction cannot be justified in general, we note that \"often it seems to work\". Therefore we proceed with our quest to find $f$.\n",
        "\n",
        "First of all, we observe that the quality of our guess $f$ depends crucially on how much information about the phenomenon $\\mathcal{P}$ we are given in advance, i.e. what **priors** do we have.\n",
        "\n",
        "\n",
        "\n",
        "**EXERCISE**: Suppose you have to guess this general rule $f$ to make predictions for new $x_i \\in [0,1]$. In which of the following scenarios would you like to find yourself to make the most accurate predictions?\n",
        "\n",
        "Write down a ranking from best to worst scenario, and then compare your ranking with those of your neighbors.\n",
        "\n",
        "For each scenario below, we give you a description of the available priors together with a plot.\n",
        "\n",
        "\n",
        "> **Scenario A**\n",
        ">\n",
        "> *priors:*\n",
        "> - 20 observations $(x_i,t_i)$ in the interval $[0,1]$ affected by a gaussian noise $0.1*\\epsilon$ where $\\epsilon \\sim \\mathcal{N}(0,1)$.\n",
        "\n",
        "> **Scenario B**\n",
        ">\n",
        "> *priors:*\n",
        "> - 20 observations $(x_i,t_i)$ in the interval $[0,1]$ affected by a gaussian noise $0.5*\\epsilon$ where $\\epsilon \\sim \\mathcal{N}(0,1)$\n",
        "\n",
        "> **Scenario C**\n",
        ">\n",
        "> *priors:*\n",
        "> - 40 observations $(x_i,t_i)$ in the interval $[0,1]$ affected by a gaussian noise $0.1*\\epsilon$ where $\\epsilon \\sim \\mathcal{N}(0,1)$\n",
        "\n",
        "> **Scenario D**\n",
        ">\n",
        "> *priors:*\n",
        "> - 100 observations $(x_i,t_i)$ in the interval $[0,0.3]$ affected by a gaussian noise $0.1*\\epsilon$ where $\\epsilon \\sim \\mathcal{N}(0,1)$\n",
        "\n",
        "> **Scenario E**\n",
        ">\n",
        "> *priors:*\n",
        "> - 10 observations $(x_i,t_i)$ in the interval $[0,1]$ affected by a gaussian noise $0.1*\\epsilon$ where $\\epsilon \\sim \\mathcal{N}(0,1)$\n",
        "> - you know that $f$ is in the form $f(x)=\\sin(kx)$ with $k\\in \\mathbb{R}$\n"
      ],
      "metadata": {
        "id": "4P5vTHieHC2R"
      }
    },
    {
      "cell_type": "code",
      "metadata": {
        "id": "3drUw3Pc8RWr",
        "colab": {
          "base_uri": "https://localhost:8080/",
          "height": 542
        },
        "outputId": "251d6650-5b88-4090-c5e3-87dd0f49fbfc",
        "cellView": "form"
      },
      "source": [
        "# @title Scenario plots\n",
        "\n",
        "xA = np.random.rand(20)\n",
        "tA = np.sin(2 * np.pi * xA) + 0.1 * np.random.randn(20)\n",
        "\n",
        "xB = np.random.rand(20)\n",
        "tB = np.sin(2 * np.pi * xB) + 0.5 * np.random.randn(20)\n",
        "\n",
        "xC = np.random.rand(40)\n",
        "tC = np.sin(2 * np.pi * xC) + 0.1 * np.random.randn(40)\n",
        "\n",
        "xD = np.random.rand(100) * 0.3\n",
        "tD = np.sin(2 * np.pi * xD) + 0.1 * np.random.randn(100)\n",
        "\n",
        "xE = np.random.rand(10)\n",
        "tE = np.sin(2 * np.pi * xE) + 0.1 * np.random.randn(10)\n",
        "\n",
        "fig = make_subplots(\n",
        "    rows=1, cols=5,\n",
        "    subplot_titles=(\"Scenario A\", \"Scenario B\", \"Scenario C\", \"Scenario D\", \"Scenario E\"))\n",
        "\n",
        "fig.add_trace(go.Scatter(x=xA, y=tA, mode='markers', marker=dict(color=\"mediumpurple\")),\n",
        "              row=1, col=1)\n",
        "\n",
        "fig.add_trace(go.Scatter(x=xB, y=tB, mode='markers', marker=dict(color=\"mediumpurple\")),\n",
        "              row=1, col=2)\n",
        "\n",
        "fig.add_trace(go.Scatter(x=xC, y=tC, mode='markers', marker=dict(color=\"mediumpurple\")),\n",
        "              row=1, col=3)\n",
        "\n",
        "fig.add_trace(go.Scatter(x=xD, y=tD, mode='markers', marker=dict(color=\"mediumpurple\")),\n",
        "              row=1, col=4)\n",
        "\n",
        "fig.add_trace(go.Scatter(x=xE, y=tE, mode='markers', marker=dict(color=\"crimson\")),\n",
        "              row=1, col=5)\n",
        "\n",
        "fig.update_xaxes(title_text=\"x\", range=[0, 1])\n",
        "fig.update_yaxes(title_text=\"\", range=[-1.7, 1.7])\n",
        "fig.update_layout(showlegend=False)\n",
        "\n",
        "fig.show()"
      ],
      "execution_count": 7,
      "outputs": [
        {
          "output_type": "display_data",
          "data": {
            "text/html": [
              "<html>\n",
              "<head><meta charset=\"utf-8\" /></head>\n",
              "<body>\n",
              "    <div>            <script src=\"https://cdnjs.cloudflare.com/ajax/libs/mathjax/2.7.5/MathJax.js?config=TeX-AMS-MML_SVG\"></script><script type=\"text/javascript\">if (window.MathJax && window.MathJax.Hub && window.MathJax.Hub.Config) {window.MathJax.Hub.Config({SVG: {font: \"STIX-Web\"}});}</script>                <script type=\"text/javascript\">window.PlotlyConfig = {MathJaxConfig: 'local'};</script>\n",
              "        <script charset=\"utf-8\" src=\"https://cdn.plot.ly/plotly-2.35.2.min.js\"></script>                <div id=\"ea5ad965-80a0-40d3-8d87-f9e664e46366\" class=\"plotly-graph-div\" style=\"height:525px; width:100%;\"></div>            <script type=\"text/javascript\">                                    window.PLOTLYENV=window.PLOTLYENV || {};                                    if (document.getElementById(\"ea5ad965-80a0-40d3-8d87-f9e664e46366\")) {                    Plotly.newPlot(                        \"ea5ad965-80a0-40d3-8d87-f9e664e46366\",                        [{\"marker\":{\"color\":\"mediumpurple\"},\"mode\":\"markers\",\"x\":[0.29214464853521815,0.3663618432936917,0.45606998421703593,0.7851759613930136,0.19967378215835974,0.5142344384136116,0.5924145688620425,0.046450412719997725,0.6075448519014384,0.17052412368729153,0.06505159298527952,0.9488855372533332,0.9656320330745594,0.8083973481164611,0.3046137691733707,0.09767211400638387,0.6842330265121569,0.4401524937396013,0.12203823484477883,0.4951769101112702],\"y\":[1.0473986646372184,0.6223406569333729,0.2934152421753372,-1.171641999181489,0.8176025258895546,-0.06963230184878447,-0.4747274365242228,0.3048675877466595,-0.6370273950283458,0.8477780508141505,0.2495931776706199,-0.3876534400464828,-0.26032986655933765,-0.8277239867725625,0.9760618621915267,0.3995856670069373,-0.8834217094123248,0.3287252937868287,0.6261341303657666,0.09146735826145963],\"type\":\"scatter\",\"xaxis\":\"x\",\"yaxis\":\"y\"},{\"marker\":{\"color\":\"mediumpurple\"},\"mode\":\"markers\",\"x\":[0.005522117123602399,0.8154614284548342,0.7068573438476171,0.7290071680409873,0.7712703466859457,0.07404465173409036,0.3584657285442726,0.11586905952512971,0.8631034258755935,0.6232981268275579,0.3308980248526492,0.06355835028602363,0.3109823217156622,0.32518332202674705,0.7296061783380641,0.6375574713552131,0.8872127425763265,0.4722149251619493,0.1195942459383017,0.713244787222995],\"y\":[0.2153873268108042,-0.14758105968559254,-0.9813970771358488,-0.20899172756978435,-2.300955272813918,0.8595852224156049,0.820145717991251,0.515894263730882,-0.7120577767262324,-1.6932897329097907,0.7637385267809292,0.5673748359932289,1.6664337078529434,0.6313478968344268,-1.3960483343758894,-1.0115189555624717,-0.19311838126033076,0.3380688845501171,0.4178063284244009,-0.7168179922721039],\"type\":\"scatter\",\"xaxis\":\"x2\",\"yaxis\":\"y2\"},{\"marker\":{\"color\":\"mediumpurple\"},\"mode\":\"markers\",\"x\":[0.8925589984899778,0.5393422419156507,0.8074401551640625,0.8960912999234932,0.3180034749718639,0.11005192452767676,0.22793516254194168,0.4271077886262563,0.8180147659224931,0.8607305832563434,0.006952130531190703,0.5107473025775657,0.417411003148779,0.22210781047073025,0.1198653673336828,0.33761517140362796,0.9429097039125192,0.32320293202075523,0.5187906217433661,0.7030189588951778,0.363629602379294,0.9717820827209607,0.9624472949421112,0.25178229582536416,0.49724850589238545,0.30087830981676966,0.2848404943774676,0.036886947354532795,0.6095643339798968,0.5026790232288615,0.05147875124998935,0.27864646423661144,0.9082658859666537,0.23956189066697242,0.1448948720912231,0.489452760277563,0.9856504541106007,0.2420552715115004,0.6721355474058786,0.7616196153287176],\"y\":[-0.5458501143397135,-0.3356235442910603,-0.7952974458681501,-0.7476598279337927,0.9687826324163429,0.8567208994483376,0.8913515771922633,0.385521101140059,-0.9001023857248115,-0.8179266757765974,-0.11139870864918461,-0.060619687850113776,0.3897139441639967,1.0320419111183123,0.5919877870607935,1.0072552790717517,-0.4293909417964871,0.8638696133639039,-0.03643913666568993,-1.0798331452977148,0.7785233870777207,-0.045656698970320264,-0.3945156802943589,1.0184006833640145,0.04327556560710827,1.0275189940299556,0.8524398245980173,0.09765248553567893,-0.5831182675564751,0.012866462832574338,0.3428893351058709,1.0184901172314904,-0.612996873677882,1.0210754722494138,0.8190572388783036,-0.00521337654043931,0.09653869820973064,1.0461376373754585,-1.0018221402938086,-0.9316807243537488],\"type\":\"scatter\",\"xaxis\":\"x3\",\"yaxis\":\"y3\"},{\"marker\":{\"color\":\"mediumpurple\"},\"mode\":\"markers\",\"x\":[0.21365376640426076,0.07117472624904002,0.09761990944778032,0.22394742153540723,0.1948898697141644,0.2547670231482534,0.197283867690103,0.1704925810006415,0.028102430348427743,0.11031474091783006,0.07956071030451763,0.07319689301372508,0.29190316642573366,0.11792931740002811,0.26761396655313396,0.18934158779917887,0.23844339106249451,0.15079112793155763,0.17307116538790773,0.14775530814565915,0.058572896339413344,0.2167356345784516,0.08423170873225673,0.007294789929436152,0.19364168877215035,0.05313320382211468,0.2821375753058743,0.2861785731007762,0.2744593170661345,0.11104761007663332,0.004636984958660229,0.2784955687763176,0.1284552444951943,0.28999644571310085,0.28908599312677585,0.255902836640208,0.0883346676208757,0.11552931858057758,0.25534100145505706,0.0950766015468833,0.05084782400582775,0.16704037873750505,0.2808464322482343,0.2088089390024919,0.17101835102680948,0.02915294813123056,0.18450216800975092,0.297016155031279,0.04202520457095721,0.155498895709121,0.26321192157838663,0.22223058532626133,0.20910472229858038,0.21074522519613278,0.10784734536592655,0.088077553279348,0.24280834664355408,0.24303401840375422,0.2601216955740311,0.2739721657669414,0.15340271965828134,0.15045488840615986,0.23948855369003252,0.19498917923332953,0.210590063177311,0.2387378008308303,0.2670016025452699,0.10139854705546074,0.1126748857919832,0.028194581952260697,0.1734840422988522,0.010782682139022625,0.13967940543973803,0.16279339041227298,0.08596237563848531,0.17724997817070323,0.009150074981714829,0.011204456624764325,0.24678016819789747,0.10805719242337887,0.038118153795565435,0.1566729780164413,0.23099806592958325,0.06474630824905295,0.18686714274570007,0.0256042394981304,0.01550451635058231,0.1594063894704444,0.16219053648303194,0.19122897044946197,0.21782740011679846,0.29275562383876036,0.1548901044903586,0.09688694188237379,0.23855585843061108,0.08124967537862227,0.13169142621169083,0.023536914402679788,0.007605223024637253,0.2887945244033775],\"y\":[1.0245354052648041,0.5190217012945867,0.4555918529463594,0.953182037930033,0.8931516164622207,0.9342185464347299,1.122190030978894,0.9182916686226423,0.04956828188807677,0.7307326851603748,0.6915487339294399,0.5471136663375872,0.8136031655938346,0.6265817959130471,1.120573237774318,0.8574786835278394,1.041746826755194,0.8893921576797281,0.792746165799121,0.7946942566945034,0.03564605180553432,0.8757988408299362,0.479623611560726,-0.07895984782191007,1.1011967027453649,0.18466474242996847,0.9356776061269534,0.9873486835895604,1.132341409903907,0.4988957002856807,0.14544728927161799,0.9850378904931532,0.6241393262395908,1.0147990621164746,0.9899013454740325,0.9392906083863244,0.533943129117044,0.6252715681020851,1.010788700843733,0.6286944554831024,0.4726805791729871,0.7434155164684184,1.1945801530163491,0.7714861660612208,0.8641927064886631,0.24098249272510502,0.9446070577950813,0.8944125530060174,0.24018216063614214,0.7795383514712947,0.9376199274539417,1.0697770860337474,1.002870463504912,0.9004460419355562,0.7169043923746283,0.5563191936571572,1.0802654761103807,1.0620051939678787,0.9150789237018115,0.9326598981981646,0.8961273039617218,0.871730691530382,0.995729638158491,0.9525904746979749,1.09726500369009,0.9383402410693642,1.0490094549864089,0.5746523017028511,0.6285151001201837,0.2861043359717379,0.9691835267504757,0.1490487369665766,0.8997755629123495,0.8557022868529239,0.5824320965201186,0.8663086771221707,0.08987658612804088,0.05732723473393957,1.009494960847243,0.6874867641912586,0.15539818555909518,1.0421819125760046,0.8922794190632143,0.2742656316464558,1.0381616330865717,0.23934940494528323,0.15967571818857207,0.9051581002808491,0.8503979210031914,0.8428659029939242,0.987218351156479,0.896416188438326,0.9242042353622808,0.5571437776983994,0.9148661818902639,0.45648087773868695,0.7774955244282766,0.09097586884858652,-0.0344551973712225,0.9948077146690533],\"type\":\"scatter\",\"xaxis\":\"x4\",\"yaxis\":\"y4\"},{\"marker\":{\"color\":\"crimson\"},\"mode\":\"markers\",\"x\":[0.08410680611499743,0.70096913145912,0.07276300636419353,0.8218600592903562,0.7062422271564962,0.08134878064189976,0.08483771408519192,0.9866395785011755,0.3742707957561203,0.3706421470668909],\"y\":[0.4323584300469619,-0.9742652642366553,0.4725133315290869,-0.7522536264180602,-0.8766760163182921,0.47316881517583953,0.5062618555254742,-0.18410038163147216,0.7084878034927269,0.697334875506115],\"type\":\"scatter\",\"xaxis\":\"x5\",\"yaxis\":\"y5\"}],                        {\"template\":{\"data\":{\"histogram2dcontour\":[{\"type\":\"histogram2dcontour\",\"colorbar\":{\"outlinewidth\":0,\"ticks\":\"\"},\"colorscale\":[[0.0,\"#0d0887\"],[0.1111111111111111,\"#46039f\"],[0.2222222222222222,\"#7201a8\"],[0.3333333333333333,\"#9c179e\"],[0.4444444444444444,\"#bd3786\"],[0.5555555555555556,\"#d8576b\"],[0.6666666666666666,\"#ed7953\"],[0.7777777777777778,\"#fb9f3a\"],[0.8888888888888888,\"#fdca26\"],[1.0,\"#f0f921\"]]}],\"choropleth\":[{\"type\":\"choropleth\",\"colorbar\":{\"outlinewidth\":0,\"ticks\":\"\"}}],\"histogram2d\":[{\"type\":\"histogram2d\",\"colorbar\":{\"outlinewidth\":0,\"ticks\":\"\"},\"colorscale\":[[0.0,\"#0d0887\"],[0.1111111111111111,\"#46039f\"],[0.2222222222222222,\"#7201a8\"],[0.3333333333333333,\"#9c179e\"],[0.4444444444444444,\"#bd3786\"],[0.5555555555555556,\"#d8576b\"],[0.6666666666666666,\"#ed7953\"],[0.7777777777777778,\"#fb9f3a\"],[0.8888888888888888,\"#fdca26\"],[1.0,\"#f0f921\"]]}],\"heatmap\":[{\"type\":\"heatmap\",\"colorbar\":{\"outlinewidth\":0,\"ticks\":\"\"},\"colorscale\":[[0.0,\"#0d0887\"],[0.1111111111111111,\"#46039f\"],[0.2222222222222222,\"#7201a8\"],[0.3333333333333333,\"#9c179e\"],[0.4444444444444444,\"#bd3786\"],[0.5555555555555556,\"#d8576b\"],[0.6666666666666666,\"#ed7953\"],[0.7777777777777778,\"#fb9f3a\"],[0.8888888888888888,\"#fdca26\"],[1.0,\"#f0f921\"]]}],\"heatmapgl\":[{\"type\":\"heatmapgl\",\"colorbar\":{\"outlinewidth\":0,\"ticks\":\"\"},\"colorscale\":[[0.0,\"#0d0887\"],[0.1111111111111111,\"#46039f\"],[0.2222222222222222,\"#7201a8\"],[0.3333333333333333,\"#9c179e\"],[0.4444444444444444,\"#bd3786\"],[0.5555555555555556,\"#d8576b\"],[0.6666666666666666,\"#ed7953\"],[0.7777777777777778,\"#fb9f3a\"],[0.8888888888888888,\"#fdca26\"],[1.0,\"#f0f921\"]]}],\"contourcarpet\":[{\"type\":\"contourcarpet\",\"colorbar\":{\"outlinewidth\":0,\"ticks\":\"\"}}],\"contour\":[{\"type\":\"contour\",\"colorbar\":{\"outlinewidth\":0,\"ticks\":\"\"},\"colorscale\":[[0.0,\"#0d0887\"],[0.1111111111111111,\"#46039f\"],[0.2222222222222222,\"#7201a8\"],[0.3333333333333333,\"#9c179e\"],[0.4444444444444444,\"#bd3786\"],[0.5555555555555556,\"#d8576b\"],[0.6666666666666666,\"#ed7953\"],[0.7777777777777778,\"#fb9f3a\"],[0.8888888888888888,\"#fdca26\"],[1.0,\"#f0f921\"]]}],\"surface\":[{\"type\":\"surface\",\"colorbar\":{\"outlinewidth\":0,\"ticks\":\"\"},\"colorscale\":[[0.0,\"#0d0887\"],[0.1111111111111111,\"#46039f\"],[0.2222222222222222,\"#7201a8\"],[0.3333333333333333,\"#9c179e\"],[0.4444444444444444,\"#bd3786\"],[0.5555555555555556,\"#d8576b\"],[0.6666666666666666,\"#ed7953\"],[0.7777777777777778,\"#fb9f3a\"],[0.8888888888888888,\"#fdca26\"],[1.0,\"#f0f921\"]]}],\"mesh3d\":[{\"type\":\"mesh3d\",\"colorbar\":{\"outlinewidth\":0,\"ticks\":\"\"}}],\"scatter\":[{\"fillpattern\":{\"fillmode\":\"overlay\",\"size\":10,\"solidity\":0.2},\"type\":\"scatter\"}],\"parcoords\":[{\"type\":\"parcoords\",\"line\":{\"colorbar\":{\"outlinewidth\":0,\"ticks\":\"\"}}}],\"scatterpolargl\":[{\"type\":\"scatterpolargl\",\"marker\":{\"colorbar\":{\"outlinewidth\":0,\"ticks\":\"\"}}}],\"bar\":[{\"error_x\":{\"color\":\"#2a3f5f\"},\"error_y\":{\"color\":\"#2a3f5f\"},\"marker\":{\"line\":{\"color\":\"#E5ECF6\",\"width\":0.5},\"pattern\":{\"fillmode\":\"overlay\",\"size\":10,\"solidity\":0.2}},\"type\":\"bar\"}],\"scattergeo\":[{\"type\":\"scattergeo\",\"marker\":{\"colorbar\":{\"outlinewidth\":0,\"ticks\":\"\"}}}],\"scatterpolar\":[{\"type\":\"scatterpolar\",\"marker\":{\"colorbar\":{\"outlinewidth\":0,\"ticks\":\"\"}}}],\"histogram\":[{\"marker\":{\"pattern\":{\"fillmode\":\"overlay\",\"size\":10,\"solidity\":0.2}},\"type\":\"histogram\"}],\"scattergl\":[{\"type\":\"scattergl\",\"marker\":{\"colorbar\":{\"outlinewidth\":0,\"ticks\":\"\"}}}],\"scatter3d\":[{\"type\":\"scatter3d\",\"line\":{\"colorbar\":{\"outlinewidth\":0,\"ticks\":\"\"}},\"marker\":{\"colorbar\":{\"outlinewidth\":0,\"ticks\":\"\"}}}],\"scattermapbox\":[{\"type\":\"scattermapbox\",\"marker\":{\"colorbar\":{\"outlinewidth\":0,\"ticks\":\"\"}}}],\"scatterternary\":[{\"type\":\"scatterternary\",\"marker\":{\"colorbar\":{\"outlinewidth\":0,\"ticks\":\"\"}}}],\"scattercarpet\":[{\"type\":\"scattercarpet\",\"marker\":{\"colorbar\":{\"outlinewidth\":0,\"ticks\":\"\"}}}],\"carpet\":[{\"aaxis\":{\"endlinecolor\":\"#2a3f5f\",\"gridcolor\":\"white\",\"linecolor\":\"white\",\"minorgridcolor\":\"white\",\"startlinecolor\":\"#2a3f5f\"},\"baxis\":{\"endlinecolor\":\"#2a3f5f\",\"gridcolor\":\"white\",\"linecolor\":\"white\",\"minorgridcolor\":\"white\",\"startlinecolor\":\"#2a3f5f\"},\"type\":\"carpet\"}],\"table\":[{\"cells\":{\"fill\":{\"color\":\"#EBF0F8\"},\"line\":{\"color\":\"white\"}},\"header\":{\"fill\":{\"color\":\"#C8D4E3\"},\"line\":{\"color\":\"white\"}},\"type\":\"table\"}],\"barpolar\":[{\"marker\":{\"line\":{\"color\":\"#E5ECF6\",\"width\":0.5},\"pattern\":{\"fillmode\":\"overlay\",\"size\":10,\"solidity\":0.2}},\"type\":\"barpolar\"}],\"pie\":[{\"automargin\":true,\"type\":\"pie\"}]},\"layout\":{\"autotypenumbers\":\"strict\",\"colorway\":[\"#636efa\",\"#EF553B\",\"#00cc96\",\"#ab63fa\",\"#FFA15A\",\"#19d3f3\",\"#FF6692\",\"#B6E880\",\"#FF97FF\",\"#FECB52\"],\"font\":{\"color\":\"#2a3f5f\"},\"hovermode\":\"closest\",\"hoverlabel\":{\"align\":\"left\"},\"paper_bgcolor\":\"white\",\"plot_bgcolor\":\"#E5ECF6\",\"polar\":{\"bgcolor\":\"#E5ECF6\",\"angularaxis\":{\"gridcolor\":\"white\",\"linecolor\":\"white\",\"ticks\":\"\"},\"radialaxis\":{\"gridcolor\":\"white\",\"linecolor\":\"white\",\"ticks\":\"\"}},\"ternary\":{\"bgcolor\":\"#E5ECF6\",\"aaxis\":{\"gridcolor\":\"white\",\"linecolor\":\"white\",\"ticks\":\"\"},\"baxis\":{\"gridcolor\":\"white\",\"linecolor\":\"white\",\"ticks\":\"\"},\"caxis\":{\"gridcolor\":\"white\",\"linecolor\":\"white\",\"ticks\":\"\"}},\"coloraxis\":{\"colorbar\":{\"outlinewidth\":0,\"ticks\":\"\"}},\"colorscale\":{\"sequential\":[[0.0,\"#0d0887\"],[0.1111111111111111,\"#46039f\"],[0.2222222222222222,\"#7201a8\"],[0.3333333333333333,\"#9c179e\"],[0.4444444444444444,\"#bd3786\"],[0.5555555555555556,\"#d8576b\"],[0.6666666666666666,\"#ed7953\"],[0.7777777777777778,\"#fb9f3a\"],[0.8888888888888888,\"#fdca26\"],[1.0,\"#f0f921\"]],\"sequentialminus\":[[0.0,\"#0d0887\"],[0.1111111111111111,\"#46039f\"],[0.2222222222222222,\"#7201a8\"],[0.3333333333333333,\"#9c179e\"],[0.4444444444444444,\"#bd3786\"],[0.5555555555555556,\"#d8576b\"],[0.6666666666666666,\"#ed7953\"],[0.7777777777777778,\"#fb9f3a\"],[0.8888888888888888,\"#fdca26\"],[1.0,\"#f0f921\"]],\"diverging\":[[0,\"#8e0152\"],[0.1,\"#c51b7d\"],[0.2,\"#de77ae\"],[0.3,\"#f1b6da\"],[0.4,\"#fde0ef\"],[0.5,\"#f7f7f7\"],[0.6,\"#e6f5d0\"],[0.7,\"#b8e186\"],[0.8,\"#7fbc41\"],[0.9,\"#4d9221\"],[1,\"#276419\"]]},\"xaxis\":{\"gridcolor\":\"white\",\"linecolor\":\"white\",\"ticks\":\"\",\"title\":{\"standoff\":15},\"zerolinecolor\":\"white\",\"automargin\":true,\"zerolinewidth\":2},\"yaxis\":{\"gridcolor\":\"white\",\"linecolor\":\"white\",\"ticks\":\"\",\"title\":{\"standoff\":15},\"zerolinecolor\":\"white\",\"automargin\":true,\"zerolinewidth\":2},\"scene\":{\"xaxis\":{\"backgroundcolor\":\"#E5ECF6\",\"gridcolor\":\"white\",\"linecolor\":\"white\",\"showbackground\":true,\"ticks\":\"\",\"zerolinecolor\":\"white\",\"gridwidth\":2},\"yaxis\":{\"backgroundcolor\":\"#E5ECF6\",\"gridcolor\":\"white\",\"linecolor\":\"white\",\"showbackground\":true,\"ticks\":\"\",\"zerolinecolor\":\"white\",\"gridwidth\":2},\"zaxis\":{\"backgroundcolor\":\"#E5ECF6\",\"gridcolor\":\"white\",\"linecolor\":\"white\",\"showbackground\":true,\"ticks\":\"\",\"zerolinecolor\":\"white\",\"gridwidth\":2}},\"shapedefaults\":{\"line\":{\"color\":\"#2a3f5f\"}},\"annotationdefaults\":{\"arrowcolor\":\"#2a3f5f\",\"arrowhead\":0,\"arrowwidth\":1},\"geo\":{\"bgcolor\":\"white\",\"landcolor\":\"#E5ECF6\",\"subunitcolor\":\"white\",\"showland\":true,\"showlakes\":true,\"lakecolor\":\"white\"},\"title\":{\"x\":0.05},\"mapbox\":{\"style\":\"light\"}}},\"xaxis\":{\"anchor\":\"y\",\"domain\":[0.0,0.16799999999999998],\"title\":{\"text\":\"x\"},\"range\":[0,1]},\"yaxis\":{\"anchor\":\"x\",\"domain\":[0.0,1.0],\"title\":{\"text\":\"\"},\"range\":[-1.7,1.7]},\"xaxis2\":{\"anchor\":\"y2\",\"domain\":[0.208,0.376],\"title\":{\"text\":\"x\"},\"range\":[0,1]},\"yaxis2\":{\"anchor\":\"x2\",\"domain\":[0.0,1.0],\"title\":{\"text\":\"\"},\"range\":[-1.7,1.7]},\"xaxis3\":{\"anchor\":\"y3\",\"domain\":[0.416,0.584],\"title\":{\"text\":\"x\"},\"range\":[0,1]},\"yaxis3\":{\"anchor\":\"x3\",\"domain\":[0.0,1.0],\"title\":{\"text\":\"\"},\"range\":[-1.7,1.7]},\"xaxis4\":{\"anchor\":\"y4\",\"domain\":[0.624,0.792],\"title\":{\"text\":\"x\"},\"range\":[0,1]},\"yaxis4\":{\"anchor\":\"x4\",\"domain\":[0.0,1.0],\"title\":{\"text\":\"\"},\"range\":[-1.7,1.7]},\"xaxis5\":{\"anchor\":\"y5\",\"domain\":[0.832,1.0],\"title\":{\"text\":\"x\"},\"range\":[0,1]},\"yaxis5\":{\"anchor\":\"x5\",\"domain\":[0.0,1.0],\"title\":{\"text\":\"\"},\"range\":[-1.7,1.7]},\"annotations\":[{\"font\":{\"size\":16},\"showarrow\":false,\"text\":\"Scenario A\",\"x\":0.08399999999999999,\"xanchor\":\"center\",\"xref\":\"paper\",\"y\":1.0,\"yanchor\":\"bottom\",\"yref\":\"paper\"},{\"font\":{\"size\":16},\"showarrow\":false,\"text\":\"Scenario B\",\"x\":0.292,\"xanchor\":\"center\",\"xref\":\"paper\",\"y\":1.0,\"yanchor\":\"bottom\",\"yref\":\"paper\"},{\"font\":{\"size\":16},\"showarrow\":false,\"text\":\"Scenario C\",\"x\":0.5,\"xanchor\":\"center\",\"xref\":\"paper\",\"y\":1.0,\"yanchor\":\"bottom\",\"yref\":\"paper\"},{\"font\":{\"size\":16},\"showarrow\":false,\"text\":\"Scenario D\",\"x\":0.708,\"xanchor\":\"center\",\"xref\":\"paper\",\"y\":1.0,\"yanchor\":\"bottom\",\"yref\":\"paper\"},{\"font\":{\"size\":16},\"showarrow\":false,\"text\":\"Scenario E\",\"x\":0.9159999999999999,\"xanchor\":\"center\",\"xref\":\"paper\",\"y\":1.0,\"yanchor\":\"bottom\",\"yref\":\"paper\"}],\"showlegend\":false},                        {\"responsive\": true}                    ).then(function(){\n",
              "                            \n",
              "var gd = document.getElementById('ea5ad965-80a0-40d3-8d87-f9e664e46366');\n",
              "var x = new MutationObserver(function (mutations, observer) {{\n",
              "        var display = window.getComputedStyle(gd).display;\n",
              "        if (!display || display === 'none') {{\n",
              "            console.log([gd, 'removed!']);\n",
              "            Plotly.purge(gd);\n",
              "            observer.disconnect();\n",
              "        }}\n",
              "}});\n",
              "\n",
              "// Listen for the removal of the full notebook cells\n",
              "var notebookContainer = gd.closest('#notebook-container');\n",
              "if (notebookContainer) {{\n",
              "    x.observe(notebookContainer, {childList: true});\n",
              "}}\n",
              "\n",
              "// Listen for the clearing of the current output cell\n",
              "var outputEl = gd.closest('.output');\n",
              "if (outputEl) {{\n",
              "    x.observe(outputEl, {childList: true});\n",
              "}}\n",
              "\n",
              "                        })                };                            </script>        </div>\n",
              "</body>\n",
              "</html>"
            ]
          },
          "metadata": {}
        }
      ]
    },
    {
      "cell_type": "markdown",
      "metadata": {
        "id": "uQDNfE2ADPUG"
      },
      "source": [
        "If you want to learn more, [here](http://bit.ly/3BLUE1BROWN2TWY9iI) you can find a nice discussion about an analogous exercise:\n",
        "> Three Amazon resellers offer a book at essentially the same price. These are their ratings:\n",
        ">\n",
        "> - 100% positive out of 10 reviews\n",
        "> - 96% positive out of 50 reviews\n",
        "> - 93% positive out of 200 reviews\n",
        ">\n",
        "> Which rating is better?\n",
        "\n",
        "> **EXERCISE (optional)**: You probably realized that in the previous exercise you wanted to be in the scenario with the largest amount of relevant information about the phenomenon $\\mathcal{P}$. Now a tricky question: the dataset of which scenario, A or B, contains more *absolute* information? (i.e. Shannon information)\n",
        ">\n",
        ">Answer [here](http://bit.ly/VeritasiumRandom3b0rPBe), or more directly [here](https://en.wikipedia.org/wiki/Quantities_of_information#Self-information)."
      ]
    },
    {
      "cell_type": "markdown",
      "metadata": {
        "id": "yTDKBC5GL7MI"
      },
      "source": [
        "### Being linear in the parameters does not mean linear in the input\n",
        "\n",
        "In this tutorial we will restrict our search of $f$ among parametrized functions $f_\\theta$ that depend *linearly* on their finite set of parameters $\\theta = \\{a,b,c,...\\}$.\n",
        "\n",
        "Possible choices of $f$ are\n",
        "- $f_1(x) = ax + b$\n",
        "- $f_2(x) = ax^2 + bx + c$\n",
        "- $f_3(x) = a \\sin(2 \\pi x) + bx + c$"
      ]
    },
    {
      "cell_type": "code",
      "metadata": {
        "id": "1C9ECfD-Q65g",
        "colab": {
          "base_uri": "https://localhost:8080/",
          "height": 542
        },
        "outputId": "97e1df50-0ddf-482e-c739-d28aa8c58ce2"
      },
      "source": [
        "# @title Some random plots of these linear models\n",
        "\n",
        "\n",
        "x_funcs = np.arange(0., 1.1, 2./51)\n",
        "theta_funcs = np.random.randn(10, 3)\n",
        "\n",
        "fig = make_subplots(\n",
        "    rows=1, cols=3,\n",
        "    subplot_titles=(\"f1\", \"f2\", \"f3\"))\n",
        "\n",
        "for a, b in theta_funcs[:,:2]:\n",
        "    fig.add_trace(go.Scatter(x=x_funcs, y=a*x_funcs + b, mode='lines'),\n",
        "                row=1, col=1)\n",
        "\n",
        "for a, b, c in theta_funcs:\n",
        "    fig.add_trace(go.Scatter(x=x_funcs, y=a*x_funcs**2 + b*x_funcs + c, mode='lines'),\n",
        "                row=1, col=2)\n",
        "\n",
        "for a, b, c in theta_funcs:\n",
        "    fig.add_trace(go.Scatter(x=x_funcs, y=a*np.sin(2 * np.pi * x_funcs) + b*x_funcs + c, mode='lines'),\n",
        "                row=1, col=3)\n",
        "\n",
        "for i in range(3):\n",
        "    fig.add_trace(go.Scatter(x=x, y=t, mode='markers', marker=dict(color=\"mediumpurple\")),\n",
        "                row=1, col=i + 1)\n",
        "\n",
        "fig.update_xaxes(title_text=\"x\", range = [0,1])\n",
        "fig.update_yaxes(title_text=\"t\", range = [-2,2])\n",
        "fig.update_layout(showlegend=False)\n",
        "\n",
        "fig.show()"
      ],
      "execution_count": 8,
      "outputs": [
        {
          "output_type": "display_data",
          "data": {
            "text/html": [
              "<html>\n",
              "<head><meta charset=\"utf-8\" /></head>\n",
              "<body>\n",
              "    <div>            <script src=\"https://cdnjs.cloudflare.com/ajax/libs/mathjax/2.7.5/MathJax.js?config=TeX-AMS-MML_SVG\"></script><script type=\"text/javascript\">if (window.MathJax && window.MathJax.Hub && window.MathJax.Hub.Config) {window.MathJax.Hub.Config({SVG: {font: \"STIX-Web\"}});}</script>                <script type=\"text/javascript\">window.PlotlyConfig = {MathJaxConfig: 'local'};</script>\n",
              "        <script charset=\"utf-8\" src=\"https://cdn.plot.ly/plotly-2.35.2.min.js\"></script>                <div id=\"4688a9b3-6453-4dc2-b111-adfa176541a1\" class=\"plotly-graph-div\" style=\"height:525px; width:100%;\"></div>            <script type=\"text/javascript\">                                    window.PLOTLYENV=window.PLOTLYENV || {};                                    if (document.getElementById(\"4688a9b3-6453-4dc2-b111-adfa176541a1\")) {                    Plotly.newPlot(                        \"4688a9b3-6453-4dc2-b111-adfa176541a1\",                        [{\"mode\":\"lines\",\"x\":[0.0,0.0392156862745098,0.0784313725490196,0.11764705882352941,0.1568627450980392,0.19607843137254902,0.23529411764705882,0.27450980392156865,0.3137254901960784,0.3529411764705882,0.39215686274509803,0.43137254901960786,0.47058823529411764,0.5098039215686274,0.5490196078431373,0.5882352941176471,0.6274509803921569,0.6666666666666666,0.7058823529411764,0.7450980392156863,0.7843137254901961,0.8235294117647058,0.8627450980392157,0.9019607843137255,0.9411764705882353,0.9803921568627451,1.0196078431372548,1.0588235294117647,1.0980392156862746],\"y\":[-0.827230943552323,-0.814575313735143,-0.801919683917963,-0.789264054100783,-0.776608424283603,-0.7639527944664231,-0.7512971646492431,-0.7386415348320631,-0.7259859050148831,-0.7133302751977032,-0.7006746453805232,-0.6880190155633432,-0.6753633857461632,-0.6627077559289832,-0.6500521261118032,-0.6373964962946232,-0.6247408664774433,-0.6120852366602634,-0.5994296068430833,-0.5867739770259033,-0.5741183472087233,-0.5614627173915434,-0.5488070875743634,-0.5361514577571834,-0.5234958279400035,-0.5108401981228234,-0.4981845683056435,-0.4855289384884635,-0.47287330867128347],\"type\":\"scatter\",\"xaxis\":\"x\",\"yaxis\":\"y\"},{\"mode\":\"lines\",\"x\":[0.0,0.0392156862745098,0.0784313725490196,0.11764705882352941,0.1568627450980392,0.19607843137254902,0.23529411764705882,0.27450980392156865,0.3137254901960784,0.3529411764705882,0.39215686274509803,0.43137254901960786,0.47058823529411764,0.5098039215686274,0.5490196078431373,0.5882352941176471,0.6274509803921569,0.6666666666666666,0.7058823529411764,0.7450980392156863,0.7843137254901961,0.8235294117647058,0.8627450980392157,0.9019607843137255,0.9411764705882353,0.9803921568627451,1.0196078431372548,1.0588235294117647,1.0980392156862746],\"y\":[-0.1087601484568576,-0.04865274010381533,0.011454668249226932,0.0715620766022692,0.13166948495531144,0.19177689330835368,0.25188430166139597,0.31199171001443826,0.3720991183674805,0.4322065267205227,0.49231393507356497,0.5524213434266073,0.6125287517796496,0.6726361601326918,0.7327435684857342,0.7928509768387764,0.8529583851918187,0.9130657935448608,0.973173201897903,1.0332806102509453,1.0933880186039875,1.15349542695703,1.213602835310072,1.2737102436631145,1.3338176520161567,1.3939250603691988,1.454032468722241,1.5141398770752834,1.5742472854283258],\"type\":\"scatter\",\"xaxis\":\"x\",\"yaxis\":\"y\"},{\"mode\":\"lines\",\"x\":[0.0,0.0392156862745098,0.0784313725490196,0.11764705882352941,0.1568627450980392,0.19607843137254902,0.23529411764705882,0.27450980392156865,0.3137254901960784,0.3529411764705882,0.39215686274509803,0.43137254901960786,0.47058823529411764,0.5098039215686274,0.5490196078431373,0.5882352941176471,0.6274509803921569,0.6666666666666666,0.7058823529411764,0.7450980392156863,0.7843137254901961,0.8235294117647058,0.8627450980392157,0.9019607843137255,0.9411764705882353,0.9803921568627451,1.0196078431372548,1.0588235294117647,1.0980392156862746],\"y\":[-0.40122047188583626,-0.3741560016226554,-0.3470915313594745,-0.32002706109629364,-0.2929625908331127,-0.26589812056993184,-0.23883365030675097,-0.21176918004357007,-0.1847047097803892,-0.15764023951720835,-0.13057576925402742,-0.10351129899084655,-0.07644682872766567,-0.0493823584644848,-0.02231788820130387,0.004746582061877003,0.031811052325057876,0.05887552258823875,0.08593999285141957,0.1130044631146005,0.14006893337778142,0.16713340364096224,0.19419787390414317,0.2212623441673241,0.24832681443050492,0.27539128469368573,0.30245575495686666,0.3295202252200476,0.3565846954832285],\"type\":\"scatter\",\"xaxis\":\"x\",\"yaxis\":\"y\"},{\"mode\":\"lines\",\"x\":[0.0,0.0392156862745098,0.0784313725490196,0.11764705882352941,0.1568627450980392,0.19607843137254902,0.23529411764705882,0.27450980392156865,0.3137254901960784,0.3529411764705882,0.39215686274509803,0.43137254901960786,0.47058823529411764,0.5098039215686274,0.5490196078431373,0.5882352941176471,0.6274509803921569,0.6666666666666666,0.7058823529411764,0.7450980392156863,0.7843137254901961,0.8235294117647058,0.8627450980392157,0.9019607843137255,0.9411764705882353,0.9803921568627451,1.0196078431372548,1.0588235294117647,1.0980392156862746],\"y\":[0.09767609854883172,0.09816991818733348,0.09866373782583523,0.09915755746433699,0.09965137710283875,0.10014519674134051,0.10063901637984228,0.10113283601834404,0.1016266556568458,0.10212047529534755,0.10261429493384931,0.10310811457235107,0.10360193421085283,0.10409575384935459,0.10458957348785634,0.1050833931263581,0.10557721276485987,0.10607103240336163,0.10656485204186339,0.10705867168036515,0.1075524913188669,0.10804631095736866,0.10854013059587042,0.10903395023437218,0.10952776987287394,0.1100215895113757,0.11051540914987745,0.11100922878837921,0.11150304842688098],\"type\":\"scatter\",\"xaxis\":\"x\",\"yaxis\":\"y\"},{\"mode\":\"lines\",\"x\":[0.0,0.0392156862745098,0.0784313725490196,0.11764705882352941,0.1568627450980392,0.19607843137254902,0.23529411764705882,0.27450980392156865,0.3137254901960784,0.3529411764705882,0.39215686274509803,0.43137254901960786,0.47058823529411764,0.5098039215686274,0.5490196078431373,0.5882352941176471,0.6274509803921569,0.6666666666666666,0.7058823529411764,0.7450980392156863,0.7843137254901961,0.8235294117647058,0.8627450980392157,0.9019607843137255,0.9411764705882353,0.9803921568627451,1.0196078431372548,1.0588235294117647,1.0980392156862746],\"y\":[0.49799829124544975,0.498959474549722,0.49992065785399425,0.5008818411582665,0.5018430244625388,0.5028042077668111,0.5037653910710833,0.5047265743753556,0.5056877576796278,0.5066489409839001,0.5076101242881724,0.5085713075924446,0.5095324908967169,0.5104936742009891,0.5114548575052614,0.5124160408095337,0.5133772241138059,0.5143384074180782,0.5152995907223505,0.5162607740266227,0.517221957330895,0.5181831406351672,0.5191443239394395,0.5201055072437119,0.521066690547984,0.5220278738522564,0.5229890571565285,0.5239502404608009,0.5249114237650732],\"type\":\"scatter\",\"xaxis\":\"x\",\"yaxis\":\"y\"},{\"mode\":\"lines\",\"x\":[0.0,0.0392156862745098,0.0784313725490196,0.11764705882352941,0.1568627450980392,0.19607843137254902,0.23529411764705882,0.27450980392156865,0.3137254901960784,0.3529411764705882,0.39215686274509803,0.43137254901960786,0.47058823529411764,0.5098039215686274,0.5490196078431373,0.5882352941176471,0.6274509803921569,0.6666666666666666,0.7058823529411764,0.7450980392156863,0.7843137254901961,0.8235294117647058,0.8627450980392157,0.9019607843137255,0.9411764705882353,0.9803921568627451,1.0196078431372548,1.0588235294117647,1.0980392156862746],\"y\":[2.1531824575115563,2.1908009212796036,2.228419385047651,2.2660378488156985,2.3036563125837457,2.341274776351793,2.37889324011984,2.416511703887888,2.454130167655935,2.4917486314239823,2.5293670951920295,2.566985558960077,2.6046040227281244,2.6422224864961716,2.679840950264219,2.717459414032266,2.7550778778003133,2.792696341568361,2.8303148053364082,2.8679332691044555,2.905551732872503,2.9431701966405504,2.9807886604085976,3.018407124176645,3.056025587944692,3.0936440517127393,3.131262515480787,3.168880979248834,3.206499443016882],\"type\":\"scatter\",\"xaxis\":\"x\",\"yaxis\":\"y\"},{\"mode\":\"lines\",\"x\":[0.0,0.0392156862745098,0.0784313725490196,0.11764705882352941,0.1568627450980392,0.19607843137254902,0.23529411764705882,0.27450980392156865,0.3137254901960784,0.3529411764705882,0.39215686274509803,0.43137254901960786,0.47058823529411764,0.5098039215686274,0.5490196078431373,0.5882352941176471,0.6274509803921569,0.6666666666666666,0.7058823529411764,0.7450980392156863,0.7843137254901961,0.8235294117647058,0.8627450980392157,0.9019607843137255,0.9411764705882353,0.9803921568627451,1.0196078431372548,1.0588235294117647,1.0980392156862746],\"y\":[0.18334200573835174,0.2175506581587705,0.25175931057918927,0.285967962999608,0.32017661542002673,0.3543852678404455,0.38859392026086426,0.422802572681283,0.4570112251017018,0.4912198775221205,0.5254285299425392,0.559637182362958,0.5938458347833768,0.6280544872037954,0.6622631396242142,0.696471792044633,0.7306804444650519,0.7648890968854705,0.7990977493058893,0.8333064017263081,0.8675150541467267,0.9017237065671455,0.9359323589875643,0.9701410114079831,1.0043496638284017,1.0385583162488206,1.0727669686692392,1.106975621089658,1.1411842735100768],\"type\":\"scatter\",\"xaxis\":\"x\",\"yaxis\":\"y\"},{\"mode\":\"lines\",\"x\":[0.0,0.0392156862745098,0.0784313725490196,0.11764705882352941,0.1568627450980392,0.19607843137254902,0.23529411764705882,0.27450980392156865,0.3137254901960784,0.3529411764705882,0.39215686274509803,0.43137254901960786,0.47058823529411764,0.5098039215686274,0.5490196078431373,0.5882352941176471,0.6274509803921569,0.6666666666666666,0.7058823529411764,0.7450980392156863,0.7843137254901961,0.8235294117647058,0.8627450980392157,0.9019607843137255,0.9411764705882353,0.9803921568627451,1.0196078431372548,1.0588235294117647,1.0980392156862746],\"y\":[-0.8397218421807761,-0.8714198141554879,-0.9031177861301997,-0.9348157581049115,-0.9665137300796234,-0.9982117020543352,-1.029909674029047,-1.061607646003759,-1.0933056179784706,-1.1250035899531825,-1.1567015619278942,-1.188399533902606,-1.2200975058773178,-1.2517954778520297,-1.2834934498267416,-1.3151914218014533,-1.3468893937761652,-1.3785873657508771,-1.4102853377255888,-1.4419833097003005,-1.4736812816750124,-1.5053792536497244,-1.537077225624436,-1.568775197599148,-1.6004731695738599,-1.6321711415485716,-1.6638691135232833,-1.6955670854979954,-1.727265057472707],\"type\":\"scatter\",\"xaxis\":\"x\",\"yaxis\":\"y\"},{\"mode\":\"lines\",\"x\":[0.0,0.0392156862745098,0.0784313725490196,0.11764705882352941,0.1568627450980392,0.19607843137254902,0.23529411764705882,0.27450980392156865,0.3137254901960784,0.3529411764705882,0.39215686274509803,0.43137254901960786,0.47058823529411764,0.5098039215686274,0.5490196078431373,0.5882352941176471,0.6274509803921569,0.6666666666666666,0.7058823529411764,0.7450980392156863,0.7843137254901961,0.8235294117647058,0.8627450980392157,0.9019607843137255,0.9411764705882353,0.9803921568627451,1.0196078431372548,1.0588235294117647,1.0980392156862746],\"y\":[-0.525755021680761,-0.6090450500850672,-0.6923350784893734,-0.7756251068936795,-0.8589151352979856,-0.9422051637022918,-1.025495192106598,-1.1087852205109041,-1.1920752489152102,-1.2753652773195163,-1.3586553057238224,-1.4419453341281288,-1.5252353625324349,-1.608525390936741,-1.6918154193410473,-1.7751054477453532,-1.8583954761496595,-1.9416855045539654,-2.0249755329582717,-2.108265561362578,-2.191555589766884,-2.2748456181711902,-2.3581356465754966,-2.4414256749798025,-2.524715703384109,-2.6080057317884147,-2.6912957601927205,-2.774585788597027,-2.857875817001333],\"type\":\"scatter\",\"xaxis\":\"x\",\"yaxis\":\"y\"},{\"mode\":\"lines\",\"x\":[0.0,0.0392156862745098,0.0784313725490196,0.11764705882352941,0.1568627450980392,0.19607843137254902,0.23529411764705882,0.27450980392156865,0.3137254901960784,0.3529411764705882,0.39215686274509803,0.43137254901960786,0.47058823529411764,0.5098039215686274,0.5490196078431373,0.5882352941176471,0.6274509803921569,0.6666666666666666,0.7058823529411764,0.7450980392156863,0.7843137254901961,0.8235294117647058,0.8627450980392157,0.9019607843137255,0.9411764705882353,0.9803921568627451,1.0196078431372548,1.0588235294117647,1.0980392156862746],\"y\":[0.34175597577715944,0.347653771325246,0.35355156687333256,0.35944936242141917,0.36534715796950573,0.3712449535175923,0.3771427490656789,0.38304054461376547,0.388938340161852,0.3948361357099386,0.40073393125802514,0.40663172680611176,0.4125295223541983,0.4184273179022849,0.4243251134503715,0.43022290899845805,0.4361207045465446,0.4420185000946312,0.44791629564271773,0.45381409119080435,0.4597118867388909,0.46560968228697747,0.4715074778350641,0.47740527338315064,0.4833030689312372,0.48920086447932376,0.4950986600274103,0.5009964555754969,0.5068942511235836],\"type\":\"scatter\",\"xaxis\":\"x\",\"yaxis\":\"y\"},{\"mode\":\"lines\",\"x\":[0.0,0.0392156862745098,0.0784313725490196,0.11764705882352941,0.1568627450980392,0.19607843137254902,0.23529411764705882,0.27450980392156865,0.3137254901960784,0.3529411764705882,0.39215686274509803,0.43137254901960786,0.47058823529411764,0.5098039215686274,0.5490196078431373,0.5882352941176471,0.6274509803921569,0.6666666666666666,0.7058823529411764,0.7450980392156863,0.7843137254901961,0.8235294117647058,0.8627450980392157,0.9019607843137255,0.9411764705882353,0.9803921568627451,1.0196078431372548,1.0588235294117647,1.0980392156862746],\"y\":[0.5193465142411723,0.48740238429077454,0.4564508527574105,0.4264919196410802,0.3975255849417836,0.36955184865952073,0.3425707107942916,0.3165821713460961,0.29158623031493447,0.2675828877008065,0.24457214350371226,0.2225539977236517,0.20152845036062494,0.18149550141463183,0.16245515088567247,0.14440739877374686,0.12735224507885495,0.11128968980099674,0.09621973294017239,0.08214237449638151,0.06905761446962455,0.05696545285990129,0.04586588966721172,0.035758924891555854,0.026644558532933793,0.018522790591345317,0.01139362106679076,0.005257049959269788,0.00011307726878262425],\"type\":\"scatter\",\"xaxis\":\"x2\",\"yaxis\":\"y2\"},{\"mode\":\"lines\",\"x\":[0.0,0.0392156862745098,0.0784313725490196,0.11764705882352941,0.1568627450980392,0.19607843137254902,0.23529411764705882,0.27450980392156865,0.3137254901960784,0.3529411764705882,0.39215686274509803,0.43137254901960786,0.47058823529411764,0.5098039215686274,0.5490196078431373,0.5882352941176471,0.6274509803921569,0.6666666666666666,0.7058823529411764,0.7450980392156863,0.7843137254901961,0.8235294117647058,0.8627450980392157,0.9019607843137255,0.9411764705882353,0.9803921568627451,1.0196078431372548,1.0588235294117647,1.0980392156862746],\"y\":[0.40171172209894146,0.399803771506635,0.402610127451822,0.4101307899345025,0.4223657589546766,0.43931503451234416,0.4609786166075052,0.48735650524015983,0.5184487004103079,0.5542552021179494,0.5947760103630846,0.6400111251457132,0.6899605464658354,0.744624274323451,0.8040023087185603,0.8680946496511629,0.936901297121259,1.0104222511288485,1.0886575116739317,1.1716070787565087,1.2592709523765788,1.3516491325341424,1.4487416192292,1.5505484124617506,1.6570695122317949,1.7683049185393325,1.8842546313843636,2.004918650766889,2.1302969766869078],\"type\":\"scatter\",\"xaxis\":\"x2\",\"yaxis\":\"y2\"},{\"mode\":\"lines\",\"x\":[0.0,0.0392156862745098,0.0784313725490196,0.11764705882352941,0.1568627450980392,0.19607843137254902,0.23529411764705882,0.27450980392156865,0.3137254901960784,0.3529411764705882,0.39215686274509803,0.43137254901960786,0.47058823529411764,0.5098039215686274,0.5490196078431373,0.5882352941176471,0.6274509803921569,0.6666666666666666,0.7058823529411764,0.7450980392156863,0.7843137254901961,0.8235294117647058,0.8627450980392157,0.9019607843137255,0.9411764705882353,0.9803921568627451,1.0196078431372548,1.0588235294117647,1.0980392156862746],\"y\":[0.22409248181041677,0.20941969743305774,0.1968696166057521,0.18644223932849988,0.17813756560130106,0.17195559542415562,0.1678963287970636,0.165959765720025,0.16614590619303976,0.16845475021610795,0.17288629778922954,0.17944054891240452,0.18811750358563292,0.1989171618089147,0.21183952358224997,0.22688458890563853,0.24405235777908055,0.263342830202576,0.28475600617612473,0.308291885699727,0.3339504687733825,0.36173175539709157,0.391635745570854,0.42366243929466985,0.4578118365685391,0.4940839373924617,0.5324787417664376,0.5729962496904673,0.6156364611645502],\"type\":\"scatter\",\"xaxis\":\"x2\",\"yaxis\":\"y2\"},{\"mode\":\"lines\",\"x\":[0.0,0.0392156862745098,0.0784313725490196,0.11764705882352941,0.1568627450980392,0.19607843137254902,0.23529411764705882,0.27450980392156865,0.3137254901960784,0.3529411764705882,0.39215686274509803,0.43137254901960786,0.47058823529411764,0.5098039215686274,0.5490196078431373,0.5882352941176471,0.6274509803921569,0.6666666666666666,0.7058823529411764,0.7450980392156863,0.7843137254901961,0.8235294117647058,0.8627450980392157,0.9019607843137255,0.9411764705882353,0.9803921568627451,1.0196078431372548,1.0588235294117647,1.0980392156862746],\"y\":[-0.7730097838554665,-0.7691599831422378,-0.7652714514769696,-0.7613441888596622,-0.7573781952903154,-0.7533734707689291,-0.7493300152955036,-0.7452478288700387,-0.7411269114925345,-0.7369672631629909,-0.7327688838814079,-0.7285317736477857,-0.7242559324621239,-0.719941360324423,-0.7155880572346826,-0.7111960231929029,-0.7067652581990838,-0.7022957622532254,-0.6977875353553277,-0.6932405775053905,-0.688654888703414,-0.6840304689493981,-0.679367318243343,-0.6746654365852485,-0.6699248239751145,-0.6651454804129413,-0.6603274058987287,-0.6554706004324767,-0.6505750640141854],\"type\":\"scatter\",\"xaxis\":\"x2\",\"yaxis\":\"y2\"},{\"mode\":\"lines\",\"x\":[0.0,0.0392156862745098,0.0784313725490196,0.11764705882352941,0.1568627450980392,0.19607843137254902,0.23529411764705882,0.27450980392156865,0.3137254901960784,0.3529411764705882,0.39215686274509803,0.43137254901960786,0.47058823529411764,0.5098039215686274,0.5490196078431373,0.5882352941176471,0.6274509803921569,0.6666666666666666,0.7058823529411764,0.7450980392156863,0.7843137254901961,0.8235294117647058,0.8627450980392157,0.9019607843137255,0.9411764705882353,0.9803921568627451,1.0196078431372548,1.0588235294117647,1.0980392156862746],\"y\":[1.4511436077950417,1.4707106460126778,1.4903530711561392,1.510070883225426,1.529864082220538,1.5497326681414751,1.569676640988238,1.5896960007608256,1.6097907474592388,1.629960881083477,1.6502064016335407,1.6705273091094295,1.6909236035111437,1.7113952848386833,1.7319423530920481,1.752564808271238,1.7732626503762532,1.7940358794070939,1.8148844953637597,1.8358084982462508,1.856807888054567,1.8778826647887088,1.899032828448676,1.920258379034468,1.9415593165460856,1.9629356409835284,1.9843873523467963,2.0059144506358897,2.0275169358508083],\"type\":\"scatter\",\"xaxis\":\"x2\",\"yaxis\":\"y2\"},{\"mode\":\"lines\",\"x\":[0.0,0.0392156862745098,0.0784313725490196,0.11764705882352941,0.1568627450980392,0.19607843137254902,0.23529411764705882,0.27450980392156865,0.3137254901960784,0.3529411764705882,0.39215686274509803,0.43137254901960786,0.47058823529411764,0.5098039215686274,0.5490196078431373,0.5882352941176471,0.6274509803921569,0.6666666666666666,0.7058823529411764,0.7450980392156863,0.7843137254901961,0.8235294117647058,0.8627450980392157,0.9019607843137255,0.9411764705882353,0.9803921568627451,1.0196078431372548,1.0588235294117647,1.0980392156862746],\"y\":[-0.7673475628880495,-0.6814338012692416,-0.59256957190392,-0.5007548747920849,-0.40598970993373645,-0.3082740773288744,-0.20760797697749878,-0.10399140887960967,0.0025756269647928542,0.11209313055570891,0.2245611018931386,0.33997954097708183,0.4583484478075386,0.5796678223845084,0.7039376647079925,0.8311579747779896,0.9613287525945002,1.0944499981575242,1.2305217114670621,1.3695438925231134,1.5115165413256784,1.6564396578747567,1.8043132421703487,1.9551372942124536,2.1089118140010727,2.2656368015362047,2.4253122568178505,2.58793817984601,2.7535145706206836],\"type\":\"scatter\",\"xaxis\":\"x2\",\"yaxis\":\"y2\"},{\"mode\":\"lines\",\"x\":[0.0,0.0392156862745098,0.0784313725490196,0.11764705882352941,0.1568627450980392,0.19607843137254902,0.23529411764705882,0.27450980392156865,0.3137254901960784,0.3529411764705882,0.39215686274509803,0.43137254901960786,0.47058823529411764,0.5098039215686274,0.5490196078431373,0.5882352941176471,0.6274509803921569,0.6666666666666666,0.7058823529411764,0.7450980392156863,0.7843137254901961,0.8235294117647058,0.8627450980392157,0.9019607843137255,0.9411764705882353,0.9803921568627451,1.0196078431372548,1.0588235294117647,1.0980392156862746],\"y\":[2.1898029332176723,2.1983343315768398,2.209548761498393,2.223446222982332,2.2400267160286567,2.2592902406373674,2.281236796808464,2.3058663845419463,2.333179003837814,2.363174654696068,2.3958533371167072,2.431215051099733,2.4692597966451437,2.5099875737529405,2.5533983824231234,2.599492222655692,2.648269094450646,2.699728997807986,2.7538719327277117,2.8106978992098233,2.8702068972543207,2.932398926861204,2.997273988030473,3.0648320807621277,3.1350732050561683,3.2079973609125942,3.2836045483314065,3.3618947673126045,3.4428680178561883],\"type\":\"scatter\",\"xaxis\":\"x2\",\"yaxis\":\"y2\"},{\"mode\":\"lines\",\"x\":[0.0,0.0392156862745098,0.0784313725490196,0.11764705882352941,0.1568627450980392,0.19607843137254902,0.23529411764705882,0.27450980392156865,0.3137254901960784,0.3529411764705882,0.39215686274509803,0.43137254901960786,0.47058823529411764,0.5098039215686274,0.5490196078431373,0.5882352941176471,0.6274509803921569,0.6666666666666666,0.7058823529411764,0.7450980392156863,0.7843137254901961,0.8235294117647058,0.8627450980392157,0.9019607843137255,0.9411764705882353,0.9803921568627451,1.0196078431372548,1.0588235294117647,1.0980392156862746],\"y\":[-0.5993926454440222,-0.6335659714893354,-0.6702254129836457,-0.7093709699269529,-0.7510026423192572,-0.7951204301605584,-0.8417243334508567,-0.890814352190152,-0.9423904863784444,-0.9964527360157336,-1.05300110110202,-1.1120355816373033,-1.1735561776215835,-1.237562889054861,-1.3040557159371353,-1.3730346582684065,-1.444499716048675,-1.5184508892779403,-1.5948881779562023,-1.6738115820834618,-1.7552211016597181,-1.8391167366849714,-1.925498487159222,-2.0143663530824694,-2.1057203344547135,-2.199560431275955,-2.295886643546193,-2.394698971265429,-2.4959974144336616],\"type\":\"scatter\",\"xaxis\":\"x2\",\"yaxis\":\"y2\"},{\"mode\":\"lines\",\"x\":[0.0,0.0392156862745098,0.0784313725490196,0.11764705882352941,0.1568627450980392,0.19607843137254902,0.23529411764705882,0.27450980392156865,0.3137254901960784,0.3529411764705882,0.39215686274509803,0.43137254901960786,0.47058823529411764,0.5098039215686274,0.5490196078431373,0.5882352941176471,0.6274509803921569,0.6666666666666666,0.7058823529411764,0.7450980392156863,0.7843137254901961,0.8235294117647058,0.8627450980392157,0.9019607843137255,0.9411764705882353,0.9803921568627451,1.0196078431372548,1.0588235294117647,1.0980392156862746],\"y\":[-0.759132661553698,-0.783016781164877,-0.8134334520234527,-0.8503826741294249,-0.8938644474827937,-0.9438787720835591,-1.000425647931721,-1.0635050750272796,-1.1331170533702344,-1.2092615829605862,-1.291938663798334,-1.381148295883479,-1.4768904792160202,-1.579165213795958,-1.6879724996232928,-1.8033123366980235,-1.925184725020151,-2.053589664589675,-2.1885271554065957,-2.329997197470913,-2.4779997907826266,-2.632534935341737,-2.793602631148244,-2.9612028782021476,-3.1353356765034475,-3.3160010260521435,-3.5031989268482366,-3.696929378891727,-3.897192382182614],\"type\":\"scatter\",\"xaxis\":\"x2\",\"yaxis\":\"y2\"},{\"mode\":\"lines\",\"x\":[0.0,0.0392156862745098,0.0784313725490196,0.11764705882352941,0.1568627450980392,0.19607843137254902,0.23529411764705882,0.27450980392156865,0.3137254901960784,0.3529411764705882,0.39215686274509803,0.43137254901960786,0.47058823529411764,0.5098039215686274,0.5490196078431373,0.5882352941176471,0.6274509803921569,0.6666666666666666,0.7058823529411764,0.7450980392156863,0.7843137254901961,0.8235294117647058,0.8627450980392157,0.9019607843137255,0.9411764705882353,0.9803921568627451,1.0196078431372548,1.0588235294117647,1.0980392156862746],\"y\":[1.8761708392158862,1.8898043204443273,1.9039003738726181,1.918458999500759,1.9334801973287499,1.9489639673565906,1.9649103095842813,1.9813192240118218,1.9981907106392123,2.015524769466453,2.033321400493543,2.0515806037204833,2.0703023791472734,2.089486726773914,2.109133646600404,2.129243138626744,2.149815202852934,2.170849839278974,2.1923470479048635,2.2143068287306034,2.2367291817561927,2.2596141069816325,2.282961604406922,2.306771674032061,2.3310443158570506,2.35577952988189,2.380977316106579,2.4066376745311184,2.4327606051555075],\"type\":\"scatter\",\"xaxis\":\"x2\",\"yaxis\":\"y2\"},{\"mode\":\"lines\",\"x\":[0.0,0.0392156862745098,0.0784313725490196,0.11764705882352941,0.1568627450980392,0.19607843137254902,0.23529411764705882,0.27450980392156865,0.3137254901960784,0.3529411764705882,0.39215686274509803,0.43137254901960786,0.47058823529411764,0.5098039215686274,0.5490196078431373,0.5882352941176471,0.6274509803921569,0.6666666666666666,0.7058823529411764,0.7450980392156863,0.7843137254901961,0.8235294117647058,0.8627450980392157,0.9019607843137255,0.9411764705882353,0.9803921568627451,1.0196078431372548,1.0588235294117647,1.0980392156862746],\"y\":[0.5193465142411723,0.5656215696823408,0.6071417274906863,0.6394393149880879,0.6586037592584709,0.6615178097156548,0.6460458391410515,0.6111628486546425,0.5570163839284534,0.4849176225238136,0.39726217073184794,0.2973853542733854,0.1893607441867785,0.07775408817462798,-0.03265248853603597,-0.13714935286199403,-0.23138385456236754,-0.311623252985903,-0.3749801974802801,-0.41958714106499584,-0.44470915171318304,-0.45078830674964643,-0.4394169886714233,-0.413241695486957,-0.3758031760188294,-0.3313225469774188,-0.2844463116448829,-0.23996568260347206,-0.20252716313534436],\"type\":\"scatter\",\"xaxis\":\"x3\",\"yaxis\":\"y3\"},{\"mode\":\"lines\",\"x\":[0.0,0.0392156862745098,0.0784313725490196,0.11764705882352941,0.1568627450980392,0.19607843137254902,0.23529411764705882,0.27450980392156865,0.3137254901960784,0.3529411764705882,0.39215686274509803,0.43137254901960786,0.47058823529411764,0.5098039215686274,0.5490196078431373,0.5882352941176471,0.6274509803921569,0.6666666666666666,0.7058823529411764,0.7450980392156863,0.7843137254901961,0.8235294117647058,0.8627450980392157,0.9019607843137255,0.9411764705882353,0.9803921568627451,1.0196078431372548,1.0588235294117647,1.0980392156862746],\"y\":[0.40171172209894146,0.7713026684632172,1.1183104184301844,1.421515939053178,1.6623461204549033,1.825995705478742,1.9023216179465903,1.8864556666160772,1.7790986137635396,1.586477844848308,1.3199711962699807,0.9954196643273064,0.6321705119692205,0.25190857555405655,-0.1226536321496553,-0.4691478969150914,-0.7669014802672929,-0.998185879568142,-1.1492877382147286,-1.2113372164126537,-1.1808437838533703,-1.059907069134545,-0.8560900293263782,-0.5819621010193008,-0.2543399293292733,0.10672846051843055,0.4791746867657351,0.8402430766134402,1.1678652483034688],\"type\":\"scatter\",\"xaxis\":\"x3\",\"yaxis\":\"y3\"},{\"mode\":\"lines\",\"x\":[0.0,0.0392156862745098,0.0784313725490196,0.11764705882352941,0.1568627450980392,0.19607843137254902,0.23529411764705882,0.27450980392156865,0.3137254901960784,0.3529411764705882,0.39215686274509803,0.43137254901960786,0.47058823529411764,0.5098039215686274,0.5490196078431373,0.5882352941176471,0.6274509803921569,0.6666666666666666,0.7058823529411764,0.7450980392156863,0.7843137254901961,0.8235294117647058,0.8627450980392157,0.9019607843137255,0.9411764705882353,0.9803921568627451,1.0196078431372548,1.0588235294117647,1.0980392156862746],\"y\":[0.22409248181041677,0.37669393408673346,0.5191268852732573,0.6418370740578817,0.7364616148372817,0.7963341672545324,0.816887624007534,0.7959299921169728,0.7337768027346507,0.6332320511283638,0.49941881818504075,0.33946980493129153,0.162096473682708,-0.02293717766323,-0.20540442093325764,-0.37523355472866216,-0.52311629690845,-0.641070061871161,-0.7229201576419239,-0.7646727751058172,-0.764756238552194,-0.7241159445187242,-0.6461572540471937,-0.5365397880087691,-0.40283555132161597,-0.2540715374531284,-0.10018444269771151,0.04857957117077663,0.18228380785793033],\"type\":\"scatter\",\"xaxis\":\"x3\",\"yaxis\":\"y3\"},{\"mode\":\"lines\",\"x\":[0.0,0.0392156862745098,0.0784313725490196,0.11764705882352941,0.1568627450980392,0.19607843137254902,0.23529411764705882,0.27450980392156865,0.3137254901960784,0.3529411764705882,0.39215686274509803,0.43137254901960786,0.47058823529411764,0.5098039215686274,0.5490196078431373,0.5882352941176471,0.6274509803921569,0.6666666666666666,0.7058823529411764,0.7450980392156863,0.7843137254901961,0.8235294117647058,0.8627450980392157,0.9019607843137255,0.9411764705882353,0.9803921568627451,1.0196078431372548,1.0588235294117647,1.0980392156862746],\"y\":[-0.7730097838554665,-0.7661078892984742,-0.7593915297060845,-0.7530350325940925,-0.7471909875792656,-0.7419810290314316,-0.7374884886121745,-0.7337533615318241,-0.7307698905936646,-0.7284869139638952,-0.7268109556599088,-0.7256118720724549,-0.7247307134371497,-0.7239893253742774,-0.7232011105050435,-0.7221823000767089,-0.7207630547213776,-0.7187977237945814,-0.7161736435667426,-0.7128179428028365,-0.7087019446315357,-0.7038428988039692,-0.6983029397030481,-0.6921853330459833,-0.6856282380021603,-0.6787963615326791,-0.6718710090805905,-0.6650391326111091,-0.6584820375672862],\"type\":\"scatter\",\"xaxis\":\"x3\",\"yaxis\":\"y3\"},{\"mode\":\"lines\",\"x\":[0.0,0.0392156862745098,0.0784313725490196,0.11764705882352941,0.1568627450980392,0.19607843137254902,0.23529411764705882,0.27450980392156865,0.3137254901960784,0.3529411764705882,0.39215686274509803,0.43137254901960786,0.47058823529411764,0.5098039215686274,0.5490196078431373,0.5882352941176471,0.6274509803921569,0.6666666666666666,0.7058823529411764,0.7450980392156863,0.7843137254901961,0.8235294117647058,0.8627450980392157,0.9019607843137255,0.9411764705882353,0.9803921568627451,1.0196078431372548,1.0588235294117647,1.0980392156862746],\"y\":[1.4511436077950417,1.4766513203337686,1.5017979028233224,1.52624403968248,1.5496927265383758,1.571907211110645,1.5927252944999588,1.6120691289954885,1.6299499205536825,1.6464672518898302,1.661803067071821,1.6762106809835033,1.6899994775534048,1.703516221069566,1.7171241094915959,1.7311808350682585,1.7460169775337357,1.7619160350659138,1.7790972992591796,1.797702608568319,1.817787780396669,1.8393192393829143,1.8621760455586545,1.8861571998636095,1.910993785720568,1.936365213244554,1.961918584836429,1.9872900123604147,2.0121265982173737],\"type\":\"scatter\",\"xaxis\":\"x3\",\"yaxis\":\"y3\"},{\"mode\":\"lines\",\"x\":[0.0,0.0392156862745098,0.0784313725490196,0.11764705882352941,0.1568627450980392,0.19607843137254902,0.23529411764705882,0.27450980392156865,0.3137254901960784,0.3529411764705882,0.39215686274509803,0.43137254901960786,0.47058823529411764,0.5098039215686274,0.5490196078431373,0.5882352941176471,0.6274509803921569,0.6666666666666666,0.7058823529411764,0.7450980392156863,0.7843137254901961,0.8235294117647058,0.8627450980392157,0.9019607843137255,0.9411764705882353,0.9803921568627451,1.0196078431372548,1.0588235294117647,1.0980392156862746],\"y\":[-0.7673475628880495,-0.44892971936061943,-0.14464566031527892,0.13222459695944233,0.37005699679181747,0.5595856093208951,0.6944623494410687,0.7716404400430772,0.7915584560218414,0.7581138316652534,0.6784274317399843,0.5624134076234166,0.4221803218072253,0.27129971652245555,0.1239863094233089,-0.005760662465964406,-0.10500308245367629,-0.16264549571275178,-0.170105342744453,-0.12183139856542768,-0.0156391007142217,0.14715748978920273,0.36182506578154916,0.6204969947142205,0.9126485114654332,1.2257324786485908,1.545937310598421,1.8590212777815798,2.1511727945327936],\"type\":\"scatter\",\"xaxis\":\"x3\",\"yaxis\":\"y3\"},{\"mode\":\"lines\",\"x\":[0.0,0.0392156862745098,0.0784313725490196,0.11764705882352941,0.1568627450980392,0.19607843137254902,0.23529411764705882,0.27450980392156865,0.3137254901960784,0.3529411764705882,0.39215686274509803,0.43137254901960786,0.47058823529411764,0.5098039215686274,0.5490196078431373,0.5882352941176471,0.6274509803921569,0.6666666666666666,0.7058823529411764,0.7450980392156863,0.7843137254901961,0.8235294117647058,0.8627450980392157,0.9019607843137255,0.9411764705882353,0.9803921568627451,1.0196078431372548,1.0588235294117647,1.0980392156862746],\"y\":[2.1898029332176723,2.409763787425496,2.61687197110126,2.799051193773308,2.9457310269775334,3.048485422911461,3.101541699355744,3.102129245054808,3.0506468816147967,2.9506387722346124,2.808580332530316,2.6334870757510256,2.4363700205322356,2.229570557895479,2.0260149556034497,1.838433532375872,1.678591668628325,1.5565791053977165,1.4802004621544254,1.4545037899601319,1.4814756382495857,1.5599210550713123,1.6855357695080655,1.851166196016496,2.047241554830646,2.262352005708877,2.48393787220317,2.6990483230814015,2.8951236818955524],\"type\":\"scatter\",\"xaxis\":\"x3\",\"yaxis\":\"y3\"},{\"mode\":\"lines\",\"x\":[0.0,0.0392156862745098,0.0784313725490196,0.11764705882352941,0.1568627450980392,0.19607843137254902,0.23529411764705882,0.27450980392156865,0.3137254901960784,0.3529411764705882,0.39215686274509803,0.43137254901960786,0.47058823529411764,0.5098039215686274,0.5490196078431373,0.5882352941176471,0.6274509803921569,0.6666666666666666,0.7058823529411764,0.7450980392156863,0.7843137254901961,0.8235294117647058,0.8627450980392157,0.9019607843137255,0.9411764705882353,0.9803921568627451,1.0196078431372548,1.0588235294117647,1.0980392156862746],\"y\":[-0.5993926454440222,-0.8294779555030345,-1.0476538928887684,-1.2427304840172138,-1.4049130973694766,-1.526394099256337,-1.6018244827377113,-1.6286369804201712,-1.6072011431395439,-1.5408010168258448,-1.4354367660047016,-1.2994622270914191,-1.1430802854797688,-0.9777265587416386,-0.8153786152490263,-0.6678324556466728,-0.5459899621280504,-0.45920035794490854,-0.41469545703148214,-0.41715281812681493,-0.46841319156316774,-0.5673693266659608,-0.7100328564796753,-0.8897752195723954,-1.0977280657656623,-1.3233189588298764,-1.554910016419719,-1.7805009094839337,-1.9884537556772013],\"type\":\"scatter\",\"xaxis\":\"x3\",\"yaxis\":\"y3\"},{\"mode\":\"lines\",\"x\":[0.0,0.0392156862745098,0.0784313725490196,0.11764705882352941,0.1568627450980392,0.19607843137254902,0.23529411764705882,0.27450980392156865,0.3137254901960784,0.3529411764705882,0.39215686274509803,0.43137254901960786,0.47058823529411764,0.5098039215686274,0.5490196078431373,0.5882352941176471,0.6274509803921569,0.6666666666666666,0.7058823529411764,0.7450980392156863,0.7843137254901961,0.8235294117647058,0.8627450980392157,0.9019607843137255,0.9411764705882353,0.9803921568627451,1.0196078431372548,1.0588235294117647,1.0980392156862746],\"y\":[-0.759132661553698,-1.29779781277986,-1.80516973209118,-2.2518454905432064,-2.6120885792492134,-2.865383552228482,-2.9976752850607538,-3.002217990530032,-2.87998270551014,-2.6395986343870934,-2.2968318922350304,-1.8736331348520783,-1.3968116046380703,-0.8964156880684307,-0.40391780901665153,0.04968669850846963,0.4357518984742077,0.7297116429005708,0.9125635177379274,0.9720167051210666,0.9032344240855292,0.709126101777316,0.400171626224501,-0.00621170311967667,-0.48672128699579287,-1.01357684613019,-1.5561985203387252,-2.083054079473124,-2.563563663349242],\"type\":\"scatter\",\"xaxis\":\"x3\",\"yaxis\":\"y3\"},{\"mode\":\"lines\",\"x\":[0.0,0.0392156862745098,0.0784313725490196,0.11764705882352941,0.1568627450980392,0.19607843137254902,0.23529411764705882,0.27450980392156865,0.3137254901960784,0.3529411764705882,0.39215686274509803,0.43137254901960786,0.47058823529411764,0.5098039215686274,0.5490196078431373,0.5882352941176471,0.6274509803921569,0.6666666666666666,0.7058823529411764,0.7450980392156863,0.7843137254901961,0.8235294117647058,0.8627450980392157,0.9019607843137255,0.9411764705882353,0.9803921568627451,1.0196078431372548,1.0588235294117647,1.0980392156862746],\"y\":[1.8761708392158862,1.926256142284999,1.9741255608429829,2.017697063381966,2.055148238858953,2.085026381490428,2.1063362430837604,2.1186001521268483,2.1218868680745895,2.1168074278564504,2.1044782355015363,2.0864536244939877,2.0646319665056905,2.041140998114205,2.0182092924748627,1.998031639845642,1.9826364688060658,1.9737633167409308,1.9727577511225012,1.9804900889896415,1.9973028244654274,2.022989940013331,2.0568093511588894,2.0975277329394024,2.1434950202894116,2.1927440820821325,2.2431095479039587,2.29235860969668,2.3383258970466887],\"type\":\"scatter\",\"xaxis\":\"x3\",\"yaxis\":\"y3\"},{\"marker\":{\"color\":\"mediumpurple\"},\"mode\":\"markers\",\"x\":[0.3745401188473625,0.9507143064099162,0.7319939418114051,0.5986584841970366,0.15601864044243652,0.15599452033620265,0.05808361216819946,0.8661761457749352,0.6011150117432088,0.7080725777960455],\"y\":[0.6621995859491285,-0.2504894367193866,-1.0399487832345553,-0.6275182299806012,0.854857342681687,0.6392487011533475,0.18441089666331875,-0.8014323286500792,-0.6947217251134631,-0.9340757540684701],\"type\":\"scatter\",\"xaxis\":\"x\",\"yaxis\":\"y\"},{\"marker\":{\"color\":\"mediumpurple\"},\"mode\":\"markers\",\"x\":[0.3745401188473625,0.9507143064099162,0.7319939418114051,0.5986584841970366,0.15601864044243652,0.15599452033620265,0.05808361216819946,0.8661761457749352,0.6011150117432088,0.7080725777960455],\"y\":[0.6621995859491285,-0.2504894367193866,-1.0399487832345553,-0.6275182299806012,0.854857342681687,0.6392487011533475,0.18441089666331875,-0.8014323286500792,-0.6947217251134631,-0.9340757540684701],\"type\":\"scatter\",\"xaxis\":\"x2\",\"yaxis\":\"y2\"},{\"marker\":{\"color\":\"mediumpurple\"},\"mode\":\"markers\",\"x\":[0.3745401188473625,0.9507143064099162,0.7319939418114051,0.5986584841970366,0.15601864044243652,0.15599452033620265,0.05808361216819946,0.8661761457749352,0.6011150117432088,0.7080725777960455],\"y\":[0.6621995859491285,-0.2504894367193866,-1.0399487832345553,-0.6275182299806012,0.854857342681687,0.6392487011533475,0.18441089666331875,-0.8014323286500792,-0.6947217251134631,-0.9340757540684701],\"type\":\"scatter\",\"xaxis\":\"x3\",\"yaxis\":\"y3\"}],                        {\"template\":{\"data\":{\"histogram2dcontour\":[{\"type\":\"histogram2dcontour\",\"colorbar\":{\"outlinewidth\":0,\"ticks\":\"\"},\"colorscale\":[[0.0,\"#0d0887\"],[0.1111111111111111,\"#46039f\"],[0.2222222222222222,\"#7201a8\"],[0.3333333333333333,\"#9c179e\"],[0.4444444444444444,\"#bd3786\"],[0.5555555555555556,\"#d8576b\"],[0.6666666666666666,\"#ed7953\"],[0.7777777777777778,\"#fb9f3a\"],[0.8888888888888888,\"#fdca26\"],[1.0,\"#f0f921\"]]}],\"choropleth\":[{\"type\":\"choropleth\",\"colorbar\":{\"outlinewidth\":0,\"ticks\":\"\"}}],\"histogram2d\":[{\"type\":\"histogram2d\",\"colorbar\":{\"outlinewidth\":0,\"ticks\":\"\"},\"colorscale\":[[0.0,\"#0d0887\"],[0.1111111111111111,\"#46039f\"],[0.2222222222222222,\"#7201a8\"],[0.3333333333333333,\"#9c179e\"],[0.4444444444444444,\"#bd3786\"],[0.5555555555555556,\"#d8576b\"],[0.6666666666666666,\"#ed7953\"],[0.7777777777777778,\"#fb9f3a\"],[0.8888888888888888,\"#fdca26\"],[1.0,\"#f0f921\"]]}],\"heatmap\":[{\"type\":\"heatmap\",\"colorbar\":{\"outlinewidth\":0,\"ticks\":\"\"},\"colorscale\":[[0.0,\"#0d0887\"],[0.1111111111111111,\"#46039f\"],[0.2222222222222222,\"#7201a8\"],[0.3333333333333333,\"#9c179e\"],[0.4444444444444444,\"#bd3786\"],[0.5555555555555556,\"#d8576b\"],[0.6666666666666666,\"#ed7953\"],[0.7777777777777778,\"#fb9f3a\"],[0.8888888888888888,\"#fdca26\"],[1.0,\"#f0f921\"]]}],\"heatmapgl\":[{\"type\":\"heatmapgl\",\"colorbar\":{\"outlinewidth\":0,\"ticks\":\"\"},\"colorscale\":[[0.0,\"#0d0887\"],[0.1111111111111111,\"#46039f\"],[0.2222222222222222,\"#7201a8\"],[0.3333333333333333,\"#9c179e\"],[0.4444444444444444,\"#bd3786\"],[0.5555555555555556,\"#d8576b\"],[0.6666666666666666,\"#ed7953\"],[0.7777777777777778,\"#fb9f3a\"],[0.8888888888888888,\"#fdca26\"],[1.0,\"#f0f921\"]]}],\"contourcarpet\":[{\"type\":\"contourcarpet\",\"colorbar\":{\"outlinewidth\":0,\"ticks\":\"\"}}],\"contour\":[{\"type\":\"contour\",\"colorbar\":{\"outlinewidth\":0,\"ticks\":\"\"},\"colorscale\":[[0.0,\"#0d0887\"],[0.1111111111111111,\"#46039f\"],[0.2222222222222222,\"#7201a8\"],[0.3333333333333333,\"#9c179e\"],[0.4444444444444444,\"#bd3786\"],[0.5555555555555556,\"#d8576b\"],[0.6666666666666666,\"#ed7953\"],[0.7777777777777778,\"#fb9f3a\"],[0.8888888888888888,\"#fdca26\"],[1.0,\"#f0f921\"]]}],\"surface\":[{\"type\":\"surface\",\"colorbar\":{\"outlinewidth\":0,\"ticks\":\"\"},\"colorscale\":[[0.0,\"#0d0887\"],[0.1111111111111111,\"#46039f\"],[0.2222222222222222,\"#7201a8\"],[0.3333333333333333,\"#9c179e\"],[0.4444444444444444,\"#bd3786\"],[0.5555555555555556,\"#d8576b\"],[0.6666666666666666,\"#ed7953\"],[0.7777777777777778,\"#fb9f3a\"],[0.8888888888888888,\"#fdca26\"],[1.0,\"#f0f921\"]]}],\"mesh3d\":[{\"type\":\"mesh3d\",\"colorbar\":{\"outlinewidth\":0,\"ticks\":\"\"}}],\"scatter\":[{\"fillpattern\":{\"fillmode\":\"overlay\",\"size\":10,\"solidity\":0.2},\"type\":\"scatter\"}],\"parcoords\":[{\"type\":\"parcoords\",\"line\":{\"colorbar\":{\"outlinewidth\":0,\"ticks\":\"\"}}}],\"scatterpolargl\":[{\"type\":\"scatterpolargl\",\"marker\":{\"colorbar\":{\"outlinewidth\":0,\"ticks\":\"\"}}}],\"bar\":[{\"error_x\":{\"color\":\"#2a3f5f\"},\"error_y\":{\"color\":\"#2a3f5f\"},\"marker\":{\"line\":{\"color\":\"#E5ECF6\",\"width\":0.5},\"pattern\":{\"fillmode\":\"overlay\",\"size\":10,\"solidity\":0.2}},\"type\":\"bar\"}],\"scattergeo\":[{\"type\":\"scattergeo\",\"marker\":{\"colorbar\":{\"outlinewidth\":0,\"ticks\":\"\"}}}],\"scatterpolar\":[{\"type\":\"scatterpolar\",\"marker\":{\"colorbar\":{\"outlinewidth\":0,\"ticks\":\"\"}}}],\"histogram\":[{\"marker\":{\"pattern\":{\"fillmode\":\"overlay\",\"size\":10,\"solidity\":0.2}},\"type\":\"histogram\"}],\"scattergl\":[{\"type\":\"scattergl\",\"marker\":{\"colorbar\":{\"outlinewidth\":0,\"ticks\":\"\"}}}],\"scatter3d\":[{\"type\":\"scatter3d\",\"line\":{\"colorbar\":{\"outlinewidth\":0,\"ticks\":\"\"}},\"marker\":{\"colorbar\":{\"outlinewidth\":0,\"ticks\":\"\"}}}],\"scattermapbox\":[{\"type\":\"scattermapbox\",\"marker\":{\"colorbar\":{\"outlinewidth\":0,\"ticks\":\"\"}}}],\"scatterternary\":[{\"type\":\"scatterternary\",\"marker\":{\"colorbar\":{\"outlinewidth\":0,\"ticks\":\"\"}}}],\"scattercarpet\":[{\"type\":\"scattercarpet\",\"marker\":{\"colorbar\":{\"outlinewidth\":0,\"ticks\":\"\"}}}],\"carpet\":[{\"aaxis\":{\"endlinecolor\":\"#2a3f5f\",\"gridcolor\":\"white\",\"linecolor\":\"white\",\"minorgridcolor\":\"white\",\"startlinecolor\":\"#2a3f5f\"},\"baxis\":{\"endlinecolor\":\"#2a3f5f\",\"gridcolor\":\"white\",\"linecolor\":\"white\",\"minorgridcolor\":\"white\",\"startlinecolor\":\"#2a3f5f\"},\"type\":\"carpet\"}],\"table\":[{\"cells\":{\"fill\":{\"color\":\"#EBF0F8\"},\"line\":{\"color\":\"white\"}},\"header\":{\"fill\":{\"color\":\"#C8D4E3\"},\"line\":{\"color\":\"white\"}},\"type\":\"table\"}],\"barpolar\":[{\"marker\":{\"line\":{\"color\":\"#E5ECF6\",\"width\":0.5},\"pattern\":{\"fillmode\":\"overlay\",\"size\":10,\"solidity\":0.2}},\"type\":\"barpolar\"}],\"pie\":[{\"automargin\":true,\"type\":\"pie\"}]},\"layout\":{\"autotypenumbers\":\"strict\",\"colorway\":[\"#636efa\",\"#EF553B\",\"#00cc96\",\"#ab63fa\",\"#FFA15A\",\"#19d3f3\",\"#FF6692\",\"#B6E880\",\"#FF97FF\",\"#FECB52\"],\"font\":{\"color\":\"#2a3f5f\"},\"hovermode\":\"closest\",\"hoverlabel\":{\"align\":\"left\"},\"paper_bgcolor\":\"white\",\"plot_bgcolor\":\"#E5ECF6\",\"polar\":{\"bgcolor\":\"#E5ECF6\",\"angularaxis\":{\"gridcolor\":\"white\",\"linecolor\":\"white\",\"ticks\":\"\"},\"radialaxis\":{\"gridcolor\":\"white\",\"linecolor\":\"white\",\"ticks\":\"\"}},\"ternary\":{\"bgcolor\":\"#E5ECF6\",\"aaxis\":{\"gridcolor\":\"white\",\"linecolor\":\"white\",\"ticks\":\"\"},\"baxis\":{\"gridcolor\":\"white\",\"linecolor\":\"white\",\"ticks\":\"\"},\"caxis\":{\"gridcolor\":\"white\",\"linecolor\":\"white\",\"ticks\":\"\"}},\"coloraxis\":{\"colorbar\":{\"outlinewidth\":0,\"ticks\":\"\"}},\"colorscale\":{\"sequential\":[[0.0,\"#0d0887\"],[0.1111111111111111,\"#46039f\"],[0.2222222222222222,\"#7201a8\"],[0.3333333333333333,\"#9c179e\"],[0.4444444444444444,\"#bd3786\"],[0.5555555555555556,\"#d8576b\"],[0.6666666666666666,\"#ed7953\"],[0.7777777777777778,\"#fb9f3a\"],[0.8888888888888888,\"#fdca26\"],[1.0,\"#f0f921\"]],\"sequentialminus\":[[0.0,\"#0d0887\"],[0.1111111111111111,\"#46039f\"],[0.2222222222222222,\"#7201a8\"],[0.3333333333333333,\"#9c179e\"],[0.4444444444444444,\"#bd3786\"],[0.5555555555555556,\"#d8576b\"],[0.6666666666666666,\"#ed7953\"],[0.7777777777777778,\"#fb9f3a\"],[0.8888888888888888,\"#fdca26\"],[1.0,\"#f0f921\"]],\"diverging\":[[0,\"#8e0152\"],[0.1,\"#c51b7d\"],[0.2,\"#de77ae\"],[0.3,\"#f1b6da\"],[0.4,\"#fde0ef\"],[0.5,\"#f7f7f7\"],[0.6,\"#e6f5d0\"],[0.7,\"#b8e186\"],[0.8,\"#7fbc41\"],[0.9,\"#4d9221\"],[1,\"#276419\"]]},\"xaxis\":{\"gridcolor\":\"white\",\"linecolor\":\"white\",\"ticks\":\"\",\"title\":{\"standoff\":15},\"zerolinecolor\":\"white\",\"automargin\":true,\"zerolinewidth\":2},\"yaxis\":{\"gridcolor\":\"white\",\"linecolor\":\"white\",\"ticks\":\"\",\"title\":{\"standoff\":15},\"zerolinecolor\":\"white\",\"automargin\":true,\"zerolinewidth\":2},\"scene\":{\"xaxis\":{\"backgroundcolor\":\"#E5ECF6\",\"gridcolor\":\"white\",\"linecolor\":\"white\",\"showbackground\":true,\"ticks\":\"\",\"zerolinecolor\":\"white\",\"gridwidth\":2},\"yaxis\":{\"backgroundcolor\":\"#E5ECF6\",\"gridcolor\":\"white\",\"linecolor\":\"white\",\"showbackground\":true,\"ticks\":\"\",\"zerolinecolor\":\"white\",\"gridwidth\":2},\"zaxis\":{\"backgroundcolor\":\"#E5ECF6\",\"gridcolor\":\"white\",\"linecolor\":\"white\",\"showbackground\":true,\"ticks\":\"\",\"zerolinecolor\":\"white\",\"gridwidth\":2}},\"shapedefaults\":{\"line\":{\"color\":\"#2a3f5f\"}},\"annotationdefaults\":{\"arrowcolor\":\"#2a3f5f\",\"arrowhead\":0,\"arrowwidth\":1},\"geo\":{\"bgcolor\":\"white\",\"landcolor\":\"#E5ECF6\",\"subunitcolor\":\"white\",\"showland\":true,\"showlakes\":true,\"lakecolor\":\"white\"},\"title\":{\"x\":0.05},\"mapbox\":{\"style\":\"light\"}}},\"xaxis\":{\"anchor\":\"y\",\"domain\":[0.0,0.2888888888888889],\"title\":{\"text\":\"x\"},\"range\":[0,1]},\"yaxis\":{\"anchor\":\"x\",\"domain\":[0.0,1.0],\"title\":{\"text\":\"t\"},\"range\":[-2,2]},\"xaxis2\":{\"anchor\":\"y2\",\"domain\":[0.35555555555555557,0.6444444444444445],\"title\":{\"text\":\"x\"},\"range\":[0,1]},\"yaxis2\":{\"anchor\":\"x2\",\"domain\":[0.0,1.0],\"title\":{\"text\":\"t\"},\"range\":[-2,2]},\"xaxis3\":{\"anchor\":\"y3\",\"domain\":[0.7111111111111111,1.0],\"title\":{\"text\":\"x\"},\"range\":[0,1]},\"yaxis3\":{\"anchor\":\"x3\",\"domain\":[0.0,1.0],\"title\":{\"text\":\"t\"},\"range\":[-2,2]},\"annotations\":[{\"font\":{\"size\":16},\"showarrow\":false,\"text\":\"f1\",\"x\":0.14444444444444446,\"xanchor\":\"center\",\"xref\":\"paper\",\"y\":1.0,\"yanchor\":\"bottom\",\"yref\":\"paper\"},{\"font\":{\"size\":16},\"showarrow\":false,\"text\":\"f2\",\"x\":0.5,\"xanchor\":\"center\",\"xref\":\"paper\",\"y\":1.0,\"yanchor\":\"bottom\",\"yref\":\"paper\"},{\"font\":{\"size\":16},\"showarrow\":false,\"text\":\"f3\",\"x\":0.8555555555555556,\"xanchor\":\"center\",\"xref\":\"paper\",\"y\":1.0,\"yanchor\":\"bottom\",\"yref\":\"paper\"}],\"showlegend\":false},                        {\"responsive\": true}                    ).then(function(){\n",
              "                            \n",
              "var gd = document.getElementById('4688a9b3-6453-4dc2-b111-adfa176541a1');\n",
              "var x = new MutationObserver(function (mutations, observer) {{\n",
              "        var display = window.getComputedStyle(gd).display;\n",
              "        if (!display || display === 'none') {{\n",
              "            console.log([gd, 'removed!']);\n",
              "            Plotly.purge(gd);\n",
              "            observer.disconnect();\n",
              "        }}\n",
              "}});\n",
              "\n",
              "// Listen for the removal of the full notebook cells\n",
              "var notebookContainer = gd.closest('#notebook-container');\n",
              "if (notebookContainer) {{\n",
              "    x.observe(notebookContainer, {childList: true});\n",
              "}}\n",
              "\n",
              "// Listen for the clearing of the current output cell\n",
              "var outputEl = gd.closest('.output');\n",
              "if (outputEl) {{\n",
              "    x.observe(outputEl, {childList: true});\n",
              "}}\n",
              "\n",
              "                        })                };                            </script>        </div>\n",
              "</body>\n",
              "</html>"
            ]
          },
          "metadata": {}
        }
      ]
    },
    {
      "cell_type": "markdown",
      "metadata": {
        "id": "CENyGHlSp_FX"
      },
      "source": [
        "###Loss landscapes\n",
        "\n",
        "Let's focus now on the simple $f(x) = ax + b$.\n",
        "Given our dataset $(\\mathbf{x}, \\mathbf{t})$ we will choose the parameters $a$ and $b$ that minimize a global error $E$, also known as *loss*.\n",
        "\n",
        "The standard choice for $E$ in a regression problem is the Mean Squared Error, defined as:\n",
        "\n",
        "$$E(\\theta) = \\frac{1}{N} \\sum_{i=1}^N(f_\\theta(x_i) - t_i)^2$$\n",
        "\n",
        "Notice that apart from normalization factors, the MSE corresponds to the squared $L_2$ norm of the residual vector, namely $E=\\|f_\\theta(\\mathbf{x}) - \\mathbf{t}\\|_2^2$ (here $f_\\theta$ operates element-wise).\n",
        "\n",
        "Let's now compute the MSE **loss landscape** for our dataset, so that we can visualize it. The landscape is simply defined as the value of the loss function computed over a subset of the parameter domain.\n",
        "\n",
        "\n",
        "\n"
      ]
    },
    {
      "cell_type": "code",
      "metadata": {
        "id": "OXuXlT5Sx-UE"
      },
      "source": [
        "resolution = 51\n",
        "\n",
        "mse_losses = np.empty((resolution, resolution))\n",
        "a_range = np.linspace(-5, 5, resolution)\n",
        "b_range = np.linspace(-5, 5, resolution)\n",
        "\n",
        "for i, a in enumerate(a_range):\n",
        "    for j, b in enumerate(b_range):\n",
        "        y_pred = a * x + b\n",
        "        residuals = t - y_pred\n",
        "        loss = np.einsum('i,i->', residuals, residuals)\n",
        "        mse_losses[i][j] = loss\n",
        "\n",
        "# let's ignore the division by N for this exercise"
      ],
      "execution_count": 10,
      "outputs": []
    },
    {
      "cell_type": "markdown",
      "metadata": {
        "id": "VDZ63eJt6Uj5"
      },
      "source": [
        ">**EXERCISE** Vectorize the piece of code above. i.e. the two `for` cycles should disappear."
      ]
    },
    {
      "cell_type": "code",
      "metadata": {
        "id": "uAiwop63Qc1Q",
        "cellView": "both",
        "outputId": "0be809c4-44ae-49de-9636-8aca86a43cbe",
        "colab": {
          "base_uri": "https://localhost:8080/"
        }
      },
      "source": [
        "# ✏️ your code here\n",
        "y_pred=( a_range[:,None,None] +x[None,None,:])*b_range[:,None,None]\n",
        "print(y_pred.shape)"
      ],
      "execution_count": 34,
      "outputs": [
        {
          "output_type": "stream",
          "name": "stdout",
          "text": [
            "(51, 1, 10)\n"
          ]
        }
      ]
    },
    {
      "cell_type": "code",
      "source": [
        "# @title 👀 Solution (without einsum)\n",
        "\n",
        "Y_pred = x[None, None, :] * a_range[:, None, None] + b_range[None, :, None] # let broadcasting do the job!\n",
        "R = t[None, None, :] - Y_pred\n",
        "L = np.sum(R**2, axis=2)\n",
        "np.allclose(L, mse_losses)"
      ],
      "metadata": {
        "id": "J14M4HzfaTrb",
        "outputId": "94b16bc0-227e-45a6-aca2-0797fa367c64",
        "colab": {
          "base_uri": "https://localhost:8080/"
        }
      },
      "execution_count": 18,
      "outputs": [
        {
          "output_type": "execute_result",
          "data": {
            "text/plain": [
              "False"
            ]
          },
          "metadata": {},
          "execution_count": 18
        }
      ]
    },
    {
      "cell_type": "code",
      "metadata": {
        "id": "AutBpNSt0nAI",
        "cellView": "form"
      },
      "source": [
        "# @title 👀 Solution (with einsum)\n",
        "\n",
        "a_times_x = np.einsum('i,j->ij', a_range, x)\n",
        "Y_pred = a_times_x[:, :, None] + b_range[None, None, :]\n",
        "residuals = t[None, :, None] - Y_pred\n",
        "L = np.einsum('ijk->ik', residuals ** 2)\n",
        "np.allclose(L, mse_losses)"
      ],
      "execution_count": null,
      "outputs": []
    },
    {
      "cell_type": "code",
      "metadata": {
        "id": "6B6SVoGH3kvN",
        "colab": {
          "base_uri": "https://localhost:8080/",
          "height": 443
        },
        "outputId": "6420b9f3-3247-47e4-8ce9-9b996ebae6c2"
      },
      "source": [
        "# @title MSE loss landscape plot\n",
        "fig = go.Figure(data=[go.Surface(z=mse_losses, x=a_range, y=b_range)])\n",
        "fig.update_traces(contours_z=dict(show=True, usecolormap=True,\n",
        "                                  highlightcolor=\"limegreen\", project_z=True))\n",
        "fig.update_layout(\n",
        "    title=\"MSE loss landscape\",\n",
        "    scene = dict(\n",
        "                xaxis_title='a',\n",
        "                yaxis_title='b',\n",
        "                zaxis_title='loss')\n",
        ")\n",
        "\n",
        "\n",
        "fig.show()"
      ],
      "execution_count": 20,
      "outputs": [
        {
          "output_type": "error",
          "ename": "ValueError",
          "evalue": "\n    Invalid value of type 'numpy.float64' received for the 'z' property of surface\n        Received value: np.float64(427.69268071536027)\n\n    The 'z' property is an array that may be specified as a tuple,\n    list, numpy array, or pandas Series",
          "traceback": [
            "\u001b[0;31m---------------------------------------------------------------------------\u001b[0m",
            "\u001b[0;31mValueError\u001b[0m                                Traceback (most recent call last)",
            "\u001b[0;32m<ipython-input-20-8aeb63d59b99>\u001b[0m in \u001b[0;36m<cell line: 0>\u001b[0;34m()\u001b[0m\n\u001b[1;32m      1\u001b[0m \u001b[0;31m# @title MSE loss landscape plot\u001b[0m\u001b[0;34m\u001b[0m\u001b[0;34m\u001b[0m\u001b[0m\n\u001b[0;32m----> 2\u001b[0;31m \u001b[0mfig\u001b[0m \u001b[0;34m=\u001b[0m \u001b[0mgo\u001b[0m\u001b[0;34m.\u001b[0m\u001b[0mFigure\u001b[0m\u001b[0;34m(\u001b[0m\u001b[0mdata\u001b[0m\u001b[0;34m=\u001b[0m\u001b[0;34m[\u001b[0m\u001b[0mgo\u001b[0m\u001b[0;34m.\u001b[0m\u001b[0mSurface\u001b[0m\u001b[0;34m(\u001b[0m\u001b[0mz\u001b[0m\u001b[0;34m=\u001b[0m\u001b[0mmse_losses\u001b[0m\u001b[0;34m,\u001b[0m \u001b[0mx\u001b[0m\u001b[0;34m=\u001b[0m\u001b[0ma_range\u001b[0m\u001b[0;34m,\u001b[0m \u001b[0my\u001b[0m\u001b[0;34m=\u001b[0m\u001b[0mb_range\u001b[0m\u001b[0;34m)\u001b[0m\u001b[0;34m]\u001b[0m\u001b[0;34m)\u001b[0m\u001b[0;34m\u001b[0m\u001b[0;34m\u001b[0m\u001b[0m\n\u001b[0m\u001b[1;32m      3\u001b[0m fig.update_traces(contours_z=dict(show=True, usecolormap=True,\n\u001b[1;32m      4\u001b[0m                                   highlightcolor=\"limegreen\", project_z=True))\n\u001b[1;32m      5\u001b[0m fig.update_layout(\n",
            "\u001b[0;32m/usr/local/lib/python3.11/dist-packages/plotly/graph_objs/_surface.py\u001b[0m in \u001b[0;36m__init__\u001b[0;34m(self, arg, autocolorscale, cauto, cmax, cmid, cmin, coloraxis, colorbar, colorscale, connectgaps, contours, customdata, customdatasrc, hidesurface, hoverinfo, hoverinfosrc, hoverlabel, hovertemplate, hovertemplatesrc, hovertext, hovertextsrc, ids, idssrc, legend, legendgroup, legendgrouptitle, legendrank, legendwidth, lighting, lightposition, meta, metasrc, name, opacity, opacityscale, reversescale, scene, showlegend, showscale, stream, surfacecolor, surfacecolorsrc, text, textsrc, uid, uirevision, visible, x, xcalendar, xhoverformat, xsrc, y, ycalendar, yhoverformat, ysrc, z, zcalendar, zhoverformat, zsrc, **kwargs)\u001b[0m\n\u001b[1;32m   2805\u001b[0m         \u001b[0m_v\u001b[0m \u001b[0;34m=\u001b[0m \u001b[0mz\u001b[0m \u001b[0;32mif\u001b[0m \u001b[0mz\u001b[0m \u001b[0;32mis\u001b[0m \u001b[0;32mnot\u001b[0m \u001b[0;32mNone\u001b[0m \u001b[0;32melse\u001b[0m \u001b[0m_v\u001b[0m\u001b[0;34m\u001b[0m\u001b[0;34m\u001b[0m\u001b[0m\n\u001b[1;32m   2806\u001b[0m         \u001b[0;32mif\u001b[0m \u001b[0m_v\u001b[0m \u001b[0;32mis\u001b[0m \u001b[0;32mnot\u001b[0m \u001b[0;32mNone\u001b[0m\u001b[0;34m:\u001b[0m\u001b[0;34m\u001b[0m\u001b[0;34m\u001b[0m\u001b[0m\n\u001b[0;32m-> 2807\u001b[0;31m             \u001b[0mself\u001b[0m\u001b[0;34m[\u001b[0m\u001b[0;34m\"z\"\u001b[0m\u001b[0;34m]\u001b[0m \u001b[0;34m=\u001b[0m \u001b[0m_v\u001b[0m\u001b[0;34m\u001b[0m\u001b[0;34m\u001b[0m\u001b[0m\n\u001b[0m\u001b[1;32m   2808\u001b[0m         \u001b[0m_v\u001b[0m \u001b[0;34m=\u001b[0m \u001b[0marg\u001b[0m\u001b[0;34m.\u001b[0m\u001b[0mpop\u001b[0m\u001b[0;34m(\u001b[0m\u001b[0;34m\"zcalendar\"\u001b[0m\u001b[0;34m,\u001b[0m \u001b[0;32mNone\u001b[0m\u001b[0;34m)\u001b[0m\u001b[0;34m\u001b[0m\u001b[0;34m\u001b[0m\u001b[0m\n\u001b[1;32m   2809\u001b[0m         \u001b[0m_v\u001b[0m \u001b[0;34m=\u001b[0m \u001b[0mzcalendar\u001b[0m \u001b[0;32mif\u001b[0m \u001b[0mzcalendar\u001b[0m \u001b[0;32mis\u001b[0m \u001b[0;32mnot\u001b[0m \u001b[0;32mNone\u001b[0m \u001b[0;32melse\u001b[0m \u001b[0m_v\u001b[0m\u001b[0;34m\u001b[0m\u001b[0;34m\u001b[0m\u001b[0m\n",
            "\u001b[0;32m/usr/local/lib/python3.11/dist-packages/plotly/basedatatypes.py\u001b[0m in \u001b[0;36m__setitem__\u001b[0;34m(self, prop, value)\u001b[0m\n\u001b[1;32m   4866\u001b[0m                 \u001b[0;31m# ### Handle simple property ###\u001b[0m\u001b[0;34m\u001b[0m\u001b[0;34m\u001b[0m\u001b[0m\n\u001b[1;32m   4867\u001b[0m                 \u001b[0;32melse\u001b[0m\u001b[0;34m:\u001b[0m\u001b[0;34m\u001b[0m\u001b[0;34m\u001b[0m\u001b[0m\n\u001b[0;32m-> 4868\u001b[0;31m                     \u001b[0mself\u001b[0m\u001b[0;34m.\u001b[0m\u001b[0m_set_prop\u001b[0m\u001b[0;34m(\u001b[0m\u001b[0mprop\u001b[0m\u001b[0;34m,\u001b[0m \u001b[0mvalue\u001b[0m\u001b[0;34m)\u001b[0m\u001b[0;34m\u001b[0m\u001b[0;34m\u001b[0m\u001b[0m\n\u001b[0m\u001b[1;32m   4869\u001b[0m             \u001b[0;32melse\u001b[0m\u001b[0;34m:\u001b[0m\u001b[0;34m\u001b[0m\u001b[0;34m\u001b[0m\u001b[0m\n\u001b[1;32m   4870\u001b[0m                 \u001b[0;31m# Make sure properties dict is initialized\u001b[0m\u001b[0;34m\u001b[0m\u001b[0;34m\u001b[0m\u001b[0m\n",
            "\u001b[0;32m/usr/local/lib/python3.11/dist-packages/plotly/basedatatypes.py\u001b[0m in \u001b[0;36m_set_prop\u001b[0;34m(self, prop, val)\u001b[0m\n\u001b[1;32m   5210\u001b[0m                 \u001b[0;32mreturn\u001b[0m\u001b[0;34m\u001b[0m\u001b[0;34m\u001b[0m\u001b[0m\n\u001b[1;32m   5211\u001b[0m             \u001b[0;32melse\u001b[0m\u001b[0;34m:\u001b[0m\u001b[0;34m\u001b[0m\u001b[0;34m\u001b[0m\u001b[0m\n\u001b[0;32m-> 5212\u001b[0;31m                 \u001b[0;32mraise\u001b[0m \u001b[0merr\u001b[0m\u001b[0;34m\u001b[0m\u001b[0;34m\u001b[0m\u001b[0m\n\u001b[0m\u001b[1;32m   5213\u001b[0m \u001b[0;34m\u001b[0m\u001b[0m\n\u001b[1;32m   5214\u001b[0m         \u001b[0;31m# val is None\u001b[0m\u001b[0;34m\u001b[0m\u001b[0;34m\u001b[0m\u001b[0m\n",
            "\u001b[0;32m/usr/local/lib/python3.11/dist-packages/plotly/basedatatypes.py\u001b[0m in \u001b[0;36m_set_prop\u001b[0;34m(self, prop, val)\u001b[0m\n\u001b[1;32m   5205\u001b[0m \u001b[0;34m\u001b[0m\u001b[0m\n\u001b[1;32m   5206\u001b[0m         \u001b[0;32mtry\u001b[0m\u001b[0;34m:\u001b[0m\u001b[0;34m\u001b[0m\u001b[0;34m\u001b[0m\u001b[0m\n\u001b[0;32m-> 5207\u001b[0;31m             \u001b[0mval\u001b[0m \u001b[0;34m=\u001b[0m \u001b[0mvalidator\u001b[0m\u001b[0;34m.\u001b[0m\u001b[0mvalidate_coerce\u001b[0m\u001b[0;34m(\u001b[0m\u001b[0mval\u001b[0m\u001b[0;34m)\u001b[0m\u001b[0;34m\u001b[0m\u001b[0;34m\u001b[0m\u001b[0m\n\u001b[0m\u001b[1;32m   5208\u001b[0m         \u001b[0;32mexcept\u001b[0m \u001b[0mValueError\u001b[0m \u001b[0;32mas\u001b[0m \u001b[0merr\u001b[0m\u001b[0;34m:\u001b[0m\u001b[0;34m\u001b[0m\u001b[0;34m\u001b[0m\u001b[0m\n\u001b[1;32m   5209\u001b[0m             \u001b[0;32mif\u001b[0m \u001b[0mself\u001b[0m\u001b[0;34m.\u001b[0m\u001b[0m_skip_invalid\u001b[0m\u001b[0;34m:\u001b[0m\u001b[0;34m\u001b[0m\u001b[0;34m\u001b[0m\u001b[0m\n",
            "\u001b[0;32m/usr/local/lib/python3.11/dist-packages/_plotly_utils/basevalidators.py\u001b[0m in \u001b[0;36mvalidate_coerce\u001b[0;34m(self, v)\u001b[0m\n\u001b[1;32m    410\u001b[0m             \u001b[0mv\u001b[0m \u001b[0;34m=\u001b[0m \u001b[0mto_scalar_or_list\u001b[0m\u001b[0;34m(\u001b[0m\u001b[0mv\u001b[0m\u001b[0;34m)\u001b[0m\u001b[0;34m\u001b[0m\u001b[0;34m\u001b[0m\u001b[0m\n\u001b[1;32m    411\u001b[0m         \u001b[0;32melse\u001b[0m\u001b[0;34m:\u001b[0m\u001b[0;34m\u001b[0m\u001b[0;34m\u001b[0m\u001b[0m\n\u001b[0;32m--> 412\u001b[0;31m             \u001b[0mself\u001b[0m\u001b[0;34m.\u001b[0m\u001b[0mraise_invalid_val\u001b[0m\u001b[0;34m(\u001b[0m\u001b[0mv\u001b[0m\u001b[0;34m)\u001b[0m\u001b[0;34m\u001b[0m\u001b[0;34m\u001b[0m\u001b[0m\n\u001b[0m\u001b[1;32m    413\u001b[0m         \u001b[0;32mreturn\u001b[0m \u001b[0mv\u001b[0m\u001b[0;34m\u001b[0m\u001b[0;34m\u001b[0m\u001b[0m\n\u001b[1;32m    414\u001b[0m \u001b[0;34m\u001b[0m\u001b[0m\n",
            "\u001b[0;32m/usr/local/lib/python3.11/dist-packages/_plotly_utils/basevalidators.py\u001b[0m in \u001b[0;36mraise_invalid_val\u001b[0;34m(self, v, inds)\u001b[0m\n\u001b[1;32m    294\u001b[0m                 \u001b[0mname\u001b[0m \u001b[0;34m+=\u001b[0m \u001b[0;34m\"[\"\u001b[0m \u001b[0;34m+\u001b[0m \u001b[0mstr\u001b[0m\u001b[0;34m(\u001b[0m\u001b[0mi\u001b[0m\u001b[0;34m)\u001b[0m \u001b[0;34m+\u001b[0m \u001b[0;34m\"]\"\u001b[0m\u001b[0;34m\u001b[0m\u001b[0;34m\u001b[0m\u001b[0m\n\u001b[1;32m    295\u001b[0m \u001b[0;34m\u001b[0m\u001b[0m\n\u001b[0;32m--> 296\u001b[0;31m         raise ValueError(\n\u001b[0m\u001b[1;32m    297\u001b[0m             \"\"\"\n\u001b[1;32m    298\u001b[0m     \u001b[0mInvalid\u001b[0m \u001b[0mvalue\u001b[0m \u001b[0mof\u001b[0m \u001b[0mtype\u001b[0m \u001b[0;34m{\u001b[0m\u001b[0mtyp\u001b[0m\u001b[0;34m}\u001b[0m \u001b[0mreceived\u001b[0m \u001b[0;32mfor\u001b[0m \u001b[0mthe\u001b[0m \u001b[0;34m'{name}'\u001b[0m \u001b[0mproperty\u001b[0m \u001b[0mof\u001b[0m \u001b[0;34m{\u001b[0m\u001b[0mpname\u001b[0m\u001b[0;34m}\u001b[0m\u001b[0;34m\u001b[0m\u001b[0;34m\u001b[0m\u001b[0m\n",
            "\u001b[0;31mValueError\u001b[0m: \n    Invalid value of type 'numpy.float64' received for the 'z' property of surface\n        Received value: np.float64(427.69268071536027)\n\n    The 'z' property is an array that may be specified as a tuple,\n    list, numpy array, or pandas Series"
          ]
        }
      ]
    },
    {
      "cell_type": "markdown",
      "metadata": {
        "id": "jZy5qkSz6_2S"
      },
      "source": [
        "Look at the [convexity](https://en.wikipedia.org/wiki/Convex_function) of the MSE loss. Can you do the linear regression by sight hovering the mouse over it?\n",
        "\n",
        ">**EXERCISE** Visualize the **loss landscape** of other loss choices, such as the $L_1$ norm of the residual vector ($\\|f_\\theta(\\mathbf{x}) - \\mathbf{x}\\|_1)$ (absolute error) or the $L_{50}$ norm. Are these still convex?  "
      ]
    },
    {
      "cell_type": "code",
      "metadata": {
        "id": "DhhE2MtUi3g_"
      },
      "source": [
        "# ✏️ your code here"
      ],
      "execution_count": null,
      "outputs": []
    },
    {
      "cell_type": "code",
      "metadata": {
        "cellView": "form",
        "id": "IrlLWxcm0tb9",
        "colab": {
          "base_uri": "https://localhost:8080/",
          "height": 542
        },
        "outputId": "520361dd-c1d2-484b-f11d-e03d24f05572"
      },
      "source": [
        "# @title 👀 Solution (see how we did the slider!) { run: \"auto\" }\n",
        "\n",
        "p = 1  #@param {type:\"slider\", min:1, max:50, step:1}\n",
        "\n",
        "predictions = a_range[:, None, None] * x[None, None, :]  + b_range[None, :, None]\n",
        "residuals = np.abs(t[None, None, :] - predictions) ** p\n",
        "losses = (residuals.sum(-1) ** (1/p)) / predictions.shape[-1]\n",
        "\n",
        "\n",
        "fig = go.Figure(data=[go.Surface(z=losses, x=a_range, y=b_range)])\n",
        "fig.update_traces(contours_z=dict(show=True, usecolormap=True,\n",
        "                                  highlightcolor=\"limegreen\", project_z=True))\n",
        "fig.update_layout(\n",
        "    title=f\"L{p} landscape\",\n",
        "    scene = dict(\n",
        "                xaxis_title='a',\n",
        "                yaxis_title='b',\n",
        "                zaxis_title='loss')\n",
        ")\n",
        "fig.show()"
      ],
      "execution_count": null,
      "outputs": [
        {
          "output_type": "display_data",
          "data": {
            "text/html": [
              "<html>\n",
              "<head><meta charset=\"utf-8\" /></head>\n",
              "<body>\n",
              "    <div>            <script src=\"https://cdnjs.cloudflare.com/ajax/libs/mathjax/2.7.5/MathJax.js?config=TeX-AMS-MML_SVG\"></script><script type=\"text/javascript\">if (window.MathJax && window.MathJax.Hub && window.MathJax.Hub.Config) {window.MathJax.Hub.Config({SVG: {font: \"STIX-Web\"}});}</script>                <script type=\"text/javascript\">window.PlotlyConfig = {MathJaxConfig: 'local'};</script>\n",
              "        <script charset=\"utf-8\" src=\"https://cdn.plot.ly/plotly-2.24.1.min.js\"></script>                <div id=\"4a1112cb-d447-4283-b45a-0a1fc1e79f9f\" class=\"plotly-graph-div\" style=\"height:525px; width:100%;\"></div>            <script type=\"text/javascript\">                                    window.PLOTLYENV=window.PLOTLYENV || {};                                    if (document.getElementById(\"4a1112cb-d447-4283-b45a-0a1fc1e79f9f\")) {                    Plotly.newPlot(                        \"4a1112cb-d447-4283-b45a-0a1fc1e79f9f\",                        [{\"x\":[-5.0,-4.8,-4.6,-4.4,-4.2,-4.0,-3.8,-3.5999999999999996,-3.4,-3.2,-3.0,-2.8,-2.5999999999999996,-2.4,-2.1999999999999997,-2.0,-1.7999999999999998,-1.5999999999999996,-1.4,-1.1999999999999997,-1.0,-0.7999999999999998,-0.5999999999999996,-0.39999999999999947,-0.1999999999999993,0.0,0.20000000000000018,0.40000000000000036,0.6000000000000005,0.8000000000000007,1.0,1.2000000000000002,1.4000000000000004,1.6000000000000005,1.8000000000000007,2.0,2.2,2.4000000000000004,2.6000000000000005,2.8000000000000007,3.0,3.200000000000001,3.4000000000000004,3.5999999999999996,3.8000000000000007,4.0,4.200000000000001,4.4,4.600000000000001,4.800000000000001,5.0],\"y\":[-5.0,-4.8,-4.6,-4.4,-4.2,-4.0,-3.8,-3.5999999999999996,-3.4,-3.2,-3.0,-2.8,-2.5999999999999996,-2.4,-2.1999999999999997,-2.0,-1.7999999999999998,-1.5999999999999996,-1.4,-1.1999999999999997,-1.0,-0.7999999999999998,-0.5999999999999996,-0.39999999999999947,-0.1999999999999993,0.0,0.20000000000000018,0.40000000000000036,0.6000000000000005,0.8000000000000007,1.0,1.2000000000000002,1.4000000000000004,1.6000000000000005,1.8000000000000007,2.0,2.2,2.4000000000000004,2.6000000000000005,2.8000000000000007,3.0,3.200000000000001,3.4000000000000004,3.5999999999999996,3.8000000000000007,4.0,4.200000000000001,4.4,4.600000000000001,4.800000000000001,5.0],\"z\":[[7.3999367066314665,7.199936706631467,6.999936706631466,6.799936706631466,6.599936706631468,6.3999367066314665,6.199936706631467,5.999936706631466,5.799936706631466,5.599936706631467,5.3999367066314665,5.199936706631467,4.999936706631466,4.799936706631467,4.599936706631467,4.3999367066314665,4.199936706631467,3.999936706631466,3.799936706631467,3.5999367066314663,3.399936706631467,3.1999367066314663,2.999936706631467,2.799936706631466,2.599936706631466,2.3999367066314665,2.1999367066314663,1.9999367066314666,1.8249709151306035,1.6649709151306031,1.5049709151306037,1.3449709151306035,1.184970915130603,1.061126654563731,0.974136545584957,0.8941365455849575,0.8141365455849574,0.7588110406635249,0.7718310046263368,0.8865693924794918,1.0065693924794914,1.126569392479492,1.2465693924794914,1.3806797124345715,1.5406797124345726,1.700679712434572,1.8606797124345724,2.020679712434572,2.200063293368535,2.400063293368534,2.6000632933685335],[7.295909359440932,7.095909359440933,6.895909359440931,6.6959093594409325,6.495909359440932,6.295909359440932,6.095909359440933,5.895909359440931,5.695909359440932,5.495909359440932,5.295909359440932,5.095909359440933,4.895909359440931,4.695909359440932,4.495909359440931,4.295909359440932,4.095909359440933,3.8959093594409318,3.6959093594409316,3.495909359440932,3.2959093594409317,3.0959093594409315,2.8959093594409318,2.6959093594409307,2.4959093594409305,2.2959093594409317,2.095909359440932,1.8959093594409318,1.723266912426796,1.563266912426796,1.4032669124267965,1.2432669124267963,1.0856624326733724,0.9656624326733724,0.8849130693122957,0.804913069312296,0.7267870030615082,0.7175785042284734,0.7979211215826325,0.9179211215826326,1.0379211215826323,1.1579211215826328,1.2866784873687105,1.44667848736871,1.6066784873687108,1.7666784873687102,1.9266784873687108,2.1040906405590682,2.30409064055907,2.5040906405590695,2.704090640559069],[7.191882012250396,6.991882012250396,6.791882012250397,6.591882012250397,6.391882012250397,6.191882012250398,5.991882012250397,5.7918820122503964,5.591882012250396,5.391882012250397,5.191882012250398,4.991882012250397,4.7918820122503964,4.591882012250396,4.391882012250397,4.191882012250398,3.9918820122503966,3.791882012250396,3.591882012250397,3.391882012250396,3.191882012250397,2.9918820122503966,2.791882012250396,2.591882012250396,2.391882012250396,2.191882012250397,1.9918820122503966,1.7918820122503962,1.6215629097229889,1.4615629097229887,1.3015629097229895,1.1415629097229893,0.9901982107830133,0.8756895930396343,0.7956895930396343,0.7156895930396345,0.6763459677934217,0.7092728506857734,0.8292728506857735,0.9492728506857734,1.069272850685773,1.1926772623028494,1.352677262302849,1.5126772623028484,1.6726772623028492,1.8326772623028487,2.0081179877496043,2.208117987749604,2.4081179877496046,2.608117987749604,2.808117987749603],[7.087854665059862,6.887854665059862,6.687854665059862,6.487854665059864,6.287854665059863,6.087854665059862,5.887854665059861,5.687854665059861,5.487854665059862,5.287854665059863,5.087854665059862,4.887854665059862,4.687854665059861,4.487854665059862,4.287854665059863,4.087854665059862,3.887854665059862,3.6878546650598616,3.4878546650598623,3.287854665059862,3.087854665059862,2.8878546650598613,2.6878546650598616,2.4878546650598614,2.2878546650598617,2.0878546650598624,1.8878546650598618,1.6878546650598618,1.5198589070191824,1.359858907019182,1.1998589070191827,1.0398589070191826,0.8947339888926547,0.7864661167669731,0.706466116766973,0.6364292514556423,0.6426598015644188,0.7406245797889143,0.8606245797889143,0.9806245797889146,1.100624579788914,1.2586760372369876,1.418676037236987,1.5786760372369868,1.7386760372369874,1.9121453349401378,2.1121453349401387,2.312145334940138,2.512145334940139,2.7121453349401383,2.9121453349401376],[6.983827317869327,6.783827317869327,6.583827317869327,6.3838273178693274,6.183827317869327,5.983827317869327,5.783827317869326,5.583827317869327,5.3838273178693274,5.183827317869327,4.983827317869327,4.783827317869326,4.583827317869327,4.3838273178693274,4.183827317869327,3.983827317869327,3.783827317869327,3.583827317869327,3.383827317869327,3.1838273178693264,2.983827317869327,2.783827317869327,2.583827317869327,2.3838273178693266,2.1838273178693264,1.983827317869327,1.7838273178693267,1.5838273178693267,1.4181549043153754,1.2581549043153752,1.0981549043153758,0.9381549043153754,0.7992697670022958,0.6972426404943117,0.6172426404943117,0.5938808949233186,0.6590299259136653,0.7719763088920552,0.8919763088920553,1.0119763088920553,1.1646748121711252,1.324674812171126,1.4846748121711255,1.6446748121711248,1.816172682130674,2.016172682130673,2.216172682130674,2.416172682130673,2.6161726821306743,2.8161726821306736,3.016172682130673],[6.879799970678792,6.679799970678792,6.479799970678792,6.279799970678793,6.079799970678792,5.879799970678792,5.679799970678792,5.479799970678791,5.279799970678793,5.079799970678793,4.879799970678792,4.6797999706787925,4.479799970678791,4.279799970678793,4.079799970678792,3.879799970678792,3.679799970678792,3.4797999706787914,3.279799970678792,3.079799970678791,2.879799970678792,2.679799970678792,2.4797999706787914,2.2797999706787913,2.079799970678791,1.879799970678792,1.6797999706787916,1.4797999706787917,1.3164509016115682,1.156450901611568,0.9964509016115686,0.8364509016115684,0.7038055451119367,0.6080191642216501,0.5526483584882671,0.5954000502629115,0.683328037995196,0.8033280379951963,0.9233280379951962,1.0706735871052642,1.2306735871052636,1.3906735871052645,1.550673587105264,1.7202000293212076,1.9202000293212087,2.120200029321208,2.3202000293212093,2.5202000293212086,2.7202000293212096,2.920200029321209,3.120200029321208],[6.7757726234882565,6.575772623488257,6.375772623488257,6.175772623488257,5.9757726234882576,5.7757726234882565,5.575772623488257,5.375772623488257,5.175772623488257,4.9757726234882576,4.7757726234882565,4.575772623488257,4.375772623488257,4.175772623488257,3.9757726234882567,3.775772623488257,3.5757726234882568,3.375772623488256,3.175772623488257,2.9757726234882567,2.775772623488257,2.5757726234882563,2.375772623488256,2.175772623488256,1.9757726234882562,1.775772623488257,1.5757726234882568,1.3757726234882566,1.2147468989077612,1.0547468989077609,0.8947468989077617,0.7347468989077616,0.608341323221578,0.5208926240468428,0.5317701746121583,0.611770174612158,0.7146797670983369,0.8346797670983372,0.9766723620394024,1.1366723620394026,1.296672362039402,1.4566723620394026,1.6242273765117434,1.8242273765117427,2.0242273765117433,2.2242273765117426,2.4242273765117437,2.624227376511744,2.8242273765117445,3.024227376511744,3.224227376511743],[6.671745276297722,6.471745276297722,6.271745276297721,6.071745276297722,5.871745276297722,5.671745276297721,5.471745276297723,5.271745276297722,5.0717452762977215,4.871745276297722,4.671745276297722,4.471745276297723,4.271745276297722,4.0717452762977215,3.871745276297722,3.6717452762977216,3.471745276297722,3.2717452762977217,3.0717452762977215,2.871745276297722,2.671745276297722,2.471745276297722,2.2717452762977213,2.0717452762977215,1.8717452762977214,1.6717452762977216,1.4717452762977217,1.2730428962039544,1.1130428962039542,0.9530428962039539,0.7930428962039545,0.6330428962039545,0.512877101331219,0.4711374041608633,0.5481402989614048,0.6281402989614044,0.7460314962014779,0.8826711369735408,1.0426711369735409,1.202671136973541,1.3626711369735405,1.5282547237022794,1.7282547237022787,1.928254723702278,2.1282547237022786,2.328254723702278,2.5282547237022794,2.7282547237022787,2.9282547237022793,3.1282547237022786,3.3282547237022784],[6.567717929107187,6.367717929107187,6.167717929107186,5.967717929107187,5.767717929107187,5.567717929107188,5.367717929107187,5.167717929107186,4.967717929107186,4.767717929107187,4.567717929107188,4.367717929107187,4.167717929107186,3.9677179291071867,3.7677179291071865,3.567717929107187,3.3677179291071866,3.1677179291071864,2.9677179291071867,2.767717929107187,2.567717929107187,2.3677179291071866,2.1677179291071864,1.9677179291071867,1.7677179291071865,1.567717929107187,1.367717929107187,1.1713388935001474,1.0113388935001475,0.8513388935001471,0.6913388935001477,0.5374128794408602,0.4305348724409768,0.4845104233106511,0.5645104233106512,0.6573832253046186,0.7886699119076788,0.9486699119076789,1.1086699119076788,1.2686699119076792,1.432282070892813,1.632282070892814,1.8322820708928134,2.032282070892813,2.2322820708928135,2.432282070892813,2.6322820708928143,2.8322820708928136,3.032282070892814,3.2322820708928135,3.432282070892813],[6.463690581916653,6.263690581916651,6.063690581916652,5.863690581916653,5.6636905819166525,5.463690581916652,5.263690581916651,5.063690581916652,4.863690581916652,4.6636905819166525,4.463690581916652,4.263690581916651,4.063690581916652,3.8636905819166523,3.663690581916652,3.4636905819166524,3.2636905819166513,3.063690581916652,2.8636905819166523,2.663690581916652,2.4636905819166524,2.2636905819166517,2.063690581916652,1.8636905819166518,1.6636905819166514,1.4636905819166521,1.2636905819166517,1.0696348907963404,0.9096348907963403,0.74963489079634,0.5896348907963407,0.44194865755050133,0.42088054765989746,0.5008805476598975,0.5808805476598976,0.6946686868418169,0.8546686868418171,1.014668686841817,1.1746686868418172,1.3363094180833486,1.5363094180833479,1.736309418083349,1.9363094180833482,2.1363094180833473,2.336309418083349,2.5363094180833476,2.7363094180833487,2.936309418083348,3.136309418083349,3.3363094180833484,3.5363094180833476],[6.359663234726118,6.159663234726117,5.959663234726117,5.759663234726117,5.559663234726117,5.359663234726118,5.159663234726117,4.959663234726117,4.759663234726117,4.559663234726117,4.359663234726118,4.159663234726117,3.959663234726117,3.759663234726118,3.5596632347261163,3.359663234726118,3.159663234726117,2.959663234726117,2.759663234726117,2.559663234726117,2.3596632347261175,2.159663234726117,1.9596632347261171,1.7596632347261167,1.5596632347261166,1.3596632347261173,1.159663234726117,0.9679308880925335,0.8079308880925333,0.6479308880925332,0.4879308880925338,0.381833324810943,0.43725067200914386,0.5172506720091439,0.6006674617759556,0.7606674617759551,0.9206674617759554,1.0806674617759555,1.2406674617759554,1.4403367652738834,1.6403367652738825,1.8403367652738836,2.040336765273883,2.240336765273882,2.4403367652738837,2.6403367652738825,2.8403367652738836,3.040336765273883,3.2403367652738835,3.4403367652738837,3.640336765273882],[6.255635887535582,6.0556358875355825,5.855635887535582,5.655635887535582,5.455635887535584,5.255635887535582,5.0556358875355825,4.855635887535582,4.655635887535582,4.455635887535584,4.255635887535582,4.055635887535582,3.855635887535582,3.655635887535582,3.455635887535581,3.2556358875355818,3.055635887535582,2.855635887535582,2.655635887535582,2.4556358875355815,2.2556358875355818,2.055635887535582,1.8556358875355816,1.6556358875355817,1.4556358875355815,1.2556358875355822,1.055635887535582,0.8662268853887264,0.7062268853887262,0.5462268853887261,0.38854682383522243,0.39196270354249196,0.45362079635839014,0.5336207963583904,0.6666662367100942,0.8266662367100934,0.9866662367100938,1.1466662367100937,1.3443641124644183,1.5443641124644185,1.7443641124644178,1.944364112464419,2.1443641124644186,2.344364112464418,2.544364112464419,2.7443641124644182,2.944364112464419,3.144364112464418,3.3443641124644197,3.544364112464419,3.7443641124644182],[6.1516085403450464,5.951608540345047,5.751608540345046,5.551608540345048,5.3516085403450475,5.1516085403450464,4.951608540345047,4.751608540345046,4.551608540345048,4.3516085403450475,4.1516085403450464,3.9516085403450476,3.751608540345047,3.5516085403450477,3.3516085403450466,3.1516085403450473,2.9516085403450476,2.751608540345047,2.5516085403450472,2.3516085403450466,2.1516085403450473,1.9516085403450467,1.7516085403450468,1.5516085403450466,1.3516085403450462,1.151608540345047,0.9516085403450469,0.7645228826849193,0.6045228826849192,0.444522882684919,0.3710589730795358,0.4020920822740409,0.46999092070763665,0.5798657906346865,0.7326650116442325,0.892665011644232,1.052665011644232,1.2483914596549532,1.4483914596549534,1.6483914596549536,1.8483914596549529,2.0483914596549537,2.248391459654953,2.4483914596549523,2.6483914596549534,2.8483914596549527,3.0483914596549537,3.248391459654953,3.4483914596549545,3.6483914596549534,3.848391459654953],[6.047581193154512,5.847581193154513,5.647581193154513,5.447581193154512,5.247581193154512,5.047581193154512,4.847581193154513,4.647581193154513,4.4475811931545115,4.247581193154512,4.047581193154512,3.8475811931545123,3.6475811931545126,3.4475811931545124,3.2475811931545118,3.0475811931545125,2.847581193154512,2.647581193154512,2.4475811931545115,2.2475811931545118,2.047581193154512,1.847581193154512,1.6475811931545121,1.4475811931545117,1.2475811931545115,1.0475811931545123,0.8475811931545121,0.6628188799811124,0.5028188799811123,0.37680099741609374,0.3749485709976366,0.4122214610055899,0.5108829608149301,0.6386637865783705,0.7986637865783708,0.9586637865783703,1.152418806845488,1.352418806845488,1.5524188068454883,1.7524188068454882,1.9524188068454875,2.1524188068454886,2.352418806845488,2.552418806845487,2.7524188068454882,2.9524188068454875,3.1524188068454886,3.3524188068454874,3.552418806845489,3.7524188068454882,3.9524188068454875],[5.943553845963978,5.7435538459639774,5.543553845963977,5.343553845963978,5.143553845963977,4.943553845963978,4.7435538459639774,4.543553845963977,4.343553845963976,4.143553845963977,3.943553845963978,3.7435538459639774,3.5435538459639764,3.3435538459639766,3.1435538459639765,2.9435538459639767,2.743553845963977,2.543553845963977,2.343553845963977,2.1435538459639765,1.943553845963977,1.743553845963977,1.5435538459639766,1.3435538459639766,1.1435538459639762,0.943553845963977,0.7435538459639769,0.5611148772773054,0.40702729952719807,0.37883816891573746,0.3823508397371388,0.4419001309951739,0.5619001309951741,0.7046625615125091,0.8646625615125092,1.0564461540360228,1.256446154036023,1.4564461540360232,1.6564461540360234,1.8564461540360235,2.056446154036023,2.256446154036024,2.456446154036023,2.6564461540360225,2.856446154036024,3.0564461540360233,3.2564461540360243,3.4564461540360236,3.6564461540360242,3.8564461540360235,4.056446154036022],[5.839526498773442,5.639526498773441,5.439526498773442,5.239526498773443,5.0395264987734425,4.839526498773442,4.639526498773441,4.439526498773442,4.239526498773442,4.0395264987734425,3.8395264987734423,3.639526498773442,3.439526498773442,3.2395264987734422,3.0395264987734416,2.8395264987734423,2.6395264987734426,2.439526498773442,2.239526498773442,2.0395264987734416,1.8395264987734425,1.6395264987734421,1.4395264987734417,1.2395264987734418,1.0395264987734416,0.8395264987734423,0.6395264987734421,0.4594108745734985,0.38272776683383836,0.38272776683383836,0.40629622588872955,0.49291730117541765,0.6129173011754178,0.7706613364466472,0.9604735012265584,1.1604735012265577,1.3604735012265579,1.5604735012265578,1.7604735012265582,1.9604735012265582,2.1604735012265577,2.3604735012265587,2.560473501226558,2.7604735012265573,2.9604735012265584,3.1604735012265577,3.3604735012265587,3.560473501226558,3.760473501226559,3.960473501226558,4.160473501226558],[5.735499151582908,5.535499151582907,5.335499151582907,5.135499151582907,4.935499151582907,4.735499151582908,4.535499151582907,4.335499151582907,4.135499151582907,3.935499151582907,3.735499151582908,3.535499151582907,3.335499151582907,3.135499151582907,2.935499151582907,2.7354991515829075,2.535499151582907,2.3354991515829067,2.135499151582907,1.935499151582907,1.7354991515829075,1.535499151582907,1.335499151582907,1.1354991515829067,0.9354991515829066,0.7354991515829072,0.5354991515829071,0.396630773066752,0.3866173647519392,0.39508041800297855,0.451072650451276,0.5439344713556615,0.6766601113807854,0.8645008484170933,1.0645008484170932,1.2645008484170925,1.464500848417093,1.664500848417093,1.8645008484170933,2.0645008484170932,2.2645008484170925,2.4645008484170936,2.6645008484170933,2.864500848417092,3.0645008484170932,3.264500848417093,3.4645008484170936,3.664500848417093,3.8645008484170944,4.064500848417094,4.264500848417092],[5.631471804392372,5.4314718043923715,5.231471804392372,5.031471804392372,4.831471804392373,4.631471804392372,4.4314718043923715,4.231471804392372,4.031471804392372,3.831471804392373,3.6314718043923717,3.431471804392372,3.231471804392372,3.031471804392372,2.8314718043923723,2.6314718043923717,2.431471804392372,2.2314718043923714,2.031471804392372,1.831471804392372,1.6314718043923722,1.431471804392372,1.2314718043923718,1.0314718043923716,0.8314718043923716,0.6314718043923722,0.445455425578593,0.39050696267004004,0.39361706175207684,0.43361706175207687,0.49584907501382236,0.5949516415359054,0.7685281956076282,0.9685281956076283,1.1685281956076286,1.3685281956076278,1.568528195607628,1.7685281956076282,1.9685281956076282,2.168528195607629,2.3685281956076283,2.5685281956076293,2.7685281956076286,2.968528195607628,3.168528195607629,3.3685281956076283,3.5685281956076293,3.768528195607628,3.9685281956076297,4.168528195607629,4.368528195607628],[5.527444457201836,5.327444457201837,5.127444457201837,4.927444457201838,4.7274444572018375,4.527444457201836,4.327444457201837,4.127444457201837,3.9274444572018377,3.7274444572018375,3.5274444572018373,3.3274444572018376,3.127444457201837,2.9274444572018377,2.7274444572018375,2.5274444572018373,2.3274444572018376,2.127444457201837,1.9274444572018374,1.7274444572018375,1.5274444572018373,1.327444457201837,1.1274444572018372,0.9274444572018368,0.7274444572018367,0.5304759101415552,0.40966288090695047,0.3943965605881409,0.432153705501175,0.472153705501175,0.5406254995763685,0.6725555427981629,0.872555542798163,1.0725555427981632,1.2725555427981634,1.4725555427981627,1.6725555427981629,1.8725555427981628,2.0725555427981632,2.2725555427981634,2.4725555427981627,2.6725555427981638,2.872555542798163,3.0725555427981623,3.2725555427981634,3.4725555427981627,3.6725555427981638,3.872555542798163,4.072555542798165,4.272555542798164,4.472555542798164],[5.423417110011302,5.223417110011302,5.0234171100113025,4.823417110011302,4.623417110011303,4.423417110011302,4.223417110011302,4.023417110011303,3.8234171100113015,3.623417110011303,3.4234171100113024,3.223417110011302,3.023417110011302,2.8234171100113015,2.6234171100113017,2.4234171100113024,2.223417110011302,2.023417110011302,1.8234171100113024,1.623417110011302,1.4234171100113022,1.2234171100113023,1.0234171100113019,0.8234171100113018,0.6234171100113016,0.47260605276611933,0.4091084047592733,0.4306903492502732,0.47069034925027314,0.5106903492502732,0.6073283779444125,0.7765828899886978,0.9765828899886981,1.176582889988698,1.3765828899886985,1.5765828899886976,1.7765828899886977,1.976582889988698,2.1765828899886985,2.3765828899886983,2.5765828899886976,2.7765828899886986,2.976582889988698,3.176582889988697,3.3765828899886983,3.5765828899886976,3.776582889988699,3.9765828899886975,4.176582889988699,4.376582889988699,4.576582889988698],[5.319389762820768,5.119389762820767,4.919389762820767,4.719389762820769,4.519389762820767,4.319389762820768,4.119389762820767,3.9193897628207672,3.719389762820768,3.5193897628207673,3.319389762820768,3.1193897628207674,2.9193897628207672,2.719389762820767,2.5193897628207673,2.319389762820768,2.1193897628207674,1.9193897628207672,1.7193897628207673,1.5193897628207673,1.3193897628207674,1.1193897628207672,0.919389762820767,0.7193897628207668,0.546181366359882,0.4506746581906462,0.4377258947656751,0.46922699299937143,0.5092269929993715,0.5701333747633559,0.6901333747633555,0.8806102371792328,1.0806102371792328,1.2806102371792332,1.4806102371792333,1.6806102371792329,1.8806102371792328,2.0806102371792328,2.280610237179233,2.4806102371792327,2.680610237179232,2.8806102371792335,3.0806102371792328,3.280610237179232,3.4806102371792327,3.680610237179232,3.8806102371792326,4.080610237179233,4.280610237179234,4.480610237179233,4.680610237179232],[5.215362415630233,5.015362415630232,4.815362415630233,4.615362415630233,4.4153624156302325,4.215362415630233,4.015362415630232,3.815362415630232,3.615362415630232,3.415362415630233,3.2153624156302327,3.015362415630232,2.815362415630232,2.615362415630232,2.415362415630232,2.2153624156302327,2.015362415630232,1.8153624156302317,1.6153624156302324,1.415362415630232,1.2153624156302325,1.0153624156302323,0.8153624156302322,0.6262331415873181,0.5025226230974245,0.4739391940280453,0.4739391940280453,0.5077636367484698,0.5657472350667606,0.652938371582299,0.7846375843697676,0.9846375843697677,1.1846375843697678,1.3846375843697678,1.5846375843697682,1.7846375843697675,1.984637584369768,2.184637584369768,2.384637584369768,2.5846375843697684,2.7846375843697673,2.984637584369769,3.184637584369768,3.3846375843697674,3.5846375843697684,3.7846375843697673,3.984637584369769,4.184637584369767,4.384637584369768,4.584637584369768,4.784637584369767],[5.111335068439697,4.911335068439698,4.711335068439697,4.511335068439697,4.311335068439698,4.111335068439697,3.9113350684396977,3.711335068439697,3.511335068439698,3.3113350684396976,3.111335068439697,2.911335068439697,2.711335068439697,2.511335068439698,2.3113350684396976,2.111335068439697,1.911335068439697,1.711335068439697,1.5113350684396973,1.311335068439697,1.1113350684396974,0.911335068439697,0.7114855520692396,0.5733319935474082,0.5101524932904156,0.5101524932904156,0.5101524932904156,0.5623124510722556,0.6423124510722557,0.735743368401242,0.8886649315603027,1.0886649315603028,1.288664931560303,1.4886649315603033,1.6886649315603033,1.888664931560303,2.088664931560303,2.288664931560303,2.488664931560303,2.688664931560303,2.888664931560303,3.0886649315603036,3.288664931560303,3.488664931560302,3.688664931560303,3.888664931560303,4.088664931560304,4.288664931560303,4.488664931560304,4.688664931560303,4.888664931560303],[5.007307721249163,4.807307721249162,4.607307721249161,4.407307721249163,4.207307721249162,4.007307721249163,3.807307721249162,3.6073077212491613,3.4073077212491625,3.2073077212491627,3.0073077212491617,2.807307721249162,2.6073077212491618,2.4073077212491625,2.207307721249162,2.0073077212491617,1.8073077212491622,1.6073077212491618,1.4073077212491623,1.2073077212491623,1.0073077212491626,0.8073077212491622,0.6469073071411713,0.5487548252924286,0.5463657925527861,0.546365792552786,0.5604065353838701,0.6388776670777505,0.7188776670777506,0.8185483652201851,0.9926922787508378,1.192692278750838,1.3926922787508378,1.5926922787508384,1.7926922787508386,1.9926922787508379,2.192692278750838,2.3926922787508382,2.592692278750838,2.792692278750839,2.9926922787508383,3.192692278750839,3.3926922787508382,3.5926922787508375,3.792692278750839,3.9926922787508374,4.1926922787508385,4.392692278750839,4.592692278750839,4.792692278750839,4.992692278750837],[4.903280374058626,4.703280374058627,4.503280374058627,4.303280374058627,4.103280374058628,3.903280374058627,3.7032803740586275,3.503280374058627,3.3032803740586276,3.103280374058627,2.9032803740586273,2.703280374058627,2.5032803740586274,2.303280374058627,2.1032803740586266,1.9032803740586275,1.703280374058627,1.503280374058627,1.3032803740586272,1.103280374058627,0.903280374058627,0.721990373033082,0.6061220406339529,0.5825790918151562,0.5825790918151562,0.594648406902637,0.6354428830832455,0.7154428830832454,0.7954428830832455,0.9139318400954082,1.096719625941373,1.296719625941373,1.4967196259413733,1.6967196259413733,1.8967196259413737,2.0967196259413727,2.296719625941373,2.496719625941373,2.6967196259413733,2.8967196259413734,3.0967196259413727,3.296719625941374,3.496719625941373,3.6967196259413724,3.896719625941374,4.096719625941373,4.296719625941374,4.496719625941373,4.696719625941375,4.896719625941374,5.096719625941374],[4.799253026868094,4.599253026868093,4.3992530268680925,4.199253026868094,3.999253026868092,3.7992530268680924,3.5992530268680922,3.3992530268680925,3.1992530268680928,2.999253026868093,2.799253026868093,2.5992530268680927,2.3992530268680925,2.1992530268680928,1.9992530268680924,1.7992530268680926,1.5992530268680925,1.3992530268680923,1.1992530268680928,0.9992530268680925,0.8072427835150038,0.6743444000587135,0.6187923910775264,0.6187923910775264,0.6288902784214039,0.6688902784214037,0.7120080990887401,0.7920080990887401,0.8720080990887402,1.0117184416682452,1.2007469731319074,1.4007469731319073,1.6007469731319077,1.8007469731319077,2.000746973131908,2.200746973131907,2.4007469731319073,2.6007469731319075,2.800746973131908,3.000746973131908,3.2007469731319076,3.400746973131908,3.6007469731319075,3.800746973131907,4.000746973131908,4.200746973131906,4.400746973131907,4.6007469731319075,4.800746973131908,5.000746973131908,5.200746973131906],[4.6952256796775576,4.4952256796775565,4.295225679677558,4.095225679677558,3.8952256796775573,3.695225679677558,3.4952256796775574,3.295225679677558,3.095225679677557,2.8952256796775577,2.695225679677558,2.4952256796775574,2.2952256796775576,2.095225679677557,1.8952256796775573,1.6952256796775576,1.4952256796775574,1.295225679677557,1.0952256796775575,0.8952256796775572,0.7476332479224607,0.665555704975895,0.6550056903398968,0.6631321499401708,0.7031321499401708,0.7431321499401707,0.788573315094235,0.8685733150942353,0.9511150026583041,1.109505043241083,1.3047743203224424,1.5047743203224426,1.7047743203224428,1.9047743203224428,2.1047743203224427,2.304774320322442,2.504774320322442,2.7047743203224424,2.904774320322443,3.1047743203224427,3.304774320322442,3.5047743203224435,3.704774320322442,3.904774320322442,4.104774320322443,4.3047743203224424,4.5047743203224435,4.704774320322442,4.904774320322444,5.104774320322443,5.3047743203224424],[4.591198332487023,4.391198332487023,4.191198332487022,3.9911983324870235,3.791198332487023,3.5911983324870227,3.391198332487023,3.191198332487022,2.991198332487022,2.791198332487023,2.5911983324870222,2.3911983324870225,2.191198332487022,1.9911983324870224,1.7911983324870224,1.5911983324870225,1.3911983324870223,1.1911983324870223,0.9911983324870224,0.8212085615162236,0.7307891189082344,0.691218989602267,0.6973740214589378,0.7373740214589379,0.7773740214589379,0.8173740214589376,0.86513853109973,0.9451385310997301,1.0472916448139205,1.208801667512978,1.4088016675129775,1.608801667512978,1.8088016675129779,2.008801667512978,2.208801667512978,2.4088016675129773,2.6088016675129775,2.808801667512978,3.008801667512978,3.208801667512978,3.4088016675129773,3.608801667512978,3.808801667512978,4.0088016675129765,4.208801667512978,4.408801667512977,4.608801667512978,4.808801667512978,5.008801667512979,5.208801667512978,5.408801667512977],[4.487170985296488,4.287170985296488,4.087170985296487,3.8871709852964877,3.6871709852964876,3.487170985296488,3.2871709852964868,3.087170985296487,2.8871709852964877,2.687170985296487,2.4871709852964874,2.287170985296487,2.087170985296487,1.8871709852964873,1.687170985296487,1.4871709852964874,1.2871709852964872,1.087170985296487,0.9030000149607671,0.7990114783329948,0.7300896247648725,0.7316158929777046,0.7716158929777047,0.8116158929777049,0.8516158929777049,0.8916158929777047,0.941703747105225,1.021703747105225,1.145078246386758,1.3128290147035133,1.5128290147035126,1.712829014703513,1.912829014703513,2.112829014703513,2.3128290147035133,2.5128290147035126,2.712829014703513,2.912829014703513,3.112829014703513,3.312829014703513,3.512829014703512,3.7128290147035137,3.912829014703513,4.112829014703513,4.312829014703514,4.512829014703512,4.712829014703514,4.912829014703513,5.112829014703514,5.312829014703514,5.512829014703512],[4.383143638105952,4.183143638105952,3.9831436381059517,3.7831436381059524,3.583143638105953,3.3831436381059516,3.1831436381059524,2.9831436381059517,2.783143638105952,2.5831436381059523,2.383143638105952,2.1831436381059524,1.9831436381059517,1.7831436381059522,1.5831436381059523,1.3831436381059525,1.1831436381059521,0.9882524254426883,0.8672338377577551,0.7872338377577554,0.7658577644964717,0.8058577644964717,0.845857764496472,0.8858577644964718,0.9258577644964718,0.9658577644964715,1.01826896311072,1.1057554649364723,1.2428648479595956,1.4168563618940482,1.6168563618940475,1.8168563618940479,2.0168563618940483,2.216856361894048,2.416856361894048,2.616856361894048,2.8168563618940476,3.0168563618940483,3.216856361894048,3.416856361894048,3.6168563618940484,3.816856361894049,4.016856361894048,4.216856361894047,4.416856361894048,4.616856361894048,4.8168563618940485,5.016856361894048,5.21685636189405,5.416856361894048,5.616856361894048],[4.279116290915418,4.079116290915417,3.879116290915418,3.679116290915419,3.4791162909154183,3.279116290915418,3.079116290915418,2.879116290915417,2.6791162909154176,2.479116290915418,2.2791162909154177,2.079116290915418,1.879116290915417,1.6791162909154178,1.4791162909154179,1.2791162909154177,1.0791162909154175,0.9354561971825156,0.8554561971825159,0.8000996360152385,0.8400996360152384,0.8800996360152384,0.9200996360152385,0.9600996360152385,1.0000996360152385,1.0400996360152384,1.0948341791162146,1.1973022856958615,1.3406514495324326,1.5208837090845828,1.7208837090845823,1.9208837090845823,2.1208837090845827,2.320883709084583,2.520883709084583,2.7208837090845823,2.920883709084582,3.1208837090845827,3.3208837090845824,3.5208837090845835,3.720883709084582,3.9208837090845834,4.120883709084582,4.3208837090845815,4.5208837090845835,4.720883709084582,4.920883709084583,5.120883709084582,5.320883709084583,5.520883709084583,5.720883709084582],[4.175088943724883,3.975088943724882,3.775088943724883,3.575088943724883,3.375088943724883,3.1750889437248833,2.975088943724883,2.7750889437248825,2.5750889437248827,2.375088943724883,2.175088943724883,1.9750889437248822,1.7750889437248822,1.5750889437248827,1.3750889437248826,1.1750889437248826,1.0069259871225313,0.9236785566072762,0.846890504448339,0.8743415075340053,0.9143415075340056,0.9543415075340054,0.9943415075340054,1.0343415075340054,1.0743415075340055,1.1143415075340053,1.1713993951217094,1.2888491064552512,1.4384380511052703,1.6249110562751177,1.824911056275117,2.024911056275117,2.2249110562751175,2.4249110562751173,2.6249110562751174,2.8249110562751167,3.024911056275117,3.224911056275117,3.424911056275117,3.624911056275118,3.824911056275117,4.024911056275118,4.224911056275117,4.424911056275116,4.624911056275118,4.824911056275118,5.024911056275118,5.2249110562751175,5.4249110562751195,5.624911056275119,5.824911056275118],[4.0710615965343475,3.871061596534348,3.671061596534348,3.471061596534348,3.2710615965343477,3.071061596534348,2.8710615965343473,2.6710615965343476,2.4710615965343474,2.271061596534348,2.071061596534348,1.8710615965343476,1.6710615965343476,1.4710615965343474,1.2710615965343472,1.08682544343545,0.9919009160320368,0.9119009160320365,0.9085833790527722,0.9485833790527725,0.9885833790527723,1.0285833790527723,1.0685833790527723,1.1085833790527724,1.1485833790527724,1.1885833790527722,1.2603959272146403,1.3803959272146404,1.536224652678108,1.7289384034656532,1.9289384034656525,2.1289384034656527,2.328938403465653,2.528938403465653,2.7289384034656528,2.928938403465652,3.1289384034656527,3.328938403465652,3.528938403465653,3.7289384034656528,3.928938403465652,4.1289384034656536,4.328938403465652,4.528938403465652,4.728938403465653,4.9289384034656525,5.1289384034656536,5.328938403465652,5.528938403465654,5.728938403465653,5.9289384034656525],[3.9670342493438127,3.767034249343812,3.5670342493438114,3.3670342493438126,3.167034249343813,2.967034249343812,2.7670342493438125,2.5670342493438123,2.3670342493438126,2.167034249343813,1.9670342493438124,1.7670342493438125,1.5670342493438123,1.3670342493438126,1.1692620673703733,1.0601232754567973,0.980123275456797,0.9457508896323672,0.9828252505715392,1.0228252505715392,1.0628252505715392,1.1028252505715392,1.1428252505715393,1.1828252505715393,1.2228252505715393,1.2628252505715394,1.3519427479740298,1.4740112542509454,1.6340112542509455,1.832965750656188,2.032965750656188,2.2329657506561875,2.4329657506561877,2.632965750656188,2.832965750656188,3.032965750656188,3.232965750656187,3.432965750656188,3.632965750656188,3.832965750656188,4.032965750656187,4.232965750656189,4.432965750656188,4.6329657506561865,4.832965750656188,5.032965750656187,5.232965750656189,5.432965750656188,5.632965750656188,5.832965750656188,6.032965750656187],[3.863006902153278,3.6630069021532767,3.463006902153277,3.2630069021532777,3.0630069021532775,2.8630069021532774,2.663006902153277,2.463006902153277,2.2630069021532777,2.063006902153278,1.8630069021532774,1.6630069021532776,1.4630069021532772,1.2630069021532773,1.1283456348815577,1.0483456348815579,1.000700672533005,1.0170671220903063,1.0570671220903063,1.0970671220903063,1.1370671220903061,1.1770671220903064,1.2170671220903062,1.2570671220903065,1.2970671220903065,1.339461647685531,1.4434895687334195,1.571797855823783,1.7369930978467232,1.9369930978467234,2.1369930978467226,2.336993097846723,2.536993097846723,2.736993097846723,2.9369930978467234,3.1369930978467226,3.3369930978467233,3.536993097846723,3.736993097846723,3.936993097846724,4.136993097846722,4.336993097846724,4.536993097846723,4.736993097846723,4.936993097846724,5.136993097846722,5.336993097846724,5.536993097846723,5.736993097846724,5.936993097846724,6.136993097846722],[3.7589795549627425,3.558979554962743,3.3589795549627426,3.158979554962743,2.958979554962743,2.758979554962743,2.5589795549627428,2.3589795549627426,2.158979554962743,1.9589795549627431,1.7589795549627432,1.5589795549627428,1.3589795549627428,1.206523812374206,1.116567994306318,1.0669516042141618,1.0513089936090732,1.091308993609073,1.131308993609073,1.171308993609073,1.2113089936090728,1.251308993609073,1.291308993609073,1.3313089936090732,1.3713089936090732,1.4286851239581921,1.5350363894928085,1.66958445739662,1.8410204450372576,2.0410204450372573,2.241020445037257,2.4410204450372577,2.6410204450372574,2.8410204450372576,3.0410204450372573,3.2410204450372575,3.4410204450372577,3.6410204450372574,3.8410204450372576,4.041020445037257,4.2410204450372575,4.441020445037259,4.641020445037258,4.841020445037256,5.041020445037257,5.2410204450372575,5.441020445037259,5.641020445037258,5.841020445037259,6.041020445037258,6.2410204450372575],[3.654952207772208,3.4549522077722075,3.2549522077722073,3.054952207772208,2.854952207772208,2.6549522077722076,2.4549522077722075,2.2549522077722077,2.054952207772208,1.8549522077722078,1.654952207772208,1.4549522077722077,1.2864232686871244,1.1847903537310787,1.1332025358953193,1.0966374860850236,1.1255508651278399,1.16555086512784,1.20555086512784,1.24555086512784,1.28555086512784,1.3255508651278398,1.3655508651278399,1.40555086512784,1.4455508651278401,1.517908600230854,1.626583210252198,1.767371058969458,1.9450477922277927,2.1450477922277935,2.345047792227793,2.5450477922277925,2.7450477922277927,2.9450477922277924,3.1450477922277935,3.345047792227793,3.5450477922277925,3.7450477922277927,3.9450477922277924,4.1450477922277935,4.345047792227792,4.545047792227793,4.745047792227792,4.945047792227792,5.1450477922277935,5.345047792227792,5.545047792227793,5.745047792227792,5.945047792227793,6.1450477922277935,6.345047792227792],[3.550924860581673,3.350924860581672,3.1509248605816724,2.950924860581673,2.750924860581673,2.550924860581673,2.3509248605816726,2.150924860581673,1.9509248605816727,1.750924860581673,1.5509248605816728,1.3669758762836577,1.2530127131558388,1.1994534675764763,1.1594534675764763,1.1597927366466068,1.1997927366466068,1.2397927366466068,1.279792736646607,1.319792736646607,1.359792736646607,1.399792736646607,1.439792736646607,1.479792736646607,1.5271320765035157,1.6071320765035153,1.7181300310115872,1.8651576605422953,2.0490751394183278,2.249075139418328,2.449075139418327,2.6490751394183274,2.8490751394183276,3.0490751394183278,3.249075139418328,3.449075139418327,3.649075139418328,3.849075139418327,4.049075139418328,4.249075139418327,4.449075139418327,4.649075139418327,4.849075139418327,5.049075139418326,5.249075139418327,5.449075139418327,5.649075139418327,5.849075139418327,6.049075139418329,6.249075139418327,6.449075139418326],[3.4468975133911384,3.2468975133911377,3.046897513391138,2.8468975133911387,2.6468975133911377,2.446897513391138,2.2468975133911377,2.046897513391138,1.8468975133911374,1.6468975133911379,1.4575955749241198,1.326222181312962,1.2657043992576333,1.2257043992576335,1.197228550386795,1.2340346081653741,1.274034608165374,1.3140346081653742,1.354034608165374,1.394034608165374,1.434034608165374,1.4740346081653737,1.514034608165374,1.5540346081653742,1.6163555527761773,1.6963555527761767,1.8096768517709765,1.9629442621151327,2.153102486608863,2.353102486608863,2.553102486608862,2.7531024866088623,2.953102486608862,3.153102486608863,3.353102486608863,3.553102486608862,3.7531024866088623,3.953102486608863,4.153102486608862,4.353102486608863,4.553102486608862,4.753102486608863,4.953102486608863,5.153102486608861,5.353102486608863,5.553102486608862,5.753102486608863,5.953102486608863,6.153102486608863,6.353102486608863,6.553102486608862],[3.3428701662006026,3.142870166200603,2.9428701662006023,2.7428701662006025,2.542870166200603,2.3428701662006026,2.142870166200603,1.9428701662006023,1.7428701662006023,1.5482152735645824,1.4061216376258805,1.3319553309387904,1.2919553309387903,1.2519553309387905,1.268276479684141,1.308276479684141,1.348276479684141,1.3882764796841411,1.428276479684141,1.468276479684141,1.508276479684141,1.548276479684141,1.588276479684141,1.628276479684141,1.7055790290488386,1.7855790290488383,1.9012236725303666,2.0607308636879704,2.257129833799398,2.457129833799398,2.6571298337993974,2.857129833799397,3.0571298337993977,3.257129833799398,3.457129833799398,3.6571298337993974,3.857129833799397,4.057129833799397,4.2571298337993975,4.457129833799398,4.657129833799397,4.857129833799399,5.057129833799397,5.2571298337993975,5.457129833799398,5.657129833799397,5.857129833799399,6.057129833799397,6.257129833799398,6.457129833799398,6.657129833799397],[3.238842819010068,3.0388428190100676,2.8388428190100674,2.6388428190100686,2.438842819010068,2.238842819010068,2.038842819010068,1.8388428190100676,1.6388428190100677,1.4860210939387994,1.3982062626199476,1.3582062626199474,1.3182062626199476,1.3025183512029075,1.3425183512029075,1.3825183512029078,1.4225183512029078,1.4625183512029079,1.5025183512029074,1.5425183512029075,1.5825183512029075,1.6225183512029075,1.6625183512029078,1.7148025053214997,1.7948025053214995,1.8748025053214996,1.9985174652608073,2.1611571809899326,2.3611571809899323,2.5611571809899325,2.761157180989932,2.9611571809899315,3.1611571809899326,3.3611571809899323,3.5611571809899325,3.761157180989932,3.9611571809899315,4.161157180989933,4.361157180989932,4.561157180989932,4.761157180989931,4.961157180989932,5.161157180989933,5.361157180989931,5.561157180989932,5.761157180989931,5.961157180989932,6.161157180989933,6.361157180989934,6.561157180989933,6.761157180989931],[3.1348154718195325,2.9348154718195323,2.7348154718195326,2.5348154718195333,2.3348154718195326,2.134815471819533,1.9348154718195325,1.734815471819532,1.569454670845507,1.4644755936979414,1.4244571943011046,1.3844571943011048,1.3481151468394512,1.376760222721675,1.416760222721675,1.456760222721675,1.496760222721675,1.536760222721675,1.576760222721675,1.616760222721675,1.656760222721675,1.6967602227216751,1.736760222721675,1.8040259815941617,1.8840259815941618,1.9643173140491452,2.0963040668336452,2.265184528180468,2.465184528180468,2.6651845281804682,2.8651845281804675,3.0651845281804677,3.2651845281804683,3.4651845281804676,3.6651845281804682,3.8651845281804675,4.065184528180468,4.265184528180468,4.465184528180467,4.665184528180469,4.8651845281804675,5.065184528180469,5.265184528180468,5.465184528180467,5.665184528180469,5.8651845281804675,6.065184528180469,6.265184528180468,6.46518452818047,6.665184528180468,6.865184528180467],[3.0307881246289985,2.830788124628998,2.630788124628998,2.4307881246289984,2.2307881246289982,2.0307881246289985,1.8307881246289976,1.6600743694859694,1.5424036222672568,1.4907081259822617,1.4507081259822616,1.4107081259822616,1.4110020942404415,1.4510020942404418,1.4910020942404416,1.5310020942404416,1.5710020942404417,1.6110020942404415,1.6510020942404418,1.6910020942404416,1.7310020942404414,1.7710020942404412,1.8132494578668226,1.8932494578668226,1.9732494578668227,2.0558641348085342,2.1940906684064823,2.3692118753710023,2.5692118753710025,2.769211875371003,2.9692118753710024,3.1692118753710017,3.3692118753710028,3.569211875371002,3.7692118753710027,3.969211875371002,4.169211875371002,4.369211875371002,4.569211875371003,4.769211875371002,4.969211875371002,5.169211875371002,5.369211875371002,5.569211875371001,5.769211875371002,5.969211875371002,6.169211875371002,6.369211875371002,6.569211875371003,6.769211875371002,6.969211875371002],[2.926760777438463,2.7267607774384635,2.526760777438463,2.3267607774384635,2.1267607774384634,1.9267607774384632,1.7506940681264325,1.620331650836572,1.5569590576634185,1.5169590576634187,1.476959057663419,1.4487062111412217,1.4852439657592083,1.5252439657592083,1.5652439657592083,1.6052439657592081,1.6452439657592084,1.6852439657592082,1.7252439657592085,1.7652439657592083,1.805243965759208,1.8452439657592083,1.9024729341394835,1.9824729341394836,2.062472934139484,2.1474109555679233,2.2918772699793197,2.473239222561537,2.673239222561537,2.8732392225615375,3.073239222561537,3.273239222561537,3.473239222561537,3.673239222561537,3.873239222561538,4.073239222561536,4.273239222561537,4.473239222561537,4.673239222561537,4.873239222561538,5.073239222561536,5.273239222561537,5.473239222561537,5.673239222561536,5.873239222561538,6.073239222561536,6.273239222561537,6.473239222561537,6.673239222561539,6.873239222561537,7.073239222561537],[2.822733430247928,2.6227334302479277,2.422733430247927,2.222733430247928,2.022733430247928,1.8413137667668944,1.6982596794058875,1.6232099893445764,1.5832099893445757,1.543209989344576,1.503209989344576,1.5194858372779758,1.5594858372779756,1.5994858372779757,1.639485837277976,1.6794858372779757,1.7194858372779755,1.7594858372779758,1.7994858372779756,1.8394858372779754,1.8794858372779752,1.9194858372779755,1.9916964104121457,2.0716964104121454,2.1516964104121454,2.238957776327313,2.389663871552158,2.5772665697520725,2.7772665697520726,2.9772665697520724,3.1772665697520717,3.3772665697520723,3.577266569752072,3.777266569752073,3.9772665697520724,4.1772665697520726,4.377266569752072,4.577266569752072,4.777266569752073,4.977266569752072,5.1772665697520726,5.377266569752073,5.577266569752072,5.777266569752071,5.977266569752072,6.1772665697520726,6.377266569752073,6.577266569752072,6.777266569752074,6.977266569752072,7.1772665697520726],[2.718706083057393,2.518706083057393,2.3187060830573922,2.118706083057393,1.9319334654073574,1.7826027978791674,1.6961877079752021,1.649460921025733,1.6094609210257331,1.5694609210257329,1.5537277087967425,1.593727708796742,1.6337277087967426,1.6737277087967424,1.7137277087967426,1.7537277087967424,1.7937277087967423,1.8337277087967425,1.8737277087967423,1.9137277087967424,1.9537277087967422,2.0009198866848066,2.0809198866848067,2.1609198866848067,2.2409198866848064,2.330504597086702,2.487450473124995,2.681293916942607,2.8812939169426075,3.081293916942607,3.2812939169426065,3.481293916942607,3.6812939169426064,3.8812939169426075,4.081293916942608,4.281293916942607,4.481293916942606,4.681293916942606,4.8812939169426075,5.081293916942608,5.281293916942607,5.481293916942607,5.681293916942606,5.881293916942606,6.081293916942608,6.281293916942607,6.481293916942609,6.681293916942607,6.881293916942608,7.081293916942609,7.281293916942607],[2.6146787358668577,2.4146787358668576,2.2146787358668574,2.02255316404782,1.8712510687760269,1.774115736544518,1.71571185270689,1.6757118527068902,1.6357118527068901,1.5995928075938786,1.6279695803155092,1.6679695803155095,1.7079695803155093,1.7479695803155095,1.7879695803155093,1.8279695803155096,1.8679695803155094,1.9079695803155097,1.9479695803155093,1.9879695803155095,2.0279695803155096,2.0901433629574684,2.1701433629574685,2.2501433629574685,2.330143362957469,2.4252370746978333,2.5853212641331424,2.7853212641331426,2.9853212641331424,3.185321264133143,3.3853212641331423,3.5853212641331424,3.7853212641331426,3.9853212641331424,4.185321264133142,4.385321264133141,4.585321264133142,4.785321264133143,4.985321264133143,5.185321264133143,5.385321264133142,5.585321264133144,5.785321264133143,5.985321264133143,6.185321264133142,6.385321264133141,6.5853212641331424,6.785321264133143,6.985321264133144,7.185321264133142,7.385321264133142],[2.510651388676323,2.3106513886763227,2.113172862688282,1.959899339672886,1.852043765113833,1.7819627843880472,1.7419627843880474,1.7019627843880472,1.6619627843880473,1.6622114518342763,1.7022114518342761,1.7422114518342764,1.7822114518342762,1.822211451834276,1.8622114518342763,1.9022114518342765,1.9422114518342763,1.9822114518342762,2.022211451834276,2.0622114518342767,2.1022114518342763,2.1793668392301297,2.2593668392301294,2.3393668392301294,2.41936683923013,2.5230236762706704,2.689348611323677,2.889348611323677,3.0893486113236777,3.2893486113236774,3.4893486113236767,3.6893486113236778,3.889348611323677,4.089348611323677,4.2893486113236765,4.489348611323676,4.689348611323678,4.889348611323678,5.089348611323677,5.289348611323677,5.489348611323676,5.689348611323678,5.889348611323678,6.089348611323676,6.2893486113236765,6.489348611323676,6.689348611323678,6.889348611323678,7.089348611323677,7.289348611323679,7.489348611323678],[2.406624041485787,2.2066240414857874,2.048547610569744,1.9299717936831484,1.8499717936831483,1.8082137160692047,1.7682137160692044,1.7282137160692046,1.7001838718956495,1.7364533233530437,1.7764533233530435,1.8164533233530435,1.8564533233530436,1.8964533233530436,1.9364533233530437,1.9764533233530437,2.0164533233530433,2.0564533233530438,2.0964533233530434,2.136453323353044,2.1885903155027915,2.2685903155027916,2.3485903155027916,2.4285903155027917,2.5085903155027918,2.6208102778435083,2.7933759585142126,2.993375958514213,3.193375958514213,3.3933759585142127,3.593375958514213,3.7933759585142126,3.993375958514213,4.1933759585142125,4.393375958514213,4.593375958514213,4.793375958514213,4.993375958514212,5.1933759585142125,5.393375958514213,5.593375958514213,5.793375958514213,5.993375958514213,6.1933759585142125,6.393375958514214,6.593375958514213,6.793375958514214,6.993375958514212,7.193375958514214,7.393375958514213,7.593375958514211],[2.3025966942952527,2.1371958814666034,2.0171958814666033,1.927899822252464,1.874464647750361,1.8344646477503612,1.7944646477503619,1.7544646477503616,1.7706951948718104,1.8106951948718102,1.85069519487181,1.8906951948718103,1.93069519487181,1.9706951948718099,2.0106951948718104,2.05069519487181,2.0906951948718104,2.13069519487181,2.17069519487181,2.21069519487181,2.2778137917754524,2.3578137917754525,2.4378137917754525,2.517813791775453,2.5978137917754527,2.718596879416345,2.897403305704747,3.097403305704747,3.297403305704748,3.497403305704748,3.6974033057047473,3.897403305704747,4.097403305704747,4.297403305704747,4.497403305704748,4.697403305704746,4.8974033057047475,5.097403305704747,5.297403305704747,5.497403305704748,5.697403305704746,5.8974033057047475,6.097403305704747,6.297403305704746,6.497403305704748,6.697403305704746,6.8974033057047475,7.097403305704748,7.29740330570475,7.497403305704748,7.697403305704748],[2.225844152363463,2.1058441523634626,2.005827850821779,1.9407155794315187,1.9007155794315183,1.8607155794315182,1.8207155794315184,1.8049370663905768,1.8449370663905769,1.884937066390577,1.924937066390577,1.964937066390577,2.004937066390577,2.0449370663905766,2.084937066390577,2.1249370663905767,2.164937066390577,2.2049370663905767,2.2449370663905768,2.2870372680481137,2.3670372680481138,2.4470372680481143,2.527037268048114,2.607037268048114,2.6870372680481136,2.816383480989182,3.0014306528952814,3.2014306528952816,3.4014306528952813,3.6014306528952824,3.8014306528952817,4.001430652895282,4.201430652895281,4.401430652895283,4.6014306528952815,4.801430652895282,5.001430652895281,5.201430652895281,5.401430652895281,5.6014306528952815,5.801430652895282,6.001430652895282,6.201430652895281,6.401430652895281,6.6014306528952815,6.801430652895282,7.001430652895283,7.201430652895281,7.401430652895283,7.6014306528952815,7.801430652895282]],\"type\":\"surface\",\"contours\":{\"z\":{\"project\":{\"z\":true},\"highlightcolor\":\"limegreen\",\"show\":true,\"usecolormap\":true}}}],                        {\"template\":{\"data\":{\"histogram2dcontour\":[{\"type\":\"histogram2dcontour\",\"colorbar\":{\"outlinewidth\":0,\"ticks\":\"\"},\"colorscale\":[[0.0,\"#0d0887\"],[0.1111111111111111,\"#46039f\"],[0.2222222222222222,\"#7201a8\"],[0.3333333333333333,\"#9c179e\"],[0.4444444444444444,\"#bd3786\"],[0.5555555555555556,\"#d8576b\"],[0.6666666666666666,\"#ed7953\"],[0.7777777777777778,\"#fb9f3a\"],[0.8888888888888888,\"#fdca26\"],[1.0,\"#f0f921\"]]}],\"choropleth\":[{\"type\":\"choropleth\",\"colorbar\":{\"outlinewidth\":0,\"ticks\":\"\"}}],\"histogram2d\":[{\"type\":\"histogram2d\",\"colorbar\":{\"outlinewidth\":0,\"ticks\":\"\"},\"colorscale\":[[0.0,\"#0d0887\"],[0.1111111111111111,\"#46039f\"],[0.2222222222222222,\"#7201a8\"],[0.3333333333333333,\"#9c179e\"],[0.4444444444444444,\"#bd3786\"],[0.5555555555555556,\"#d8576b\"],[0.6666666666666666,\"#ed7953\"],[0.7777777777777778,\"#fb9f3a\"],[0.8888888888888888,\"#fdca26\"],[1.0,\"#f0f921\"]]}],\"heatmap\":[{\"type\":\"heatmap\",\"colorbar\":{\"outlinewidth\":0,\"ticks\":\"\"},\"colorscale\":[[0.0,\"#0d0887\"],[0.1111111111111111,\"#46039f\"],[0.2222222222222222,\"#7201a8\"],[0.3333333333333333,\"#9c179e\"],[0.4444444444444444,\"#bd3786\"],[0.5555555555555556,\"#d8576b\"],[0.6666666666666666,\"#ed7953\"],[0.7777777777777778,\"#fb9f3a\"],[0.8888888888888888,\"#fdca26\"],[1.0,\"#f0f921\"]]}],\"heatmapgl\":[{\"type\":\"heatmapgl\",\"colorbar\":{\"outlinewidth\":0,\"ticks\":\"\"},\"colorscale\":[[0.0,\"#0d0887\"],[0.1111111111111111,\"#46039f\"],[0.2222222222222222,\"#7201a8\"],[0.3333333333333333,\"#9c179e\"],[0.4444444444444444,\"#bd3786\"],[0.5555555555555556,\"#d8576b\"],[0.6666666666666666,\"#ed7953\"],[0.7777777777777778,\"#fb9f3a\"],[0.8888888888888888,\"#fdca26\"],[1.0,\"#f0f921\"]]}],\"contourcarpet\":[{\"type\":\"contourcarpet\",\"colorbar\":{\"outlinewidth\":0,\"ticks\":\"\"}}],\"contour\":[{\"type\":\"contour\",\"colorbar\":{\"outlinewidth\":0,\"ticks\":\"\"},\"colorscale\":[[0.0,\"#0d0887\"],[0.1111111111111111,\"#46039f\"],[0.2222222222222222,\"#7201a8\"],[0.3333333333333333,\"#9c179e\"],[0.4444444444444444,\"#bd3786\"],[0.5555555555555556,\"#d8576b\"],[0.6666666666666666,\"#ed7953\"],[0.7777777777777778,\"#fb9f3a\"],[0.8888888888888888,\"#fdca26\"],[1.0,\"#f0f921\"]]}],\"surface\":[{\"type\":\"surface\",\"colorbar\":{\"outlinewidth\":0,\"ticks\":\"\"},\"colorscale\":[[0.0,\"#0d0887\"],[0.1111111111111111,\"#46039f\"],[0.2222222222222222,\"#7201a8\"],[0.3333333333333333,\"#9c179e\"],[0.4444444444444444,\"#bd3786\"],[0.5555555555555556,\"#d8576b\"],[0.6666666666666666,\"#ed7953\"],[0.7777777777777778,\"#fb9f3a\"],[0.8888888888888888,\"#fdca26\"],[1.0,\"#f0f921\"]]}],\"mesh3d\":[{\"type\":\"mesh3d\",\"colorbar\":{\"outlinewidth\":0,\"ticks\":\"\"}}],\"scatter\":[{\"fillpattern\":{\"fillmode\":\"overlay\",\"size\":10,\"solidity\":0.2},\"type\":\"scatter\"}],\"parcoords\":[{\"type\":\"parcoords\",\"line\":{\"colorbar\":{\"outlinewidth\":0,\"ticks\":\"\"}}}],\"scatterpolargl\":[{\"type\":\"scatterpolargl\",\"marker\":{\"colorbar\":{\"outlinewidth\":0,\"ticks\":\"\"}}}],\"bar\":[{\"error_x\":{\"color\":\"#2a3f5f\"},\"error_y\":{\"color\":\"#2a3f5f\"},\"marker\":{\"line\":{\"color\":\"#E5ECF6\",\"width\":0.5},\"pattern\":{\"fillmode\":\"overlay\",\"size\":10,\"solidity\":0.2}},\"type\":\"bar\"}],\"scattergeo\":[{\"type\":\"scattergeo\",\"marker\":{\"colorbar\":{\"outlinewidth\":0,\"ticks\":\"\"}}}],\"scatterpolar\":[{\"type\":\"scatterpolar\",\"marker\":{\"colorbar\":{\"outlinewidth\":0,\"ticks\":\"\"}}}],\"histogram\":[{\"marker\":{\"pattern\":{\"fillmode\":\"overlay\",\"size\":10,\"solidity\":0.2}},\"type\":\"histogram\"}],\"scattergl\":[{\"type\":\"scattergl\",\"marker\":{\"colorbar\":{\"outlinewidth\":0,\"ticks\":\"\"}}}],\"scatter3d\":[{\"type\":\"scatter3d\",\"line\":{\"colorbar\":{\"outlinewidth\":0,\"ticks\":\"\"}},\"marker\":{\"colorbar\":{\"outlinewidth\":0,\"ticks\":\"\"}}}],\"scattermapbox\":[{\"type\":\"scattermapbox\",\"marker\":{\"colorbar\":{\"outlinewidth\":0,\"ticks\":\"\"}}}],\"scatterternary\":[{\"type\":\"scatterternary\",\"marker\":{\"colorbar\":{\"outlinewidth\":0,\"ticks\":\"\"}}}],\"scattercarpet\":[{\"type\":\"scattercarpet\",\"marker\":{\"colorbar\":{\"outlinewidth\":0,\"ticks\":\"\"}}}],\"carpet\":[{\"aaxis\":{\"endlinecolor\":\"#2a3f5f\",\"gridcolor\":\"white\",\"linecolor\":\"white\",\"minorgridcolor\":\"white\",\"startlinecolor\":\"#2a3f5f\"},\"baxis\":{\"endlinecolor\":\"#2a3f5f\",\"gridcolor\":\"white\",\"linecolor\":\"white\",\"minorgridcolor\":\"white\",\"startlinecolor\":\"#2a3f5f\"},\"type\":\"carpet\"}],\"table\":[{\"cells\":{\"fill\":{\"color\":\"#EBF0F8\"},\"line\":{\"color\":\"white\"}},\"header\":{\"fill\":{\"color\":\"#C8D4E3\"},\"line\":{\"color\":\"white\"}},\"type\":\"table\"}],\"barpolar\":[{\"marker\":{\"line\":{\"color\":\"#E5ECF6\",\"width\":0.5},\"pattern\":{\"fillmode\":\"overlay\",\"size\":10,\"solidity\":0.2}},\"type\":\"barpolar\"}],\"pie\":[{\"automargin\":true,\"type\":\"pie\"}]},\"layout\":{\"autotypenumbers\":\"strict\",\"colorway\":[\"#636efa\",\"#EF553B\",\"#00cc96\",\"#ab63fa\",\"#FFA15A\",\"#19d3f3\",\"#FF6692\",\"#B6E880\",\"#FF97FF\",\"#FECB52\"],\"font\":{\"color\":\"#2a3f5f\"},\"hovermode\":\"closest\",\"hoverlabel\":{\"align\":\"left\"},\"paper_bgcolor\":\"white\",\"plot_bgcolor\":\"#E5ECF6\",\"polar\":{\"bgcolor\":\"#E5ECF6\",\"angularaxis\":{\"gridcolor\":\"white\",\"linecolor\":\"white\",\"ticks\":\"\"},\"radialaxis\":{\"gridcolor\":\"white\",\"linecolor\":\"white\",\"ticks\":\"\"}},\"ternary\":{\"bgcolor\":\"#E5ECF6\",\"aaxis\":{\"gridcolor\":\"white\",\"linecolor\":\"white\",\"ticks\":\"\"},\"baxis\":{\"gridcolor\":\"white\",\"linecolor\":\"white\",\"ticks\":\"\"},\"caxis\":{\"gridcolor\":\"white\",\"linecolor\":\"white\",\"ticks\":\"\"}},\"coloraxis\":{\"colorbar\":{\"outlinewidth\":0,\"ticks\":\"\"}},\"colorscale\":{\"sequential\":[[0.0,\"#0d0887\"],[0.1111111111111111,\"#46039f\"],[0.2222222222222222,\"#7201a8\"],[0.3333333333333333,\"#9c179e\"],[0.4444444444444444,\"#bd3786\"],[0.5555555555555556,\"#d8576b\"],[0.6666666666666666,\"#ed7953\"],[0.7777777777777778,\"#fb9f3a\"],[0.8888888888888888,\"#fdca26\"],[1.0,\"#f0f921\"]],\"sequentialminus\":[[0.0,\"#0d0887\"],[0.1111111111111111,\"#46039f\"],[0.2222222222222222,\"#7201a8\"],[0.3333333333333333,\"#9c179e\"],[0.4444444444444444,\"#bd3786\"],[0.5555555555555556,\"#d8576b\"],[0.6666666666666666,\"#ed7953\"],[0.7777777777777778,\"#fb9f3a\"],[0.8888888888888888,\"#fdca26\"],[1.0,\"#f0f921\"]],\"diverging\":[[0,\"#8e0152\"],[0.1,\"#c51b7d\"],[0.2,\"#de77ae\"],[0.3,\"#f1b6da\"],[0.4,\"#fde0ef\"],[0.5,\"#f7f7f7\"],[0.6,\"#e6f5d0\"],[0.7,\"#b8e186\"],[0.8,\"#7fbc41\"],[0.9,\"#4d9221\"],[1,\"#276419\"]]},\"xaxis\":{\"gridcolor\":\"white\",\"linecolor\":\"white\",\"ticks\":\"\",\"title\":{\"standoff\":15},\"zerolinecolor\":\"white\",\"automargin\":true,\"zerolinewidth\":2},\"yaxis\":{\"gridcolor\":\"white\",\"linecolor\":\"white\",\"ticks\":\"\",\"title\":{\"standoff\":15},\"zerolinecolor\":\"white\",\"automargin\":true,\"zerolinewidth\":2},\"scene\":{\"xaxis\":{\"backgroundcolor\":\"#E5ECF6\",\"gridcolor\":\"white\",\"linecolor\":\"white\",\"showbackground\":true,\"ticks\":\"\",\"zerolinecolor\":\"white\",\"gridwidth\":2},\"yaxis\":{\"backgroundcolor\":\"#E5ECF6\",\"gridcolor\":\"white\",\"linecolor\":\"white\",\"showbackground\":true,\"ticks\":\"\",\"zerolinecolor\":\"white\",\"gridwidth\":2},\"zaxis\":{\"backgroundcolor\":\"#E5ECF6\",\"gridcolor\":\"white\",\"linecolor\":\"white\",\"showbackground\":true,\"ticks\":\"\",\"zerolinecolor\":\"white\",\"gridwidth\":2}},\"shapedefaults\":{\"line\":{\"color\":\"#2a3f5f\"}},\"annotationdefaults\":{\"arrowcolor\":\"#2a3f5f\",\"arrowhead\":0,\"arrowwidth\":1},\"geo\":{\"bgcolor\":\"white\",\"landcolor\":\"#E5ECF6\",\"subunitcolor\":\"white\",\"showland\":true,\"showlakes\":true,\"lakecolor\":\"white\"},\"title\":{\"x\":0.05},\"mapbox\":{\"style\":\"light\"}}},\"title\":{\"text\":\"L1 landscape\"},\"scene\":{\"xaxis\":{\"title\":{\"text\":\"a\"}},\"yaxis\":{\"title\":{\"text\":\"b\"}},\"zaxis\":{\"title\":{\"text\":\"loss\"}}}},                        {\"responsive\": true}                    ).then(function(){\n",
              "                            \n",
              "var gd = document.getElementById('4a1112cb-d447-4283-b45a-0a1fc1e79f9f');\n",
              "var x = new MutationObserver(function (mutations, observer) {{\n",
              "        var display = window.getComputedStyle(gd).display;\n",
              "        if (!display || display === 'none') {{\n",
              "            console.log([gd, 'removed!']);\n",
              "            Plotly.purge(gd);\n",
              "            observer.disconnect();\n",
              "        }}\n",
              "}});\n",
              "\n",
              "// Listen for the removal of the full notebook cells\n",
              "var notebookContainer = gd.closest('#notebook-container');\n",
              "if (notebookContainer) {{\n",
              "    x.observe(notebookContainer, {childList: true});\n",
              "}}\n",
              "\n",
              "// Listen for the clearing of the current output cell\n",
              "var outputEl = gd.closest('.output');\n",
              "if (outputEl) {{\n",
              "    x.observe(outputEl, {childList: true});\n",
              "}}\n",
              "\n",
              "                        })                };                            </script>        </div>\n",
              "</body>\n",
              "</html>"
            ]
          },
          "metadata": {}
        }
      ]
    },
    {
      "cell_type": "markdown",
      "metadata": {
        "id": "FXq55ce581os"
      },
      "source": [
        "### \"Tear down this loss[!](https://youtu.be/IguMXrgfrg8)\"\n",
        "\n",
        "Now we will explicitily compute the parameters $\\theta$ for several polynomial fits, defined in matrix notation as:\n",
        "\n",
        "![polyfit matrix notation](https://drive.google.com/uc?export=view&id=1e4AsSC00ivIXW4c35VNLladTcCTY4dpL)\n",
        "\n",
        "As seen in the lecture, we can analytically find the parameters $\\theta$ that minimize the MSE loss by solving a linear system:\n",
        "\n",
        "$$\\theta = (\\mathbf{X}^\\top \\mathbf{X})^{-1}\\mathbf{X}^\\top\\mathbf{y}$$\n",
        "\n",
        "Let's do it for a 3-degree polynomial fit, this time using pytorch instead of numpy.\n",
        "\n",
        "\n",
        "\n"
      ]
    },
    {
      "cell_type": "code",
      "metadata": {
        "id": "g1Oq4K-CbWqa"
      },
      "source": [
        "# Poly3 fit\n",
        "y = torch.from_numpy(t)\n",
        "x_tens = torch.from_numpy(x)\n",
        "\n",
        "X = torch.ones((y.shape[0], 4), dtype=torch.float64)  # double precision is needed for this calculation, especially with high degree polyfits\n",
        "X[:,0] = x_tens ** 3\n",
        "X[:,1] = x_tens ** 2\n",
        "X[:,2] = x_tens"
      ],
      "execution_count": null,
      "outputs": []
    },
    {
      "cell_type": "markdown",
      "metadata": {
        "id": "Tv9COWdXnovB"
      },
      "source": [
        ">**EXERCISE**: complete the code"
      ]
    },
    {
      "cell_type": "code",
      "metadata": {
        "id": "4v9Puu-9qosN"
      },
      "source": [
        "# ✏️ your code here (look at the formula above!)\n",
        "theta = None"
      ],
      "execution_count": null,
      "outputs": []
    },
    {
      "cell_type": "code",
      "source": [
        "# @title 👀 Solution (without einsum)\n",
        "\n",
        "theta = torch.inverse(X.t() @ X) @ X.t() @ y"
      ],
      "metadata": {
        "cellView": "form",
        "id": "Ck8sPJ96gd9P"
      },
      "execution_count": null,
      "outputs": []
    },
    {
      "cell_type": "code",
      "metadata": {
        "id": "4di4c5yUqkdE",
        "cellView": "form"
      },
      "source": [
        "# @title 👀 Solution (with einsum)\n",
        "\n",
        "temp_inverse = torch.inverse(torch.einsum('ij,jk->ik', X.t(), X))  # or torch.einsum('ji,jk->ik', X, X)\n",
        "theta = torch.einsum('ij,jk,k->i', temp_inverse, X.t(), y)"
      ],
      "execution_count": null,
      "outputs": []
    },
    {
      "cell_type": "code",
      "source": [
        "# @title 👀 Solution (numerically stable)\n",
        "\n",
        "# The equation for theta requires us to solve a linear system.\n",
        "# Instead of explicitly computing a matrix inverse and then multiplying, a more\n",
        "# efficient and stable way is to use torch.linalg.solve(), which is designed to\n",
        "# handle this task more appropriately.\n",
        "\n",
        "theta = torch.linalg.solve(X.t() @ X, X.t() @ y)"
      ],
      "metadata": {
        "cellView": "form",
        "id": "x97OTApfhMo_"
      },
      "execution_count": null,
      "outputs": []
    },
    {
      "cell_type": "code",
      "metadata": {
        "id": "tOJse7C9bojf"
      },
      "source": [
        "#@title 3-degree polynomial fit\n",
        "\n",
        "a, b, c, d = theta.numpy()\n",
        "fig = go.Figure()\n",
        "fig.add_trace(go.Scatter(x=x, y=t, name='dataset', mode='markers', marker=dict(color=\"mediumpurple\")))\n",
        "fig.add_trace(go.Scatter(x=x_funcs, y=np.sin(2*np.pi*x_funcs), name='ground truth', mode='lines', line=dict(color=\"lightgreen\")))\n",
        "fig.add_trace(go.Scatter(x=x_funcs, y=a*x_funcs**3 + b*x_funcs**2 + c*x_funcs + d, name='poly3 fit', mode='lines', line=dict(color=\"lightsalmon\")))\n",
        "fig.update_xaxes(title_text=\"x\", range = [0,1])\n",
        "fig.update_yaxes(title_text=\"t\", range = [-1.5,1.5])\n",
        "fig.show()"
      ],
      "execution_count": null,
      "outputs": []
    },
    {
      "cell_type": "markdown",
      "metadata": {
        "id": "xV6sseHGnDCZ"
      },
      "source": [
        "Let's now compare several polynomial fits with different degrees.\n",
        "\n",
        "Play a bit with the degrees while taking a look at the coefficients $\\theta$.\n",
        "\n",
        "Which one is the best in *your judgement*?\n",
        "Which one is the best according to the MSE loss?\n",
        "\n",
        "An evergreen reminder that here fits well:\n",
        "> **be skeptical!** Especially about the numbers that should tell us if the results we get are good or bad. Are these really evaluating what should be evaluated?"
      ]
    },
    {
      "cell_type": "code",
      "metadata": {
        "id": "uFyk0X9cfcis",
        "colab": {
          "base_uri": "https://localhost:8080/",
          "height": 737
        },
        "cellView": "form",
        "outputId": "01c45a35-1c37-4ffb-e07b-57dca91b9693"
      },
      "source": [
        "# @title Polynomial fits (press play at least once to trigger the self-update) { run: \"auto\" }\n",
        "\n",
        "degree = {}\n",
        "deg_a = 2  #@param {type:\"slider\", min:0, max:15, step:1}\n",
        "deg_b = 4  #@param {type:\"slider\", min:0, max:15, step:1}\n",
        "deg_c = 7 #@param {type:\"slider\", min:0, max:15, step:1}\n",
        "\n",
        "degree[0], degree[1], degree[2] = deg_a, deg_b, deg_c\n",
        "\n",
        "max_degree = max(degree.values())\n",
        "y = torch.from_numpy(t)\n",
        "X_full = torch.ones((y.shape[0], max_degree + 1), dtype=torch.float64)  # double precision is needed for this calculation!\n",
        "for i in range(max_degree):\n",
        "    X_full[:,i] =  torch.from_numpy(x) ** (max_degree - i)\n",
        "\n",
        "theta_collection = {}\n",
        "\n",
        "for i in range(3):\n",
        "    X = X_full[:,-(degree[i] + 1):]\n",
        "    temp_inverse = torch.inverse(torch.einsum('ij,jk->ik', X.t(), X))\n",
        "    theta_collection[i] = torch.einsum('ij,jk,k->i', temp_inverse, X.t(), y)\n",
        "\n",
        "fig = make_subplots(\n",
        "    rows=1, cols=3,\n",
        "    subplot_titles=(f\"poly{degree[0]} fit\", f\"poly{degree[1]} fit\", f\"poly{degree[2]} fit\"))\n",
        "\n",
        "x_funcs = np.arange(0,1,1./100)\n",
        "y_funcs = {}\n",
        "for i in range(3):\n",
        "    theta_funcs = theta_collection[i].numpy()\n",
        "    X_funcs = np.ones((x_funcs.shape[0], degree[i] + 1), dtype=np.float64)\n",
        "    for j in range(degree[i]):\n",
        "        X_funcs[:,j] =  x_funcs ** (degree[i] - j)\n",
        "    y_funcs[i] = np.einsum('ij,j->i', X_funcs, theta_funcs)\n",
        "    coefficients_string = '<br><br><br>' + '<br>'.join([c + f': {np.round(theta_funcs[i], decimals=2)}' for i, c in enumerate('abcdefghijklmnopqrstuvwxyz'[:len(theta_funcs)])])\n",
        "\n",
        "    fig.add_trace(go.Scatter(x=x, y=t, mode='markers', marker=dict(color=\"mediumpurple\")), row=1, col=i + 1)\n",
        "    fig.add_trace(go.Scatter(x=x_funcs, y=np.sin(2*np.pi*x_funcs), mode='lines', line=dict(color=\"lightgreen\")), row=1, col=i + 1)\n",
        "    fig.add_trace(go.Scatter(x=x_funcs, y=y_funcs[i], mode='lines', line=dict(color=\"lightsalmon\")), row=1, col=i + 1)\n",
        "    fig.update_xaxes(title_text=\"x\" + coefficients_string, range = [0,1], row=1, col=i+1)\n",
        "\n",
        "fig.update_layout(showlegend=False)\n",
        "fig.update_yaxes(title_text=\"t\", range = [-5,5])\n",
        "fig.update_layout(height=700, width=1300, title_text=\"Polynomial fits and their coefficients\")\n",
        "fig.show()"
      ],
      "execution_count": null,
      "outputs": [
        {
          "output_type": "display_data",
          "data": {
            "text/html": [
              "<html>\n",
              "<head><meta charset=\"utf-8\" /></head>\n",
              "<body>\n",
              "    <div>            <script src=\"https://cdnjs.cloudflare.com/ajax/libs/mathjax/2.7.5/MathJax.js?config=TeX-AMS-MML_SVG\"></script><script type=\"text/javascript\">if (window.MathJax && window.MathJax.Hub && window.MathJax.Hub.Config) {window.MathJax.Hub.Config({SVG: {font: \"STIX-Web\"}});}</script>                <script type=\"text/javascript\">window.PlotlyConfig = {MathJaxConfig: 'local'};</script>\n",
              "        <script charset=\"utf-8\" src=\"https://cdn.plot.ly/plotly-2.24.1.min.js\"></script>                <div id=\"e1e4243e-adbc-492d-8bdc-47828b489e5f\" class=\"plotly-graph-div\" style=\"height:700px; width:1300px;\"></div>            <script type=\"text/javascript\">                                    window.PLOTLYENV=window.PLOTLYENV || {};                                    if (document.getElementById(\"e1e4243e-adbc-492d-8bdc-47828b489e5f\")) {                    Plotly.newPlot(                        \"e1e4243e-adbc-492d-8bdc-47828b489e5f\",                        [{\"marker\":{\"color\":\"mediumpurple\"},\"mode\":\"markers\",\"x\":[0.3745401188473625,0.9507143064099162,0.7319939418114051,0.5986584841970366,0.15601864044243652,0.15599452033620265,0.05808361216819946,0.8661761457749352,0.6011150117432088,0.7080725777960455],\"y\":[0.6621995859491285,-0.2504894367193866,-1.0399487832345553,-0.6275182299806012,0.854857342681687,0.6392487011533475,0.18441089666331875,-0.8014323286500792,-0.6947217251134631,-0.9340757540684701],\"type\":\"scatter\",\"xaxis\":\"x\",\"yaxis\":\"y\"},{\"line\":{\"color\":\"lightgreen\"},\"mode\":\"lines\",\"x\":[0.0,0.01,0.02,0.03,0.04,0.05,0.06,0.07,0.08,0.09,0.1,0.11,0.12,0.13,0.14,0.15,0.16,0.17,0.18,0.19,0.2,0.21,0.22,0.23,0.24,0.25,0.26,0.27,0.28,0.29,0.3,0.31,0.32,0.33,0.34,0.35000000000000003,0.36,0.37,0.38,0.39,0.4,0.41000000000000003,0.42,0.43,0.44,0.45,0.46,0.47000000000000003,0.48,0.49,0.5,0.51,0.52,0.53,0.54,0.55,0.56,0.5700000000000001,0.58,0.59,0.6,0.61,0.62,0.63,0.64,0.65,0.66,0.67,0.68,0.6900000000000001,0.7000000000000001,0.71,0.72,0.73,0.74,0.75,0.76,0.77,0.78,0.79,0.8,0.81,0.8200000000000001,0.8300000000000001,0.84,0.85,0.86,0.87,0.88,0.89,0.9,0.91,0.92,0.93,0.9400000000000001,0.9500000000000001,0.96,0.97,0.98,0.99],\"y\":[0.0,0.06279051952931337,0.12533323356430426,0.1873813145857246,0.2486898871648548,0.3090169943749474,0.3681245526846779,0.4257792915650727,0.4817536741017153,0.5358267949789967,0.5877852522924731,0.6374239897486896,0.6845471059286886,0.7289686274214116,0.7705132427757893,0.8090169943749475,0.8443279255020151,0.8763066800438637,0.9048270524660196,0.9297764858882513,0.9510565162951535,0.9685831611286311,0.9822872507286886,0.9921147013144779,0.9980267284282716,1.0,0.9980267284282716,0.9921147013144778,0.9822872507286886,0.9685831611286312,0.9510565162951536,0.9297764858882513,0.9048270524660195,0.8763066800438635,0.844327925502015,0.8090169943749475,0.7705132427757893,0.7289686274214114,0.6845471059286888,0.6374239897486899,0.5877852522924732,0.5358267949789967,0.4817536741017156,0.4257792915650729,0.36812455268467814,0.3090169943749475,0.24868988716485482,0.18738131458572457,0.12533323356430454,0.06279051952931358,1.2246467991473532e-16,-0.06279051952931335,-0.12533323356430429,-0.18738131458572477,-0.24868988716485502,-0.30901699437494773,-0.3681245526846783,-0.42577929156507266,-0.481753674101715,-0.5358267949789964,-0.587785252292473,-0.6374239897486896,-0.6845471059286887,-0.7289686274214113,-0.7705132427757894,-0.8090169943749473,-0.8443279255020153,-0.8763066800438636,-0.9048270524660198,-0.9297764858882515,-0.9510565162951535,-0.968583161128631,-0.9822872507286887,-0.9921147013144778,-0.9980267284282716,-1.0,-0.9980267284282716,-0.9921147013144779,-0.9822872507286887,-0.9685831611286311,-0.9510565162951536,-0.9297764858882512,-0.9048270524660196,-0.8763066800438634,-0.8443279255020155,-0.8090169943749476,-0.7705132427757896,-0.7289686274214116,-0.684547105928689,-0.6374239897486896,-0.5877852522924734,-0.5358267949789963,-0.4817536741017153,-0.4257792915650722,-0.36812455268467786,-0.3090169943749476,-0.24868988716485535,-0.18738131458572468,-0.12533323356430465,-0.06279051952931326],\"type\":\"scatter\",\"xaxis\":\"x\",\"yaxis\":\"y\"},{\"line\":{\"color\":\"lightsalmon\"},\"mode\":\"lines\",\"x\":[0.0,0.01,0.02,0.03,0.04,0.05,0.06,0.07,0.08,0.09,0.1,0.11,0.12,0.13,0.14,0.15,0.16,0.17,0.18,0.19,0.2,0.21,0.22,0.23,0.24,0.25,0.26,0.27,0.28,0.29,0.3,0.31,0.32,0.33,0.34,0.35000000000000003,0.36,0.37,0.38,0.39,0.4,0.41000000000000003,0.42,0.43,0.44,0.45,0.46,0.47000000000000003,0.48,0.49,0.5,0.51,0.52,0.53,0.54,0.55,0.56,0.5700000000000001,0.58,0.59,0.6,0.61,0.62,0.63,0.64,0.65,0.66,0.67,0.68,0.6900000000000001,0.7000000000000001,0.71,0.72,0.73,0.74,0.75,0.76,0.77,0.78,0.79,0.8,0.81,0.8200000000000001,0.8300000000000001,0.84,0.85,0.86,0.87,0.88,0.89,0.9,0.91,0.92,0.93,0.9400000000000001,0.9500000000000001,0.96,0.97,0.98,0.99],\"y\":[1.0148930945699386,0.9783524386267819,0.9421975368298875,0.9064283891792554,0.8710449956748859,0.8360473563167785,0.8014354711049336,0.7672093400393512,0.7333689631200309,0.6999143403469731,0.6668454717201775,0.6341623572396444,0.6018649969053738,0.5699533907173655,0.5384275386756193,0.5072874407801357,0.4765330970309146,0.44616450742795566,0.416181671971259,0.38658459066082496,0.3573732634966532,0.3285476904787439,0.30010787160709673,0.272053806881712,0.24438549630258966,0.21710293986972973,0.19020613758313198,0.16369508944279698,0.13756979544872405,0.11183025560091364,0.08647646989936542,0.0615084383440796,0.03692616093505641,0.01272963767229518,-0.011081131444203418,-0.03450614641443961,-0.057545407238413615,-0.08019891391612521,-0.1024666664475744,-0.12434866483276119,-0.1458449090716858,-0.16695539916434776,-0.18768013511074733,-0.20801911691088493,-0.2279723445647599,-0.24753981807237246,-0.26672153743372284,-0.2855175026488106,-0.30392771371763594,-0.3219521706401993,-0.33959087341650007,-0.3568438220465384,-0.3737110165303148,-0.39019245686782833,-0.40628814305907945,-0.4219980751040686,-0.43732225300279515,-0.45226067675525927,-0.466813346361461,-0.4809802618214005,-0.4947614231350781,-0.5081568303024926,-0.5211664833236451,-0.5337903821985348,-0.5460285269271625,-0.5578809175095278,-0.5693475539456312,-0.5804284362354717,-0.5911235643790498,-0.6014329383763655,-0.611356558227419,-0.6208944239322098,-0.630046535490739,-0.6388128929030055,-0.6471934961690096,-0.6551883452887508,-0.6627974402622301,-0.670020781089447,-0.676858367770401,-0.6833102003050935,-0.6893762786935236,-0.6950566029356908,-0.7003511730315961,-0.7052599889812385,-0.709783050784619,-0.7139203584417371,-0.7176719119525927,-0.721037711317186,-0.7240177565355164,-0.7266120476075852,-0.7288205845333908,-0.7306433673129353,-0.732080395946217,-0.7331316704332353,-0.7337971907739922,-0.7340769569684866,-0.7339709690167182,-0.7334792269186883,-0.7326017306743955,-0.7313384802838403],\"type\":\"scatter\",\"xaxis\":\"x\",\"yaxis\":\"y\"},{\"marker\":{\"color\":\"mediumpurple\"},\"mode\":\"markers\",\"x\":[0.3745401188473625,0.9507143064099162,0.7319939418114051,0.5986584841970366,0.15601864044243652,0.15599452033620265,0.05808361216819946,0.8661761457749352,0.6011150117432088,0.7080725777960455],\"y\":[0.6621995859491285,-0.2504894367193866,-1.0399487832345553,-0.6275182299806012,0.854857342681687,0.6392487011533475,0.18441089666331875,-0.8014323286500792,-0.6947217251134631,-0.9340757540684701],\"type\":\"scatter\",\"xaxis\":\"x2\",\"yaxis\":\"y2\"},{\"line\":{\"color\":\"lightgreen\"},\"mode\":\"lines\",\"x\":[0.0,0.01,0.02,0.03,0.04,0.05,0.06,0.07,0.08,0.09,0.1,0.11,0.12,0.13,0.14,0.15,0.16,0.17,0.18,0.19,0.2,0.21,0.22,0.23,0.24,0.25,0.26,0.27,0.28,0.29,0.3,0.31,0.32,0.33,0.34,0.35000000000000003,0.36,0.37,0.38,0.39,0.4,0.41000000000000003,0.42,0.43,0.44,0.45,0.46,0.47000000000000003,0.48,0.49,0.5,0.51,0.52,0.53,0.54,0.55,0.56,0.5700000000000001,0.58,0.59,0.6,0.61,0.62,0.63,0.64,0.65,0.66,0.67,0.68,0.6900000000000001,0.7000000000000001,0.71,0.72,0.73,0.74,0.75,0.76,0.77,0.78,0.79,0.8,0.81,0.8200000000000001,0.8300000000000001,0.84,0.85,0.86,0.87,0.88,0.89,0.9,0.91,0.92,0.93,0.9400000000000001,0.9500000000000001,0.96,0.97,0.98,0.99],\"y\":[0.0,0.06279051952931337,0.12533323356430426,0.1873813145857246,0.2486898871648548,0.3090169943749474,0.3681245526846779,0.4257792915650727,0.4817536741017153,0.5358267949789967,0.5877852522924731,0.6374239897486896,0.6845471059286886,0.7289686274214116,0.7705132427757893,0.8090169943749475,0.8443279255020151,0.8763066800438637,0.9048270524660196,0.9297764858882513,0.9510565162951535,0.9685831611286311,0.9822872507286886,0.9921147013144779,0.9980267284282716,1.0,0.9980267284282716,0.9921147013144778,0.9822872507286886,0.9685831611286312,0.9510565162951536,0.9297764858882513,0.9048270524660195,0.8763066800438635,0.844327925502015,0.8090169943749475,0.7705132427757893,0.7289686274214114,0.6845471059286888,0.6374239897486899,0.5877852522924732,0.5358267949789967,0.4817536741017156,0.4257792915650729,0.36812455268467814,0.3090169943749475,0.24868988716485482,0.18738131458572457,0.12533323356430454,0.06279051952931358,1.2246467991473532e-16,-0.06279051952931335,-0.12533323356430429,-0.18738131458572477,-0.24868988716485502,-0.30901699437494773,-0.3681245526846783,-0.42577929156507266,-0.481753674101715,-0.5358267949789964,-0.587785252292473,-0.6374239897486896,-0.6845471059286887,-0.7289686274214113,-0.7705132427757894,-0.8090169943749473,-0.8443279255020153,-0.8763066800438636,-0.9048270524660198,-0.9297764858882515,-0.9510565162951535,-0.968583161128631,-0.9822872507286887,-0.9921147013144778,-0.9980267284282716,-1.0,-0.9980267284282716,-0.9921147013144779,-0.9822872507286887,-0.9685831611286311,-0.9510565162951536,-0.9297764858882512,-0.9048270524660196,-0.8763066800438634,-0.8443279255020155,-0.8090169943749476,-0.7705132427757896,-0.7289686274214116,-0.684547105928689,-0.6374239897486896,-0.5877852522924734,-0.5358267949789963,-0.4817536741017153,-0.4257792915650722,-0.36812455268467786,-0.3090169943749476,-0.24868988716485535,-0.18738131458572468,-0.12533323356430465,-0.06279051952931326],\"type\":\"scatter\",\"xaxis\":\"x2\",\"yaxis\":\"y2\"},{\"line\":{\"color\":\"lightsalmon\"},\"mode\":\"lines\",\"x\":[0.0,0.01,0.02,0.03,0.04,0.05,0.06,0.07,0.08,0.09,0.1,0.11,0.12,0.13,0.14,0.15,0.16,0.17,0.18,0.19,0.2,0.21,0.22,0.23,0.24,0.25,0.26,0.27,0.28,0.29,0.3,0.31,0.32,0.33,0.34,0.35000000000000003,0.36,0.37,0.38,0.39,0.4,0.41000000000000003,0.42,0.43,0.44,0.45,0.46,0.47000000000000003,0.48,0.49,0.5,0.51,0.52,0.53,0.54,0.55,0.56,0.5700000000000001,0.58,0.59,0.6,0.61,0.62,0.63,0.64,0.65,0.66,0.67,0.68,0.6900000000000001,0.7000000000000001,0.71,0.72,0.73,0.74,0.75,0.76,0.77,0.78,0.79,0.8,0.81,0.8200000000000001,0.8300000000000001,0.84,0.85,0.86,0.87,0.88,0.89,0.9,0.91,0.92,0.93,0.9400000000000001,0.9500000000000001,0.96,0.97,0.98,0.99],\"y\":[-0.5302142008549406,-0.3947423063721347,-0.26702228174168746,-0.14688946483405685,-0.0341794304894355,0.0712720094822481,0.16962880630133037,0.2610546742184131,0.3457130905143617,0.423767295500307,0.4953802925176448,0.5607148479380348,0.619933491163402,0.6731985146259367,0.7206719737880927,0.7625156871425887,0.7988912362124099,0.8299599655508034,0.8558829827412837,0.8768211583976282,0.8929351261638794,0.9043852827143462,0.9113317877535985,0.9139345640164755,0.9123532972680786,0.9067474363037737,0.8972761929491919,0.8840985420602294,0.8673732215230472,0.8472587322540699,0.8239133381999872,0.7974950663377562,0.7681617066745945,0.7360708122479869,0.7013796991256838,0.6642454464056966,0.6248248962163059,0.5832746537160531,0.5397510870937499,0.49441032756846326,0.44740826938953493,0.39890056983656663,0.3490426492194256,0.29798969087824023,0.24589664118341226,0.1929182095355948,0.13920886836572244,0.08492285313498193,0.030214162334829098,-0.02476344251301299,-0.07985643685656818,-0.13491153311357884,-0.18977568067153427,-0.24429606588765473,-0.2983201120888932,-0.3516954795719478,-0.4042700656032405,-0.45589200441893496,-0.5064096672249256,-0.5556716621968487,-0.603526834480073,-0.6498242661896967,-0.6944132764105628,-0.7371434211972439,-0.7778644935740431,-0.8164265235350143,-0.8526797780439352,-0.8864747610343109,-0.9176622134094004,-0.9460931130421848,-0.9716186747753852,-0.9940903504214589,-1.0133598287625993,-1.0292790355507293,-1.0417001335075113,-1.0504755223243407,-1.055457838662349,-1.0564999561524004,-1.053454985395117,-1.0461762739608105,-1.0345174063895755,-1.0183322041911964,-0.9974747258452439,-0.9717992668009714,-0.9411603594774149,-0.9054127732633077,-0.8644115145171511,-0.8180118265671545,-0.7660691897112706,-0.7084393212171918,-0.6449781753223576,-0.5755419432339011,-0.49998705312873426,-0.4181701701534948,-0.3299481964245601,-0.2351782710279906,-0.13371777001966478,-0.025424306425136933,0.0898442697602917,0.2122298715715587],\"type\":\"scatter\",\"xaxis\":\"x2\",\"yaxis\":\"y2\"},{\"marker\":{\"color\":\"mediumpurple\"},\"mode\":\"markers\",\"x\":[0.3745401188473625,0.9507143064099162,0.7319939418114051,0.5986584841970366,0.15601864044243652,0.15599452033620265,0.05808361216819946,0.8661761457749352,0.6011150117432088,0.7080725777960455],\"y\":[0.6621995859491285,-0.2504894367193866,-1.0399487832345553,-0.6275182299806012,0.854857342681687,0.6392487011533475,0.18441089666331875,-0.8014323286500792,-0.6947217251134631,-0.9340757540684701],\"type\":\"scatter\",\"xaxis\":\"x3\",\"yaxis\":\"y3\"},{\"line\":{\"color\":\"lightgreen\"},\"mode\":\"lines\",\"x\":[0.0,0.01,0.02,0.03,0.04,0.05,0.06,0.07,0.08,0.09,0.1,0.11,0.12,0.13,0.14,0.15,0.16,0.17,0.18,0.19,0.2,0.21,0.22,0.23,0.24,0.25,0.26,0.27,0.28,0.29,0.3,0.31,0.32,0.33,0.34,0.35000000000000003,0.36,0.37,0.38,0.39,0.4,0.41000000000000003,0.42,0.43,0.44,0.45,0.46,0.47000000000000003,0.48,0.49,0.5,0.51,0.52,0.53,0.54,0.55,0.56,0.5700000000000001,0.58,0.59,0.6,0.61,0.62,0.63,0.64,0.65,0.66,0.67,0.68,0.6900000000000001,0.7000000000000001,0.71,0.72,0.73,0.74,0.75,0.76,0.77,0.78,0.79,0.8,0.81,0.8200000000000001,0.8300000000000001,0.84,0.85,0.86,0.87,0.88,0.89,0.9,0.91,0.92,0.93,0.9400000000000001,0.9500000000000001,0.96,0.97,0.98,0.99],\"y\":[0.0,0.06279051952931337,0.12533323356430426,0.1873813145857246,0.2486898871648548,0.3090169943749474,0.3681245526846779,0.4257792915650727,0.4817536741017153,0.5358267949789967,0.5877852522924731,0.6374239897486896,0.6845471059286886,0.7289686274214116,0.7705132427757893,0.8090169943749475,0.8443279255020151,0.8763066800438637,0.9048270524660196,0.9297764858882513,0.9510565162951535,0.9685831611286311,0.9822872507286886,0.9921147013144779,0.9980267284282716,1.0,0.9980267284282716,0.9921147013144778,0.9822872507286886,0.9685831611286312,0.9510565162951536,0.9297764858882513,0.9048270524660195,0.8763066800438635,0.844327925502015,0.8090169943749475,0.7705132427757893,0.7289686274214114,0.6845471059286888,0.6374239897486899,0.5877852522924732,0.5358267949789967,0.4817536741017156,0.4257792915650729,0.36812455268467814,0.3090169943749475,0.24868988716485482,0.18738131458572457,0.12533323356430454,0.06279051952931358,1.2246467991473532e-16,-0.06279051952931335,-0.12533323356430429,-0.18738131458572477,-0.24868988716485502,-0.30901699437494773,-0.3681245526846783,-0.42577929156507266,-0.481753674101715,-0.5358267949789964,-0.587785252292473,-0.6374239897486896,-0.6845471059286887,-0.7289686274214113,-0.7705132427757894,-0.8090169943749473,-0.8443279255020153,-0.8763066800438636,-0.9048270524660198,-0.9297764858882515,-0.9510565162951535,-0.968583161128631,-0.9822872507286887,-0.9921147013144778,-0.9980267284282716,-1.0,-0.9980267284282716,-0.9921147013144779,-0.9822872507286887,-0.9685831611286311,-0.9510565162951536,-0.9297764858882512,-0.9048270524660196,-0.8763066800438634,-0.8443279255020155,-0.8090169943749476,-0.7705132427757896,-0.7289686274214116,-0.684547105928689,-0.6374239897486896,-0.5877852522924734,-0.5358267949789963,-0.4817536741017153,-0.4257792915650722,-0.36812455268467786,-0.3090169943749476,-0.24868988716485535,-0.18738131458572468,-0.12533323356430465,-0.06279051952931326],\"type\":\"scatter\",\"xaxis\":\"x3\",\"yaxis\":\"y3\"},{\"line\":{\"color\":\"lightsalmon\"},\"mode\":\"lines\",\"x\":[0.0,0.01,0.02,0.03,0.04,0.05,0.06,0.07,0.08,0.09,0.1,0.11,0.12,0.13,0.14,0.15,0.16,0.17,0.18,0.19,0.2,0.21,0.22,0.23,0.24,0.25,0.26,0.27,0.28,0.29,0.3,0.31,0.32,0.33,0.34,0.35000000000000003,0.36,0.37,0.38,0.39,0.4,0.41000000000000003,0.42,0.43,0.44,0.45,0.46,0.47000000000000003,0.48,0.49,0.5,0.51,0.52,0.53,0.54,0.55,0.56,0.5700000000000001,0.58,0.59,0.6,0.61,0.62,0.63,0.64,0.65,0.66,0.67,0.68,0.6900000000000001,0.7000000000000001,0.71,0.72,0.73,0.74,0.75,0.76,0.77,0.78,0.79,0.8,0.81,0.8200000000000001,0.8300000000000001,0.84,0.85,0.86,0.87,0.88,0.89,0.9,0.91,0.92,0.93,0.9400000000000001,0.9500000000000001,0.96,0.97,0.98,0.99],\"y\":[7.41237344086403,5.309764061193625,3.6338310204052835,2.3257692190381682,1.332441684080063,0.6060046595219344,0.10354822028855182,-0.21324789699423974,-0.3784435529349892,-0.4221528605544016,-0.3708445432447576,-0.2476283020503658,-0.07252749880864684,0.13726153830881316,0.3671232803159228,0.6047895274526098,0.8401183972073341,1.0648854637817067,1.2725867424578894,1.4582532123296232,1.6182765708567786,1.7502459137049584,1.8527950333295564,1.9254600297660716,1.9685469270861802,1.983008988980373,1.9703334269289599,1.9324371944193786,1.8715715606730328,1.7902351573414421,1.6910951916304384,1.57691651931583,1.450498271109609,1.314617725836115,1.1719811238826878,1.0251811143789382,0.8766605295726322,0.7286821798568326,0.583304362911008,0.44236178041887797,0.30745155581803374,0.179924046549786,0.06087814425927718,-0.04883924358068725,-0.14862983717353018,-0.23813705956376907,-0.31723585000008825,-0.3860195220454443,-0.4447839729605221,-0.4940095509141429,-0.534340886544669,-0.566564995428962,-0.591587957981119,-0.6104104833384554,-0.6241026637503637,-0.6337782260384301,-0.6405685866448039,-0.6455970168153726,-0.6499532244588409,-0.6546686592255355,-0.660692847323844,-0.6688710626549437,-0.6799236407523495,-0.6944272421114874,-0.7127983714390211,-0.7352794593061844,-0.7619278128677252,-0.7926077420324873,-0.8269861677654262,-0.8645320189607446,-0.9045197244649898,-0.9460371068198583,-0.9879979841916793,-1.0291597870873375,-1.0681464963763574,-1.103477209157063,-1.133600638995631,-1.1569358571141493,-1.171919581007387,-1.1770603171025869,-1.1709996639256133,-1.1525810823732172,-1.1209264395838545,-1.0755206330177316,-1.0163046011475672,-0.9437770275071671,-0.8591050443865242,-0.7642442429896619,-0.6620682963039144,-0.5565085014968645,-0.4527035481441999,-0.3571598190028453,-0.2779225297854282,-0.22475801446853438,-0.2093474627181422,-0.24549241592467297,-0.3493323284201324,-0.5395745004716446,-0.8377366893910221,-1.268402705580229],\"type\":\"scatter\",\"xaxis\":\"x3\",\"yaxis\":\"y3\"}],                        {\"template\":{\"data\":{\"histogram2dcontour\":[{\"type\":\"histogram2dcontour\",\"colorbar\":{\"outlinewidth\":0,\"ticks\":\"\"},\"colorscale\":[[0.0,\"#0d0887\"],[0.1111111111111111,\"#46039f\"],[0.2222222222222222,\"#7201a8\"],[0.3333333333333333,\"#9c179e\"],[0.4444444444444444,\"#bd3786\"],[0.5555555555555556,\"#d8576b\"],[0.6666666666666666,\"#ed7953\"],[0.7777777777777778,\"#fb9f3a\"],[0.8888888888888888,\"#fdca26\"],[1.0,\"#f0f921\"]]}],\"choropleth\":[{\"type\":\"choropleth\",\"colorbar\":{\"outlinewidth\":0,\"ticks\":\"\"}}],\"histogram2d\":[{\"type\":\"histogram2d\",\"colorbar\":{\"outlinewidth\":0,\"ticks\":\"\"},\"colorscale\":[[0.0,\"#0d0887\"],[0.1111111111111111,\"#46039f\"],[0.2222222222222222,\"#7201a8\"],[0.3333333333333333,\"#9c179e\"],[0.4444444444444444,\"#bd3786\"],[0.5555555555555556,\"#d8576b\"],[0.6666666666666666,\"#ed7953\"],[0.7777777777777778,\"#fb9f3a\"],[0.8888888888888888,\"#fdca26\"],[1.0,\"#f0f921\"]]}],\"heatmap\":[{\"type\":\"heatmap\",\"colorbar\":{\"outlinewidth\":0,\"ticks\":\"\"},\"colorscale\":[[0.0,\"#0d0887\"],[0.1111111111111111,\"#46039f\"],[0.2222222222222222,\"#7201a8\"],[0.3333333333333333,\"#9c179e\"],[0.4444444444444444,\"#bd3786\"],[0.5555555555555556,\"#d8576b\"],[0.6666666666666666,\"#ed7953\"],[0.7777777777777778,\"#fb9f3a\"],[0.8888888888888888,\"#fdca26\"],[1.0,\"#f0f921\"]]}],\"heatmapgl\":[{\"type\":\"heatmapgl\",\"colorbar\":{\"outlinewidth\":0,\"ticks\":\"\"},\"colorscale\":[[0.0,\"#0d0887\"],[0.1111111111111111,\"#46039f\"],[0.2222222222222222,\"#7201a8\"],[0.3333333333333333,\"#9c179e\"],[0.4444444444444444,\"#bd3786\"],[0.5555555555555556,\"#d8576b\"],[0.6666666666666666,\"#ed7953\"],[0.7777777777777778,\"#fb9f3a\"],[0.8888888888888888,\"#fdca26\"],[1.0,\"#f0f921\"]]}],\"contourcarpet\":[{\"type\":\"contourcarpet\",\"colorbar\":{\"outlinewidth\":0,\"ticks\":\"\"}}],\"contour\":[{\"type\":\"contour\",\"colorbar\":{\"outlinewidth\":0,\"ticks\":\"\"},\"colorscale\":[[0.0,\"#0d0887\"],[0.1111111111111111,\"#46039f\"],[0.2222222222222222,\"#7201a8\"],[0.3333333333333333,\"#9c179e\"],[0.4444444444444444,\"#bd3786\"],[0.5555555555555556,\"#d8576b\"],[0.6666666666666666,\"#ed7953\"],[0.7777777777777778,\"#fb9f3a\"],[0.8888888888888888,\"#fdca26\"],[1.0,\"#f0f921\"]]}],\"surface\":[{\"type\":\"surface\",\"colorbar\":{\"outlinewidth\":0,\"ticks\":\"\"},\"colorscale\":[[0.0,\"#0d0887\"],[0.1111111111111111,\"#46039f\"],[0.2222222222222222,\"#7201a8\"],[0.3333333333333333,\"#9c179e\"],[0.4444444444444444,\"#bd3786\"],[0.5555555555555556,\"#d8576b\"],[0.6666666666666666,\"#ed7953\"],[0.7777777777777778,\"#fb9f3a\"],[0.8888888888888888,\"#fdca26\"],[1.0,\"#f0f921\"]]}],\"mesh3d\":[{\"type\":\"mesh3d\",\"colorbar\":{\"outlinewidth\":0,\"ticks\":\"\"}}],\"scatter\":[{\"fillpattern\":{\"fillmode\":\"overlay\",\"size\":10,\"solidity\":0.2},\"type\":\"scatter\"}],\"parcoords\":[{\"type\":\"parcoords\",\"line\":{\"colorbar\":{\"outlinewidth\":0,\"ticks\":\"\"}}}],\"scatterpolargl\":[{\"type\":\"scatterpolargl\",\"marker\":{\"colorbar\":{\"outlinewidth\":0,\"ticks\":\"\"}}}],\"bar\":[{\"error_x\":{\"color\":\"#2a3f5f\"},\"error_y\":{\"color\":\"#2a3f5f\"},\"marker\":{\"line\":{\"color\":\"#E5ECF6\",\"width\":0.5},\"pattern\":{\"fillmode\":\"overlay\",\"size\":10,\"solidity\":0.2}},\"type\":\"bar\"}],\"scattergeo\":[{\"type\":\"scattergeo\",\"marker\":{\"colorbar\":{\"outlinewidth\":0,\"ticks\":\"\"}}}],\"scatterpolar\":[{\"type\":\"scatterpolar\",\"marker\":{\"colorbar\":{\"outlinewidth\":0,\"ticks\":\"\"}}}],\"histogram\":[{\"marker\":{\"pattern\":{\"fillmode\":\"overlay\",\"size\":10,\"solidity\":0.2}},\"type\":\"histogram\"}],\"scattergl\":[{\"type\":\"scattergl\",\"marker\":{\"colorbar\":{\"outlinewidth\":0,\"ticks\":\"\"}}}],\"scatter3d\":[{\"type\":\"scatter3d\",\"line\":{\"colorbar\":{\"outlinewidth\":0,\"ticks\":\"\"}},\"marker\":{\"colorbar\":{\"outlinewidth\":0,\"ticks\":\"\"}}}],\"scattermapbox\":[{\"type\":\"scattermapbox\",\"marker\":{\"colorbar\":{\"outlinewidth\":0,\"ticks\":\"\"}}}],\"scatterternary\":[{\"type\":\"scatterternary\",\"marker\":{\"colorbar\":{\"outlinewidth\":0,\"ticks\":\"\"}}}],\"scattercarpet\":[{\"type\":\"scattercarpet\",\"marker\":{\"colorbar\":{\"outlinewidth\":0,\"ticks\":\"\"}}}],\"carpet\":[{\"aaxis\":{\"endlinecolor\":\"#2a3f5f\",\"gridcolor\":\"white\",\"linecolor\":\"white\",\"minorgridcolor\":\"white\",\"startlinecolor\":\"#2a3f5f\"},\"baxis\":{\"endlinecolor\":\"#2a3f5f\",\"gridcolor\":\"white\",\"linecolor\":\"white\",\"minorgridcolor\":\"white\",\"startlinecolor\":\"#2a3f5f\"},\"type\":\"carpet\"}],\"table\":[{\"cells\":{\"fill\":{\"color\":\"#EBF0F8\"},\"line\":{\"color\":\"white\"}},\"header\":{\"fill\":{\"color\":\"#C8D4E3\"},\"line\":{\"color\":\"white\"}},\"type\":\"table\"}],\"barpolar\":[{\"marker\":{\"line\":{\"color\":\"#E5ECF6\",\"width\":0.5},\"pattern\":{\"fillmode\":\"overlay\",\"size\":10,\"solidity\":0.2}},\"type\":\"barpolar\"}],\"pie\":[{\"automargin\":true,\"type\":\"pie\"}]},\"layout\":{\"autotypenumbers\":\"strict\",\"colorway\":[\"#636efa\",\"#EF553B\",\"#00cc96\",\"#ab63fa\",\"#FFA15A\",\"#19d3f3\",\"#FF6692\",\"#B6E880\",\"#FF97FF\",\"#FECB52\"],\"font\":{\"color\":\"#2a3f5f\"},\"hovermode\":\"closest\",\"hoverlabel\":{\"align\":\"left\"},\"paper_bgcolor\":\"white\",\"plot_bgcolor\":\"#E5ECF6\",\"polar\":{\"bgcolor\":\"#E5ECF6\",\"angularaxis\":{\"gridcolor\":\"white\",\"linecolor\":\"white\",\"ticks\":\"\"},\"radialaxis\":{\"gridcolor\":\"white\",\"linecolor\":\"white\",\"ticks\":\"\"}},\"ternary\":{\"bgcolor\":\"#E5ECF6\",\"aaxis\":{\"gridcolor\":\"white\",\"linecolor\":\"white\",\"ticks\":\"\"},\"baxis\":{\"gridcolor\":\"white\",\"linecolor\":\"white\",\"ticks\":\"\"},\"caxis\":{\"gridcolor\":\"white\",\"linecolor\":\"white\",\"ticks\":\"\"}},\"coloraxis\":{\"colorbar\":{\"outlinewidth\":0,\"ticks\":\"\"}},\"colorscale\":{\"sequential\":[[0.0,\"#0d0887\"],[0.1111111111111111,\"#46039f\"],[0.2222222222222222,\"#7201a8\"],[0.3333333333333333,\"#9c179e\"],[0.4444444444444444,\"#bd3786\"],[0.5555555555555556,\"#d8576b\"],[0.6666666666666666,\"#ed7953\"],[0.7777777777777778,\"#fb9f3a\"],[0.8888888888888888,\"#fdca26\"],[1.0,\"#f0f921\"]],\"sequentialminus\":[[0.0,\"#0d0887\"],[0.1111111111111111,\"#46039f\"],[0.2222222222222222,\"#7201a8\"],[0.3333333333333333,\"#9c179e\"],[0.4444444444444444,\"#bd3786\"],[0.5555555555555556,\"#d8576b\"],[0.6666666666666666,\"#ed7953\"],[0.7777777777777778,\"#fb9f3a\"],[0.8888888888888888,\"#fdca26\"],[1.0,\"#f0f921\"]],\"diverging\":[[0,\"#8e0152\"],[0.1,\"#c51b7d\"],[0.2,\"#de77ae\"],[0.3,\"#f1b6da\"],[0.4,\"#fde0ef\"],[0.5,\"#f7f7f7\"],[0.6,\"#e6f5d0\"],[0.7,\"#b8e186\"],[0.8,\"#7fbc41\"],[0.9,\"#4d9221\"],[1,\"#276419\"]]},\"xaxis\":{\"gridcolor\":\"white\",\"linecolor\":\"white\",\"ticks\":\"\",\"title\":{\"standoff\":15},\"zerolinecolor\":\"white\",\"automargin\":true,\"zerolinewidth\":2},\"yaxis\":{\"gridcolor\":\"white\",\"linecolor\":\"white\",\"ticks\":\"\",\"title\":{\"standoff\":15},\"zerolinecolor\":\"white\",\"automargin\":true,\"zerolinewidth\":2},\"scene\":{\"xaxis\":{\"backgroundcolor\":\"#E5ECF6\",\"gridcolor\":\"white\",\"linecolor\":\"white\",\"showbackground\":true,\"ticks\":\"\",\"zerolinecolor\":\"white\",\"gridwidth\":2},\"yaxis\":{\"backgroundcolor\":\"#E5ECF6\",\"gridcolor\":\"white\",\"linecolor\":\"white\",\"showbackground\":true,\"ticks\":\"\",\"zerolinecolor\":\"white\",\"gridwidth\":2},\"zaxis\":{\"backgroundcolor\":\"#E5ECF6\",\"gridcolor\":\"white\",\"linecolor\":\"white\",\"showbackground\":true,\"ticks\":\"\",\"zerolinecolor\":\"white\",\"gridwidth\":2}},\"shapedefaults\":{\"line\":{\"color\":\"#2a3f5f\"}},\"annotationdefaults\":{\"arrowcolor\":\"#2a3f5f\",\"arrowhead\":0,\"arrowwidth\":1},\"geo\":{\"bgcolor\":\"white\",\"landcolor\":\"#E5ECF6\",\"subunitcolor\":\"white\",\"showland\":true,\"showlakes\":true,\"lakecolor\":\"white\"},\"title\":{\"x\":0.05},\"mapbox\":{\"style\":\"light\"}}},\"xaxis\":{\"anchor\":\"y\",\"domain\":[0.0,0.2888888888888889],\"title\":{\"text\":\"x\\u003cbr\\u003e\\u003cbr\\u003e\\u003cbr\\u003ea: 1.93\\u003cbr\\u003eb: -3.67\\u003cbr\\u003ec: 1.01\"},\"range\":[0,1]},\"yaxis\":{\"anchor\":\"x\",\"domain\":[0.0,1.0],\"title\":{\"text\":\"t\"},\"range\":[-5,5]},\"xaxis2\":{\"anchor\":\"y2\",\"domain\":[0.35555555555555557,0.6444444444444445],\"title\":{\"text\":\"x\\u003cbr\\u003e\\u003cbr\\u003e\\u003cbr\\u003ea: -0.99\\u003cbr\\u003eb: 27.5\\u003cbr\\u003ec: -39.58\\u003cbr\\u003ed: 13.94\\u003cbr\\u003ee: -0.53\"},\"range\":[0,1]},\"yaxis2\":{\"anchor\":\"x2\",\"domain\":[0.0,1.0],\"title\":{\"text\":\"t\"},\"range\":[-5,5]},\"xaxis3\":{\"anchor\":\"y3\",\"domain\":[0.7111111111111111,1.0],\"title\":{\"text\":\"x\\u003cbr\\u003e\\u003cbr\\u003e\\u003cbr\\u003ea: -6082.13\\u003cbr\\u003eb: 22837.49\\u003cbr\\u003ec: -34582.93\\u003cbr\\u003ed: 26929.17\\u003cbr\\u003ee: -11332.18\\u003cbr\\u003ef: 2455.01\\u003cbr\\u003eg: -233.7\\u003cbr\\u003eh: 7.41\"},\"range\":[0,1]},\"yaxis3\":{\"anchor\":\"x3\",\"domain\":[0.0,1.0],\"title\":{\"text\":\"t\"},\"range\":[-5,5]},\"annotations\":[{\"font\":{\"size\":16},\"showarrow\":false,\"text\":\"poly2 fit\",\"x\":0.14444444444444446,\"xanchor\":\"center\",\"xref\":\"paper\",\"y\":1.0,\"yanchor\":\"bottom\",\"yref\":\"paper\"},{\"font\":{\"size\":16},\"showarrow\":false,\"text\":\"poly4 fit\",\"x\":0.5,\"xanchor\":\"center\",\"xref\":\"paper\",\"y\":1.0,\"yanchor\":\"bottom\",\"yref\":\"paper\"},{\"font\":{\"size\":16},\"showarrow\":false,\"text\":\"poly7 fit\",\"x\":0.8555555555555556,\"xanchor\":\"center\",\"xref\":\"paper\",\"y\":1.0,\"yanchor\":\"bottom\",\"yref\":\"paper\"}],\"showlegend\":false,\"title\":{\"text\":\"Polynomial fits and their coefficients\"},\"height\":700,\"width\":1300},                        {\"responsive\": true}                    ).then(function(){\n",
              "                            \n",
              "var gd = document.getElementById('e1e4243e-adbc-492d-8bdc-47828b489e5f');\n",
              "var x = new MutationObserver(function (mutations, observer) {{\n",
              "        var display = window.getComputedStyle(gd).display;\n",
              "        if (!display || display === 'none') {{\n",
              "            console.log([gd, 'removed!']);\n",
              "            Plotly.purge(gd);\n",
              "            observer.disconnect();\n",
              "        }}\n",
              "}});\n",
              "\n",
              "// Listen for the removal of the full notebook cells\n",
              "var notebookContainer = gd.closest('#notebook-container');\n",
              "if (notebookContainer) {{\n",
              "    x.observe(notebookContainer, {childList: true});\n",
              "}}\n",
              "\n",
              "// Listen for the clearing of the current output cell\n",
              "var outputEl = gd.closest('.output');\n",
              "if (outputEl) {{\n",
              "    x.observe(outputEl, {childList: true});\n",
              "}}\n",
              "\n",
              "                        })                };                            </script>        </div>\n",
              "</body>\n",
              "</html>"
            ]
          },
          "metadata": {}
        }
      ]
    },
    {
      "cell_type": "markdown",
      "metadata": {
        "id": "4KPPrymvhAmb"
      },
      "source": [
        "Nevertheless you should find *evidence* to support your judgement. Our intuition right now is that \"High-degree polynomial fits lead to a high generalization error for this dataset\", how can we test it?\n",
        "As you have learnt in the lecture, a useful study you can perform consists in evaluating the MSE loss on a *test set*, i.e., on samples not used for training.\n",
        "\n",
        "Such as the ones that are going to magically appear in the next cell."
      ]
    },
    {
      "cell_type": "code",
      "metadata": {
        "id": "QPi-ZFkUliUA"
      },
      "source": [
        "x_test = np.random.rand(10)\n",
        "t_test = np.sin(2 * np.pi * x_test) + 0.1 * np.random.randn(10)"
      ],
      "execution_count": null,
      "outputs": []
    },
    {
      "cell_type": "markdown",
      "metadata": {
        "id": "YJu_1xXUloK0"
      },
      "source": [
        "> **EXERCISE**: Do a nice plot entitled \"MSE loss **vs** degree of the polynomial fit\" that shows the trends of the training set and the test set."
      ]
    },
    {
      "cell_type": "code",
      "metadata": {
        "id": "HuQphUAXhh_w"
      },
      "source": [
        "# ✏️ your code here"
      ],
      "execution_count": null,
      "outputs": []
    },
    {
      "cell_type": "markdown",
      "source": [
        "**NOTE**\n",
        "\n",
        "Typically, when you are designing a learning model, you would get all the available data at the beginning. Then, you split this data into training, validation, and test sets.\n",
        "\n",
        "To recap:\n",
        "\n",
        "* **Training set**: the data we use to estimate our model's parameters.\n",
        "* **Validation set**: new data we use to evaluate our model, and possibly tune its hyperparameters.\n",
        "* **Test set**: new data we use to evaluate the final model."
      ],
      "metadata": {
        "id": "x2GV2rQ4mpNI"
      }
    },
    {
      "cell_type": "markdown",
      "source": [
        "### Data leakage\n",
        "\n",
        "> ⚠️ Using the test set to tune your model's design and hyperparameters is not just cheating: it is *conceptually wrong*.\n",
        ">\n",
        "> In the real world, you almost never have access to the test set. For example, ChatGPT has never seen the crazy prompts we give it, but it still works well. Our input forms ChatGPT's test set. We can conclude that ChatGPT generalizes well to unseen data."
      ],
      "metadata": {
        "id": "bVl2SP8J92tr"
      }
    },
    {
      "cell_type": "markdown",
      "metadata": {
        "id": "5z1iX6ltDTx8"
      },
      "source": [
        "###Regularization"
      ]
    },
    {
      "cell_type": "markdown",
      "metadata": {
        "id": "ENt79TByFzyD"
      },
      "source": [
        "Still, it is not always desirable to work with simple models with few parameters.\n",
        "\n",
        "Think about the true link between the input variable $x$ and the target variable $t$, it is through a $\\sin$ function.\n",
        "And a $\\sin$ function written in a polynomial basis (i.e. [its Taylor series](https://www.wolframalpha.com/input?i=taylor+series+sin+x)) contains terms of *every* odd degree, i.e. infinite terms. Our approximation of the ground truth function should benefit from high order terms, since they are *needed* to express a $\\sin$ function.\n",
        "\n",
        "We want to have many parameters, and we want them to do the right thing: to not overfit.\n",
        "This is why we need **regularizers**.\n",
        "\n",
        "Let's start with the simplest and most universal regularizer, *more data*.\n"
      ]
    },
    {
      "cell_type": "code",
      "metadata": {
        "id": "qcikXP28Ntfo",
        "colab": {
          "base_uri": "https://localhost:8080/",
          "height": 737
        },
        "outputId": "fd3f482b-441c-4356-b8d9-3c7d07f1e529",
        "cellView": "form"
      },
      "source": [
        "# @title Regularized polynomial fits: more data (again: play at least once) { run: \"auto\" }\n",
        "\n",
        "training_dataset_size = 75  #@param {type:\"slider\", min:1, max:100, step:1}\n",
        "temp_x, temp_t = x, t\n",
        "x = np.random.rand(training_dataset_size)\n",
        "t = np.sin(2 * np.pi * x) + 0.1 * np.random.randn(training_dataset_size)\n",
        "\n",
        "deg_1 = 2  #@param {type:\"slider\", min:0, max:15, step:1}\n",
        "deg_2 = 6  #@param {type:\"slider\", min:0, max:15, step:1}\n",
        "deg_3 = 13  #@param {type:\"slider\", min:0, max:15, step:1}\n",
        "\n",
        "degree = {}\n",
        "degree[0], degree[1], degree[2] = deg_1, deg_2, deg_3\n",
        "\n",
        "max_degree = max(degree.values())\n",
        "y = torch.from_numpy(t)\n",
        "X_full = torch.ones((y.shape[0], max_degree + 1), dtype=torch.float64)  # double precision is needed for this calculation!\n",
        "for i in range(max_degree):\n",
        "    X_full[:,i] =  torch.from_numpy(x) ** (max_degree - i)\n",
        "\n",
        "theta_collection = {}\n",
        "\n",
        "for i in range(3):\n",
        "    X = X_full[:,-(degree[i] + 1):]\n",
        "    temp_inverse = torch.inverse(torch.einsum('ij,jk->ik', X.t(), X))\n",
        "    theta_collection[i] = torch.einsum('ij,jk,k->i', temp_inverse, X.t(), y)\n",
        "\n",
        "fig = make_subplots(\n",
        "    rows=1, cols=3,\n",
        "    subplot_titles=(f\"poly{degree[0]} fit\", f\"poly{degree[1]} fit\", f\"poly{degree[2]} fit\"))\n",
        "\n",
        "x_funcs = np.arange(0,1,1./100)\n",
        "y_funcs = {}\n",
        "for i in range(3):\n",
        "    theta_funcs = theta_collection[i].numpy()\n",
        "    X_funcs = np.ones((x_funcs.shape[0], degree[i] + 1), dtype=np.float64)\n",
        "    for j in range(degree[i]):\n",
        "        X_funcs[:,j] =  x_funcs ** (degree[i] - j)\n",
        "    y_funcs[i] = np.einsum('ij,j->i', X_funcs, theta_funcs)\n",
        "    coefficients_string = '<br><br><br>' + '<br>'.join([c + f': {np.round(theta_funcs[i], decimals=2)}' for i, c in enumerate('abcdefghijklmnopqrstuvwxyz'[:len(theta_funcs)])])\n",
        "\n",
        "    fig.add_trace(go.Scatter(x=x, y=t, mode='markers', marker=dict(color=\"mediumpurple\")), row=1, col=i + 1)\n",
        "    fig.add_trace(go.Scatter(x=x_funcs, y=np.sin(2*np.pi*x_funcs), mode='lines', line=dict(color=\"lightgreen\")), row=1, col=i + 1)\n",
        "    fig.add_trace(go.Scatter(x=x_funcs, y=y_funcs[i], mode='lines', line=dict(color=\"lightsalmon\")), row=1, col=i + 1)\n",
        "    fig.update_xaxes(title_text=\"x\" + coefficients_string, range = [0,1], row=1, col=i+1)\n",
        "\n",
        "fig.update_layout(showlegend=False)\n",
        "fig.update_yaxes(title_text=\"t\", range = [-5,5])\n",
        "fig.update_layout(height=700, width=1300, title_text=\"Polynomial fits and their coefficients\")\n",
        "fig.show()\n",
        "\n",
        "x, t = temp_x, temp_t"
      ],
      "execution_count": null,
      "outputs": [
        {
          "output_type": "display_data",
          "data": {
            "text/html": [
              "<html>\n",
              "<head><meta charset=\"utf-8\" /></head>\n",
              "<body>\n",
              "    <div>            <script src=\"https://cdnjs.cloudflare.com/ajax/libs/mathjax/2.7.5/MathJax.js?config=TeX-AMS-MML_SVG\"></script><script type=\"text/javascript\">if (window.MathJax && window.MathJax.Hub && window.MathJax.Hub.Config) {window.MathJax.Hub.Config({SVG: {font: \"STIX-Web\"}});}</script>                <script type=\"text/javascript\">window.PlotlyConfig = {MathJaxConfig: 'local'};</script>\n",
              "        <script charset=\"utf-8\" src=\"https://cdn.plot.ly/plotly-2.24.1.min.js\"></script>                <div id=\"93bcd91d-be6c-42e7-8026-839e69f5b40e\" class=\"plotly-graph-div\" style=\"height:700px; width:1300px;\"></div>            <script type=\"text/javascript\">                                    window.PLOTLYENV=window.PLOTLYENV || {};                                    if (document.getElementById(\"93bcd91d-be6c-42e7-8026-839e69f5b40e\")) {                    Plotly.newPlot(                        \"93bcd91d-be6c-42e7-8026-839e69f5b40e\",                        [{\"marker\":{\"color\":\"mediumpurple\"},\"mode\":\"markers\",\"x\":[0.2598035810641598,0.6340057030996114,0.5399853797158555,0.7798453951511436,0.10698063882695841,0.761027902502028,0.5412665786761103,0.9629920038589946,0.3418721660386861,0.6326218931339481,0.9320281055100175,0.10250972799067926,0.9372284872364511,0.6878857223008134,0.0678370591051719,0.30096356694681625,0.7081720886452816,0.0673506014687717,0.5821704601762733,0.34588305695295674,0.6209155177674771,0.04574203381251285,0.8715368061523763,0.9734889691773969,0.9688778552856915,0.7496518317429247,0.13008624013063197,0.7582631959290226,0.02458691645880151,0.022123551528997254,0.32361021914954125,0.48864319040466575,0.7704074178077932,0.6832953766065052,0.44590270637674834,0.2736266662816659,0.9971245001577111,0.42618130223597295,0.4513870243296755,0.16362382119166918,0.7948095487499294,0.6936822257814886,0.2207696127887604,0.0823810456158427,0.6804993020747131,0.6545112142811352,0.2732595269982093,0.9508635622504104,0.15105789178090023,0.4323348010426019,0.9436159201675989,0.4197273169261223,0.6385259476640855,0.3975943979627943,0.27421520234867003,0.9839776479598282,0.409334006315043,0.8940992036791344,0.22995460589108618,0.2131047040250833,0.03113408288451136,0.651666825375885,0.36852634372376114,0.864358249839637,0.47320990669155716,0.9681934279147217,0.18552551570312115,0.8686231679556108,0.7765968527917417,0.770921844644052,0.8447832281168877,0.7610239909429989,0.6262203216314154,0.13124487768238757,0.032526179491251916],\"y\":[1.0070990752540836,-0.7263128935990717,-0.177700534414529,-0.9914423809206689,0.7667043197097276,-1.0652396138676845,-0.07629601618177861,-0.2344541111218614,0.6948891260031312,-0.7273358814198524,-0.482320022730804,0.6845334580430804,-0.44952137881881254,-0.9694226197016693,0.22448953547683817,0.9039375935331602,-1.2080510458627156,0.25226836204704034,-0.4176175885576839,0.9025292060943086,-0.6461832965631177,0.18676765501556203,-0.7270958690847381,-0.16616472651164077,-0.3101388255397064,-0.8496577770149396,0.8170756800006255,-1.0207489189070047,0.15655899914076854,0.15939742226699843,0.6907633753986417,0.04657866031988124,-1.0599890375692955,-1.0136104303775202,0.3052859161986884,1.168770065019763,0.046017970693937746,0.3902468019892072,0.35797525076721165,0.9962438757723284,-0.8681634818160914,-0.9320808240837241,0.9184881897192141,0.5646316354677401,-0.8668098170201834,-0.7358311227144579,1.052857151135512,-0.19889684121193607,0.7593825401329781,0.5441995577365573,-0.3271473515125187,0.6907804458023611,-0.8334954041489541,0.7735421911799826,1.0082387908901083,-0.16564324714350262,0.49096665228609604,-0.649404118463527,1.034495508106267,1.0255334165927574,0.13700593585653628,-0.8175638326131015,0.9495027208376078,-0.580017212371908,0.21116571567221906,-0.1947186250969796,0.9310641006116952,-0.6735114215191146,-1.0883483524234816,-1.0171097718823814,-0.9947037818982342,-0.9576797726901101,-0.6477880947107202,0.6859820159826843,0.3603470418839104],\"type\":\"scatter\",\"xaxis\":\"x\",\"yaxis\":\"y\"},{\"line\":{\"color\":\"lightgreen\"},\"mode\":\"lines\",\"x\":[0.0,0.01,0.02,0.03,0.04,0.05,0.06,0.07,0.08,0.09,0.1,0.11,0.12,0.13,0.14,0.15,0.16,0.17,0.18,0.19,0.2,0.21,0.22,0.23,0.24,0.25,0.26,0.27,0.28,0.29,0.3,0.31,0.32,0.33,0.34,0.35000000000000003,0.36,0.37,0.38,0.39,0.4,0.41000000000000003,0.42,0.43,0.44,0.45,0.46,0.47000000000000003,0.48,0.49,0.5,0.51,0.52,0.53,0.54,0.55,0.56,0.5700000000000001,0.58,0.59,0.6,0.61,0.62,0.63,0.64,0.65,0.66,0.67,0.68,0.6900000000000001,0.7000000000000001,0.71,0.72,0.73,0.74,0.75,0.76,0.77,0.78,0.79,0.8,0.81,0.8200000000000001,0.8300000000000001,0.84,0.85,0.86,0.87,0.88,0.89,0.9,0.91,0.92,0.93,0.9400000000000001,0.9500000000000001,0.96,0.97,0.98,0.99],\"y\":[0.0,0.06279051952931337,0.12533323356430426,0.1873813145857246,0.2486898871648548,0.3090169943749474,0.3681245526846779,0.4257792915650727,0.4817536741017153,0.5358267949789967,0.5877852522924731,0.6374239897486896,0.6845471059286886,0.7289686274214116,0.7705132427757893,0.8090169943749475,0.8443279255020151,0.8763066800438637,0.9048270524660196,0.9297764858882513,0.9510565162951535,0.9685831611286311,0.9822872507286886,0.9921147013144779,0.9980267284282716,1.0,0.9980267284282716,0.9921147013144778,0.9822872507286886,0.9685831611286312,0.9510565162951536,0.9297764858882513,0.9048270524660195,0.8763066800438635,0.844327925502015,0.8090169943749475,0.7705132427757893,0.7289686274214114,0.6845471059286888,0.6374239897486899,0.5877852522924732,0.5358267949789967,0.4817536741017156,0.4257792915650729,0.36812455268467814,0.3090169943749475,0.24868988716485482,0.18738131458572457,0.12533323356430454,0.06279051952931358,1.2246467991473532e-16,-0.06279051952931335,-0.12533323356430429,-0.18738131458572477,-0.24868988716485502,-0.30901699437494773,-0.3681245526846783,-0.42577929156507266,-0.481753674101715,-0.5358267949789964,-0.587785252292473,-0.6374239897486896,-0.6845471059286887,-0.7289686274214113,-0.7705132427757894,-0.8090169943749473,-0.8443279255020153,-0.8763066800438636,-0.9048270524660198,-0.9297764858882515,-0.9510565162951535,-0.968583161128631,-0.9822872507286887,-0.9921147013144778,-0.9980267284282716,-1.0,-0.9980267284282716,-0.9921147013144779,-0.9822872507286887,-0.9685831611286311,-0.9510565162951536,-0.9297764858882512,-0.9048270524660196,-0.8763066800438634,-0.8443279255020155,-0.8090169943749476,-0.7705132427757896,-0.7289686274214116,-0.684547105928689,-0.6374239897486896,-0.5877852522924734,-0.5358267949789963,-0.4817536741017153,-0.4257792915650722,-0.36812455268467786,-0.3090169943749476,-0.24868988716485535,-0.18738131458572468,-0.12533323356430465,-0.06279051952931326],\"type\":\"scatter\",\"xaxis\":\"x\",\"yaxis\":\"y\"},{\"line\":{\"color\":\"lightsalmon\"},\"mode\":\"lines\",\"x\":[0.0,0.01,0.02,0.03,0.04,0.05,0.06,0.07,0.08,0.09,0.1,0.11,0.12,0.13,0.14,0.15,0.16,0.17,0.18,0.19,0.2,0.21,0.22,0.23,0.24,0.25,0.26,0.27,0.28,0.29,0.3,0.31,0.32,0.33,0.34,0.35000000000000003,0.36,0.37,0.38,0.39,0.4,0.41000000000000003,0.42,0.43,0.44,0.45,0.46,0.47000000000000003,0.48,0.49,0.5,0.51,0.52,0.53,0.54,0.55,0.56,0.5700000000000001,0.58,0.59,0.6,0.61,0.62,0.63,0.64,0.65,0.66,0.67,0.68,0.6900000000000001,0.7000000000000001,0.71,0.72,0.73,0.74,0.75,0.76,0.77,0.78,0.79,0.8,0.81,0.8200000000000001,0.8300000000000001,0.84,0.85,0.86,0.87,0.88,0.89,0.9,0.91,0.92,0.93,0.9400000000000001,0.9500000000000001,0.96,0.97,0.98,0.99],\"y\":[0.9607236303810992,0.9380255317146506,0.9154302712713167,0.8929378490510977,0.8705482650539934,0.8482615192800039,0.8260776117291291,0.8039965424013691,0.7820183112967238,0.7601429184151933,0.7383703637567776,0.7167006473214768,0.6951337691092906,0.6736697291202192,0.6523085273542624,0.6310501638114205,0.6098946384916936,0.5888419513950811,0.5678921025215836,0.5470450918712007,0.5263009194439326,0.5056595852397795,0.48512108925874087,0.4646854315008172,0.4443526119660083,0.424122630654314,0.40399548756573445,0.38397118270026986,0.3640497160579198,0.34423108763868493,0.32451529744256435,0.30490234546955874,0.285392231719668,0.26598495619289164,0.24668051888923037,0.22747891980868395,0.20838015895125217,0.18938423631693513,0.17049115190573272,0.15170090571764538,0.13301349775267246,0.1144289280108145,0.09594719649207151,0.07756830319644303,0.0592922481239293,0.041119031274530427,0.023048652648246293,0.00508111224507668,-0.012783589934977524,-0.03054545389191765,-0.04820447962574259,-0.06576066713645279,-0.08321401642404846,-0.10056452748852918,-0.11781220032989514,-0.1349570349481466,-0.15199903134328308,-0.16893818951530482,-0.18577450946421137,-0.20250799119000384,-0.21913863469268113,-0.23566643997224368,-0.2520914070286917,-0.26841353586202477,-0.2846328264722431,-0.3007492788593469,-0.3167628930233357,-0.3326736689642096,-0.3484816066819689,-0.36418670617661353,-0.3797889674481434,-0.39528839049655806,-0.41068497532185844,-0.42597872192404385,-0.4411696303031145,-0.4562577004590702,-0.4712429323919116,-0.48612532610163806,-0.5009048815882495,-0.5155815988517465,-0.5301554778921287,-0.5446265187093959,-0.5589947213035487,-0.5732600856745864,-0.5874226118225092,-0.6014822997473175,-0.615439149449011,-0.6292931609275898,-0.6430443341830538,-0.6566926692154031,-0.6702381660246375,-0.6836808246107571,-0.6970206449737619,-0.710257627113652,-0.7233917710304278,-0.7364230767240882,-0.7493515441946337,-0.7621771734420653,-0.7748999644663814,-0.7875199172675829],\"type\":\"scatter\",\"xaxis\":\"x\",\"yaxis\":\"y\"},{\"marker\":{\"color\":\"mediumpurple\"},\"mode\":\"markers\",\"x\":[0.2598035810641598,0.6340057030996114,0.5399853797158555,0.7798453951511436,0.10698063882695841,0.761027902502028,0.5412665786761103,0.9629920038589946,0.3418721660386861,0.6326218931339481,0.9320281055100175,0.10250972799067926,0.9372284872364511,0.6878857223008134,0.0678370591051719,0.30096356694681625,0.7081720886452816,0.0673506014687717,0.5821704601762733,0.34588305695295674,0.6209155177674771,0.04574203381251285,0.8715368061523763,0.9734889691773969,0.9688778552856915,0.7496518317429247,0.13008624013063197,0.7582631959290226,0.02458691645880151,0.022123551528997254,0.32361021914954125,0.48864319040466575,0.7704074178077932,0.6832953766065052,0.44590270637674834,0.2736266662816659,0.9971245001577111,0.42618130223597295,0.4513870243296755,0.16362382119166918,0.7948095487499294,0.6936822257814886,0.2207696127887604,0.0823810456158427,0.6804993020747131,0.6545112142811352,0.2732595269982093,0.9508635622504104,0.15105789178090023,0.4323348010426019,0.9436159201675989,0.4197273169261223,0.6385259476640855,0.3975943979627943,0.27421520234867003,0.9839776479598282,0.409334006315043,0.8940992036791344,0.22995460589108618,0.2131047040250833,0.03113408288451136,0.651666825375885,0.36852634372376114,0.864358249839637,0.47320990669155716,0.9681934279147217,0.18552551570312115,0.8686231679556108,0.7765968527917417,0.770921844644052,0.8447832281168877,0.7610239909429989,0.6262203216314154,0.13124487768238757,0.032526179491251916],\"y\":[1.0070990752540836,-0.7263128935990717,-0.177700534414529,-0.9914423809206689,0.7667043197097276,-1.0652396138676845,-0.07629601618177861,-0.2344541111218614,0.6948891260031312,-0.7273358814198524,-0.482320022730804,0.6845334580430804,-0.44952137881881254,-0.9694226197016693,0.22448953547683817,0.9039375935331602,-1.2080510458627156,0.25226836204704034,-0.4176175885576839,0.9025292060943086,-0.6461832965631177,0.18676765501556203,-0.7270958690847381,-0.16616472651164077,-0.3101388255397064,-0.8496577770149396,0.8170756800006255,-1.0207489189070047,0.15655899914076854,0.15939742226699843,0.6907633753986417,0.04657866031988124,-1.0599890375692955,-1.0136104303775202,0.3052859161986884,1.168770065019763,0.046017970693937746,0.3902468019892072,0.35797525076721165,0.9962438757723284,-0.8681634818160914,-0.9320808240837241,0.9184881897192141,0.5646316354677401,-0.8668098170201834,-0.7358311227144579,1.052857151135512,-0.19889684121193607,0.7593825401329781,0.5441995577365573,-0.3271473515125187,0.6907804458023611,-0.8334954041489541,0.7735421911799826,1.0082387908901083,-0.16564324714350262,0.49096665228609604,-0.649404118463527,1.034495508106267,1.0255334165927574,0.13700593585653628,-0.8175638326131015,0.9495027208376078,-0.580017212371908,0.21116571567221906,-0.1947186250969796,0.9310641006116952,-0.6735114215191146,-1.0883483524234816,-1.0171097718823814,-0.9947037818982342,-0.9576797726901101,-0.6477880947107202,0.6859820159826843,0.3603470418839104],\"type\":\"scatter\",\"xaxis\":\"x2\",\"yaxis\":\"y2\"},{\"line\":{\"color\":\"lightgreen\"},\"mode\":\"lines\",\"x\":[0.0,0.01,0.02,0.03,0.04,0.05,0.06,0.07,0.08,0.09,0.1,0.11,0.12,0.13,0.14,0.15,0.16,0.17,0.18,0.19,0.2,0.21,0.22,0.23,0.24,0.25,0.26,0.27,0.28,0.29,0.3,0.31,0.32,0.33,0.34,0.35000000000000003,0.36,0.37,0.38,0.39,0.4,0.41000000000000003,0.42,0.43,0.44,0.45,0.46,0.47000000000000003,0.48,0.49,0.5,0.51,0.52,0.53,0.54,0.55,0.56,0.5700000000000001,0.58,0.59,0.6,0.61,0.62,0.63,0.64,0.65,0.66,0.67,0.68,0.6900000000000001,0.7000000000000001,0.71,0.72,0.73,0.74,0.75,0.76,0.77,0.78,0.79,0.8,0.81,0.8200000000000001,0.8300000000000001,0.84,0.85,0.86,0.87,0.88,0.89,0.9,0.91,0.92,0.93,0.9400000000000001,0.9500000000000001,0.96,0.97,0.98,0.99],\"y\":[0.0,0.06279051952931337,0.12533323356430426,0.1873813145857246,0.2486898871648548,0.3090169943749474,0.3681245526846779,0.4257792915650727,0.4817536741017153,0.5358267949789967,0.5877852522924731,0.6374239897486896,0.6845471059286886,0.7289686274214116,0.7705132427757893,0.8090169943749475,0.8443279255020151,0.8763066800438637,0.9048270524660196,0.9297764858882513,0.9510565162951535,0.9685831611286311,0.9822872507286886,0.9921147013144779,0.9980267284282716,1.0,0.9980267284282716,0.9921147013144778,0.9822872507286886,0.9685831611286312,0.9510565162951536,0.9297764858882513,0.9048270524660195,0.8763066800438635,0.844327925502015,0.8090169943749475,0.7705132427757893,0.7289686274214114,0.6845471059286888,0.6374239897486899,0.5877852522924732,0.5358267949789967,0.4817536741017156,0.4257792915650729,0.36812455268467814,0.3090169943749475,0.24868988716485482,0.18738131458572457,0.12533323356430454,0.06279051952931358,1.2246467991473532e-16,-0.06279051952931335,-0.12533323356430429,-0.18738131458572477,-0.24868988716485502,-0.30901699437494773,-0.3681245526846783,-0.42577929156507266,-0.481753674101715,-0.5358267949789964,-0.587785252292473,-0.6374239897486896,-0.6845471059286887,-0.7289686274214113,-0.7705132427757894,-0.8090169943749473,-0.8443279255020153,-0.8763066800438636,-0.9048270524660198,-0.9297764858882515,-0.9510565162951535,-0.968583161128631,-0.9822872507286887,-0.9921147013144778,-0.9980267284282716,-1.0,-0.9980267284282716,-0.9921147013144779,-0.9822872507286887,-0.9685831611286311,-0.9510565162951536,-0.9297764858882512,-0.9048270524660196,-0.8763066800438634,-0.8443279255020155,-0.8090169943749476,-0.7705132427757896,-0.7289686274214116,-0.684547105928689,-0.6374239897486896,-0.5877852522924734,-0.5358267949789963,-0.4817536741017153,-0.4257792915650722,-0.36812455268467786,-0.3090169943749476,-0.24868988716485535,-0.18738131458572468,-0.12533323356430465,-0.06279051952931326],\"type\":\"scatter\",\"xaxis\":\"x2\",\"yaxis\":\"y2\"},{\"line\":{\"color\":\"lightsalmon\"},\"mode\":\"lines\",\"x\":[0.0,0.01,0.02,0.03,0.04,0.05,0.06,0.07,0.08,0.09,0.1,0.11,0.12,0.13,0.14,0.15,0.16,0.17,0.18,0.19,0.2,0.21,0.22,0.23,0.24,0.25,0.26,0.27,0.28,0.29,0.3,0.31,0.32,0.33,0.34,0.35000000000000003,0.36,0.37,0.38,0.39,0.4,0.41000000000000003,0.42,0.43,0.44,0.45,0.46,0.47000000000000003,0.48,0.49,0.5,0.51,0.52,0.53,0.54,0.55,0.56,0.5700000000000001,0.58,0.59,0.6,0.61,0.62,0.63,0.64,0.65,0.66,0.67,0.68,0.6900000000000001,0.7000000000000001,0.71,0.72,0.73,0.74,0.75,0.76,0.77,0.78,0.79,0.8,0.81,0.8200000000000001,0.8300000000000001,0.84,0.85,0.86,0.87,0.88,0.89,0.9,0.91,0.92,0.93,0.9400000000000001,0.9500000000000001,0.96,0.97,0.98,0.99],\"y\":[-0.021829502611698803,0.04451835760919989,0.11058158670796506,0.176064795492846,0.2406836782598513,0.3041653314822153,0.3662485515845334,0.42668411180156574,0.4852350181217089,0.5416767443151373,0.595797446046612,0.647398154072958,0.6962929465252113,0.7423091002754332,0.7852872213881934,0.8250813546567218,0.8615590722237292,0.8946015412868957,0.9241035708890285,0.9499736377928867,0.9721338914406767,0.9905201379982154,1.005081803483759,1.0157818759815067,1.0225968269397665,1.025516511553792,1.0245440482332901,1.0196956771545926,1.0110005978974996,0.9985007861667905,0.9822507895984043,0.9623175026502857,0.938779920577903,0.9117288724944339,0.881266733515617,0.8475071159892749,0.8105745398095057,0.7706040818155409,0.7277410042752724,0.6821403624534528,0.6339665912645518,0.5833930710103006,0.5306016722018831,0.4757822794668112,0.4191322945404643,0.3608561183422936,0.30116461213670265,0.24027453777858332,0.17840797704353717,0.11579173004275178,0.052656692722553355,-0.010762786551378412,-0.0742295713251182,-0.1375044223029458,-0.20034670350911865,-0.2625151093649811,-0.3237684126813951,-0.3838662335665286,-0.44256982924894217,-0.499642904816028,-0.5548524448677696,-0.6079695660858544,-0.6587703907180753,-0.7070369409781172,-0.7525580543606392,-0.7951303198716708,-0.8345590351744168,-0.870659184650302,-0.9032564383753972,-0.9321881720121805,-0.9573045076165947,-0.9784693753604898,-0.9955615961693329,-1.0084759852753038,-1.017124476685689,-1.0214372685666362,-1.0213639895422038,-1.016874885908754,-1.0079620297647232,-0.9946405480556653,-0.9769498725346057,-0.9549550106378302,-0.9287478372759335,-0.8984484075401511,-0.8642062903241481,-0.8262019228610313,-0.7846479861757452,-0.7397908014528038,-0.6919117473192973,-0.6413286980433011,-0.5883974826475882,-0.5335133649386314,-0.47711254445104245,-0.4196736783072019,-0.361719423992362,-0.30381800304495066,-0.246584785662316,-0.1906838962217332,-0.13682983971680862,-0.08578914910908608],\"type\":\"scatter\",\"xaxis\":\"x2\",\"yaxis\":\"y2\"},{\"marker\":{\"color\":\"mediumpurple\"},\"mode\":\"markers\",\"x\":[0.2598035810641598,0.6340057030996114,0.5399853797158555,0.7798453951511436,0.10698063882695841,0.761027902502028,0.5412665786761103,0.9629920038589946,0.3418721660386861,0.6326218931339481,0.9320281055100175,0.10250972799067926,0.9372284872364511,0.6878857223008134,0.0678370591051719,0.30096356694681625,0.7081720886452816,0.0673506014687717,0.5821704601762733,0.34588305695295674,0.6209155177674771,0.04574203381251285,0.8715368061523763,0.9734889691773969,0.9688778552856915,0.7496518317429247,0.13008624013063197,0.7582631959290226,0.02458691645880151,0.022123551528997254,0.32361021914954125,0.48864319040466575,0.7704074178077932,0.6832953766065052,0.44590270637674834,0.2736266662816659,0.9971245001577111,0.42618130223597295,0.4513870243296755,0.16362382119166918,0.7948095487499294,0.6936822257814886,0.2207696127887604,0.0823810456158427,0.6804993020747131,0.6545112142811352,0.2732595269982093,0.9508635622504104,0.15105789178090023,0.4323348010426019,0.9436159201675989,0.4197273169261223,0.6385259476640855,0.3975943979627943,0.27421520234867003,0.9839776479598282,0.409334006315043,0.8940992036791344,0.22995460589108618,0.2131047040250833,0.03113408288451136,0.651666825375885,0.36852634372376114,0.864358249839637,0.47320990669155716,0.9681934279147217,0.18552551570312115,0.8686231679556108,0.7765968527917417,0.770921844644052,0.8447832281168877,0.7610239909429989,0.6262203216314154,0.13124487768238757,0.032526179491251916],\"y\":[1.0070990752540836,-0.7263128935990717,-0.177700534414529,-0.9914423809206689,0.7667043197097276,-1.0652396138676845,-0.07629601618177861,-0.2344541111218614,0.6948891260031312,-0.7273358814198524,-0.482320022730804,0.6845334580430804,-0.44952137881881254,-0.9694226197016693,0.22448953547683817,0.9039375935331602,-1.2080510458627156,0.25226836204704034,-0.4176175885576839,0.9025292060943086,-0.6461832965631177,0.18676765501556203,-0.7270958690847381,-0.16616472651164077,-0.3101388255397064,-0.8496577770149396,0.8170756800006255,-1.0207489189070047,0.15655899914076854,0.15939742226699843,0.6907633753986417,0.04657866031988124,-1.0599890375692955,-1.0136104303775202,0.3052859161986884,1.168770065019763,0.046017970693937746,0.3902468019892072,0.35797525076721165,0.9962438757723284,-0.8681634818160914,-0.9320808240837241,0.9184881897192141,0.5646316354677401,-0.8668098170201834,-0.7358311227144579,1.052857151135512,-0.19889684121193607,0.7593825401329781,0.5441995577365573,-0.3271473515125187,0.6907804458023611,-0.8334954041489541,0.7735421911799826,1.0082387908901083,-0.16564324714350262,0.49096665228609604,-0.649404118463527,1.034495508106267,1.0255334165927574,0.13700593585653628,-0.8175638326131015,0.9495027208376078,-0.580017212371908,0.21116571567221906,-0.1947186250969796,0.9310641006116952,-0.6735114215191146,-1.0883483524234816,-1.0171097718823814,-0.9947037818982342,-0.9576797726901101,-0.6477880947107202,0.6859820159826843,0.3603470418839104],\"type\":\"scatter\",\"xaxis\":\"x3\",\"yaxis\":\"y3\"},{\"line\":{\"color\":\"lightgreen\"},\"mode\":\"lines\",\"x\":[0.0,0.01,0.02,0.03,0.04,0.05,0.06,0.07,0.08,0.09,0.1,0.11,0.12,0.13,0.14,0.15,0.16,0.17,0.18,0.19,0.2,0.21,0.22,0.23,0.24,0.25,0.26,0.27,0.28,0.29,0.3,0.31,0.32,0.33,0.34,0.35000000000000003,0.36,0.37,0.38,0.39,0.4,0.41000000000000003,0.42,0.43,0.44,0.45,0.46,0.47000000000000003,0.48,0.49,0.5,0.51,0.52,0.53,0.54,0.55,0.56,0.5700000000000001,0.58,0.59,0.6,0.61,0.62,0.63,0.64,0.65,0.66,0.67,0.68,0.6900000000000001,0.7000000000000001,0.71,0.72,0.73,0.74,0.75,0.76,0.77,0.78,0.79,0.8,0.81,0.8200000000000001,0.8300000000000001,0.84,0.85,0.86,0.87,0.88,0.89,0.9,0.91,0.92,0.93,0.9400000000000001,0.9500000000000001,0.96,0.97,0.98,0.99],\"y\":[0.0,0.06279051952931337,0.12533323356430426,0.1873813145857246,0.2486898871648548,0.3090169943749474,0.3681245526846779,0.4257792915650727,0.4817536741017153,0.5358267949789967,0.5877852522924731,0.6374239897486896,0.6845471059286886,0.7289686274214116,0.7705132427757893,0.8090169943749475,0.8443279255020151,0.8763066800438637,0.9048270524660196,0.9297764858882513,0.9510565162951535,0.9685831611286311,0.9822872507286886,0.9921147013144779,0.9980267284282716,1.0,0.9980267284282716,0.9921147013144778,0.9822872507286886,0.9685831611286312,0.9510565162951536,0.9297764858882513,0.9048270524660195,0.8763066800438635,0.844327925502015,0.8090169943749475,0.7705132427757893,0.7289686274214114,0.6845471059286888,0.6374239897486899,0.5877852522924732,0.5358267949789967,0.4817536741017156,0.4257792915650729,0.36812455268467814,0.3090169943749475,0.24868988716485482,0.18738131458572457,0.12533323356430454,0.06279051952931358,1.2246467991473532e-16,-0.06279051952931335,-0.12533323356430429,-0.18738131458572477,-0.24868988716485502,-0.30901699437494773,-0.3681245526846783,-0.42577929156507266,-0.481753674101715,-0.5358267949789964,-0.587785252292473,-0.6374239897486896,-0.6845471059286887,-0.7289686274214113,-0.7705132427757894,-0.8090169943749473,-0.8443279255020153,-0.8763066800438636,-0.9048270524660198,-0.9297764858882515,-0.9510565162951535,-0.968583161128631,-0.9822872507286887,-0.9921147013144778,-0.9980267284282716,-1.0,-0.9980267284282716,-0.9921147013144779,-0.9822872507286887,-0.9685831611286311,-0.9510565162951536,-0.9297764858882512,-0.9048270524660196,-0.8763066800438634,-0.8443279255020155,-0.8090169943749476,-0.7705132427757896,-0.7289686274214116,-0.684547105928689,-0.6374239897486896,-0.5877852522924734,-0.5358267949789963,-0.4817536741017153,-0.4257792915650722,-0.36812455268467786,-0.3090169943749476,-0.24868988716485535,-0.18738131458572468,-0.12533323356430465,-0.06279051952931326],\"type\":\"scatter\",\"xaxis\":\"x3\",\"yaxis\":\"y3\"},{\"line\":{\"color\":\"lightsalmon\"},\"mode\":\"lines\",\"x\":[0.0,0.01,0.02,0.03,0.04,0.05,0.06,0.07,0.08,0.09,0.1,0.11,0.12,0.13,0.14,0.15,0.16,0.17,0.18,0.19,0.2,0.21,0.22,0.23,0.24,0.25,0.26,0.27,0.28,0.29,0.3,0.31,0.32,0.33,0.34,0.35000000000000003,0.36,0.37,0.38,0.39,0.4,0.41000000000000003,0.42,0.43,0.44,0.45,0.46,0.47000000000000003,0.48,0.49,0.5,0.51,0.52,0.53,0.54,0.55,0.56,0.5700000000000001,0.58,0.59,0.6,0.61,0.62,0.63,0.64,0.65,0.66,0.67,0.68,0.6900000000000001,0.7000000000000001,0.71,0.72,0.73,0.74,0.75,0.76,0.77,0.78,0.79,0.8,0.81,0.8200000000000001,0.8300000000000001,0.84,0.85,0.86,0.87,0.88,0.89,0.9,0.91,0.92,0.93,0.9400000000000001,0.9500000000000001,0.96,0.97,0.98,0.99],\"y\":[0.33441142556699077,0.13703179923602526,0.034582843940893615,0.0005931438160636793,0.01431600777312303,0.05972134547809427,0.12463188793626667,0.1999870780833657,0.27921950789771266,0.3577302103113347,0.4324504348641529,0.5014787533225267,0.5637834625620854,0.6189612835969953,0.6670443039651666,0.7083479815597613,0.7433538268329514,0.7726211121084035,0.7967226261870906,0.816200103847919,0.8315355172475449,0.8431349233479324,0.8513220218063111,0.8563389944692972,0.8583525737131481,0.8574636251406105,0.8537188331795846,0.8471233483357992,0.837653494496692,0.8252688458690614,0.8099231678561409,0.7915738762885667,0.7701898067077764,0.7457572014958487,0.7182839191887069,0.6878019487639904,0.654368373574016,0.6180649762363828,0.5789967086234356,0.5372892713476176,0.4930860561667032,0.4465447037073318,0.3978335191318365,0.3471279709242481,0.294607474203076,0.2404526307800552,0.1848430649506554,0.12795595771331136,0.06996534377685748,0.011042196614653221,-0.04864471227847389,-0.10892723164943163,-0.1696356138054398,-0.23059578347601928,-0.2916262414164521,-0.35253477652804577,-0.4131151789260912,-0.47314415925575304,-0.5323786855915387,-0.5905539484447218,-0.6473821555337054,-0.7025523419579258,-0.7557313569850521,-0.8065661567306961,-0.8546874922612915,-0.8997150354189216,-0.941263931672438,-0.9789527082321001,-1.0124124032154214,-1.041296711540781,-1.0652928743802477,-1.084132968375343,-1.0976051820471184,-1.1055646042805165,-1.1079429914680077,-1.1047569363727234,-1.096113828883972,-1.082214986672625,-1.06335534498794,-1.0399191307660658,-1.0123710228363052,-0.9812424094707239,-0.9471125142881647,-0.9105843786965124,-0.8722559598390944,-0.8326869565644301,-0.7923623987589963,-0.7516545571852475,-0.7107853543711826,-0.669792182801757,-0.6285009105922654,-0.5865108462749049,-0.5431975945830345,-0.4977410635910928,-0.44918739213608205,-0.3965552938170731,-0.33899924578145146,-0.2760441416176036,-0.20790848031174392,-0.13593589863739908],\"type\":\"scatter\",\"xaxis\":\"x3\",\"yaxis\":\"y3\"}],                        {\"template\":{\"data\":{\"histogram2dcontour\":[{\"type\":\"histogram2dcontour\",\"colorbar\":{\"outlinewidth\":0,\"ticks\":\"\"},\"colorscale\":[[0.0,\"#0d0887\"],[0.1111111111111111,\"#46039f\"],[0.2222222222222222,\"#7201a8\"],[0.3333333333333333,\"#9c179e\"],[0.4444444444444444,\"#bd3786\"],[0.5555555555555556,\"#d8576b\"],[0.6666666666666666,\"#ed7953\"],[0.7777777777777778,\"#fb9f3a\"],[0.8888888888888888,\"#fdca26\"],[1.0,\"#f0f921\"]]}],\"choropleth\":[{\"type\":\"choropleth\",\"colorbar\":{\"outlinewidth\":0,\"ticks\":\"\"}}],\"histogram2d\":[{\"type\":\"histogram2d\",\"colorbar\":{\"outlinewidth\":0,\"ticks\":\"\"},\"colorscale\":[[0.0,\"#0d0887\"],[0.1111111111111111,\"#46039f\"],[0.2222222222222222,\"#7201a8\"],[0.3333333333333333,\"#9c179e\"],[0.4444444444444444,\"#bd3786\"],[0.5555555555555556,\"#d8576b\"],[0.6666666666666666,\"#ed7953\"],[0.7777777777777778,\"#fb9f3a\"],[0.8888888888888888,\"#fdca26\"],[1.0,\"#f0f921\"]]}],\"heatmap\":[{\"type\":\"heatmap\",\"colorbar\":{\"outlinewidth\":0,\"ticks\":\"\"},\"colorscale\":[[0.0,\"#0d0887\"],[0.1111111111111111,\"#46039f\"],[0.2222222222222222,\"#7201a8\"],[0.3333333333333333,\"#9c179e\"],[0.4444444444444444,\"#bd3786\"],[0.5555555555555556,\"#d8576b\"],[0.6666666666666666,\"#ed7953\"],[0.7777777777777778,\"#fb9f3a\"],[0.8888888888888888,\"#fdca26\"],[1.0,\"#f0f921\"]]}],\"heatmapgl\":[{\"type\":\"heatmapgl\",\"colorbar\":{\"outlinewidth\":0,\"ticks\":\"\"},\"colorscale\":[[0.0,\"#0d0887\"],[0.1111111111111111,\"#46039f\"],[0.2222222222222222,\"#7201a8\"],[0.3333333333333333,\"#9c179e\"],[0.4444444444444444,\"#bd3786\"],[0.5555555555555556,\"#d8576b\"],[0.6666666666666666,\"#ed7953\"],[0.7777777777777778,\"#fb9f3a\"],[0.8888888888888888,\"#fdca26\"],[1.0,\"#f0f921\"]]}],\"contourcarpet\":[{\"type\":\"contourcarpet\",\"colorbar\":{\"outlinewidth\":0,\"ticks\":\"\"}}],\"contour\":[{\"type\":\"contour\",\"colorbar\":{\"outlinewidth\":0,\"ticks\":\"\"},\"colorscale\":[[0.0,\"#0d0887\"],[0.1111111111111111,\"#46039f\"],[0.2222222222222222,\"#7201a8\"],[0.3333333333333333,\"#9c179e\"],[0.4444444444444444,\"#bd3786\"],[0.5555555555555556,\"#d8576b\"],[0.6666666666666666,\"#ed7953\"],[0.7777777777777778,\"#fb9f3a\"],[0.8888888888888888,\"#fdca26\"],[1.0,\"#f0f921\"]]}],\"surface\":[{\"type\":\"surface\",\"colorbar\":{\"outlinewidth\":0,\"ticks\":\"\"},\"colorscale\":[[0.0,\"#0d0887\"],[0.1111111111111111,\"#46039f\"],[0.2222222222222222,\"#7201a8\"],[0.3333333333333333,\"#9c179e\"],[0.4444444444444444,\"#bd3786\"],[0.5555555555555556,\"#d8576b\"],[0.6666666666666666,\"#ed7953\"],[0.7777777777777778,\"#fb9f3a\"],[0.8888888888888888,\"#fdca26\"],[1.0,\"#f0f921\"]]}],\"mesh3d\":[{\"type\":\"mesh3d\",\"colorbar\":{\"outlinewidth\":0,\"ticks\":\"\"}}],\"scatter\":[{\"fillpattern\":{\"fillmode\":\"overlay\",\"size\":10,\"solidity\":0.2},\"type\":\"scatter\"}],\"parcoords\":[{\"type\":\"parcoords\",\"line\":{\"colorbar\":{\"outlinewidth\":0,\"ticks\":\"\"}}}],\"scatterpolargl\":[{\"type\":\"scatterpolargl\",\"marker\":{\"colorbar\":{\"outlinewidth\":0,\"ticks\":\"\"}}}],\"bar\":[{\"error_x\":{\"color\":\"#2a3f5f\"},\"error_y\":{\"color\":\"#2a3f5f\"},\"marker\":{\"line\":{\"color\":\"#E5ECF6\",\"width\":0.5},\"pattern\":{\"fillmode\":\"overlay\",\"size\":10,\"solidity\":0.2}},\"type\":\"bar\"}],\"scattergeo\":[{\"type\":\"scattergeo\",\"marker\":{\"colorbar\":{\"outlinewidth\":0,\"ticks\":\"\"}}}],\"scatterpolar\":[{\"type\":\"scatterpolar\",\"marker\":{\"colorbar\":{\"outlinewidth\":0,\"ticks\":\"\"}}}],\"histogram\":[{\"marker\":{\"pattern\":{\"fillmode\":\"overlay\",\"size\":10,\"solidity\":0.2}},\"type\":\"histogram\"}],\"scattergl\":[{\"type\":\"scattergl\",\"marker\":{\"colorbar\":{\"outlinewidth\":0,\"ticks\":\"\"}}}],\"scatter3d\":[{\"type\":\"scatter3d\",\"line\":{\"colorbar\":{\"outlinewidth\":0,\"ticks\":\"\"}},\"marker\":{\"colorbar\":{\"outlinewidth\":0,\"ticks\":\"\"}}}],\"scattermapbox\":[{\"type\":\"scattermapbox\",\"marker\":{\"colorbar\":{\"outlinewidth\":0,\"ticks\":\"\"}}}],\"scatterternary\":[{\"type\":\"scatterternary\",\"marker\":{\"colorbar\":{\"outlinewidth\":0,\"ticks\":\"\"}}}],\"scattercarpet\":[{\"type\":\"scattercarpet\",\"marker\":{\"colorbar\":{\"outlinewidth\":0,\"ticks\":\"\"}}}],\"carpet\":[{\"aaxis\":{\"endlinecolor\":\"#2a3f5f\",\"gridcolor\":\"white\",\"linecolor\":\"white\",\"minorgridcolor\":\"white\",\"startlinecolor\":\"#2a3f5f\"},\"baxis\":{\"endlinecolor\":\"#2a3f5f\",\"gridcolor\":\"white\",\"linecolor\":\"white\",\"minorgridcolor\":\"white\",\"startlinecolor\":\"#2a3f5f\"},\"type\":\"carpet\"}],\"table\":[{\"cells\":{\"fill\":{\"color\":\"#EBF0F8\"},\"line\":{\"color\":\"white\"}},\"header\":{\"fill\":{\"color\":\"#C8D4E3\"},\"line\":{\"color\":\"white\"}},\"type\":\"table\"}],\"barpolar\":[{\"marker\":{\"line\":{\"color\":\"#E5ECF6\",\"width\":0.5},\"pattern\":{\"fillmode\":\"overlay\",\"size\":10,\"solidity\":0.2}},\"type\":\"barpolar\"}],\"pie\":[{\"automargin\":true,\"type\":\"pie\"}]},\"layout\":{\"autotypenumbers\":\"strict\",\"colorway\":[\"#636efa\",\"#EF553B\",\"#00cc96\",\"#ab63fa\",\"#FFA15A\",\"#19d3f3\",\"#FF6692\",\"#B6E880\",\"#FF97FF\",\"#FECB52\"],\"font\":{\"color\":\"#2a3f5f\"},\"hovermode\":\"closest\",\"hoverlabel\":{\"align\":\"left\"},\"paper_bgcolor\":\"white\",\"plot_bgcolor\":\"#E5ECF6\",\"polar\":{\"bgcolor\":\"#E5ECF6\",\"angularaxis\":{\"gridcolor\":\"white\",\"linecolor\":\"white\",\"ticks\":\"\"},\"radialaxis\":{\"gridcolor\":\"white\",\"linecolor\":\"white\",\"ticks\":\"\"}},\"ternary\":{\"bgcolor\":\"#E5ECF6\",\"aaxis\":{\"gridcolor\":\"white\",\"linecolor\":\"white\",\"ticks\":\"\"},\"baxis\":{\"gridcolor\":\"white\",\"linecolor\":\"white\",\"ticks\":\"\"},\"caxis\":{\"gridcolor\":\"white\",\"linecolor\":\"white\",\"ticks\":\"\"}},\"coloraxis\":{\"colorbar\":{\"outlinewidth\":0,\"ticks\":\"\"}},\"colorscale\":{\"sequential\":[[0.0,\"#0d0887\"],[0.1111111111111111,\"#46039f\"],[0.2222222222222222,\"#7201a8\"],[0.3333333333333333,\"#9c179e\"],[0.4444444444444444,\"#bd3786\"],[0.5555555555555556,\"#d8576b\"],[0.6666666666666666,\"#ed7953\"],[0.7777777777777778,\"#fb9f3a\"],[0.8888888888888888,\"#fdca26\"],[1.0,\"#f0f921\"]],\"sequentialminus\":[[0.0,\"#0d0887\"],[0.1111111111111111,\"#46039f\"],[0.2222222222222222,\"#7201a8\"],[0.3333333333333333,\"#9c179e\"],[0.4444444444444444,\"#bd3786\"],[0.5555555555555556,\"#d8576b\"],[0.6666666666666666,\"#ed7953\"],[0.7777777777777778,\"#fb9f3a\"],[0.8888888888888888,\"#fdca26\"],[1.0,\"#f0f921\"]],\"diverging\":[[0,\"#8e0152\"],[0.1,\"#c51b7d\"],[0.2,\"#de77ae\"],[0.3,\"#f1b6da\"],[0.4,\"#fde0ef\"],[0.5,\"#f7f7f7\"],[0.6,\"#e6f5d0\"],[0.7,\"#b8e186\"],[0.8,\"#7fbc41\"],[0.9,\"#4d9221\"],[1,\"#276419\"]]},\"xaxis\":{\"gridcolor\":\"white\",\"linecolor\":\"white\",\"ticks\":\"\",\"title\":{\"standoff\":15},\"zerolinecolor\":\"white\",\"automargin\":true,\"zerolinewidth\":2},\"yaxis\":{\"gridcolor\":\"white\",\"linecolor\":\"white\",\"ticks\":\"\",\"title\":{\"standoff\":15},\"zerolinecolor\":\"white\",\"automargin\":true,\"zerolinewidth\":2},\"scene\":{\"xaxis\":{\"backgroundcolor\":\"#E5ECF6\",\"gridcolor\":\"white\",\"linecolor\":\"white\",\"showbackground\":true,\"ticks\":\"\",\"zerolinecolor\":\"white\",\"gridwidth\":2},\"yaxis\":{\"backgroundcolor\":\"#E5ECF6\",\"gridcolor\":\"white\",\"linecolor\":\"white\",\"showbackground\":true,\"ticks\":\"\",\"zerolinecolor\":\"white\",\"gridwidth\":2},\"zaxis\":{\"backgroundcolor\":\"#E5ECF6\",\"gridcolor\":\"white\",\"linecolor\":\"white\",\"showbackground\":true,\"ticks\":\"\",\"zerolinecolor\":\"white\",\"gridwidth\":2}},\"shapedefaults\":{\"line\":{\"color\":\"#2a3f5f\"}},\"annotationdefaults\":{\"arrowcolor\":\"#2a3f5f\",\"arrowhead\":0,\"arrowwidth\":1},\"geo\":{\"bgcolor\":\"white\",\"landcolor\":\"#E5ECF6\",\"subunitcolor\":\"white\",\"showland\":true,\"showlakes\":true,\"lakecolor\":\"white\"},\"title\":{\"x\":0.05},\"mapbox\":{\"style\":\"light\"}}},\"xaxis\":{\"anchor\":\"y\",\"domain\":[0.0,0.2888888888888889],\"title\":{\"text\":\"x\\u003cbr\\u003e\\u003cbr\\u003e\\u003cbr\\u003ea: 0.51\\u003cbr\\u003eb: -2.27\\u003cbr\\u003ec: 0.96\"},\"range\":[0,1]},\"yaxis\":{\"anchor\":\"x\",\"domain\":[0.0,1.0],\"title\":{\"text\":\"t\"},\"range\":[-5,5]},\"xaxis2\":{\"anchor\":\"y2\",\"domain\":[0.35555555555555557,0.6444444444444445],\"title\":{\"text\":\"x\\u003cbr\\u003e\\u003cbr\\u003e\\u003cbr\\u003ea: -29.05\\u003cbr\\u003eb: 30.91\\u003cbr\\u003ec: 43.28\\u003cbr\\u003ed: -51.9\\u003cbr\\u003ee: 0.1\\u003cbr\\u003ef: 6.64\\u003cbr\\u003eg: -0.02\"},\"range\":[0,1]},\"yaxis2\":{\"anchor\":\"x2\",\"domain\":[0.0,1.0],\"title\":{\"text\":\"t\"},\"range\":[-5,5]},\"xaxis3\":{\"anchor\":\"y3\",\"domain\":[0.7111111111111111,1.0],\"title\":{\"text\":\"x\\u003cbr\\u003e\\u003cbr\\u003e\\u003cbr\\u003ea: -13964.84\\u003cbr\\u003eb: 73145.56\\u003cbr\\u003ec: -181995.34\\u003cbr\\u003ed: 315671.81\\u003cbr\\u003ee: -451514.52\\u003cbr\\u003ef: 525619.62\\u003cbr\\u003eg: -458902.99\\u003cbr\\u003eh: 283992.59\\u003cbr\\u003ei: -120706.4\\u003cbr\\u003ej: 34229.72\\u003cbr\\u003ek: -6188.15\\u003cbr\\u003el: 638.06\\u003cbr\\u003em: -25.53\\u003cbr\\u003en: 0.33\"},\"range\":[0,1]},\"yaxis3\":{\"anchor\":\"x3\",\"domain\":[0.0,1.0],\"title\":{\"text\":\"t\"},\"range\":[-5,5]},\"annotations\":[{\"font\":{\"size\":16},\"showarrow\":false,\"text\":\"poly2 fit\",\"x\":0.14444444444444446,\"xanchor\":\"center\",\"xref\":\"paper\",\"y\":1.0,\"yanchor\":\"bottom\",\"yref\":\"paper\"},{\"font\":{\"size\":16},\"showarrow\":false,\"text\":\"poly6 fit\",\"x\":0.5,\"xanchor\":\"center\",\"xref\":\"paper\",\"y\":1.0,\"yanchor\":\"bottom\",\"yref\":\"paper\"},{\"font\":{\"size\":16},\"showarrow\":false,\"text\":\"poly13 fit\",\"x\":0.8555555555555556,\"xanchor\":\"center\",\"xref\":\"paper\",\"y\":1.0,\"yanchor\":\"bottom\",\"yref\":\"paper\"}],\"showlegend\":false,\"title\":{\"text\":\"Polynomial fits and their coefficients\"},\"height\":700,\"width\":1300},                        {\"responsive\": true}                    ).then(function(){\n",
              "                            \n",
              "var gd = document.getElementById('93bcd91d-be6c-42e7-8026-839e69f5b40e');\n",
              "var x = new MutationObserver(function (mutations, observer) {{\n",
              "        var display = window.getComputedStyle(gd).display;\n",
              "        if (!display || display === 'none') {{\n",
              "            console.log([gd, 'removed!']);\n",
              "            Plotly.purge(gd);\n",
              "            observer.disconnect();\n",
              "        }}\n",
              "}});\n",
              "\n",
              "// Listen for the removal of the full notebook cells\n",
              "var notebookContainer = gd.closest('#notebook-container');\n",
              "if (notebookContainer) {{\n",
              "    x.observe(notebookContainer, {childList: true});\n",
              "}}\n",
              "\n",
              "// Listen for the clearing of the current output cell\n",
              "var outputEl = gd.closest('.output');\n",
              "if (outputEl) {{\n",
              "    x.observe(outputEl, {childList: true});\n",
              "}}\n",
              "\n",
              "                        })                };                            </script>        </div>\n",
              "</body>\n",
              "</html>"
            ]
          },
          "metadata": {}
        }
      ]
    },
    {
      "cell_type": "markdown",
      "metadata": {
        "id": "AdW9hYYgPAey"
      },
      "source": [
        "Unfortunately, we do not always have access to more data. Usually our goal is precisely to learn a general rule from a *few* samples, take for instance the [ARC challenge](https://www.kaggle.com/c/abstraction-and-reasoning-challenge/overview).\n",
        "\n",
        "Indeed intelligence seems more related to the (small) ratio between the amount of available data and the prediction performance, rather than just to the prediction performance.\n",
        "\n",
        "Have you noticed the huge values of $\\theta$ in the case of overfitting? Aren't the coefficients of the high-order terms in the Taylor expansion of $\\sin (x)$ supposed to be smaller and smaller?\n",
        "What if we try to discourage this overfitting behavior by adding to the loss a penalization term proportional to the norm of $\\theta$?\n",
        "\n",
        "You have already seen (or will soon see) this very common regularization technique in the theoretical lectures:\n",
        "$$E'(\\theta) = \\lambda \\|\\theta\\|^2 + \\frac{1}{N} \\sum_{i=1}^N(f_\\theta(x_i) - t_i)^2$$\n",
        "\n",
        "> 📖 **EXERCISE**: Obtain the vectorized closed-form solution for $\\theta$ that minimizes $E'$. (The one for $E$ was $\\theta = (\\mathbf{X}^\\top \\mathbf{X})^{-1}\\mathbf{X}^\\top\\mathbf{y}$)\n",
        ">\n",
        "> **Hint**: This is the first step:\n",
        "> $$ E'(\\theta) = (\\mathbf{y} - \\mathbf{X}\\theta)^\\top(\\mathbf{y} - \\mathbf{X}\\theta) + \\lambda\\theta^\\top\\theta$$\n",
        ">\n",
        "> Solve the exercise using pen and paper, the good old way.\n",
        "\n",
        "When you're done, let's play with the $\\lambda$ parameter."
      ]
    },
    {
      "cell_type": "code",
      "metadata": {
        "id": "7TO701p_BoFJ",
        "colab": {
          "base_uri": "https://localhost:8080/",
          "height": 737
        },
        "outputId": "4d64a936-4459-4f4b-e5c3-646fbabd5e9a",
        "cellView": "form"
      },
      "source": [
        "# @title Regularized polynomial fits: weight decay { run: \"auto\" }\n",
        "\n",
        "deg_1 = 2  #@param {type:\"slider\", min:0, max:15, step:1}\n",
        "deg_2 = 6  #@param {type:\"slider\", min:0, max:15, step:1}\n",
        "deg_3 = 15  #@param {type:\"slider\", min:0, max:15, step:1}\n",
        "lam =   0.0001#@param {type:\"number\"}\n",
        "\n",
        "degree = {}\n",
        "degree[0], degree[1], degree[2] = deg_1, deg_2, deg_3\n",
        "\n",
        "max_degree = max(degree.values())\n",
        "y = torch.from_numpy(t)\n",
        "X_full = torch.ones((y.shape[0], max_degree + 1), dtype=torch.float64)  # double precision is needed for this calculation!\n",
        "for i in range(max_degree):\n",
        "    X_full[:,i] =  torch.from_numpy(x) ** (max_degree - i)\n",
        "\n",
        "theta_collection = {}\n",
        "\n",
        "for i in range(3):\n",
        "    X = X_full[:,-(degree[i] + 1):]\n",
        "    temp_inverse = torch.inverse(torch.einsum('ij,jk->ik', X.t(), X) + lam * torch.eye(degree[i] + 1))\n",
        "    theta_collection[i] = torch.einsum('ij,jk,k->i', temp_inverse, X.t(), y)\n",
        "\n",
        "fig = make_subplots(\n",
        "    rows=1, cols=3,\n",
        "    subplot_titles=(f\"poly{degree[0]} fit\", f\"poly{degree[1]} fit\", f\"poly{degree[2]} fit\"))\n",
        "\n",
        "x_funcs = np.arange(0,1,1./100)\n",
        "y_funcs = {}\n",
        "for i in range(3):\n",
        "    theta_funcs = theta_collection[i].numpy()\n",
        "    X_funcs = np.ones((x_funcs.shape[0], degree[i] + 1), dtype=np.float64)\n",
        "    for j in range(degree[i]):\n",
        "        X_funcs[:,j] =  x_funcs ** (degree[i] - j)\n",
        "    y_funcs[i] = np.einsum('ij,j->i', X_funcs, theta_funcs)\n",
        "    coefficients_string = '<br><br><br>' + '<br>'.join([c + f': {np.round(theta_funcs[i], decimals=2)}' for i, c in enumerate('abcdefghijklmnopqrstuvwxyz'[:len(theta_funcs)])])\n",
        "\n",
        "    fig.add_trace(go.Scatter(x=x, y=t, mode='markers', marker=dict(color=\"mediumpurple\")), row=1, col=i + 1)\n",
        "    fig.add_trace(go.Scatter(x=x_funcs, y=np.sin(2*np.pi*x_funcs), mode='lines', line=dict(color=\"lightgreen\")), row=1, col=i + 1)\n",
        "    fig.add_trace(go.Scatter(x=x_funcs, y=y_funcs[i], mode='lines', line=dict(color=\"lightsalmon\")), row=1, col=i + 1)\n",
        "    fig.update_xaxes(title_text=\"x\" + coefficients_string, range = [0,1], row=1, col=i+1)\n",
        "\n",
        "fig.update_layout(showlegend=False)\n",
        "fig.update_yaxes(title_text=\"t\", range = [-5,5])\n",
        "fig.update_layout(height=700, width=1300, title_text=\"Polynomial fits and their coefficients\")\n",
        "fig.show()"
      ],
      "execution_count": null,
      "outputs": [
        {
          "output_type": "display_data",
          "data": {
            "text/html": [
              "<html>\n",
              "<head><meta charset=\"utf-8\" /></head>\n",
              "<body>\n",
              "    <div>            <script src=\"https://cdnjs.cloudflare.com/ajax/libs/mathjax/2.7.5/MathJax.js?config=TeX-AMS-MML_SVG\"></script><script type=\"text/javascript\">if (window.MathJax && window.MathJax.Hub && window.MathJax.Hub.Config) {window.MathJax.Hub.Config({SVG: {font: \"STIX-Web\"}});}</script>                <script type=\"text/javascript\">window.PlotlyConfig = {MathJaxConfig: 'local'};</script>\n",
              "        <script charset=\"utf-8\" src=\"https://cdn.plot.ly/plotly-2.24.1.min.js\"></script>                <div id=\"5c7fa1dc-70bc-466d-8360-2cc3561017c6\" class=\"plotly-graph-div\" style=\"height:700px; width:1300px;\"></div>            <script type=\"text/javascript\">                                    window.PLOTLYENV=window.PLOTLYENV || {};                                    if (document.getElementById(\"5c7fa1dc-70bc-466d-8360-2cc3561017c6\")) {                    Plotly.newPlot(                        \"5c7fa1dc-70bc-466d-8360-2cc3561017c6\",                        [{\"marker\":{\"color\":\"mediumpurple\"},\"mode\":\"markers\",\"x\":[0.3745401188473625,0.9507143064099162,0.7319939418114051,0.5986584841970366,0.15601864044243652,0.15599452033620265,0.05808361216819946,0.8661761457749352,0.6011150117432088,0.7080725777960455],\"y\":[0.6621995859491285,-0.2504894367193866,-1.0399487832345553,-0.6275182299806012,0.854857342681687,0.6392487011533475,0.18441089666331875,-0.8014323286500792,-0.6947217251134631,-0.9340757540684701],\"type\":\"scatter\",\"xaxis\":\"x\",\"yaxis\":\"y\"},{\"line\":{\"color\":\"lightgreen\"},\"mode\":\"lines\",\"x\":[0.0,0.01,0.02,0.03,0.04,0.05,0.06,0.07,0.08,0.09,0.1,0.11,0.12,0.13,0.14,0.15,0.16,0.17,0.18,0.19,0.2,0.21,0.22,0.23,0.24,0.25,0.26,0.27,0.28,0.29,0.3,0.31,0.32,0.33,0.34,0.35000000000000003,0.36,0.37,0.38,0.39,0.4,0.41000000000000003,0.42,0.43,0.44,0.45,0.46,0.47000000000000003,0.48,0.49,0.5,0.51,0.52,0.53,0.54,0.55,0.56,0.5700000000000001,0.58,0.59,0.6,0.61,0.62,0.63,0.64,0.65,0.66,0.67,0.68,0.6900000000000001,0.7000000000000001,0.71,0.72,0.73,0.74,0.75,0.76,0.77,0.78,0.79,0.8,0.81,0.8200000000000001,0.8300000000000001,0.84,0.85,0.86,0.87,0.88,0.89,0.9,0.91,0.92,0.93,0.9400000000000001,0.9500000000000001,0.96,0.97,0.98,0.99],\"y\":[0.0,0.06279051952931337,0.12533323356430426,0.1873813145857246,0.2486898871648548,0.3090169943749474,0.3681245526846779,0.4257792915650727,0.4817536741017153,0.5358267949789967,0.5877852522924731,0.6374239897486896,0.6845471059286886,0.7289686274214116,0.7705132427757893,0.8090169943749475,0.8443279255020151,0.8763066800438637,0.9048270524660196,0.9297764858882513,0.9510565162951535,0.9685831611286311,0.9822872507286886,0.9921147013144779,0.9980267284282716,1.0,0.9980267284282716,0.9921147013144778,0.9822872507286886,0.9685831611286312,0.9510565162951536,0.9297764858882513,0.9048270524660195,0.8763066800438635,0.844327925502015,0.8090169943749475,0.7705132427757893,0.7289686274214114,0.6845471059286888,0.6374239897486899,0.5877852522924732,0.5358267949789967,0.4817536741017156,0.4257792915650729,0.36812455268467814,0.3090169943749475,0.24868988716485482,0.18738131458572457,0.12533323356430454,0.06279051952931358,1.2246467991473532e-16,-0.06279051952931335,-0.12533323356430429,-0.18738131458572477,-0.24868988716485502,-0.30901699437494773,-0.3681245526846783,-0.42577929156507266,-0.481753674101715,-0.5358267949789964,-0.587785252292473,-0.6374239897486896,-0.6845471059286887,-0.7289686274214113,-0.7705132427757894,-0.8090169943749473,-0.8443279255020153,-0.8763066800438636,-0.9048270524660198,-0.9297764858882515,-0.9510565162951535,-0.968583161128631,-0.9822872507286887,-0.9921147013144778,-0.9980267284282716,-1.0,-0.9980267284282716,-0.9921147013144779,-0.9822872507286887,-0.9685831611286311,-0.9510565162951536,-0.9297764858882512,-0.9048270524660196,-0.8763066800438634,-0.8443279255020155,-0.8090169943749476,-0.7705132427757896,-0.7289686274214116,-0.684547105928689,-0.6374239897486896,-0.5877852522924734,-0.5358267949789963,-0.4817536741017153,-0.4257792915650722,-0.36812455268467786,-0.3090169943749476,-0.24868988716485535,-0.18738131458572468,-0.12533323356430465,-0.06279051952931326],\"type\":\"scatter\",\"xaxis\":\"x\",\"yaxis\":\"y\"},{\"line\":{\"color\":\"lightsalmon\"},\"mode\":\"lines\",\"x\":[0.0,0.01,0.02,0.03,0.04,0.05,0.06,0.07,0.08,0.09,0.1,0.11,0.12,0.13,0.14,0.15,0.16,0.17,0.18,0.19,0.2,0.21,0.22,0.23,0.24,0.25,0.26,0.27,0.28,0.29,0.3,0.31,0.32,0.33,0.34,0.35000000000000003,0.36,0.37,0.38,0.39,0.4,0.41000000000000003,0.42,0.43,0.44,0.45,0.46,0.47000000000000003,0.48,0.49,0.5,0.51,0.52,0.53,0.54,0.55,0.56,0.5700000000000001,0.58,0.59,0.6,0.61,0.62,0.63,0.64,0.65,0.66,0.67,0.68,0.6900000000000001,0.7000000000000001,0.71,0.72,0.73,0.74,0.75,0.76,0.77,0.78,0.79,0.8,0.81,0.8200000000000001,0.8300000000000001,0.84,0.85,0.86,0.87,0.88,0.89,0.9,0.91,0.92,0.93,0.9400000000000001,0.9500000000000001,0.96,0.97,0.98,0.99],\"y\":[1.012948943825365,0.9765245315225863,0.9404835574921772,0.9048260217341372,0.8695519242484667,0.8346612650351657,0.8001540440942341,0.7660302614256718,0.7322899170294788,0.6989330109056552,0.6659595430542009,0.633369513475116,0.6011629221684005,0.5693397691340545,0.5379000543720777,0.5068437778824705,0.4761709396652326,0.44588153972036393,0.41597557804786467,0.38645305464773494,0.3573139695199744,0.3285583226645834,0.3001861140815617,0.2721973437709093,0.24459201173262646,0.2173701179667129,0.19053166247316866,0.16407664525199384,0.13800506630318843,0.11231692562675244,0.08701222322268576,0.062090959090988385,0.03755313323166054,0.013398745644701782,-0.010372203669887226,-0.03375971471210715,-0.05676378748195754,-0.07938442197943862,-0.10162161820455018,-0.12347537615729243,-0.14494569583766537,-0.166032577245669,-0.1867360203813031,-0.2070560252445679,-0.22699259183546316,-0.24654572015398935,-0.265715410200146,-0.28450166197393334,-0.30290447547535115,-0.3209238507043999,-0.33855978766107886,-0.35581228634538853,-0.3726813467573291,-0.38916696889690017,-0.4052691527641017,-0.42098789835893413,-0.43632320568139704,-0.4512750747314904,-0.4658435055092143,-0.48002849801456904,-0.4938300522475547,-0.5072481682081706,-0.5202828458964173,-0.5329340853122946,-0.5452018864558024,-0.5570862493269408,-0.5685871739257102,-0.5797046602521099,-0.5904387083061402,-0.6007893180878012,-0.6107564895970929,-0.6203402228340149,-0.629540517798568,-0.6383573744907518,-0.6467907929105658,-0.6548407730580106,-0.6625073149330856,-0.6697904185357917,-0.6766900838661281,-0.683206310924096,-0.6893390997096938,-0.6950884502229218,-0.7004543624637809,-0.7054368364322707,-0.7100358721283913,-0.7142514695521425,-0.7180836287035239,-0.7215323495825356,-0.7245976321891789,-0.727279476523452,-0.7295778825853563,-0.7314928503748912,-0.7330243798920568,-0.7341724711368522,-0.7349371241092788,-0.7353183388093365,-0.735316115237024,-0.7349304533923426,-0.734161353275292,-0.7330088148858716],\"type\":\"scatter\",\"xaxis\":\"x\",\"yaxis\":\"y\"},{\"marker\":{\"color\":\"mediumpurple\"},\"mode\":\"markers\",\"x\":[0.3745401188473625,0.9507143064099162,0.7319939418114051,0.5986584841970366,0.15601864044243652,0.15599452033620265,0.05808361216819946,0.8661761457749352,0.6011150117432088,0.7080725777960455],\"y\":[0.6621995859491285,-0.2504894367193866,-1.0399487832345553,-0.6275182299806012,0.854857342681687,0.6392487011533475,0.18441089666331875,-0.8014323286500792,-0.6947217251134631,-0.9340757540684701],\"type\":\"scatter\",\"xaxis\":\"x2\",\"yaxis\":\"y2\"},{\"line\":{\"color\":\"lightgreen\"},\"mode\":\"lines\",\"x\":[0.0,0.01,0.02,0.03,0.04,0.05,0.06,0.07,0.08,0.09,0.1,0.11,0.12,0.13,0.14,0.15,0.16,0.17,0.18,0.19,0.2,0.21,0.22,0.23,0.24,0.25,0.26,0.27,0.28,0.29,0.3,0.31,0.32,0.33,0.34,0.35000000000000003,0.36,0.37,0.38,0.39,0.4,0.41000000000000003,0.42,0.43,0.44,0.45,0.46,0.47000000000000003,0.48,0.49,0.5,0.51,0.52,0.53,0.54,0.55,0.56,0.5700000000000001,0.58,0.59,0.6,0.61,0.62,0.63,0.64,0.65,0.66,0.67,0.68,0.6900000000000001,0.7000000000000001,0.71,0.72,0.73,0.74,0.75,0.76,0.77,0.78,0.79,0.8,0.81,0.8200000000000001,0.8300000000000001,0.84,0.85,0.86,0.87,0.88,0.89,0.9,0.91,0.92,0.93,0.9400000000000001,0.9500000000000001,0.96,0.97,0.98,0.99],\"y\":[0.0,0.06279051952931337,0.12533323356430426,0.1873813145857246,0.2486898871648548,0.3090169943749474,0.3681245526846779,0.4257792915650727,0.4817536741017153,0.5358267949789967,0.5877852522924731,0.6374239897486896,0.6845471059286886,0.7289686274214116,0.7705132427757893,0.8090169943749475,0.8443279255020151,0.8763066800438637,0.9048270524660196,0.9297764858882513,0.9510565162951535,0.9685831611286311,0.9822872507286886,0.9921147013144779,0.9980267284282716,1.0,0.9980267284282716,0.9921147013144778,0.9822872507286886,0.9685831611286312,0.9510565162951536,0.9297764858882513,0.9048270524660195,0.8763066800438635,0.844327925502015,0.8090169943749475,0.7705132427757893,0.7289686274214114,0.6845471059286888,0.6374239897486899,0.5877852522924732,0.5358267949789967,0.4817536741017156,0.4257792915650729,0.36812455268467814,0.3090169943749475,0.24868988716485482,0.18738131458572457,0.12533323356430454,0.06279051952931358,1.2246467991473532e-16,-0.06279051952931335,-0.12533323356430429,-0.18738131458572477,-0.24868988716485502,-0.30901699437494773,-0.3681245526846783,-0.42577929156507266,-0.481753674101715,-0.5358267949789964,-0.587785252292473,-0.6374239897486896,-0.6845471059286887,-0.7289686274214113,-0.7705132427757894,-0.8090169943749473,-0.8443279255020153,-0.8763066800438636,-0.9048270524660198,-0.9297764858882515,-0.9510565162951535,-0.968583161128631,-0.9822872507286887,-0.9921147013144778,-0.9980267284282716,-1.0,-0.9980267284282716,-0.9921147013144779,-0.9822872507286887,-0.9685831611286311,-0.9510565162951536,-0.9297764858882512,-0.9048270524660196,-0.8763066800438634,-0.8443279255020155,-0.8090169943749476,-0.7705132427757896,-0.7289686274214116,-0.684547105928689,-0.6374239897486896,-0.5877852522924734,-0.5358267949789963,-0.4817536741017153,-0.4257792915650722,-0.36812455268467786,-0.3090169943749476,-0.24868988716485535,-0.18738131458572468,-0.12533323356430465,-0.06279051952931326],\"type\":\"scatter\",\"xaxis\":\"x2\",\"yaxis\":\"y2\"},{\"line\":{\"color\":\"lightsalmon\"},\"mode\":\"lines\",\"x\":[0.0,0.01,0.02,0.03,0.04,0.05,0.06,0.07,0.08,0.09,0.1,0.11,0.12,0.13,0.14,0.15,0.16,0.17,0.18,0.19,0.2,0.21,0.22,0.23,0.24,0.25,0.26,0.27,0.28,0.29,0.3,0.31,0.32,0.33,0.34,0.35000000000000003,0.36,0.37,0.38,0.39,0.4,0.41000000000000003,0.42,0.43,0.44,0.45,0.46,0.47000000000000003,0.48,0.49,0.5,0.51,0.52,0.53,0.54,0.55,0.56,0.5700000000000001,0.58,0.59,0.6,0.61,0.62,0.63,0.64,0.65,0.66,0.67,0.68,0.6900000000000001,0.7000000000000001,0.71,0.72,0.73,0.74,0.75,0.76,0.77,0.78,0.79,0.8,0.81,0.8200000000000001,0.8300000000000001,0.84,0.85,0.86,0.87,0.88,0.89,0.9,0.91,0.92,0.93,0.9400000000000001,0.9500000000000001,0.96,0.97,0.98,0.99],\"y\":[-0.20501069290412222,-0.11704994932333658,-0.033026524761727793,0.04705353174578589,0.12318674106026961,0.19537227579071953,0.26361203883686546,0.32791073862283054,0.388275961021646,0.44471823797062227,0.4972511127775763,0.5458912021179141,0.5906582547225705,0.6315752067568023,0.6686682338898424,0.7019668000554029,0.7315037029030409,0.757315115940375,0.7794406273661618,0.7979232755942263,0.8128095814682469,0.824149577167401,0.831996831802861,0.83640847370515,0.8374452094023519,0.8351713392891784,0.8296547699868915,0.8209670233940816,0.8091832424283003,0.7943821934585551,0.7766462654286506,0.7560614656713951,0.732717412413654,0.7067073239722705,0.6781280046408291,0.647079827267286,0.6136667125224511,0.5779961048593223,0.5401789451632846,0.5003296400931547,0.4585660281130921,0.41500934221536,0.369784169333939,0.32301840644900404,0.2748432133822556,0.22539296228310324,0.17480518380570853,0.12322050997687839,0.0707826137548313,0.017638145278785267,-0.03606333519055127,-0.09016942763967695,-0.144524965980116,-0.1989720950353746,-0.2533503508370618,-0.3074967442301464,-0.3612458477873455,-0.4144298860326705,-0.46687882897412347,-0.5184204889455115,-0.5688806207574348,-0.6180830251574001,-0.6658496555990814,-0.7120007283207341,-0.756354835732739,-0.7987290631142994,-0.8389391086192779,-0.8767994065911902,-0.9121232541873123,-0.9447229413119747,-0.9744098838589617,-1.0009947602630689,-1.0242876513608214,-1.0440981835603083,-1.0602356753201843,-1.0725092869377812,-1.0807281736464276,-1.0847016420218285,-1.0842393096976704,-1.0791512683903086,-1.0692482502326275,-1.0543417974170435,-1.0342444351476576,-1.0087698479015224,-0.9777330589990889,-0.940950613483782,-0.8982407643107067,-0.8494236618445292,-0.7943215466664739,-0.7327589456904811,-0.6645628715884939,-0.5895630255249138,-0.5075920032001626,-0.41848550420344033,-0.3220825446745703,-0.21822567327501474,-0.10676119046806143,0.012460628891897585,0.1395853096608981,0.27475394719784063],\"type\":\"scatter\",\"xaxis\":\"x2\",\"yaxis\":\"y2\"},{\"marker\":{\"color\":\"mediumpurple\"},\"mode\":\"markers\",\"x\":[0.3745401188473625,0.9507143064099162,0.7319939418114051,0.5986584841970366,0.15601864044243652,0.15599452033620265,0.05808361216819946,0.8661761457749352,0.6011150117432088,0.7080725777960455],\"y\":[0.6621995859491285,-0.2504894367193866,-1.0399487832345553,-0.6275182299806012,0.854857342681687,0.6392487011533475,0.18441089666331875,-0.8014323286500792,-0.6947217251134631,-0.9340757540684701],\"type\":\"scatter\",\"xaxis\":\"x3\",\"yaxis\":\"y3\"},{\"line\":{\"color\":\"lightgreen\"},\"mode\":\"lines\",\"x\":[0.0,0.01,0.02,0.03,0.04,0.05,0.06,0.07,0.08,0.09,0.1,0.11,0.12,0.13,0.14,0.15,0.16,0.17,0.18,0.19,0.2,0.21,0.22,0.23,0.24,0.25,0.26,0.27,0.28,0.29,0.3,0.31,0.32,0.33,0.34,0.35000000000000003,0.36,0.37,0.38,0.39,0.4,0.41000000000000003,0.42,0.43,0.44,0.45,0.46,0.47000000000000003,0.48,0.49,0.5,0.51,0.52,0.53,0.54,0.55,0.56,0.5700000000000001,0.58,0.59,0.6,0.61,0.62,0.63,0.64,0.65,0.66,0.67,0.68,0.6900000000000001,0.7000000000000001,0.71,0.72,0.73,0.74,0.75,0.76,0.77,0.78,0.79,0.8,0.81,0.8200000000000001,0.8300000000000001,0.84,0.85,0.86,0.87,0.88,0.89,0.9,0.91,0.92,0.93,0.9400000000000001,0.9500000000000001,0.96,0.97,0.98,0.99],\"y\":[0.0,0.06279051952931337,0.12533323356430426,0.1873813145857246,0.2486898871648548,0.3090169943749474,0.3681245526846779,0.4257792915650727,0.4817536741017153,0.5358267949789967,0.5877852522924731,0.6374239897486896,0.6845471059286886,0.7289686274214116,0.7705132427757893,0.8090169943749475,0.8443279255020151,0.8763066800438637,0.9048270524660196,0.9297764858882513,0.9510565162951535,0.9685831611286311,0.9822872507286886,0.9921147013144779,0.9980267284282716,1.0,0.9980267284282716,0.9921147013144778,0.9822872507286886,0.9685831611286312,0.9510565162951536,0.9297764858882513,0.9048270524660195,0.8763066800438635,0.844327925502015,0.8090169943749475,0.7705132427757893,0.7289686274214114,0.6845471059286888,0.6374239897486899,0.5877852522924732,0.5358267949789967,0.4817536741017156,0.4257792915650729,0.36812455268467814,0.3090169943749475,0.24868988716485482,0.18738131458572457,0.12533323356430454,0.06279051952931358,1.2246467991473532e-16,-0.06279051952931335,-0.12533323356430429,-0.18738131458572477,-0.24868988716485502,-0.30901699437494773,-0.3681245526846783,-0.42577929156507266,-0.481753674101715,-0.5358267949789964,-0.587785252292473,-0.6374239897486896,-0.6845471059286887,-0.7289686274214113,-0.7705132427757894,-0.8090169943749473,-0.8443279255020153,-0.8763066800438636,-0.9048270524660198,-0.9297764858882515,-0.9510565162951535,-0.968583161128631,-0.9822872507286887,-0.9921147013144778,-0.9980267284282716,-1.0,-0.9980267284282716,-0.9921147013144779,-0.9822872507286887,-0.9685831611286311,-0.9510565162951536,-0.9297764858882512,-0.9048270524660196,-0.8763066800438634,-0.8443279255020155,-0.8090169943749476,-0.7705132427757896,-0.7289686274214116,-0.684547105928689,-0.6374239897486896,-0.5877852522924734,-0.5358267949789963,-0.4817536741017153,-0.4257792915650722,-0.36812455268467786,-0.3090169943749476,-0.24868988716485535,-0.18738131458572468,-0.12533323356430465,-0.06279051952931326],\"type\":\"scatter\",\"xaxis\":\"x3\",\"yaxis\":\"y3\"},{\"line\":{\"color\":\"lightsalmon\"},\"mode\":\"lines\",\"x\":[0.0,0.01,0.02,0.03,0.04,0.05,0.06,0.07,0.08,0.09,0.1,0.11,0.12,0.13,0.14,0.15,0.16,0.17,0.18,0.19,0.2,0.21,0.22,0.23,0.24,0.25,0.26,0.27,0.28,0.29,0.3,0.31,0.32,0.33,0.34,0.35000000000000003,0.36,0.37,0.38,0.39,0.4,0.41000000000000003,0.42,0.43,0.44,0.45,0.46,0.47000000000000003,0.48,0.49,0.5,0.51,0.52,0.53,0.54,0.55,0.56,0.5700000000000001,0.58,0.59,0.6,0.61,0.62,0.63,0.64,0.65,0.66,0.67,0.68,0.6900000000000001,0.7000000000000001,0.71,0.72,0.73,0.74,0.75,0.76,0.77,0.78,0.79,0.8,0.81,0.8200000000000001,0.8300000000000001,0.84,0.85,0.86,0.87,0.88,0.89,0.9,0.91,0.92,0.93,0.9400000000000001,0.9500000000000001,0.96,0.97,0.98,0.99],\"y\":[-0.1901811784268128,-0.10792035965542622,-0.02885807313535077,0.04697776242612653,0.11956037804982522,0.18886424425390735,0.25486516507589363,0.3175403764825136,0.3768686493002428,0.43283039679614166,0.48540778703416676,0.5345848601263326,0.580347650490786,0.622684314219811,0.661585261649813,0.6970432952122245,0.7290537526287326,0.7576146554960711,0.7827268632844657,0.8043942327494601,0.8226237827288687,0.8374258642647489,0.8488143359540978,0.8568067443911824,0.8614245095185074,0.8626931146520935,0.8606423008894728,0.8553062655452679,0.8467238641888539,0.8349388157810951,0.8199999103219566,0.8019612183275564,0.7808823013535087,0.7568284226708242,0.7298707570808367,0.7000865987263007,0.6675595656166711,0.632379799436463,0.5946441590463851,0.5544564059175383,0.5119273795596242,0.4671751608147705,0.420325220689894,0.3715105521927753,0.3208717824210203,0.2685572619298018,0.21472312817473638,0.1595333395920724,0.10315967664115044,0.04578170589590691,-0.012413296964342013,-0.07123046964684088,-0.13046753582665227,-0.1899150326367387,-0.2493565980836756,-0.3085693235821001,-0.3673241769511204,-0.4253865013331444,-0.48251659557337145,-0.5384703816280618,-0.5930001645435299,-0.6458554904551885,-0.6967841078867689,-0.745533037371577,-0.7918497540577016,-0.8354834874826818,-0.8761866420947824,-0.913716341340292,-0.9478360972103843,-0.9783176060264864,-1.0049426699175195,-1.02750524188151,-1.0458135905017327,-1.059692578274964,-1.0689860450764614,-1.0735592854988791,-1.0733016056256233,-1.0681289411936792,-1.0579865150260535,-1.0428515070246256,-1.0227357048628836,-0.9976880977534579,-0.9677973692328212,-0.9331942377464078,-0.8940535858689964,-0.8505963101909799,-0.8030908141693285,-0.7518540555075202,-0.6972520478096369,-0.6396997032653831,-0.5796598888725093,-0.5176415530950784,-0.4541967627863066,-0.389916471564991,-0.3254248205087844,-0.26137174989328216,-0.19842367663403948,-0.13725196594152322,-0.07851889733283102,-0.022860794405021423],\"type\":\"scatter\",\"xaxis\":\"x3\",\"yaxis\":\"y3\"}],                        {\"template\":{\"data\":{\"histogram2dcontour\":[{\"type\":\"histogram2dcontour\",\"colorbar\":{\"outlinewidth\":0,\"ticks\":\"\"},\"colorscale\":[[0.0,\"#0d0887\"],[0.1111111111111111,\"#46039f\"],[0.2222222222222222,\"#7201a8\"],[0.3333333333333333,\"#9c179e\"],[0.4444444444444444,\"#bd3786\"],[0.5555555555555556,\"#d8576b\"],[0.6666666666666666,\"#ed7953\"],[0.7777777777777778,\"#fb9f3a\"],[0.8888888888888888,\"#fdca26\"],[1.0,\"#f0f921\"]]}],\"choropleth\":[{\"type\":\"choropleth\",\"colorbar\":{\"outlinewidth\":0,\"ticks\":\"\"}}],\"histogram2d\":[{\"type\":\"histogram2d\",\"colorbar\":{\"outlinewidth\":0,\"ticks\":\"\"},\"colorscale\":[[0.0,\"#0d0887\"],[0.1111111111111111,\"#46039f\"],[0.2222222222222222,\"#7201a8\"],[0.3333333333333333,\"#9c179e\"],[0.4444444444444444,\"#bd3786\"],[0.5555555555555556,\"#d8576b\"],[0.6666666666666666,\"#ed7953\"],[0.7777777777777778,\"#fb9f3a\"],[0.8888888888888888,\"#fdca26\"],[1.0,\"#f0f921\"]]}],\"heatmap\":[{\"type\":\"heatmap\",\"colorbar\":{\"outlinewidth\":0,\"ticks\":\"\"},\"colorscale\":[[0.0,\"#0d0887\"],[0.1111111111111111,\"#46039f\"],[0.2222222222222222,\"#7201a8\"],[0.3333333333333333,\"#9c179e\"],[0.4444444444444444,\"#bd3786\"],[0.5555555555555556,\"#d8576b\"],[0.6666666666666666,\"#ed7953\"],[0.7777777777777778,\"#fb9f3a\"],[0.8888888888888888,\"#fdca26\"],[1.0,\"#f0f921\"]]}],\"heatmapgl\":[{\"type\":\"heatmapgl\",\"colorbar\":{\"outlinewidth\":0,\"ticks\":\"\"},\"colorscale\":[[0.0,\"#0d0887\"],[0.1111111111111111,\"#46039f\"],[0.2222222222222222,\"#7201a8\"],[0.3333333333333333,\"#9c179e\"],[0.4444444444444444,\"#bd3786\"],[0.5555555555555556,\"#d8576b\"],[0.6666666666666666,\"#ed7953\"],[0.7777777777777778,\"#fb9f3a\"],[0.8888888888888888,\"#fdca26\"],[1.0,\"#f0f921\"]]}],\"contourcarpet\":[{\"type\":\"contourcarpet\",\"colorbar\":{\"outlinewidth\":0,\"ticks\":\"\"}}],\"contour\":[{\"type\":\"contour\",\"colorbar\":{\"outlinewidth\":0,\"ticks\":\"\"},\"colorscale\":[[0.0,\"#0d0887\"],[0.1111111111111111,\"#46039f\"],[0.2222222222222222,\"#7201a8\"],[0.3333333333333333,\"#9c179e\"],[0.4444444444444444,\"#bd3786\"],[0.5555555555555556,\"#d8576b\"],[0.6666666666666666,\"#ed7953\"],[0.7777777777777778,\"#fb9f3a\"],[0.8888888888888888,\"#fdca26\"],[1.0,\"#f0f921\"]]}],\"surface\":[{\"type\":\"surface\",\"colorbar\":{\"outlinewidth\":0,\"ticks\":\"\"},\"colorscale\":[[0.0,\"#0d0887\"],[0.1111111111111111,\"#46039f\"],[0.2222222222222222,\"#7201a8\"],[0.3333333333333333,\"#9c179e\"],[0.4444444444444444,\"#bd3786\"],[0.5555555555555556,\"#d8576b\"],[0.6666666666666666,\"#ed7953\"],[0.7777777777777778,\"#fb9f3a\"],[0.8888888888888888,\"#fdca26\"],[1.0,\"#f0f921\"]]}],\"mesh3d\":[{\"type\":\"mesh3d\",\"colorbar\":{\"outlinewidth\":0,\"ticks\":\"\"}}],\"scatter\":[{\"fillpattern\":{\"fillmode\":\"overlay\",\"size\":10,\"solidity\":0.2},\"type\":\"scatter\"}],\"parcoords\":[{\"type\":\"parcoords\",\"line\":{\"colorbar\":{\"outlinewidth\":0,\"ticks\":\"\"}}}],\"scatterpolargl\":[{\"type\":\"scatterpolargl\",\"marker\":{\"colorbar\":{\"outlinewidth\":0,\"ticks\":\"\"}}}],\"bar\":[{\"error_x\":{\"color\":\"#2a3f5f\"},\"error_y\":{\"color\":\"#2a3f5f\"},\"marker\":{\"line\":{\"color\":\"#E5ECF6\",\"width\":0.5},\"pattern\":{\"fillmode\":\"overlay\",\"size\":10,\"solidity\":0.2}},\"type\":\"bar\"}],\"scattergeo\":[{\"type\":\"scattergeo\",\"marker\":{\"colorbar\":{\"outlinewidth\":0,\"ticks\":\"\"}}}],\"scatterpolar\":[{\"type\":\"scatterpolar\",\"marker\":{\"colorbar\":{\"outlinewidth\":0,\"ticks\":\"\"}}}],\"histogram\":[{\"marker\":{\"pattern\":{\"fillmode\":\"overlay\",\"size\":10,\"solidity\":0.2}},\"type\":\"histogram\"}],\"scattergl\":[{\"type\":\"scattergl\",\"marker\":{\"colorbar\":{\"outlinewidth\":0,\"ticks\":\"\"}}}],\"scatter3d\":[{\"type\":\"scatter3d\",\"line\":{\"colorbar\":{\"outlinewidth\":0,\"ticks\":\"\"}},\"marker\":{\"colorbar\":{\"outlinewidth\":0,\"ticks\":\"\"}}}],\"scattermapbox\":[{\"type\":\"scattermapbox\",\"marker\":{\"colorbar\":{\"outlinewidth\":0,\"ticks\":\"\"}}}],\"scatterternary\":[{\"type\":\"scatterternary\",\"marker\":{\"colorbar\":{\"outlinewidth\":0,\"ticks\":\"\"}}}],\"scattercarpet\":[{\"type\":\"scattercarpet\",\"marker\":{\"colorbar\":{\"outlinewidth\":0,\"ticks\":\"\"}}}],\"carpet\":[{\"aaxis\":{\"endlinecolor\":\"#2a3f5f\",\"gridcolor\":\"white\",\"linecolor\":\"white\",\"minorgridcolor\":\"white\",\"startlinecolor\":\"#2a3f5f\"},\"baxis\":{\"endlinecolor\":\"#2a3f5f\",\"gridcolor\":\"white\",\"linecolor\":\"white\",\"minorgridcolor\":\"white\",\"startlinecolor\":\"#2a3f5f\"},\"type\":\"carpet\"}],\"table\":[{\"cells\":{\"fill\":{\"color\":\"#EBF0F8\"},\"line\":{\"color\":\"white\"}},\"header\":{\"fill\":{\"color\":\"#C8D4E3\"},\"line\":{\"color\":\"white\"}},\"type\":\"table\"}],\"barpolar\":[{\"marker\":{\"line\":{\"color\":\"#E5ECF6\",\"width\":0.5},\"pattern\":{\"fillmode\":\"overlay\",\"size\":10,\"solidity\":0.2}},\"type\":\"barpolar\"}],\"pie\":[{\"automargin\":true,\"type\":\"pie\"}]},\"layout\":{\"autotypenumbers\":\"strict\",\"colorway\":[\"#636efa\",\"#EF553B\",\"#00cc96\",\"#ab63fa\",\"#FFA15A\",\"#19d3f3\",\"#FF6692\",\"#B6E880\",\"#FF97FF\",\"#FECB52\"],\"font\":{\"color\":\"#2a3f5f\"},\"hovermode\":\"closest\",\"hoverlabel\":{\"align\":\"left\"},\"paper_bgcolor\":\"white\",\"plot_bgcolor\":\"#E5ECF6\",\"polar\":{\"bgcolor\":\"#E5ECF6\",\"angularaxis\":{\"gridcolor\":\"white\",\"linecolor\":\"white\",\"ticks\":\"\"},\"radialaxis\":{\"gridcolor\":\"white\",\"linecolor\":\"white\",\"ticks\":\"\"}},\"ternary\":{\"bgcolor\":\"#E5ECF6\",\"aaxis\":{\"gridcolor\":\"white\",\"linecolor\":\"white\",\"ticks\":\"\"},\"baxis\":{\"gridcolor\":\"white\",\"linecolor\":\"white\",\"ticks\":\"\"},\"caxis\":{\"gridcolor\":\"white\",\"linecolor\":\"white\",\"ticks\":\"\"}},\"coloraxis\":{\"colorbar\":{\"outlinewidth\":0,\"ticks\":\"\"}},\"colorscale\":{\"sequential\":[[0.0,\"#0d0887\"],[0.1111111111111111,\"#46039f\"],[0.2222222222222222,\"#7201a8\"],[0.3333333333333333,\"#9c179e\"],[0.4444444444444444,\"#bd3786\"],[0.5555555555555556,\"#d8576b\"],[0.6666666666666666,\"#ed7953\"],[0.7777777777777778,\"#fb9f3a\"],[0.8888888888888888,\"#fdca26\"],[1.0,\"#f0f921\"]],\"sequentialminus\":[[0.0,\"#0d0887\"],[0.1111111111111111,\"#46039f\"],[0.2222222222222222,\"#7201a8\"],[0.3333333333333333,\"#9c179e\"],[0.4444444444444444,\"#bd3786\"],[0.5555555555555556,\"#d8576b\"],[0.6666666666666666,\"#ed7953\"],[0.7777777777777778,\"#fb9f3a\"],[0.8888888888888888,\"#fdca26\"],[1.0,\"#f0f921\"]],\"diverging\":[[0,\"#8e0152\"],[0.1,\"#c51b7d\"],[0.2,\"#de77ae\"],[0.3,\"#f1b6da\"],[0.4,\"#fde0ef\"],[0.5,\"#f7f7f7\"],[0.6,\"#e6f5d0\"],[0.7,\"#b8e186\"],[0.8,\"#7fbc41\"],[0.9,\"#4d9221\"],[1,\"#276419\"]]},\"xaxis\":{\"gridcolor\":\"white\",\"linecolor\":\"white\",\"ticks\":\"\",\"title\":{\"standoff\":15},\"zerolinecolor\":\"white\",\"automargin\":true,\"zerolinewidth\":2},\"yaxis\":{\"gridcolor\":\"white\",\"linecolor\":\"white\",\"ticks\":\"\",\"title\":{\"standoff\":15},\"zerolinecolor\":\"white\",\"automargin\":true,\"zerolinewidth\":2},\"scene\":{\"xaxis\":{\"backgroundcolor\":\"#E5ECF6\",\"gridcolor\":\"white\",\"linecolor\":\"white\",\"showbackground\":true,\"ticks\":\"\",\"zerolinecolor\":\"white\",\"gridwidth\":2},\"yaxis\":{\"backgroundcolor\":\"#E5ECF6\",\"gridcolor\":\"white\",\"linecolor\":\"white\",\"showbackground\":true,\"ticks\":\"\",\"zerolinecolor\":\"white\",\"gridwidth\":2},\"zaxis\":{\"backgroundcolor\":\"#E5ECF6\",\"gridcolor\":\"white\",\"linecolor\":\"white\",\"showbackground\":true,\"ticks\":\"\",\"zerolinecolor\":\"white\",\"gridwidth\":2}},\"shapedefaults\":{\"line\":{\"color\":\"#2a3f5f\"}},\"annotationdefaults\":{\"arrowcolor\":\"#2a3f5f\",\"arrowhead\":0,\"arrowwidth\":1},\"geo\":{\"bgcolor\":\"white\",\"landcolor\":\"#E5ECF6\",\"subunitcolor\":\"white\",\"showland\":true,\"showlakes\":true,\"lakecolor\":\"white\"},\"title\":{\"x\":0.05},\"mapbox\":{\"style\":\"light\"}}},\"xaxis\":{\"anchor\":\"y\",\"domain\":[0.0,0.2888888888888889],\"title\":{\"text\":\"x\\u003cbr\\u003e\\u003cbr\\u003e\\u003cbr\\u003ea: 1.92\\u003cbr\\u003eb: -3.66\\u003cbr\\u003ec: 1.01\"},\"range\":[0,1]},\"yaxis\":{\"anchor\":\"x\",\"domain\":[0.0,1.0],\"title\":{\"text\":\"t\"},\"range\":[-5,5]},\"xaxis2\":{\"anchor\":\"y2\",\"domain\":[0.35555555555555557,0.6444444444444445],\"title\":{\"text\":\"x\\u003cbr\\u003e\\u003cbr\\u003e\\u003cbr\\u003ea: -4.6\\u003cbr\\u003eb: 7.51\\u003cbr\\u003ec: 9.99\\u003cbr\\u003ed: -1.63\\u003cbr\\u003ee: -19.64\\u003cbr\\u003ef: 8.99\\u003cbr\\u003eg: -0.21\"},\"range\":[0,1]},\"yaxis2\":{\"anchor\":\"x2\",\"domain\":[0.0,1.0],\"title\":{\"text\":\"t\"},\"range\":[-5,5]},\"xaxis3\":{\"anchor\":\"y3\",\"domain\":[0.7111111111111111,1.0],\"title\":{\"text\":\"x\\u003cbr\\u003e\\u003cbr\\u003e\\u003cbr\\u003ea: 1.87\\u003cbr\\u003eb: 0.51\\u003cbr\\u003ec: -0.75\\u003cbr\\u003ed: -1.77\\u003cbr\\u003ee: -2.37\\u003cbr\\u003ef: -2.35\\u003cbr\\u003eg: -1.52\\u003cbr\\u003eh: 0.21\\u003cbr\\u003ei: 2.71\\u003cbr\\u003ej: 5.34\\u003cbr\\u003ek: 6.64\\u003cbr\\u003el: 4.09\\u003cbr\\u003em: -4.92\\u003cbr\\u003en: -15.85\\u003cbr\\u003eo: 8.39\\u003cbr\\u003ep: -0.19\"},\"range\":[0,1]},\"yaxis3\":{\"anchor\":\"x3\",\"domain\":[0.0,1.0],\"title\":{\"text\":\"t\"},\"range\":[-5,5]},\"annotations\":[{\"font\":{\"size\":16},\"showarrow\":false,\"text\":\"poly2 fit\",\"x\":0.14444444444444446,\"xanchor\":\"center\",\"xref\":\"paper\",\"y\":1.0,\"yanchor\":\"bottom\",\"yref\":\"paper\"},{\"font\":{\"size\":16},\"showarrow\":false,\"text\":\"poly6 fit\",\"x\":0.5,\"xanchor\":\"center\",\"xref\":\"paper\",\"y\":1.0,\"yanchor\":\"bottom\",\"yref\":\"paper\"},{\"font\":{\"size\":16},\"showarrow\":false,\"text\":\"poly15 fit\",\"x\":0.8555555555555556,\"xanchor\":\"center\",\"xref\":\"paper\",\"y\":1.0,\"yanchor\":\"bottom\",\"yref\":\"paper\"}],\"showlegend\":false,\"title\":{\"text\":\"Polynomial fits and their coefficients\"},\"height\":700,\"width\":1300},                        {\"responsive\": true}                    ).then(function(){\n",
              "                            \n",
              "var gd = document.getElementById('5c7fa1dc-70bc-466d-8360-2cc3561017c6');\n",
              "var x = new MutationObserver(function (mutations, observer) {{\n",
              "        var display = window.getComputedStyle(gd).display;\n",
              "        if (!display || display === 'none') {{\n",
              "            console.log([gd, 'removed!']);\n",
              "            Plotly.purge(gd);\n",
              "            observer.disconnect();\n",
              "        }}\n",
              "}});\n",
              "\n",
              "// Listen for the removal of the full notebook cells\n",
              "var notebookContainer = gd.closest('#notebook-container');\n",
              "if (notebookContainer) {{\n",
              "    x.observe(notebookContainer, {childList: true});\n",
              "}}\n",
              "\n",
              "// Listen for the clearing of the current output cell\n",
              "var outputEl = gd.closest('.output');\n",
              "if (outputEl) {{\n",
              "    x.observe(outputEl, {childList: true});\n",
              "}}\n",
              "\n",
              "                        })                };                            </script>        </div>\n",
              "</body>\n",
              "</html>"
            ]
          },
          "metadata": {}
        }
      ]
    },
    {
      "cell_type": "markdown",
      "metadata": {
        "id": "3vQ8ittKYZjQ"
      },
      "source": [
        "Not so easy to tune, isn't it?\n",
        "\n",
        "Look at the magnitude of those parameters though, not spiking up anymore!\n",
        "\n",
        "It's a good moment to take a break, two new Pytorch classes await us in the next sections!"
      ]
    },
    {
      "cell_type": "markdown",
      "metadata": {
        "id": "Tvpx3YbdcKlK"
      },
      "source": [
        "## PyTorch Dataset"
      ]
    },
    {
      "cell_type": "markdown",
      "source": [
        "**Preamble:** In deep learning, we deal with data all the time -- so let's make sure we do it the best possible way! What follows is needed for next week's notebook (where we will write a learning model to automatically classify handwritten digits) and will be _fundamental_ for our deep neural networks all throughout the course.\n",
        "\n",
        "Let's head on!\n",
        "\n",
        "In PyTorch (and other common frameworks) you can decouple the code that *manages* the data from the code that *uses* the data.\n",
        "\n",
        "This produces simpler and more understandable code, and enables the possibility to re-use the same dataset with different models or the same model with different datasets.\n",
        "\n",
        "In the following sections, we will have a glimpse into how to manage the data pipeline.\n",
        "\n",
        "[`torch.utils.data.Dataset`](https://pytorch.org/docs/stable/data.html?highlight=dataset#torch.utils.data.Dataset) is an abstract class representing a dataset. Your custom dataset should inherit `Dataset` and override the following methods:\n",
        "\n",
        "- `__len__`: so that `len(dataset)` returns the size of the dataset\n",
        "- `__getitem__`: so that `dataset[i]` returns the $i$-th sample from the dataset.\n",
        "\n",
        "Let's create a toy dataset:"
      ],
      "metadata": {
        "id": "gUB7xjinRNYi"
      }
    },
    {
      "cell_type": "code",
      "metadata": {
        "id": "HclJRK7QdOZM"
      },
      "source": [
        "from torch.utils.data import Dataset\n",
        "\n",
        "class ToyDataset(Dataset):\n",
        "\n",
        "  def __init__(self, n_points: int = 20, noise: float = .1):\n",
        "    super().__init__()  # In python 3 this is enough\n",
        "\n",
        "    self.n_points = n_points\n",
        "\n",
        "    # these two lines pre-load the entire dataset in memory\n",
        "    self.x = torch.linspace(-1, 1, n_points)\n",
        "    self.y = self.x ** 3 + noise * torch.randn(n_points)\n",
        "\n",
        "  def __len__(self):\n",
        "    return self.n_points\n",
        "\n",
        "  def __getitem__(self, idx):\n",
        "    return {\n",
        "        'x': self.x[idx],\n",
        "        'y': self.y[idx]\n",
        "    }\n",
        "\n",
        "toydataset = ToyDataset(20, noise=.1)\n",
        "toydataset[5]"
      ],
      "execution_count": null,
      "outputs": []
    },
    {
      "cell_type": "markdown",
      "metadata": {
        "id": "BZRoEO92fefK"
      },
      "source": [
        "In this case the dataset is composed of simple pairs:"
      ]
    },
    {
      "cell_type": "code",
      "metadata": {
        "id": "Z-jhx5AUvQ2E"
      },
      "source": [
        "toydataset[2]"
      ],
      "execution_count": null,
      "outputs": []
    },
    {
      "cell_type": "code",
      "metadata": {
        "id": "M6vM4yKRfZEm"
      },
      "source": [
        "import plotly.express as px\n",
        "fig = px.scatter(x=toydataset.x.numpy(), y=toydataset.y.numpy())\n",
        "fig.show()"
      ],
      "execution_count": null,
      "outputs": []
    },
    {
      "cell_type": "markdown",
      "metadata": {
        "id": "NS0j3M_pgk8s"
      },
      "source": [
        "> **NOTE**\n",
        ">\n",
        "> Small Python reminder. Every object that implements the `__getitem__` method follows the [iterator procotol](https://www.python.org/dev/peps/pep-0234/#python-api-specification). It means that you can **iterate** the dataset:\n",
        "\n",
        "\n"
      ]
    },
    {
      "cell_type": "code",
      "metadata": {
        "id": "sMdwLEFDhZCu"
      },
      "source": [
        "from tqdm.notebook import tqdm as tqdm   # just a progress bar\n",
        "\n",
        "for sample in tqdm(toydataset):  # wrap the iterable in tqdm and you're done\n",
        "  pass"
      ],
      "execution_count": null,
      "outputs": []
    },
    {
      "cell_type": "markdown",
      "metadata": {
        "id": "9GXYYwNTfK7D"
      },
      "source": [
        "In the `ToyDataset` the whole dataset is stored **in memory**, i.e. in attributes of the `ToyDataset` class.\n",
        "This is the fastest and simplest way to implement a dataset, but it is **not always feasible**.\n",
        "What if you must train a neural network on 500GB of images?\n",
        "The whole dataset does not fit in memory!\n",
        "\n",
        "> For the same reason, using a single file to store the whole dataset does not scale with the dataset size.\n",
        ">\n",
        "> *Obviously, this depends on the file format used, e.g. it is perfectly fine if we are dealing with `HDF5` files*\n",
        "\n",
        "The `Dataset` abstraction is particularly useful when implementing *lazy loading* policies, that is, when you load each item **only when you need it**.\n",
        "You can even apply some preprocessing on the fly, to each item.\n",
        "\n",
        "One example of how it can be done:\n",
        "\n",
        "```python\n",
        "class LazyDataset(Dataset):\n",
        "\n",
        "  def __init__(self, file_paths: Sequence[Path]):\n",
        "    super().__init__()  \n",
        "    self.file_paths = file_paths\n",
        "\n",
        "  def __len__(self):\n",
        "    return len(self.file_paths)\n",
        "\n",
        "  def __getitem__(self, idx):\n",
        "    sample_path = self.file_paths[idx]\n",
        "\n",
        "    # -> Load sample_path in memory\n",
        "    # -> Perform some lightweight preprocessing\n",
        "    # -> Generate (sample_input, sample_output)\n",
        "\n",
        "    return {\n",
        "        'x': sample_input,\n",
        "        'y': sample_output\n",
        "    }\n",
        "\n",
        "```\n"
      ]
    },
    {
      "cell_type": "markdown",
      "metadata": {
        "id": "P79iR6q0gIzw"
      },
      "source": [
        "**NOTE**\n",
        "\n",
        "The dataset can return any type of object, you are *not* forced to return a dictionary of tensors:\n",
        "\n"
      ]
    },
    {
      "cell_type": "code",
      "metadata": {
        "id": "nDg1ggjdiMA4"
      },
      "source": [
        "from torch.utils.data import Dataset\n",
        "\n",
        "class AnotherDataset(Dataset):\n",
        "  def __init__(self):\n",
        "    super().__init__()\n",
        "    self.myitems = torch.arange(100)\n",
        "\n",
        "  def __len__(self):\n",
        "    return len(self.myitems)\n",
        "\n",
        "  def __getitem__(self, idx):\n",
        "    return f'Sample{idx}', self.myitems[idx], None, 3.5\n",
        "\n",
        "dataset = AnotherDataset()\n",
        "dataset[5]"
      ],
      "execution_count": null,
      "outputs": []
    },
    {
      "cell_type": "markdown",
      "metadata": {
        "id": "zOwlr_u2iLh6"
      },
      "source": [
        "\n",
        "However, it is often useful to return a dictionary of tensors.\n",
        "\n",
        "⚠️ Do *not* return tensors that are stored on the GPU memory, as it [causes problems](https://pytorch.org/docs/stable/data.html#multi-process-data-loading) with the multiprocessing behavior of the DataLoader. We'll see memory pinning as a preferred way, further below.\n",
        "\n",
        "Returning a dictionary of tensors will:\n",
        "\n",
        "- Make your code more readable\n",
        "- Ease the batch creation process: you may use the `DataLoader` default `collate_fn` (we'll see this in a second)"
      ]
    },
    {
      "cell_type": "markdown",
      "metadata": {
        "id": "ndnx7HJxkvXH"
      },
      "source": [
        "## PyTorch DataLoader"
      ]
    },
    {
      "cell_type": "markdown",
      "source": [
        "\n",
        "[`torch.utils.data.DataLoader`](https://pytorch.org/docs/stable/data.html?highlight=dataloader#torch.utils.data.DataLoader) is an iterator that provides:\n",
        "\n",
        "- Data batching\n",
        "- Data shuffling\n",
        "- Parallel data loading using `multiprocessing` workers. Meaning that while the `GPU` is performing some computation on a batch, in parallel you can load the next batch.\n",
        "\n",
        "\n",
        "Creating a dataloader from a dataset is straightforward. Here's an example that highlights some of the most used parameters:"
      ],
      "metadata": {
        "id": "G_peCB8pRTn7"
      }
    },
    {
      "cell_type": "code",
      "metadata": {
        "id": "bNxfH3vayfVx"
      },
      "source": [
        "from torch.utils.data import DataLoader\n",
        "\n",
        "toydataset = ToyDataset(200)\n",
        "toyloader = DataLoader(toydataset,\n",
        "                       batch_size=8,    # number of elements in each batch\n",
        "                       shuffle=True,    # shuffle the dataset\n",
        "                       num_workers=4,   # number of workers, i.e. batches to prefetch\n",
        "                       pin_memory=True  # return memory-pinned tensors, see below for an explanation!\n",
        "                       )\n",
        "\n",
        "# 200 iterations\n",
        "for sample in tqdm(toydataset):\n",
        "  pass\n",
        "print(sample)\n",
        "\n",
        "# 25 iterations\n",
        "for batch in tqdm(toyloader):  # there is some overhead when using multiple workers!\n",
        "  pass\n",
        "batch"
      ],
      "execution_count": null,
      "outputs": []
    },
    {
      "cell_type": "markdown",
      "metadata": {
        "id": "Bm9Uhxbt52fy"
      },
      "source": [
        "If you are not returning a dictionary or some other form of regular structure from the dataset, you must manually specify *how* to put the samples together to form a batch. This can be done with the `collate_fn` parameter of the `DataLoader`.\n",
        "\n",
        "Please read these [docs](https://pytorch.org/docs/stable/data.html#loading-batched-and-non-batched-data) to understand the default behavior of `collate_fn` and how you can define custom `collate_fn` functions."
      ]
    },
    {
      "cell_type": "markdown",
      "metadata": {
        "id": "pALUlr9Czk_B"
      },
      "source": [
        "> **NOTE**\n",
        ">\n",
        "> The `DataLoader` is just an iterator, it can't be directly indexed!"
      ]
    },
    {
      "cell_type": "code",
      "metadata": {
        "id": "ijjb5ujOzpvQ"
      },
      "source": [
        "try:\n",
        "  toyloader[0]\n",
        "except Exception as e:\n",
        "  print('Error:', e)"
      ],
      "execution_count": null,
      "outputs": []
    },
    {
      "cell_type": "markdown",
      "metadata": {
        "id": "SYYP8rCj2-Ae"
      },
      "source": [
        "### 📖 Memory pinning"
      ]
    },
    {
      "cell_type": "markdown",
      "metadata": {
        "id": "GRqZeY_A1Ink"
      },
      "source": [
        "Pytorch tensors support [memory pinning](https://devblogs.nvidia.com/how-optimize-data-transfers-cuda-cc/):"
      ]
    },
    {
      "cell_type": "markdown",
      "metadata": {
        "id": "T1BIKzR36fww"
      },
      "source": [
        "![](https://devblogs.nvidia.com/wp-content/uploads/2012/12/pinned-1024x541.jpg)"
      ]
    },
    {
      "cell_type": "markdown",
      "metadata": {
        "id": "84rs4T_66ffq"
      },
      "source": [
        "\n",
        "Pinned tensors enable:\n",
        "- **Much faster copies** from CPU to GPU.\n",
        "- **Aynchronous GPU copies**: *while* the tensor is being transferred, the code continues if it doesn't need that tensor! To enable this, just pass an additional **`non_blocking=True`** argument to a `to()` or a `cuda()` call.  (**gpu operations are [asynchronous](https://pytorch.org/docs/stable/notes/cuda.html#asynchronous-execution) by default**)\n",
        "\n",
        "Given a tensor you can manually pin it:"
      ]
    },
    {
      "cell_type": "code",
      "metadata": {
        "id": "tF0GVdOq3tnG"
      },
      "source": [
        "t = torch.rand(100)\n",
        "t.is_pinned()"
      ],
      "execution_count": null,
      "outputs": []
    },
    {
      "cell_type": "code",
      "metadata": {
        "id": "6p_mlBoh3p-a"
      },
      "source": [
        "# be sure to use a GPU runtime, otherwise there's nothing to pin for!\n",
        "\n",
        "t = t.pin_memory()  # reassigning to t, because pin_memory() is not in-place"
      ],
      "execution_count": null,
      "outputs": []
    },
    {
      "cell_type": "code",
      "metadata": {
        "id": "kgFj15grDJPl"
      },
      "source": [
        "t.is_pinned()"
      ],
      "execution_count": null,
      "outputs": []
    },
    {
      "cell_type": "markdown",
      "metadata": {
        "id": "nY2UFPT14EkF"
      },
      "source": [
        "Passing `pin_memory=True` to a `DataLoader` will automatically put the fetched data tensors in pinned memory, enabling faster data transfer to CUDA-enabled GPUs.\n",
        "\n",
        "`DataLoader` only knows how to pin the standard types returned by `Dataset`; this includes Tensor, Map and Sequence of Tensors. If you want to pin some custom type, read more [here](https://pytorch.org/docs/stable/data.html#memory-pinning) (tldr: define a `pin_memory()` method on your custom type(s))."
      ]
    },
    {
      "cell_type": "code",
      "metadata": {
        "id": "5gNnoz6U5sMz"
      },
      "source": [
        "batch['x'].is_pinned()"
      ],
      "execution_count": null,
      "outputs": []
    },
    {
      "cell_type": "markdown",
      "metadata": {
        "id": "Q4l1TIvepi6H"
      },
      "source": [
        "### Troubleshooting bottlenecks\n",
        "Make sure the data loading is **not a bottleneck** in your pipeline.\n",
        "Your GPU must not **wait for data**.\n",
        "\n"
      ]
    },
    {
      "cell_type": "markdown",
      "metadata": {
        "id": "zFEIytCKlMsQ"
      },
      "source": [
        "#### How to check if your data loading is a bottleneck?\n",
        "\n",
        "##### **Check resource usage**\n",
        "\n",
        "Check the GPU (or CPU) usage, if it is ~$100\\%$ it is being fully utilised. This is good!\n",
        "\n",
        "Otherwise you may have a bottleneck somewhere, or your data operations may not be GPU friendly (e.g. small batches).\n",
        "\n",
        "\n",
        "##### **Check data loading speed**\n",
        "\n",
        "Iterate over the `Dataset` or `DataLoader` and check the data loading speed by counting the number of items that are loaded per second. Then compare this to how many items per second are processed by the rest of the pipeline.\n",
        "\n",
        "If you can load more items than you can process in the training loop, it means you _don't_ have a bottleneck in your data loading. The GPU is not waiting for you, good job!\n",
        "\n",
        "You can use the [tqdm](https://github.com/tqdm/tqdm) package to easily check the iteration speed of any iterable with a minimal overhead."
      ]
    },
    {
      "cell_type": "code",
      "metadata": {
        "id": "-PLGSqUenoTz"
      },
      "source": [
        "# Checking the loading speed\n",
        "from tqdm.notebook import tqdm as tqdm  # just a progress bar\n",
        "\n",
        "toydataset = ToyDataset(20000)\n",
        "toyloader = DataLoader(toydataset,\n",
        "                       batch_size=8,    # number of elements in each batch\n",
        "                       shuffle=True,    # shuffle the dataset\n",
        "                       num_workers=4,   # number of workers, i.e. batches to prefetch\n",
        "                       pin_memory=True  # return memory pinnded tensors\n",
        "                       )\n",
        "for batch in tqdm(toyloader):\n",
        "  pass\n",
        "\n",
        "# Example:\n",
        "# tqdm reports 350.00it/s (iterations per second) for the loader.\n",
        "# tqdm reports 280.12it/s for the training step given the data.\n",
        "# -> data loading is NOT a bottleneck!\n",
        "#\n",
        "# This scenario means your computation time is the primary factor in how long\n",
        "# each iteration takes, and the data loading process is efficient enough to keep\n",
        "# up with the computational demands."
      ],
      "execution_count": null,
      "outputs": []
    },
    {
      "cell_type": "markdown",
      "metadata": {
        "id": "DUhUSCRNoTQb"
      },
      "source": [
        "#### How to fix a bottleneck in the data loading?\n",
        "\n",
        "##### 1) **Use in-memory datasets**\n",
        "If your dataset fits on memory, load the whole dataset in memory.\n",
        "\n",
        "##### 2) **Tune DataLoader parameters**\n",
        "Tune the `num_workers` and `batch_size` parameter of the `DataLoader`, paying attention that the batch size will have a direct impact on the training. A good default for `num_workers` is the number of cores in your CPU.\n",
        "\n",
        "##### 3) **Do not preprocess on the fly**\n",
        "If you need preprocessing for your files, save the preprocessed files to disk.\n",
        "\n",
        "##### 4) **Speed up raw file loading**\n",
        "If even just loading the files from disk is slow, consider changing the way in which the files are stored (e.g. another [format](https://www.h5py.org/) or a [database](https://github.com/google/leveldb))."
      ]
    },
    {
      "cell_type": "markdown",
      "metadata": {
        "id": "34YGEYsZyBvS"
      },
      "source": [
        "> **NOTE**\n",
        ">\n",
        "> You can read much more on the `torch.utils.data` package [here](https://pytorch.org/docs/stable/data.html).\n",
        ">\n",
        "> Moreover, keep in mind that the [`torchvision`](https://pytorch.org/vision/stable/index.html) package provides some common datasets and transforms. We'll use it next week!"
      ]
    },
    {
      "cell_type": "markdown",
      "metadata": {
        "id": "JiCv7axFUEel"
      },
      "source": [
        "### Dataset and DataLoader exercises\n",
        "\n",
        "> **EXERCISE**\n",
        ">\n",
        "> You want to create a neural network that is able to learn how to recover corrupted images from the [CIFAR10](https://www.cs.toronto.edu/~kriz/cifar.html) dataset. That is, given as input a corrupted image, the model outputs a corresponding uncorrupted version.\n",
        ">\n",
        "> You are free to choose the type of corruption to apply. Possible examples are: random noise, random black patches, random crop, random reflections, all the previous together.\n",
        ">\n",
        "> 1) Think about the data pipeline this model would require. What should the dataset return?\n",
        ">\n",
        "> 2) Create the `Dataset` and `DataLoader` to implement it.\n",
        ">\n",
        "> 3) Plot the images in a **batch** to ensure you are doing everything right.\n",
        ">\n",
        ">  *hint*: you may use [`torchvision.datasets`](https://pytorch.org/vision/stable/datasets.html) and [`torchvision.transforms`](https://pytorch.org/vision/stable/transforms.html)"
      ]
    },
    {
      "cell_type": "code",
      "source": [
        "# ✏️ your code here"
      ],
      "metadata": {
        "id": "CuCHY0Zb-9pH"
      },
      "execution_count": null,
      "outputs": []
    },
    {
      "cell_type": "markdown",
      "metadata": {
        "id": "U07puKsVdCXZ"
      },
      "source": [
        "> **EXERCISE** *(discuss only)*\n",
        ">\n",
        "> Consider [The Abstraction and Reasoning Corpus (ARC)](https://github.com/fchollet/ARC).\n",
        ">\n",
        "> If you want, you can clone the ARC repository on your computer and play against some proposed tasks (without writing any program -- play yourself as a human!). It is enough to open `apps/testing_interface.html` in your browser.\n",
        ">\n",
        "> > *ARC can be seen as a general artificial intelligence benchmark, as a program synthesis benchmark, or as a psychometric intelligence test. It is targeted at both humans and artificially intelligent systems that aim at emulating a human-like form of general fluid intelligence.*\n",
        "> >\n",
        "> > **Dataset goal**\n",
        "> >\n",
        "> > A test-taker is said to solve a task when, upon seeing the task for the first time, they are able to produce the correct output grid for *all* test inputs in the task (this includes picking the dimensions of the output grid). For each test input, the test-taker is allowed 3 trials (this holds for all test-takers, either humans or AI).\n",
        "> >\n",
        "> > **Task file format**\n",
        "> >\n",
        "> > The `data` directory contains two subdirectories:\n",
        "> >\n",
        "> > - `data/training`: contains the task files for training (400 tasks). Use these to prototype your algorithm or to train your algorithm to acquire ARC-relevant cognitive priors.\n",
        "> > - `data/evaluation`: contains the task files for evaluation (400 tasks). Use these to evaluate your final algorithm. To ensure fair evaluation results, do not leak information from the evaluation set into your algorithm, e.g. by looking at the evaluation tasks yourself during development, or by repeatedly modifying an algorithm while using its evaluation score as feedback (remember that [this is conceptually wrong](#data-leakage)!).\n",
        "> >\n",
        "> > The tasks are stored in JSON format. Each task JSON file contains a dictionary with two fields:\n",
        "> >\n",
        "> > - `\"train\"`: demonstration input/output pairs. It is a list of \"pairs\" (typically 3 pairs).\n",
        "> > - `\"test\"`: test input/output pairs. It is a list of \"pairs\" (typically 1 pair).\n",
        "> >\n",
        "> > A \"pair\" is a dictionary with two fields:\n",
        "> >\n",
        "> > - `\"input\"`: the input \"grid\" for the pair.\n",
        "> > - `\"output\"`: the output \"grid\" for the pair.\n",
        "> >\n",
        "> > A \"grid\" is a rectangular matrix (list of lists) of integers between 0 and 9 (inclusive). The smallest possible grid size is 1x1 and the largest is 30x30.\n",
        ">\n",
        ">\n",
        "> - What would your`Dataset` return for this task?\n",
        "> - What would each batch contain?\n",
        ">\n",
        "> Discuss and compare your choices with your colleagues. Did you all make the same choices? Why or why not?\n"
      ]
    },
    {
      "cell_type": "markdown",
      "source": [
        "✏️ Write down your conclusions here"
      ],
      "metadata": {
        "id": "x9IwEqyp_E8t"
      }
    }
  ]
}